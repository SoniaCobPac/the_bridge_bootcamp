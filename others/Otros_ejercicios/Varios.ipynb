{
 "metadata": {
  "language_info": {
   "codemirror_mode": {
    "name": "ipython",
    "version": 3
   },
   "file_extension": ".py",
   "mimetype": "text/x-python",
   "name": "python",
   "nbconvert_exporter": "python",
   "pygments_lexer": "ipython3",
   "version": "3.7.4"
  },
  "orig_nbformat": 2,
  "kernelspec": {
   "name": "python374jvsc74a57bd02d8a740277f67c33143a8e5c8e55f738530a350d8def4a85d8635b690074994c",
   "display_name": "Python 3.7.4 64-bit"
  },
  "metadata": {
   "interpreter": {
    "hash": "2d8a740277f67c33143a8e5c8e55f738530a350d8def4a85d8635b690074994c"
   }
  }
 },
 "nbformat": 4,
 "nbformat_minor": 2,
 "cells": [
  {
   "cell_type": "code",
   "execution_count": null,
   "metadata": {},
   "outputs": [],
   "source": [
    "lista_alumnos = []\n",
    "\n",
    "import random\n",
    "\n",
    "alumno_aleatorio = random.choice(lista_alumnos)\n",
    "print(alumno_aleatorio)"
   ]
  },
  {
   "cell_type": "code",
   "execution_count": null,
   "metadata": {},
   "outputs": [],
   "source": [
    "seed = 12\n",
    "random.seed(seed)\n",
    "\n",
    "def get_key_from_value(dictionary, alumn):\n",
    "    return list(dictionary.keys())[list(dictionary.values()).index(alumn)]\n",
    "\n",
    "def create_presentation_shifts(students):\n",
    "    range_list = list(range(1, len(students) + 1))\n",
    "    random.shuffle(range_list)\n",
    "    student_turn_dict = dict(zip(range_list, students))\n",
    "    return {k: student_turn_dict[k] for k in sorted(student_turn_dict)}\n",
    "\n",
    "l = \"\"\n",
    "j = \"\"\n",
    "\n",
    "turns = create_presentation_shifts(students=lista_alumnos)\n",
    "\n",
    "s = get_key_from_value(dictionary=turns, alumn=j)\n",
    "d = get_key_from_value(dictionary=turns, alumn=l)\n",
    "\n",
    "while s <= 12 or d >=  6:\n",
    "    seed += 1\n",
    "    turns = create_presentation_shifts(students=lista_alumnos)\n",
    "    s = get_key_from_value(dictionary=turns, alumn=j)\n",
    "    d = get_key_from_value(dictionary=turns, alumn=l)\n",
    "\n",
    "print(\"seed:\", seed)\n",
    "turns"
   ]
  },
  {
   "cell_type": "code",
   "execution_count": 70,
   "metadata": {},
   "outputs": [],
   "source": [
    "diccionario = {\"1\":\"coruña\", \"2\":\"ALMERÍA\", \"3\":\"León\"}"
   ]
  },
  {
   "cell_type": "code",
   "execution_count": 71,
   "metadata": {},
   "outputs": [],
   "source": [
    "import ftfy\n",
    "import json\n",
    "import os\n",
    "\n",
    "def sfix(string):  \n",
    "    return ftfy.fix_text(string)"
   ]
  },
  {
   "cell_type": "code",
   "execution_count": 72,
   "metadata": {},
   "outputs": [
    {
     "output_type": "execute_result",
     "data": {
      "text/plain": [
       "{'1': 'coruña', '2': 'ALMERÍA', '3': 'León'}"
      ]
     },
     "metadata": {},
     "execution_count": 72
    }
   ],
   "source": [
    "diccionario_nuevo = {}\n",
    "\n",
    "for k, v in diccionario.items():\n",
    "    diccionario_nuevo[k] = (sfix(v))\n",
    "\n",
    "diccionario_nuevo"
   ]
  },
  {
   "cell_type": "code",
   "execution_count": 73,
   "metadata": {},
   "outputs": [],
   "source": [
    "convert = os.getcwd()+ os.sep+ \"diccionario_nuevo.json\"\n",
    "with open(f\"{convert}\", 'w+') as outfile:\n",
    "        json.dump(lista, outfile, indent=4)\n"
   ]
  },
  {
   "cell_type": "code",
   "execution_count": 74,
   "metadata": {},
   "outputs": [
    {
     "output_type": "execute_result",
     "data": {
      "text/plain": [
       "{'1': 'coruña', '2': 'ALMERÍA', '3': 'León'}"
      ]
     },
     "metadata": {},
     "execution_count": 74
    }
   ],
   "source": [
    "with open(\"diccionario_nuevo.json\", \"r+\") as outfile:\n",
    "    json_readed = json.load(outfile, encoding=\"latin-1\")\n",
    "json_readed"
   ]
  },
  {
   "cell_type": "code",
   "execution_count": null,
   "metadata": {},
   "outputs": [],
   "source": []
  }
 ]
}