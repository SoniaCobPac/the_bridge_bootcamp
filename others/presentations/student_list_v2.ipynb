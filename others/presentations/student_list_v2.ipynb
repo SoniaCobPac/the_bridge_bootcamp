{
 "cells": [
  {
   "cell_type": "code",
   "execution_count": 1,
   "metadata": {},
   "outputs": [],
   "source": [
    "import random\r\n",
    "\r\n",
    "def get_key_from_value(dictionary, alumn):\r\n",
    "    return list(dictionary.keys())[list(dictionary.values()).index(alumn)]\r\n",
    "\r\n",
    "def create_presentation_shifts(students, suffle=False):\r\n",
    "    range_list = list(range(1, len(students) + 1))\r\n",
    "    if suffle:\r\n",
    "        random.shuffle(range_list)\r\n",
    "    student_turn_dict = dict(zip(range_list, students))\r\n",
    "    return {k: student_turn_dict[k] for k in sorted(student_turn_dict)}"
   ]
  },
  {
   "cell_type": "code",
   "execution_count": 2,
   "metadata": {},
   "outputs": [
    {
     "data": {
      "text/plain": [
       "29022004"
      ]
     },
     "execution_count": 2,
     "metadata": {},
     "output_type": "execute_result"
    }
   ],
   "source": [
    "lista_alumnos = [(\"Nacho Fontal\", 1.82),(\"Javier Araiz\", 1.80),('Jonathan Suarez', 1.86),('Sonia Cobo', 1.73), ('Jorge García', 1.79), (\"Mary Meza\", 1.52), ('Leonardo Frazzetto', 1.75), (\"Nacho Astorga\",1.78),(\"José Carlos Batista\",1.70), (\"Isabel Palomares\", 1.78),(\"Marina Serrano\", 1.54), (\"Daniel Walker\", 1.87), (\"Gina Garrido\", 1.63), (\"Adrià Gallardo\", 1.70), (\"Mauro Garcia-Oliva\", 1.77), (\"Juan Bayon\", 1.64), (\"Miguel Barquero\", 1.85), (\"Xinru Yang\", 1.60),(\"Pablo Martínez\", 1.84),(\"Karina Inche\",1.61)]\r\n",
    "lista_alumnos = [student[0] for student in lista_alumnos]\r\n",
    "\r\n",
    "alumno_aleatorio = random.choice(lista_alumnos)\r\n",
    "seed = int(input(\"El ganador es Jorge García. Elija su semilla:\"))\r\n",
    "seed"
   ]
  },
  {
   "cell_type": "code",
   "execution_count": 3,
   "metadata": {},
   "outputs": [
    {
     "name": "stdout",
     "output_type": "stream",
     "text": [
      "Seed elegida por winner: 29022004\n",
      "\n",
      "Posiciones oficiales sin segundos:\n"
     ]
    },
    {
     "data": {
      "text/plain": [
       "{1: 'Jorge García',\n",
       " 2: 'Javier Araiz',\n",
       " 3: 'Leonardo Frazzetto',\n",
       " 4: 'José Carlos Batista',\n",
       " 5: 'Adrià Gallardo',\n",
       " 6: 'Sonia Cobo',\n",
       " 7: 'Nacho Fontal',\n",
       " 8: 'Gina Garrido',\n",
       " 9: 'Xinru Yang',\n",
       " 10: 'Karina Inche',\n",
       " 11: 'Mary Meza',\n",
       " 12: 'Nacho Astorga',\n",
       " 13: 'Juan Bayon',\n",
       " 14: 'Pablo Martínez',\n",
       " 15: 'Mauro Garcia-Oliva',\n",
       " 16: 'Isabel Palomares',\n",
       " 17: 'Daniel Walker'}"
      ]
     },
     "execution_count": 3,
     "metadata": {},
     "output_type": "execute_result"
    }
   ],
   "source": [
    "random.seed(seed)\r\n",
    "print(\"Seed elegida por winner:\", seed)\r\n",
    "\r\n",
    "winner_1 = \"Jorge García\"\r\n",
    "second_1 = \"Marina Serrano\"\r\n",
    "second_2 = \"Jonathan Suarez\"\r\n",
    "second_3 = \"Miguel Barquero\"\r\n",
    "third_1 = \"José Carlos Batista\"\r\n",
    "seconds = [second_1, second_2, second_3]\r\n",
    "\r\n",
    "lista_alumnos_sin_segundos = list(set(lista_alumnos)^set(seconds))  # la diferencia\r\n",
    "\r\n",
    "turns = create_presentation_shifts(students=lista_alumnos_sin_segundos, suffle=True)\r\n",
    "\r\n",
    "winner_pos = get_key_from_value(dictionary=turns, alumn=winner_1)\r\n",
    "winner_choice = 1\r\n",
    "\r\n",
    "while winner_pos != winner_choice:\r\n",
    "    seed += 1\r\n",
    "    turns = create_presentation_shifts(students=lista_alumnos_sin_segundos, suffle=True)\r\n",
    "    winner_pos = get_key_from_value(dictionary=turns, alumn=winner_1)\r\n",
    "\r\n",
    "print(\"\\nPosiciones oficiales sin segundos:\")\r\n",
    "turns"
   ]
  },
  {
   "cell_type": "code",
   "execution_count": 5,
   "metadata": {},
   "outputs": [
    {
     "name": "stdout",
     "output_type": "stream",
     "text": [
      "Se hace random a partir de otra semilla elegida por winner para la aleatoriedad de los segundos\n",
      "Ordenación de segundos para el segundo sorteo:\n",
      "['Marina Serrano', 'Jonathan Suarez', 'Miguel Barquero']\n"
     ]
    }
   ],
   "source": [
    "print(\"Se hace random a partir de otra semilla elegida por winner para la aleatoriedad de los segundos\")\r\n",
    "\r\n",
    "new_seed = 12042021\r\n",
    "random.seed(seed) \r\n",
    "\r\n",
    "print(\"Ordenación de segundos para el segundo sorteo:\")\r\n",
    "random.shuffle(seconds)\r\n",
    "print(seconds)\r\n"
   ]
  },
  {
   "cell_type": "code",
   "execution_count": 6,
   "metadata": {},
   "outputs": [
    {
     "name": "stdout",
     "output_type": "stream",
     "text": [
      "Primer segundo sorteo. Nunca podrá ser la posición del ganador (1).\n",
      "Elige posición <= 9 o >9:\n",
      "Marina Serrano\n",
      "17\n"
     ]
    },
    {
     "data": {
      "text/plain": [
       "{1: 'Jorge García',\n",
       " 2: 'Javier Araiz',\n",
       " 3: 'Leonardo Frazzetto',\n",
       " 4: 'José Carlos Batista',\n",
       " 5: 'Adrià Gallardo',\n",
       " 6: 'Sonia Cobo',\n",
       " 7: 'Nacho Fontal',\n",
       " 8: 'Gina Garrido',\n",
       " 9: 'Xinru Yang',\n",
       " 10: 'Karina Inche',\n",
       " 11: 'Mary Meza',\n",
       " 12: 'Nacho Astorga',\n",
       " 13: 'Juan Bayon',\n",
       " 14: 'Pablo Martínez',\n",
       " 15: 'Marina Serrano',\n",
       " 16: 'Mauro Garcia-Oliva',\n",
       " 17: 'Isabel Palomares',\n",
       " 18: 'Daniel Walker'}"
      ]
     },
     "execution_count": 6,
     "metadata": {},
     "output_type": "execute_result"
    }
   ],
   "source": [
    "regla = \"Nunca podrá ser la posición del ganador (\" + str(winner_choice) + \").\\nElige posición <= 9 o >9:\" \r\n",
    "print(\"Primer segundo sorteo.\", regla)\r\n",
    "#>< \r\n",
    "primer_segundo = seconds[0]\r\n",
    "print(primer_segundo)\r\n",
    "\r\n",
    "posiciones_actuales = list(turns.values())\r\n",
    "print(len(posiciones_actuales))\r\n",
    "# Primera mitad = True\r\n",
    "# Segunda mitad = False\r\n",
    "primera_mitad_choice = False\r\n",
    "\r\n",
    "if primera_mitad_choice:\r\n",
    "    posicion_primer_segundo = random.randint(1, 8) # incluidos []\r\n",
    "    posiciones_actuales.insert(posicion_primer_segundo, primer_segundo)\r\n",
    "    posiciones_actuales_2_1 = create_presentation_shifts(students=posiciones_actuales)\r\n",
    "else:\r\n",
    "    posicion_primer_segundo = random.randint(9, 16) # incluidos []\r\n",
    "    posiciones_actuales.insert(posicion_primer_segundo, primer_segundo)\r\n",
    "    posiciones_actuales_2_1 = create_presentation_shifts(students=posiciones_actuales)\r\n",
    "\r\n",
    "posiciones_actuales_2_1"
   ]
  },
  {
   "cell_type": "code",
   "execution_count": 7,
   "metadata": {},
   "outputs": [
    {
     "name": "stdout",
     "output_type": "stream",
     "text": [
      "Segundo segundo sorteo. Nunca podrá ser la posición del ganador (1).\n",
      "Elige posición <= 9 o >=9:\n",
      "Jonathan Suarez\n",
      "18\n"
     ]
    },
    {
     "data": {
      "text/plain": [
       "{1: 'Jorge García',\n",
       " 2: 'Javier Araiz',\n",
       " 3: 'Leonardo Frazzetto',\n",
       " 4: 'José Carlos Batista',\n",
       " 5: 'Adrià Gallardo',\n",
       " 6: 'Sonia Cobo',\n",
       " 7: 'Jonathan Suarez',\n",
       " 8: 'Nacho Fontal',\n",
       " 9: 'Gina Garrido',\n",
       " 10: 'Xinru Yang',\n",
       " 11: 'Karina Inche',\n",
       " 12: 'Mary Meza',\n",
       " 13: 'Nacho Astorga',\n",
       " 14: 'Juan Bayon',\n",
       " 15: 'Pablo Martínez',\n",
       " 16: 'Marina Serrano',\n",
       " 17: 'Mauro Garcia-Oliva',\n",
       " 18: 'Isabel Palomares',\n",
       " 19: 'Daniel Walker'}"
      ]
     },
     "execution_count": 7,
     "metadata": {},
     "output_type": "execute_result"
    }
   ],
   "source": [
    "regla = \"Nunca podrá ser la posición del ganador (\" + str(winner_choice) + \").\\nElige posición <= 9 o >=9:\" \r\n",
    "print(\"Segundo segundo sorteo.\", regla)\r\n",
    "#>< \r\n",
    "segundo_segundo = seconds[1]\r\n",
    "print(segundo_segundo)\r\n",
    "\r\n",
    "posiciones_actuales = list(posiciones_actuales_2_1.values())\r\n",
    "print(len(posiciones_actuales))\r\n",
    "# Primera mitad = True\r\n",
    "# Segunda mitad = False\r\n",
    "primera_mitad_choice = True\r\n",
    "\r\n",
    "if primera_mitad_choice:\r\n",
    "    posicion_segundo_segundo = random.randint(1, 9) # incluidos []\r\n",
    "    posiciones_actuales.insert(posicion_segundo_segundo, segundo_segundo)\r\n",
    "    posiciones_actuales_2_2 = create_presentation_shifts(students=posiciones_actuales)\r\n",
    "else:\r\n",
    "    posicion_segundo_segundo = random.randint(10, 18) # incluidos []\r\n",
    "    posiciones_actuales.insert(posicion_segundo_segundo, segundo_segundo)\r\n",
    "    posiciones_actuales_2_2 = create_presentation_shifts(students=posiciones_actuales)\r\n",
    "\r\n",
    "posiciones_actuales_2_2"
   ]
  },
  {
   "cell_type": "code",
   "execution_count": 8,
   "metadata": {},
   "outputs": [
    {
     "name": "stdout",
     "output_type": "stream",
     "text": [
      "Tercer segundo sorteo. Nunca podrá ser la posición del ganador (1).\n",
      "Elige posición <= 10 o >=10:\n",
      "Miguel Barquero\n",
      "19\n"
     ]
    },
    {
     "data": {
      "text/plain": [
       "{1: 'Jorge García',\n",
       " 2: 'Javier Araiz',\n",
       " 3: 'Leonardo Frazzetto',\n",
       " 4: 'José Carlos Batista',\n",
       " 5: 'Adrià Gallardo',\n",
       " 6: 'Sonia Cobo',\n",
       " 7: 'Jonathan Suarez',\n",
       " 8: 'Nacho Fontal',\n",
       " 9: 'Gina Garrido',\n",
       " 10: 'Xinru Yang',\n",
       " 11: 'Karina Inche',\n",
       " 12: 'Miguel Barquero',\n",
       " 13: 'Mary Meza',\n",
       " 14: 'Nacho Astorga',\n",
       " 15: 'Juan Bayon',\n",
       " 16: 'Pablo Martínez',\n",
       " 17: 'Marina Serrano',\n",
       " 18: 'Mauro Garcia-Oliva',\n",
       " 19: 'Isabel Palomares',\n",
       " 20: 'Daniel Walker'}"
      ]
     },
     "execution_count": 8,
     "metadata": {},
     "output_type": "execute_result"
    }
   ],
   "source": [
    "regla = \"Nunca podrá ser la posición del ganador (\" + str(winner_choice) + \").\\nElige posición <= 10 o >=10:\" \r\n",
    "print(\"Tercer segundo sorteo.\", regla)\r\n",
    "#>< \r\n",
    "tercer_segundo = seconds[2]\r\n",
    "print(tercer_segundo)\r\n",
    "\r\n",
    "posiciones_actuales = list(posiciones_actuales_2_2.values())\r\n",
    "print(len(posiciones_actuales))\r\n",
    "# Primera mitad = True\r\n",
    "# Segunda mitad = False\r\n",
    "primera_mitad_choice = False\r\n",
    "\r\n",
    "if primera_mitad_choice:\r\n",
    "    posicion_tercer_segundo = random.randint(1, 10) # incluidos []\r\n",
    "    posiciones_actuales.insert(posicion_tercer_segundo, tercer_segundo)\r\n",
    "    posiciones_actuales_2_3 = create_presentation_shifts(students=posiciones_actuales)\r\n",
    "else:\r\n",
    "    posicion_tercer_segundo = random.randint(10, 19) # incluidos []\r\n",
    "    posiciones_actuales.insert(posicion_tercer_segundo, tercer_segundo)\r\n",
    "    posiciones_actuales_2_3 = create_presentation_shifts(students=posiciones_actuales)\r\n",
    "\r\n",
    "posiciones_actuales_2_3"
   ]
  },
  {
   "cell_type": "code",
   "execution_count": null,
   "metadata": {},
   "outputs": [],
   "source": []
  },
  {
   "cell_type": "code",
   "execution_count": null,
   "metadata": {},
   "outputs": [],
   "source": []
  },
  {
   "cell_type": "code",
   "execution_count": null,
   "metadata": {},
   "outputs": [],
   "source": []
  },
  {
   "cell_type": "code",
   "execution_count": null,
   "metadata": {},
   "outputs": [],
   "source": []
  },
  {
   "cell_type": "code",
   "execution_count": null,
   "metadata": {},
   "outputs": [],
   "source": []
  },
  {
   "cell_type": "code",
   "execution_count": null,
   "metadata": {},
   "outputs": [],
   "source": []
  },
  {
   "cell_type": "code",
   "execution_count": null,
   "metadata": {},
   "outputs": [],
   "source": []
  },
  {
   "cell_type": "markdown",
   "metadata": {},
   "source": [
    "# Para José Carlos ... \r\n",
    ".\r\n",
    "\r\n",
    ".\r\n",
    "\r\n",
    ".\r\n",
    "\r\n",
    ".\r\n",
    "\r\n",
    ".\r\n",
    "\r\n",
    ".\r\n",
    "\r\n",
    ".\r\n",
    "\r\n",
    ".\r\n",
    "\r\n",
    ".\r\n",
    "\r\n",
    ".\r\n",
    "\r\n",
    ".\r\n",
    "\r\n",
    ".\r\n",
    "\r\n",
    ".\r\n",
    "\r\n",
    ".\r\n",
    "\r\n",
    "\r\n",
    ".\r\n",
    "\r\n",
    ".\r\n",
    "\r\n",
    ".\r\n",
    "\r\n",
    ".\r\n",
    "\r\n",
    ".\r\n",
    "\r\n",
    ".\r\n",
    "\r\n",
    ".\r\n",
    "\r\n",
    ".\r\n",
    "\r\n",
    ".\r\n",
    "\r\n",
    ".\r\n",
    "\r\n",
    ".\r\n",
    "\r\n",
    ".\r\n",
    "\r\n",
    ".\r\n",
    "\r\n",
    ".\r\n",
    "\r\n",
    ".\r\n",
    "\r\n",
    ".\r\n",
    "\r\n",
    ".\r\n",
    "\r\n",
    ".\r\n",
    "\r\n",
    "\r\n",
    ".\r\n",
    "\r\n",
    ".\r\n",
    "\r\n",
    ".\r\n",
    "\r\n",
    "\r\n",
    ".\r\n",
    "\r\n",
    "."
   ]
  },
  {
   "cell_type": "markdown",
   "metadata": {},
   "source": [
    "![](https://www.soyvisual.org/sites/default/files/styles/augmentative_resource_search/public/images/photos/mus_0003.jpg?itok=EiXRNreK)"
   ]
  },
  {
   "cell_type": "markdown",
   "metadata": {},
   "source": [
    "![](https://www.soyvisual.org/sites/default/files/styles/augmentative_resource_search/public/images/photos/mus_0003.jpg?itok=EiXRNreK)"
   ]
  },
  {
   "cell_type": "markdown",
   "metadata": {},
   "source": [
    "![](https://thumbs.static-thomann.de/thumb//thumb580x/pics/cms/image/guide/es/gua_online_de_instrumentos_de_percusin/s6_congaset.jpg)"
   ]
  },
  {
   "cell_type": "markdown",
   "metadata": {},
   "source": [
    "![](https://curiosfera-historia.com/wp-content/uploads/Historia-del-tambor-1.jpg)"
   ]
  },
  {
   "cell_type": "markdown",
   "metadata": {},
   "source": [
    ".\r\n",
    "\r\n",
    ".\r\n",
    "\r\n",
    ".\r\n",
    "\r\n",
    ".\r\n",
    "\r\n",
    ".\r\n",
    "\r\n",
    ".\r\n",
    "\r\n",
    ".\r\n",
    "\r\n",
    ".\r\n",
    "\r\n",
    ".\r\n",
    "\r\n",
    ".\r\n",
    "\r\n",
    ".\r\n",
    "\r\n",
    ".\r\n",
    "\r\n",
    ".\r\n",
    "\r\n",
    ".\r\n",
    "\r\n",
    "\r\n",
    ".\r\n",
    "\r\n",
    ".\r\n",
    "\r\n",
    ".\r\n",
    "\r\n",
    ".\r\n",
    "\r\n",
    ".\r\n",
    "\r\n",
    ".\r\n",
    "\r\n",
    ".\r\n",
    "\r\n",
    ".\r\n",
    "\r\n",
    ".\r\n",
    "\r\n",
    ".\r\n",
    "\r\n",
    ".\r\n",
    "\r\n",
    ".\r\n",
    "\r\n",
    ".\r\n",
    "\r\n",
    ".\r\n",
    "\r\n",
    ".\r\n",
    "\r\n",
    ".\r\n",
    "\r\n",
    ".\r\n",
    "\r\n",
    "."
   ]
  },
  {
   "cell_type": "markdown",
   "metadata": {},
   "source": [
    "![](https://cloudfront-eu-central-1.images.arcpublishing.com/prisa/CFVN5MHDGBAH3GNDUWT5BEPMFI.jpg)"
   ]
  },
  {
   "cell_type": "markdown",
   "metadata": {},
   "source": [
    ".\r\n",
    "\r\n",
    ".\r\n",
    "\r\n",
    ".\r\n",
    "\r\n",
    ".\r\n",
    "\r\n",
    ".\r\n",
    "\r\n",
    ".\r\n",
    "\r\n",
    ".\r\n",
    "\r\n",
    ".\r\n",
    "\r\n",
    ".\r\n",
    "\r\n",
    ".\r\n",
    "\r\n",
    ".\r\n",
    "\r\n",
    ".\r\n",
    "\r\n",
    ".\r\n",
    "\r\n",
    ".\r\n",
    "\r\n",
    "\r\n",
    ".\r\n",
    "\r\n",
    ".\r\n",
    "\r\n",
    ".\r\n",
    "\r\n",
    ".\r\n",
    "\r\n",
    ".\r\n",
    "\r\n",
    ".\r\n",
    "\r\n",
    ".\r\n",
    "\r\n",
    ".\r\n",
    "\r\n",
    ".\r\n",
    "\r\n",
    ".\r\n",
    "\r\n",
    ".\r\n",
    "\r\n",
    ".\r\n",
    "\r\n",
    ".\r\n",
    "\r\n",
    ".\r\n",
    "\r\n",
    ".\r\n",
    "\r\n",
    ".\r\n",
    "\r\n",
    ".\r\n",
    "\r\n",
    "."
   ]
  },
  {
   "cell_type": "markdown",
   "metadata": {},
   "source": [
    "![](https://www.soyvisual.org/sites/default/files/styles/augmentative_resource_search/public/images/photos/mus_0003.jpg?itok=EiXRNreK)"
   ]
  },
  {
   "cell_type": "markdown",
   "metadata": {},
   "source": [
    "![](https://www.soyvisual.org/sites/default/files/styles/augmentative_resource_search/public/images/photos/mus_0003.jpg?itok=EiXRNreK)"
   ]
  },
  {
   "cell_type": "markdown",
   "metadata": {},
   "source": [
    "![](https://www.soyvisual.org/sites/default/files/styles/augmentative_resource_search/public/images/photos/mus_0003.jpg?itok=EiXRNreK)"
   ]
  },
  {
   "cell_type": "markdown",
   "metadata": {},
   "source": [
    "----------------------------"
   ]
  },
  {
   "cell_type": "markdown",
   "metadata": {},
   "source": [
    "----------------------------"
   ]
  },
  {
   "cell_type": "markdown",
   "metadata": {},
   "source": [
    "----------------------------"
   ]
  },
  {
   "cell_type": "markdown",
   "metadata": {},
   "source": [
    "# ¡UN FUERTE APLAUSO DE TODOS!"
   ]
  },
  {
   "cell_type": "markdown",
   "metadata": {},
   "source": [
    "# ¡UN FUERTE APLAUSO DE TODOS!"
   ]
  },
  {
   "cell_type": "markdown",
   "metadata": {},
   "source": [
    "# ¡UN FUERTE APLAUSO DE TODOS!"
   ]
  },
  {
   "cell_type": "markdown",
   "metadata": {},
   "source": [
    "![](https://www.lafuentedeladueña.es/wp-content/uploads/2020/05/aplauso.jpg)"
   ]
  },
  {
   "cell_type": "markdown",
   "metadata": {},
   "source": [
    "![](https://www.lafuentedeladueña.es/wp-content/uploads/2020/05/aplauso.jpg)"
   ]
  },
  {
   "cell_type": "markdown",
   "metadata": {},
   "source": [
    "![](https://www.lafuentedeladueña.es/wp-content/uploads/2020/05/aplauso.jpg)"
   ]
  },
  {
   "cell_type": "markdown",
   "metadata": {},
   "source": [
    "![](https://media.discordapp.net/attachments/831887506965790742/855412812578422785/IMG_20210618_114422.jpg?width=911&height=683)"
   ]
  },
  {
   "cell_type": "markdown",
   "metadata": {},
   "source": [
    "![](https://media.discordapp.net/attachments/835919042371518522/862826356387086356/IMG-20210604-WA0036.jpg?width=910&height=683)"
   ]
  },
  {
   "cell_type": "markdown",
   "metadata": {},
   "source": [
    "![](https://media.discordapp.net/attachments/835919042371518522/862826506950410301/IMG-20210605-WA0014.jpg?width=683&height=683)"
   ]
  },
  {
   "cell_type": "markdown",
   "metadata": {},
   "source": [
    "![](https://media.discordapp.net/attachments/831887506965790742/831887781697290290/Imagen_de_iOS_1.jpg?width=911&height=683)"
   ]
  }
 ],
 "metadata": {
  "interpreter": {
   "hash": "5c4d2f1fdcd3716c7a5eea90ad07be30193490dd4e63617705244f5fd89ea793"
  },
  "kernelspec": {
   "display_name": "Python 3.6.4 64-bit",
   "name": "python3"
  },
  "language_info": {
   "codemirror_mode": {
    "name": "ipython",
    "version": 3
   },
   "file_extension": ".py",
   "mimetype": "text/x-python",
   "name": "python",
   "nbconvert_exporter": "python",
   "pygments_lexer": "ipython3",
   "version": "3.6.4"
  },
  "metadata": {
   "interpreter": {
    "hash": "5c4d2f1fdcd3716c7a5eea90ad07be30193490dd4e63617705244f5fd89ea793"
   }
  },
  "orig_nbformat": 2
 },
 "nbformat": 4,
 "nbformat_minor": 2
}