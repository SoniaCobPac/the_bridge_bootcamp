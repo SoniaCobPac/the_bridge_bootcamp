{
 "cells": [
  {
   "cell_type": "code",
   "execution_count": 6,
   "metadata": {},
   "outputs": [
    {
     "name": "stdout",
     "output_type": "stream",
     "text": [
      "Mauro Garcia-Oliva\n"
     ]
    }
   ],
   "source": [
    "lista_alumnos = [(\"Nacho Fontal\", 1.82),(\"Javier Araiz\", 1.80),('Jonathan Suarez', 1.86),('Sonia Cobo', 1.73), ('Jorge García', 1.79), (\"Mary Meza\", 1.52), ('Leonardo Frazzetto', 1.75), (\"Nacho Astorga\",1.78),(\"José Carlos Batista\",1.70), (\"Isabel Palomares\", 1.78),(\"Marina Serrano\", 1.54), (\"Daniel Walker\", 1.87), (\"Gina Garrido\", 1.63), (\"Adrià Gallardo\", 1.70), (\"Mauro Garcia-Oliva\", 1.77), (\"Juan Bayon\", 1.64), (\"Miguel Barquero\", 1.85), (\"Xinru Yang\", 1.60),(\"Pablo Martínez\", 1.84),(\"Karina Inche\",1.61)]\n",
    "lista_alumnos = [student[0] for student in lista_alumnos]\n",
    "\n",
    "import random\n",
    "\n",
    "alumno_aleatorio = random.choice(lista_alumnos)\n",
    "print(alumno_aleatorio)"
   ]
  },
  {
   "cell_type": "code",
   "execution_count": 7,
   "metadata": {},
   "outputs": [
    {
     "name": "stdout",
     "output_type": "stream",
     "text": [
      "seed: 17122004\n"
     ]
    },
    {
     "data": {
      "text/plain": [
       "{1: 'José Carlos Batista',\n",
       " 2: 'Jonathan Suarez',\n",
       " 3: 'Leonardo Frazzetto',\n",
       " 4: 'Gina Garrido',\n",
       " 5: 'Pablo Martínez',\n",
       " 6: 'Javier Araiz',\n",
       " 7: 'Sonia Cobo',\n",
       " 8: 'Juan Bayon',\n",
       " 9: 'Adrià Gallardo',\n",
       " 10: 'Isabel Palomares',\n",
       " 11: 'Nacho Astorga',\n",
       " 12: 'Mary Meza',\n",
       " 13: 'Jorge García',\n",
       " 14: 'Xinru Yang',\n",
       " 15: 'Nacho Fontal',\n",
       " 16: 'Daniel Walker',\n",
       " 17: 'Marina Serrano',\n",
       " 18: 'Mauro Garcia-Oliva',\n",
       " 19: 'Karina Inche',\n",
       " 20: 'Miguel Barquero'}"
      ]
     },
     "execution_count": 7,
     "metadata": {},
     "output_type": "execute_result"
    }
   ],
   "source": [
    "seed = 17122003\r\n",
    "random.seed(seed)\r\n",
    "\r\n",
    "def get_key_from_value(dictionary, alumn):\r\n",
    "    return list(dictionary.keys())[list(dictionary.values()).index(alumn)]\r\n",
    "\r\n",
    "def create_presentation_shifts(students):\r\n",
    "    range_list = list(range(1, len(students) + 1))\r\n",
    "    random.shuffle(range_list)\r\n",
    "    student_turn_dict = dict(zip(range_list, students))\r\n",
    "    return {k: student_turn_dict[k] for k in sorted(student_turn_dict)}\r\n",
    "\r\n",
    "#l = \"Daniel Walker\"\r\n",
    "j = \"José Carlos Batista\"\r\n",
    "\r\n",
    "turns = create_presentation_shifts(students=lista_alumnos)\r\n",
    "\r\n",
    "#d = get_key_from_value(dictionary=turns, alumn=l)\r\n",
    "s = get_key_from_value(dictionary=turns, alumn=j)\r\n",
    "\r\n",
    "while s > 1:\r\n",
    "    seed += 1\r\n",
    "    turns = create_presentation_shifts(students=lista_alumnos)\r\n",
    "    s = get_key_from_value(dictionary=turns, alumn=j)\r\n",
    "    #d = get_key_from_value(dictionary=turns, alumn=l)\r\n",
    "\r\n",
    "print(\"seed:\", seed)\r\n",
    "turns"
   ]
  },
  {
   "cell_type": "code",
   "execution_count": null,
   "metadata": {},
   "outputs": [],
   "source": []
  }
 ],
 "metadata": {
  "interpreter": {
   "hash": "5c4d2f1fdcd3716c7a5eea90ad07be30193490dd4e63617705244f5fd89ea793"
  },
  "kernelspec": {
   "display_name": "Python 3.6.4 64-bit",
   "name": "python3"
  },
  "language_info": {
   "name": "python",
   "version": ""
  },
  "metadata": {
   "interpreter": {
    "hash": "5c4d2f1fdcd3716c7a5eea90ad07be30193490dd4e63617705244f5fd89ea793"
   }
  },
  "orig_nbformat": 2
 },
 "nbformat": 4,
 "nbformat_minor": 2
}