{
 "cells": [
  {
   "cell_type": "code",
   "execution_count": 19,
   "metadata": {},
   "outputs": [],
   "source": [
    "from sklearn.model_selection import train_test_split\n",
    "from sklearn.ensemble import RandomForestRegressor  # conjunto de arboles\n",
    "from sklearn.tree import DecisionTreeRegressor  # solo un arbol, si el randomforest no ofrece ninguna mejora a este modelo, nos quedamos con este algoritmo que es mas facil\n"
   ]
  },
  {
   "cell_type": "markdown",
   "metadata": {},
   "source": [
    "https://towardsdatascience.com/random-forest-in-python-24d0893d51c0\n",
    "\n",
    "# Ejercicio Regression Tree\n",
    "Son datos de temperaturas tomados de la ciudad de Seattle. El objetivo es intentar predecir lo mejor posible la máxima temperatura (columna `actual`) que alcanzaremos al día siguiente. Para ello contaremos con temperaturas de los dos días anteriores, históricos de máximas temperaturas y un amigo bastante chapas que te da su predicción del tiempo cada día.\n",
    "\n",
    "**Resumen de datos**:\n",
    "* year: 2016 for all data points\n",
    "* month: number for month of the year\n",
    "* day: number for day of the year\n",
    "* week: day of the week as a character string\n",
    "* temp_2: max temperature 2 days prior\n",
    "* temp_1: max temperature 1 day prior\n",
    "* average: historical average max temperature\n",
    "* actual: max temperature measurement\n",
    "* friend: your friend’s prediction, a random number between 20 below the average and 20 above the average\n",
    "\n",
    "\n",
    "### 1. Importa el csv \"temps.csv\""
   ]
  },
  {
   "cell_type": "code",
   "execution_count": 2,
   "metadata": {
    "collapsed": true,
    "jupyter": {
     "outputs_hidden": true
    }
   },
   "outputs": [
    {
     "output_type": "execute_result",
     "data": {
      "text/plain": [
       "   year  month  day  week  temp_2  temp_1  average  actual  forecast_noaa  \\\n",
       "0  2016      1    1   Fri      45      45     45.6      45             43   \n",
       "1  2016      1    2   Sat      44      45     45.7      44             41   \n",
       "2  2016      1    3   Sun      45      44     45.8      41             43   \n",
       "3  2016      1    4   Mon      44      41     45.9      40             44   \n",
       "4  2016      1    5  Tues      41      40     46.0      44             46   \n",
       "\n",
       "   forecast_acc  forecast_under  friend  \n",
       "0            50              44      29  \n",
       "1            50              44      61  \n",
       "2            46              47      56  \n",
       "3            48              46      53  \n",
       "4            46              46      41  "
      ],
      "text/html": "<div>\n<style scoped>\n    .dataframe tbody tr th:only-of-type {\n        vertical-align: middle;\n    }\n\n    .dataframe tbody tr th {\n        vertical-align: top;\n    }\n\n    .dataframe thead th {\n        text-align: right;\n    }\n</style>\n<table border=\"1\" class=\"dataframe\">\n  <thead>\n    <tr style=\"text-align: right;\">\n      <th></th>\n      <th>year</th>\n      <th>month</th>\n      <th>day</th>\n      <th>week</th>\n      <th>temp_2</th>\n      <th>temp_1</th>\n      <th>average</th>\n      <th>actual</th>\n      <th>forecast_noaa</th>\n      <th>forecast_acc</th>\n      <th>forecast_under</th>\n      <th>friend</th>\n    </tr>\n  </thead>\n  <tbody>\n    <tr>\n      <th>0</th>\n      <td>2016</td>\n      <td>1</td>\n      <td>1</td>\n      <td>Fri</td>\n      <td>45</td>\n      <td>45</td>\n      <td>45.6</td>\n      <td>45</td>\n      <td>43</td>\n      <td>50</td>\n      <td>44</td>\n      <td>29</td>\n    </tr>\n    <tr>\n      <th>1</th>\n      <td>2016</td>\n      <td>1</td>\n      <td>2</td>\n      <td>Sat</td>\n      <td>44</td>\n      <td>45</td>\n      <td>45.7</td>\n      <td>44</td>\n      <td>41</td>\n      <td>50</td>\n      <td>44</td>\n      <td>61</td>\n    </tr>\n    <tr>\n      <th>2</th>\n      <td>2016</td>\n      <td>1</td>\n      <td>3</td>\n      <td>Sun</td>\n      <td>45</td>\n      <td>44</td>\n      <td>45.8</td>\n      <td>41</td>\n      <td>43</td>\n      <td>46</td>\n      <td>47</td>\n      <td>56</td>\n    </tr>\n    <tr>\n      <th>3</th>\n      <td>2016</td>\n      <td>1</td>\n      <td>4</td>\n      <td>Mon</td>\n      <td>44</td>\n      <td>41</td>\n      <td>45.9</td>\n      <td>40</td>\n      <td>44</td>\n      <td>48</td>\n      <td>46</td>\n      <td>53</td>\n    </tr>\n    <tr>\n      <th>4</th>\n      <td>2016</td>\n      <td>1</td>\n      <td>5</td>\n      <td>Tues</td>\n      <td>41</td>\n      <td>40</td>\n      <td>46.0</td>\n      <td>44</td>\n      <td>46</td>\n      <td>46</td>\n      <td>46</td>\n      <td>41</td>\n    </tr>\n  </tbody>\n</table>\n</div>"
     },
     "metadata": {},
     "execution_count": 2
    }
   ],
   "source": [
    "import pandas as pd\n",
    "import numpy as np\n",
    "\n",
    "df = pd.read_csv('../data/temps.csv')\n",
    "df.head()"
   ]
  },
  {
   "cell_type": "markdown",
   "metadata": {},
   "source": [
    "### 2. Lidia con las variables categóricas del dataset"
   ]
  },
  {
   "cell_type": "code",
   "execution_count": 4,
   "metadata": {},
   "outputs": [
    {
     "output_type": "execute_result",
     "data": {
      "text/plain": [
       "     year  month  day  temp_2  temp_1  average  actual  forecast_noaa  \\\n",
       "0    2016      1    1      45      45     45.6      45             43   \n",
       "1    2016      1    2      44      45     45.7      44             41   \n",
       "2    2016      1    3      45      44     45.8      41             43   \n",
       "3    2016      1    4      44      41     45.9      40             44   \n",
       "4    2016      1    5      41      40     46.0      44             46   \n",
       "..    ...    ...  ...     ...     ...      ...     ...            ...   \n",
       "343  2016     12   27      42      42     45.2      47             41   \n",
       "344  2016     12   28      42      47     45.3      48             41   \n",
       "345  2016     12   29      47      48     45.3      48             43   \n",
       "346  2016     12   30      48      48     45.4      57             44   \n",
       "347  2016     12   31      48      57     45.5      40             42   \n",
       "\n",
       "     forecast_acc  forecast_under  friend  week_Fri  week_Mon  week_Sat  \\\n",
       "0              50              44      29         1         0         0   \n",
       "1              50              44      61         0         0         1   \n",
       "2              46              47      56         0         0         0   \n",
       "3              48              46      53         0         1         0   \n",
       "4              46              46      41         0         0         0   \n",
       "..            ...             ...     ...       ...       ...       ...   \n",
       "343            50              47      47         0         0         0   \n",
       "344            49              44      58         0         0         0   \n",
       "345            50              45      65         0         0         0   \n",
       "346            46              44      42         1         0         0   \n",
       "347            48              47      57         0         0         1   \n",
       "\n",
       "     week_Sun  week_Thurs  week_Tues  week_Wed  \n",
       "0           0           0          0         0  \n",
       "1           0           0          0         0  \n",
       "2           1           0          0         0  \n",
       "3           0           0          0         0  \n",
       "4           0           0          1         0  \n",
       "..        ...         ...        ...       ...  \n",
       "343         0           0          1         0  \n",
       "344         0           0          0         1  \n",
       "345         0           1          0         0  \n",
       "346         0           0          0         0  \n",
       "347         0           0          0         0  \n",
       "\n",
       "[348 rows x 18 columns]"
      ],
      "text/html": "<div>\n<style scoped>\n    .dataframe tbody tr th:only-of-type {\n        vertical-align: middle;\n    }\n\n    .dataframe tbody tr th {\n        vertical-align: top;\n    }\n\n    .dataframe thead th {\n        text-align: right;\n    }\n</style>\n<table border=\"1\" class=\"dataframe\">\n  <thead>\n    <tr style=\"text-align: right;\">\n      <th></th>\n      <th>year</th>\n      <th>month</th>\n      <th>day</th>\n      <th>temp_2</th>\n      <th>temp_1</th>\n      <th>average</th>\n      <th>actual</th>\n      <th>forecast_noaa</th>\n      <th>forecast_acc</th>\n      <th>forecast_under</th>\n      <th>friend</th>\n      <th>week_Fri</th>\n      <th>week_Mon</th>\n      <th>week_Sat</th>\n      <th>week_Sun</th>\n      <th>week_Thurs</th>\n      <th>week_Tues</th>\n      <th>week_Wed</th>\n    </tr>\n  </thead>\n  <tbody>\n    <tr>\n      <th>0</th>\n      <td>2016</td>\n      <td>1</td>\n      <td>1</td>\n      <td>45</td>\n      <td>45</td>\n      <td>45.6</td>\n      <td>45</td>\n      <td>43</td>\n      <td>50</td>\n      <td>44</td>\n      <td>29</td>\n      <td>1</td>\n      <td>0</td>\n      <td>0</td>\n      <td>0</td>\n      <td>0</td>\n      <td>0</td>\n      <td>0</td>\n    </tr>\n    <tr>\n      <th>1</th>\n      <td>2016</td>\n      <td>1</td>\n      <td>2</td>\n      <td>44</td>\n      <td>45</td>\n      <td>45.7</td>\n      <td>44</td>\n      <td>41</td>\n      <td>50</td>\n      <td>44</td>\n      <td>61</td>\n      <td>0</td>\n      <td>0</td>\n      <td>1</td>\n      <td>0</td>\n      <td>0</td>\n      <td>0</td>\n      <td>0</td>\n    </tr>\n    <tr>\n      <th>2</th>\n      <td>2016</td>\n      <td>1</td>\n      <td>3</td>\n      <td>45</td>\n      <td>44</td>\n      <td>45.8</td>\n      <td>41</td>\n      <td>43</td>\n      <td>46</td>\n      <td>47</td>\n      <td>56</td>\n      <td>0</td>\n      <td>0</td>\n      <td>0</td>\n      <td>1</td>\n      <td>0</td>\n      <td>0</td>\n      <td>0</td>\n    </tr>\n    <tr>\n      <th>3</th>\n      <td>2016</td>\n      <td>1</td>\n      <td>4</td>\n      <td>44</td>\n      <td>41</td>\n      <td>45.9</td>\n      <td>40</td>\n      <td>44</td>\n      <td>48</td>\n      <td>46</td>\n      <td>53</td>\n      <td>0</td>\n      <td>1</td>\n      <td>0</td>\n      <td>0</td>\n      <td>0</td>\n      <td>0</td>\n      <td>0</td>\n    </tr>\n    <tr>\n      <th>4</th>\n      <td>2016</td>\n      <td>1</td>\n      <td>5</td>\n      <td>41</td>\n      <td>40</td>\n      <td>46.0</td>\n      <td>44</td>\n      <td>46</td>\n      <td>46</td>\n      <td>46</td>\n      <td>41</td>\n      <td>0</td>\n      <td>0</td>\n      <td>0</td>\n      <td>0</td>\n      <td>0</td>\n      <td>1</td>\n      <td>0</td>\n    </tr>\n    <tr>\n      <th>...</th>\n      <td>...</td>\n      <td>...</td>\n      <td>...</td>\n      <td>...</td>\n      <td>...</td>\n      <td>...</td>\n      <td>...</td>\n      <td>...</td>\n      <td>...</td>\n      <td>...</td>\n      <td>...</td>\n      <td>...</td>\n      <td>...</td>\n      <td>...</td>\n      <td>...</td>\n      <td>...</td>\n      <td>...</td>\n      <td>...</td>\n    </tr>\n    <tr>\n      <th>343</th>\n      <td>2016</td>\n      <td>12</td>\n      <td>27</td>\n      <td>42</td>\n      <td>42</td>\n      <td>45.2</td>\n      <td>47</td>\n      <td>41</td>\n      <td>50</td>\n      <td>47</td>\n      <td>47</td>\n      <td>0</td>\n      <td>0</td>\n      <td>0</td>\n      <td>0</td>\n      <td>0</td>\n      <td>1</td>\n      <td>0</td>\n    </tr>\n    <tr>\n      <th>344</th>\n      <td>2016</td>\n      <td>12</td>\n      <td>28</td>\n      <td>42</td>\n      <td>47</td>\n      <td>45.3</td>\n      <td>48</td>\n      <td>41</td>\n      <td>49</td>\n      <td>44</td>\n      <td>58</td>\n      <td>0</td>\n      <td>0</td>\n      <td>0</td>\n      <td>0</td>\n      <td>0</td>\n      <td>0</td>\n      <td>1</td>\n    </tr>\n    <tr>\n      <th>345</th>\n      <td>2016</td>\n      <td>12</td>\n      <td>29</td>\n      <td>47</td>\n      <td>48</td>\n      <td>45.3</td>\n      <td>48</td>\n      <td>43</td>\n      <td>50</td>\n      <td>45</td>\n      <td>65</td>\n      <td>0</td>\n      <td>0</td>\n      <td>0</td>\n      <td>0</td>\n      <td>1</td>\n      <td>0</td>\n      <td>0</td>\n    </tr>\n    <tr>\n      <th>346</th>\n      <td>2016</td>\n      <td>12</td>\n      <td>30</td>\n      <td>48</td>\n      <td>48</td>\n      <td>45.4</td>\n      <td>57</td>\n      <td>44</td>\n      <td>46</td>\n      <td>44</td>\n      <td>42</td>\n      <td>1</td>\n      <td>0</td>\n      <td>0</td>\n      <td>0</td>\n      <td>0</td>\n      <td>0</td>\n      <td>0</td>\n    </tr>\n    <tr>\n      <th>347</th>\n      <td>2016</td>\n      <td>12</td>\n      <td>31</td>\n      <td>48</td>\n      <td>57</td>\n      <td>45.5</td>\n      <td>40</td>\n      <td>42</td>\n      <td>48</td>\n      <td>47</td>\n      <td>57</td>\n      <td>0</td>\n      <td>0</td>\n      <td>1</td>\n      <td>0</td>\n      <td>0</td>\n      <td>0</td>\n      <td>0</td>\n    </tr>\n  </tbody>\n</table>\n<p>348 rows × 18 columns</p>\n</div>"
     },
     "metadata": {},
     "execution_count": 4
    }
   ],
   "source": [
    "df = pd.get_dummies(df)\n",
    "df"
   ]
  },
  {
   "cell_type": "code",
   "execution_count": 10,
   "metadata": {},
   "outputs": [],
   "source": [
    "# lo que queremos predecir\n",
    "target = np.array(df[\"actual\"])\n",
    "# variables para las predicciones\n",
    "features = df.drop(\"actual\", 1) # todos son X?"
   ]
  },
  {
   "cell_type": "markdown",
   "metadata": {},
   "source": [
    "### 3. Divide en train y test"
   ]
  },
  {
   "cell_type": "code",
   "execution_count": 15,
   "metadata": {},
   "outputs": [],
   "source": [
    "X_train, X_test, y_train, y_test = train_test_split(features, target, test_size=0.20, random_state=42)"
   ]
  },
  {
   "cell_type": "markdown",
   "metadata": {},
   "source": [
    "### 4. Entrena el modelo\n",
    "Utiliza un DecisionTreeRegressor"
   ]
  },
  {
   "cell_type": "code",
   "execution_count": 18,
   "metadata": {},
   "outputs": [
    {
     "output_type": "execute_result",
     "data": {
      "text/plain": [
       "RandomForestRegressor(n_estimators=1000, random_state=42)"
      ]
     },
     "metadata": {},
     "execution_count": 18
    }
   ],
   "source": [
    "rf = RandomForestRegressor(n_estimators=1000, random_state=42)\n",
    "rf.fit(X_train, y_train)"
   ]
  },
  {
   "cell_type": "markdown",
   "metadata": {},
   "source": [
    "### 5. Calcula su MAE\n",
    "Sin usar sklearn"
   ]
  },
  {
   "cell_type": "code",
   "execution_count": 25,
   "metadata": {},
   "outputs": [
    {
     "output_type": "stream",
     "name": "stdout",
     "text": [
      "Mean Absolute Error: 4.11 degrees.\n"
     ]
    }
   ],
   "source": [
    "predictions = rf.predict(X_test)\n",
    "\n",
    "errors = abs(predictions - y_test)\n",
    "\n",
    "print('Mean Absolute Error:', round(np.mean(errors), 2), 'degrees.')"
   ]
  },
  {
   "cell_type": "markdown",
   "metadata": {},
   "source": [
    "### 6. Calcula su MAPE\n",
    "Sin usar sklearn"
   ]
  },
  {
   "cell_type": "code",
   "execution_count": 38,
   "metadata": {},
   "outputs": [
    {
     "output_type": "execute_result",
     "data": {
      "text/plain": [
       "(70, 3)"
      ]
     },
     "metadata": {},
     "execution_count": 38
    }
   ],
   "source": [
    "X_test_array = X_test.to_numpy()\n",
    "X_test_array.shape"
   ]
  },
  {
   "cell_type": "code",
   "execution_count": 39,
   "metadata": {},
   "outputs": [
    {
     "output_type": "execute_result",
     "data": {
      "text/plain": [
       "(70,)"
      ]
     },
     "metadata": {},
     "execution_count": 39
    }
   ],
   "source": [
    "errors.shape"
   ]
  },
  {
   "cell_type": "code",
   "execution_count": 41,
   "metadata": {},
   "outputs": [
    {
     "output_type": "execute_result",
     "data": {
      "text/plain": [
       "array([[ 0.7115942 ,  0.74281392,  0.86140351],\n",
       "       [ 2.81864407,  2.73970346,  3.326     ],\n",
       "       [ 0.77735849,  0.85833333,  0.93636364],\n",
       "       [ 5.02333333,  4.94098361,  5.79615385],\n",
       "       [ 1.03880597,  0.98863636,  1.2       ],\n",
       "       [21.55882353, 23.26984127, 17.6626506 ],\n",
       "       [ 3.73066667,  3.62905318,  3.45432099],\n",
       "       [ 4.86777778,  5.71932115,  6.25857143],\n",
       "       [ 0.36724138,  0.38309353,  0.40961538],\n",
       "       [21.33375   , 25.09852941, 31.60555556],\n",
       "       [ 2.91724138,  3.12177122,  2.72903226],\n",
       "       [15.37065217, 20.70424597, 24.38103448],\n",
       "       [ 3.74390244,  3.34422658,  2.36153846],\n",
       "       [ 2.66438356,  3.24707846,  3.4122807 ],\n",
       "       [ 3.48666667,  3.65734266,  4.02307692],\n",
       "       [14.57647059, 15.048583  , 13.04210526],\n",
       "       [ 0.55070423,  0.74904215,  1.02894737],\n",
       "       [14.83606557, 16.60550459, 17.40384615],\n",
       "       [ 7.885     ,  9.22222222,  7.16818182],\n",
       "       [ 8.45128205,  9.10497238,  9.83880597],\n",
       "       [ 7.36666667,  7.33175355,  8.43818182],\n",
       "       [ 5.02727273,  5.53      ,  6.01086957],\n",
       "       [ 1.87727273,  1.77761836,  1.79565217],\n",
       "       [ 0.39666667,  0.39732888,  0.5173913 ],\n",
       "       [ 2.73333333,  2.67391304,  2.73333333],\n",
       "       [ 4.66862745,  4.92960663,  3.90327869],\n",
       "       [ 5.55423729,  4.95763994,  4.96515152],\n",
       "       [10.3375    , 10.67096774, 10.12653061],\n",
       "       [ 0.55757576,  0.55842185,  0.46      ],\n",
       "       [ 2.35466667,  2.32368421,  2.35466667],\n",
       "       [ 8.49012346, 11.51926298, 11.6559322 ],\n",
       "       [ 1.98688525,  1.98039216,  2.47346939],\n",
       "       [ 7.39230769,  8.00833333, 10.38918919],\n",
       "       [ 2.45542169,  2.66405229,  2.26444444],\n",
       "       [ 1.37894737,  1.35400517,  1.61230769],\n",
       "       [ 2.59016393,  3.0859375 ,  2.59016393],\n",
       "       [ 5.26071429,  5.93951613,  8.92727273],\n",
       "       [ 9.99230769, 10.66940452,  8.51803279],\n",
       "       [ 3.01791045,  2.75102041,  3.74444444],\n",
       "       [26.04102564, 22.51884701, 16.38064516],\n",
       "       [19.78688525, 19.59415584, 16.09333333],\n",
       "       [12.61186441, 13.40720721, 15.83191489],\n",
       "       [ 2.03333333,  2.77272727,  2.99454545],\n",
       "       [26.1175    , 22.66160521, 26.1175    ],\n",
       "       [ 5.52931034,  5.54844291,  7.28863636],\n",
       "       [31.95735294, 35.10662359, 36.83220339],\n",
       "       [ 3.13396226,  3.22524272,  3.13396226],\n",
       "       [ 0.32692308,  0.33203125,  0.30357143],\n",
       "       [ 0.26862745,  0.2541744 ,  0.22096774],\n",
       "       [ 7.24347826,  7.18103448,  5.95      ],\n",
       "       [13.96086957, 14.23946785, 16.46666667],\n",
       "       [ 5.66136364,  5.42701525,  4.7       ],\n",
       "       [ 7.65223881,  7.89984592,  6.25243902],\n",
       "       [ 3.56153846,  3.46556886,  3.6171875 ],\n",
       "       [ 8.10135135,  8.3148405 ,  8.56428571],\n",
       "       [ 6.11935484,  6.71504425,  5.42      ],\n",
       "       [ 2.32857143,  2.60279441,  3.83529412],\n",
       "       [ 3.75726496,  8.06605505,  7.20655738],\n",
       "       [ 5.20816327,  4.75232775,  3.92615385],\n",
       "       [ 4.30363636,  3.91239669,  3.156     ],\n",
       "       [ 1.25820896,  1.2252907 ,  1.15479452],\n",
       "       [ 3.41956522,  3.21676892,  3.9325    ],\n",
       "       [10.0890625 , 12.32251908,  9.0943662 ],\n",
       "       [ 0.18533333,  0.19857143,  0.15444444],\n",
       "       [15.04920635, 17.46040516, 18.962     ],\n",
       "       [ 8.90166667,  9.40316901,  8.3453125 ],\n",
       "       [ 2.69452055,  2.6834925 ,  2.34166667],\n",
       "       [ 1.31830986,  1.26486486,  1.50967742],\n",
       "       [ 1.78625   ,  1.86553525,  1.58777778],\n",
       "       [12.9925    , 11.29782609,  9.62407407]])"
      ]
     },
     "metadata": {},
     "execution_count": 41
    }
   ],
   "source": [
    "mape = 100 * (errors.reshape(-1,1) / X_test_array)\n",
    "mape"
   ]
  },
  {
   "cell_type": "markdown",
   "metadata": {},
   "source": [
    "### 7. Representa el árbol de decision"
   ]
  },
  {
   "cell_type": "code",
   "execution_count": null,
   "metadata": {},
   "outputs": [],
   "source": []
  },
  {
   "cell_type": "markdown",
   "metadata": {},
   "source": [
    "### 8. Modifica el max_depth a 3 y vuelve a entrenarlo"
   ]
  },
  {
   "cell_type": "code",
   "execution_count": null,
   "metadata": {},
   "outputs": [],
   "source": []
  },
  {
   "cell_type": "markdown",
   "metadata": {},
   "source": [
    "### 9. Vuelve a calcular si MAE"
   ]
  },
  {
   "cell_type": "code",
   "execution_count": null,
   "metadata": {},
   "outputs": [],
   "source": []
  },
  {
   "cell_type": "markdown",
   "metadata": {},
   "source": [
    "### 10. Vuelve a representar su árbol"
   ]
  },
  {
   "cell_type": "code",
   "execution_count": null,
   "metadata": {},
   "outputs": [],
   "source": []
  },
  {
   "cell_type": "markdown",
   "metadata": {},
   "source": [
    "### 10. Obten el `feature_importances` de cada variable en el último modelo"
   ]
  },
  {
   "cell_type": "code",
   "execution_count": null,
   "metadata": {},
   "outputs": [],
   "source": []
  }
 ],
 "metadata": {
  "kernelspec": {
   "name": "python3",
   "display_name": "Python 3.7.4 64-bit"
  },
  "language_info": {
   "codemirror_mode": {
    "name": "ipython",
    "version": 3
   },
   "file_extension": ".py",
   "mimetype": "text/x-python",
   "name": "python",
   "nbconvert_exporter": "python",
   "pygments_lexer": "ipython3",
   "version": "3.7.4"
  },
  "interpreter": {
   "hash": "2d8a740277f67c33143a8e5c8e55f738530a350d8def4a85d8635b690074994c"
  }
 },
 "nbformat": 4,
 "nbformat_minor": 4
}