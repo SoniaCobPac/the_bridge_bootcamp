{
 "cells": [
  {
   "cell_type": "markdown",
   "metadata": {},
   "source": [
    "# Apartado 4 - Comprehension "
   ]
  },
  {
   "cell_type": "markdown",
   "metadata": {},
   "source": [
    "- List/Dict comprehension \n",
    "- `zip()` "
   ]
  },
  {
   "cell_type": "markdown",
   "metadata": {},
   "source": [
    "--------------------------------------------------------------------------------------"
   ]
  },
  {
   "cell_type": "markdown",
   "metadata": {},
   "source": [
    "## List comprehension"
   ]
  },
  {
   "cell_type": "code",
   "execution_count": 3,
   "metadata": {},
   "outputs": [
    {
     "name": "stdout",
     "output_type": "stream",
     "text": [
      "S\n",
      "t\n",
      "r\n",
      "i\n",
      "n\n",
      "g\n"
     ]
    }
   ],
   "source": [
    "x = \"String\"\n",
    "for i in x:\n",
    "    print(i)"
   ]
  },
  {
   "cell_type": "code",
   "execution_count": 4,
   "metadata": {},
   "outputs": [
    {
     "name": "stdout",
     "output_type": "stream",
     "text": [
      "['h', 'u', 'm', 'a', 'n']\n"
     ]
    }
   ],
   "source": [
    "h_letters = []\n",
    "\n",
    "for letter in 'human':\n",
    "    h_letters.append(letter)\n",
    "\n",
    "print(h_letters)"
   ]
  },
  {
   "cell_type": "code",
   "execution_count": 1,
   "metadata": {},
   "outputs": [
    {
     "output_type": "stream",
     "name": "stdout",
     "text": [
      "[1, 2, 3, 4]\n[1, 2, 3, 4]\n"
     ]
    }
   ],
   "source": [
    "lista = [2, 4, 6, 8] \n",
    "p = [elem//2 for elem in lista]\n",
    "print(p)\n",
    "\n",
    "# Lo de arriba es sinónimo de esto:\n",
    "\n",
    "final = [elem//2 for elem in lista]\n",
    "print(final)"
   ]
  },
  {
   "cell_type": "code",
   "execution_count": 6,
   "metadata": {},
   "outputs": [
    {
     "name": "stdout",
     "output_type": "stream",
     "text": [
      "['2L', '4L', '6L', '8L']\n"
     ]
    }
   ],
   "source": [
    "lista = [2, 4, 6, 8] \n",
    "p = [str(elem)+\"L\" for elem in lista]\n",
    "print(p)"
   ]
  },
  {
   "cell_type": "code",
   "execution_count": 2,
   "metadata": {},
   "outputs": [
    {
     "output_type": "execute_result",
     "data": {
      "text/plain": [
       "['2CONC', '4CONC', '6CONC', '8CONC']"
      ]
     },
     "metadata": {},
     "execution_count": 2
    }
   ],
   "source": [
    "lista = [2, 4, 6, 8]\n",
    "def f_concatena(x):\n",
    "    return str(x) + \"CONC\"\n",
    "\n",
    "lista = [f_concatena(x=x) for x in lista]\n",
    "lista"
   ]
  },
  {
   "cell_type": "code",
   "execution_count": 3,
   "metadata": {},
   "outputs": [
    {
     "output_type": "execute_result",
     "data": {
      "text/plain": [
       "[['2CONC', 0], ['4CONC', 1], ['6CONC', 2], ['8CONC', 3]]"
      ]
     },
     "metadata": {},
     "execution_count": 3
    }
   ],
   "source": [
    "lista = [[x, i] for i, x in enumerate(lista)]\n",
    "lista\n"
   ]
  },
  {
   "cell_type": "markdown",
   "metadata": {},
   "source": [
    "```python \n",
    "[expression for item in list if condicion]\n",
    "``` "
   ]
  },
  {
   "cell_type": "code",
   "execution_count": 7,
   "metadata": {},
   "outputs": [
    {
     "name": "stdout",
     "output_type": "stream",
     "text": [
      "2\n",
      "4\n",
      "6\n",
      "8\n"
     ]
    }
   ],
   "source": [
    "lista = [2, 4, 6, 8]\n",
    "for x in lista:\n",
    "    if True:\n",
    "        print(x)"
   ]
  },
  {
   "cell_type": "code",
   "execution_count": 4,
   "metadata": {},
   "outputs": [
    {
     "output_type": "execute_result",
     "data": {
      "text/plain": [
       "[2]"
      ]
     },
     "metadata": {},
     "execution_count": 4
    }
   ],
   "source": [
    "lista = [\"a\", \"y\", \"z\", \"W2\"]\n",
    "l = [len(elem) for elem in lista if len(elem)>1]\n",
    "l\n",
    " "
   ]
  },
  {
   "cell_type": "code",
   "execution_count": 8,
   "metadata": {},
   "outputs": [
    {
     "data": {
      "text/plain": [
       "[0, 1, 2, 3, 4, 5, 6, 7, 8, 9, 10, 11, 12, 13, 14, 15, 16, 17, 18, 19]"
      ]
     },
     "execution_count": 8,
     "metadata": {},
     "output_type": "execute_result"
    }
   ],
   "source": [
    "list(range(20))"
   ]
  },
  {
   "cell_type": "code",
   "execution_count": 9,
   "metadata": {},
   "outputs": [
    {
     "name": "stdout",
     "output_type": "stream",
     "text": [
      "[0, 2, 4, 6, 8, 10, 12, 14, 16, 18, 19]\n"
     ]
    }
   ],
   "source": [
    "# Si la condición solo tiene un if, se tiene que poner a la izquierda del for: \n",
    "\n",
    "number_list = [ x for x in range(20) if x % 2 == 0 or x == 19]\n",
    "print(number_list)"
   ]
  },
  {
   "cell_type": "code",
   "execution_count": 10,
   "metadata": {},
   "outputs": [
    {
     "data": {
      "text/plain": [
       "[0, 1, 2, 3, 4, 5, 6, 7, 8, 9]"
      ]
     },
     "execution_count": 10,
     "metadata": {},
     "output_type": "execute_result"
    }
   ],
   "source": [
    "list(range(10))"
   ]
  },
  {
   "cell_type": "code",
   "execution_count": 11,
   "metadata": {},
   "outputs": [
    {
     "name": "stdout",
     "output_type": "stream",
     "text": [
      "['Even', 'Odd', 'Even', 'Odd', 'Even', 'Odd', 'Even', 'Odd', 'Even', 'Odd']\n"
     ]
    }
   ],
   "source": [
    "# Cuando hay un else en la list comprehension el if siempre tiene que ir a la izquierda del for:\n",
    "\n",
    "obj = [\"Even\" if i%2==0 else \"Odd\" for i in range(10)]\n",
    "print(obj)"
   ]
  },
  {
   "cell_type": "markdown",
   "metadata": {},
   "source": [
    "--------------------------------------------------------------------------------------"
   ]
  },
  {
   "cell_type": "markdown",
   "metadata": {},
   "source": [
    "## Dict comprehension"
   ]
  },
  {
   "cell_type": "code",
   "execution_count": 13,
   "metadata": {},
   "outputs": [],
   "source": [
    "d = {\"a\":1, \"b\":2}"
   ]
  },
  {
   "cell_type": "code",
   "execution_count": 14,
   "metadata": {},
   "outputs": [
    {
     "data": {
      "text/plain": [
       "[0, 1, 2, 3, 4, 5, 6, 7, 8, 9]"
      ]
     },
     "execution_count": 14,
     "metadata": {},
     "output_type": "execute_result"
    }
   ],
   "source": [
    "list(range(10))"
   ]
  },
  {
   "cell_type": "code",
   "execution_count": 5,
   "metadata": {},
   "outputs": [
    {
     "output_type": "execute_result",
     "data": {
      "text/plain": [
       "{0: 0, 2: 4, 4: 16, 6: 36, 8: 64}"
      ]
     },
     "metadata": {},
     "execution_count": 5
    }
   ],
   "source": [
    "numbers = range(10)\n",
    "\n",
    "new_dict_comp = {n:n**2 for n in numbers if n%2 == 0}\n",
    "\n",
    "new_dict_comp"
   ]
  },
  {
   "cell_type": "code",
   "execution_count": 16,
   "metadata": {},
   "outputs": [],
   "source": [
    "new_dict_comp = {n:n**2 for n in numbers if n%2 == 0}"
   ]
  },
  {
   "cell_type": "code",
   "execution_count": 17,
   "metadata": {},
   "outputs": [
    {
     "name": "stdout",
     "output_type": "stream",
     "text": [
      "k: a\n",
      "v: 1\n",
      "---------\n",
      "k: b\n",
      "v: 2\n",
      "---------\n",
      "k: c\n",
      "v: 3\n",
      "---------\n",
      "k: d\n",
      "v: 4\n",
      "---------\n",
      "k: e\n",
      "v: 5\n",
      "---------\n"
     ]
    }
   ],
   "source": [
    "dict1 = {'a': 1, 'b': 2, 'c': 3, 'd': 4, 'e': 5}\n",
    "\n",
    "for k, v in dict1.items():\n",
    "    print(\"k:\", k)\n",
    "    print(\"v:\", v)\n",
    "    print(\"---------\")"
   ]
  },
  {
   "cell_type": "code",
   "execution_count": 7,
   "metadata": {},
   "outputs": [
    {
     "output_type": "stream",
     "name": "stdout",
     "text": [
      "t: a\n---------\nt: b\n---------\nt: c\n---------\nt: d\n---------\nt: e\n---------\n"
     ]
    }
   ],
   "source": [
    "dict1 = {'a': 1, 'b': 2, 'c': 3, 'd': 4, 'e': 5}\n",
    "\n",
    "for t in dict1.items():\n",
    "    print(\"t:\", t[0])\n",
    "    print(\"---------\")"
   ]
  },
  {
   "cell_type": "code",
   "execution_count": 19,
   "metadata": {},
   "outputs": [
    {
     "name": "stdout",
     "output_type": "stream",
     "text": [
      "k: a\n",
      "---------\n",
      "k: b\n",
      "---------\n",
      "k: c\n",
      "---------\n",
      "k: d\n",
      "---------\n",
      "k: e\n",
      "---------\n"
     ]
    }
   ],
   "source": [
    "dict1 = {'a': 1, 'b': 2, 'c': 3, 'd': 4, 'e': 5}\n",
    "\n",
    "for k in dict1.keys():\n",
    "    print(\"k:\", k)\n",
    "    print(\"---------\")"
   ]
  },
  {
   "cell_type": "code",
   "execution_count": 8,
   "metadata": {},
   "outputs": [
    {
     "output_type": "stream",
     "name": "stdout",
     "text": [
      "{'c': 1.5, 'd': 2.0, 'e': 2.5}\n"
     ]
    }
   ],
   "source": [
    "dict1 = {'a': 1, 'b': 2, 'c': 3, 'd': 4, 'e': 5}\n",
    "\n",
    "# Check for items greater than 2\n",
    "dict1_cond = {k:(v/2) for k, v in dict1.items() if v>2}\n",
    "\n",
    "print(dict1_cond)"
   ]
  },
  {
   "cell_type": "markdown",
   "metadata": {},
   "source": [
    "--------------------------------------------------------------------------------------"
   ]
  },
  {
   "cell_type": "markdown",
   "metadata": {},
   "source": [
    "## zip"
   ]
  },
  {
   "cell_type": "code",
   "execution_count": 10,
   "metadata": {},
   "outputs": [],
   "source": [
    "\n",
    "#d = {[1]: [2]}"
   ]
  },
  {
   "cell_type": "code",
   "execution_count": 23,
   "metadata": {},
   "outputs": [
    {
     "name": "stdout",
     "output_type": "stream",
     "text": [
      "{'a': 1, 'b': 2, 'c': 3}\n"
     ]
    }
   ],
   "source": [
    "keys = ['a', 'b', 'c']\n",
    "values = [1, 2, 3]\n",
    "dictionary = dict(zip(keys, values))\n",
    "print(dictionary)"
   ]
  },
  {
   "cell_type": "code",
   "execution_count": 24,
   "metadata": {},
   "outputs": [
    {
     "name": "stdout",
     "output_type": "stream",
     "text": [
      "{'a': [1, 2, 4, 6, [0, 'a', [2, '6', ('a', {'x': 2})]]], 'b': [2], 'c': [3]}\n"
     ]
    }
   ],
   "source": [
    "keys = ['a', 'b', 'c']\n",
    "values = [[1, 2, 4, 6, [0,\"a\", [2, \"6\", (\"a\", {\"x\":2})]]], [2], [3]]\n",
    "dictionary = dict(zip(keys, values))\n",
    "print(dictionary)"
   ]
  },
  {
   "cell_type": "code",
   "execution_count": 12,
   "metadata": {},
   "outputs": [
    {
     "output_type": "execute_result",
     "data": {
      "text/plain": [
       "2"
      ]
     },
     "metadata": {},
     "execution_count": 12
    }
   ],
   "source": [
    "x = [1, 2, 4, 6, [0,\"a\", [2, \"6\", (\"a\", {\"x\":2})]]]\n",
    "\n",
    "x[4][2][2][1][\"x\"]"
   ]
  },
  {
   "cell_type": "code",
   "execution_count": 27,
   "metadata": {},
   "outputs": [
    {
     "name": "stdout",
     "output_type": "stream",
     "text": [
      "2\n"
     ]
    }
   ],
   "source": [
    "# Si queremos sacar el dos como antes usando for:\n",
    "\n",
    "for elem in x:\n",
    "    if isinstance(elem, list):\n",
    "        for elem2 in elem:\n",
    "            if isinstance(elem2, list):\n",
    "                for elem3 in elem2:\n",
    "                    if isinstance(elem3, tuple):\n",
    "                        for elem4 in elem3:\n",
    "                            if isinstance(elem4, dict):\n",
    "                                print(elem4[\"x\"])\n",
    "                                break"
   ]
  },
  {
   "cell_type": "code",
   "execution_count": 13,
   "metadata": {},
   "outputs": [],
   "source": [
    "for elem in x:\n",
    "    if type(elem) == dict:\n",
    "        print(elem)\n",
    "\n",
    "# No muestra nada porque el diccionario esta dentro de una lista. Los elementos de x son listas."
   ]
  },
  {
   "source": [
    "## Lambda functions"
   ],
   "cell_type": "markdown",
   "metadata": {}
  },
  {
   "cell_type": "code",
   "execution_count": null,
   "metadata": {},
   "outputs": [],
   "source": [
    "# Funciones Lambda son funciones anónimas"
   ]
  },
  {
   "cell_type": "code",
   "execution_count": 1,
   "metadata": {},
   "outputs": [
    {
     "output_type": "execute_result",
     "data": {
      "text/plain": [
       "'8'"
      ]
     },
     "metadata": {},
     "execution_count": 1
    }
   ],
   "source": [
    "def nombre_funcion(x):\n",
    "    return str(x + 2)\n",
    "\n",
    "nombre_funcion(6)"
   ]
  },
  {
   "cell_type": "code",
   "execution_count": 2,
   "metadata": {},
   "outputs": [
    {
     "output_type": "execute_result",
     "data": {
      "text/plain": [
       "'8'"
      ]
     },
     "metadata": {},
     "execution_count": 2
    }
   ],
   "source": [
    "# La función de arriba se puede escribir asi usando lambda:\n",
    "\n",
    "nombre_funcion2 = lambda x: str(x+2)\n",
    "\n",
    "nombre_funcion2(x=6)"
   ]
  },
  {
   "cell_type": "code",
   "execution_count": 6,
   "metadata": {},
   "outputs": [
    {
     "output_type": "execute_result",
     "data": {
      "text/plain": [
       "'13'"
      ]
     },
     "metadata": {},
     "execution_count": 6
    }
   ],
   "source": [
    "f1 = lambda x, y, z: str(x+y+z)     # nombre_funcion = lambda parametros: lo_que_retorna\n",
    "\n",
    "f1(x=5, y=7, z=1)"
   ]
  },
  {
   "cell_type": "code",
   "execution_count": 5,
   "metadata": {},
   "outputs": [
    {
     "output_type": "execute_result",
     "data": {
      "text/plain": [
       "[<function __main__.<listcomp>.<lambda>(elem)>,\n",
       " <function __main__.<listcomp>.<lambda>(elem)>,\n",
       " <function __main__.<listcomp>.<lambda>(elem)>,\n",
       " <function __main__.<listcomp>.<lambda>(elem)>]"
      ]
     },
     "metadata": {},
     "execution_count": 5
    }
   ],
   "source": [
    "l = [2, 4, 6, 8]\n",
    "\n",
    "lista = [lambda elem: elem//2 for elem in l]    # Esta función existe pero no tiene ningún nombre\n",
    "lista"
   ]
  },
  {
   "cell_type": "code",
   "execution_count": 12,
   "metadata": {},
   "outputs": [
    {
     "output_type": "execute_result",
     "data": {
      "text/plain": [
       "[1, 2, 3, 2, 4]"
      ]
     },
     "metadata": {},
     "execution_count": 12
    }
   ],
   "source": [
    "l = [2, 4, 6, 5, 8]\n",
    "\n",
    "f2 = lambda elem: elem//2\n",
    "\n",
    "lista = [f2(elem) for elem in l]    # Tenemos que crear una función de lambda antes de la lista comprehension\n",
    "lista"
   ]
  },
  {
   "cell_type": "code",
   "execution_count": 13,
   "metadata": {},
   "outputs": [
    {
     "output_type": "execute_result",
     "data": {
      "text/plain": [
       "[2, 4, 6, 2.5, 8]"
      ]
     },
     "metadata": {},
     "execution_count": 13
    }
   ],
   "source": [
    "f3 = lambda x: x if x % 2 == 0 else x/2   # En las lambdas es obligatorio tener el else\n",
    "\n",
    "lista = [f3(x=elem) for elem in l]\n",
    "lista"
   ]
  },
  {
   "cell_type": "code",
   "execution_count": 1,
   "metadata": {},
   "outputs": [],
   "source": [
    "import math"
   ]
  },
  {
   "cell_type": "code",
   "execution_count": 9,
   "metadata": {},
   "outputs": [
    {
     "output_type": "execute_result",
     "data": {
      "text/plain": [
       "2.0"
      ]
     },
     "metadata": {},
     "execution_count": 9
    }
   ],
   "source": [
    "f1 = lambda x, y, z: (x*y*z)\n",
    "f2 = lambda x: math.sqrt(x)\n",
    "\n",
    "f1(2,1,4)\n",
    "f2(4)"
   ]
  },
  {
   "cell_type": "code",
   "execution_count": null,
   "metadata": {},
   "outputs": [],
   "source": []
  },
  {
   "source": [
    "## OP --> Programación orientada a objetos/clase"
   ],
   "cell_type": "markdown",
   "metadata": {}
  },
  {
   "cell_type": "code",
   "execution_count": null,
   "metadata": {},
   "outputs": [],
   "source": [
    "# Las clases existen para representar objetos de la vida real"
   ]
  },
  {
   "cell_type": "code",
   "execution_count": null,
   "metadata": {},
   "outputs": [],
   "source": [
    "# Mala praxis para representar objetos de la vida real\n",
    "ojos = 2\n",
    "piernas = 2"
   ]
  },
  {
   "cell_type": "code",
   "execution_count": 14,
   "metadata": {},
   "outputs": [],
   "source": [
    "class Humano:\n",
    "    # funcion constructor\n",
    "    def __init__(self, nombre, edad, sexo, altura, color_pelo, ojos=2, piernas=2, especie=\"Homo Sapiens\"):    # self es el primer atributo que se tiene que poner siempre\n",
    "        x=2\n",
    "        print(2)\n",
    "        pass\n",
    "    # Por poner lo de arriba no estoy diciendo que esos sean los atributos de la clase\n"
   ]
  },
  {
   "cell_type": "code",
   "execution_count": 17,
   "metadata": {},
   "outputs": [
    {
     "output_type": "execute_result",
     "data": {
      "text/plain": [
       "<__main__.Humano at 0x1b1257c2408>"
      ]
     },
     "metadata": {},
     "execution_count": 17
    }
   ],
   "source": [
    "class Humano:\n",
    "    def __init__(self, name, edad, sexo, altura, color_pelo, ojos=2, piernas=2, especie=\"Homo Sapiens\"):    \n",
    "        # nombre del atributo de la clase Humano = valor\n",
    "        self.nombre = name  # Ahora estoy diciendo que este es un atributo de la clase\n",
    "\n",
    "ataulfo = Humano(name=\"Ataulfo\", edad=25, sexo=\"H\", altura=2.0, ojos=1, color_pelo=\"pelirrojo\")\n",
    "\n",
    "ataulfo"
   ]
  },
  {
   "cell_type": "code",
   "execution_count": 22,
   "metadata": {},
   "outputs": [
    {
     "output_type": "stream",
     "name": "stdout",
     "text": [
      "Ataulfo\n"
     ]
    },
    {
     "output_type": "error",
     "ename": "AttributeError",
     "evalue": "'Humano' object has no attribute 'edad'",
     "traceback": [
      "\u001b[1;31m---------------------------------------------------------------------------\u001b[0m",
      "\u001b[1;31mAttributeError\u001b[0m                            Traceback (most recent call last)",
      "\u001b[1;32m<ipython-input-22-3db56dd1c22c>\u001b[0m in \u001b[0;36m<module>\u001b[1;34m\u001b[0m\n\u001b[0;32m      1\u001b[0m \u001b[0mprint\u001b[0m\u001b[1;33m(\u001b[0m\u001b[0mataulfo\u001b[0m\u001b[1;33m.\u001b[0m\u001b[0mnombre\u001b[0m\u001b[1;33m)\u001b[0m\u001b[1;33m\u001b[0m\u001b[1;33m\u001b[0m\u001b[0m\n\u001b[1;32m----> 2\u001b[1;33m \u001b[0mataulfo\u001b[0m\u001b[1;33m.\u001b[0m\u001b[0medad\u001b[0m\u001b[1;33m\u001b[0m\u001b[1;33m\u001b[0m\u001b[0m\n\u001b[0m",
      "\u001b[1;31mAttributeError\u001b[0m: 'Humano' object has no attribute 'edad'"
     ]
    }
   ],
   "source": [
    "print(ataulfo.nombre)\n",
    "\n",
    "ataulfo.edad    # Da error porque no hemos referenciado la edad con el self en el constructor. Si luego doy un valor a edad en el constructor es el valor que considerará la función\n"
   ]
  },
  {
   "cell_type": "code",
   "execution_count": null,
   "metadata": {},
   "outputs": [],
   "source": [
    "# Puede haber varios objetos en una clase pero todos tienen diferentes instancias"
   ]
  },
  {
   "cell_type": "code",
   "execution_count": 6,
   "metadata": {},
   "outputs": [
    {
     "output_type": "stream",
     "name": "stdout",
     "text": [
      "2\npelirrojo\n"
     ]
    }
   ],
   "source": [
    "class Humano:\n",
    "    def __init__(self, name, edad, sexo, altura, color_pelo, ojos=2, piernas=2, especie=\"Homo Sapiens\"):    \n",
    "\n",
    "        self.nombre = name  \n",
    "        self.edad = 89\n",
    "        self.sexo = sexo\n",
    "        self.altura = altura\n",
    "        self.color_pelo = color_pelo\n",
    "        self.ojos = ojos\n",
    "        self.piernas = piernas\n",
    "        self.especie = especie\n",
    "\n",
    "ataulfo = Humano(name=\"Ataulfo\", edad=25, sexo=\"H\", altura=2.0, color_pelo=\"pelirrojo\")\n",
    "\n",
    "print(ataulfo.ojos)\n",
    "print(ataulfo.color_pelo)"
   ]
  },
  {
   "cell_type": "code",
   "execution_count": 46,
   "metadata": {},
   "outputs": [
    {
     "output_type": "execute_result",
     "data": {
      "text/plain": [
       "False"
      ]
     },
     "metadata": {},
     "execution_count": 46
    }
   ],
   "source": [
    "elvis = Humano(name=\"Elvis\", edad=51, sexo=\"H\", altura=1.80, ojos=2, color_pelo=\"negro\") # entre parentesis estoy llamando el constructor\n",
    "\n",
    "ataulfo == elvis"
   ]
  },
  {
   "cell_type": "code",
   "execution_count": 48,
   "metadata": {},
   "outputs": [
    {
     "output_type": "execute_result",
     "data": {
      "text/plain": [
       "'negro'"
      ]
     },
     "metadata": {},
     "execution_count": 48
    }
   ],
   "source": [
    "elvis.color_pelo"
   ]
  },
  {
   "cell_type": "code",
   "execution_count": 26,
   "metadata": {},
   "outputs": [
    {
     "output_type": "error",
     "ename": "NameError",
     "evalue": "name 'piernas' is not defined",
     "traceback": [
      "\u001b[1;31m---------------------------------------------------------------------------\u001b[0m",
      "\u001b[1;31mNameError\u001b[0m                                 Traceback (most recent call last)",
      "\u001b[1;32m<ipython-input-26-c8d93ed3a2ac>\u001b[0m in \u001b[0;36m<module>\u001b[1;34m\u001b[0m\n\u001b[0;32m     16\u001b[0m \u001b[0mataulfo\u001b[0m \u001b[1;33m=\u001b[0m \u001b[0mHumano\u001b[0m\u001b[1;33m(\u001b[0m\u001b[0mname\u001b[0m\u001b[1;33m=\u001b[0m\u001b[1;34m\"Ataulfo\"\u001b[0m\u001b[1;33m,\u001b[0m \u001b[0medad\u001b[0m\u001b[1;33m=\u001b[0m\u001b[1;36m25\u001b[0m\u001b[1;33m,\u001b[0m \u001b[0msexo\u001b[0m\u001b[1;33m=\u001b[0m\u001b[1;34m\"H\"\u001b[0m\u001b[1;33m,\u001b[0m \u001b[0maltura\u001b[0m\u001b[1;33m=\u001b[0m\u001b[1;36m2.0\u001b[0m\u001b[1;33m,\u001b[0m \u001b[0mojos\u001b[0m\u001b[1;33m=\u001b[0m\u001b[1;36m1\u001b[0m\u001b[1;33m,\u001b[0m \u001b[0mcolor_pelo\u001b[0m\u001b[1;33m=\u001b[0m\u001b[1;34m\"pelirrojo\"\u001b[0m\u001b[1;33m)\u001b[0m\u001b[1;33m\u001b[0m\u001b[1;33m\u001b[0m\u001b[0m\n\u001b[0;32m     17\u001b[0m \u001b[1;33m\u001b[0m\u001b[0m\n\u001b[1;32m---> 18\u001b[1;33m \u001b[0mataulfo\u001b[0m\u001b[1;33m.\u001b[0m\u001b[0mmostrar_piernas\u001b[0m\u001b[1;33m(\u001b[0m\u001b[1;33m)\u001b[0m\u001b[1;33m\u001b[0m\u001b[1;33m\u001b[0m\u001b[0m\n\u001b[0m",
      "\u001b[1;32m<ipython-input-26-c8d93ed3a2ac>\u001b[0m in \u001b[0;36mmostrar_piernas\u001b[1;34m(self)\u001b[0m\n\u001b[0;32m     12\u001b[0m \u001b[1;33m\u001b[0m\u001b[0m\n\u001b[0;32m     13\u001b[0m     \u001b[1;32mdef\u001b[0m \u001b[0mmostrar_piernas\u001b[0m\u001b[1;33m(\u001b[0m\u001b[0mself\u001b[0m\u001b[1;33m)\u001b[0m\u001b[1;33m:\u001b[0m\u001b[1;33m\u001b[0m\u001b[1;33m\u001b[0m\u001b[0m\n\u001b[1;32m---> 14\u001b[1;33m         \u001b[0mprint\u001b[0m\u001b[1;33m(\u001b[0m\u001b[0mpiernas\u001b[0m\u001b[1;33m)\u001b[0m\u001b[1;33m\u001b[0m\u001b[1;33m\u001b[0m\u001b[0m\n\u001b[0m\u001b[0;32m     15\u001b[0m \u001b[1;33m\u001b[0m\u001b[0m\n\u001b[0;32m     16\u001b[0m \u001b[0mataulfo\u001b[0m \u001b[1;33m=\u001b[0m \u001b[0mHumano\u001b[0m\u001b[1;33m(\u001b[0m\u001b[0mname\u001b[0m\u001b[1;33m=\u001b[0m\u001b[1;34m\"Ataulfo\"\u001b[0m\u001b[1;33m,\u001b[0m \u001b[0medad\u001b[0m\u001b[1;33m=\u001b[0m\u001b[1;36m25\u001b[0m\u001b[1;33m,\u001b[0m \u001b[0msexo\u001b[0m\u001b[1;33m=\u001b[0m\u001b[1;34m\"H\"\u001b[0m\u001b[1;33m,\u001b[0m \u001b[0maltura\u001b[0m\u001b[1;33m=\u001b[0m\u001b[1;36m2.0\u001b[0m\u001b[1;33m,\u001b[0m \u001b[0mojos\u001b[0m\u001b[1;33m=\u001b[0m\u001b[1;36m1\u001b[0m\u001b[1;33m,\u001b[0m \u001b[0mcolor_pelo\u001b[0m\u001b[1;33m=\u001b[0m\u001b[1;34m\"pelirrojo\"\u001b[0m\u001b[1;33m)\u001b[0m\u001b[1;33m\u001b[0m\u001b[1;33m\u001b[0m\u001b[0m\n",
      "\u001b[1;31mNameError\u001b[0m: name 'piernas' is not defined"
     ]
    }
   ],
   "source": [
    "class Humano:\n",
    "    def __init__(self, name, edad, sexo, altura, color_pelo, ojos=2, piernas=2, especie=\"Homo Sapiens\"):    \n",
    "\n",
    "        self.nombre = name  \n",
    "        self.edad = 89  # Estoy forzando que esta variable sea 89, da igual el valor que le doy en los parámetros\n",
    "        self.sexo = sexo\n",
    "        self.altura = altura\n",
    "        self.color_pelo = color_pelo\n",
    "        self.ojos = ojos\n",
    "        self.piernas = piernas\n",
    "        self.especie = especie\n",
    "    \n",
    "    def mostrar_piernas(self):  # estas funciones se crean para llamar atributos que no hayan sido incluidas en el constructor\n",
    "        print(piernas)\n",
    "\n",
    "ataulfo = Humano(name=\"Ataulfo\", edad=25, sexo=\"H\", altura=2.0, ojos=1, color_pelo=\"pelirrojo\")\n",
    "\n",
    "ataulfo.mostrar_piernas() #Da error porque usa la referencia a la derecha de self.piernas que no le hemos dado valor, no esta cogiendo al atributo piernas de humano"
   ]
  },
  {
   "cell_type": "code",
   "execution_count": 27,
   "metadata": {},
   "outputs": [
    {
     "output_type": "stream",
     "name": "stdout",
     "text": [
      "2\n"
     ]
    }
   ],
   "source": [
    "class Humano:\n",
    "    def __init__(self, name, edad, sexo, altura, color_pelo, ojos=2, piernas=2, especie=\"Homo Sapiens\"):    \n",
    "\n",
    "        self.nombre = name  \n",
    "        self.edad = 89\n",
    "        self.sexo = sexo\n",
    "        self.altura = altura\n",
    "        self.color_pelo = color_pelo\n",
    "        self.ojos = ojos\n",
    "        self.piernas = piernas\n",
    "        self.especie = especie\n",
    "    \n",
    "    def mostrar_piernas(self):\n",
    "        print(self.piernas)\n",
    "\n",
    "ataulfo = Humano(name=\"Ataulfo\", edad=25, sexo=\"H\", altura=2.0, ojos=1, color_pelo=\"pelirrojo\")\n",
    "\n",
    "ataulfo.mostrar_piernas()"
   ]
  },
  {
   "cell_type": "code",
   "execution_count": 7,
   "metadata": {},
   "outputs": [
    {
     "output_type": "error",
     "ename": "SyntaxError",
     "evalue": "invalid syntax (<ipython-input-7-a7e9ca667b90>, line 7)",
     "traceback": [
      "\u001b[1;36m  File \u001b[1;32m\"<ipython-input-7-a7e9ca667b90>\"\u001b[1;36m, line \u001b[1;32m7\u001b[0m\n\u001b[1;33m    def mostrar_color_pelo(self, color_pelo)\u001b[0m\n\u001b[1;37m                                            ^\u001b[0m\n\u001b[1;31mSyntaxError\u001b[0m\u001b[1;31m:\u001b[0m invalid syntax\n"
     ]
    }
   ],
   "source": [
    " # Otra manera:\n",
    "def mostrar_piernas(self, piernas=19):\n",
    "        print(piernas)\n",
    "\n",
    "# otra manera:\n",
    "\n",
    "def mostrar_color_pelo(self, color_pelo)\n",
    "    self.color_pelo = color_pelo\n",
    "    print(self.color_pelo)"
   ]
  },
  {
   "cell_type": "code",
   "execution_count": 42,
   "metadata": {},
   "outputs": [
    {
     "output_type": "stream",
     "name": "stdout",
     "text": [
      "El nombre del humano es: Ataulfo\nedad: 89\nsexo: H\naltura H\ncolor de pelo: pelirrojo\n"
     ]
    }
   ],
   "source": [
    "class Humano:\n",
    "    def __init__(self, name, edad, sexo, altura, color_pelo, ojos=2, piernas=2, especie=\"Homo Sapiens\"):    \n",
    "\n",
    "        self.nombre = name  \n",
    "        self.edad = 89\n",
    "        self.sexo = sexo\n",
    "        self.altura = altura\n",
    "        self.color_pelo = color_pelo\n",
    "        self.ojos = ojos\n",
    "        self.piernas = piernas\n",
    "        self.especie = especie\n",
    "    \n",
    "    def mostrar_atributos(self):\n",
    "        print(\"El nombre del humano es:\", self.nombre)\n",
    "        print(\"edad:\", self.edad)\n",
    "        print(\"sexo:\", self.sexo)\n",
    "        print(\"altura\", self.sexo)\n",
    "        print(\"color de pelo:\", self.color_pelo)\n",
    "\n",
    "ataulfo = Humano(name=\"Ataulfo\", edad=25, sexo=\"H\", altura=2.0, ojos=1, color_pelo=\"pelirrojo\")\n",
    "\n",
    "ataulfo.mostrar_atributos()"
   ]
  },
  {
   "cell_type": "code",
   "execution_count": 43,
   "metadata": {},
   "outputs": [
    {
     "output_type": "execute_result",
     "data": {
      "text/plain": [
       "2"
      ]
     },
     "metadata": {},
     "execution_count": 43
    }
   ],
   "source": [
    "elvis.ojos"
   ]
  },
  {
   "cell_type": "code",
   "execution_count": 31,
   "metadata": {},
   "outputs": [
    {
     "output_type": "execute_result",
     "data": {
      "text/plain": [
       "1"
      ]
     },
     "metadata": {},
     "execution_count": 31
    }
   ],
   "source": [
    "ataulfo.ojos"
   ]
  },
  {
   "cell_type": "code",
   "execution_count": 44,
   "metadata": {},
   "outputs": [
    {
     "output_type": "execute_result",
     "data": {
      "text/plain": [
       "2"
      ]
     },
     "metadata": {},
     "execution_count": 44
    }
   ],
   "source": [
    "# Esta es otra forma de dar atributos a esta clase:\n",
    "\n",
    "class Perro():\n",
    "    ojos = 2\n",
    "    nombre= \"simba\"\n",
    "\n",
    "simba = Perro()\n",
    "simba.ojos"
   ]
  },
  {
   "cell_type": "code",
   "execution_count": null,
   "metadata": {},
   "outputs": [],
   "source": []
  }
 ],
 "metadata": {
  "kernelspec": {
   "name": "python374jvsc74a57bd02d8a740277f67c33143a8e5c8e55f738530a350d8def4a85d8635b690074994c",
   "display_name": "Python 3.7.4 64-bit"
  },
  "language_info": {
   "codemirror_mode": {
    "name": "ipython",
    "version": 3
   },
   "file_extension": ".py",
   "mimetype": "text/x-python",
   "name": "python",
   "nbconvert_exporter": "python",
   "pygments_lexer": "ipython3",
   "version": "3.7.4"
  },
  "metadata": {
   "interpreter": {
    "hash": "2d8a740277f67c33143a8e5c8e55f738530a350d8def4a85d8635b690074994c"
   }
  }
 },
 "nbformat": 4,
 "nbformat_minor": 4
}