{
 "metadata": {
  "language_info": {
   "codemirror_mode": {
    "name": "ipython",
    "version": 3
   },
   "file_extension": ".py",
   "mimetype": "text/x-python",
   "name": "python",
   "nbconvert_exporter": "python",
   "pygments_lexer": "ipython3",
   "version": "3.7.4"
  },
  "orig_nbformat": 2,
  "kernelspec": {
   "name": "python374jvsc74a57bd02d8a740277f67c33143a8e5c8e55f738530a350d8def4a85d8635b690074994c",
   "display_name": "Python 3.7.4 64-bit"
  },
  "metadata": {
   "interpreter": {
    "hash": "2d8a740277f67c33143a8e5c8e55f738530a350d8def4a85d8635b690074994c"
   }
  }
 },
 "nbformat": 4,
 "nbformat_minor": 2,
 "cells": [
  {
   "source": [
    "## Paths"
   ],
   "cell_type": "markdown",
   "metadata": {}
  },
  {
   "cell_type": "code",
   "execution_count": 2,
   "metadata": {},
   "outputs": [
    {
     "output_type": "execute_result",
     "data": {
      "text/plain": [
       "2"
      ]
     },
     "metadata": {},
     "execution_count": 2
    }
   ],
   "source": [
    "import mi_modulo\n",
    "\n",
    "mi_modulo.x"
   ]
  },
  {
   "cell_type": "code",
   "execution_count": 3,
   "metadata": {},
   "outputs": [
    {
     "output_type": "execute_result",
     "data": {
      "text/plain": [
       "'z:\\\\Data_Science\\\\TheBridge\\\\Content\\\\Contenido_Curso\\\\data_science_apr_2021\\\\week3_course_python_III\\\\day1_python_VII\\\\theory\\\\6_import\\\\mi_modulo.py'"
      ]
     },
     "metadata": {},
     "execution_count": 3
    }
   ],
   "source": [
    "# Todas las librerías tienen una variable __file__ que enseñan la ruta al fichero\n",
    "import mi_modulo as mm\n",
    "\n",
    "mm.__file__"
   ]
  },
  {
   "cell_type": "code",
   "execution_count": 4,
   "metadata": {},
   "outputs": [
    {
     "output_type": "execute_result",
     "data": {
      "text/plain": [
       "'Z:\\\\Data_Science\\\\Software\\\\Python\\\\Python_3.6.4\\\\lib\\\\random.py'"
      ]
     },
     "metadata": {},
     "execution_count": 4
    }
   ],
   "source": [
    "import random\n",
    "\n",
    "random.__file__"
   ]
  },
  {
   "cell_type": "code",
   "execution_count": 5,
   "metadata": {},
   "outputs": [
    {
     "output_type": "error",
     "ename": "ModuleNotFoundError",
     "evalue": "No module named 'fuera_modulo'",
     "traceback": [
      "\u001b[1;31m---------------------------------------------------------------------------\u001b[0m",
      "\u001b[1;31mModuleNotFoundError\u001b[0m                       Traceback (most recent call last)",
      "\u001b[1;32m<ipython-input-5-147158f71ea0>\u001b[0m in \u001b[0;36m<module>\u001b[1;34m\u001b[0m\n\u001b[1;32m----> 1\u001b[1;33m \u001b[1;32mimport\u001b[0m \u001b[0mfuera_modulo\u001b[0m\u001b[1;33m\u001b[0m\u001b[0m\n\u001b[0m",
      "\u001b[1;31mModuleNotFoundError\u001b[0m: No module named 'fuera_modulo'"
     ]
    }
   ],
   "source": [
    "import fuera_modulo"
   ]
  },
  {
   "cell_type": "code",
   "execution_count": 6,
   "metadata": {},
   "outputs": [],
   "source": [
    "import os, pandas, mi_modulo"
   ]
  },
  {
   "cell_type": "code",
   "execution_count": 7,
   "metadata": {},
   "outputs": [],
   "source": [
    "import sys"
   ]
  },
  {
   "cell_type": "code",
   "execution_count": 2,
   "metadata": {},
   "outputs": [
    {
     "output_type": "execute_result",
     "data": {
      "text/plain": [
       "['c:\\\\Users\\\\Usuario\\\\Desktop\\\\The_Bridge\\\\the_bridge_bootcamp\\\\week3_course_python_III\\\\day1_python_VII\\\\theory\\\\6_import',\n",
       " 'c:\\\\Users\\\\Usuario\\\\.vscode\\\\extensions\\\\ms-toolsai.jupyter-2021.5.745244803\\\\pythonFiles',\n",
       " 'c:\\\\Users\\\\Usuario\\\\.vscode\\\\extensions\\\\ms-toolsai.jupyter-2021.5.745244803\\\\pythonFiles',\n",
       " 'c:\\\\Users\\\\Usuario\\\\.vscode\\\\extensions\\\\ms-toolsai.jupyter-2021.5.745244803\\\\pythonFiles\\\\lib\\\\python',\n",
       " 'C:\\\\Users\\\\Usuario\\\\AppData\\\\Local\\\\Programs\\\\Python\\\\Python37\\\\python37.zip',\n",
       " 'C:\\\\Users\\\\Usuario\\\\AppData\\\\Local\\\\Programs\\\\Python\\\\Python37\\\\DLLs',\n",
       " 'C:\\\\Users\\\\Usuario\\\\AppData\\\\Local\\\\Programs\\\\Python\\\\Python37\\\\lib',\n",
       " 'C:\\\\Users\\\\Usuario\\\\AppData\\\\Local\\\\Programs\\\\Python\\\\Python37',\n",
       " '',\n",
       " 'C:\\\\Users\\\\Usuario\\\\AppData\\\\Roaming\\\\Python\\\\Python37\\\\site-packages',\n",
       " 'C:\\\\Users\\\\Usuario\\\\AppData\\\\Roaming\\\\Python\\\\Python37\\\\site-packages\\\\win32',\n",
       " 'C:\\\\Users\\\\Usuario\\\\AppData\\\\Roaming\\\\Python\\\\Python37\\\\site-packages\\\\win32\\\\lib',\n",
       " 'C:\\\\Users\\\\Usuario\\\\AppData\\\\Roaming\\\\Python\\\\Python37\\\\site-packages\\\\Pythonwin',\n",
       " 'C:\\\\Users\\\\Usuario\\\\AppData\\\\Local\\\\Programs\\\\Python\\\\Python37\\\\lib\\\\site-packages',\n",
       " 'C:\\\\Users\\\\Usuario\\\\AppData\\\\Roaming\\\\Python\\\\Python37\\\\site-packages\\\\IPython\\\\extensions',\n",
       " 'C:\\\\Users\\\\Usuario\\\\.ipython']"
      ]
     },
     "metadata": {},
     "execution_count": 2
    }
   ],
   "source": [
    "sys.path"
   ]
  },
  {
   "cell_type": "code",
   "execution_count": null,
   "metadata": {},
   "outputs": [],
   "source": [
    "# Python me va a dejar importar todos los archivos .py que estén dentro de las carpetas que aparecen en sys.path\n"
   ]
  },
  {
   "cell_type": "code",
   "execution_count": 1,
   "metadata": {},
   "outputs": [
    {
     "output_type": "stream",
     "name": "stdout",
     "text": [
      "<class 'list'>\n"
     ]
    }
   ],
   "source": [
    "print(type(sys.path))"
   ]
  },
  {
   "cell_type": "code",
   "execution_count": 9,
   "metadata": {},
   "outputs": [],
   "source": [
    "import mi_modulo as mm"
   ]
  },
  {
   "cell_type": "code",
   "execution_count": 10,
   "metadata": {},
   "outputs": [
    {
     "output_type": "execute_result",
     "data": {
      "text/plain": [
       "2"
      ]
     },
     "metadata": {},
     "execution_count": 10
    }
   ],
   "source": [
    "import f.archivo_dentro_f as adf\n",
    "\n",
    "adf.f1()"
   ]
  },
  {
   "cell_type": "code",
   "execution_count": 2,
   "metadata": {},
   "outputs": [],
   "source": [
    "ruta_a_theory = \"Z:\\\\Data_Science\\\\TheBridge\\\\Content\\\\Contenido_Curso\\\\data_science_apr_2021\\\\week3_course_python_III\\\\day1_python_VII\\\\theory\""
   ]
  },
  {
   "cell_type": "code",
   "execution_count": 3,
   "metadata": {},
   "outputs": [
    {
     "output_type": "execute_result",
     "data": {
      "text/plain": [
       "['z:\\\\Data_Science\\\\TheBridge\\\\Content\\\\Contenido_Curso\\\\data_science_apr_2021\\\\week3_course_python_III\\\\day1_python_VII\\\\theory\\\\6_import',\n",
       " 'c:\\\\Users\\\\gvazquez\\\\.vscode\\\\extensions\\\\ms-toolsai.jupyter-2021.5.745244803\\\\pythonFiles',\n",
       " 'c:\\\\Users\\\\gvazquez\\\\.vscode\\\\extensions\\\\ms-toolsai.jupyter-2021.5.745244803\\\\pythonFiles',\n",
       " 'c:\\\\Users\\\\gvazquez\\\\.vscode\\\\extensions\\\\ms-toolsai.jupyter-2021.5.745244803\\\\pythonFiles\\\\lib\\\\python',\n",
       " 'Z:\\\\Data_Science\\\\Software\\\\Python\\\\Python_3.6.4\\\\python36.zip',\n",
       " 'Z:\\\\Data_Science\\\\Software\\\\Python\\\\Python_3.6.4\\\\DLLs',\n",
       " 'Z:\\\\Data_Science\\\\Software\\\\Python\\\\Python_3.6.4\\\\lib',\n",
       " 'Z:\\\\Data_Science\\\\Software\\\\Python\\\\Python_3.6.4',\n",
       " '',\n",
       " 'C:\\\\Users\\\\gvazquez\\\\AppData\\\\Roaming\\\\Python\\\\Python36\\\\site-packages',\n",
       " 'C:\\\\Users\\\\gvazquez\\\\AppData\\\\Roaming\\\\Python\\\\Python36\\\\site-packages\\\\win32',\n",
       " 'C:\\\\Users\\\\gvazquez\\\\AppData\\\\Roaming\\\\Python\\\\Python36\\\\site-packages\\\\win32\\\\lib',\n",
       " 'C:\\\\Users\\\\gvazquez\\\\AppData\\\\Roaming\\\\Python\\\\Python36\\\\site-packages\\\\Pythonwin',\n",
       " 'Z:\\\\Data_Science\\\\Software\\\\Python\\\\Python_3.6.4\\\\lib\\\\site-packages',\n",
       " 'C:\\\\Users\\\\gvazquez\\\\AppData\\\\Roaming\\\\Python\\\\Python36\\\\site-packages\\\\IPython\\\\extensions',\n",
       " 'C:\\\\Users\\\\gvazquez\\\\.ipython',\n",
       " 'Z:\\\\Data_Science\\\\TheBridge\\\\Content\\\\Contenido_Curso\\\\data_science_apr_2021\\\\week3_course_python_III\\\\day1_python_VII\\\\theory']"
      ]
     },
     "metadata": {},
     "execution_count": 3
    }
   ],
   "source": [
    "sys.path.append(ruta_a_theory)\n",
    "sys.path"
   ]
  },
  {
   "cell_type": "code",
   "execution_count": 4,
   "metadata": {},
   "outputs": [
    {
     "output_type": "execute_result",
     "data": {
      "text/plain": [
       "2"
      ]
     },
     "metadata": {},
     "execution_count": 4
    }
   ],
   "source": [
    "import fuera_modulo as fm\n",
    "fm.h"
   ]
  },
  {
   "cell_type": "code",
   "execution_count": null,
   "metadata": {},
   "outputs": [],
   "source": []
  }
 ]
}