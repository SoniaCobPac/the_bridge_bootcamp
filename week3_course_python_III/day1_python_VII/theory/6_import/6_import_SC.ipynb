{
 "cells": [
  {
   "cell_type": "markdown",
   "metadata": {},
   "source": [
    "# Apartado 6 - Import"
   ]
  },
  {
   "cell_type": "markdown",
   "metadata": {},
   "source": [
    "- Import modulos\n",
    "- Abrir ficheros"
   ]
  },
  {
   "cell_type": "markdown",
   "metadata": {},
   "source": [
    "------------------------------------------------------------------"
   ]
  },
  {
   "cell_type": "markdown",
   "metadata": {},
   "source": [
    "## Import modulos"
   ]
  },
  {
   "cell_type": "markdown",
   "metadata": {},
   "source": [
    "[HELP](https://realpython.com/python-modules-packages/)"
   ]
  },
  {
   "cell_type": "code",
   "execution_count": null,
   "metadata": {},
   "outputs": [],
   "source": [
    "# Solo podemos importar librerías si están a la misma altura (en la misma carpeta) que el fichero donde la importo\n",
    "# import 'archivo' Para acceder a todo ese archivo uso 'archivo.'  delante de la función/variable que este llamando.\n",
    "# import 'archivo' as 'a' En este caso para acceder al archivo usaría 'a.'"
   ]
  },
  {
   "cell_type": "code",
   "execution_count": null,
   "metadata": {},
   "outputs": [],
   "source": [
    "# Si solo quiero utilizar una función de una librería:\n",
    "# from 'archivo' import 'funcion'\n",
    "# En este caso luego puedo llamar las funciones sin referencia a la librería porque ya las he traido a mi archivo\n",
    "# También puedo importar variables. No las puedo usar si no las he importado o si no he importado toda la librería donde están\n",
    "# Si uso el mismo nombre para una variable en la librería importada y en el archivo en el que estoy trabajando, Python considera el valor de la última que he escrito"
   ]
  },
  {
   "cell_type": "code",
   "execution_count": null,
   "metadata": {},
   "outputs": [],
   "source": [
    "# Solo se pueden importar archivos .py, no podemos importar archivos .ipynb"
   ]
  },
  {
   "cell_type": "code",
   "execution_count": null,
   "metadata": {},
   "outputs": [],
   "source": [
    "# Cuando modificamos un fichero que ya hemos importado, no se actualiza en nuestro archivo automáticamente, tenemos que reiniciar el kernel y volverlo a importar"
   ]
  },
  {
   "cell_type": "code",
   "execution_count": 1,
   "metadata": {},
   "outputs": [
    {
     "output_type": "stream",
     "name": "stdout",
     "text": [
      "8\n"
     ]
    }
   ],
   "source": [
    "# Estamos importando un módulo/librería/fichero:\n",
    "\n",
    "import mi_modulo \n",
    "\n",
    "suma = mi_modulo.suma_2(a=2, b=6)\n",
    "print(suma)"
   ]
  },
  {
   "cell_type": "code",
   "execution_count": 2,
   "metadata": {},
   "outputs": [
    {
     "output_type": "execute_result",
     "data": {
      "text/plain": [
       "1"
      ]
     },
     "metadata": {},
     "execution_count": 2
    }
   ],
   "source": [
    "resta = mi_modulo.resta_2(a=7, b=6)\n",
    "resta"
   ]
  },
  {
   "cell_type": "code",
   "execution_count": 3,
   "metadata": {},
   "outputs": [
    {
     "output_type": "execute_result",
     "data": {
      "text/plain": [
       "2"
      ]
     },
     "metadata": {},
     "execution_count": 3
    }
   ],
   "source": [
    "# Solo importamos una función de esa librería:\n",
    "\n",
    "from mi_modulo import resta_2\n",
    "\n",
    "resta2 = resta_2(a=5, b=3)  # Ya no tenemos que llamar a la librería para usar esa función\n",
    "resta2"
   ]
  },
  {
   "cell_type": "code",
   "execution_count": 6,
   "metadata": {},
   "outputs": [
    {
     "output_type": "execute_result",
     "data": {
      "text/plain": [
       "81"
      ]
     },
     "metadata": {},
     "execution_count": 6
    }
   ],
   "source": [
    "# Estamos importando un módulo/librería/fichero con un alias \"mm\":\n",
    "\n",
    "import mi_modulo as mm\n",
    "\n",
    "mm.resta_2(85, 4)"
   ]
  },
  {
   "cell_type": "code",
   "execution_count": null,
   "metadata": {},
   "outputs": [],
   "source": [
    "# importar un archivo dentro de una carpeta que esta a la misma altura\n",
    "import folder.archivo_dentro_folder as adf\n",
    "\n",
    "# importar un archivo dentro de una carpeta dentro de otra carpeta que esta en mi misma altura\n",
    "import folder.folder2.archivo_dentro_folder as adf2\n"
   ]
  },
  {
   "cell_type": "code",
   "execution_count": null,
   "metadata": {},
   "outputs": [],
   "source": [
    "# Si queremos importar todo lo que tenga un fichero:\n",
    "from folder.folder2.archivo_dentro_folder import *  # Pero importar todo no es buena práctica porque no sabemos que puede contener. Y si hay funciones/variables iguales que las que tenemos en nuestro archivo podemos sobre-escribirlas"
   ]
  },
  {
   "cell_type": "markdown",
   "metadata": {},
   "source": [
    "--------------------------------------------------------------------------"
   ]
  },
  {
   "cell_type": "code",
   "execution_count": null,
   "metadata": {},
   "outputs": [],
   "source": [
    "# sys.path es una variable que contiene todos los path que mi Python tiene incorporados. Python me va a dejar importar todos los archivos .py que esten dentro de las carpetas sys.path.\n",
    "# Siempre por defecto en la variable sys.path va a aparecer la ruta a la carpeta del archivo que estoy utilizando\n",
    "\n",
    "# Python me va a dejar importar todos los archivos .py que estén dentro de las carpetas que aparecen en sys.path\n",
    "# Si tengo una libreria en una carpeta fuera del archivo donde la quiero importar (superior a mi archivo), puedo incluir la path de ese archivo en sys.path para poder importarla:\n",
    "\n",
    "# click derecho al archivo - copy path(absoluta):\n",
    "# C:\\Users\\Usuario\\Desktop\\The_Bridge\\the_bridge_bootcamp\\week3_course_python_III\\day1_python_VII\\theory\n",
    "# Hay que poner doble barra para importar el path (requerimiento de Windows):\n",
    "# sys.path.append(C:\\\\Users\\Usuario\\\\Desktop\\\\The_Bridge\\\\the_bridge_bootcamp\\\\week3_course_python_III\\\\day1_python_VII\\\\theory)\n",
    "# Ahora podría utilizar todo lo que tengo en esa carpeta\n",
    "\n",
    "#Este método es relativo - solo funciona en mi ordenador. Si alguien lo utiliza en el suyo como no tenemos las mismas carpetas ya no podría leer el archivo."
   ]
  },
  {
   "cell_type": "code",
   "execution_count": null,
   "metadata": {},
   "outputs": [],
   "source": [
    "# como sys.path es una lista también podemos eliminar alguno de sus elementos con pop() pero una vez importado ese archivo todos sus elementos quedan importados en el archivo actual a menos que reinicie el kernel"
   ]
  },
  {
   "cell_type": "code",
   "execution_count": null,
   "metadata": {},
   "outputs": [],
   "source": [
    "# forma relativa\n",
    "import folder.archivo_dentro_folder\n",
    "\n",
    "# copy relative path ==> relativa\n",
    "ruta_relativa=\n",
    "\"week3_course_python_III\\day1_python_VII\\theory\\6_import\\6_import.ipynb\"\n",
    "\n",
    "# La ruta relativa es 'personal', este link no va a funcionar para otra gente porque ellos no tienen las mismas carpetas que yo en mi ordenador\n",
    "\n",
    "# copy path ==> absoluto\n",
    "ruta_absoluta = \"C:\\Users\\Usuario\\Desktop\\The_Bridge\\the_bridge_bootcamp\\week3_course_python_III\\day1_python_VII\\theory\\6_import\\6_import.ipynb\""
   ]
  },
  {
   "cell_type": "code",
   "execution_count": 7,
   "metadata": {},
   "outputs": [
    {
     "output_type": "execute_result",
     "data": {
      "text/plain": [
       "['c:\\\\Users\\\\Usuario\\\\Desktop\\\\The_Bridge\\\\the_bridge_bootcamp\\\\week3_course_python_III\\\\day1_python_VII\\\\theory\\\\6_import',\n",
       " 'c:\\\\Users\\\\Usuario\\\\.vscode\\\\extensions\\\\ms-toolsai.jupyter-2021.5.745244803\\\\pythonFiles',\n",
       " 'c:\\\\Users\\\\Usuario\\\\.vscode\\\\extensions\\\\ms-toolsai.jupyter-2021.5.745244803\\\\pythonFiles',\n",
       " 'c:\\\\Users\\\\Usuario\\\\.vscode\\\\extensions\\\\ms-toolsai.jupyter-2021.5.745244803\\\\pythonFiles\\\\lib\\\\python',\n",
       " 'C:\\\\Users\\\\Usuario\\\\AppData\\\\Local\\\\Programs\\\\Python\\\\Python37\\\\python37.zip',\n",
       " 'C:\\\\Users\\\\Usuario\\\\AppData\\\\Local\\\\Programs\\\\Python\\\\Python37\\\\DLLs',\n",
       " 'C:\\\\Users\\\\Usuario\\\\AppData\\\\Local\\\\Programs\\\\Python\\\\Python37\\\\lib',\n",
       " 'C:\\\\Users\\\\Usuario\\\\AppData\\\\Local\\\\Programs\\\\Python\\\\Python37',\n",
       " '',\n",
       " 'C:\\\\Users\\\\Usuario\\\\AppData\\\\Roaming\\\\Python\\\\Python37\\\\site-packages',\n",
       " 'C:\\\\Users\\\\Usuario\\\\AppData\\\\Roaming\\\\Python\\\\Python37\\\\site-packages\\\\win32',\n",
       " 'C:\\\\Users\\\\Usuario\\\\AppData\\\\Roaming\\\\Python\\\\Python37\\\\site-packages\\\\win32\\\\lib',\n",
       " 'C:\\\\Users\\\\Usuario\\\\AppData\\\\Roaming\\\\Python\\\\Python37\\\\site-packages\\\\Pythonwin',\n",
       " 'C:\\\\Users\\\\Usuario\\\\AppData\\\\Local\\\\Programs\\\\Python\\\\Python37\\\\lib\\\\site-packages',\n",
       " 'C:\\\\Users\\\\Usuario\\\\AppData\\\\Roaming\\\\Python\\\\Python37\\\\site-packages\\\\IPython\\\\extensions',\n",
       " 'C:\\\\Users\\\\Usuario\\\\.ipython']"
      ]
     },
     "metadata": {},
     "execution_count": 7
    }
   ],
   "source": [
    "import sys\n",
    "sys.path"
   ]
  },
  {
   "cell_type": "code",
   "execution_count": 8,
   "metadata": {},
   "outputs": [
    {
     "output_type": "execute_result",
     "data": {
      "text/plain": [
       "'c:\\\\Users\\\\Usuario\\\\Desktop\\\\The_Bridge\\\\the_bridge_bootcamp\\\\week3_course_python_III\\\\day1_python_VII\\\\theory\\\\6_import\\\\mi_modulo.py'"
      ]
     },
     "metadata": {},
     "execution_count": 8
    }
   ],
   "source": [
    "import mi_modulo as mm\n",
    "\n",
    "mm.__file__"
   ]
  },
  {
   "cell_type": "code",
   "execution_count": 9,
   "metadata": {},
   "outputs": [
    {
     "output_type": "execute_result",
     "data": {
      "text/plain": [
       "'C:\\\\Users\\\\Usuario\\\\AppData\\\\Local\\\\Programs\\\\Python\\\\Python37\\\\lib\\\\re.py'"
      ]
     },
     "metadata": {},
     "execution_count": 9
    }
   ],
   "source": [
    "import re\n",
    "\n",
    "re.__file__"
   ]
  },
  {
   "source": [
    "### Obtener la ruta de librerías desde cualquier ordenador\n"
   ],
   "cell_type": "markdown",
   "metadata": {}
  },
  {
   "cell_type": "code",
   "execution_count": 10,
   "metadata": {},
   "outputs": [
    {
     "output_type": "execute_result",
     "data": {
      "text/plain": [
       "'c:\\\\Users\\\\Usuario\\\\Desktop\\\\The_Bridge\\\\the_bridge_bootcamp\\\\week3_course_python_III\\\\day1_python_VII\\\\theory\\\\6_import'"
      ]
     },
     "metadata": {},
     "execution_count": 10
    }
   ],
   "source": [
    "# Os es un archivo .py built-in, que viene en Python por defecto\n",
    "\n",
    "# Esto devuelve la ruta a la carpeta en la que estoy:\n",
    "\n",
    "import os\n",
    "\n",
    "os.getcwd()"
   ]
  },
  {
   "cell_type": "code",
   "execution_count": 11,
   "metadata": {},
   "outputs": [
    {
     "output_type": "execute_result",
     "data": {
      "text/plain": [
       "'c:\\\\Users\\\\Usuario\\\\Desktop\\\\The_Bridge\\\\the_bridge_bootcamp\\\\week3_course_python_III\\\\day1_python_VII\\\\theory'"
      ]
     },
     "metadata": {},
     "execution_count": 11
    }
   ],
   "source": [
    "# Esto me devuelve la carpeta que está por encima del archivo en el que estoy:\n",
    "\n",
    "os.path.dirname(os.getcwd())"
   ]
  },
  {
   "cell_type": "code",
   "execution_count": 13,
   "metadata": {},
   "outputs": [
    {
     "output_type": "execute_result",
     "data": {
      "text/plain": [
       "'c:\\\\Users\\\\Usuario\\\\Desktop\\\\The_Bridge\\\\the_bridge_bootcamp\\\\week3_course_python_III\\\\day1_python_VII'"
      ]
     },
     "metadata": {},
     "execution_count": 13
    }
   ],
   "source": [
    "# Puedo seguir usando dirname dentro de otro dirname para seguir accediendo a carpetas superiores\n",
    "\n",
    "os.path.dirname(os.path.dirname(os.getcwd()))"
   ]
  },
  {
   "cell_type": "code",
   "execution_count": 15,
   "metadata": {},
   "outputs": [
    {
     "output_type": "stream",
     "name": "stdout",
     "text": [
      "c:\\Users\\Usuario\\Desktop\\The_Bridge\\the_bridge_bootcamp\\week3_course_python_III\\day1_python_VII\\theory\\6_import\nc:\\Users\\Usuario\\Desktop\\The_Bridge\\the_bridge_bootcamp\\week3_course_python_III\\day1_python_VII\\theory\nc:\\Users\\Usuario\\Desktop\\The_Bridge\\the_bridge_bootcamp\\week3_course_python_III\\day1_python_VII\nc:\\Users\\Usuario\\Desktop\\The_Bridge\\the_bridge_bootcamp\\week3_course_python_III\nc:\\Users\\Usuario\\Desktop\\The_Bridge\\the_bridge_bootcamp\nc:\\Users\\Usuario\\Desktop\\The_Bridge\n"
     ]
    },
    {
     "output_type": "execute_result",
     "data": {
      "text/plain": [
       "['c:\\\\Users\\\\Usuario\\\\Desktop\\\\The_Bridge\\\\the_bridge_bootcamp\\\\week3_course_python_III\\\\day1_python_VII\\\\theory\\\\6_import',\n",
       " 'c:\\\\Users\\\\Usuario\\\\.vscode\\\\extensions\\\\ms-toolsai.jupyter-2021.5.745244803\\\\pythonFiles',\n",
       " 'c:\\\\Users\\\\Usuario\\\\.vscode\\\\extensions\\\\ms-toolsai.jupyter-2021.5.745244803\\\\pythonFiles',\n",
       " 'c:\\\\Users\\\\Usuario\\\\.vscode\\\\extensions\\\\ms-toolsai.jupyter-2021.5.745244803\\\\pythonFiles\\\\lib\\\\python',\n",
       " 'C:\\\\Users\\\\Usuario\\\\AppData\\\\Local\\\\Programs\\\\Python\\\\Python37\\\\python37.zip',\n",
       " 'C:\\\\Users\\\\Usuario\\\\AppData\\\\Local\\\\Programs\\\\Python\\\\Python37\\\\DLLs',\n",
       " 'C:\\\\Users\\\\Usuario\\\\AppData\\\\Local\\\\Programs\\\\Python\\\\Python37\\\\lib',\n",
       " 'C:\\\\Users\\\\Usuario\\\\AppData\\\\Local\\\\Programs\\\\Python\\\\Python37',\n",
       " '',\n",
       " 'C:\\\\Users\\\\Usuario\\\\AppData\\\\Roaming\\\\Python\\\\Python37\\\\site-packages',\n",
       " 'C:\\\\Users\\\\Usuario\\\\AppData\\\\Roaming\\\\Python\\\\Python37\\\\site-packages\\\\win32',\n",
       " 'C:\\\\Users\\\\Usuario\\\\AppData\\\\Roaming\\\\Python\\\\Python37\\\\site-packages\\\\win32\\\\lib',\n",
       " 'C:\\\\Users\\\\Usuario\\\\AppData\\\\Roaming\\\\Python\\\\Python37\\\\site-packages\\\\Pythonwin',\n",
       " 'C:\\\\Users\\\\Usuario\\\\AppData\\\\Local\\\\Programs\\\\Python\\\\Python37\\\\lib\\\\site-packages',\n",
       " 'C:\\\\Users\\\\Usuario\\\\AppData\\\\Roaming\\\\Python\\\\Python37\\\\site-packages\\\\IPython\\\\extensions',\n",
       " 'C:\\\\Users\\\\Usuario\\\\.ipython',\n",
       " 'c:\\\\Users\\\\Usuario\\\\Desktop\\\\The_Bridge']"
      ]
     },
     "metadata": {},
     "execution_count": 15
    }
   ],
   "source": [
    "# Todos los proyectos tienen una carpeta raíz. Esa es la carpeta que usamos para compartir archivos\n",
    "\n",
    "# El objetivo es añadir al sys.path la ruta de la carpeta raíz que está N carpetas por encima de la que contiene el archivo que se está ejecutando\n",
    "\n",
    "ruta = os.getcwd()\n",
    "print(ruta)\n",
    "for i in range(5):\n",
    "    ruta = os.path.dirname(ruta)\n",
    "    print(ruta)\n",
    "\n",
    "sys.path.append(ruta)\n",
    "sys.path"
   ]
  },
  {
   "cell_type": "code",
   "execution_count": null,
   "metadata": {},
   "outputs": [],
   "source": [
    "import week3_course_python_III.day2_python_VIII.theory.imports.mi_modulo as mm\n",
    "\n",
    "mm.funcion()"
   ]
  },
  {
   "cell_type": "code",
   "execution_count": null,
   "metadata": {},
   "outputs": [],
   "source": [
    "# Archivos .py se ejecutan en la terminal (con print() siempre)\n",
    "# si utilizo os.getcwd() en .py esto no me da la ruta a la carpeta en la que estoy. En este tipo de archivos tenemos que utilizar print(__file__), no hace falta importar os, y en este caso esto me da la ruta al archivo (no carpeta) en la que estoy"
   ]
  },
  {
   "cell_type": "code",
   "execution_count": 17,
   "metadata": {},
   "outputs": [
    {
     "output_type": "execute_result",
     "data": {
      "text/plain": [
       "'\\\\'"
      ]
     },
     "metadata": {},
     "execution_count": 17
    }
   ],
   "source": [
    "# os.sep es una variable que contiene una barra de rutas dependiendo del sistema operativo\n",
    "os.sep"
   ]
  },
  {
   "cell_type": "code",
   "execution_count": null,
   "metadata": {},
   "outputs": [],
   "source": []
  }
 ],
 "metadata": {
  "kernelspec": {
   "name": "python374jvsc74a57bd02d8a740277f67c33143a8e5c8e55f738530a350d8def4a85d8635b690074994c",
   "display_name": "Python 3.7.4 64-bit"
  },
  "language_info": {
   "codemirror_mode": {
    "name": "ipython",
    "version": 3
   },
   "file_extension": ".py",
   "mimetype": "text/x-python",
   "name": "python",
   "nbconvert_exporter": "python",
   "pygments_lexer": "ipython3",
   "version": "3.7.4"
  },
  "metadata": {
   "interpreter": {
    "hash": "2d8a740277f67c33143a8e5c8e55f738530a350d8def4a85d8635b690074994c"
   }
  }
 },
 "nbformat": 4,
 "nbformat_minor": 4
}