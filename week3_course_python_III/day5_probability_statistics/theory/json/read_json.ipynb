{
 "metadata": {
  "language_info": {
   "codemirror_mode": {
    "name": "ipython",
    "version": 3
   },
   "file_extension": ".py",
   "mimetype": "text/x-python",
   "name": "python",
   "nbconvert_exporter": "python",
   "pygments_lexer": "ipython3",
   "version": "3.7.4"
  },
  "orig_nbformat": 2,
  "kernelspec": {
   "name": "python374jvsc74a57bd02d8a740277f67c33143a8e5c8e55f738530a350d8def4a85d8635b690074994c",
   "display_name": "Python 3.7.4 64-bit"
  },
  "metadata": {
   "interpreter": {
    "hash": "2d8a740277f67c33143a8e5c8e55f738530a350d8def4a85d8635b690074994c"
   }
  }
 },
 "nbformat": 4,
 "nbformat_minor": 2,
 "cells": [
  {
   "source": [
    "#### Para escribir a un archivo un json"
   ],
   "cell_type": "markdown",
   "metadata": {}
  },
  {
   "cell_type": "code",
   "execution_count": 1,
   "metadata": {},
   "outputs": [],
   "source": [
    "# Un Json es un archivo de texto que se abre como un diccionario"
   ]
  },
  {
   "cell_type": "code",
   "execution_count": 2,
   "metadata": {},
   "outputs": [],
   "source": [
    "import json"
   ]
  },
  {
   "cell_type": "code",
   "execution_count": 3,
   "metadata": {},
   "outputs": [],
   "source": [
    "nombre_archivo = \"pepito_ataulfo.json\"\n",
    "\n",
    "mi_diccionario = {\"clave\": 2, \n",
    "                  \"otra_clave\": 3, \n",
    "                  515:[1,3,4,5,6,7,8,2], \n",
    "                  \"DICT\":{\"clave_pequena\": \"valor_pequeño\"}}\n",
    "\n",
    "with open(nombre_archivo, 'w+') as outfile:\n",
    "    json.dump(mi_diccionario, outfile, indent=4)"
   ]
  },
  {
   "source": [
    "#### Para sobreescribir un archivo añadiendo información (si se requiere)"
   ],
   "cell_type": "markdown",
   "metadata": {}
  },
  {
   "cell_type": "code",
   "execution_count": 8,
   "metadata": {},
   "outputs": [],
   "source": [
    "with open(nombre_archivo, 'a+', encoding='latin1') as outfile:\n",
    "    json.dump(mi_diccionario, outfile, indent=4)    #indent se muestra en el archivo Json"
   ]
  },
  {
   "source": [
    "#### Para leer un archivo json\n"
   ],
   "cell_type": "markdown",
   "metadata": {}
  },
  {
   "cell_type": "code",
   "execution_count": 25,
   "metadata": {},
   "outputs": [
    {
     "output_type": "execute_result",
     "data": {
      "text/plain": [
       "[{'name': 'Molecule Man',\n",
       "  'age': 29,\n",
       "  'secretIdentity': 'Dan Jukes',\n",
       "  'powers': ['Radiation resistance', 'Turning tiny', 'Radiation blast']},\n",
       " {'name': 'Madame Uppercut',\n",
       "  'age': 39,\n",
       "  'secretIdentity': 'Jane Wilson',\n",
       "  'powers': ['Million tonne punch',\n",
       "   'Damage resistance',\n",
       "   'Superhuman reflexes']},\n",
       " {'name': 'Eternal Flame',\n",
       "  'age': 1000000,\n",
       "  'secretIdentity': 'Unknown',\n",
       "  'powers': ['Immortality',\n",
       "   'Heat Immunity',\n",
       "   'Inferno',\n",
       "   'Teleportation',\n",
       "   'Interdimensional travel']}]"
      ]
     },
     "metadata": {},
     "execution_count": 25
    }
   ],
   "source": [
    "list(json_data_indented_readed.values())[-1]"
   ]
  },
  {
   "cell_type": "code",
   "execution_count": 17,
   "metadata": {},
   "outputs": [
    {
     "output_type": "execute_result",
     "data": {
      "text/plain": [
       "{'squadName': 'Eternal Flame',\n",
       " 'homeTown': 'Metro City',\n",
       " 'formed': 2016,\n",
       " 'secretBase': 'Super tower',\n",
       " 'active': True,\n",
       " 'members': [{'name': 'Molecule Man',\n",
       "   'age': 29,\n",
       "   'secretIdentity': 'Dan Jukes',\n",
       "   'powers': ['Radiation resistance', 'Turning tiny', 'Radiation blast']},\n",
       "  {'name': 'Madame Uppercut',\n",
       "   'age': 39,\n",
       "   'secretIdentity': 'Jane Wilson',\n",
       "   'powers': ['Million tonne punch',\n",
       "    'Damage resistance',\n",
       "    'Superhuman reflexes']},\n",
       "  {'name': 'Eternal Flame',\n",
       "   'age': 1000000,\n",
       "   'secretIdentity': 'Unknown',\n",
       "   'powers': ['Immortality',\n",
       "    'Heat Immunity',\n",
       "    'Inferno',\n",
       "    'Teleportation',\n",
       "    'Interdimensional travel']}]}"
      ]
     },
     "metadata": {},
     "execution_count": 17
    }
   ],
   "source": [
    "import json\n",
    "with open('data_indented.json', 'r+') as outfile:  \n",
    "    \n",
    "    json_data_indented_readed = json.load(outfile)\n",
    "\n",
    "json_data_indented_readed"
   ]
  },
  {
   "cell_type": "code",
   "execution_count": 15,
   "metadata": {},
   "outputs": [
    {
     "output_type": "stream",
     "name": "stdout",
     "text": [
      "<class 'dict'>\n"
     ]
    },
    {
     "output_type": "execute_result",
     "data": {
      "text/plain": [
       "{'squadName': 'Eternal Flame',\n",
       " 'homeTown': 'Metro City',\n",
       " 'formed': 2016,\n",
       " 'secretBase': 'Super tower',\n",
       " 'active': True,\n",
       " 'members': [{'name': 'Molecule Man',\n",
       "   'age': 29,\n",
       "   'secretIdentity': 'Dan Jukes',\n",
       "   'powers': ['Radiation resistance', 'Turning tiny', 'Radiation blast']},\n",
       "  {'name': 'Madame Uppercut',\n",
       "   'age': 39,\n",
       "   'secretIdentity': 'Jane Wilson',\n",
       "   'powers': ['Million tonne punch',\n",
       "    'Damage resistance',\n",
       "    'Superhuman reflexes']},\n",
       "  {'name': 'Eternal Flame',\n",
       "   'age': 1000000,\n",
       "   'secretIdentity': 'Unknown',\n",
       "   'powers': ['Immortality',\n",
       "    'Heat Immunity',\n",
       "    'Inferno',\n",
       "    'Teleportation',\n",
       "    'Interdimensional travel']}]}"
      ]
     },
     "metadata": {},
     "execution_count": 15
    }
   ],
   "source": [
    "import json\n",
    "with open('data_indented.json', 'r+') as outfile:   # 'r+' nos da permisos de lectura\n",
    "                                                     #cuando tu salgas del with open, se cierra el archivo\n",
    "    json_data_indented_readed = json.load(outfile)\n",
    "\n",
    "print(type(json_data_indented_readed))\n",
    "json_data_indented_readed"
   ]
  },
  {
   "cell_type": "code",
   "execution_count": 8,
   "metadata": {},
   "outputs": [
    {
     "output_type": "execute_result",
     "data": {
      "text/plain": [
       "[{'name': 'Molecule Man',\n",
       "  'age': 29,\n",
       "  'secretIdentity': 'Dan Jukes',\n",
       "  'powers': ['Radiation resistance', 'Turning tiny', 'Radiation blast']},\n",
       " {'name': 'Madame Uppercut',\n",
       "  'age': 39,\n",
       "  'secretIdentity': 'Jane Wilson',\n",
       "  'powers': ['Million tonne punch',\n",
       "   'Damage resistance',\n",
       "   'Superhuman reflexes']},\n",
       " {'name': 'Eternal Flame',\n",
       "  'age': 1000000,\n",
       "  'secretIdentity': 'Unknown',\n",
       "  'powers': ['Immortality',\n",
       "   'Heat Immunity',\n",
       "   'Inferno',\n",
       "   'Teleportation',\n",
       "   'Interdimensional travel']}]"
      ]
     },
     "metadata": {},
     "execution_count": 8
    }
   ],
   "source": [
    "# Estos son los subdiccionarios\n",
    "json_data_indented_readed[\"members\"]"
   ]
  },
  {
   "cell_type": "code",
   "execution_count": null,
   "metadata": {},
   "outputs": [],
   "source": []
  },
  {
   "cell_type": "code",
   "execution_count": 8,
   "metadata": {},
   "outputs": [],
   "source": [
    "# esto es como Data Wrangling: Leer de tal forma una información que yo pueda trabajar con ella"
   ]
  },
  {
   "cell_type": "code",
   "execution_count": 9,
   "metadata": {},
   "outputs": [
    {
     "output_type": "stream",
     "name": "stdout",
     "text": [
      "{\"name\": \"Molecule Man\", \"age\": 29, \"secretIdentity\": \"Dan Jukes\", \"powers\": [\"Radiation resistance\", \"Turning tiny\", \"Radiation blast\"]}\n-----------\n{'name': 'Molecule Man', 'age': 29, 'secretIdentity': 'Dan Jukes', 'powers': ['Radiation resistance', 'Turning tiny', 'Radiation blast']}\n\n##############################\n\n{\"name\": \"Madame Uppercut\", \"age\": 39, \"secretIdentity\": \"Jane Wilson\", \"powers\": [\"Million tonne punch\", \"Damage resistance\", \"Superhuman reflexes\"]}\n-----------\n{'name': 'Madame Uppercut', 'age': 39, 'secretIdentity': 'Jane Wilson', 'powers': ['Million tonne punch', 'Damage resistance', 'Superhuman reflexes']}\n\n##############################\n\n{\"name\": \"Eternal Flame\", \"age\": 1000000, \"secretIdentity\": \"Unknown\", \"powers\": [\"Immortality\", \"Heat Immunity\", \"Inferno\", \"Teleportation\", \"Interdimensional travel\"]}\n-----------\n{'name': 'Eternal Flame', 'age': 1000000, 'secretIdentity': 'Unknown', 'powers': ['Immortality', 'Heat Immunity', 'Inferno', 'Teleportation', 'Interdimensional travel']}\n\n##############################\n\n<class 'str'>\n<class 'dict'>\n"
     ]
    }
   ],
   "source": [
    "# Intentamos sacar el diccionario que está dentro del diccionario principal. \n",
    "\n",
    "jsons_dicts = []\n",
    "\n",
    "for mini_json in json_data_indented_readed[\"members\"]:\n",
    "    mini_json_readed_string = json.dumps(mini_json)     # Lo leo como strings con dumps\n",
    "    string_to_json = json.loads(mini_json_readed_string)    #Loads convierte strings a diccionario. Si nos da error eso significa                                                                   que el archivo no tiene la estructura de diccionario\n",
    "    print(mini_json_readed_string)  #Lo estamos leyendo como string\n",
    "    print(\"-----------\")\n",
    "    print(string_to_json)   # Lo estamos leyendo como diccionario\n",
    "    jsons_dicts.append(string_to_json)  # Añadimos el diccionario a la lisa Json_dicts, para tener una lista de diccionarios que es                                             más fácil de manejar\n",
    "    print(\"\\n##############################\\n\")\n",
    "\n",
    "print(type(mini_json_readed_string))\n",
    "print(type(string_to_json))"
   ]
  },
  {
   "cell_type": "code",
   "execution_count": 10,
   "metadata": {},
   "outputs": [
    {
     "output_type": "execute_result",
     "data": {
      "text/plain": [
       "[{'name': 'Molecule Man',\n",
       "  'age': 29,\n",
       "  'secretIdentity': 'Dan Jukes',\n",
       "  'powers': ['Radiation resistance', 'Turning tiny', 'Radiation blast']},\n",
       " {'name': 'Madame Uppercut',\n",
       "  'age': 39,\n",
       "  'secretIdentity': 'Jane Wilson',\n",
       "  'powers': ['Million tonne punch',\n",
       "   'Damage resistance',\n",
       "   'Superhuman reflexes']},\n",
       " {'name': 'Eternal Flame',\n",
       "  'age': 1000000,\n",
       "  'secretIdentity': 'Unknown',\n",
       "  'powers': ['Immortality',\n",
       "   'Heat Immunity',\n",
       "   'Inferno',\n",
       "   'Teleportation',\n",
       "   'Interdimensional travel']}]"
      ]
     },
     "metadata": {},
     "execution_count": 10
    }
   ],
   "source": [
    "# Ya tenemos una lista de diccionarios:\n",
    "jsons_dicts"
   ]
  },
  {
   "cell_type": "code",
   "execution_count": 11,
   "metadata": {},
   "outputs": [],
   "source": [
    "# escribimos cada mini_json en archivos diferentes\n",
    "for i, jsn in enumerate(jsons_dicts):\n",
    "    nombre_archivo = str(i) + '_final_data.json'\n",
    "    with open(nombre_archivo, 'w+') as outfile:         # 'w+' nos da permisos de escritura\n",
    "        json.dump(jsn, outfile, indent=4) \n",
    "\n",
    "# Cuando ejecuto esta celda, se crean los archivos json indipendientes 0-2_final_data"
   ]
  },
  {
   "cell_type": "code",
   "execution_count": 12,
   "metadata": {},
   "outputs": [
    {
     "output_type": "stream",
     "name": "stdout",
     "text": [
      "<class 'dict'>\n"
     ]
    },
    {
     "output_type": "execute_result",
     "data": {
      "text/plain": [
       "{'name': 'Molecule Man',\n",
       " 'age': 29,\n",
       " 'secretIdentity': 'Dan Jukes',\n",
       " 'powers': ['Radiation resistance', 'Turning tiny', 'Radiation blast']}"
      ]
     },
     "metadata": {},
     "execution_count": 12
    }
   ],
   "source": [
    "# Leemos uno de esos archivos:\n",
    "\n",
    "with open(\"0_final_data.json\", \"r+\") as outfile:\n",
    "    json_readed = json.load(outfile)\n",
    "\n",
    "print(type(json_readed))\n",
    "json_readed"
   ]
  },
  {
   "cell_type": "code",
   "execution_count": 13,
   "metadata": {},
   "outputs": [],
   "source": [
    "# Los archivos json siempre se leen como un diccionario, pero si tienen archivos json dentro (un diccionario dentro de otro diccionario) tenemos que cambiarlos a string y luego a diccionario para poder separarlos\n",
    "# Hay algunos jsons que vienen con comillas o que no representa un diccionario en si, entonces para leerlo no podemos usar loads y tenemos que convertirlo en string (con dumps) y luego a diccionario\n",
    "# Pero aunque haya un string en json tiene que tener una estructura de diccionario para luego poder convertirlo a diccionario"
   ]
  },
  {
   "cell_type": "code",
   "execution_count": 14,
   "metadata": {},
   "outputs": [
    {
     "output_type": "execute_result",
     "data": {
      "text/plain": [
       "'\\n1. Volcar infomración de un diccionario a un jason, w+ (creando el archivo desde 0):\\n    json.dump(mi_ordenador, outfile, indent=4)\\n2. Volcan inforrmación de un diccionario a un json, lo mismo que antes pero usando a+ en vez de w+ (añadiendo información sin borrar)\\n3. Dos opciones para leer jsons:\\n    3.1. Yo tengo un archivo .json en local y lo abro usando.load()\\n    3.2. Tengo, ya sea en un fichero local con el formato cualquiera o en la web -> 1º lo leemos como string -> 2º transformamos la variable String a diccionario\\n\\n'"
      ]
     },
     "metadata": {},
     "execution_count": 14
    }
   ],
   "source": [
    "\"\"\"\n",
    "1. Volcar infomración de un diccionario a un jason, w+ (creando el archivo desde 0):\n",
    "    json.dump(mi_ordenador, outfile, indent=4)\n",
    "2. Volcan inforrmación de un diccionario a un json, lo mismo que antes pero usando a+ en vez de w+ (añadiendo información sin borrar)\n",
    "3. Dos opciones para leer jsons:\n",
    "    3.1. Yo tengo un archivo .json en local y lo abro usando.load()\n",
    "    3.2. Tengo, ya sea en un fichero local con el formato cualquiera o en la web -> 1º lo leemos como string -> 2º transformamos la variable String a diccionario\n",
    "\n",
    "\"\"\""
   ]
  },
  {
   "cell_type": "code",
   "execution_count": null,
   "metadata": {},
   "outputs": [],
   "source": [
    "lista = [1,2,3,4]\n",
    "\n",
    "for elem in lista:\n",
    "    nombre\n",
    "    with open(nombre_archivo, 'w+') as outfile:\n",
    "        json.dump(mi_diccionario, outfile, indent=4)\n",
    "\n"
   ]
  },
  {
   "cell_type": "code",
   "execution_count": null,
   "metadata": {},
   "outputs": [],
   "source": []
  }
 ]
}