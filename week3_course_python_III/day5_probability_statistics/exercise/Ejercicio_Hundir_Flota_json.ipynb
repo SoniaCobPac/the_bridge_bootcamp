{
 "cells": [
  {
   "cell_type": "markdown",
   "metadata": {},
   "source": [
    "# Ejercicio Hundir La Flota | Challenge yourself \n",
    "\n",
    "#### La fecha de entrega está limitada al próximo 16/05/2021"
   ]
  },
  {
   "cell_type": "markdown",
   "metadata": {},
   "source": [
    "En este ejercicio deberás programar el juego **hundir la flota** o [**batalla naval**](https://es.wikipedia.org/wiki/Batalla_naval_(juego)) "
   ]
  },
  {
   "cell_type": "markdown",
   "metadata": {},
   "source": [
    "El tablero de este juego será una matriz de 10x10 dimensiones, matriz sobre la que plamaremos el estado de cada turno. Cada matriz de información continente del estado en cada momento, se mostrará por pantalla."
   ]
  },
  {
   "cell_type": "markdown",
   "metadata": {},
   "source": [
    "![tablero](https://i.pinimg.com/474x/1c/66/ca/1c66ca8d767428dcd1c39285643f3987--yahoo-search.jpg)"
   ]
  },
  {
   "cell_type": "markdown",
   "metadata": {},
   "source": [
    "**Las reglas son las siguientes:**\n",
    "\n",
    "- Cada jugador deberá colocar en su tablero:\n",
    "    - 4 barcos tamaño 2x1. \n",
    "\n",
    "    - 3 barcos tamaño 3x1.\n",
    "\n",
    "    - 2 barcos tamaño 4x1.\n",
    "    \n",
    "    - 1 barco tamaño 5x1. \n",
    "    \n",
    "\n",
    "- En cada turno, el jugador correspondiente debe elegir una casilla de la matriz (10x10) y ambos jugadores marcarán la casilla en la matriz.\n",
    "- Si la casilla que se ha elegido es agua, será marcada como un una \"**o**\" y si la casilla que ha marcado es uno de los barcos, la casilla será marcada con una \"**x**\". \n",
    "- Los barcos han de ser mostrados con un \"__#__\" en la matriz. \n",
    "- Los espacios con agua serán mostrados como \" \" ó \"**~**\".\n",
    "\n",
    "Antes de que comience la partida, cada jugador deberá crear su estado inicial. El estado inicial es una configuración de la matriz con todos los barcos colocados. Para ello, el programa debería preguntar, uno a uno, dónde se quiere colocar cada barco. El estilo de pregunta, ha de ser: \n",
    "\n",
    "- Inserte la posición del barco 1 (2x1). El usuario ha de escribir si se quiere insertar en la 4a fila, en horizontal y ocupando las últimas dos columnas: `4h9:10`.\n",
    "- Inserte la posición del barco 2 (2x1). El usuario ha de escribir si se quiere insertar en la 8a fila, en horizontal y ocupando las dos primeras columnas: `8h1:2`.\n",
    "- Inserte la posición del barco 3 (5x1). Si se quiere colocar en vertical empezando por la fila 1 a la 5 y columna 8: `8v1:5`.\n",
    "\n",
    "También tendrás la opción de cargar una partida anteriormente definida en formato [JSON](https://www.w3schools.com/python/python_json.asp).\n",
    "\n",
    "Para saber quién empieza a jugar, los jugadores deberán ponerse de acuerdo para que uno de ellos sea el que llame a una función que devuelva dos valores random del 1 al 6, de tipo entero. El primer valor que se muestre por pantalla será el correspondiente al jugador que llama a la función, el segundo será el del contrincante. Quien saque un valor más alto, empieza. \n",
    "\n",
    "Además, el programa guardará el nombre de los jugadores y el histórico, es decir, todos los estados de la partida. Para ello se utilizará el formato JSON.\n",
    "\n",
    "Cuando un jugador haya creado su estado inicial, este estado también deberá ser guardado en formato JSON. Antes de que se inicie la partida, el otro jugador deberá cargar tu estado inicial y tú el suyo. El estado inicial del enemigo es el que usará tu programa para comprobar si las coordenadas que has utilizado han acertado en el blanco o no. \n",
    "\n",
    "El formato de preguntas por turno es: \n",
    "\n",
    "- `Inserte coordenadas a atacar:`. La respuesta válida será `0x8` --> fila 0, columna 8. \n",
    "\n",
    "Una vez insertada las coordenadas, deberá resultar que aparezcan tu matriz y la matriz de estado de tu enemigo, esta última con la nueva coordenada marcada sin la flota excepto si el torpedo hubiera dado en el blanco. "
   ]
  },
  {
   "cell_type": "markdown",
   "metadata": {},
   "source": [
    "**A modo de resumen:**\n",
    "\n",
    "1. Se eligen los nombres de jugador. ¡Recuerda no dejar espacios!\n",
    "\n",
    "2. Se pregunta sobre las posiciones de tu flota. Una vez que se haya definido, el sistema debe guardar en JSON el estado de tu flota. OPCIONAL: Puedes cargar una partida a partir de un fichero JSON.\n",
    "\n",
    "3. Se carga el estado inicial de tu enemigo a partir de un fichero JSON que te habrá definido previamente. El fichero estará en una carpeta llamada \"Partidas_Batalla_Naval\". Para cargar el fichero se debe introducir la ruta o nombre del fichero. \n",
    "\n",
    "4. Cuando ambos estéis en el mismo punto y se sepa quién es el primero, se debe escribir *primero* o *segundo*. Si eres primero, el sistema empezará preguntándote las coordenadas. Si eres segundo, el sistema preguntará por las coordenadas del rival. \n",
    "\n",
    "5. Se debe mostrar por pantalla dos matrices: una matriz 10x10 que representa los puntos que has ido marcando, que no mostrará la flota del enemigo excepto si algún barco ha sido dañado, y otra a la derecha que muestre tu flota con los puntos que hayan sido atacados por parte del contrincante. \n",
    "\n",
    "6. Cuando toda la flota de uno de los dos jugadores haya sido exterminada, se mostrará el ganador de la partida. Que si has sido tú el que ha programado este juego, ya habrás ganado incluso antes de empezar a jugar. "
   ]
  },
  {
   "source": [
    "----------------------------------------------------\n",
    "\n",
    "Hay dos tipos de bonus:\n",
    "\n",
    "1. Hacer todo usando clases. Como mínimo, crear una clase \"Barco\" y \"Tablero\"\n",
    "2. Toda la parte del JSON es un Bonus extra plus ++ con el objetivo de que se pueda cargar una partida con una configuración predeterminada. De esta forma, podrías configurar una estructura de barcos y que alguien juegue contra ti en su ordenador con esa estructura.\n",
    "3. ¿Habéis acabado todo esto antes de la fecha? Habla con los profesores :=) \n",
    "----------------------------------------------------"
   ],
   "cell_type": "markdown",
   "metadata": {}
  },
  {
   "cell_type": "markdown",
   "metadata": {},
   "source": [
    "Hay que programar este juego en varios archivos `.py` de modo que puedas ejecutar dicho programa por la terminal desde cualquier dispositivo. "
   ]
  },
  {
   "cell_type": "code",
   "execution_count": 1,
   "metadata": {},
   "outputs": [
    {
     "output_type": "execute_result",
     "data": {
      "text/plain": [
       "'\\n# Se inician los perfiles de los jugadores y se elige cual de ellos es el primero\\nname_one = input(\"Please insert the name of one player:\")\\nname_other = input(\"Please insert the name of theopther player:\")\\norder = random.randint(0,1)\\nif order == 0:\\n    name_J1 = name_one\\n    name_J2 = name_other\\nelse:\\n    name_J2 = name_one\\n    name_J1 = name_other\\nprint(f\"El primer jugador será {name_J1} y el segundo será {name_J2}\")\\n\\n# Se generan el tablero y la flota del jugador 1\\ninit.iniciar_tablero (Tablero_J1)\\n\\ninit.insertar_flota(Tablero_J1, Flota_J1)\\nTablero_J1 = np.array(Tablero_J1)\\n\\nprint(Flota_J1)\\nfc.print_board(Tablero_J1)\\n\\n# Se generan el tablero y la flota del jugador 2\\ninit.iniciar_tablero (Tablero_J2)\\n\\ninit.insertar_flota(Tablero_J2, Flota_J2)\\nTablero_J2 = np.array(Tablero_J2)\\n\\nprint(Flota_J2)\\nfc.print_board (Tablero_J2)\\n\\n\\n# Se guarda la partida inicializada\\nnombre_archivo = \"HundirFlota.json\"\\nmi_diccionario = {\"Name_J1\": name_J1, \\n                  \"Flota_J1\": Flota_J1, \\n                  \"Tablero_J1\":Tablero_J1.tolist(),\\n                  \"Name_J2\": name_J2, \\n                  \"Flota_J2\": Flota_J2, \\n                  \"Tablero_J2\":Tablero_J2.tolist()}\\n\\nwith open(nombre_archivo, \\'w+\\') as outfile:\\n    json.dump(mi_diccionario, outfile, indent=4)\\n    '"
      ]
     },
     "metadata": {},
     "execution_count": 1
    }
   ],
   "source": [
    "# keep calm and keep coding\n",
    "import func as fc\n",
    "import Inicializacion_Flota as init\n",
    "import json\n",
    "import numpy as np \n",
    "import random\n",
    "\n",
    "#Se crean las variables necesarias para el juego\n",
    "name_J1 = \"\"\n",
    "Tablero_J1 = []\n",
    "Flota_J1 = {}\n",
    "name_J2 = \"\"\n",
    "Tablero_J2 = []\n",
    "Flota_J2 = {}\n",
    "\n",
    "\"\"\"\n",
    "# Se inician los perfiles de los jugadores y se elige cual de ellos es el primero\n",
    "name_one = input(\"Please insert the name of one player:\")\n",
    "name_other = input(\"Please insert the name of theopther player:\")\n",
    "order = random.randint(0,1)\n",
    "if order == 0:\n",
    "    name_J1 = name_one\n",
    "    name_J2 = name_other\n",
    "else:\n",
    "    name_J2 = name_one\n",
    "    name_J1 = name_other\n",
    "print(f\"El primer jugador será {name_J1} y el segundo será {name_J2}\")\n",
    "\n",
    "# Se generan el tablero y la flota del jugador 1\n",
    "init.iniciar_tablero (Tablero_J1)\n",
    "\n",
    "init.insertar_flota(Tablero_J1, Flota_J1)\n",
    "Tablero_J1 = np.array(Tablero_J1)\n",
    "\n",
    "print(Flota_J1)\n",
    "fc.print_board(Tablero_J1)\n",
    "\n",
    "# Se generan el tablero y la flota del jugador 2\n",
    "init.iniciar_tablero (Tablero_J2)\n",
    "\n",
    "init.insertar_flota(Tablero_J2, Flota_J2)\n",
    "Tablero_J2 = np.array(Tablero_J2)\n",
    "\n",
    "print(Flota_J2)\n",
    "fc.print_board (Tablero_J2)\n",
    "\n",
    "\n",
    "# Se guarda la partida inicializada\n",
    "nombre_archivo = \"HundirFlota.json\"\n",
    "mi_diccionario = {\"Name_J1\": name_J1, \n",
    "                  \"Flota_J1\": Flota_J1, \n",
    "                  \"Tablero_J1\":Tablero_J1.tolist(),\n",
    "                  \"Name_J2\": name_J2, \n",
    "                  \"Flota_J2\": Flota_J2, \n",
    "                  \"Tablero_J2\":Tablero_J2.tolist()}\n",
    "\n",
    "with open(nombre_archivo, 'w+') as outfile:\n",
    "    json.dump(mi_diccionario, outfile, indent=4)\n",
    "    \"\"\""
   ]
  },
  {
   "cell_type": "code",
   "execution_count": 4,
   "metadata": {},
   "outputs": [
    {
     "output_type": "stream",
     "name": "stdout",
     "text": [
      "<class 'dict'>\n"
     ]
    },
    {
     "output_type": "execute_result",
     "data": {
      "text/plain": [
       "{'Name_J1': 'Sonia',\n",
       " 'Flota_J1': {'2x1_1': '1v1:2', '2x1_2': '2v1:2'},\n",
       " 'Tablero_J1': [['#', '#', '~', '~', '~', '~', '~', '~', '~', '~'],\n",
       "  ['#', '#', '~', '~', '~', '~', '~', '~', '~', '~'],\n",
       "  ['~', '~', '~', '~', '~', '~', '~', '~', '~', '~'],\n",
       "  ['~', '~', '~', '~', '~', '~', '~', '~', '~', '~'],\n",
       "  ['~', '~', '~', '~', '~', '~', '~', '~', '~', '~'],\n",
       "  ['~', '~', '~', '~', '~', '~', '~', '~', '~', '~'],\n",
       "  ['~', '~', '~', '~', '~', '~', '~', '~', '~', '~'],\n",
       "  ['~', '~', '~', '~', '~', '~', '~', '~', '~', '~'],\n",
       "  ['~', '~', '~', '~', '~', '~', '~', '~', '~', '~'],\n",
       "  ['~', '~', '~', '~', '~', '~', '~', '~', '~', '~']],\n",
       " 'Name_J2': 'MikeBarker',\n",
       " 'Flota_J2': {'2x1_1': '1v1:2', '2x1_2': '2v1:2'},\n",
       " 'Tablero_J2': [['#', '#', '~', '~', '~', '~', '~', '~', '~', '~'],\n",
       "  ['#', '#', '~', '~', '~', '~', '~', '~', '~', '~'],\n",
       "  ['~', '~', '~', '~', '~', '~', '~', '~', '~', '~'],\n",
       "  ['~', '~', '~', '~', '~', '~', '~', '~', '~', '~'],\n",
       "  ['~', '~', '~', '~', '~', '~', '~', '~', '~', '~'],\n",
       "  ['~', '~', '~', '~', '~', '~', '~', '~', '~', '~'],\n",
       "  ['~', '~', '~', '~', '~', '~', '~', '~', '~', '~'],\n",
       "  ['~', '~', '~', '~', '~', '~', '~', '~', '~', '~'],\n",
       "  ['~', '~', '~', '~', '~', '~', '~', '~', '~', '~'],\n",
       "  ['~', '~', '~', '~', '~', '~', '~', '~', '~', '~']]}"
      ]
     },
     "metadata": {},
     "execution_count": 4
    }
   ],
   "source": [
    "with open('HundirFlota.json', 'r+') as outfile:\n",
    "    json_HundirFlota_readed = json.load(outfile)\n",
    "\n",
    "print(type(json_HundirFlota_readed))\n",
    "json_HundirFlota_readed"
   ]
  },
  {
   "cell_type": "code",
   "execution_count": 2,
   "metadata": {},
   "outputs": [
    {
     "output_type": "stream",
     "name": "stdout",
     "text": [
      "INICIO JUEGO:\n",
      "El primer jugador será mik y el segundo será son\n",
      "{'2x1_1': '1v1:2', '2x1_2': '2v1:2'}\n",
      "-----------TABLERO PROPIO-------------------\n",
      "[['#' '#' '~' '~' '~' '~' '~' '~' '~' '~']\n",
      " ['#' '#' '~' '~' '~' '~' '~' '~' '~' '~']\n",
      " ['~' '~' '~' '~' '~' '~' '~' '~' '~' '~']\n",
      " ['~' '~' '~' '~' '~' '~' '~' '~' '~' '~']\n",
      " ['~' '~' '~' '~' '~' '~' '~' '~' '~' '~']\n",
      " ['~' '~' '~' '~' '~' '~' '~' '~' '~' '~']\n",
      " ['~' '~' '~' '~' '~' '~' '~' '~' '~' '~']\n",
      " ['~' '~' '~' '~' '~' '~' '~' '~' '~' '~']\n",
      " ['~' '~' '~' '~' '~' '~' '~' '~' '~' '~']\n",
      " ['~' '~' '~' '~' '~' '~' '~' '~' '~' '~']]\n",
      "--------------------------------------------\n",
      "{'2x1_1': '1v1:2', '2x1_2': '2v1:2'}\n",
      "-----------TABLERO PROPIO-------------------\n",
      "[['#' '#' '~' '~' '~' '~' '~' '~' '~' '~']\n",
      " ['#' '#' '~' '~' '~' '~' '~' '~' '~' '~']\n",
      " ['~' '~' '~' '~' '~' '~' '~' '~' '~' '~']\n",
      " ['~' '~' '~' '~' '~' '~' '~' '~' '~' '~']\n",
      " ['~' '~' '~' '~' '~' '~' '~' '~' '~' '~']\n",
      " ['~' '~' '~' '~' '~' '~' '~' '~' '~' '~']\n",
      " ['~' '~' '~' '~' '~' '~' '~' '~' '~' '~']\n",
      " ['~' '~' '~' '~' '~' '~' '~' '~' '~' '~']\n",
      " ['~' '~' '~' '~' '~' '~' '~' '~' '~' '~']\n",
      " ['~' '~' '~' '~' '~' '~' '~' '~' '~' '~']]\n",
      "--------------------------------------------\n",
      "--------TURNO DEL JUGADOR J1--------\n",
      "-----------TABLERO PROPIO-------------------\n",
      "[['#' '#' '~' '~' '~' '~' '~' '~' '~' '~']\n",
      " ['#' '#' '~' '~' '~' '~' '~' '~' '~' '~']\n",
      " ['~' '~' '~' '~' '~' '~' '~' '~' '~' '~']\n",
      " ['~' '~' '~' '~' '~' '~' '~' '~' '~' '~']\n",
      " ['~' '~' '~' '~' '~' '~' '~' '~' '~' '~']\n",
      " ['~' '~' '~' '~' '~' '~' '~' '~' '~' '~']\n",
      " ['~' '~' '~' '~' '~' '~' '~' '~' '~' '~']\n",
      " ['~' '~' '~' '~' '~' '~' '~' '~' '~' '~']\n",
      " ['~' '~' '~' '~' '~' '~' '~' '~' '~' '~']\n",
      " ['~' '~' '~' '~' '~' '~' '~' '~' '~' '~']]\n",
      "--------------------------------------------\n",
      "-----------TABLERO ENEMIGO------------------\n",
      "[['~' '~' '~' '~' '~' '~' '~' '~' '~' '~']\n",
      " ['~' '~' '~' '~' '~' '~' '~' '~' '~' '~']\n",
      " ['~' '~' '~' '~' '~' '~' '~' '~' '~' '~']\n",
      " ['~' '~' '~' '~' '~' '~' '~' '~' '~' '~']\n",
      " ['~' '~' '~' '~' '~' '~' '~' '~' '~' '~']\n",
      " ['~' '~' '~' '~' '~' '~' '~' '~' '~' '~']\n",
      " ['~' '~' '~' '~' '~' '~' '~' '~' '~' '~']\n",
      " ['~' '~' '~' '~' '~' '~' '~' '~' '~' '~']\n",
      " ['~' '~' '~' '~' '~' '~' '~' '~' '~' '~']\n",
      " ['~' '~' '~' '~' '~' '~' '~' '~' '~' '~']]\n",
      "--------------------------------------------\n",
      "Petición de ataque del J1 al J2\n",
      "You have hit me!\n",
      "You have destroyed my fleet, you win!\n"
     ]
    },
    {
     "output_type": "error",
     "ename": "AttributeError",
     "evalue": "'list' object has no attribute 'tolist'",
     "traceback": [
      "\u001b[1;31m---------------------------------------------------------------------------\u001b[0m",
      "\u001b[1;31mAttributeError\u001b[0m                            Traceback (most recent call last)",
      "\u001b[1;32m<ipython-input-2-d26b1a549a8b>\u001b[0m in \u001b[0;36m<module>\u001b[1;34m\u001b[0m\n\u001b[0;32m     31\u001b[0m         \u001b[0mcontinue_game\u001b[0m \u001b[1;33m=\u001b[0m \u001b[0mfc\u001b[0m\u001b[1;33m.\u001b[0m\u001b[0mlaunch_torpedo\u001b[0m\u001b[1;33m(\u001b[0m\u001b[0mTablero_J2\u001b[0m\u001b[1;33m)\u001b[0m\u001b[1;33m\u001b[0m\u001b[1;33m\u001b[0m\u001b[0m\n\u001b[0;32m     32\u001b[0m         \u001b[0mturno\u001b[0m \u001b[1;33m+=\u001b[0m\u001b[1;36m1\u001b[0m\u001b[1;33m\u001b[0m\u001b[1;33m\u001b[0m\u001b[0m\n\u001b[1;32m---> 33\u001b[1;33m         \u001b[0mfc\u001b[0m\u001b[1;33m.\u001b[0m\u001b[0mguardado_auto\u001b[0m \u001b[1;33m(\u001b[0m\u001b[0mname_J1\u001b[0m\u001b[1;33m,\u001b[0m\u001b[0mTablero_J1\u001b[0m\u001b[1;33m,\u001b[0m \u001b[0mFlota_J1\u001b[0m\u001b[1;33m,\u001b[0m\u001b[0mname_J2\u001b[0m\u001b[1;33m,\u001b[0m\u001b[0mTablero_J2\u001b[0m\u001b[1;33m,\u001b[0m \u001b[0mFlota_J2\u001b[0m\u001b[1;33m,\u001b[0m \u001b[0mturno\u001b[0m\u001b[1;33m)\u001b[0m\u001b[1;33m\u001b[0m\u001b[1;33m\u001b[0m\u001b[0m\n\u001b[0m\u001b[0;32m     34\u001b[0m         \u001b[0mprint\u001b[0m\u001b[1;33m(\u001b[0m\u001b[1;34m\"FIN TURNO DEL JUGADOR J1\"\u001b[0m\u001b[1;33m)\u001b[0m\u001b[1;33m\u001b[0m\u001b[1;33m\u001b[0m\u001b[0m\n\u001b[0;32m     35\u001b[0m         \u001b[0mprint\u001b[0m\u001b[1;33m(\u001b[0m\u001b[1;34m\" \"\u001b[0m\u001b[1;33m)\u001b[0m\u001b[1;33m\u001b[0m\u001b[1;33m\u001b[0m\u001b[0m\n",
      "\u001b[1;32mc:\\Users\\miguel\\Desktop\\TheBridgeDataScientist\\TareasTheBridge\\Entregables\\03_Hundir_la_Flota\\Sandbox\\func.py\u001b[0m in \u001b[0;36mguardado_auto\u001b[1;34m(name_J1, Tablero_J1, Flota_J1, name_J2, Tablero_J2, Flota_J2, turno)\u001b[0m\n\u001b[0;32m     53\u001b[0m     mi_diccionario = {\"Name_J1\": name_J1, \n\u001b[0;32m     54\u001b[0m                     \u001b[1;34m\"Flota_J1\"\u001b[0m\u001b[1;33m:\u001b[0m \u001b[0mFlota_J1\u001b[0m\u001b[1;33m,\u001b[0m\u001b[1;33m\u001b[0m\u001b[1;33m\u001b[0m\u001b[0m\n\u001b[1;32m---> 55\u001b[1;33m                     \u001b[1;34m\"Tablero_J1\"\u001b[0m\u001b[1;33m:\u001b[0m\u001b[0mTablero_J1\u001b[0m\u001b[1;33m.\u001b[0m\u001b[0mtolist\u001b[0m\u001b[1;33m(\u001b[0m\u001b[1;33m)\u001b[0m\u001b[1;33m,\u001b[0m\u001b[1;33m\u001b[0m\u001b[1;33m\u001b[0m\u001b[0m\n\u001b[0m\u001b[0;32m     56\u001b[0m                     \u001b[1;34m\"Name_J2\"\u001b[0m\u001b[1;33m:\u001b[0m \u001b[0mname_J2\u001b[0m\u001b[1;33m,\u001b[0m\u001b[1;33m\u001b[0m\u001b[1;33m\u001b[0m\u001b[0m\n\u001b[0;32m     57\u001b[0m                     \u001b[1;34m\"Flota_J2\"\u001b[0m\u001b[1;33m:\u001b[0m \u001b[0mFlota_J2\u001b[0m\u001b[1;33m,\u001b[0m\u001b[1;33m\u001b[0m\u001b[1;33m\u001b[0m\u001b[0m\n",
      "\u001b[1;31mAttributeError\u001b[0m: 'list' object has no attribute 'tolist'"
     ]
    }
   ],
   "source": [
    "# Simulación de secuencia de juego\n",
    "import time\n",
    "\n",
    "print(\"INICIO JUEGO:\")\n",
    "init_load = input(\"Do you want to start a game or load the last one (Enter NG for New Game or LG for Last Game)?\")\n",
    "\n",
    "if init_load == 'NG':\n",
    "    init.inicializar_partida (name_J1,Tablero_J1,Flota_J1,name_J2,Tablero_J2,Flota_J2)\n",
    "    turno = 1\n",
    "    continue_game = True\n",
    "else:\n",
    "    #Cargamos una partida\n",
    "    with open('HundirFlota.json', 'r+') as outfile:\n",
    "        json_HundirFlota_readed = json.load(outfile)\n",
    "    name_J1 = np.array(json_HundirFlota_readed['Name_J1'])\n",
    "    Tablero_J1 = np.array(json_HundirFlota_readed['Tablero_J1'])\n",
    "    Flota_J1 = np.array(json_HundirFlota_readed['Flota_J1'])\n",
    "    name_J2 = np.array(json_HundirFlota_readed['Name_J2'])\n",
    "    Flota_J2 = np.array(json_HundirFlota_readed['Flota_J2'])\n",
    "    Tablero_J2 = np.array(json_HundirFlota_readed['Tablero_J2'])\n",
    "    turno = np.array(json_HundirFlota_readed['Turno'])\n",
    "\n",
    "\n",
    "time.sleep(1)\n",
    "while continue_game:\n",
    "    if turno%2 == 1:\n",
    "        print(\"--------TURNO DEL JUGADOR J1--------\")\n",
    "        fc.print_board(Tablero_J1)\n",
    "        fc.print_board_enemy(Tablero_J2)\n",
    "        print(\"Petición de ataque del J1 al J2\")\n",
    "        continue_game = fc.launch_torpedo(Tablero_J2)\n",
    "        turno +=1\n",
    "        #fc.guardado_auto (name_J1,Tablero_J1, Flota_J1,name_J2,Tablero_J2, Flota_J2, turno)\n",
    "        print(\"FIN TURNO DEL JUGADOR J1\")\n",
    "        print(\" \")\n",
    "    else:\n",
    "        print(\"--------TURNO DEL JUGADOR J2--------\")\n",
    "        fc.print_board(Tablero_J2)\n",
    "        fc.print_board_enemy(Tablero_J1)\n",
    "        print(\"Petición de ataque del J2 al J1\")\n",
    "        continue_game = fc.launch_torpedo(Tablero_J1)\n",
    "        turno +=1\n",
    "        #fc.guardado_auto (name_J1,Tablero_J1, Flota_J1,name_J2,Tablero_J2, Flota_J2, turno)\n",
    "        print(\"FIN TURNO DEL JUGADOR J2\")\n",
    "        print(\" \")\n",
    "print(\"FIN DE LA PARTIDA\")"
   ]
  },
  {
   "cell_type": "code",
   "execution_count": null,
   "metadata": {},
   "outputs": [],
   "source": []
  },
  {
   "cell_type": "code",
   "execution_count": null,
   "metadata": {},
   "outputs": [],
   "source": []
  }
 ],
 "metadata": {
  "file_extension": ".py",
  "kernelspec": {
   "name": "python374jvsc74a57bd05e19f5f9047d686051a4ffff3c57b5ca676552393775b324a4200bbd1a7317fa",
   "display_name": "Python 3.7.4 64-bit"
  },
  "language_info": {
   "codemirror_mode": {
    "name": "ipython",
    "version": 3
   },
   "file_extension": ".py",
   "mimetype": "text/x-python",
   "name": "python",
   "nbconvert_exporter": "python",
   "pygments_lexer": "ipython3",
   "version": "3.7.4"
  },
  "mimetype": "text/x-python",
  "name": "python",
  "npconvert_exporter": "python",
  "pygments_lexer": "ipython3",
  "version": 3,
  "metadata": {
   "interpreter": {
    "hash": "5e19f5f9047d686051a4ffff3c57b5ca676552393775b324a4200bbd1a7317fa"
   }
  }
 },
 "nbformat": 4,
 "nbformat_minor": 4
}