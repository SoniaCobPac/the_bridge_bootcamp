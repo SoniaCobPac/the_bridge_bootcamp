{
 "metadata": {
  "language_info": {
   "codemirror_mode": {
    "name": "ipython",
    "version": 3
   },
   "file_extension": ".py",
   "mimetype": "text/x-python",
   "name": "python",
   "nbconvert_exporter": "python",
   "pygments_lexer": "ipython3",
   "version": "3.7.4"
  },
  "orig_nbformat": 2,
  "kernelspec": {
   "name": "python374jvsc74a57bd02d8a740277f67c33143a8e5c8e55f738530a350d8def4a85d8635b690074994c",
   "display_name": "Python 3.7.4 64-bit"
  },
  "metadata": {
   "interpreter": {
    "hash": "2d8a740277f67c33143a8e5c8e55f738530a350d8def4a85d8635b690074994c"
   }
  }
 },
 "nbformat": 4,
 "nbformat_minor": 2,
 "cells": [
  {
   "cell_type": "code",
   "execution_count": 2,
   "metadata": {},
   "outputs": [],
   "source": [
    "import random\n",
    "import numpy as np"
   ]
  },
  {
   "cell_type": "code",
   "execution_count": 3,
   "metadata": {},
   "outputs": [
    {
     "output_type": "execute_result",
     "data": {
      "text/plain": [
       "array([[' ', ' ', ' ', ' ', ' ', ' ', ' ', ' ', ' ', ' '],\n",
       "       [' ', ' ', ' ', ' ', ' ', ' ', ' ', ' ', ' ', ' '],\n",
       "       [' ', ' ', ' ', ' ', ' ', ' ', ' ', ' ', ' ', ' '],\n",
       "       [' ', ' ', ' ', ' ', ' ', ' ', ' ', ' ', ' ', ' '],\n",
       "       [' ', ' ', ' ', ' ', ' ', ' ', ' ', ' ', ' ', ' '],\n",
       "       [' ', ' ', ' ', ' ', ' ', ' ', ' ', ' ', ' ', ' '],\n",
       "       [' ', ' ', ' ', ' ', ' ', ' ', ' ', ' ', ' ', ' '],\n",
       "       [' ', ' ', ' ', ' ', ' ', ' ', ' ', ' ', ' ', ' '],\n",
       "       [' ', ' ', ' ', ' ', ' ', ' ', ' ', ' ', ' ', ' '],\n",
       "       [' ', ' ', ' ', ' ', ' ', ' ', ' ', ' ', ' ', ' ']], dtype='<U1')"
      ]
     },
     "metadata": {},
     "execution_count": 3
    }
   ],
   "source": [
    "board = np.full((10,10),\" \")\n",
    "board"
   ]
  },
  {
   "cell_type": "code",
   "execution_count": 4,
   "metadata": {},
   "outputs": [
    {
     "output_type": "execute_result",
     "data": {
      "text/plain": [
       "array([[' ', '#', ' ', ' ', ' ', ' ', ' ', ' ', ' ', ' '],\n",
       "       [' ', '#', ' ', ' ', ' ', ' ', ' ', ' ', ' ', ' '],\n",
       "       [' ', ' ', ' ', ' ', ' ', ' ', ' ', ' ', ' ', ' '],\n",
       "       [' ', ' ', ' ', ' ', ' ', ' ', ' ', ' ', ' ', ' '],\n",
       "       [' ', ' ', ' ', ' ', ' ', ' ', ' ', ' ', ' ', ' '],\n",
       "       [' ', ' ', ' ', ' ', ' ', ' ', ' ', ' ', ' ', ' '],\n",
       "       [' ', ' ', ' ', ' ', ' ', ' ', ' ', ' ', ' ', ' '],\n",
       "       [' ', ' ', ' ', ' ', ' ', ' ', ' ', ' ', ' ', ' '],\n",
       "       [' ', ' ', ' ', ' ', ' ', ' ', ' ', ' ', ' ', ' '],\n",
       "       [' ', ' ', ' ', ' ', ' ', ' ', ' ', ' ', ' ', ' ']], dtype='<U1')"
      ]
     },
     "metadata": {},
     "execution_count": 4
    }
   ],
   "source": [
    "board = np.full((10,10),\" \")\n",
    "board[0:2,1] = \"#\"\n",
    "#board[1,3:7] = \"#\"\n",
    "board"
   ]
  },
  {
   "cell_type": "code",
   "execution_count": 5,
   "metadata": {},
   "outputs": [
    {
     "output_type": "execute_result",
     "data": {
      "text/plain": [
       "'You are the second player'"
      ]
     },
     "metadata": {},
     "execution_count": 5
    }
   ],
   "source": [
    "import random\n",
    "\n",
    "def start_dice():\n",
    "    \"\"\"\n",
    "    This functions returns two numbers to decide who starts playing.\n",
    "    If the first value is higher than the second the player \n",
    "    running this function will start the game.\n",
    "\n",
    "    \"\"\"\n",
    "    player_numbers = []\n",
    "    for i in range(2):\n",
    "        output = (random.randint(1,6))\n",
    "        player_numbers.append(output)\n",
    "    start = (\"You are the first player\" if player_numbers[0] > player_numbers[1] else \"What are the odds! That's a tie, try again\" \\\n",
    "        if player_numbers[0] == player_numbers[1] else \"You are the second player\")\n",
    "    return start\n",
    "\n",
    "start_dice()"
   ]
  },
  {
   "cell_type": "code",
   "execution_count": 8,
   "metadata": {},
   "outputs": [
    {
     "output_type": "stream",
     "name": "stdout",
     "text": [
      "You have hit me!\n[[' ' 'X' ' ' ' ' ' ' ' ' ' ' ' ' ' ' ' ']\n ['o' 'X' ' ' ' ' ' ' ' ' ' ' ' ' ' ' ' ']\n [' ' ' ' ' ' ' ' ' ' ' ' ' ' ' ' ' ' ' ']\n [' ' ' ' ' ' ' ' ' ' ' ' ' ' ' ' ' ' ' ']\n [' ' ' ' ' ' ' ' ' ' ' ' ' ' ' ' ' ' ' ']\n [' ' ' ' ' ' ' ' ' ' ' ' ' ' ' ' ' ' ' ']\n [' ' ' ' ' ' ' ' ' ' ' ' ' ' ' ' ' ' ' ']\n [' ' ' ' ' ' ' ' ' ' ' ' ' ' ' ' ' ' ' ']\n [' ' ' ' ' ' ' ' ' ' ' ' ' ' ' ' ' ' ' ']\n [' ' ' ' ' ' ' ' ' ' ' ' ' ' ' ' ' ' 'o']]\nYou have destroyed my fleet, you win!\n"
     ]
    }
   ],
   "source": [
    "from re import split\n",
    "\n",
    "def launch_torpedo(board):\n",
    "    \n",
    "    #player_name = \"First_player ->\"+ input(\"Enter your name: \")\n",
    "    try:\n",
    "        coord = input(\"Enter coordinates (row x column): \")\n",
    "\n",
    "        # Restamos 1 a las coordinadas porque el jugador asume que el tablero empieza en la posición 1 y no 0\n",
    "        coord = split(\"\\D+\", coord)\n",
    "        coord_x = int(coord[0]) - 1\n",
    "        coord_y = int(coord[1]) - 1\n",
    "   \n",
    "        # Comprobamos si el jugador ha dado a algun barco\n",
    "        if board[coord_x][coord_y] == \"#\":\n",
    "            print(\"You have hit me!\")\n",
    "            board[coord_x][coord_y] = \"X\"\n",
    "            print(board)\n",
    "        # Comprobamos si el jugador introduce una posición ya mencionada antes\n",
    "        elif board[coord_x][coord_y] == \"X\" or board[coord_x][coord_y] == \"o\":\n",
    "            print(\"You have already said that position before. Try another\")\n",
    "        \n",
    "        # Comprobamos si el jugador ha fallado\n",
    "        else:\n",
    "            print(\"Water! maybe next time\")\n",
    "            board[coord_x][coord_y] = \"o\"\n",
    "            print(board)\n",
    "        # Comprobamos si ya no quedan mas barcos\n",
    "        if \"#\" not in board:\n",
    "            print(\"You have destroyed my fleet, you win!\")\n",
    "            return False\n",
    "        else:\n",
    "            return True             \n",
    ", please try again in the specified format.\")\n",
    "\n",
    "x = launch_torpedo(board=board)"
   ]
  },
  {
   "cell_type": "code",
   "execution_count": 1,
   "metadata": {},
   "outputs": [],
   "source": [
    "import random"
   ]
  },
  {
   "cell_type": "code",
   "execution_count": 2,
   "metadata": {},
   "outputs": [
    {
     "output_type": "error",
     "ename": "NameError",
     "evalue": "name 'random' is not defined",
     "traceback": [
      "\u001b[1;31m---------------------------------------------------------------------------\u001b[0m",
      "\u001b[1;31mNameError\u001b[0m                                 Traceback (most recent call last)",
      "\u001b[1;32m<ipython-input-2-8836f0db2851>\u001b[0m in \u001b[0;36m<module>\u001b[1;34m\u001b[0m\n\u001b[0;32m     29\u001b[0m \u001b[1;33m\u001b[0m\u001b[0m\n\u001b[0;32m     30\u001b[0m \u001b[1;33m\u001b[0m\u001b[0m\n\u001b[1;32m---> 31\u001b[1;33m \u001b[0mstart_dice\u001b[0m\u001b[1;33m(\u001b[0m\u001b[1;33m)\u001b[0m\u001b[1;33m\u001b[0m\u001b[1;33m\u001b[0m\u001b[0m\n\u001b[0m",
      "\u001b[1;32m<ipython-input-2-8836f0db2851>\u001b[0m in \u001b[0;36mstart_dice\u001b[1;34m()\u001b[0m\n\u001b[0;32m     16\u001b[0m \u001b[1;33m\u001b[0m\u001b[0m\n\u001b[0;32m     17\u001b[0m     \u001b[1;32mfor\u001b[0m \u001b[0mi\u001b[0m \u001b[1;32min\u001b[0m \u001b[0mrange\u001b[0m\u001b[1;33m(\u001b[0m\u001b[1;36m2\u001b[0m\u001b[1;33m)\u001b[0m\u001b[1;33m:\u001b[0m\u001b[1;33m\u001b[0m\u001b[1;33m\u001b[0m\u001b[0m\n\u001b[1;32m---> 18\u001b[1;33m         \u001b[0moutput\u001b[0m \u001b[1;33m=\u001b[0m \u001b[1;33m(\u001b[0m\u001b[0mrandom\u001b[0m\u001b[1;33m.\u001b[0m\u001b[0mrandint\u001b[0m\u001b[1;33m(\u001b[0m\u001b[1;36m1\u001b[0m\u001b[1;33m,\u001b[0m\u001b[1;36m6\u001b[0m\u001b[1;33m)\u001b[0m\u001b[1;33m)\u001b[0m\u001b[1;33m\u001b[0m\u001b[1;33m\u001b[0m\u001b[0m\n\u001b[0m\u001b[0;32m     19\u001b[0m         \u001b[0mplayer_numbers\u001b[0m\u001b[1;33m.\u001b[0m\u001b[0mappend\u001b[0m\u001b[1;33m(\u001b[0m\u001b[0moutput\u001b[0m\u001b[1;33m)\u001b[0m\u001b[1;33m\u001b[0m\u001b[1;33m\u001b[0m\u001b[0m\n\u001b[0;32m     20\u001b[0m \u001b[1;33m\u001b[0m\u001b[0m\n",
      "\u001b[1;31mNameError\u001b[0m: name 'random' is not defined"
     ]
    }
   ],
   "source": [
    "name_J1 = \"\"\n",
    "name_J2 = \"\"\n",
    "\n",
    "def start_dice():\n",
    "    \"\"\"\n",
    "    This functions returns two numbers to decide who starts playing.\n",
    "    If the first value is higher than the second the player \n",
    "    running this function will start the game.\n",
    "\n",
    "    \"\"\"\n",
    "    player_numbers = []\n",
    "    global name_J1\n",
    "    name1 = input(\"Enter the name of player 1: \")\n",
    "    global name_J2\n",
    "    name2 = input(\"Enter the name of player 2: \")\n",
    "\n",
    "    for i in range(2):\n",
    "        output = (random.randint(1,6))\n",
    "        player_numbers.append(output)\n",
    "    \n",
    "    if player_numbers[0] == player_numbers[1]:\n",
    "        print(\"What are the odds! That's a tie, try again\")\n",
    "        #continue no me va bien\n",
    "    else:\n",
    "        start = (name1+\" is the first player. \"+name2+ \", you are the second player\" \\\n",
    "            if player_numbers[0] > player_numbers[1] else name1+\" is the second player. \"+ \\\n",
    "                name2+ \", you are the first player, you start!\")\n",
    "        return start\n",
    "\n",
    "\n",
    "start_dice()"
   ]
  },
  {
   "cell_type": "code",
   "execution_count": 46,
   "metadata": {},
   "outputs": [
    {
     "output_type": "execute_result",
     "data": {
      "text/plain": [
       "'S'"
      ]
     },
     "metadata": {},
     "execution_count": 46
    }
   ],
   "source": [
    "name_J1"
   ]
  },
  {
   "cell_type": "code",
   "execution_count": 48,
   "metadata": {},
   "outputs": [
    {
     "output_type": "error",
     "ename": "NameError",
     "evalue": "name 'Flota_J1' is not defined",
     "traceback": [
      "\u001b[1;31m---------------------------------------------------------------------------\u001b[0m",
      "\u001b[1;31mNameError\u001b[0m                                 Traceback (most recent call last)",
      "\u001b[1;32m<ipython-input-48-6ae9495869d2>\u001b[0m in \u001b[0;36m<module>\u001b[1;34m\u001b[0m\n\u001b[0;32m      1\u001b[0m \u001b[0mnombre_archivo\u001b[0m \u001b[1;33m=\u001b[0m \u001b[1;34m\"HundirFlota.json\"\u001b[0m\u001b[1;33m\u001b[0m\u001b[1;33m\u001b[0m\u001b[0m\n\u001b[0;32m      2\u001b[0m mi_diccionario = {\"Name_J1\": name_J1, \n\u001b[1;32m----> 3\u001b[1;33m                   \u001b[1;34m\"Flota_J1\"\u001b[0m\u001b[1;33m:\u001b[0m \u001b[0mFlota_J1\u001b[0m\u001b[1;33m,\u001b[0m\u001b[1;33m\u001b[0m\u001b[1;33m\u001b[0m\u001b[0m\n\u001b[0m\u001b[0;32m      4\u001b[0m                   \u001b[1;34m\"Tablero_J1\"\u001b[0m\u001b[1;33m:\u001b[0m\u001b[0mTablero_J1\u001b[0m\u001b[1;33m.\u001b[0m\u001b[0mtolist\u001b[0m\u001b[1;33m(\u001b[0m\u001b[1;33m)\u001b[0m\u001b[1;33m,\u001b[0m\u001b[1;33m\u001b[0m\u001b[1;33m\u001b[0m\u001b[0m\n\u001b[0;32m      5\u001b[0m                   \u001b[1;34m\"Name_J2\"\u001b[0m\u001b[1;33m:\u001b[0m \u001b[0mname_J2\u001b[0m\u001b[1;33m,\u001b[0m\u001b[1;33m\u001b[0m\u001b[1;33m\u001b[0m\u001b[0m\n",
      "\u001b[1;31mNameError\u001b[0m: name 'Flota_J1' is not defined"
     ]
    }
   ],
   "source": [
    "nombre_archivo = \"HundirFlota.json\"\n",
    "mi_diccionario = {\"Name_J1\": name_J1, \n",
    "                  \"Flota_J1\": Flota_J1, \n",
    "                  \"Tablero_J1\":Tablero_J1.tolist(),\n",
    "                  \"Name_J2\": name_J2, \n",
    "                  \"Flota_J2\": Flota_J2, \n",
    "                  \"Tablero_J2\":Tablero_J2.tolist()}"
   ]
  },
  {
   "cell_type": "code",
   "execution_count": 80,
   "metadata": {},
   "outputs": [
    {
     "output_type": "execute_result",
     "data": {
      "text/plain": [
       "'S is the first player. M, you are the second player'"
      ]
     },
     "metadata": {},
     "execution_count": 80
    }
   ],
   "source": [
    "name_J1 = \"\"\n",
    "name_J2 = \"\"\n",
    "\n",
    "def start_dice():\n",
    "    \"\"\"\n",
    "    This functions returns two numbers to decide who starts playing.\n",
    "    If the first value is higher than the second the player \n",
    "    running this function will start the game.\n",
    "\n",
    "    \"\"\"\n",
    "    player_numbers = []\n",
    "    global name_J1\n",
    "    name1 = input(\"Enter the name of player 1: \")\n",
    "    global name_J2\n",
    "    name2 = input(\"Enter the name of player 2: \")\n",
    "\n",
    "    for i in range(2):\n",
    "        output = (random.randint(1,6))\n",
    "        player_numbers.append(output)\n",
    "    \n",
    "    if player_numbers[0] == player_numbers[1]:\n",
    "        print(\"What are the odds! That's a tie, try again\")    \n",
    "\n",
    "    elif player_numbers[0] > player_numbers[1]:\n",
    "        start = name1+\" is the first player. \"+name2+ \", you are the second player\"\n",
    "        name_J1 = name1 \n",
    "        name_J2 = name2\n",
    "        return start\n",
    "    else:\n",
    "        start = name1+\" is the second player. \"+name2+ \", you are the first player, you start!\"\n",
    "        name_J1 = name2\n",
    "        name_J2 = name1\n",
    "        return start\n",
    "\n",
    "\n",
    "start_dice()"
   ]
  },
  {
   "cell_type": "code",
   "execution_count": 82,
   "metadata": {},
   "outputs": [
    {
     "output_type": "execute_result",
     "data": {
      "text/plain": [
       "'M'"
      ]
     },
     "metadata": {},
     "execution_count": 82
    }
   ],
   "source": [
    "name_J2"
   ]
  },
  {
   "cell_type": "code",
   "execution_count": null,
   "metadata": {},
   "outputs": [],
   "source": []
  }
 ]
}