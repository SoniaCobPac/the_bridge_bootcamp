{
 "metadata": {
  "language_info": {
   "codemirror_mode": {
    "name": "ipython",
    "version": 3
   },
   "file_extension": ".py",
   "mimetype": "text/x-python",
   "name": "python",
   "nbconvert_exporter": "python",
   "pygments_lexer": "ipython3",
   "version": "3.7.4"
  },
  "orig_nbformat": 2,
  "kernelspec": {
   "name": "python374jvsc74a57bd02d8a740277f67c33143a8e5c8e55f738530a350d8def4a85d8635b690074994c",
   "display_name": "Python 3.7.4 64-bit"
  },
  "metadata": {
   "interpreter": {
    "hash": "2d8a740277f67c33143a8e5c8e55f738530a350d8def4a85d8635b690074994c"
   }
  }
 },
 "nbformat": 4,
 "nbformat_minor": 2,
 "cells": [
  {
   "cell_type": "code",
   "execution_count": 7,
   "metadata": {},
   "outputs": [],
   "source": [
    "import random\n",
    "import numpy as np"
   ]
  },
  {
   "cell_type": "code",
   "execution_count": 8,
   "metadata": {},
   "outputs": [
    {
     "output_type": "execute_result",
     "data": {
      "text/plain": [
       "array([[' ', ' ', ' ', ' ', ' ', ' ', ' ', ' ', ' ', ' '],\n",
       "       [' ', ' ', ' ', ' ', ' ', ' ', ' ', ' ', ' ', ' '],\n",
       "       [' ', ' ', ' ', ' ', ' ', ' ', ' ', ' ', ' ', ' '],\n",
       "       [' ', ' ', ' ', ' ', ' ', ' ', ' ', ' ', ' ', ' '],\n",
       "       [' ', ' ', ' ', ' ', ' ', ' ', ' ', ' ', ' ', ' '],\n",
       "       [' ', ' ', ' ', ' ', ' ', ' ', ' ', ' ', ' ', ' '],\n",
       "       [' ', ' ', ' ', ' ', ' ', ' ', ' ', ' ', ' ', ' '],\n",
       "       [' ', ' ', ' ', ' ', ' ', ' ', ' ', ' ', ' ', ' '],\n",
       "       [' ', ' ', ' ', ' ', ' ', ' ', ' ', ' ', ' ', ' '],\n",
       "       [' ', ' ', ' ', ' ', ' ', ' ', ' ', ' ', ' ', ' ']], dtype='<U1')"
      ]
     },
     "metadata": {},
     "execution_count": 8
    }
   ],
   "source": [
    "board = np.full((10,10),\" \")\n",
    "board"
   ]
  },
  {
   "cell_type": "code",
   "execution_count": 9,
   "metadata": {},
   "outputs": [
    {
     "output_type": "execute_result",
     "data": {
      "text/plain": [
       "array([[' ', '#', ' ', ' ', ' ', ' ', ' ', ' ', ' ', ' '],\n",
       "       [' ', '#', ' ', ' ', ' ', ' ', ' ', ' ', ' ', ' '],\n",
       "       [' ', ' ', ' ', ' ', ' ', ' ', ' ', ' ', ' ', ' '],\n",
       "       [' ', ' ', ' ', ' ', ' ', ' ', ' ', ' ', ' ', ' '],\n",
       "       [' ', ' ', ' ', ' ', ' ', ' ', ' ', ' ', ' ', ' '],\n",
       "       [' ', ' ', ' ', ' ', ' ', ' ', ' ', ' ', ' ', ' '],\n",
       "       [' ', ' ', ' ', ' ', ' ', ' ', ' ', ' ', ' ', ' '],\n",
       "       [' ', ' ', ' ', ' ', ' ', ' ', ' ', ' ', ' ', ' '],\n",
       "       [' ', ' ', ' ', ' ', ' ', ' ', ' ', ' ', ' ', ' '],\n",
       "       [' ', ' ', ' ', ' ', ' ', ' ', ' ', ' ', ' ', ' ']], dtype='<U1')"
      ]
     },
     "metadata": {},
     "execution_count": 9
    }
   ],
   "source": [
    "board = np.full((10,10),\" \")\n",
    "board[0:2,1] = \"#\"\n",
    "#board[1,3:7] = \"#\"\n",
    "board"
   ]
  },
  {
   "cell_type": "code",
   "execution_count": 10,
   "metadata": {},
   "outputs": [
    {
     "output_type": "error",
     "ename": "IndentationError",
     "evalue": "unexpected unindent (<ipython-input-10-6461cc7bb92f>, line 34)",
     "traceback": [
      "\u001b[1;36m  File \u001b[1;32m\"<ipython-input-10-6461cc7bb92f>\"\u001b[1;36m, line \u001b[1;32m34\u001b[0m\n\u001b[1;33m    (\"please\", \"try\", \"again\", \"in\", \"the\", \"specified\", \"format.\")\")\u001b[0m\n\u001b[1;37m                                                                     ^\u001b[0m\n\u001b[1;31mIndentationError\u001b[0m\u001b[1;31m:\u001b[0m unexpected unindent\n"
     ]
    }
   ],
   "source": [
    "from re import split\n",
    "\n",
    "def launch_torpedo(board):\n",
    "    \n",
    "    #player_name = \"First_player ->\"+ input(\"Enter your name: \")\n",
    "    try:\n",
    "        coord = input(\"Enter coordinates (row x column): \")\n",
    "\n",
    "        # Restamos 1 a las coordinadas porque el jugador asume que el tablero empieza en la posición 1 y no 0\n",
    "        coord = split(\"\\D+\", coord)\n",
    "        coord_x = int(coord[0]) - 1\n",
    "        coord_y = int(coord[1]) - 1\n",
    "   \n",
    "        # Comprobamos si el jugador ha dado a algun barco\n",
    "        if board[coord_x][coord_y] == \"#\":\n",
    "            print(\"You have hit me!\")\n",
    "            board[coord_x][coord_y] = \"X\"\n",
    "            print(board)\n",
    "        # Comprobamos si el jugador introduce una posición ya mencionada antes\n",
    "        elif board[coord_x][coord_y] == \"X\" or board[coord_x][coord_y] == \"o\":\n",
    "            print(\"You have already said that position before. Try another\")\n",
    "        \n",
    "        # Comprobamos si el jugador ha fallado\n",
    "        else:\n",
    "            print(\"Water! maybe next time\")\n",
    "            board[coord_x][coord_y] = \"o\"\n",
    "            print(board)\n",
    "        # Comprobamos si ya no quedan mas barcos\n",
    "        if \"#\" not in board:\n",
    "            print(\"You have destroyed my fleet, you win!\")\n",
    "            return False\n",
    "        else:\n",
    "            return True             \n",
    ", please try again in the specified format.\")\n",
    "\n",
    "x = launch_torpedo(board=board)"
   ]
  },
  {
   "cell_type": "code",
   "execution_count": 5,
   "metadata": {},
   "outputs": [],
   "source": [
    "import random"
   ]
  },
  {
   "cell_type": "code",
   "execution_count": 3,
   "metadata": {},
   "outputs": [
    {
     "output_type": "stream",
     "name": "stdout",
     "text": [
      "d is the first player. e, you are the second player\n"
     ]
    }
   ],
   "source": [
    "name_J1 = \"\"\n",
    "name_J2 = \"\"\n",
    "\n",
    "def start_dice(): #(name_J1,Tablero_J1,Flota_J1,name_J2,Tablero_J2,Flota_J2)\n",
    "    \"\"\"\n",
    "    This functions returns two numbers to decide who starts playing.\n",
    "    If the first value is higher than the second the player \n",
    "    running this function will start the game.\n",
    "\n",
    "    \"\"\"\n",
    "    player_numbers = []\n",
    "    global name_J1\n",
    "    name1 = input(\"Enter the name of player 1: \")\n",
    "    global name_J2\n",
    "    name2 = input(\"Enter the name of player 2: \")\n",
    "\n",
    "    for i in range(2):\n",
    "        output = (random.randint(1,6))\n",
    "        player_numbers.append(output)\n",
    "    \n",
    "    if player_numbers[0] == player_numbers[1]:\n",
    "        print(\"What are the odds! That's a tie, try again\")\n",
    "        #continue no me va bien\n",
    "    else:\n",
    "        print(name1+\" is the first player. \"+name2+ \", you are the second player\" \\\n",
    "            if player_numbers[0] > player_numbers[1] else name1+\" is the second player. \"+ \\\n",
    "                name2+ \", you are the first player, you start!\")\n",
    "      \n",
    "\n",
    "\n",
    "start_dice()"
   ]
  },
  {
   "cell_type": "code",
   "execution_count": 13,
   "metadata": {},
   "outputs": [],
   "source": [
    "from re import split"
   ]
  },
  {
   "cell_type": "code",
   "execution_count": 37,
   "metadata": {},
   "outputs": [
    {
     "output_type": "stream",
     "name": "stdout",
     "text": [
      "Position format error, type it again.\n"
     ]
    },
    {
     "output_type": "error",
     "ename": "TypeError",
     "evalue": "launch_torpedo() missing 1 required positional argument: 'board'",
     "traceback": [
      "\u001b[1;31m---------------------------------------------------------------------------\u001b[0m",
      "\u001b[1;31mTypeError\u001b[0m                                 Traceback (most recent call last)",
      "\u001b[1;32m<ipython-input-37-98df53632e8b>\u001b[0m in \u001b[0;36m<module>\u001b[1;34m\u001b[0m\n\u001b[0;32m     33\u001b[0m         \u001b[0mlaunch_torpedo\u001b[0m\u001b[1;33m(\u001b[0m\u001b[1;33m)\u001b[0m\u001b[1;33m\u001b[0m\u001b[1;33m\u001b[0m\u001b[0m\n\u001b[0;32m     34\u001b[0m \u001b[1;33m\u001b[0m\u001b[0m\n\u001b[1;32m---> 35\u001b[1;33m \u001b[0mlaunch_torpedo\u001b[0m\u001b[1;33m(\u001b[0m\u001b[0mboard\u001b[0m\u001b[1;33m)\u001b[0m\u001b[1;33m\u001b[0m\u001b[1;33m\u001b[0m\u001b[0m\n\u001b[0m",
      "\u001b[1;32m<ipython-input-37-98df53632e8b>\u001b[0m in \u001b[0;36mlaunch_torpedo\u001b[1;34m(board)\u001b[0m\n\u001b[0;32m     31\u001b[0m     \u001b[1;32melse\u001b[0m\u001b[1;33m:\u001b[0m\u001b[1;33m\u001b[0m\u001b[1;33m\u001b[0m\u001b[0m\n\u001b[0;32m     32\u001b[0m         \u001b[0mprint\u001b[0m\u001b[1;33m(\u001b[0m\u001b[1;34m\"Position format error, type it again.\"\u001b[0m\u001b[1;33m)\u001b[0m\u001b[1;33m\u001b[0m\u001b[1;33m\u001b[0m\u001b[0m\n\u001b[1;32m---> 33\u001b[1;33m         \u001b[0mlaunch_torpedo\u001b[0m\u001b[1;33m(\u001b[0m\u001b[1;33m)\u001b[0m\u001b[1;33m\u001b[0m\u001b[1;33m\u001b[0m\u001b[0m\n\u001b[0m\u001b[0;32m     34\u001b[0m \u001b[1;33m\u001b[0m\u001b[0m\n\u001b[0;32m     35\u001b[0m \u001b[0mlaunch_torpedo\u001b[0m\u001b[1;33m(\u001b[0m\u001b[0mboard\u001b[0m\u001b[1;33m)\u001b[0m\u001b[1;33m\u001b[0m\u001b[1;33m\u001b[0m\u001b[0m\n",
      "\u001b[1;31mTypeError\u001b[0m: launch_torpedo() missing 1 required positional argument: 'board'"
     ]
    }
   ],
   "source": [
    "def launch_torpedo(board):\n",
    "    coord = input(\"Enter coordinates (row x column): \")\n",
    "    # comprobamos el formato del input\n",
    "\n",
    "    if coord.count(\"x\")==1:\n",
    "        # Restamos 1 a las coordinadas porque el jugador asume que el tablero empieza en la posición 1 y no 0\n",
    "        coord = split(\"\\D+\", coord)\n",
    "        coord_x = int(coord[0]) - 1\n",
    "        coord_y = int(coord[1]) - 1\n",
    "\n",
    "        # Comprobamos si el jugador ha dado a algun barco\n",
    "        if board[coord_x][coord_y] == \"#\":\n",
    "            print(\"You have hit me!\")\n",
    "            board[coord_x][coord_y] = \"X\"\n",
    "            #print(board)\n",
    "        # Comprobamos si el jugador introduce una posición ya mencionada antes\n",
    "        elif board[coord_x][coord_y] == \"X\" or board[coord_x][coord_y] == \"o\":\n",
    "            print(\"You have already said that position before. Try another\")\n",
    "        \n",
    "        # Comprobamos si el jugador ha fallado\n",
    "        else:\n",
    "            print(\"Water! maybe next time\")\n",
    "            board[coord_x][coord_y] = \"o\"\n",
    "            #print(board)\n",
    "        # Comprobamos si ya no quedan mas barcos\n",
    "        if \"#\" not in np.array(board):\n",
    "            print(\"You have destroyed my fleet, you win!\")\n",
    "            return False\n",
    "        else:\n",
    "            return True  \n",
    "    else:\n",
    "        print(\"Position format error, type it again.\")\n",
    "        launch_torpedo()\n",
    "\n",
    "launch_torpedo(board)"
   ]
  },
  {
   "cell_type": "code",
   "execution_count": 38,
   "metadata": {},
   "outputs": [],
   "source": [
    "import json"
   ]
  },
  {
   "cell_type": "code",
   "execution_count": 42,
   "metadata": {},
   "outputs": [],
   "source": [
    "with open('Partida_J1.json', 'r+') as outfile:\n",
    "    json_HundirFlota1_readed = json.load(outfile)\n",
    "\n",
    "with open('Partida_J2.json', 'r+') as outfile:\n",
    "    json_HundirFlota2_readed = json.load(outfile)\n",
    "\n",
    "name_J1 = json_HundirFlota1_readed['Name_J1']\n",
    "board_J1 = json_HundirFlota1_readed['Board_J1']\n",
    "fleet_J1 = json_HundirFlota1_readed['Fleet_J1']\n",
    "name_J2 = json_HundirFlota2_readed['Name_J2']\n",
    "fleet_J2 = json_HundirFlota2_readed['Fleet_J2']\n",
    "board_J2 = json_HundirFlota2_readed['Board_J2']\n",
    "turn = json_HundirFlota1_readed['Turn']\n",
    "turn = json_HundirFlota2_readed['Turn']"
   ]
  },
  {
   "cell_type": "code",
   "execution_count": null,
   "metadata": {},
   "outputs": [],
   "source": []
  }
 ]
}