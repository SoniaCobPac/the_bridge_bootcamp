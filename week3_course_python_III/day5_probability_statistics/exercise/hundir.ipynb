{
 "metadata": {
  "language_info": {
   "codemirror_mode": {
    "name": "ipython",
    "version": 3
   },
   "file_extension": ".py",
   "mimetype": "text/x-python",
   "name": "python",
   "nbconvert_exporter": "python",
   "pygments_lexer": "ipython3",
   "version": "3.7.4"
  },
  "orig_nbformat": 2,
  "kernelspec": {
   "name": "python374jvsc74a57bd02d8a740277f67c33143a8e5c8e55f738530a350d8def4a85d8635b690074994c",
   "display_name": "Python 3.7.4 64-bit"
  },
  "metadata": {
   "interpreter": {
    "hash": "2d8a740277f67c33143a8e5c8e55f738530a350d8def4a85d8635b690074994c"
   }
  }
 },
 "nbformat": 4,
 "nbformat_minor": 2,
 "cells": [
  {
   "cell_type": "code",
   "execution_count": 2,
   "metadata": {},
   "outputs": [],
   "source": [
    "import random\n",
    "import numpy as np"
   ]
  },
  {
   "cell_type": "code",
   "execution_count": 3,
   "metadata": {},
   "outputs": [
    {
     "output_type": "execute_result",
     "data": {
      "text/plain": [
       "array([[' ', ' ', ' ', ' ', ' ', ' ', ' ', ' ', ' ', ' '],\n",
       "       [' ', ' ', ' ', ' ', ' ', ' ', ' ', ' ', ' ', ' '],\n",
       "       [' ', ' ', ' ', ' ', ' ', ' ', ' ', ' ', ' ', ' '],\n",
       "       [' ', ' ', ' ', ' ', ' ', ' ', ' ', ' ', ' ', ' '],\n",
       "       [' ', ' ', ' ', ' ', ' ', ' ', ' ', ' ', ' ', ' '],\n",
       "       [' ', ' ', ' ', ' ', ' ', ' ', ' ', ' ', ' ', ' '],\n",
       "       [' ', ' ', ' ', ' ', ' ', ' ', ' ', ' ', ' ', ' '],\n",
       "       [' ', ' ', ' ', ' ', ' ', ' ', ' ', ' ', ' ', ' '],\n",
       "       [' ', ' ', ' ', ' ', ' ', ' ', ' ', ' ', ' ', ' '],\n",
       "       [' ', ' ', ' ', ' ', ' ', ' ', ' ', ' ', ' ', ' ']], dtype='<U1')"
      ]
     },
     "metadata": {},
     "execution_count": 3
    }
   ],
   "source": [
    "board = np.full((10,10),\" \")\n",
    "board"
   ]
  },
  {
   "cell_type": "code",
   "execution_count": 4,
   "metadata": {},
   "outputs": [
    {
     "output_type": "execute_result",
     "data": {
      "text/plain": [
       "array([[' ', '#', ' ', ' ', ' ', ' ', ' ', ' ', ' ', ' '],\n",
       "       [' ', '#', ' ', ' ', ' ', ' ', ' ', ' ', ' ', ' '],\n",
       "       [' ', ' ', ' ', ' ', ' ', ' ', ' ', ' ', ' ', ' '],\n",
       "       [' ', ' ', ' ', ' ', ' ', ' ', ' ', ' ', ' ', ' '],\n",
       "       [' ', ' ', ' ', ' ', ' ', ' ', ' ', ' ', ' ', ' '],\n",
       "       [' ', ' ', ' ', ' ', ' ', ' ', ' ', ' ', ' ', ' '],\n",
       "       [' ', ' ', ' ', ' ', ' ', ' ', ' ', ' ', ' ', ' '],\n",
       "       [' ', ' ', ' ', ' ', ' ', ' ', ' ', ' ', ' ', ' '],\n",
       "       [' ', ' ', ' ', ' ', ' ', ' ', ' ', ' ', ' ', ' '],\n",
       "       [' ', ' ', ' ', ' ', ' ', ' ', ' ', ' ', ' ', ' ']], dtype='<U1')"
      ]
     },
     "metadata": {},
     "execution_count": 4
    }
   ],
   "source": [
    "board = np.full((10,10),\" \")\n",
    "board[0:2,1] = \"#\"\n",
    "#board[1,3:7] = \"#\"\n",
    "board"
   ]
  },
  {
   "cell_type": "code",
   "execution_count": 5,
   "metadata": {},
   "outputs": [
    {
     "output_type": "execute_result",
     "data": {
      "text/plain": [
       "'You are the second player'"
      ]
     },
     "metadata": {},
     "execution_count": 5
    }
   ],
   "source": [
    "import random\n",
    "\n",
    "def start_dice():\n",
    "    \"\"\"\n",
    "    This functions returns two numbers to decide who starts playing.\n",
    "    If the first value is higher than the second the player \n",
    "    running this function will start the game.\n",
    "\n",
    "    \"\"\"\n",
    "    player_numbers = []\n",
    "    for i in range(2):\n",
    "        output = (random.randint(1,6))\n",
    "        player_numbers.append(output)\n",
    "    start = (\"You are the first player\" if player_numbers[0] > player_numbers[1] else \"What are the odds! That's a tie, try again\" \\\n",
    "        if player_numbers[0] == player_numbers[1] else \"You are the second player\")\n",
    "    return start\n",
    "\n",
    "start_dice()"
   ]
  },
  {
   "cell_type": "code",
   "execution_count": 6,
   "metadata": {},
   "outputs": [
    {
     "output_type": "stream",
     "name": "stdout",
     "text": [
      "Water! maybe next time\n[['o' '#' ' ' ' ' ' ' ' ' ' ' ' ' ' ' ' ']\n [' ' '#' ' ' ' ' ' ' ' ' ' ' ' ' ' ' ' ']\n [' ' ' ' ' ' ' ' ' ' ' ' ' ' ' ' ' ' ' ']\n [' ' ' ' ' ' ' ' ' ' ' ' ' ' ' ' ' ' ' ']\n [' ' ' ' ' ' ' ' ' ' ' ' ' ' ' ' ' ' ' ']\n [' ' ' ' ' ' ' ' ' ' ' ' ' ' ' ' ' ' ' ']\n [' ' ' ' ' ' ' ' ' ' ' ' ' ' ' ' ' ' ' ']\n [' ' ' ' ' ' ' ' ' ' ' ' ' ' ' ' ' ' ' ']\n [' ' ' ' ' ' ' ' ' ' ' ' ' ' ' ' ' ' ' ']\n [' ' ' ' ' ' ' ' ' ' ' ' ' ' ' ' ' ' ' ']]\n"
     ]
    }
   ],
   "source": [
    "from re import split\n",
    "\n",
    "def launch_torpedo(board):\n",
    "    \n",
    "    #player_name = \"First_player ->\"+ input(\"Enter your name: \")\n",
    "    try:\n",
    "        coord = input(\"Enter coordinates (row x column): \")\n",
    "\n",
    "        # Restamos 1 a las coordinadas porque el jugador asume que el tablero empieza en la posición 1 y no 0\n",
    "        coord = split(\"\\D+\", coord)\n",
    "        coord_x = int(coord[0]) - 1\n",
    "        coord_y = int(coord[1]) - 1\n",
    "   \n",
    "        # Comprobamos si el jugador ha dado a algun barco\n",
    "        if board[coord_x][coord_y] == \"#\":\n",
    "            print(\"You have hit me!\")\n",
    "            board[coord_x][coord_y] = \"X\"\n",
    "            print(board)\n",
    "        # Comprobamos si el jugador introduce una posición ya mencionada antes\n",
    "        elif board[coord_x][coord_y] == \"X\" or board[coord_x][coord_y] == \"o\":\n",
    "            print(\"You have already said that position before. Try another\")\n",
    "        \n",
    "        # Comprobamos si el jugador ha fallado\n",
    "        else:\n",
    "            print(\"Water! maybe next time\")\n",
    "            board[coord_x][coord_y] = \"o\"\n",
    "            print(board)\n",
    "        # Comprobamos si ya no quedan mas barcos\n",
    "        if \"#\" not in board:\n",
    "            print(\"You have destroyed my fleet, you win!\")\n",
    "            return False\n",
    "        else:\n",
    "            return True  \n",
    "\n",
    "    except Exception:\n",
    "        print(\"Invalid coordinates, please try again in the specified format.\")\n",
    "\n",
    "x = launch_torpedo(board=board)"
   ]
  },
  {
   "cell_type": "code",
   "execution_count": null,
   "metadata": {},
   "outputs": [],
   "source": []
  }
 ]
}