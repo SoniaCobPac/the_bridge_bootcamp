{
 "metadata": {
  "language_info": {
   "codemirror_mode": {
    "name": "ipython",
    "version": 3
   },
   "file_extension": ".py",
   "mimetype": "text/x-python",
   "name": "python",
   "nbconvert_exporter": "python",
   "pygments_lexer": "ipython3",
   "version": "3.7.4"
  },
  "orig_nbformat": 2,
  "kernelspec": {
   "name": "python374jvsc74a57bd02d8a740277f67c33143a8e5c8e55f738530a350d8def4a85d8635b690074994c",
   "display_name": "Python 3.7.4 64-bit"
  },
  "metadata": {
   "interpreter": {
    "hash": "2d8a740277f67c33143a8e5c8e55f738530a350d8def4a85d8635b690074994c"
   }
  }
 },
 "nbformat": 4,
 "nbformat_minor": 2,
 "cells": [
  {
   "cell_type": "code",
   "execution_count": 6,
   "metadata": {},
   "outputs": [],
   "source": [
    "from re import split"
   ]
  },
  {
   "cell_type": "code",
   "execution_count": null,
   "metadata": {},
   "outputs": [],
   "source": [
    "import random, time\n",
    "def inicio():\n",
    "    for i in range(2):\n",
    "        print(random.randint(1,6))\n",
    "        time.sleep(1)\n",
    "\n",
    "inicio()"
   ]
  },
  {
   "cell_type": "code",
   "execution_count": 4,
   "metadata": {},
   "outputs": [
    {
     "output_type": "execute_result",
     "data": {
      "text/plain": [
       "[[' ', ' ', ' ', ' ', ' ', ' ', ' ', ' ', ' ', ' '],\n",
       " [' ', ' ', ' ', ' ', ' ', ' ', ' ', ' ', ' ', ' '],\n",
       " [' ', ' ', ' ', ' ', ' ', ' ', ' ', ' ', ' ', ' '],\n",
       " [' ', ' ', ' ', ' ', ' ', ' ', ' ', ' ', ' ', ' '],\n",
       " [' ', ' ', ' ', ' ', ' ', ' ', ' ', ' ', ' ', ' '],\n",
       " [' ', ' ', ' ', ' ', ' ', ' ', ' ', ' ', ' ', ' '],\n",
       " [' ', ' ', ' ', ' ', ' ', ' ', ' ', ' ', ' ', ' '],\n",
       " [' ', ' ', ' ', ' ', ' ', ' ', ' ', ' ', ' ', ' '],\n",
       " [' ', ' ', ' ', ' ', ' ', ' ', ' ', ' ', ' ', ' '],\n",
       " [' ', ' ', ' ', ' ', ' ', ' ', ' ', ' ', ' ', ' ']]"
      ]
     },
     "metadata": {},
     "execution_count": 4
    }
   ],
   "source": [
    "\n",
    "def matriz (a,b):\n",
    "    tablero = []\n",
    "\n",
    "    for elem in range(a):\n",
    "        fila = []\n",
    "        for elem in range(b):\n",
    "            fila = fila + [\" \"]\n",
    "        tablero.append(fila)\n",
    "    return(tablero)\n",
    "    \n",
    "\n",
    "matriz(10,10)\n"
   ]
  },
  {
   "cell_type": "code",
   "execution_count": 113,
   "metadata": {},
   "outputs": [
    {
     "output_type": "stream",
     "name": "stdout",
     "text": [
      "['9', '10']\n",
      "['9', '10', '9', '10']\n",
      "['9', '10', '9', '10', '9', '10']\n",
      "['9', '10', '9', '10', '9', '10', '9', '10']\n",
      "[' ', ' ', ' ', ' ', ' ', ' ', ' ', ' ', '#', '#']\n",
      "[' ', ' ', ' ', ' ', ' ', ' ', ' ', ' ', ' ', ' ']\n",
      "[' ', ' ', ' ', ' ', ' ', ' ', ' ', ' ', ' ', ' ']\n",
      "[' ', ' ', ' ', ' ', ' ', ' ', ' ', ' ', ' ', ' ']\n",
      "[' ', ' ', ' ', ' ', ' ', ' ', ' ', ' ', '#', '#']\n",
      "[' ', ' ', ' ', ' ', ' ', ' ', ' ', ' ', ' ', ' ']\n",
      "[' ', ' ', ' ', ' ', ' ', ' ', ' ', ' ', '#', '#']\n",
      "[' ', ' ', ' ', ' ', ' ', ' ', ' ', ' ', ' ', ' ']\n",
      "[' ', ' ', ' ', ' ', ' ', ' ', ' ', ' ', ' ', ' ']\n",
      "[' ', ' ', ' ', ' ', ' ', ' ', ' ', ' ', '#', '#']\n"
     ]
    }
   ],
   "source": [
    "def barco2x1():\n",
    "    \n",
    "    horizontal = []\n",
    "    vertical = []\n",
    "\n",
    "    for i in range(4):\n",
    "        posicion = input(\"Inserte la posición del barco 1 (2x1): \")\n",
    "        coord = split(\"\\D+\", posicion)\n",
    "\n",
    "        horizontal.append(coord[0])\n",
    "        vertical.append(coord[1])\n",
    "        vertical.append(coord[2])\n",
    "    \n",
    "    for i, elem in enumerate(matriz(10,10)):\n",
    "        if i+1 == int(horizontal[0]):\n",
    "            elem = [\" \"]*(int(vertical[0])-1) + [\"#\"]*2 + [\" \"]*(9-int(vertical[0]))\n",
    "        if i+1 == int(horizontal[1]):\n",
    "            elem = [\" \"]*(int(vertical[2])-1) + [\"#\"]*2 + [\" \"]*(9-int(vertical[2]))\n",
    "        if i+1 == int(horizontal[2]):\n",
    "            elem = [\" \"]*(int(vertical[4])-1) + [\"#\"]*2 + [\" \"]*(9-int(vertical[4]))\n",
    "        if i+1 == int(horizontal[3]):\n",
    "            elem = [\" \"]*(int(vertical[6])-1) + [\"#\"]*2 + [\" \"]*(9-int(vertical[6]))\n",
    "\n",
    "        print(elem)          \n",
    "\n",
    "barco2x1()"
   ]
  },
  {
   "cell_type": "code",
   "execution_count": 116,
   "metadata": {},
   "outputs": [
    {
     "output_type": "stream",
     "name": "stdout",
     "text": [
      "['#', '#', '#', ' ', ' ', ' ', ' ', ' ', ' ', ' ']\n[' ', ' ', ' ', ' ', ' ', ' ', ' ', ' ', ' ', ' ']\n[' ', ' ', ' ', ' ', ' ', ' ', ' ', ' ', ' ', ' ']\n[' ', ' ', ' ', ' ', ' ', ' ', ' ', ' ', ' ', ' ']\n['#', '#', '#', ' ', ' ', ' ', ' ', ' ', ' ', ' ']\n[' ', ' ', ' ', ' ', ' ', ' ', ' ', ' ', ' ', ' ']\n[' ', ' ', ' ', ' ', ' ', ' ', ' ', ' ', ' ', ' ']\n[' ', ' ', ' ', ' ', ' ', ' ', ' ', ' ', ' ', ' ']\n[' ', ' ', ' ', ' ', ' ', ' ', ' ', ' ', ' ', ' ']\n[' ', ' ', ' ', ' ', ' ', ' ', ' ', '#', '#', '#']\n"
     ]
    }
   ],
   "source": [
    "def barco3x1():\n",
    "    \n",
    "    horizontal = []\n",
    "    vertical = []\n",
    "\n",
    "    for i in range(3):\n",
    "        posicion = input(\"Inserte la posición del barco 2 (3x1): \")\n",
    "        coord = split(\"\\D+\", posicion)\n",
    "\n",
    "        horizontal.append(coord[0])\n",
    "        vertical.append(coord[1])\n",
    "        vertical.append(coord[2])\n",
    "    \n",
    "    for i, elem in enumerate(matriz(10,10)):\n",
    "        if i+1 == int(horizontal[0]):\n",
    "            elem = [\" \"]*(int(vertical[0])-1) + [\"#\"]*3 + [\" \"]*(8-int(vertical[0]))\n",
    "        if i+1 == int(horizontal[1]):\n",
    "            elem = [\" \"]*(int(vertical[2])-1) + [\"#\"]*3 + [\" \"]*(8-int(vertical[2]))\n",
    "        if i+1 == int(horizontal[2]):\n",
    "            elem = [\" \"]*(int(vertical[4])-1) + [\"#\"]*3 + [\" \"]*(8-int(vertical[4]))\n",
    "  \n",
    "        print(elem)\n",
    "\n",
    "\n",
    "barco3x1()"
   ]
  },
  {
   "cell_type": "code",
   "execution_count": 125,
   "metadata": {},
   "outputs": [
    {
     "output_type": "stream",
     "name": "stdout",
     "text": [
      "[' ', ' ', ' ', ' ', ' ', ' ', ' ', ' ', ' ', ' ']\n[' ', ' ', ' ', ' ', ' ', ' ', ' ', ' ', ' ', ' ']\n[' ', ' ', ' ', ' ', ' ', ' ', ' ', ' ', ' ', ' ']\n['#', '#', '#', '#', ' ', ' ', ' ', ' ', ' ', ' ']\n[' ', ' ', ' ', ' ', ' ', ' ', ' ', ' ', ' ', ' ']\n[' ', ' ', ' ', ' ', ' ', ' ', ' ', ' ', ' ', ' ']\n[' ', ' ', ' ', ' ', ' ', ' ', ' ', ' ', ' ', ' ']\n[' ', ' ', ' ', ' ', ' ', ' ', ' ', ' ', ' ', ' ']\n[' ', ' ', ' ', ' ', ' ', ' ', '#', '#', '#', '#']\n[' ', ' ', ' ', ' ', ' ', ' ', ' ', ' ', ' ', ' ']\n"
     ]
    }
   ],
   "source": [
    "def barco4x1():\n",
    "    \n",
    "    horizontal = []\n",
    "    vertical = []\n",
    "\n",
    "    for i in range(2):\n",
    "        posicion = input(\"Inserte la posición del barco 3 (4x1): \")\n",
    "        coord = split(\"\\D+\", posicion)\n",
    "\n",
    "        horizontal.append(coord[0])\n",
    "        vertical.append(coord[1])\n",
    "        vertical.append(coord[2])\n",
    "    \n",
    "    for i, elem in enumerate(matriz(10,10)):\n",
    "        if i+1 == int(horizontal[0]):\n",
    "            elem = [\" \"]*(int(vertical[0])-1) + [\"#\"]*4 + [\" \"]*(7-int(vertical[0]))\n",
    "        if i+1 == int(horizontal[1]):\n",
    "            elem = [\" \"]*(int(vertical[2])-1) + [\"#\"]*4 + [\" \"]*(7-int(vertical[2]))\n",
    "\n",
    "        print(elem)\n",
    "\n",
    "barco4x1()"
   ]
  },
  {
   "cell_type": "code",
   "execution_count": 122,
   "metadata": {},
   "outputs": [
    {
     "output_type": "stream",
     "name": "stdout",
     "text": [
      "[' ', ' ', ' ', ' ', '#', ' ', ' ', ' ', ' ', ' ']\n[' ', ' ', ' ', ' ', '#', ' ', ' ', ' ', ' ', ' ']\n[' ', ' ', ' ', ' ', '#', ' ', ' ', ' ', ' ', ' ']\n[' ', ' ', ' ', ' ', '#', ' ', ' ', ' ', ' ', ' ']\n[' ', ' ', ' ', ' ', '#', ' ', ' ', ' ', ' ', ' ']\n[' ', ' ', ' ', ' ', ' ', ' ', ' ', ' ', ' ', ' ']\n[' ', ' ', ' ', ' ', ' ', ' ', ' ', ' ', ' ', ' ']\n[' ', ' ', ' ', ' ', ' ', ' ', ' ', ' ', ' ', ' ']\n[' ', ' ', ' ', ' ', ' ', ' ', ' ', ' ', ' ', ' ']\n[' ', ' ', ' ', ' ', ' ', ' ', ' ', ' ', ' ', ' ']\n"
     ]
    }
   ],
   "source": [
    "def barco5x1():\n",
    "    horizontal = []\n",
    "    vertical = []\n",
    "\n",
    "    posicion = input(\"Inserte la posición del barco 5 (5x1): \")\n",
    "    coord = split(\"\\D+\", posicion)\n",
    "\n",
    "    horizontal.append(coord[0])\n",
    "    vertical.append(coord[1])\n",
    "    vertical.append(coord[2])   \n",
    "\n",
    "    for i, elem in enumerate(matriz(6,10)):\n",
    "        if i+1 == int(vertical[0]):\n",
    "            for i in range(5):\n",
    "                elem = [\" \"]*(int(horizontal[0])-1) + [\"#\"] + [\" \"]*(10-int(horizontal[0]))\n",
    "        \n",
    "                print(elem) \n",
    "        else:\n",
    "            print([\" \"]*10)\n",
    "\n",
    "barco5x1()"
   ]
  },
  {
   "cell_type": "code",
   "execution_count": 9,
   "metadata": {},
   "outputs": [
    {
     "output_type": "stream",
     "name": "stdout",
     "text": [
      "['#', '#', ' ', ' ', ' ', ' ', ' ', ' ', ' ', ' ']\n[' ', '#', '#', ' ', ' ', ' ', ' ', ' ', ' ', ' ']\n[' ', ' ', '#', '#', ' ', ' ', ' ', ' ', ' ', ' ']\n['#', '#', ' ', ' ', ' ', ' ', ' ', ' ', ' ', ' ']\n['#', '#', '#', ' ', ' ', ' ', ' ', ' ', ' ', ' ']\n[' ', '#', '#', '#', ' ', ' ', ' ', ' ', ' ', ' ']\n['#', '#', '#', ' ', ' ', ' ', ' ', ' ', ' ', ' ']\n['#', '#', '#', '#', ' ', ' ', ' ', ' ', ' ', ' ']\n[' ', ' ', ' ', ' ', ' ', ' ', ' ', ' ', ' ', ' ']\n[' ', ' ', ' ', ' ', ' ', ' ', ' ', ' ', ' ', ' ']\n"
     ]
    }
   ],
   "source": [
    "# Todos los barcos menos el 5x1 \n",
    "def barcos():\n",
    "\n",
    "    horizontal = []\n",
    "    vertical = []\n",
    "\n",
    "    def coordinadas():\n",
    "        horizontal.append(coord[0])\n",
    "        vertical.append(coord[1])\n",
    "        vertical.append(coord[2])\n",
    "\n",
    "    #Pedimos coordinadas de los barcos 2x1\n",
    "    for i in range(4):\n",
    "        posicion = input(\"Inserte la posición del barco 1 (2x1): \")\n",
    "        coord = split(\"\\D+\", posicion)\n",
    "        coordinadas()\n",
    "\n",
    "    #Pedimos coordinadas de los barcos 3x1\n",
    "    for i in range(3):\n",
    "        posicion = input(\"Inserte la posición del barco 2 (3x1): \")\n",
    "        coord = split(\"\\D+\", posicion)      \n",
    "        coordinadas()\n",
    "\n",
    "    #Pedimos coordinadas de los barcos 4x1\n",
    "    for i in range(2):\n",
    "        posicion = input(\"Inserte la posición del barco 3 (4x1): \")\n",
    "        coord = split(\"\\D+\", posicion)\n",
    "        coordinadas()\n",
    "\n",
    "    contador = 0\n",
    "    #Colocamos los barcos 2x1\n",
    "    for i, elem in enumerate(matriz(10,10)):\n",
    "        if contador < 4:\n",
    "            if i+1 == int(horizontal[contador]):\n",
    "                elem = [\" \"]*(int(vertical[contador*2])-1) + [\"#\"]*2 + [\" \"]*(9-int(vertical[contador*2]))\n",
    "\n",
    "        #Colocamos los barcos 3x1\n",
    "        if contador >= 4 and contador < 7:\n",
    "            if i+1 == int(horizontal[contador]):\n",
    "                elem = [\" \"]*(int(vertical[contador*2])-1) + [\"#\"]*3 + [\" \"]*(8-int(vertical[contador*2]))\n",
    "    \n",
    "        #Colocamos los barcos 4x1\n",
    "        if contador >=7 and contador <=8:\n",
    "            if i+1 == int(horizontal[contador]):\n",
    "                elem = [\" \"]*(int(vertical[contador*2])-1) + [\"#\"]*4 + [\" \"]*(7-int(vertical[contador*2]))      \n",
    "\n",
    "\n",
    "        contador += 1\n",
    "        print(elem)\n",
    "\n",
    "barcos()"
   ]
  },
  {
   "cell_type": "code",
   "execution_count": null,
   "metadata": {},
   "outputs": [],
   "source": [
    "  \"\"\"          \n",
    "        #Barco 5x1\n",
    "        if contador == 9:\n",
    "        for i, elem in enumerate(matriz(6,10)):\n",
    "        if i+1 == int(vertical[0]):\n",
    "            for i in range(5):\n",
    "                elem = [\" \"]*(int(horizontal[0])-1) + [\"#\"] + [\" \"]*(10-int(horizontal[0]))\n",
    "        \n",
    "                print(elem) \n",
    "        else:\n",
    "            print([\" \"]*10)\n",
    "\n",
    "\n",
    "\"\"\""
   ]
  },
  {
   "cell_type": "code",
   "execution_count": null,
   "metadata": {},
   "outputs": [],
   "source": []
  },
  {
   "cell_type": "code",
   "execution_count": null,
   "metadata": {},
   "outputs": [],
   "source": []
  },
  {
   "cell_type": "code",
   "execution_count": null,
   "metadata": {},
   "outputs": [],
   "source": []
  },
  {
   "cell_type": "code",
   "execution_count": null,
   "metadata": {},
   "outputs": [],
   "source": []
  },
  {
   "cell_type": "code",
   "execution_count": null,
   "metadata": {},
   "outputs": [],
   "source": []
  },
  {
   "cell_type": "code",
   "execution_count": null,
   "metadata": {},
   "outputs": [],
   "source": []
  },
  {
   "cell_type": "code",
   "execution_count": null,
   "metadata": {},
   "outputs": [],
   "source": []
  },
  {
   "cell_type": "code",
   "execution_count": null,
   "metadata": {},
   "outputs": [],
   "source": []
  },
  {
   "cell_type": "code",
   "execution_count": null,
   "metadata": {},
   "outputs": [],
   "source": []
  },
  {
   "cell_type": "code",
   "execution_count": null,
   "metadata": {},
   "outputs": [],
   "source": []
  },
  {
   "cell_type": "code",
   "execution_count": null,
   "metadata": {},
   "outputs": [],
   "source": []
  },
  {
   "cell_type": "code",
   "execution_count": 12,
   "metadata": {},
   "outputs": [
    {
     "output_type": "stream",
     "name": "stdout",
     "text": [
      "['#', '#', ' ', ' ', ' ', ' ', ' ', ' ', ' ', ' ']\n[' ', '#', '#', ' ', ' ', ' ', ' ', ' ', ' ', ' ']\n[' ', ' ', '#', '#', ' ', ' ', ' ', ' ', ' ', ' ']\n[' ', ' ', ' ', ' ', '#', '#', ' ', ' ', ' ', ' ']\n['#', '#', '#', ' ', ' ', ' ', ' ', ' ', ' ', ' ']\n[' ', '#', '#', '#', ' ', ' ', ' ', ' ', ' ', ' ']\n[' ', ' ', '#', '#', '#', ' ', ' ', ' ', ' ', ' ']\n['#', '#', '#', '#', ' ', ' ', ' ', ' ', ' ', ' ']\n[' ', '#', '#', '#', '#', ' ', ' ', ' ', ' ', ' ']\n[' ', ' ', ' ', ' ', ' ', ' ', ' ', ' ', ' ', ' ']\n"
     ]
    }
   ],
   "source": [
    "horizontal = [1,2,3,4,5,6,7,8,9,10]\n",
    "vertical = [1,2,2,3,3,4,5,6,1,3,2,4,3,5,1,4,2,6,1,5]\n",
    "\n",
    "contador = 0\n",
    "#Barco 2x1\n",
    "for i, elem in enumerate(matriz(10,10)):\n",
    "    if contador < 4:\n",
    "        if i+1 == int(horizontal[contador]):\n",
    "            elem = [\" \"]*(int(vertical[contador*2])-1) + [\"#\"]*2 + [\" \"]*(9-int(vertical[contador*2]))\n",
    "        #contador += 1\n",
    "\n",
    "    #Barcos 3x1\n",
    "    if contador >= 4 and contador < 7:\n",
    "        if i+1 == int(horizontal[contador]):\n",
    "            elem = [\" \"]*(int(vertical[contador*2])-1) + [\"#\"]*3 + [\" \"]*(8-int(vertical[contador*2]))\n",
    "  \n",
    "    #Barco 4x1\n",
    "    if contador >=7 and contador <=8:\n",
    "        if i+1 == int(horizontal[contador]):\n",
    "            elem = [\" \"]*(int(vertical[contador*2])-1) + [\"#\"]*4 + [\" \"]*(7-int(vertical[contador*2]))      \n",
    "        \n",
    "    contador += 1\n",
    "\n",
    "    print(elem)\n"
   ]
  },
  {
   "cell_type": "code",
   "execution_count": null,
   "metadata": {},
   "outputs": [],
   "source": []
  },
  {
   "cell_type": "code",
   "execution_count": null,
   "metadata": {},
   "outputs": [],
   "source": []
  },
  {
   "cell_type": "code",
   "execution_count": null,
   "metadata": {},
   "outputs": [],
   "source": [
    "# Usando clases"
   ]
  },
  {
   "cell_type": "code",
   "execution_count": 104,
   "metadata": {},
   "outputs": [
    {
     "output_type": "execute_result",
     "data": {
      "text/plain": [
       "[['', '', '', '', '', '', '', '', '', ''],\n",
       " ['', '', '', '', '', '', '', '', '', ''],\n",
       " ['', '', '', '', '', '', '', '', '', ''],\n",
       " ['', '', '', '', '', '', '', '', '', ''],\n",
       " ['', '', '', '', '', '', '', '', '', ''],\n",
       " ['', '', '', '', '', '', '', '', '', ''],\n",
       " ['', '', '', '', '', '', '', '', '', ''],\n",
       " ['', '', '', '', '', '', '', '', '', ''],\n",
       " ['', '', '', '', '', '', '', '', '', ''],\n",
       " ['', '', '', '', '', '', '', '', '', '']]"
      ]
     },
     "metadata": {},
     "execution_count": 104
    }
   ],
   "source": [
    "class Matrix():\n",
    "    def __init__(self, row, columns):\n",
    "\n",
    "        self.row = row\n",
    "        self.columns = columns\n",
    "\n",
    "    def board(self):\n",
    "        tableboard = []\n",
    "        for elem in range(self.row):\n",
    "            row = []\n",
    "            for elem in range(self.columns):\n",
    "                row = row + [\"\"]\n",
    "            tableboard.append(row)\n",
    "        return(tableboard)\n",
    "\n",
    "tablero = Matrix (10,10)\n",
    "tablero.board()"
   ]
  },
  {
   "cell_type": "code",
   "execution_count": null,
   "metadata": {},
   "outputs": [],
   "source": [
    "class Ship:\n",
    "\n",
    "    def __init__(self, ship_type, size):\n",
    "        self.ship_type = ship_type\n",
    "        self.size = size\n",
    "        self.coords = []\n",
    "\n",
    "    def plot_vertical(self, row, col):\n",
    "        for i in range(self.size):\n",
    "            self.coords.append((row, col))\n",
    "            row = row + 1\n",
    "\n",
    "    def plot_horizontal(self, row, col):\n",
    "        for i in range(self.size):\n",
    "            self.coords.append((row, col))\n",
    "            col = col + 1\n",
    "\n",
    "    def check_status(self):\n",
    "        if self.coords == []:\n",
    "            return True\n",
    "        else:\n",
    "            return False"
   ]
  },
  {
   "cell_type": "code",
   "execution_count": 102,
   "metadata": {},
   "outputs": [
    {
     "output_type": "stream",
     "name": "stdout",
     "text": [
      "Position format error for this boat, type it again.\n"
     ]
    },
    {
     "output_type": "error",
     "ename": "UnboundLocalError",
     "evalue": "local variable 'ori' referenced before assignment",
     "traceback": [
      "\u001b[1;31m---------------------------------------------------------------------------\u001b[0m",
      "\u001b[1;31mUnboundLocalError\u001b[0m                         Traceback (most recent call last)",
      "\u001b[1;32m<ipython-input-102-708891aa6b49>\u001b[0m in \u001b[0;36m<module>\u001b[1;34m\u001b[0m\n\u001b[0;32m     58\u001b[0m \u001b[1;33m\u001b[0m\u001b[0m\n\u001b[0;32m     59\u001b[0m \u001b[0mbarco\u001b[0m \u001b[1;33m=\u001b[0m \u001b[0mFlota\u001b[0m\u001b[1;33m(\u001b[0m\u001b[1;33m)\u001b[0m\u001b[1;33m\u001b[0m\u001b[1;33m\u001b[0m\u001b[0m\n\u001b[1;32m---> 60\u001b[1;33m \u001b[0mbarco\u001b[0m\u001b[1;33m.\u001b[0m\u001b[0manadir_barco_5x1\u001b[0m\u001b[1;33m(\u001b[0m\u001b[1;33m)\u001b[0m\u001b[1;33m\u001b[0m\u001b[1;33m\u001b[0m\u001b[0m\n\u001b[0m",
      "\u001b[1;32m<ipython-input-102-708891aa6b49>\u001b[0m in \u001b[0;36manadir_barco_5x1\u001b[1;34m(self)\u001b[0m\n\u001b[0;32m     50\u001b[0m     \u001b[1;32mdef\u001b[0m \u001b[0manadir_barco_5x1\u001b[0m\u001b[1;33m(\u001b[0m\u001b[0mself\u001b[0m\u001b[1;33m)\u001b[0m\u001b[1;33m:\u001b[0m\u001b[1;33m\u001b[0m\u001b[1;33m\u001b[0m\u001b[0m\n\u001b[0;32m     51\u001b[0m         \u001b[1;32mfor\u001b[0m \u001b[0mi\u001b[0m \u001b[1;32min\u001b[0m \u001b[0mrange\u001b[0m\u001b[1;33m(\u001b[0m\u001b[1;36m1\u001b[0m\u001b[1;33m)\u001b[0m\u001b[1;33m:\u001b[0m\u001b[1;33m\u001b[0m\u001b[1;33m\u001b[0m\u001b[0m\n\u001b[1;32m---> 52\u001b[1;33m             \u001b[0mself\u001b[0m\u001b[1;33m.\u001b[0m\u001b[0manadir_barcos\u001b[0m\u001b[1;33m(\u001b[0m\u001b[1;33m)\u001b[0m\u001b[1;33m\u001b[0m\u001b[1;33m\u001b[0m\u001b[0m\n\u001b[0m\u001b[0;32m     53\u001b[0m \u001b[1;33m\u001b[0m\u001b[0m\n\u001b[0;32m     54\u001b[0m \u001b[1;33m\u001b[0m\u001b[0m\n",
      "\u001b[1;32m<ipython-input-102-708891aa6b49>\u001b[0m in \u001b[0;36manadir_barcos\u001b[1;34m(self)\u001b[0m\n\u001b[0;32m     24\u001b[0m         \u001b[1;31m#self.vertical = []\u001b[0m\u001b[1;33m\u001b[0m\u001b[1;33m\u001b[0m\u001b[1;33m\u001b[0m\u001b[0m\n\u001b[0;32m     25\u001b[0m \u001b[1;33m\u001b[0m\u001b[0m\n\u001b[1;32m---> 26\u001b[1;33m         \u001b[1;32mif\u001b[0m \u001b[0mori\u001b[0m \u001b[1;33m==\u001b[0m \u001b[1;34m\"h\"\u001b[0m\u001b[1;33m:\u001b[0m\u001b[1;33m\u001b[0m\u001b[1;33m\u001b[0m\u001b[0m\n\u001b[0m\u001b[0;32m     27\u001b[0m             \u001b[0mcoord\u001b[0m \u001b[1;33m=\u001b[0m \u001b[0msplit\u001b[0m\u001b[1;33m(\u001b[0m\u001b[1;34m\"\\D+\"\u001b[0m\u001b[1;33m,\u001b[0m \u001b[0mpos_str\u001b[0m\u001b[1;33m)\u001b[0m\u001b[1;33m\u001b[0m\u001b[1;33m\u001b[0m\u001b[0m\n\u001b[0;32m     28\u001b[0m             \u001b[0mself\u001b[0m\u001b[1;33m.\u001b[0m\u001b[0mhorizontal\u001b[0m\u001b[1;33m.\u001b[0m\u001b[0mappend\u001b[0m\u001b[1;33m(\u001b[0m\u001b[0mcoord\u001b[0m\u001b[1;33m[\u001b[0m\u001b[1;36m0\u001b[0m\u001b[1;33m]\u001b[0m\u001b[1;33m)\u001b[0m\u001b[1;33m\u001b[0m\u001b[1;33m\u001b[0m\u001b[0m\n",
      "\u001b[1;31mUnboundLocalError\u001b[0m: local variable 'ori' referenced before assignment"
     ]
    }
   ],
   "source": [
    "class Ship():\n",
    "    def __init__(self):\n",
    "        self.horizontal = []\n",
    "        self.vertical = []\n",
    "     \n",
    "     #b_list.insert(1, 'red')\n",
    "\n",
    "    def add_boat(self):\n",
    "        pos_str = input(\"Inserte la posición del barco 1 (2x1): \")\n",
    "\n",
    "        # lo primero es comprobar si el formato de insercion es el correcto\n",
    "        # los dos puntos son un elemento constante en la inserción de posición\n",
    "        if pos_str.count(\":\")==1:\n",
    "            # comprobación de elementos de una inserción vertical \n",
    "            if pos_str.count(\"v\")==1:   # Debe haber una única letra de orientación\n",
    "                ori = \"v\"\n",
    "            # comprobación de elementos de una inserción horizontal \n",
    "            elif pos_str.count(\"h\")==1: # Debe haber una única letra de orientación\n",
    "                ori = \"h\"\n",
    "            else:\n",
    "                print(\"Position format error for this boat, type it again.\")\n",
    "        else:\n",
    "            print(\"Position format error for this boat, type it again.\")\n",
    "\n",
    "        #self.horizontal = []\n",
    "        #self.vertical = []\n",
    "        \n",
    "        if ori == \"h\":\n",
    "            coord = split(\"\\D+\", pos_str)\n",
    "            self.horizontal.append(coord[0])\n",
    "            self.vertical.append(coord[1])\n",
    "            self.vertical.append(coord[2])\n",
    "        elif ori == \"v\":\n",
    "            coord = split(\"\\D+\", pos_str)\n",
    "            self.vertical.append(coord[0])\n",
    "            self.horizontal.append(coord[1])\n",
    "            self.horizontal.append(coord[2])\n",
    "\n",
    "    \n",
    "    def anadir_barco_2x1(self):\n",
    "        for i in range(4):\n",
    "            self.anadir_barcos()\n",
    "                    \n",
    "    def anadir_barco_3x1(self):\n",
    "        for i in range(3):\n",
    "            self.anadir_barcos()\n",
    "\n",
    "    def anadir_barco_4x1(self):\n",
    "        for i in range(2):\n",
    "            self.anadir_barcos()\n",
    "\n",
    "    def anadir_barco_5x1(self):\n",
    "        for i in range(1):\n",
    "            self.anadir_barcos()\n",
    "\n",
    "\n",
    "barco = Flota()\n",
    "barco.anadir_barco_5x1()"
   ]
  },
  {
   "cell_type": "code",
   "execution_count": null,
   "metadata": {},
   "outputs": [],
   "source": [
    "class Ship():\n",
    "    def __init__(self):\n",
    "        self.horizontal = []\n",
    "        self.vertical = []\n",
    "    \n",
    "    def add_boat(self):\n",
    "        pos_str = input(\"Inserte la posición del barco 1 (2x1): \")\n",
    "\n",
    "        # lo primero es comprobar si el formato de insercion es el correcto\n",
    "        # los dos puntos son un elemento constante en la inserción de posición\n",
    "        if pos_str.count(\":\")==1:\n",
    "            # comprobación de elementos de una inserción vertical \n",
    "            if pos_str.count(\"v\")==1:   # Debe haber una única letra de orientación\n",
    "                ori = \"v\"\n",
    "            # comprobación de elementos de una inserción horizontal \n",
    "            elif pos_str.count(\"h\")==1: # Debe haber una única letra de orientación\n",
    "                ori = \"h\"\n",
    "            else:\n",
    "                print(\"Position format error for this boat, type it again.\")\n",
    "        else:\n",
    "            print(\"Position format error for this boat, type it again.\")\n",
    "\n",
    "        #self.horizontal = []\n",
    "        #self.vertical = []\n",
    "        \n",
    "        if ori == \"h\":\n",
    "            coord = split(\"\\D+\", pos_str)\n",
    "            self.horizontal.append(coord[0])\n",
    "            self.vertical.append(coord[1])\n",
    "            self.vertical.append(coord[2])\n",
    "        elif ori == \"v\":\n",
    "            coord = split(\"\\D+\", pos_str)\n",
    "            self.vertical.append(coord[0])\n",
    "            self.horizontal.append(coord[1])\n",
    "            self.horizontal.append(coord[2])\n",
    "\n",
    "    \n",
    "    def anadir_barco_2x1(self):\n",
    "        for i in range(4):\n",
    "            self.anadir_barcos()\n",
    "                    \n",
    "    def anadir_barco_3x1(self):\n",
    "        for i in range(3):\n",
    "            self.anadir_barcos()\n",
    "\n",
    "    def anadir_barco_4x1(self):\n",
    "        for i in range(2):\n",
    "            self.anadir_barcos()\n",
    "\n",
    "    def anadir_barco_5x1(self):\n",
    "        for i in range(1):\n",
    "            self.anadir_barcos()"
   ]
  },
  {
   "cell_type": "code",
   "execution_count": 70,
   "metadata": {},
   "outputs": [
    {
     "output_type": "error",
     "ename": "TypeError",
     "evalue": "'method' object is not subscriptable",
     "traceback": [
      "\u001b[1;31m---------------------------------------------------------------------------\u001b[0m",
      "\u001b[1;31mTypeError\u001b[0m                                 Traceback (most recent call last)",
      "\u001b[1;32m<ipython-input-70-7c483536640a>\u001b[0m in \u001b[0;36m<module>\u001b[1;34m\u001b[0m\n\u001b[0;32m      8\u001b[0m             \u001b[0mTablero\u001b[0m\u001b[1;33m[\u001b[0m\u001b[0mi\u001b[0m\u001b[1;33m]\u001b[0m\u001b[1;33m[\u001b[0m\u001b[0mlist_posi\u001b[0m\u001b[1;33m[\u001b[0m\u001b[1;36m1\u001b[0m\u001b[1;33m]\u001b[0m\u001b[1;33m-\u001b[0m\u001b[1;36m1\u001b[0m\u001b[1;33m]\u001b[0m \u001b[1;33m=\u001b[0m \u001b[1;34m'#'\u001b[0m\u001b[1;33m\u001b[0m\u001b[1;33m\u001b[0m\u001b[0m\n\u001b[0;32m      9\u001b[0m \u001b[1;33m\u001b[0m\u001b[0m\n\u001b[1;32m---> 10\u001b[1;33m \u001b[0minsert_boat\u001b[0m\u001b[1;33m(\u001b[0m\u001b[1;34m\"v124\"\u001b[0m\u001b[1;33m,\u001b[0m\u001b[0mtablero\u001b[0m\u001b[1;33m.\u001b[0m\u001b[0mfuncion_tablero\u001b[0m\u001b[1;33m)\u001b[0m\u001b[1;33m\u001b[0m\u001b[1;33m\u001b[0m\u001b[0m\n\u001b[0m",
      "\u001b[1;32m<ipython-input-70-7c483536640a>\u001b[0m in \u001b[0;36minsert_boat\u001b[1;34m(list_posi, Tablero)\u001b[0m\n\u001b[0;32m      6\u001b[0m     \u001b[1;32melse\u001b[0m\u001b[1;33m:\u001b[0m\u001b[1;33m\u001b[0m\u001b[1;33m\u001b[0m\u001b[0m\n\u001b[0;32m      7\u001b[0m         \u001b[1;32mfor\u001b[0m \u001b[0mi\u001b[0m \u001b[1;32min\u001b[0m \u001b[0mrange\u001b[0m\u001b[1;33m(\u001b[0m\u001b[0mlist_posi\u001b[0m\u001b[1;33m[\u001b[0m\u001b[1;36m2\u001b[0m\u001b[1;33m]\u001b[0m\u001b[1;33m-\u001b[0m\u001b[1;36m1\u001b[0m\u001b[1;33m,\u001b[0m \u001b[0mlist_posi\u001b[0m\u001b[1;33m[\u001b[0m\u001b[1;36m3\u001b[0m\u001b[1;33m]\u001b[0m\u001b[1;33m)\u001b[0m\u001b[1;33m:\u001b[0m\u001b[1;33m\u001b[0m\u001b[1;33m\u001b[0m\u001b[0m\n\u001b[1;32m----> 8\u001b[1;33m             \u001b[0mTablero\u001b[0m\u001b[1;33m[\u001b[0m\u001b[0mi\u001b[0m\u001b[1;33m]\u001b[0m\u001b[1;33m[\u001b[0m\u001b[0mlist_posi\u001b[0m\u001b[1;33m[\u001b[0m\u001b[1;36m1\u001b[0m\u001b[1;33m]\u001b[0m\u001b[1;33m-\u001b[0m\u001b[1;36m1\u001b[0m\u001b[1;33m]\u001b[0m \u001b[1;33m=\u001b[0m \u001b[1;34m'#'\u001b[0m\u001b[1;33m\u001b[0m\u001b[1;33m\u001b[0m\u001b[0m\n\u001b[0m\u001b[0;32m      9\u001b[0m \u001b[1;33m\u001b[0m\u001b[0m\n\u001b[0;32m     10\u001b[0m \u001b[0minsert_boat\u001b[0m\u001b[1;33m(\u001b[0m\u001b[1;34m\"v124\"\u001b[0m\u001b[1;33m,\u001b[0m\u001b[0mtablero\u001b[0m\u001b[1;33m.\u001b[0m\u001b[0mfuncion_tablero\u001b[0m\u001b[1;33m)\u001b[0m\u001b[1;33m\u001b[0m\u001b[1;33m\u001b[0m\u001b[0m\n",
      "\u001b[1;31mTypeError\u001b[0m: 'method' object is not subscriptable"
     ]
    }
   ],
   "source": [
    "def insert_boat(list_posi, Tablero):\n",
    "    list_posi = [1,2,3,4,5]\n",
    "    if list_posi[0] == 'v':\n",
    "        for i in range(list_posi[2]-1, list_posi[3]):\n",
    "            Tablero[list_posi[1]-1][i] = '#'\n",
    "    else: \n",
    "        for i in range(list_posi[2]-1, list_posi[3]):\n",
    "            Tablero[i][list_posi[1]-1] = '#'\n",
    "\n",
    "insert_boat(\"v124\",tablero.funcion_tablero)"
   ]
  },
  {
   "cell_type": "code",
   "execution_count": null,
   "metadata": {},
   "outputs": [],
   "source": [
    "   # mirar errores del input:\n",
    "   \n",
    "   # A continuación se descompone el string para obtener los números\n",
    "    try:\n",
    "        list1 = pos_str.split(ori)\n",
    "        list2 = list1[-1].split(\":\")\n",
    "        num1 = int(list1[0])\n",
    "        num2 = int(list2[0])\n",
    "        num3 = int(list2[1])\n",
    "\n",
    "        # Se comprueban la coherencia de las coordenadas\n",
    "        coord_OK = False\n",
    "        if (num1 >= 1 and num1 <= 10) and  (num2 >= 1 and num2 <= 10) and (num3 >= 1 and num3 <= 10):\n",
    "            coord_OK = True\n",
    "\n",
    "        # Se comprueba que el largo del barco y las coordenadas coinciden\n",
    "        len_coord_OK = False\n",
    "        if num3-num2+1 == boat_len:\n",
    "            len_coord_OK = True\n",
    "        # Si no hay error de formato y la función prosigue, se devuelve una lista con la orientación y las coordenadas del barco\n",
    "        if coord_OK:\n",
    "            if len_coord_OK:\n",
    "                return [ori, num1, num2, num3]\n",
    "            else:\n",
    "                print (\"Coordenates do not match with the boat lenght, type it again.\") \n",
    "                return False   \n",
    "        else:\n",
    "            print(\"A coordenate is out of range, type it again.\")\n",
    "            return False\n",
    "    except ValueError:\n",
    "        print(\"Position format error for this boat, type it again.\")\n",
    "        return False"
   ]
  },
  {
   "cell_type": "code",
   "execution_count": null,
   "metadata": {},
   "outputs": [],
   "source": [
    "\n",
    "    horizontal = []\n",
    "    vertical = []\n",
    "\n",
    "    def coordinadas():\n",
    "        horizontal.append(coord[0])\n",
    "        vertical.append(coord[1])\n",
    "        vertical.append(coord[2])\n",
    "\n",
    "    #Pedimos coordinadas de los barcos 2x1\n",
    "    for i in range(4):\n",
    "        posicion = input(\"Inserte la posición del barco 1 (2x1): \")\n",
    "        coord = split(\"\\D+\", posicion)\n",
    "        coordinadas()\n",
    "\n",
    "    #Pedimos coordinadas de los barcos 3x1\n",
    "    for i in range(3):\n",
    "        posicion = input(\"Inserte la posición del barco 2 (3x1): \")\n",
    "        coord = split(\"\\D+\", posicion)      \n",
    "        coordinadas()\n",
    "\n",
    "    #Pedimos coordinadas de los barcos 4x1\n",
    "    for i in range(2):\n",
    "        posicion = input(\"Inserte la posición del barco 3 (4x1): \")\n",
    "        coord = split(\"\\D+\", posicion)\n",
    "        coordinadas()\n",
    "\n",
    "    contador = 0\n",
    "    #Colocamos los barcos 2x1\n",
    "    for i, elem in enumerate(matriz(10,10)):\n",
    "        if contador < 4:\n",
    "            if i+1 == int(horizontal[contador]):\n",
    "                elem = [\" \"]*(int(vertical[contador*2])-1) + [\"#\"]*2 + [\" \"]*(9-int(vertical[contador*2]))\n",
    "\n",
    "        #Colocamos los barcos 3x1\n",
    "        if contador >= 4 and contador < 7:\n",
    "            if i+1 == int(horizontal[contador]):\n",
    "                elem = [\" \"]*(int(vertical[contador*2])-1) + [\"#\"]*3 + [\" \"]*(8-int(vertical[contador*2]))\n",
    "    \n",
    "        #Colocamos los barcos 4x1\n",
    "        if contador >=7 and contador <=8:\n",
    "            if i+1 == int(horizontal[contador]):\n",
    "                elem = [\" \"]*(int(vertical[contador*2])-1) + [\"#\"]*4 + [\" \"]*(7-int(vertical[contador*2]))      \n",
    "\n",
    "\n",
    "        contador += 1\n",
    "        print(elem)"
   ]
  },
  {
   "cell_type": "code",
   "execution_count": null,
   "metadata": {},
   "outputs": [],
   "source": []
  }
 ]
}