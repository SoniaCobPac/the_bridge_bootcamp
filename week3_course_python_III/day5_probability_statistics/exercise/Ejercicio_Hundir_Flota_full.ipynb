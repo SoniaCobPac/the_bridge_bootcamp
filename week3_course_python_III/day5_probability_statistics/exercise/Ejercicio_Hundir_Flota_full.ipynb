{
 "cells": [
  {
   "cell_type": "markdown",
   "metadata": {},
   "source": [
    "# Ejercicio Hundir La Flota | Challenge yourself \n",
    "\n",
    "#### La fecha de entrega está limitada al próximo 16/05/2021"
   ]
  },
  {
   "cell_type": "markdown",
   "metadata": {},
   "source": [
    "En este ejercicio deberás programar el juego **hundir la flota** o [**batalla naval**](https://es.wikipedia.org/wiki/Batalla_naval_(juego)) "
   ]
  },
  {
   "cell_type": "markdown",
   "metadata": {},
   "source": [
    "El tablero de este juego será una matriz de 10x10 dimensiones, matriz sobre la que plamaremos el estado de cada turno. Cada matriz de información continente del estado en cada momento, se mostrará por pantalla."
   ]
  },
  {
   "cell_type": "markdown",
   "metadata": {},
   "source": [
    "![tablero](https://i.pinimg.com/474x/1c/66/ca/1c66ca8d767428dcd1c39285643f3987--yahoo-search.jpg)"
   ]
  },
  {
   "cell_type": "markdown",
   "metadata": {},
   "source": [
    "**Las reglas son las siguientes:**\n",
    "\n",
    "- Cada jugador deberá colocar en su tablero:\n",
    "    - 4 barcos tamaño 2x1. \n",
    "\n",
    "    - 3 barcos tamaño 3x1.\n",
    "\n",
    "    - 2 barcos tamaño 4x1.\n",
    "    \n",
    "    - 1 barco tamaño 5x1. \n",
    "    \n",
    "\n",
    "- En cada turno, el jugador correspondiente debe elegir una casilla de la matriz (10x10) y ambos jugadores marcarán la casilla en la matriz.\n",
    "- Si la casilla que se ha elegido es agua, será marcada como un una \"**o**\" y si la casilla que ha marcado es uno de los barcos, la casilla será marcada con una \"**x**\". \n",
    "- Los barcos han de ser mostrados con un \"__#__\" en la matriz. \n",
    "- Los espacios con agua serán mostrados como \" \" ó \"**~**\".\n",
    "\n",
    "Antes de que comience la partida, cada jugador deberá crear su estado inicial. El estado inicial es una configuración de la matriz con todos los barcos colocados. Para ello, el programa debería preguntar, uno a uno, dónde se quiere colocar cada barco. El estilo de pregunta, ha de ser: \n",
    "\n",
    "- Inserte la posición del barco 1 (2x1). El usuario ha de escribir si se quiere insertar en la 4a fila, en horizontal y ocupando las últimas dos columnas: `4h9:10`.\n",
    "- Inserte la posición del barco 2 (2x1). El usuario ha de escribir si se quiere insertar en la 8a fila, en horizontal y ocupando las dos primeras columnas: `8h1:2`.\n",
    "- Inserte la posición del barco 3 (5x1). Si se quiere colocar en vertical empezando por la fila 1 a la 5 y columna 8: `8v1:5`.\n",
    "\n",
    "También tendrás la opción de cargar una partida anteriormente definida en formato [JSON](https://www.w3schools.com/python/python_json.asp).\n",
    "\n",
    "Para saber quién empieza a jugar, los jugadores deberán ponerse de acuerdo para que uno de ellos sea el que llame a una función que devuelva dos valores random del 1 al 6, de tipo entero. El primer valor que se muestre por pantalla será el correspondiente al jugador que llama a la función, el segundo será el del contrincante. Quien saque un valor más alto, empieza. \n",
    "\n",
    "Además, el programa guardará el nombre de los jugadores y el histórico, es decir, todos los estados de la partida. Para ello se utilizará el formato JSON.\n",
    "\n",
    "Cuando un jugador haya creado su estado inicial, este estado también deberá ser guardado en formato JSON. Antes de que se inicie la partida, el otro jugador deberá cargar tu estado inicial y tú el suyo. El estado inicial del enemigo es el que usará tu programa para comprobar si las coordenadas que has utilizado han acertado en el blanco o no. \n",
    "\n",
    "El formato de preguntas por turno es: \n",
    "\n",
    "- `Inserte coordenadas a atacar:`. La respuesta válida será `0x8` --> fila 0, columna 8. \n",
    "\n",
    "Una vez insertada las coordenadas, deberá resultar que aparezcan tu matriz y la matriz de estado de tu enemigo, esta última con la nueva coordenada marcada sin la flota excepto si el torpedo hubiera dado en el blanco. "
   ]
  },
  {
   "cell_type": "markdown",
   "metadata": {},
   "source": [
    "**A modo de resumen:**\n",
    "\n",
    "1. Se eligen los nombres de jugador. ¡Recuerda no dejar espacios!\n",
    "\n",
    "2. Se pregunta sobre las posiciones de tu flota. Una vez que se haya definido, el sistema debe guardar en JSON el estado de tu flota. OPCIONAL: Puedes cargar una partida a partir de un fichero JSON.\n",
    "\n",
    "3. Se carga el estado inicial de tu enemigo a partir de un fichero JSON que te habrá definido previamente. El fichero estará en una carpeta llamada \"Partidas_Batalla_Naval\". Para cargar el fichero se debe introducir la ruta o nombre del fichero. \n",
    "\n",
    "4. Cuando ambos estéis en el mismo punto y se sepa quién es el primero, se debe escribir *primero* o *segundo*. Si eres primero, el sistema empezará preguntándote las coordenadas. Si eres segundo, el sistema preguntará por las coordenadas del rival. \n",
    "\n",
    "5. Se debe mostrar por pantalla dos matrices: una matriz 10x10 que representa los puntos que has ido marcando, que no mostrará la flota del enemigo excepto si algún barco ha sido dañado, y otra a la derecha que muestre tu flota con los puntos que hayan sido atacados por parte del contrincante. \n",
    "\n",
    "6. Cuando toda la flota de uno de los dos jugadores haya sido exterminada, se mostrará el ganador de la partida. Que si has sido tú el que ha programado este juego, ya habrás ganado incluso antes de empezar a jugar. "
   ]
  },
  {
   "source": [
    "----------------------------------------------------\n",
    "\n",
    "Hay dos tipos de bonus:\n",
    "\n",
    "1. Hacer todo usando clases. Como mínimo, crear una clase \"Barco\" y \"Tablero\"\n",
    "2. Toda la parte del JSON es un Bonus extra plus ++ con el objetivo de que se pueda cargar una partida con una configuración predeterminada. De esta forma, podrías configurar una estructura de barcos y que alguien juegue contra ti en su ordenador con esa estructura.\n",
    "3. ¿Habéis acabado todo esto antes de la fecha? Habla con los profesores :=) \n",
    "----------------------------------------------------"
   ],
   "cell_type": "markdown",
   "metadata": {}
  },
  {
   "cell_type": "markdown",
   "metadata": {},
   "source": [
    "Hay que programar este juego en varios archivos `.py` de modo que puedas ejecutar dicho programa por la terminal desde cualquier dispositivo. "
   ]
  },
  {
   "cell_type": "code",
   "execution_count": 1,
   "metadata": {},
   "outputs": [],
   "source": [
    "# keep calm and keep coding\n",
    "import func as fc\n",
    "import Inicializacion_Flota as init\n",
    "import json\n",
    "import numpy as np \n",
    "import random\n",
    "import time\n",
    "\n",
    "\n",
    "#Se crean las variables necesarias para el juego\n",
    "name_J1 = \"\"\n",
    "board_J1 = []\n",
    "fleet_J1 = {}\n",
    "name_J2 = \"\"\n",
    "board_J2 = []\n",
    "fleet_J2 = {}"
   ]
  },
  {
   "cell_type": "code",
   "execution_count": 4,
   "metadata": {},
   "outputs": [
    {
     "output_type": "stream",
     "name": "stdout",
     "text": [
      "START THE GAME:\n",
      "What are the odds! That's a tie, try again\n",
      "D is the first player. E, you are the second player\n",
      "One of the positions of the boat is already taken.\n",
      "{'2x1_1': '5h1:2', '2x1_2': '8h1:2', '2x1_3': '6h1:2', '2x1_4': '7h1:2'}\n",
      "--------------OWN BOARD-------------------\n",
      "[['#' '#' '~' '~' '~' '~' '~' '~' '~' '~']\n",
      " ['#' '#' '~' '~' '~' '~' '~' '~' '~' '~']\n",
      " ['#' '#' '~' '~' '~' '~' '~' '~' '~' '~']\n",
      " ['#' '#' '~' '~' '~' '~' '~' '~' '~' '~']\n",
      " ['#' '#' '~' '~' '~' '~' '~' '~' '~' '~']\n",
      " ['#' '#' '~' '~' '~' '~' '~' '~' '~' '~']\n",
      " ['#' '#' '~' '~' '~' '~' '~' '~' '~' '~']\n",
      " ['#' '#' '~' '~' '~' '~' '~' '~' '~' '~']\n",
      " ['~' '~' '~' '~' '~' '~' '~' '~' 'o' '~']\n",
      " ['~' '~' '~' '~' '~' '~' '~' '~' '~' '~']\n",
      " ['~' '~' '~' '~' '~' '~' '~' '~' '~' '~']\n",
      " ['~' '~' '~' '~' '~' '~' '~' '~' '~' '~']\n",
      " ['~' '~' '~' '~' '~' '~' '~' '~' '~' '~']\n",
      " ['~' '~' '~' '~' '~' '~' '~' '~' '~' '~']\n",
      " ['~' '~' '~' '~' '~' '~' '~' '~' '~' '~']\n",
      " ['~' '~' '~' '~' '~' '~' '~' '~' '~' '~']\n",
      " ['~' '~' '~' '~' '~' '~' '~' '~' '~' '~']\n",
      " ['~' '~' '~' '~' '~' '~' '~' '~' '~' '~']\n",
      " ['~' '~' '~' '~' '~' '~' '~' '~' '~' '~']\n",
      " ['~' '~' '~' '~' '~' '~' '~' '~' '~' '~']]\n",
      "--------------------------------------------\n",
      "One of the positions of the boat is already taken.\n",
      "One of the positions of the boat is already taken.\n",
      "One of the positions of the boat is already taken.\n",
      "One of the positions of the boat is already taken.\n",
      "{'2x1_1': '4h1:2', '2x1_2': '5h1:2', '2x1_3': '5h5:6', '2x1_4': '8h5:6'}\n",
      "--------------OWN BOARD-------------------\n",
      "[['~' '~' '~' '~' '~' '~' '~' '~' '~' '~']\n",
      " ['~' '~' '~' '~' '~' '~' '~' '~' '~' '~']\n",
      " ['~' '~' '~' '~' '~' '~' '~' '~' '~' '~']\n",
      " ['#' '#' '~' '~' '~' '~' '~' '~' '~' '~']\n",
      " ['#' '#' '~' '~' '#' '#' '~' '~' '~' '~']\n",
      " ['~' '~' '~' '~' '~' '~' '~' '~' '~' '~']\n",
      " ['#' '#' '~' '~' '~' '~' '~' '~' '~' '~']\n",
      " ['#' '#' '~' '~' '#' '#' '~' '~' '~' '~']\n",
      " ['#' '#' '~' '~' '~' '~' '~' '~' '~' '~']\n",
      " ['#' '#' '~' '~' '~' '~' '~' '~' '~' 'o']\n",
      " ['~' '~' '~' '~' '~' '~' '~' '~' '~' '~']\n",
      " ['~' '~' '~' '~' '~' '~' '~' '~' '~' '~']\n",
      " ['~' '~' '~' '~' '~' '~' '~' '~' '~' '~']\n",
      " ['~' '~' '~' '~' '~' '~' '~' '~' '~' '~']\n",
      " ['~' '~' '~' '~' '~' '~' '~' '~' '~' '~']\n",
      " ['~' '~' '~' '~' '~' '~' '~' '~' '~' '~']\n",
      " ['~' '~' '~' '~' '~' '~' '~' '~' '~' '~']\n",
      " ['~' '~' '~' '~' '~' '~' '~' '~' '~' '~']\n",
      " ['~' '~' '~' '~' '~' '~' '~' '~' '~' '~']\n",
      " ['~' '~' '~' '~' '~' '~' '~' '~' '~' '~']]\n",
      "--------------------------------------------\n",
      "Position format error for this boat, type it again.\n",
      "Position format error for this boat, type it again.\n"
     ]
    },
    {
     "output_type": "error",
     "ename": "KeyboardInterrupt",
     "evalue": "Interrupted by user",
     "traceback": [
      "\u001b[1;31m---------------------------------------------------------------------------\u001b[0m",
      "\u001b[1;31mKeyboardInterrupt\u001b[0m                         Traceback (most recent call last)",
      "\u001b[1;32m<ipython-input-4-4989694eae95>\u001b[0m in \u001b[0;36m<module>\u001b[1;34m\u001b[0m\n\u001b[0;32m      5\u001b[0m \u001b[1;31m# Empezamos una nueva partida\u001b[0m\u001b[1;33m\u001b[0m\u001b[1;33m\u001b[0m\u001b[1;33m\u001b[0m\u001b[0m\n\u001b[0;32m      6\u001b[0m \u001b[1;32mif\u001b[0m \u001b[0minit_load\u001b[0m \u001b[1;33m==\u001b[0m \u001b[1;34m'NG'\u001b[0m\u001b[1;33m:\u001b[0m\u001b[1;33m\u001b[0m\u001b[1;33m\u001b[0m\u001b[0m\n\u001b[1;32m----> 7\u001b[1;33m     \u001b[0minit\u001b[0m\u001b[1;33m.\u001b[0m\u001b[0mstart_game\u001b[0m\u001b[1;33m(\u001b[0m\u001b[0mname_J1\u001b[0m\u001b[1;33m,\u001b[0m \u001b[0mboard_J1\u001b[0m\u001b[1;33m,\u001b[0m \u001b[0mfleet_J1\u001b[0m\u001b[1;33m,\u001b[0m \u001b[0mname_J2\u001b[0m\u001b[1;33m,\u001b[0m \u001b[0mboard_J2\u001b[0m\u001b[1;33m,\u001b[0m \u001b[0mfleet_J2\u001b[0m\u001b[1;33m)\u001b[0m\u001b[1;33m\u001b[0m\u001b[1;33m\u001b[0m\u001b[0m\n\u001b[0m\u001b[0;32m      8\u001b[0m     \u001b[0mturn\u001b[0m \u001b[1;33m=\u001b[0m \u001b[1;36m1\u001b[0m\u001b[1;33m\u001b[0m\u001b[1;33m\u001b[0m\u001b[0m\n\u001b[0;32m      9\u001b[0m \u001b[1;33m\u001b[0m\u001b[0m\n",
      "\u001b[1;32mc:\\Users\\Usuario\\Desktop\\The_Bridge\\the_bridge_bootcamp\\week3_course_python_III\\day5_probability_statistics\\exercise\\Inicializacion_Flota.py\u001b[0m in \u001b[0;36mstart_game\u001b[1;34m(name_J1, board_J1, fleet_J1, name_J2, board_J2, fleet_J2)\u001b[0m\n\u001b[0;32m    162\u001b[0m \u001b[1;33m\u001b[0m\u001b[0m\n\u001b[0;32m    163\u001b[0m     \u001b[1;31m# Se generan el tablero y la flota del jugador 1\u001b[0m\u001b[1;33m\u001b[0m\u001b[1;33m\u001b[0m\u001b[1;33m\u001b[0m\u001b[0m\n\u001b[1;32m--> 164\u001b[1;33m     \u001b[0mcreate_board\u001b[0m\u001b[1;33m(\u001b[0m\u001b[0mboard_J1\u001b[0m\u001b[1;33m)\u001b[0m\u001b[1;33m\u001b[0m\u001b[1;33m\u001b[0m\u001b[0m\n\u001b[0m\u001b[0;32m    165\u001b[0m \u001b[1;33m\u001b[0m\u001b[0m\n\u001b[0;32m    166\u001b[0m     \u001b[0minsert_fleet\u001b[0m\u001b[1;33m(\u001b[0m\u001b[0mboard_J1\u001b[0m\u001b[1;33m,\u001b[0m \u001b[0mfleet_J1\u001b[0m\u001b[1;33m)\u001b[0m\u001b[1;33m\u001b[0m\u001b[1;33m\u001b[0m\u001b[0m\n",
      "\u001b[1;32mc:\\Users\\Usuario\\Desktop\\The_Bridge\\the_bridge_bootcamp\\week3_course_python_III\\day5_probability_statistics\\exercise\\Inicializacion_Flota.py\u001b[0m in \u001b[0;36minsert_fleet\u001b[1;34m(board, fleet)\u001b[0m\n\u001b[0;32m     96\u001b[0m     \u001b[1;32mfor\u001b[0m \u001b[0mi\u001b[0m \u001b[1;32min\u001b[0m \u001b[0mrange\u001b[0m \u001b[1;33m(\u001b[0m\u001b[1;36m1\u001b[0m\u001b[1;33m)\u001b[0m\u001b[1;33m:\u001b[0m\u001b[1;33m\u001b[0m\u001b[1;33m\u001b[0m\u001b[0m\n\u001b[0;32m     97\u001b[0m         \u001b[0mtest_boat_type\u001b[0m \u001b[1;33m=\u001b[0m \u001b[1;36m2\u001b[0m\u001b[1;33m\u001b[0m\u001b[1;33m\u001b[0m\u001b[0m\n\u001b[1;32m---> 98\u001b[1;33m         \u001b[0minsert2x1\u001b[0m \u001b[1;33m=\u001b[0m \u001b[1;32mFalse\u001b[0m\u001b[1;33m\u001b[0m\u001b[1;33m\u001b[0m\u001b[0m\n\u001b[0m\u001b[0;32m     99\u001b[0m         \u001b[1;32mwhile\u001b[0m \u001b[0minsert2x1\u001b[0m \u001b[1;33m!=\u001b[0m \u001b[1;32mTrue\u001b[0m\u001b[1;33m:\u001b[0m\u001b[1;33m\u001b[0m\u001b[1;33m\u001b[0m\u001b[0m\n\u001b[0;32m    100\u001b[0m             \u001b[0mtest_position\u001b[0m \u001b[1;33m=\u001b[0m \u001b[0minput\u001b[0m\u001b[1;33m(\u001b[0m\u001b[1;34m\"Please insert a 2x1 boat position (type 'BOARD' to display the current setting of the fleet):\"\u001b[0m\u001b[1;33m)\u001b[0m\u001b[1;33m\u001b[0m\u001b[1;33m\u001b[0m\u001b[0m\n",
      "\u001b[1;32m~\\AppData\\Roaming\\Python\\Python37\\site-packages\\ipykernel\\kernelbase.py\u001b[0m in \u001b[0;36mraw_input\u001b[1;34m(self, prompt)\u001b[0m\n\u001b[0;32m    849\u001b[0m             \u001b[0mself\u001b[0m\u001b[1;33m.\u001b[0m\u001b[0m_parent_ident\u001b[0m\u001b[1;33m,\u001b[0m\u001b[1;33m\u001b[0m\u001b[1;33m\u001b[0m\u001b[0m\n\u001b[0;32m    850\u001b[0m             \u001b[0mself\u001b[0m\u001b[1;33m.\u001b[0m\u001b[0m_parent_header\u001b[0m\u001b[1;33m,\u001b[0m\u001b[1;33m\u001b[0m\u001b[1;33m\u001b[0m\u001b[0m\n\u001b[1;32m--> 851\u001b[1;33m             \u001b[0mpassword\u001b[0m\u001b[1;33m=\u001b[0m\u001b[1;32mFalse\u001b[0m\u001b[1;33m,\u001b[0m\u001b[1;33m\u001b[0m\u001b[1;33m\u001b[0m\u001b[0m\n\u001b[0m\u001b[0;32m    852\u001b[0m         )\n\u001b[0;32m    853\u001b[0m \u001b[1;33m\u001b[0m\u001b[0m\n",
      "\u001b[1;32m~\\AppData\\Roaming\\Python\\Python37\\site-packages\\ipykernel\\kernelbase.py\u001b[0m in \u001b[0;36m_input_request\u001b[1;34m(self, prompt, ident, parent, password)\u001b[0m\n\u001b[0;32m    890\u001b[0m             \u001b[1;32mexcept\u001b[0m \u001b[0mKeyboardInterrupt\u001b[0m\u001b[1;33m:\u001b[0m\u001b[1;33m\u001b[0m\u001b[1;33m\u001b[0m\u001b[0m\n\u001b[0;32m    891\u001b[0m                 \u001b[1;31m# re-raise KeyboardInterrupt, to truncate traceback\u001b[0m\u001b[1;33m\u001b[0m\u001b[1;33m\u001b[0m\u001b[1;33m\u001b[0m\u001b[0m\n\u001b[1;32m--> 892\u001b[1;33m                 \u001b[1;32mraise\u001b[0m \u001b[0mKeyboardInterrupt\u001b[0m\u001b[1;33m(\u001b[0m\u001b[1;34m\"Interrupted by user\"\u001b[0m\u001b[1;33m)\u001b[0m \u001b[1;32mfrom\u001b[0m \u001b[1;32mNone\u001b[0m\u001b[1;33m\u001b[0m\u001b[1;33m\u001b[0m\u001b[0m\n\u001b[0m\u001b[0;32m    893\u001b[0m             \u001b[1;32mexcept\u001b[0m \u001b[0mException\u001b[0m \u001b[1;32mas\u001b[0m \u001b[0me\u001b[0m\u001b[1;33m:\u001b[0m\u001b[1;33m\u001b[0m\u001b[1;33m\u001b[0m\u001b[0m\n\u001b[0;32m    894\u001b[0m                 \u001b[0mself\u001b[0m\u001b[1;33m.\u001b[0m\u001b[0mlog\u001b[0m\u001b[1;33m.\u001b[0m\u001b[0mwarning\u001b[0m\u001b[1;33m(\u001b[0m\u001b[1;34m\"Invalid Message:\"\u001b[0m\u001b[1;33m,\u001b[0m \u001b[0mexc_info\u001b[0m\u001b[1;33m=\u001b[0m\u001b[1;32mTrue\u001b[0m\u001b[1;33m)\u001b[0m\u001b[1;33m\u001b[0m\u001b[1;33m\u001b[0m\u001b[0m\n",
      "\u001b[1;31mKeyboardInterrupt\u001b[0m: Interrupted by user"
     ]
    }
   ],
   "source": [
    "# Simulación de secuencia de juego\n",
    "print(\"START THE GAME:\")\n",
    "init_load = input(\"Do you want to start a new game (Enter NG for New Game), load the last unstarted game (LG for Last Game), or continue the last unfinished game (UG for Unfinished Game)?\") \n",
    "\n",
    "# Empezamos una nueva partida\n",
    "if init_load == 'NG':\n",
    "    init.start_game(name_J1, board_J1, fleet_J1, name_J2, board_J2, fleet_J2)\n",
    "    turn = 1\n",
    "\n",
    "elif init_load == 'UG':\n",
    "    # Cargamos una partida que se empezó a jugar pero no se finalizó\n",
    "    with open(\"Partidas_Batalla_Naval/Game_in_process.json\", \"r+\") as outfile:\n",
    "        for line in outfile:\n",
    "            to_string = json.dumps(line)\n",
    "            to_json = json.loads(to_string) \n",
    "else:\n",
    "    # Cargamos una partida donde ya tenemos los barcos de los dos jugadores pero el juego no se inició\n",
    "    with open('Partidas_Batalla_Naval/Game_J1.json', 'r+') as outfile:\n",
    "        json_HundirFlota1_readed = json.load(outfile)\n",
    "\n",
    "    with open('Partidas_Batalla_Naval/Game_J2.json', 'r+') as outfile:\n",
    "        json_HundirFlota2_readed = json.load(outfile)\n",
    "\n",
    "    name_J1 = json_HundirFlota1_readed['Name_J1']\n",
    "    board_J1 = json_HundirFlota1_readed['Board_J1']\n",
    "    fleet_J1 = json_HundirFlota1_readed['Fleet_J1']\n",
    "    turn = json_HundirFlota1_readed['Turn']\n",
    "    name_J2 = json_HundirFlota2_readed['Name_J2']\n",
    "    fleet_J2 = json_HundirFlota2_readed['Fleet_J2']\n",
    "    board_J2 = json_HundirFlota2_readed['Board_J2']\n",
    "    turn = json_HundirFlota2_readed['Turn']\n",
    "\n",
    "continue_game = True\n",
    "time.sleep(1)\n",
    "while continue_game:\n",
    "    if turn%2 == 1:\n",
    "        print(\"----------TURN OF PLAYER ONE J1--------\")\n",
    "        fc.print_board(board_J1)\n",
    "        fc.print_board_enemy(board_J2)\n",
    "        # los barcos están en el tablero y pedimos el ataque\n",
    "        print(\"PLAYER ONE ATTACK TO PLAYER TWO\")\n",
    "        continue_game = fc.launch_torpedo(board_J2)\n",
    "        turn +=1\n",
    "        fc.auto_save(name_J1,board_J1, fleet_J1,name_J2,board_J2, fleet_J2, turn)\n",
    "        print(\"END OF THE PLAYER ONE'S (J1) TURN\\n\")\n",
    "    else:\n",
    "        print(\"----------TURN OF PLAYER TWO J2--------\")\n",
    "        fc.print_board(board_J2)\n",
    "        fc.print_board_enemy(board_J1)\n",
    "        print(\"PLAYER TWO ATTACK TO PLAYER ONE\")\n",
    "        continue_game = fc.launch_torpedo(board_J1)\n",
    "        turn +=1\n",
    "        fc.auto_save(name_J1,board_J1, fleet_J1,name_J2,board_J2, fleet_J2, turn)\n",
    "        print(\"END OF THE PLAYER TWO'S (J2) TURN\\n\")\n",
    "print(\"GAME OVER\")"
   ]
  },
  {
   "cell_type": "code",
   "execution_count": 5,
   "metadata": {},
   "outputs": [
    {
     "output_type": "execute_result",
     "data": {
      "text/plain": [
       "['c:\\\\Users\\\\Usuario\\\\Desktop\\\\The_Bridge\\\\the_bridge_bootcamp\\\\week3_course_python_III\\\\day5_probability_statistics\\\\exercise',\n",
       " 'c:\\\\Users\\\\Usuario\\\\.vscode\\\\extensions\\\\ms-toolsai.jupyter-2021.6.832593372\\\\pythonFiles',\n",
       " 'c:\\\\Users\\\\Usuario\\\\.vscode\\\\extensions\\\\ms-toolsai.jupyter-2021.6.832593372\\\\pythonFiles',\n",
       " 'c:\\\\Users\\\\Usuario\\\\.vscode\\\\extensions\\\\ms-toolsai.jupyter-2021.6.832593372\\\\pythonFiles\\\\lib\\\\python',\n",
       " 'C:\\\\Users\\\\Usuario\\\\AppData\\\\Local\\\\Programs\\\\Python\\\\Python37\\\\python37.zip',\n",
       " 'C:\\\\Users\\\\Usuario\\\\AppData\\\\Local\\\\Programs\\\\Python\\\\Python37\\\\DLLs',\n",
       " 'C:\\\\Users\\\\Usuario\\\\AppData\\\\Local\\\\Programs\\\\Python\\\\Python37\\\\lib',\n",
       " 'C:\\\\Users\\\\Usuario\\\\AppData\\\\Local\\\\Programs\\\\Python\\\\Python37',\n",
       " '',\n",
       " 'C:\\\\Users\\\\Usuario\\\\AppData\\\\Roaming\\\\Python\\\\Python37\\\\site-packages',\n",
       " 'C:\\\\Users\\\\Usuario\\\\AppData\\\\Roaming\\\\Python\\\\Python37\\\\site-packages\\\\win32',\n",
       " 'C:\\\\Users\\\\Usuario\\\\AppData\\\\Roaming\\\\Python\\\\Python37\\\\site-packages\\\\win32\\\\lib',\n",
       " 'C:\\\\Users\\\\Usuario\\\\AppData\\\\Roaming\\\\Python\\\\Python37\\\\site-packages\\\\Pythonwin',\n",
       " 'C:\\\\Users\\\\Usuario\\\\AppData\\\\Local\\\\Programs\\\\Python\\\\Python37\\\\lib\\\\site-packages',\n",
       " 'C:\\\\Users\\\\Usuario\\\\AppData\\\\Roaming\\\\Python\\\\Python37\\\\site-packages\\\\IPython\\\\extensions',\n",
       " 'C:\\\\Users\\\\Usuario\\\\.ipython']"
      ]
     },
     "metadata": {},
     "execution_count": 5
    }
   ],
   "source": [
    "import os\n",
    "import sys\n",
    "\n",
    "#sys.path.append(os.path.dirname(__file__)) \n",
    "\n",
    "sys.path"
   ]
  },
  {
   "cell_type": "code",
   "execution_count": null,
   "metadata": {},
   "outputs": [],
   "source": []
  }
 ],
 "metadata": {
  "file_extension": ".py",
  "kernelspec": {
   "name": "python374jvsc74a57bd02d8a740277f67c33143a8e5c8e55f738530a350d8def4a85d8635b690074994c",
   "display_name": "Python 3.7.4 64-bit"
  },
  "language_info": {
   "codemirror_mode": {
    "name": "ipython",
    "version": 3
   },
   "file_extension": ".py",
   "mimetype": "text/x-python",
   "name": "python",
   "nbconvert_exporter": "python",
   "pygments_lexer": "ipython3",
   "version": "3.7.4"
  },
  "mimetype": "text/x-python",
  "name": "python",
  "npconvert_exporter": "python",
  "pygments_lexer": "ipython3",
  "version": 3,
  "metadata": {
   "interpreter": {
    "hash": "2d8a740277f67c33143a8e5c8e55f738530a350d8def4a85d8635b690074994c"
   }
  }
 },
 "nbformat": 4,
 "nbformat_minor": 4
}