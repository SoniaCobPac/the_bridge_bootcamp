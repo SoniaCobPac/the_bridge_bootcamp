{
 "cells": [
  {
   "cell_type": "markdown",
   "metadata": {},
   "source": [
    "# Ejercicio Hundir La Flota | Challenge yourself \n",
    "\n",
    "#### La fecha de entrega está limitada al próximo 16/05/2021"
   ]
  },
  {
   "cell_type": "markdown",
   "metadata": {},
   "source": [
    "En este ejercicio deberás programar el juego **hundir la flota** o [**batalla naval**](https://es.wikipedia.org/wiki/Batalla_naval_(juego)) "
   ]
  },
  {
   "cell_type": "markdown",
   "metadata": {},
   "source": [
    "El tablero de este juego será una matriz de 10x10 dimensiones, matriz sobre la que plamaremos el estado de cada turno. Cada matriz de información continente del estado en cada momento, se mostrará por pantalla."
   ]
  },
  {
   "cell_type": "markdown",
   "metadata": {},
   "source": [
    "![tablero](https://i.pinimg.com/474x/1c/66/ca/1c66ca8d767428dcd1c39285643f3987--yahoo-search.jpg)"
   ]
  },
  {
   "cell_type": "markdown",
   "metadata": {},
   "source": [
    "**Las reglas son las siguientes:**\n",
    "\n",
    "- Cada jugador deberá colocar en su tablero:\n",
    "    - 4 barcos tamaño 2x1. \n",
    "\n",
    "    - 3 barcos tamaño 3x1.\n",
    "\n",
    "    - 2 barcos tamaño 4x1.\n",
    "    \n",
    "    - 1 barco tamaño 5x1. \n",
    "    \n",
    "\n",
    "- En cada turno, el jugador correspondiente debe elegir una casilla de la matriz (10x10) y ambos jugadores marcarán la casilla en la matriz.\n",
    "- Si la casilla que se ha elegido es agua, será marcada como un una \"**o**\" y si la casilla que ha marcado es uno de los barcos, la casilla será marcada con una \"**x**\". \n",
    "- Los barcos han de ser mostrados con un \"__#__\" en la matriz. \n",
    "- Los espacios con agua serán mostrados como \" \" ó \"**~**\".\n",
    "\n",
    "Antes de que comience la partida, cada jugador deberá crear su estado inicial. El estado inicial es una configuración de la matriz con todos los barcos colocados. Para ello, el programa debería preguntar, uno a uno, dónde se quiere colocar cada barco. El estilo de pregunta, ha de ser: \n",
    "\n",
    "- Inserte la posición del barco 1 (2x1). El usuario ha de escribir si se quiere insertar en la 4a fila, en horizontal y ocupando las últimas dos columnas: `4h9:10`.\n",
    "- Inserte la posición del barco 2 (2x1). El usuario ha de escribir si se quiere insertar en la 8a fila, en horizontal y ocupando las dos primeras columnas: `8h1:2`.\n",
    "- Inserte la posición del barco 3 (5x1). Si se quiere colocar en vertical empezando por la fila 1 a la 5 y columna 8: `8v1:5`.\n",
    "\n",
    "También tendrás la opción de cargar una partida anteriormente definida en formato [JSON](https://www.w3schools.com/python/python_json.asp).\n",
    "\n",
    "Para saber quién empieza a jugar, los jugadores deberán ponerse de acuerdo para que uno de ellos sea el que llame a una función que devuelva dos valores random del 1 al 6, de tipo entero. El primer valor que se muestre por pantalla será el correspondiente al jugador que llama a la función, el segundo será el del contrincante. Quien saque un valor más alto, empieza. \n",
    "\n",
    "Además, el programa guardará el nombre de los jugadores y el histórico, es decir, todos los estados de la partida. Para ello se utilizará el formato JSON.\n",
    "\n",
    "Cuando un jugador haya creado su estado inicial, este estado también deberá ser guardado en formato JSON. Antes de que se inicie la partida, el otro jugador deberá cargar tu estado inicial y tú el suyo. El estado inicial del enemigo es el que usará tu programa para comprobar si las coordenadas que has utilizado han acertado en el blanco o no. \n",
    "\n",
    "El formato de preguntas por turno es: \n",
    "\n",
    "- `Inserte coordenadas a atacar:`. La respuesta válida será `0x8` --> fila 0, columna 8. \n",
    "\n",
    "Una vez insertada las coordenadas, deberá resultar que aparezcan tu matriz y la matriz de estado de tu enemigo, esta última con la nueva coordenada marcada sin la flota excepto si el torpedo hubiera dado en el blanco. "
   ]
  },
  {
   "cell_type": "markdown",
   "metadata": {},
   "source": [
    "**A modo de resumen:**\n",
    "\n",
    "1. Se eligen los nombres de jugador. ¡Recuerda no dejar espacios!\n",
    "\n",
    "2. Se pregunta sobre las posiciones de tu flota. Una vez que se haya definido, el sistema debe guardar en JSON el estado de tu flota. OPCIONAL: Puedes cargar una partida a partir de un fichero JSON.\n",
    "\n",
    "3. Se carga el estado inicial de tu enemigo a partir de un fichero JSON que te habrá definido previamente. El fichero estará en una carpeta llamada \"Partidas_Batalla_Naval\". Para cargar el fichero se debe introducir la ruta o nombre del fichero. \n",
    "\n",
    "4. Cuando ambos estéis en el mismo punto y se sepa quién es el primero, se debe escribir *primero* o *segundo*. Si eres primero, el sistema empezará preguntándote las coordenadas. Si eres segundo, el sistema preguntará por las coordenadas del rival. \n",
    "\n",
    "5. Se debe mostrar por pantalla dos matrices: una matriz 10x10 que representa los puntos que has ido marcando, que no mostrará la flota del enemigo excepto si algún barco ha sido dañado, y otra a la derecha que muestre tu flota con los puntos que hayan sido atacados por parte del contrincante. \n",
    "\n",
    "6. Cuando toda la flota de uno de los dos jugadores haya sido exterminada, se mostrará el ganador de la partida. Que si has sido tú el que ha programado este juego, ya habrás ganado incluso antes de empezar a jugar. "
   ]
  },
  {
   "source": [
    "----------------------------------------------------\n",
    "\n",
    "Hay dos tipos de bonus:\n",
    "\n",
    "1. Hacer todo usando clases. Como mínimo, crear una clase \"Barco\" y \"Tablero\"\n",
    "2. Toda la parte del JSON es un Bonus extra plus ++ con el objetivo de que se pueda cargar una partida con una configuración predeterminada. De esta forma, podrías configurar una estructura de barcos y que alguien juegue contra ti en su ordenador con esa estructura.\n",
    "3. ¿Habéis acabado todo esto antes de la fecha? Habla con los profesores :=) \n",
    "----------------------------------------------------"
   ],
   "cell_type": "markdown",
   "metadata": {}
  },
  {
   "cell_type": "markdown",
   "metadata": {},
   "source": [
    "Hay que programar este juego en varios archivos `.py` de modo que puedas ejecutar dicho programa por la terminal desde cualquier dispositivo. "
   ]
  },
  {
   "cell_type": "code",
   "execution_count": 1,
   "metadata": {},
   "outputs": [
    {
     "output_type": "stream",
     "name": "stdout",
     "text": [
      "-----------TABLERO PROPIO-------------------\n",
      "[['~' '~' '~' '~' '~' '~' '~' '~' '~' '~']\n",
      " ['~' '~' '~' '~' '~' '~' '~' '~' '~' '~']\n",
      " ['~' '~' '~' '~' '~' '~' '~' '~' '~' '~']\n",
      " ['~' '~' '~' '~' '~' '~' '~' '~' '~' '~']\n",
      " ['~' '~' '~' '~' '~' '~' '~' '~' '~' '~']\n",
      " ['~' '~' '~' '~' '~' '~' '~' '~' '~' '~']\n",
      " ['~' '~' '~' '~' '~' '~' '~' '~' '~' '~']\n",
      " ['~' '~' '~' '~' '~' '~' '~' '~' '~' '~']\n",
      " ['~' '~' '~' '~' '~' '~' '~' '~' '~' '~']\n",
      " ['~' '~' '~' '~' '~' '~' '~' '~' '~' '~']]\n",
      "--------------------------------------------\n",
      "-----------TABLERO PROPIO-------------------\n",
      "[['~' '~' '~' '~' '~' '~' '~' '~' '~' '~']\n",
      " ['~' '~' '~' '~' '~' '~' '~' '~' '~' '~']\n",
      " ['~' '~' '~' '~' '~' '~' '~' '~' '~' '~']\n",
      " ['~' '~' '~' '~' '~' '~' '~' '~' '~' '~']\n",
      " ['~' '~' '~' '~' '~' '~' '~' '~' '~' '~']\n",
      " ['~' '~' '~' '~' '~' '~' '~' '~' '~' '~']\n",
      " ['~' '~' '~' '~' '~' '~' '~' '~' '~' '~']\n",
      " ['~' '~' '~' '~' '~' '~' '~' '~' '~' '~']\n",
      " ['~' '~' '~' '~' '~' '~' '~' '~' '~' '~']\n",
      " ['~' '~' '~' '~' '~' '~' '~' '~' '~' '~']]\n",
      "--------------------------------------------\n",
      "Coordenates do not match with the boat lenght, type it again.\n",
      "One of the positions of the boat is already taken.\n",
      "One of the positions of the boat is already taken.\n",
      "-----------TABLERO PROPIO-------------------\n",
      "[['~' '~' '~' '~' '~' '~' '~' '~' '~' '~']\n",
      " ['#' '#' '~' '~' '~' '~' '~' '~' '~' '~']\n",
      " ['#' '#' '~' '~' '~' '~' '~' '~' '~' '~']\n",
      " ['#' '#' '~' '~' '~' '~' '~' '~' '~' '~']\n",
      " ['#' '#' '~' '~' '~' '~' '~' '~' '~' '~']\n",
      " ['#' '#' '#' '~' '~' '#' '#' '#' '#' '~']\n",
      " ['#' '#' '#' '~' '~' '~' '~' '~' '~' '~']\n",
      " ['#' '#' '#' '~' '~' '~' '~' '~' '~' '~']\n",
      " ['#' '#' '#' '#' '~' '~' '~' '~' '~' '~']\n",
      " ['~' '~' '~' '~' '~' '~' '~' '~' '~' '~']]\n",
      "--------------------------------------------\n",
      "{'2x1_1': '1h1:2', '2x1_2': '2h1:2', '2x1_3': '3h1:2', '2x1_4': '4h1:2', '3x1_1': '5h1:3', '3x1_2': '6h1:3', '3x1_3': '7h1:3', '4x1_1': '8h1:4', '4x1_2': '9h1:4', '5x1_1': '10h1:5'}\n",
      "-----------TABLERO PROPIO-------------------\n",
      "[['#' '#' '~' '~' '~' '~' '~' '~' '~' '~']\n",
      " ['#' '#' '~' '~' '~' '~' '~' '~' '~' '~']\n",
      " ['#' '#' '~' '~' '~' '~' '~' '~' '~' '~']\n",
      " ['#' '#' '~' '~' '~' '~' '~' '~' '~' '~']\n",
      " ['#' '#' '#' '~' '~' '~' '~' '~' '~' '~']\n",
      " ['#' '#' '#' '~' '~' '~' '~' '~' '~' '~']\n",
      " ['#' '#' '#' '~' '~' '~' '~' '~' '~' '~']\n",
      " ['#' '#' '#' '#' '~' '~' '~' '~' '~' '~']\n",
      " ['#' '#' '#' '#' '~' '~' '~' '~' '~' '~']\n",
      " ['#' '#' '#' '#' '#' '~' '~' '~' '~' '~']]\n",
      "--------------------------------------------\n"
     ]
    }
   ],
   "source": [
    "# keep calm and keep coding\n",
    "import func as fc\n",
    "import Inicializacion_Flota as init\n",
    "\n",
    "# Se generan el tablero y la flota del jugador 1\n",
    "Tablero_J1 = []\n",
    "init.iniciar_tablero (Tablero_J1)\n",
    "fc.print_board (Tablero_J1)\n",
    "\n",
    "Flota_J1 = {}\n",
    "init.insertar_flota(Tablero_J1, Flota_J1)\n",
    "\n",
    "# Se generan el tablero y la flota del jugador 2\n",
    "Tablero_J2 = []\n",
    "init.iniciar_tablero (Tablero_J2)\n",
    "fc.print_board (Tablero_J2)\n",
    "\n",
    "Flota_J2 = {}\n",
    "init.insertar_flota(Tablero_J2, Flota_J2)\n",
    "\n",
    "print(Flota_J1)\n",
    "fc.print_board(Tablero_J1)"
   ]
  },
  {
   "cell_type": "code",
   "execution_count": 3,
   "metadata": {
    "tags": []
   },
   "outputs": [
    {
     "output_type": "stream",
     "name": "stdout",
     "text": [
      "INICIO JUEGO: Tablero J1 + flota J1 + Tablero J1 + flota J1 + decicir quien empieza (en este ejemplo se asume que es J1)\n",
      "--------TURNO DEL JUGADOR J1--------\n",
      "-----------TABLERO PROPIO-------------------\n",
      "[['X' 'X' '~' '~' '~' '~' '~' '~' '~' 'o']\n",
      " ['X' 'X' '~' '~' '~' '~' '~' '~' '~' '~']\n",
      " ['X' 'X' '~' '~' '~' '~' '~' '~' '~' '~']\n",
      " ['X' 'X' '~' '~' '~' '~' '~' '~' '~' '~']\n",
      " ['X' 'X' 'X' '~' '~' '~' '~' '~' '~' '~']\n",
      " ['X' 'X' 'X' '~' '~' '~' '~' '~' '~' '~']\n",
      " ['X' 'X' 'X' '~' '~' '~' '~' '~' '~' '~']\n",
      " ['X' 'X' 'X' 'X' '~' '~' '~' '~' '~' '~']\n",
      " ['X' 'X' 'X' 'X' '~' '~' '~' '~' '~' '~']\n",
      " ['X' 'X' 'X' 'X' 'X' '~' '~' '~' '~' '~']]\n",
      "--------------------------------------------\n",
      "-----------TABLERO ENEMIGO------------------\n",
      "[['o' 'o' '~' '~' '~' '~' '~' '~' '~' 'o']\n",
      " ['X' 'X' '~' '~' '~' '~' '~' '~' '~' '~']\n",
      " ['X' 'X' '~' '~' '~' '~' '~' '~' '~' '~']\n",
      " ['X' 'X' '~' '~' '~' '~' '~' '~' '~' '~']\n",
      " ['X' 'X' 'o' 'o' '~' '~' '~' '~' '~' '~']\n",
      " ['X' 'X' 'X' '~' '~' '~' '~' '~' '~' '~']\n",
      " ['X' 'X' 'X' '~' '~' '~' '~' '~' '~' '~']\n",
      " ['X' 'X' 'X' 'o' '~' '~' '~' '~' '~' '~']\n",
      " ['X' 'X' 'X' 'X' '~' '~' '~' '~' '~' '~']\n",
      " ['X' 'X' 'X' 'X' 'X' '~' '~' '~' '~' '~']]\n",
      "--------------------------------------------\n",
      "Petición de ataque del J1 al J2\n"
     ]
    },
    {
     "output_type": "error",
     "ename": "ValueError",
     "evalue": "invalid literal for int() with base 10: ''",
     "traceback": [
      "\u001b[1;31m---------------------------------------------------------------------------\u001b[0m",
      "\u001b[1;31mValueError\u001b[0m                                Traceback (most recent call last)",
      "\u001b[1;32m<ipython-input-3-7e6224b6b9f5>\u001b[0m in \u001b[0;36m<module>\u001b[1;34m\u001b[0m\n\u001b[0;32m     12\u001b[0m         \u001b[0mfc\u001b[0m\u001b[1;33m.\u001b[0m\u001b[0mprint_board_enemy\u001b[0m\u001b[1;33m(\u001b[0m\u001b[0mTablero_J2\u001b[0m\u001b[1;33m)\u001b[0m\u001b[1;33m\u001b[0m\u001b[1;33m\u001b[0m\u001b[0m\n\u001b[0;32m     13\u001b[0m         \u001b[0mprint\u001b[0m\u001b[1;33m(\u001b[0m\u001b[1;34m\"Petición de ataque del J1 al J2\"\u001b[0m\u001b[1;33m)\u001b[0m\u001b[1;33m\u001b[0m\u001b[1;33m\u001b[0m\u001b[0m\n\u001b[1;32m---> 14\u001b[1;33m         \u001b[0mcontinue_game\u001b[0m \u001b[1;33m=\u001b[0m \u001b[0mfc\u001b[0m\u001b[1;33m.\u001b[0m\u001b[0mlaunch_torpedo\u001b[0m\u001b[1;33m(\u001b[0m\u001b[0mTablero_J2\u001b[0m\u001b[1;33m)\u001b[0m\u001b[1;33m\u001b[0m\u001b[1;33m\u001b[0m\u001b[0m\n\u001b[0m\u001b[0;32m     15\u001b[0m         \u001b[0mtest_turno\u001b[0m \u001b[1;33m+=\u001b[0m\u001b[1;36m1\u001b[0m\u001b[1;33m\u001b[0m\u001b[1;33m\u001b[0m\u001b[0m\n\u001b[0;32m     16\u001b[0m         \u001b[0mprint\u001b[0m\u001b[1;33m(\u001b[0m\u001b[1;34m\"FIN TURNO DEL JUGADOR J1\"\u001b[0m\u001b[1;33m)\u001b[0m\u001b[1;33m\u001b[0m\u001b[1;33m\u001b[0m\u001b[0m\n",
      "\u001b[1;32mc:\\Users\\Usuario\\Downloads\\Hundir la flota\\func.py\u001b[0m in \u001b[0;36mlaunch_torpedo\u001b[1;34m(board)\u001b[0m\n\u001b[0;32m     24\u001b[0m     \u001b[1;31m# Restamos 1 a las coordinadas porque el jugador asume que el tablero empieza en la posición 1 y no 0\u001b[0m\u001b[1;33m\u001b[0m\u001b[1;33m\u001b[0m\u001b[1;33m\u001b[0m\u001b[0m\n\u001b[0;32m     25\u001b[0m     \u001b[0mcoord\u001b[0m \u001b[1;33m=\u001b[0m \u001b[0msplit\u001b[0m\u001b[1;33m(\u001b[0m\u001b[1;34m\"\\D+\"\u001b[0m\u001b[1;33m,\u001b[0m \u001b[0mcoord\u001b[0m\u001b[1;33m)\u001b[0m\u001b[1;33m\u001b[0m\u001b[1;33m\u001b[0m\u001b[0m\n\u001b[1;32m---> 26\u001b[1;33m     \u001b[0mcoord_x\u001b[0m \u001b[1;33m=\u001b[0m \u001b[0mint\u001b[0m\u001b[1;33m(\u001b[0m\u001b[0mcoord\u001b[0m\u001b[1;33m[\u001b[0m\u001b[1;36m0\u001b[0m\u001b[1;33m]\u001b[0m\u001b[1;33m)\u001b[0m \u001b[1;33m-\u001b[0m \u001b[1;36m1\u001b[0m\u001b[1;33m\u001b[0m\u001b[1;33m\u001b[0m\u001b[0m\n\u001b[0m\u001b[0;32m     27\u001b[0m     \u001b[0mcoord_y\u001b[0m \u001b[1;33m=\u001b[0m \u001b[0mint\u001b[0m\u001b[1;33m(\u001b[0m\u001b[0mcoord\u001b[0m\u001b[1;33m[\u001b[0m\u001b[1;36m1\u001b[0m\u001b[1;33m]\u001b[0m\u001b[1;33m)\u001b[0m \u001b[1;33m-\u001b[0m \u001b[1;36m1\u001b[0m\u001b[1;33m\u001b[0m\u001b[1;33m\u001b[0m\u001b[0m\n\u001b[0;32m     28\u001b[0m \u001b[1;33m\u001b[0m\u001b[0m\n",
      "\u001b[1;31mValueError\u001b[0m: invalid literal for int() with base 10: ''"
     ]
    }
   ],
   "source": [
    "# Simulación de secuencia de juego\n",
    "import time\n",
    "\n",
    "print(\"INICIO JUEGO: Tablero J1 + flota J1 + Tablero J1 + flota J1 + decicir quien empieza (en este ejemplo se asume que es J1)\")\n",
    "time.sleep(1)\n",
    "test_turno = 1\n",
    "continue_game = True\n",
    "while continue_game:\n",
    "    if test_turno%2 == 1:\n",
    "        print(\"--------TURNO DEL JUGADOR J1--------\")\n",
    "        fc.print_board(Tablero_J1)\n",
    "        fc.print_board_enemy(Tablero_J2)\n",
    "        print(\"Petición de ataque del J1 al J2\")\n",
    "        continue_game = fc.launch_torpedo(Tablero_J2)\n",
    "        test_turno +=1\n",
    "        print(\"FIN TURNO DEL JUGADOR J1\")\n",
    "        print(\" \")\n",
    "    else:\n",
    "        print(\"--------TURNO DEL JUGADOR J2--------\")\n",
    "        fc.print_board(Tablero_J2)\n",
    "        fc.print_board_enemy(Tablero_J1)\n",
    "        print(\"Petición de ataque del J2 al J1\")\n",
    "        continue_game = fc.launch_torpedo(Tablero_J1)\n",
    "        test_turno +=1\n",
    "        print(\"FIN TURNO DEL JUGADOR J2\")\n",
    "        print(\" \")\n",
    "print(\"FIN DE LA PARTIDA\")"
   ]
  },
  {
   "cell_type": "code",
   "execution_count": null,
   "metadata": {},
   "outputs": [],
   "source": []
  }
 ],
 "metadata": {
  "file_extension": ".py",
  "kernelspec": {
   "name": "python374jvsc74a57bd02d8a740277f67c33143a8e5c8e55f738530a350d8def4a85d8635b690074994c",
   "display_name": "Python 3.7.4 64-bit"
  },
  "language_info": {
   "codemirror_mode": {
    "name": "ipython",
    "version": 3
   },
   "file_extension": ".py",
   "mimetype": "text/x-python",
   "name": "python",
   "nbconvert_exporter": "python",
   "pygments_lexer": "ipython3",
   "version": "3.7.4"
  },
  "mimetype": "text/x-python",
  "name": "python",
  "npconvert_exporter": "python",
  "pygments_lexer": "ipython3",
  "version": 3,
  "metadata": {
   "interpreter": {
    "hash": "2d8a740277f67c33143a8e5c8e55f738530a350d8def4a85d8635b690074994c"
   }
  }
 },
 "nbformat": 4,
 "nbformat_minor": 4
}