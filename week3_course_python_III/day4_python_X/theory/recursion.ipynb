{
 "metadata": {
  "language_info": {
   "codemirror_mode": {
    "name": "ipython",
    "version": 3
   },
   "file_extension": ".py",
   "mimetype": "text/x-python",
   "name": "python",
   "nbconvert_exporter": "python",
   "pygments_lexer": "ipython3",
   "version": "3.7.4"
  },
  "orig_nbformat": 2,
  "kernelspec": {
   "name": "python374jvsc74a57bd02d8a740277f67c33143a8e5c8e55f738530a350d8def4a85d8635b690074994c",
   "display_name": "Python 3.7.4 64-bit"
  },
  "metadata": {
   "interpreter": {
    "hash": "2d8a740277f67c33143a8e5c8e55f738530a350d8def4a85d8635b690074994c"
   }
  }
 },
 "nbformat": 4,
 "nbformat_minor": 2,
 "cells": [
  {
   "cell_type": "code",
   "execution_count": null,
   "metadata": {},
   "outputs": [],
   "source": [
    "# Recursividad: Una función que se llama a si misma\n",
    "\n",
    "# Esto sería un bucle infinito\n",
    "def f1():\n",
    "    print(1)\n",
    "    f1()\n"
   ]
  },
  {
   "cell_type": "code",
   "execution_count": 4,
   "metadata": {},
   "outputs": [
    {
     "output_type": "stream",
     "name": "stdout",
     "text": [
      "1\n1\n1\n1\n1\n1\n1\n1\n1\n1\nNone\n"
     ]
    }
   ],
   "source": [
    "# Si queremos imprimir diez 1\n",
    "def f1(cont=0):\n",
    "    if cont == 10:  #caso base\n",
    "        return cont\n",
    "    print(1)\n",
    "    f1(cont=cont+1)     # en el ultimo contador esta linea no se ejecuta, y el retorno es el retorn del contador 9 que es None \n",
    "        \n",
    "\n",
    "x = f1()\n",
    "print(x)"
   ]
  },
  {
   "cell_type": "code",
   "execution_count": 7,
   "metadata": {},
   "outputs": [
    {
     "output_type": "stream",
     "name": "stdout",
     "text": [
      "1\n1\n1\n1\n1\n1\n1\n1\n1\n1\n10\n"
     ]
    }
   ],
   "source": [
    "# Si queremos imprimir diez 1\n",
    "def f1(cont=0):\n",
    "    if cont == 10:  #caso base\n",
    "        return cont\n",
    "    print(1)\n",
    "    return f1(cont=cont+1)     # si pongo también aqui el return retorno el contador porque la función itera hasta el final\n",
    "        \n",
    "\n",
    "x = f1()\n",
    "print(x)"
   ]
  },
  {
   "cell_type": "code",
   "execution_count": 26,
   "metadata": {},
   "outputs": [
    {
     "output_type": "execute_result",
     "data": {
      "text/plain": [
       "120"
      ]
     },
     "metadata": {},
     "execution_count": 26
    }
   ],
   "source": [
    "# Quiero hacer 5! con recursividad (5*4*3*2*1):\n",
    "\n",
    "def factorial(n):\n",
    "    if n > 1:\n",
    "        return n * factorial(n - 1) \n",
    "    else:\n",
    "        return n\n",
    "\n",
    "factorial(5)"
   ]
  },
  {
   "cell_type": "code",
   "execution_count": 29,
   "metadata": {},
   "outputs": [
    {
     "output_type": "execute_result",
     "data": {
      "text/plain": [
       "120"
      ]
     },
     "metadata": {},
     "execution_count": 29
    }
   ],
   "source": [
    "# Usando un contador:\n",
    "\n",
    "def factorial (n, cont=1):\n",
    "    if n == 1:\n",
    "        return cont\n",
    "    cont = cont * n\n",
    "    return factorial(n=n-1, cont=cont)\n",
    "\n",
    "factorial(n=5)   "
   ]
  },
  {
   "cell_type": "code",
   "execution_count": null,
   "metadata": {},
   "outputs": [],
   "source": [
    "# Orden de efectividad:\n",
    "# 1. Recursividad\n",
    "# 2. While\n",
    "# 3. For"
   ]
  },
  {
   "cell_type": "code",
   "execution_count": null,
   "metadata": {},
   "outputs": [],
   "source": []
  }
 ]
}