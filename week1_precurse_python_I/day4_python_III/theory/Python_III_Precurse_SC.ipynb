{
 "cells": [
  {
   "source": [
    "# DÍA 4"
   ],
   "cell_type": "markdown",
   "metadata": {}
  },
  {
   "cell_type": "code",
   "execution_count": 20,
   "metadata": {},
   "outputs": [
    {
     "output_type": "execute_result",
     "data": {
      "text/plain": [
       "[25, 39]"
      ]
     },
     "metadata": {},
     "execution_count": 20
    }
   ],
   "source": [
    "a = [20, 30]\n",
    "b = [5, 9]\n",
    "\n",
    "c = []\n",
    "contador = 0    # Queremos que empiece a sumar el elemento que está en la posición 0\n",
    "for num in a:   # Usando un 'for' normal con contador, num representa el valor del elemento, y el contador representa la posición del elemento\n",
    "    c.append(num + b[contador])\n",
    "    contador += 1\n",
    "c\n"
   ]
  },
  {
   "cell_type": "code",
   "execution_count": 21,
   "metadata": {},
   "outputs": [
    {
     "output_type": "execute_result",
     "data": {
      "text/plain": [
       "[25, 39]"
      ]
     },
     "metadata": {},
     "execution_count": 21
    }
   ],
   "source": [
    "# Otra forma de solucionarlo es usando un rango\n",
    "a = [20, 30]\n",
    "b = [5, 9]\n",
    "\n",
    "c = []\n",
    "\n",
    "for i in range(len(a)): # i representa la posición del elemento\n",
    "    c.append(a[i] + b[i])\n",
    "c\n",
    "    "
   ]
  },
  {
   "cell_type": "code",
   "execution_count": 22,
   "metadata": {},
   "outputs": [
    {
     "output_type": "stream",
     "name": "stdout",
     "text": [
      "2\n4\n6\n2\n4\n6\ni: 0\nelem: 2\ni: 1\nelem: 4\ni: 2\nelem: 6\n"
     ]
    }
   ],
   "source": [
    "# Hay tres tipos de for\n",
    "\n",
    "# for normal\n",
    "lista = [2, 4, 6]\n",
    "for elem in lista:\n",
    "    print(elem)\n",
    "\n",
    "# for con range\n",
    "for elem in range(len(lista)):\n",
    "    print(lista[elem]) # Es diferente que decir print(elem), esto daría las posiciones de los elementos, no los elementos de por si\n",
    "\n",
    "# for enumerate\n",
    "for i, elem in enumerate(lista):\n",
    "    print(\"i:\", i)  #posiciones\n",
    "    print(\"elem:\", elem)    #valor del elemento\n",
    "    \n",
    "# Solo con el for range se usa un número (longitud de la lista), para los otros for se usa el nombre de la lista."
   ]
  },
  {
   "cell_type": "code",
   "execution_count": 23,
   "metadata": {},
   "outputs": [
    {
     "output_type": "stream",
     "name": "stdout",
     "text": [
      "2\n5\n"
     ]
    }
   ],
   "source": [
    "lista = [2, 5, 11, 20]\n",
    "\n",
    "for i, elem in enumerate(lista[0:2]):   # Puedo especificar el rango de la lista a recorrer\n",
    "    print(elem)"
   ]
  },
  {
   "cell_type": "code",
   "execution_count": 24,
   "metadata": {},
   "outputs": [
    {
     "output_type": "stream",
     "name": "stdout",
     "text": [
      "i:  0\nelem:  11\ni:  1\nelem:  20\n"
     ]
    }
   ],
   "source": [
    "for i, elem in enumerate(lista[2:]):\n",
    "    print(\"i: \", i)\n",
    "    print(\"elem: \", elem)\n",
    "\n",
    "# Como solo estamos especificando un rango de la lista, la posición de los valores empiezan en cero. Ahora el elemento que estaba en la posición 3, ahora está en la posición cero."
   ]
  },
  {
   "cell_type": "code",
   "execution_count": 25,
   "metadata": {},
   "outputs": [
    {
     "output_type": "execute_result",
     "data": {
      "text/plain": [
       "[25, 39]"
      ]
     },
     "metadata": {},
     "execution_count": 25
    }
   ],
   "source": [
    "a = [20, 30]\n",
    "b = [5, 9]\n",
    "\n",
    "c = []\n",
    "\n",
    "for i, elem in enumerate(a):    # a la izquierda de la coma siempre es la posición, y a la derecha siempre es el valor del elemento\n",
    "    c.append(elem + b[i])\n",
    "c"
   ]
  },
  {
   "cell_type": "code",
   "execution_count": 26,
   "metadata": {},
   "outputs": [
    {
     "output_type": "stream",
     "name": "stdout",
     "text": [
      "s x\nh f\n"
     ]
    }
   ],
   "source": [
    "a = [1, 2, \"x\", \"f\", 9]\n",
    "b = [4, 5, \"s\", \"h\", 3]\n",
    "\n",
    "# Quiero mostrar solo los strings usando enumerate\n",
    "\n",
    "for i, elem in enumerate(b):\n",
    "    if isinstance(elem, str):   # también podemos hacer if type(elem) == str\n",
    "        print(elem, a[i])   # a[i] porque sabemos que los str en 'a' están en la misma posición que en 'b'"
   ]
  },
  {
   "cell_type": "code",
   "execution_count": 27,
   "metadata": {},
   "outputs": [
    {
     "output_type": "stream",
     "name": "stdout",
     "text": [
      "s x\nh f\n"
     ]
    }
   ],
   "source": [
    "# Mismo ejercicio usando range:\n",
    "\n",
    "for pos in range(len(b)):\n",
    "    if type(b[pos]) == str:\n",
    "        print(b[pos], a[pos])"
   ]
  },
  {
   "cell_type": "code",
   "execution_count": 28,
   "metadata": {},
   "outputs": [
    {
     "output_type": "stream",
     "name": "stdout",
     "text": [
      "4\n3\n"
     ]
    }
   ],
   "source": [
    "b = [4, 6, \"s\", \"h\", 3]\n",
    "\n",
    "# Mostrar los elementos en posiciones pares si el elemento es de tipo int\n",
    "\n",
    "for pos, valor in enumerate(b):\n",
    "    if pos % 2 == 0 and isinstance (valor, int):\n",
    "        print(valor) "
   ]
  },
  {
   "cell_type": "code",
   "execution_count": 29,
   "metadata": {},
   "outputs": [
    {
     "output_type": "stream",
     "name": "stdout",
     "text": [
      "4\n6\n"
     ]
    }
   ],
   "source": [
    "# Mostrar los elementos int que sean pares \n",
    "\n",
    "for pos, valor in enumerate(b):\n",
    "    if isinstance (valor, int) and valor % 2 == 0: # Tengo que tener cuidado con el orden de las condiciones. Si pongo el módulo antes que el isinstance me daría error porque estaría intentando calcular el módulo de un string\n",
    "        print(valor)"
   ]
  },
  {
   "cell_type": "code",
   "execution_count": 30,
   "metadata": {},
   "outputs": [
    {
     "output_type": "stream",
     "name": "stdout",
     "text": [
      "4\ns2\n2\n3\n3\n3\n"
     ]
    }
   ],
   "source": [
    "lista = [4, 5, \"s2\", \"h1\", 3, [\"xs\"], \"3\", []]\n",
    "\n",
    "# Mostrar los elementos en posiciones pares:\n",
    "# Si es string mostrar también el elemento en su segunda posición\n",
    "# Si es lista mostrar también el primer elemento si tiene \n",
    "# Mostrar siempre el elemento en la posición 4/quinto elemento (una vez).\n",
    "\n",
    "for i, elem in enumerate(lista):\n",
    "    if i % 2 == 0:\n",
    "        print(elem) # mostrar elementos en posiciones pares\n",
    "        if isinstance (elem, str) and len(elem) >= 2:\n",
    "            print(elem[1])  # mostrar el segundo caracter del string\n",
    "        if isinstance (elem, list) and len(elem) >= 1:\n",
    "            print(elem[0]) # mostrar el primer elemento en la lista\n",
    "print(lista[4]) # mostrar el quinto elemento. Fuera del for, porque si no se muestra tantas veces como elementos hay en el bucle.\n"
   ]
  },
  {
   "cell_type": "code",
   "execution_count": 31,
   "metadata": {},
   "outputs": [],
   "source": [
    "# El elif es más eficiente que el if pero hay que tener cuidado de lo que significa elif, porque si se encuentra una condición verdadera para el código."
   ]
  },
  {
   "cell_type": "code",
   "execution_count": 32,
   "metadata": {},
   "outputs": [
    {
     "output_type": "stream",
     "name": "stdout",
     "text": [
      "4\n2\n3\n3\n3\n"
     ]
    },
    {
     "output_type": "execute_result",
     "data": {
      "text/plain": [
       "[4, 5, 's2', 'h1', 3, ['xs'], '3', []]"
      ]
     },
     "metadata": {},
     "execution_count": 32
    }
   ],
   "source": [
    "lista = [4, 5, \"s2\", \"h1\", 3, [\"xs\"], \"3\", []]\n",
    "\n",
    "# Mostrar los elementos en posiciones pares:\n",
    "# Si es string mostrar también el elemento en su segunda posición\n",
    "# Si es lista mostrar también el primer elemento si tiene \n",
    "# Mostrar siempre el elemento en la posición 4/quinto elemento (una vez).\n",
    "# Para el string \"s2\", solo monstrar \"2\"\n",
    "\n",
    "for i, elem in enumerate(lista):\n",
    "    if i % 2 == 0:\n",
    "        if i !=2:   # or elem != \"s2\" ExcepciÓn de este caso, los valores en la posición par si se muestran\n",
    "            print(elem) # mostrar elementos en posiciones pares\n",
    "        if isinstance (elem, str) and len(elem) >= 2:\n",
    "            print(elem[1])  #mostrar el segundo caracter del string\n",
    "        if isinstance (elem, list) and len(elem) >= 1:\n",
    "            print(elem[0]) # mostrar el primer elemento en la lista\n",
    "print(lista[4]) # mostrar el quinto elemento. Fuera del for, porque si no se muestra tantas veces como elementos hay en el bucle.\n",
    "\n",
    "lista"
   ]
  },
  {
   "cell_type": "code",
   "execution_count": 33,
   "metadata": {},
   "outputs": [
    {
     "output_type": "error",
     "ename": "TypeError",
     "evalue": "'set' object is not subscriptable",
     "traceback": [
      "\u001b[1;31m---------------------------------------------------------------------------\u001b[0m",
      "\u001b[1;31mTypeError\u001b[0m                                 Traceback (most recent call last)",
      "\u001b[1;32m<ipython-input-33-3d8a2cd0aab4>\u001b[0m in \u001b[0;36m<module>\u001b[1;34m\u001b[0m\n\u001b[0;32m      2\u001b[0m \u001b[0mb\u001b[0m \u001b[1;33m=\u001b[0m \u001b[1;33m{\u001b[0m\u001b[1;36m1\u001b[0m\u001b[1;33m:\u001b[0m\u001b[1;36m2\u001b[0m\u001b[1;33m}\u001b[0m\u001b[1;33m\u001b[0m\u001b[1;33m\u001b[0m\u001b[0m\n\u001b[0;32m      3\u001b[0m \u001b[1;33m\u001b[0m\u001b[0m\n\u001b[1;32m----> 4\u001b[1;33m \u001b[0ma\u001b[0m\u001b[1;33m[\u001b[0m\u001b[1;36m2\u001b[0m\u001b[1;33m]\u001b[0m\u001b[1;33m\u001b[0m\u001b[1;33m\u001b[0m\u001b[0m\n\u001b[0m",
      "\u001b[1;31mTypeError\u001b[0m: 'set' object is not subscriptable"
     ]
    }
   ],
   "source": [
    "a = {3,3} \n",
    "b = {1:2}\n",
    "\n",
    "a[2]"
   ]
  },
  {
   "cell_type": "code",
   "execution_count": null,
   "metadata": {},
   "outputs": [],
   "source": []
  },
  {
   "cell_type": "code",
   "execution_count": 15,
   "metadata": {},
   "outputs": [
    {
     "output_type": "stream",
     "name": "stdout",
     "text": [
      "True\n"
     ]
    }
   ],
   "source": [
    "# in sirve para ver si un elemento esta en un conjunto\n",
    "l = [\"pera\", \"manzana\", \"naranja\", \"melon\", \"sandia\"]\n",
    "print(\"pera\" in l)"
   ]
  },
  {
   "cell_type": "code",
   "execution_count": 16,
   "metadata": {},
   "outputs": [
    {
     "output_type": "stream",
     "name": "stdout",
     "text": [
      "[0, 1, 2]\nlen(l) - 1: 2\nla_posicion_del_medio:  1\n"
     ]
    }
   ],
   "source": [
    "l = [2, 3, 6]\n",
    "\n",
    "print(list(range(len(l))))\n",
    "\n",
    "print(\"len(l) - 1:\", len(l) -1)\n",
    "\n",
    "ultima_posicion = len(l) - 1\n",
    "la_posicion_del_medio = ultima_posicion // 2\n",
    "print(\"la_posicion_del_medio: \", la_posicion_del_medio)"
   ]
  },
  {
   "source": [
    "## Funciones"
   ],
   "cell_type": "markdown",
   "metadata": {}
  },
  {
   "cell_type": "code",
   "execution_count": 17,
   "metadata": {},
   "outputs": [],
   "source": [
    "# Funciones son unidades específicas que nos permiten añadir una lógica.\n",
    "# El objetivo de funciones es evitar tener que repetir código "
   ]
  },
  {
   "cell_type": "code",
   "execution_count": 18,
   "metadata": {},
   "outputs": [
    {
     "output_type": "stream",
     "name": "stdout",
     "text": [
      "Me ejecuto desde dentro de una función\n"
     ]
    }
   ],
   "source": [
    "# def nombre_de_la_funcion():\n",
    "\n",
    "\n",
    "def nombre_de_la_funcion():\n",
    "    print(\"Me ejecuto desde dentro de una función\")\n",
    "\n",
    "nombre_de_la_funcion()  # Tengo que llamar a la función para que se ejecute, si no no pasa nada"
   ]
  },
  {
   "cell_type": "code",
   "execution_count": 19,
   "metadata": {},
   "outputs": [
    {
     "output_type": "execute_result",
     "data": {
      "text/plain": [
       "<function __main__.nombre_de_la_funcion()>"
      ]
     },
     "metadata": {},
     "execution_count": 19
    }
   ],
   "source": [
    "nombre_de_la_funcion    # La función tampoco se ejecuta sin paréntesis. Nos da la referencia a la función pero no la ejecuta"
   ]
  },
  {
   "cell_type": "code",
   "execution_count": 20,
   "metadata": {},
   "outputs": [
    {
     "output_type": "stream",
     "name": "stdout",
     "text": [
      "5\n"
     ]
    }
   ],
   "source": [
    "# Función suma:\n",
    "x = 2\n",
    "y = 3\n",
    "\n",
    "suma = x + y\n",
    "\n",
    "def suma():\n",
    "    x = 2\n",
    "    y = 3\n",
    "    print(x+y)\n",
    "    \n",
    "suma()"
   ]
  },
  {
   "cell_type": "code",
   "execution_count": 21,
   "metadata": {},
   "outputs": [],
   "source": [
    "# Una función puede tener argumentos/parametros\n",
    "\n",
    "def suma_con_parametros(nombre_parametro):\n",
    "    print (5 + nombre_parametro)"
   ]
  },
  {
   "cell_type": "code",
   "execution_count": 22,
   "metadata": {},
   "outputs": [
    {
     "output_type": "stream",
     "name": "stdout",
     "text": [
      "9\n9\n"
     ]
    }
   ],
   "source": [
    "suma_con_parametros(nombre_parametro=4)\n",
    "# A veces nos encontramos con funciones asi: \n",
    "suma_con_parametros(4) # Como solo hay un parametro, es lo mismo que lo anterior. Pero es obligatorio darle un parámetro."
   ]
  },
  {
   "cell_type": "code",
   "execution_count": 23,
   "metadata": {},
   "outputs": [],
   "source": [
    "def suma_con_parametros(nombre_parametro):\n",
    "    print (5 + int(nombre_parametro)) # No puedo forzar a que sea int en la definición de la función, lo tengo que añadir aquí"
   ]
  },
  {
   "cell_type": "code",
   "execution_count": 24,
   "metadata": {},
   "outputs": [
    {
     "output_type": "error",
     "ename": "ValueError",
     "evalue": "invalid literal for int() with base 10: ''",
     "traceback": [
      "\u001b[1;31m---------------------------------------------------------------------------\u001b[0m",
      "\u001b[1;31mValueError\u001b[0m                                Traceback (most recent call last)",
      "\u001b[1;32m<ipython-input-24-9ec39b7408b9>\u001b[0m in \u001b[0;36m<module>\u001b[1;34m\u001b[0m\n\u001b[0;32m      1\u001b[0m \u001b[0mx\u001b[0m \u001b[1;33m=\u001b[0m \u001b[0minput\u001b[0m\u001b[1;33m(\u001b[0m\u001b[1;33m)\u001b[0m\u001b[1;33m\u001b[0m\u001b[1;33m\u001b[0m\u001b[0m\n\u001b[1;32m----> 2\u001b[1;33m \u001b[0msuma_con_parametros\u001b[0m\u001b[1;33m(\u001b[0m\u001b[0mnombre_parametro\u001b[0m\u001b[1;33m=\u001b[0m\u001b[0mx\u001b[0m\u001b[1;33m)\u001b[0m\u001b[1;33m\u001b[0m\u001b[1;33m\u001b[0m\u001b[0m\n\u001b[0m\u001b[0;32m      3\u001b[0m \u001b[1;31m# El resultado del input siempre es un str pero en la funcion (celda anterior)ya convertimos el str a un int. Por eso esta operación ahora se puede hacer\u001b[0m\u001b[1;33m\u001b[0m\u001b[1;33m\u001b[0m\u001b[1;33m\u001b[0m\u001b[0m\n",
      "\u001b[1;32m<ipython-input-23-f2561ce2d234>\u001b[0m in \u001b[0;36msuma_con_parametros\u001b[1;34m(nombre_parametro)\u001b[0m\n\u001b[0;32m      1\u001b[0m \u001b[1;32mdef\u001b[0m \u001b[0msuma_con_parametros\u001b[0m\u001b[1;33m(\u001b[0m\u001b[0mnombre_parametro\u001b[0m\u001b[1;33m)\u001b[0m\u001b[1;33m:\u001b[0m\u001b[1;33m\u001b[0m\u001b[1;33m\u001b[0m\u001b[0m\n\u001b[1;32m----> 2\u001b[1;33m     \u001b[0mprint\u001b[0m \u001b[1;33m(\u001b[0m\u001b[1;36m5\u001b[0m \u001b[1;33m+\u001b[0m \u001b[0mint\u001b[0m\u001b[1;33m(\u001b[0m\u001b[0mnombre_parametro\u001b[0m\u001b[1;33m)\u001b[0m\u001b[1;33m)\u001b[0m \u001b[1;31m# No puedo forzar a que sea int en la definición de la función, lo tengo que añadir aquí\u001b[0m\u001b[1;33m\u001b[0m\u001b[1;33m\u001b[0m\u001b[0m\n\u001b[0m",
      "\u001b[1;31mValueError\u001b[0m: invalid literal for int() with base 10: ''"
     ]
    }
   ],
   "source": [
    "x = input()\n",
    "suma_con_parametros(nombre_parametro=x)\n",
    "# El resultado del input siempre es un str pero en la funcion (celda anterior)ya convertimos el str a un int. Por eso esta operación ahora se puede hacer "
   ]
  },
  {
   "cell_type": "code",
   "execution_count": 28,
   "metadata": {},
   "outputs": [
    {
     "output_type": "stream",
     "name": "stdout",
     "text": [
      "6\n"
     ]
    }
   ],
   "source": [
    "def multiplicacion_con_parametros(parametro1, parametro2): # Puedo añadir tantos parametros como quiera\n",
    "    print(parametro1 * parametro2)\n",
    "\n",
    "multiplicacion_con_parametros(parametro1=2, parametro2= 3)\n",
    "# Los parametros no son variables, una vez que la función se ejecuta su valor se pierde"
   ]
  },
  {
   "cell_type": "code",
   "execution_count": 29,
   "metadata": {},
   "outputs": [
    {
     "output_type": "stream",
     "name": "stdout",
     "text": [
      "80\n"
     ]
    }
   ],
   "source": [
    "multiplicacion_con_parametros(8,10)"
   ]
  },
  {
   "cell_type": "code",
   "execution_count": 30,
   "metadata": {},
   "outputs": [
    {
     "output_type": "stream",
     "name": "stdout",
     "text": [
      "parametro1:  -2\nparametro2:  3\nsolo se admiten números mayores a 0\n"
     ]
    }
   ],
   "source": [
    "def multiplicacion_con_parametros(parametro1, parametro2): \n",
    "    print(\"parametro1: \", parametro1)   # Puedo poner tanta informacion como quiera. Pero estos parametros solo estan dentro de la función, no puedo llamarlos como variables fuera de ella.\n",
    "    print(\"parametro2: \", parametro2)\n",
    "    if parametro1 >0 and parametro2 > 0:\n",
    "        print(parametro1 * parametro2)\n",
    "    else:\n",
    "        print(\"solo se admiten números mayores a 0\")\n",
    "\n",
    "multiplicacion_con_parametros(parametro1=-2, parametro2= 3)"
   ]
  },
  {
   "cell_type": "code",
   "execution_count": 31,
   "metadata": {},
   "outputs": [
    {
     "output_type": "stream",
     "name": "stdout",
     "text": [
      "parametro1:  5\nparametro2:  5\n25\n"
     ]
    }
   ],
   "source": [
    "def multiplicacion_con_parametros(parametro1, parametro2): \n",
    "    print(\"parametro1: \", parametro1)   # Puedo poner tanta información/condiciones como quiera\n",
    "    print(\"parametro2: \", parametro2)\n",
    "    if parametro1 >0 and parametro2 > 0:\n",
    "        print(parametro1 * parametro2)\n",
    "    else:\n",
    "        print(\"solo se admiten números mayores a 0\")\n",
    "\n",
    "parametro1 = int(input())\n",
    "parametro2 = int(input())\n",
    "\n",
    "multiplicacion_con_parametros(parametro1, parametro2)"
   ]
  },
  {
   "source": [
    "# DÍA CINCO"
   ],
   "cell_type": "markdown",
   "metadata": {}
  },
  {
   "cell_type": "code",
   "execution_count": 32,
   "metadata": {},
   "outputs": [],
   "source": [
    "# DÍA CINCO"
   ]
  },
  {
   "cell_type": "code",
   "execution_count": 33,
   "metadata": {},
   "outputs": [
    {
     "output_type": "stream",
     "name": "stdout",
     "text": [
      "1\n4\n51\n"
     ]
    }
   ],
   "source": [
    "l = [1, None, 4, 0, 51, None]\n",
    "\n",
    "for elem in l:\n",
    "    if elem:    # Esto significa si elementos existen\n",
    "        print(elem)\n",
    "# No es buena praxis si hay ceros. Python lo considera como vacio y no los enseña. Pero puede ser un número, entonces un dato"
   ]
  },
  {
   "cell_type": "code",
   "execution_count": 34,
   "metadata": {},
   "outputs": [],
   "source": [
    "# Funciones:"
   ]
  },
  {
   "cell_type": "code",
   "execution_count": 35,
   "metadata": {},
   "outputs": [],
   "source": [
    "def nf(param1):\n",
    "    print(2)\n",
    "    print(param)\n",
    "    if param == 2:\n",
    "        print(param + 2)\n"
   ]
  },
  {
   "cell_type": "code",
   "execution_count": 36,
   "metadata": {},
   "outputs": [
    {
     "output_type": "stream",
     "name": "stdout",
     "text": [
      "2\n"
     ]
    },
    {
     "output_type": "error",
     "ename": "NameError",
     "evalue": "name 'param' is not defined",
     "traceback": [
      "\u001b[1;31m---------------------------------------------------------------------------\u001b[0m",
      "\u001b[1;31mNameError\u001b[0m                                 Traceback (most recent call last)",
      "\u001b[1;32m<ipython-input-36-aa2c8a7e10b4>\u001b[0m in \u001b[0;36m<module>\u001b[1;34m\u001b[0m\n\u001b[1;32m----> 1\u001b[1;33m \u001b[0mnf\u001b[0m\u001b[1;33m(\u001b[0m\u001b[0mparam1\u001b[0m\u001b[1;33m=\u001b[0m\u001b[1;36m5\u001b[0m\u001b[1;33m)\u001b[0m\u001b[1;33m\u001b[0m\u001b[1;33m\u001b[0m\u001b[0m\n\u001b[0m\u001b[0;32m      2\u001b[0m \u001b[1;31m# Me da error porque param no existe, no ha sido definido\u001b[0m\u001b[1;33m\u001b[0m\u001b[1;33m\u001b[0m\u001b[1;33m\u001b[0m\u001b[0m\n",
      "\u001b[1;32m<ipython-input-35-5d30188a5b47>\u001b[0m in \u001b[0;36mnf\u001b[1;34m(param1)\u001b[0m\n\u001b[0;32m      1\u001b[0m \u001b[1;32mdef\u001b[0m \u001b[0mnf\u001b[0m\u001b[1;33m(\u001b[0m\u001b[0mparam1\u001b[0m\u001b[1;33m)\u001b[0m\u001b[1;33m:\u001b[0m\u001b[1;33m\u001b[0m\u001b[1;33m\u001b[0m\u001b[0m\n\u001b[0;32m      2\u001b[0m     \u001b[0mprint\u001b[0m\u001b[1;33m(\u001b[0m\u001b[1;36m2\u001b[0m\u001b[1;33m)\u001b[0m\u001b[1;33m\u001b[0m\u001b[1;33m\u001b[0m\u001b[0m\n\u001b[1;32m----> 3\u001b[1;33m     \u001b[0mprint\u001b[0m\u001b[1;33m(\u001b[0m\u001b[0mparam\u001b[0m\u001b[1;33m)\u001b[0m\u001b[1;33m\u001b[0m\u001b[1;33m\u001b[0m\u001b[0m\n\u001b[0m\u001b[0;32m      4\u001b[0m     \u001b[1;32mif\u001b[0m \u001b[0mparam\u001b[0m \u001b[1;33m==\u001b[0m \u001b[1;36m2\u001b[0m\u001b[1;33m:\u001b[0m\u001b[1;33m\u001b[0m\u001b[1;33m\u001b[0m\u001b[0m\n\u001b[0;32m      5\u001b[0m         \u001b[0mprint\u001b[0m\u001b[1;33m(\u001b[0m\u001b[0mparam\u001b[0m \u001b[1;33m+\u001b[0m \u001b[1;36m2\u001b[0m\u001b[1;33m)\u001b[0m\u001b[1;33m\u001b[0m\u001b[1;33m\u001b[0m\u001b[0m\n",
      "\u001b[1;31mNameError\u001b[0m: name 'param' is not defined"
     ]
    }
   ],
   "source": [
    "nf(param1=5)\n",
    "# Me da error porque param no existe, no ha sido definido"
   ]
  },
  {
   "cell_type": "code",
   "execution_count": 51,
   "metadata": {},
   "outputs": [
    {
     "output_type": "stream",
     "name": "stdout",
     "text": [
      "2\n4\n6\n"
     ]
    }
   ],
   "source": [
    "# Las funciones pueden utilizar variables pre-definidas\n",
    "param = 4\n",
    "\n",
    "def nf(param1):\n",
    "    print(2)\n",
    "    print(param)\n",
    "    if param == 4:  # El if se esta haciendo con el param, no param1 por culpa de como se ha escrito el código\n",
    "        print(param + 2)\n",
    "\n",
    "nf(param1=65)"
   ]
  },
  {
   "cell_type": "code",
   "execution_count": 52,
   "metadata": {},
   "outputs": [
    {
     "output_type": "stream",
     "name": "stdout",
     "text": [
      "hola\nNone\n"
     ]
    }
   ],
   "source": [
    "# Las funciones por defecto tienen un 'return None'\n",
    "\n",
    "def f():\n",
    "    print(\"hola\")\n",
    "    return None # Esta linea esta por defecto en todas las funciones aunque no aparezca. \n",
    "\n",
    "# Lo que se muestra por pantalla no es lo que retorna la función. En este caso la función muestra \"hola\" y la función retorna \"None\". Por defecto, Jupiter Notebook no muestra None como ouput cuando el None está en la última línea si no utilizo 'print'.\n",
    "# Esto es lo que la función retorna:\n",
    "print(f())\n"
   ]
  },
  {
   "cell_type": "code",
   "execution_count": 53,
   "metadata": {},
   "outputs": [
    {
     "output_type": "stream",
     "name": "stdout",
     "text": [
      "hola\n"
     ]
    }
   ],
   "source": [
    "def f():\n",
    "    print(\"hola\")\n",
    "\n",
    "x = f() # Esto es lo que retorna la función\n",
    "x   # Por defecto Jupiter Note no muestra el None cuando no hay un \"print\", por eso aunque esto es el retorno de la función, el None no aparece"
   ]
  },
  {
   "cell_type": "code",
   "execution_count": 54,
   "metadata": {},
   "outputs": [
    {
     "output_type": "stream",
     "name": "stdout",
     "text": [
      "hola\nNone\n"
     ]
    }
   ],
   "source": [
    "def f():\n",
    "    print(\"hola\")\n",
    "\n",
    "x = f() # Esto es el retorno\n",
    "print(x)"
   ]
  },
  {
   "cell_type": "code",
   "execution_count": 55,
   "metadata": {},
   "outputs": [
    {
     "output_type": "stream",
     "name": "stdout",
     "text": [
      "2\n3\n"
     ]
    }
   ],
   "source": [
    "def f_con_return():\n",
    "    print(2)\n",
    "    return 3\n",
    "\n",
    "x = f_con_return() # Esto es el retorno\n",
    "print(x)"
   ]
  },
  {
   "cell_type": "code",
   "execution_count": 56,
   "metadata": {},
   "outputs": [
    {
     "output_type": "stream",
     "name": "stdout",
     "text": [
      "6\n"
     ]
    },
    {
     "output_type": "execute_result",
     "data": {
      "text/plain": [
       "6"
      ]
     },
     "metadata": {},
     "execution_count": 56
    }
   ],
   "source": [
    "def suma_sin_retorno(a, b):\n",
    "    print (a + b)\n",
    "\n",
    "def suma_con_retorno(a, b):\n",
    "    return (a + b)\n",
    "\n",
    "suma_sin_retorno (a=2, b=4) # Esta función nos mostraría 6 y nos retorna 'None'. Aunque Jupiter Notebook no muestra por defecto None cuando esta en la última linea\n",
    "\n",
    "suma_con_retorno (a=2, b=4) # Esta función no tiene nada que mostrar. El retorno es 6, por lo que Jupiter si lo muestra. En este caso no tiene None."
   ]
  },
  {
   "cell_type": "code",
   "execution_count": 57,
   "metadata": {},
   "outputs": [
    {
     "output_type": "stream",
     "name": "stdout",
     "text": [
      "6\nNone\n"
     ]
    }
   ],
   "source": [
    "lo_que_retorna_la_función = suma_sin_retorno (a=2, b=4)\n",
    "print(lo_que_retorna_la_función)"
   ]
  },
  {
   "cell_type": "code",
   "execution_count": 60,
   "metadata": {},
   "outputs": [
    {
     "output_type": "stream",
     "name": "stdout",
     "text": [
      "6\n"
     ]
    }
   ],
   "source": [
    "# Esta opción se debe usar si luego quieres usar la respuesta de la función. Porque el 'print' no retorna, solo te muestra el valor pero no te permite usarlo en el futuro.\n",
    "lo_que_retorna_la_función1 = suma_con_retorno (a=2, b=4) # La función no muestra nada con este comando porque no hay 'print' dentro de la función, hemos usado un 'return' directamente\n",
    "print(lo_que_retorna_la_función1) "
   ]
  },
  {
   "cell_type": "code",
   "execution_count": null,
   "metadata": {},
   "outputs": [],
   "source": [
    "# Recuerda, esto solo pasa en Jupiter Notebook, para archivos -ipynb"
   ]
  },
  {
   "source": [
    "# Ejemplo: Suma con return y con print al final\n",
    "def suma_con_retorno(a, b):\n",
    "    print ( a + b)\n",
    "    return (a + b)\n",
    "    \n",
    "\n",
    "def multiplicar_lo_sumado (lo_sumado):\n",
    "    print(lo_sumado * 2)\n",
    "\n",
    "x = suma_con_retorno(a=2, b=4) # Esto es el retorno\n",
    "y = multiplicar_lo_sumado(lo_sumado=x)\n",
    "print(y)\n"
   ],
   "cell_type": "code",
   "metadata": {},
   "execution_count": 63,
   "outputs": [
    {
     "output_type": "stream",
     "name": "stdout",
     "text": [
      "6\n12\nNone\n"
     ]
    }
   ]
  },
  {
   "cell_type": "code",
   "execution_count": 64,
   "metadata": {},
   "outputs": [
    {
     "output_type": "stream",
     "name": "stdout",
     "text": [
      "6\n"
     ]
    },
    {
     "output_type": "error",
     "ename": "TypeError",
     "evalue": "unsupported operand type(s) for *: 'NoneType' and 'int'",
     "traceback": [
      "\u001b[1;31m---------------------------------------------------------------------------\u001b[0m",
      "\u001b[1;31mTypeError\u001b[0m                                 Traceback (most recent call last)",
      "\u001b[1;32m<ipython-input-64-2c80e0505a7a>\u001b[0m in \u001b[0;36m<module>\u001b[1;34m\u001b[0m\n\u001b[0;32m      7\u001b[0m \u001b[1;33m\u001b[0m\u001b[0m\n\u001b[0;32m      8\u001b[0m \u001b[0mx\u001b[0m \u001b[1;33m=\u001b[0m \u001b[0msuma_sin_retorno\u001b[0m\u001b[1;33m(\u001b[0m\u001b[0ma\u001b[0m\u001b[1;33m=\u001b[0m\u001b[1;36m2\u001b[0m\u001b[1;33m,\u001b[0m \u001b[0mb\u001b[0m\u001b[1;33m=\u001b[0m\u001b[1;36m4\u001b[0m\u001b[1;33m)\u001b[0m \u001b[1;31m# x es ya el retorno de la función que es None\u001b[0m\u001b[1;33m\u001b[0m\u001b[1;33m\u001b[0m\u001b[0m\n\u001b[1;32m----> 9\u001b[1;33m \u001b[0my\u001b[0m \u001b[1;33m=\u001b[0m \u001b[0mmultiplicar_lo_sumado\u001b[0m\u001b[1;33m(\u001b[0m\u001b[0mlo_sumado\u001b[0m\u001b[1;33m=\u001b[0m\u001b[0mx\u001b[0m\u001b[1;33m)\u001b[0m \u001b[1;31m# x aquí es el retorno que es None, entonces no puedo multiplicarlo y me va a salir error aquí\u001b[0m\u001b[1;33m\u001b[0m\u001b[1;33m\u001b[0m\u001b[0m\n\u001b[0m\u001b[0;32m     10\u001b[0m \u001b[0mprint\u001b[0m\u001b[1;33m(\u001b[0m\u001b[0my\u001b[0m\u001b[1;33m)\u001b[0m\u001b[1;33m\u001b[0m\u001b[1;33m\u001b[0m\u001b[0m\n",
      "\u001b[1;32m<ipython-input-64-2c80e0505a7a>\u001b[0m in \u001b[0;36mmultiplicar_lo_sumado\u001b[1;34m(lo_sumado)\u001b[0m\n\u001b[0;32m      4\u001b[0m \u001b[1;33m\u001b[0m\u001b[0m\n\u001b[0;32m      5\u001b[0m \u001b[1;32mdef\u001b[0m \u001b[0mmultiplicar_lo_sumado\u001b[0m \u001b[1;33m(\u001b[0m\u001b[0mlo_sumado\u001b[0m\u001b[1;33m)\u001b[0m\u001b[1;33m:\u001b[0m\u001b[1;33m\u001b[0m\u001b[1;33m\u001b[0m\u001b[0m\n\u001b[1;32m----> 6\u001b[1;33m     \u001b[0mprint\u001b[0m\u001b[1;33m(\u001b[0m\u001b[0mlo_sumado\u001b[0m \u001b[1;33m*\u001b[0m \u001b[1;36m2\u001b[0m\u001b[1;33m)\u001b[0m\u001b[1;33m\u001b[0m\u001b[1;33m\u001b[0m\u001b[0m\n\u001b[0m\u001b[0;32m      7\u001b[0m \u001b[1;33m\u001b[0m\u001b[0m\n\u001b[0;32m      8\u001b[0m \u001b[0mx\u001b[0m \u001b[1;33m=\u001b[0m \u001b[0msuma_sin_retorno\u001b[0m\u001b[1;33m(\u001b[0m\u001b[0ma\u001b[0m\u001b[1;33m=\u001b[0m\u001b[1;36m2\u001b[0m\u001b[1;33m,\u001b[0m \u001b[0mb\u001b[0m\u001b[1;33m=\u001b[0m\u001b[1;36m4\u001b[0m\u001b[1;33m)\u001b[0m \u001b[1;31m# x es ya el retorno de la función que es None\u001b[0m\u001b[1;33m\u001b[0m\u001b[1;33m\u001b[0m\u001b[0m\n",
      "\u001b[1;31mTypeError\u001b[0m: unsupported operand type(s) for *: 'NoneType' and 'int'"
     ]
    }
   ],
   "source": [
    "# Ejemplo: Suma sin return y con print al final\n",
    "def suma_sin_retorno(a, b):\n",
    "    print ( a + b)\n",
    "    \n",
    "def multiplicar_lo_sumado (lo_sumado):\n",
    "    print(lo_sumado * 2)\n",
    "\n",
    "x = suma_sin_retorno(a=2, b=4) # x es ya el retorno de la función que es None\n",
    "y = multiplicar_lo_sumado(lo_sumado=x) # x aquí es el retorno que es None, entonces no puedo multiplicarlo y me va a salir error \n",
    "print(y)\n"
   ]
  },
  {
   "cell_type": "code",
   "execution_count": 7,
   "metadata": {},
   "outputs": [
    {
     "output_type": "stream",
     "name": "stdout",
     "text": [
      "6\n12\nNone\n"
     ]
    }
   ],
   "source": [
    "# Ejemplo: Suma con return y sin print al final\n",
    "def suma_con_retorno(a, b):\n",
    "    print ( a + b)\n",
    "    return (a + b)\n",
    "\n",
    "def multiplicar_lo_sumado (lo_sumado):\n",
    "    print(lo_sumado * 2)\n",
    "    \n",
    "x = suma_con_retorno(a=2, b=4)\n",
    "y = multiplicar_lo_sumado(lo_sumado=x) # Ya no puedo tener una variable con el valor 'multiplicar_lo_sumado' porque es un valor que solo se muestra, no se retorna\n",
    "\n",
    "print(y)\n",
    "y # No muestra None porque no estoy usando el print "
   ]
  },
  {
   "cell_type": "code",
   "execution_count": 42,
   "metadata": {},
   "outputs": [
    {
     "output_type": "stream",
     "name": "stdout",
     "text": [
      "6\n"
     ]
    },
    {
     "output_type": "error",
     "ename": "TypeError",
     "evalue": "unsupported operand type(s) for *: 'NoneType' and 'int'",
     "traceback": [
      "\u001b[1;31m---------------------------------------------------------------------------\u001b[0m",
      "\u001b[1;31mTypeError\u001b[0m                                 Traceback (most recent call last)",
      "\u001b[1;32m<ipython-input-42-7f46b4936f9b>\u001b[0m in \u001b[0;36m<module>\u001b[1;34m\u001b[0m\n\u001b[0;32m      5\u001b[0m \u001b[1;33m\u001b[0m\u001b[0m\n\u001b[0;32m      6\u001b[0m \u001b[0mx\u001b[0m \u001b[1;33m=\u001b[0m \u001b[0msuma_sin_retorno\u001b[0m\u001b[1;33m(\u001b[0m\u001b[0ma\u001b[0m\u001b[1;33m=\u001b[0m\u001b[1;36m2\u001b[0m\u001b[1;33m,\u001b[0m \u001b[0mb\u001b[0m\u001b[1;33m=\u001b[0m\u001b[1;36m4\u001b[0m\u001b[1;33m)\u001b[0m\u001b[1;33m\u001b[0m\u001b[1;33m\u001b[0m\u001b[0m\n\u001b[1;32m----> 7\u001b[1;33m \u001b[0my\u001b[0m \u001b[1;33m=\u001b[0m \u001b[0mmultiplicar_lo_sumado\u001b[0m\u001b[1;33m(\u001b[0m\u001b[0mlo_sumado\u001b[0m\u001b[1;33m=\u001b[0m\u001b[0mx\u001b[0m\u001b[1;33m)\u001b[0m\u001b[1;33m\u001b[0m\u001b[1;33m\u001b[0m\u001b[0m\n\u001b[0m\u001b[0;32m      8\u001b[0m \u001b[0my\u001b[0m\u001b[1;33m\u001b[0m\u001b[1;33m\u001b[0m\u001b[0m\n",
      "\u001b[1;32m<ipython-input-37-98db3343f388>\u001b[0m in \u001b[0;36mmultiplicar_lo_sumado\u001b[1;34m(lo_sumado)\u001b[0m\n\u001b[0;32m      3\u001b[0m \u001b[1;33m\u001b[0m\u001b[0m\n\u001b[0;32m      4\u001b[0m \u001b[1;32mdef\u001b[0m \u001b[0mmultiplicar_lo_sumado\u001b[0m \u001b[1;33m(\u001b[0m\u001b[0mlo_sumado\u001b[0m\u001b[1;33m)\u001b[0m\u001b[1;33m:\u001b[0m\u001b[1;33m\u001b[0m\u001b[1;33m\u001b[0m\u001b[0m\n\u001b[1;32m----> 5\u001b[1;33m     \u001b[0mprint\u001b[0m\u001b[1;33m(\u001b[0m\u001b[0mlo_sumado\u001b[0m \u001b[1;33m*\u001b[0m \u001b[1;36m2\u001b[0m\u001b[1;33m)\u001b[0m\u001b[1;33m\u001b[0m\u001b[1;33m\u001b[0m\u001b[0m\n\u001b[0m\u001b[0;32m      6\u001b[0m \u001b[1;33m\u001b[0m\u001b[0m\n\u001b[0;32m      7\u001b[0m \u001b[0mx\u001b[0m \u001b[1;33m=\u001b[0m \u001b[0msuma_sin_retorno\u001b[0m\u001b[1;33m(\u001b[0m\u001b[0ma\u001b[0m\u001b[1;33m=\u001b[0m\u001b[1;36m2\u001b[0m\u001b[1;33m,\u001b[0m \u001b[0mb\u001b[0m\u001b[1;33m=\u001b[0m\u001b[1;36m4\u001b[0m\u001b[1;33m)\u001b[0m\u001b[1;33m\u001b[0m\u001b[1;33m\u001b[0m\u001b[0m\n",
      "\u001b[1;31mTypeError\u001b[0m: unsupported operand type(s) for *: 'NoneType' and 'int'"
     ]
    }
   ],
   "source": [
    "# Ejemplo: Suma sin return y sin print al final\n",
    "def suma_sin_retorno(a, b):\n",
    "    print ( a + b)\n",
    "    \n",
    "\n",
    "x = suma_sin_retorno(a=2, b=4)\n",
    "y = multiplicar_lo_sumado(lo_sumado=x)\n",
    "y\n",
    "# x aquí es el retorno que es None, entonces no puedo multiplicarlo y me va a salir error "
   ]
  },
  {
   "cell_type": "code",
   "execution_count": 46,
   "metadata": {},
   "outputs": [
    {
     "output_type": "stream",
     "name": "stdout",
     "text": [
      "hola\nc: 9\nNone\n"
     ]
    }
   ],
   "source": [
    "c = 1\n",
    "\n",
    "def f():\n",
    "    print(\"hola\")\n",
    "    c = 2 + 7\n",
    "    print(\"c:\", c) # 'c' es el valor de la variable 'c' que está dentro de la función. Solo si no hay 'c' dentro de la función la variable 'c = 1' fuera de la función se consideraría\n",
    "    l = (2, 4, 6)\n",
    "\n",
    "x = f()\n",
    "print(x)"
   ]
  },
  {
   "cell_type": "code",
   "execution_count": 47,
   "metadata": {},
   "outputs": [
    {
     "output_type": "stream",
     "name": "stdout",
     "text": [
      "1\n"
     ]
    }
   ],
   "source": [
    "# Como ya estoy fuera de la función, la variable 'c' se refiere a la variable externa\n",
    "print(c)"
   ]
  },
  {
   "cell_type": "code",
   "execution_count": 49,
   "metadata": {},
   "outputs": [
    {
     "output_type": "stream",
     "name": "stdout",
     "text": [
      "hola\n"
     ]
    },
    {
     "output_type": "error",
     "ename": "UnboundLocalError",
     "evalue": "local variable 'c' referenced before assignment",
     "traceback": [
      "\u001b[1;31m---------------------------------------------------------------------------\u001b[0m",
      "\u001b[1;31mUnboundLocalError\u001b[0m                         Traceback (most recent call last)",
      "\u001b[1;32m<ipython-input-49-00261ef25ad0>\u001b[0m in \u001b[0;36m<module>\u001b[1;34m\u001b[0m\n\u001b[0;32m      7\u001b[0m     \u001b[0ml\u001b[0m \u001b[1;33m=\u001b[0m \u001b[1;33m(\u001b[0m\u001b[1;36m2\u001b[0m\u001b[1;33m,\u001b[0m \u001b[1;36m4\u001b[0m\u001b[1;33m,\u001b[0m \u001b[1;36m6\u001b[0m\u001b[1;33m)\u001b[0m\u001b[1;33m\u001b[0m\u001b[1;33m\u001b[0m\u001b[0m\n\u001b[0;32m      8\u001b[0m \u001b[1;33m\u001b[0m\u001b[0m\n\u001b[1;32m----> 9\u001b[1;33m \u001b[0mx\u001b[0m \u001b[1;33m=\u001b[0m \u001b[0mf\u001b[0m\u001b[1;33m(\u001b[0m\u001b[1;33m)\u001b[0m\u001b[1;33m\u001b[0m\u001b[1;33m\u001b[0m\u001b[0m\n\u001b[0m\u001b[0;32m     10\u001b[0m \u001b[0mprint\u001b[0m\u001b[1;33m(\u001b[0m\u001b[0mx\u001b[0m\u001b[1;33m)\u001b[0m\u001b[1;33m\u001b[0m\u001b[1;33m\u001b[0m\u001b[0m\n",
      "\u001b[1;32m<ipython-input-49-00261ef25ad0>\u001b[0m in \u001b[0;36mf\u001b[1;34m()\u001b[0m\n\u001b[0;32m      2\u001b[0m \u001b[1;32mdef\u001b[0m \u001b[0mf\u001b[0m\u001b[1;33m(\u001b[0m\u001b[1;33m)\u001b[0m\u001b[1;33m:\u001b[0m\u001b[1;33m\u001b[0m\u001b[1;33m\u001b[0m\u001b[0m\n\u001b[0;32m      3\u001b[0m     \u001b[0mprint\u001b[0m\u001b[1;33m(\u001b[0m\u001b[1;34m\"hola\"\u001b[0m\u001b[1;33m)\u001b[0m\u001b[1;33m\u001b[0m\u001b[1;33m\u001b[0m\u001b[0m\n\u001b[1;32m----> 4\u001b[1;33m     \u001b[0mprint\u001b[0m\u001b[1;33m(\u001b[0m\u001b[0mc\u001b[0m\u001b[1;33m)\u001b[0m \u001b[1;31m# Error\u001b[0m\u001b[1;33m\u001b[0m\u001b[1;33m\u001b[0m\u001b[0m\n\u001b[0m\u001b[0;32m      5\u001b[0m     \u001b[0mc\u001b[0m \u001b[1;33m=\u001b[0m \u001b[1;36m2\u001b[0m \u001b[1;33m+\u001b[0m \u001b[1;36m7\u001b[0m\u001b[1;33m\u001b[0m\u001b[1;33m\u001b[0m\u001b[0m\n\u001b[0;32m      6\u001b[0m     \u001b[0mprint\u001b[0m\u001b[1;33m(\u001b[0m\u001b[1;34m\"c:\"\u001b[0m\u001b[1;33m,\u001b[0m \u001b[0mc\u001b[0m\u001b[1;33m)\u001b[0m\u001b[1;33m\u001b[0m\u001b[1;33m\u001b[0m\u001b[0m\n",
      "\u001b[1;31mUnboundLocalError\u001b[0m: local variable 'c' referenced before assignment"
     ]
    }
   ],
   "source": [
    "c = 1\n",
    "\n",
    "def f():\n",
    "    print(\"hola\")\n",
    "    print(c) # Error porque Python entiende que este 'c' es el de dentro de la función que está definido después de esta linea\n",
    "    c = 2 + 7\n",
    "    print(\"c:\", c) \n",
    "    l = (2, 4, 6)\n",
    "\n",
    "x = f()\n",
    "print(x)"
   ]
  },
  {
   "cell_type": "code",
   "execution_count": 51,
   "metadata": {},
   "outputs": [
    {
     "output_type": "stream",
     "name": "stdout",
     "text": [
      "1\n"
     ]
    }
   ],
   "source": [
    "# Lo último que ocurre en una función durante su ejecución es el 'return'. Cuando Python se encuentra una linea donde hay un 'return', para.  \n",
    "\n",
    "x = f()\n",
    "print(x)"
   ]
  },
  {
   "cell_type": "code",
   "execution_count": 52,
   "metadata": {},
   "outputs": [
    {
     "output_type": "stream",
     "name": "stdout",
     "text": [
      "1\n"
     ]
    }
   ],
   "source": [
    "def f():\n",
    "    return 1\n",
    "    print(\"hola\")\n",
    "    return 4\n",
    "\n",
    "x = f()\n",
    "print(x)"
   ]
  },
  {
   "cell_type": "code",
   "execution_count": 72,
   "metadata": {},
   "outputs": [
    {
     "output_type": "stream",
     "name": "stdout",
     "text": [
      "hola\nc: 9\n(2, 4, 6)\n"
     ]
    }
   ],
   "source": [
    "def f():\n",
    "    print(\"hola\")\n",
    "    c = 2 + 7\n",
    "    print(\"c:\", c)\n",
    "    h = (2, 4, 6)\n",
    "    return h\n",
    "    return 1\n",
    "\n",
    "x = f()\n",
    "print(x)"
   ]
  },
  {
   "cell_type": "code",
   "execution_count": 74,
   "metadata": {},
   "outputs": [
    {
     "output_type": "stream",
     "name": "stdout",
     "text": [
      "hola\nc: 9\n"
     ]
    }
   ],
   "source": [
    "def f():\n",
    "    print(\"hola\")\n",
    "    c = 2 + 7\n",
    "    print(\"c:\", c)\n",
    "    h = (2, 4, 6)\n",
    "    return h\n",
    "    return 1\n",
    "\n",
    "x =f() # No nos está mostrando la tupla aunque si la esta retornando. Hay que tener cuidado con las expresiones\n"
   ]
  },
  {
   "cell_type": "code",
   "execution_count": null,
   "metadata": {},
   "outputs": [],
   "source": []
  },
  {
   "cell_type": "code",
   "execution_count": 58,
   "metadata": {},
   "outputs": [
    {
     "output_type": "stream",
     "name": "stdout",
     "text": [
      "\nNone\n"
     ]
    }
   ],
   "source": [
    "print(print()) # Esto es una función, entonces el segundo print va a mostrar lo que la primera funcion 'print' retornó."
   ]
  },
  {
   "cell_type": "code",
   "execution_count": 62,
   "metadata": {},
   "outputs": [
    {
     "output_type": "stream",
     "name": "stdout",
     "text": [
      "<class 'str'>\n<class 'type'>\n"
     ]
    }
   ],
   "source": [
    "k = \"s\"\n",
    "k = type(k)\n",
    "print(k)\n",
    "print(type(k))"
   ]
  },
  {
   "cell_type": "code",
   "execution_count": 65,
   "metadata": {},
   "outputs": [
    {
     "output_type": "stream",
     "name": "stdout",
     "text": [
      "[2, 4, 6, 2]\n"
     ]
    }
   ],
   "source": [
    "# Hay funciones que no necesitan asignarles ninguna variable:\n",
    "lista = [2, 4, 6]\n",
    "lista.append(2)\n",
    "print(lista)\n",
    "\n",
    "# Si se le asigna una variable, esto no muestra nada porque esta retornando None:\n",
    "lista1 = [2, 4, 6]\n",
    "lista1 = lista1.append(2)\n",
    "lista1"
   ]
  },
  {
   "cell_type": "code",
   "execution_count": 77,
   "metadata": {},
   "outputs": [
    {
     "output_type": "stream",
     "name": "stdout",
     "text": [
      "[2, 4]\n"
     ]
    },
    {
     "output_type": "execute_result",
     "data": {
      "text/plain": [
       "6"
      ]
     },
     "metadata": {},
     "execution_count": 77
    }
   ],
   "source": [
    "lista = [2, 4, 6]\n",
    "p = lista.pop()\n",
    "\n",
    "print(lista) # La función pop ha eliminado el 6, y se queda en el retorno, que se pierde porque no lo estamos llamando\n",
    "p\n",
    "# la función pop elimina el último elemento, entonces 'p' nos muestra el retorno de pop que es el número eliminado\n"
   ]
  },
  {
   "cell_type": "code",
   "execution_count": 78,
   "metadata": {},
   "outputs": [
    {
     "output_type": "stream",
     "name": "stdout",
     "text": [
      "4\n"
     ]
    }
   ],
   "source": [
    "print(lista.pop()) # Python ya eliminó el 6 en 'p' y ahora entre parentesis le volvemos a decir que quite el último caracter, 4, y el print hace que se muestre el retorno (que es el último número eliminado, 4)."
   ]
  },
  {
   "cell_type": "code",
   "execution_count": 73,
   "metadata": {},
   "outputs": [
    {
     "output_type": "stream",
     "name": "stdout",
     "text": [
      "Help on built-in function pop:\n\npop(index=-1, /) method of builtins.list instance\n    Remove and return item at index (default last).\n    \n    Raises IndexError if list is empty or index is out of range.\n\n"
     ]
    }
   ],
   "source": [
    "help(lista.pop)   # Nos explica el funcionamiento de una función"
   ]
  },
  {
   "cell_type": "code",
   "execution_count": 72,
   "metadata": {},
   "outputs": [
    {
     "output_type": "stream",
     "name": "stdout",
     "text": [
      "Help on function jk in module __main__:\n\njk(a)\n    ESto es la documentación\n    Esta función es lo que hace es crear una variable suma que alberga la suma de del parametro 'a' más 2\n    \n    Params:\n        'a': Una variable que será sumada con 2\n    \n    Return: variable 'suma'\n\n"
     ]
    }
   ],
   "source": [
    "# Crear documentación, es explicar qué es y cómo funciona una función\n",
    "\n",
    "def jk(a):\n",
    "    \"\"\" ESto es la documentación\n",
    "    Esta función lo que hace es crear una variable suma que alberga la suma del parametro 'a' más 2\n",
    "\n",
    "    Params:\n",
    "        'a': Una variable que será sumada con 2\n",
    "\n",
    "    Return: variable 'suma'\n",
    "    \"\"\"\n",
    "    suma = 2 + a\n",
    "    return suma\n",
    "\n",
    "help(jk)"
   ]
  },
  {
   "cell_type": "code",
   "execution_count": 79,
   "metadata": {},
   "outputs": [],
   "source": [
    "def f():\n",
    "    pass # El pass solo se pone para que haya indentación (hasta que luego la función se complete). Si no hay nada, la función te da error porque no hay indentación\n"
   ]
  },
  {
   "cell_type": "code",
   "execution_count": null,
   "metadata": {},
   "outputs": [],
   "source": [
    "# Diferencias entre variable locales y globales:"
   ]
  },
  {
   "cell_type": "code",
   "execution_count": 79,
   "metadata": {},
   "outputs": [
    {
     "output_type": "execute_result",
     "data": {
      "text/plain": [
       "[2]"
      ]
     },
     "metadata": {},
     "execution_count": 79
    }
   ],
   "source": [
    "def elimina_elemento(lista):\n",
    "    lista.pop()    # Como no estoy poniendo ningún igual, la variable no es local\n",
    "\n",
    "lista = [2, 4]\n",
    "elimina_elemento(lista=lista)\n",
    "lista\n"
   ]
  },
  {
   "cell_type": "code",
   "execution_count": 81,
   "metadata": {},
   "outputs": [
    {
     "output_type": "execute_result",
     "data": {
      "text/plain": [
       "4"
      ]
     },
     "metadata": {},
     "execution_count": 81
    }
   ],
   "source": [
    "def resta_dos(x):\n",
    "    x = x - 2   # Variable local\n",
    "    \n",
    "x = 4\n",
    "resta_dos(x = x)    # Como tengo una función fuera de la función justo antes de llamar a la función, Python considera la x global\n",
    "x"
   ]
  },
  {
   "cell_type": "code",
   "execution_count": 86,
   "metadata": {},
   "outputs": [
    {
     "output_type": "execute_result",
     "data": {
      "text/plain": [
       "4"
      ]
     },
     "metadata": {},
     "execution_count": 86
    }
   ],
   "source": [
    "def resta_dos(x):\n",
    "    x = x - 2   \n",
    "    return x    # Da igual que tenga return, aun tengo una x global que es igual a 4 más abajo, asi que es la última que se considera\n",
    "    \n",
    "x = 4\n",
    "resta_dos(x = x)   # Estamos ejecutando el valor de x=x-2 y no el return\n",
    "x"
   ]
  },
  {
   "cell_type": "code",
   "execution_count": 89,
   "metadata": {},
   "outputs": [
    {
     "output_type": "stream",
     "name": "stdout",
     "text": [
      "2\n"
     ]
    },
    {
     "output_type": "execute_result",
     "data": {
      "text/plain": [
       "4"
      ]
     },
     "metadata": {},
     "execution_count": 89
    }
   ],
   "source": [
    "def resta_dos(x):\n",
    "    x = x - 2   \n",
    "    return x    \n",
    "    \n",
    "x = 4\n",
    "print(resta_dos(x = x)) # Nos da el retorno la función\n",
    "\n",
    "x   # Aun no estoy modificando x, por eso nos sigue dando 4"
   ]
  },
  {
   "cell_type": "code",
   "execution_count": 92,
   "metadata": {},
   "outputs": [
    {
     "output_type": "execute_result",
     "data": {
      "text/plain": [
       "2"
      ]
     },
     "metadata": {},
     "execution_count": 92
    }
   ],
   "source": [
    "# Si queremos que x sea igual a lo que devuelve la función:\n",
    "\n",
    "def resta_dos(x):\n",
    "    x = x - 2  \n",
    "    return x\n",
    "    \n",
    "x = 4\n",
    "x = resta_dos(x = x)\n",
    "x"
   ]
  },
  {
   "cell_type": "code",
   "execution_count": 82,
   "metadata": {},
   "outputs": [],
   "source": [
    "# Una variable 'x' que tenga todos los nombres concatenados de la 'lista_nombres_altura' utilizando una función para ello\n",
    "\n",
    "# x = nombre_funcion(lista=lista_nombres_alturas)\n",
    "\n",
    "lista_nombres_alturas = [(\"Gabriel Vázquez\", 1.75),(\"Jonathan Abbondanza\",  1.70),(\"Nacho Fontal\", 1.82),(\"Javier Araiz\", 1.80),('Jonathan Suarez', 1.86),('Sonia Cobo', 1.73), ('Jorge García', 1.79), (\"Mary Meza\", 1.52), ('Leonardo Frazzetto', 1.75), (\"Nacho Astorga\",1.78),(\"José Carlos Batista\",1.70), (\"Isabel Palomares\", 1.78),(\"Marina Serrano\", 1.54), (\"Daniel Walker\", 1.87), (\"Clara Piniella\", 1.66), (\"Gina Garrido\", 1.63), (\"Adrià Gallardo\", 1.70), (\"María García-Maroto\", 1.64), (\"Susana Vázquez\",1.80), (\"Mauro Garcia-Oliva\", 1.77), (\"Juan Bayon\", 1.64), (\"Miguel Barquero\", 1.85), (\"Borja Puig\", 1.82), (\"Pablo Martínez\", 1.81), (\"Xinru Yang\", 1.60),(\"Pablo Díez\", 1.84),(\"Karina Inche\",1.61)]"
   ]
  },
  {
   "cell_type": "code",
   "execution_count": 87,
   "metadata": {},
   "outputs": [
    {
     "output_type": "stream",
     "name": "stdout",
     "text": [
      "Gabriel VázquezJonathan AbbondanzaNacho FontalJavier AraizJonathan SuarezSonia CoboJorge GarcíaMary MezaLeonardo FrazzettoNacho AstorgaJosé Carlos BatistaIsabel PalomaresMarina SerranoDaniel WalkerClara PiniellaGina GarridoAdrià GallardoMaría García-MarotoSusana VázquezMauro Garcia-OlivaJuan BayonMiguel BarqueroBorja PuigPablo MartínezXinru YangPablo DíezKarina Inche\n"
     ]
    }
   ],
   "source": [
    "def nombre_funcion (lista):\n",
    "    nombres = \"\"\n",
    "    for tupla in lista: #Recuerda no usar nombres específicos dentro de la función porque entonces solo vas a poder usar la función solo para esa lista en este caso\n",
    "        nombres = nombres + tupla[0] # Como Python hace lo de la derecha primero, los nombres se van añadiendo uno a uno a la variable nombes en cada iteración\n",
    "    return nombres\n",
    "\n",
    "x = nombre_funcion(lista=lista_nombres_alturas) # Llamada/invocación a la función\n",
    "print(x)"
   ]
  },
  {
   "cell_type": "code",
   "execution_count": 8,
   "metadata": {},
   "outputs": [
    {
     "output_type": "error",
     "ename": "NameError",
     "evalue": "name 'lista_nombres_alturas' is not defined",
     "traceback": [
      "\u001b[1;31m---------------------------------------------------------------------------\u001b[0m",
      "\u001b[1;31mNameError\u001b[0m                                 Traceback (most recent call last)",
      "\u001b[1;32m<ipython-input-8-8a6aa97ca4f3>\u001b[0m in \u001b[0;36m<module>\u001b[1;34m\u001b[0m\n\u001b[0;32m      6\u001b[0m     \u001b[1;32mreturn\u001b[0m \u001b[0mnombres\u001b[0m\u001b[1;33m\u001b[0m\u001b[1;33m\u001b[0m\u001b[0m\n\u001b[0;32m      7\u001b[0m \u001b[1;33m\u001b[0m\u001b[0m\n\u001b[1;32m----> 8\u001b[1;33m \u001b[0mx\u001b[0m \u001b[1;33m=\u001b[0m \u001b[0mnombre_funcion\u001b[0m\u001b[1;33m(\u001b[0m\u001b[0mlista\u001b[0m\u001b[1;33m=\u001b[0m\u001b[0mlista_nombres_alturas\u001b[0m\u001b[1;33m)\u001b[0m \u001b[1;31m# Llamada/invocación a la función\u001b[0m\u001b[1;33m\u001b[0m\u001b[1;33m\u001b[0m\u001b[0m\n\u001b[0m\u001b[0;32m      9\u001b[0m \u001b[0mprint\u001b[0m\u001b[1;33m(\u001b[0m\u001b[0mx\u001b[0m\u001b[1;33m)\u001b[0m\u001b[1;33m\u001b[0m\u001b[1;33m\u001b[0m\u001b[0m\n",
      "\u001b[1;31mNameError\u001b[0m: name 'lista_nombres_alturas' is not defined"
     ]
    }
   ],
   "source": [
    "nombres = \"\"\n",
    "def nombre_funcion (lista):\n",
    "\n",
    "    for tupla in lista: \n",
    "        nombres = nombres + tupla[0] \n",
    "    return nombres\n",
    "\n",
    "x = nombre_funcion(lista=lista_nombres_alturas) \n",
    "print(x)\n",
    "\n",
    "# Esto da error porque la función esta intentando guardar en una variable local que aun no existe.\n",
    "# No usar variables globales y llamarlas como locales.\n",
    "# Lo que se vaya a utilizar en una función se crea dentro de la función ya que no se utilizan fuera (contador)\n",
    "# Si necesito utilizar dentro de una función un valor de fuera, se lo paso por parámetro (argumento). Puedo crear tantos paramentros que necesite.\n",
    "# Si necesito utilizar fuera de la función un resultado que se calcula dentro de la función, lo retorno. Puedo retornar varios valores a la vez."
   ]
  },
  {
   "cell_type": "code",
   "execution_count": null,
   "metadata": {},
   "outputs": [],
   "source": [
    "# Dentro de una función puedo retornar varias cosas si añado comas:\n",
    "return nombres, 2, 9"
   ]
  },
  {
   "cell_type": "code",
   "execution_count": null,
   "metadata": {},
   "outputs": [],
   "source": [
    "# Stackoverflow online es un foro con muchas respuestas de Python"
   ]
  },
  {
   "cell_type": "code",
   "execution_count": 89,
   "metadata": {},
   "outputs": [
    {
     "output_type": "stream",
     "name": "stdout",
     "text": [
      "True\n"
     ]
    },
    {
     "output_type": "execute_result",
     "data": {
      "text/plain": [
       "6"
      ]
     },
     "metadata": {},
     "execution_count": 89
    }
   ],
   "source": [
    "# comprobar si un caracter esta dentro de un string\n",
    "s = \"fdsokfvfjos\"\n",
    "print(\"v\" in s)\n",
    "\n",
    "#Te da la posición de dónde esta la letra\n",
    "s.find(\"v\") "
   ]
  },
  {
   "cell_type": "code",
   "execution_count": 6,
   "metadata": {},
   "outputs": [
    {
     "output_type": "execute_result",
     "data": {
      "text/plain": [
       "4.75"
      ]
     },
     "metadata": {},
     "execution_count": 6
    }
   ],
   "source": [
    "# Create a program that calculates the average.\n",
    "\n",
    "# The program will ask the user to specify how many numbers you want to enter, and will show a prompt to include number by number to a list, and then calculate the average of each number in that list.\n",
    "\n",
    "def media ():\n",
    "\n",
    "    pregunta = int(input(\"How many numbers you want?: \"))\n",
    "    lista = []\n",
    "\n",
    "    for i in range(pregunta):\n",
    "        numeros = int(input(\"include number by number: \"))\n",
    "        lista.append(numeros)\n",
    "\n",
    "    return sum(lista) / pregunta\n",
    "\n",
    "\n",
    "media()"
   ]
  },
  {
   "source": [
    "# SEMANA DOS. DÍA UNO"
   ],
   "cell_type": "markdown",
   "metadata": {}
  },
  {
   "cell_type": "code",
   "execution_count": 12,
   "metadata": {},
   "outputs": [
    {
     "output_type": "stream",
     "name": "stdout",
     "text": [
      "(2, 6, 10)\n<class 'tuple'>\n"
     ]
    }
   ],
   "source": [
    "x = 2\n",
    "x, y = 2, 6     # Puedo tener dos variables llamadas a la vez separadas por comas\n",
    "\n",
    "t = 2, 6, 10\n",
    "print(t)\n",
    "print(type(t))  # Por defecto en Python, si guardo más de un elemento en una variable, esto es una tupla\n"
   ]
  },
  {
   "cell_type": "code",
   "execution_count": 13,
   "metadata": {},
   "outputs": [
    {
     "output_type": "error",
     "ename": "ValueError",
     "evalue": "too many values to unpack (expected 2)",
     "traceback": [
      "\u001b[1;31m---------------------------------------------------------------------------\u001b[0m",
      "\u001b[1;31mValueError\u001b[0m                                Traceback (most recent call last)",
      "\u001b[1;32m<ipython-input-13-275e7e2ee983>\u001b[0m in \u001b[0;36m<module>\u001b[1;34m\u001b[0m\n\u001b[1;32m----> 1\u001b[1;33m \u001b[0mx\u001b[0m\u001b[1;33m,\u001b[0m \u001b[0my\u001b[0m \u001b[1;33m=\u001b[0m \u001b[1;36m10\u001b[0m\u001b[1;33m,\u001b[0m \u001b[1;36m20\u001b[0m\u001b[1;33m,\u001b[0m \u001b[1;36m30\u001b[0m\u001b[1;33m\u001b[0m\u001b[1;33m\u001b[0m\u001b[0m\n\u001b[0m",
      "\u001b[1;31mValueError\u001b[0m: too many values to unpack (expected 2)"
     ]
    }
   ],
   "source": [
    "x, y = 10, 20, 30   # No podemos guardar más valores de las variables que tenemos (una vez que tengamos más de una variable)"
   ]
  },
  {
   "cell_type": "code",
   "execution_count": 15,
   "metadata": {},
   "outputs": [
    {
     "output_type": "stream",
     "name": "stdout",
     "text": [
      "Yo retorno\n(2, 4, 7)\n<class 'tuple'>\n"
     ]
    }
   ],
   "source": [
    "def retorna_varios():\n",
    "    print(\"Yo retorno\")\n",
    "    return 2, 4, 7\n",
    "\n",
    "x = retorna_varios()\n",
    "print(x)\n",
    "print(type(x))"
   ]
  },
  {
   "cell_type": "code",
   "execution_count": 18,
   "metadata": {},
   "outputs": [
    {
     "output_type": "stream",
     "name": "stdout",
     "text": [
      "Yo retorno\nh: 2\nj: 4\nk: 7\n<class 'int'>\n"
     ]
    }
   ],
   "source": [
    "h, j, k = retorna_varios()  # Puedo también mostrar los elementos de forma individual\n",
    "print(\"h:\", h)\n",
    "print(\"j:\", j)\n",
    "print(\"k:\", k)\n",
    "print(type(k))"
   ]
  },
  {
   "cell_type": "code",
   "execution_count": 19,
   "metadata": {},
   "outputs": [
    {
     "output_type": "stream",
     "name": "stdout",
     "text": [
      "<class 'tuple'>\n(0, 'x')\n<class 'tuple'>\n(1, 'y')\n<class 'tuple'>\n(2, 'z')\n"
     ]
    }
   ],
   "source": [
    "lista = [\"x\", \"y\", \"z\"]\n",
    "\n",
    "for t in enumerate(lista):  # Aunque no especifique los dos valores de enumerate, me salen los dos (la posición, y el valor en una tupla)\n",
    "    print(type(t))\n",
    "    print(t)"
   ]
  },
  {
   "cell_type": "code",
   "execution_count": 21,
   "metadata": {},
   "outputs": [
    {
     "output_type": "stream",
     "name": "stdout",
     "text": [
      "posición: 0\nvalor del elemento: x\nposición: 1\nvalor del elemento: y\nposición: 2\nvalor del elemento: z\n"
     ]
    }
   ],
   "source": [
    "lista = [\"x\", \"y\", \"z\"]\n",
    "\n",
    "for t in enumerate(lista):  \n",
    "    print(\"posición:\", t[0])\n",
    "    print(\"valor del elemento:\", t[1])\n",
    "\n",
    "# Porque el valor de la posición esta en la primera posición de la tupla y el valor del elemento está en la segunda posición de la tupla"
   ]
  },
  {
   "cell_type": "code",
   "execution_count": null,
   "metadata": {},
   "outputs": [],
   "source": []
  },
  {
   "source": [
    "## Diccionarios"
   ],
   "cell_type": "markdown",
   "metadata": {}
  },
  {
   "source": [
    "# Los diccionarios son una colección\n",
    "\n",
    "# Coleccion: \n",
    "# 1. Lista\n",
    "# 2. Tupla\n",
    "# 3. Conjunto\n",
    "# 4. String\n",
    "# 5. Diccionarios "
   ],
   "cell_type": "code",
   "metadata": {},
   "execution_count": null,
   "outputs": []
  },
  {
   "cell_type": "code",
   "execution_count": 28,
   "metadata": {},
   "outputs": [
    {
     "output_type": "stream",
     "name": "stdout",
     "text": [
      "<class 'list'>\n<class 'tuple'>\n<class 'str'>\n<class 'set'>\n<class 'dict'>\n"
     ]
    }
   ],
   "source": [
    "lista = []\n",
    "print(type(lista))\n",
    "\n",
    "tupla = ()\n",
    "print(type(tupla))\n",
    "\n",
    "string = \"\"\n",
    "print(type(string))\n",
    "\n",
    "conjunto = {0,}\n",
    "print(type(conjunto))\n",
    "\n",
    "diccionario = {}\n",
    "print(type(diccionario))\n"
   ]
  },
  {
   "cell_type": "code",
   "execution_count": 30,
   "metadata": {},
   "outputs": [
    {
     "output_type": "execute_result",
     "data": {
      "text/plain": [
       "{'key': 'valor', 0: 'valor'}"
      ]
     },
     "metadata": {},
     "execution_count": 30
    }
   ],
   "source": [
    "# Un diccionario siempre tiene una key que representa un valor. Es una variable que puede guardar dos cosas.\n",
    "\n",
    "diccionario = {\"key_string\": \"valor\", 0:\"valor\"}  # Aunque lo habitual es tener una key de tipo str también pueden ser int\n",
    "                                           # Podemos tener más de una key\n",
    "                                           # Podemos tener más de dos valores iguales con diferentes keys\n",
    "\n",
    "diccionario"
   ]
  },
  {
   "cell_type": "code",
   "execution_count": 31,
   "metadata": {},
   "outputs": [
    {
     "output_type": "stream",
     "name": "stdout",
     "text": [
      "<class 'tuple'>\n"
     ]
    }
   ],
   "source": [
    "tupla1= (8,6)\n",
    "tupla2 = (1,2)\n",
    "tupla3=tupla1 + tupla2\n",
    "tupla3\n",
    "print(type(tupla2))"
   ]
  },
  {
   "cell_type": "code",
   "execution_count": null,
   "metadata": {},
   "outputs": [],
   "source": []
  },
  {
   "cell_type": "code",
   "execution_count": 34,
   "metadata": {},
   "outputs": [
    {
     "output_type": "execute_result",
     "data": {
      "text/plain": [
       "{'key_string': 'valor', 0: 'valor'}"
      ]
     },
     "metadata": {},
     "execution_count": 34
    }
   ],
   "source": [
    "# Pero no puedo tener mas de dos keys iguales con diferentes valores. Solo el ultimo aparece\n",
    "diccionario = {\"key_string\": \"valor\", 0:\"valores\", 0: \"valor\"}\n",
    "diccionario"
   ]
  },
  {
   "cell_type": "code",
   "execution_count": 35,
   "metadata": {},
   "outputs": [
    {
     "output_type": "execute_result",
     "data": {
      "text/plain": [
       "999"
      ]
     },
     "metadata": {},
     "execution_count": 35
    }
   ],
   "source": [
    "# Acceder al valor de una clave/key. Tengo que llamar el nombre de la clave:\n",
    "\n",
    "diccionario = {\"key_string\": \"valor\", 0:\"valor\", 0: \"valores\", \"key\": 999}\n",
    "diccionario[\"key\"]"
   ]
  },
  {
   "cell_type": "code",
   "execution_count": 36,
   "metadata": {},
   "outputs": [
    {
     "output_type": "execute_result",
     "data": {
      "text/plain": [
       "dict_keys(['key_string', 0, 'key'])"
      ]
     },
     "metadata": {},
     "execution_count": 36
    }
   ],
   "source": [
    "# Para acceder a todas las claves:\n",
    "diccionario.keys()"
   ]
  },
  {
   "cell_type": "code",
   "execution_count": 37,
   "metadata": {},
   "outputs": [
    {
     "output_type": "execute_result",
     "data": {
      "text/plain": [
       "['key_string', 0, 'key']"
      ]
     },
     "metadata": {},
     "execution_count": 37
    }
   ],
   "source": [
    "list(diccionario.keys())"
   ]
  },
  {
   "cell_type": "code",
   "execution_count": 39,
   "metadata": {},
   "outputs": [
    {
     "output_type": "execute_result",
     "data": {
      "text/plain": [
       "['valor', 'valores', 999]"
      ]
     },
     "metadata": {},
     "execution_count": 39
    }
   ],
   "source": [
    "# Para acceder a todos los valores (y convertirlos en lista)\n",
    "list(diccionario.values())"
   ]
  },
  {
   "cell_type": "code",
   "execution_count": 40,
   "metadata": {},
   "outputs": [
    {
     "output_type": "stream",
     "name": "stdout",
     "text": [
      "999\n1000\n"
     ]
    }
   ],
   "source": [
    "# Acceder a ambos, claves y valores\n",
    "diccionario = {\"key_string\": \"valor\", 0:\"valor\", 0: \"valores\", \"key\": 999, 2:1000}\n",
    "\n",
    "# Quiero acceder a los valores que sean mayor que cero\n",
    "for v in diccionario.values():  # Estoy recorriendo los valores del diccionario\n",
    "    if isinstance (v, int) and v > 0:    # Comprobar que el valor es de tipo int y que es mayor a cero\n",
    "        print(v)\n"
   ]
  },
  {
   "cell_type": "code",
   "execution_count": 43,
   "metadata": {},
   "outputs": [
    {
     "output_type": "stream",
     "name": "stdout",
     "text": [
      "key_string\nkey\n"
     ]
    }
   ],
   "source": [
    "for key in diccionario.keys():\n",
    "    if isinstance (key, str):\n",
    "        print(key)"
   ]
  },
  {
   "cell_type": "code",
   "execution_count": 46,
   "metadata": {},
   "outputs": [
    {
     "output_type": "stream",
     "name": "stdout",
     "text": [
      "key_string\nvalor\n...............\nkey\n999\n...............\n"
     ]
    }
   ],
   "source": [
    "# Si quiero acceder a la clave y a su valor:\n",
    "for key in diccionario.keys():\n",
    "    if isinstance (key, str):\n",
    "        print (key)\n",
    "        print(diccionario[key]) # Mostrar el valor asociado a la clave  \n",
    "        print(\"...............\")"
   ]
  },
  {
   "cell_type": "code",
   "execution_count": 50,
   "metadata": {},
   "outputs": [
    {
     "output_type": "stream",
     "name": "stdout",
     "text": [
      "key: key_string\nvalue: valor\n---------\nkey: 0\nvalue: valores\n---------\nkey: key\nvalue: 999\n---------\nkey: 2\nvalue: 1000\n---------\n"
     ]
    }
   ],
   "source": [
    "# Si quiero acceder a la clave y a su valor:\n",
    "for key, values in diccionario.items():\n",
    "        print (\"key:\", key)\n",
    "        print(\"value:\", values) # value === diccionario[key]\n",
    "        print(\"---------\")"
   ]
  },
  {
   "cell_type": "code",
   "execution_count": 54,
   "metadata": {},
   "outputs": [
    {
     "output_type": "execute_result",
     "data": {
      "text/plain": [
       "{'nombre_de_la_clave': 'valor_de_esa_clave'}"
      ]
     },
     "metadata": {},
     "execution_count": 54
    }
   ],
   "source": [
    "# Añadir un elemento al diccionario, añadir clave y valor, no puede haber elementos sueltos:\n",
    "dicc = {}\n",
    "\n",
    "dicc [\"nombre_de_la_clave\"] = \"valor_de_esa_clave\"\n",
    "dicc"
   ]
  },
  {
   "cell_type": "code",
   "execution_count": 55,
   "metadata": {},
   "outputs": [
    {
     "output_type": "execute_result",
     "data": {
      "text/plain": [
       "{}"
      ]
     },
     "metadata": {},
     "execution_count": 55
    }
   ],
   "source": [
    "# Eliminar un par de valores siempre tengo que eliminarlos a partir de la clave\n",
    "del dicc [\"nombre_de_la_clave\"]\n",
    "dicc"
   ]
  },
  {
   "cell_type": "code",
   "execution_count": 35,
   "metadata": {},
   "outputs": [
    {
     "output_type": "execute_result",
     "data": {
      "text/plain": [
       "{'x': 0}"
      ]
     },
     "metadata": {},
     "execution_count": 35
    }
   ],
   "source": [
    "# Crear un diccionario a partir de dos listas\n",
    "# Lista a tiene las claves \n",
    "# Lista b tiene los valores asociados a cada clave\n",
    "\n",
    "a = [\"x\", \"y\", \"z\"]\n",
    "b = [0, 10, 20]\n",
    "\n",
    "diccionario = {}\n",
    "\n",
    "diccionario [a[0]] = b[0] # Una manera mas sencilla es usando un for\n",
    "diccionario\n"
   ]
  },
  {
   "cell_type": "code",
   "execution_count": 40,
   "metadata": {},
   "outputs": [
    {
     "output_type": "execute_result",
     "data": {
      "text/plain": [
       "dict_keys(['x', 'y', 'z'])"
      ]
     },
     "metadata": {},
     "execution_count": 40
    }
   ],
   "source": [
    "diccionario.keys()"
   ]
  },
  {
   "cell_type": "code",
   "execution_count": 36,
   "metadata": {},
   "outputs": [
    {
     "output_type": "execute_result",
     "data": {
      "text/plain": [
       "{'x': 0, 'y': 10, 'z': 20}"
      ]
     },
     "metadata": {},
     "execution_count": 36
    }
   ],
   "source": [
    "# for enumerate:\n",
    "diccionario = {}\n",
    "for pos, v_elem in enumerate (a):\n",
    "    diccionario[v_elem] = b[pos]\n",
    "\n",
    "diccionario"
   ]
  },
  {
   "cell_type": "code",
   "execution_count": 37,
   "metadata": {},
   "outputs": [
    {
     "output_type": "stream",
     "name": "stdout",
     "text": [
      "{'x': 0, 'y': 10, 'z': 20}\n"
     ]
    }
   ],
   "source": [
    "for i in range(len(a)):\n",
    "    diccionario[a[i]] = b[i]\n",
    "\n",
    "print (diccionario)\n"
   ]
  },
  {
   "cell_type": "code",
   "execution_count": 38,
   "metadata": {},
   "outputs": [
    {
     "output_type": "stream",
     "name": "stdout",
     "text": [
      "x\ny\nz\n"
     ]
    }
   ],
   "source": [
    "for i in diccionario:\n",
    "    print(i)\n",
    "    "
   ]
  },
  {
   "cell_type": "code",
   "execution_count": null,
   "metadata": {},
   "outputs": [],
   "source": [
    "# Usando un 'for', accediendo por valor\n",
    "diccionario = {}\n",
    "\n",
    "contador = 0\n",
    "for v_elem in a:\n",
    "    diccionario[v_elem] = b[contador] \n",
    "    contador += 1\n",
    "\n",
    "diccionario"
   ]
  },
  {
   "cell_type": "code",
   "execution_count": 78,
   "metadata": {},
   "outputs": [
    {
     "output_type": "stream",
     "name": "stdout",
     "text": [
      "------------\n------------\n6\n2\n------------\n8\n3\n------------\n10\n4\n------------\n"
     ]
    }
   ],
   "source": [
    "# Ejemplo para ver como podemos usar el contador de diferente manera.\n",
    "# Quiero mostrar los elementos a partir de la posición 2\n",
    "a = [2, 4, 6, 8, 10]\n",
    "\n",
    "contador = 0 # representar es la posición del elemento que estamos recorriendo\n",
    "for v_elem in a:\n",
    "    if contador >= 2:\n",
    "        print(v_elem)\n",
    "        print(contador)\n",
    "    contador +=1\n",
    "    print(\"------------\")\n"
   ]
  },
  {
   "cell_type": "code",
   "execution_count": 79,
   "metadata": {},
   "outputs": [
    {
     "output_type": "stream",
     "name": "stdout",
     "text": [
      "2\n6\n10\n"
     ]
    }
   ],
   "source": [
    "# Quiero enseñar los elementos de dos en dos\n",
    "a = [2, 4, 6, 8, 10]\n",
    "\n",
    "for pos in range(len(a)):\n",
    "    if pos % 2 == 0:\n",
    "        print(a[pos])"
   ]
  },
  {
   "cell_type": "code",
   "execution_count": 28,
   "metadata": {},
   "outputs": [
    {
     "output_type": "execute_result",
     "data": {
      "text/plain": [
       "{'4564351': ['mombre', 30, 1.7, 60], '5948913': ['nombre2', 60, 1.62, 85]}"
      ]
     },
     "metadata": {},
     "execution_count": 28
    }
   ],
   "source": [
    "dicc = {}\n",
    "\n",
    "# añadimos/actualizamos el par de valores\n",
    "dicc[\"4564351\"] = [\"mombre\", 30, 1.7, 60]\n",
    "dicc[\"5948913\"] = [\"nombre2\", 60, 1.62, 85]\n",
    "\n",
    "dicc"
   ]
  },
  {
   "cell_type": "code",
   "execution_count": 29,
   "metadata": {},
   "outputs": [
    {
     "output_type": "execute_result",
     "data": {
      "text/plain": [
       "['mombre', 30, 1.7, 60]"
      ]
     },
     "metadata": {},
     "execution_count": 29
    }
   ],
   "source": [
    "dicc[\"4564351\"] "
   ]
  },
  {
   "cell_type": "code",
   "execution_count": 41,
   "metadata": {},
   "outputs": [
    {
     "output_type": "execute_result",
     "data": {
      "text/plain": [
       "{'4564351': ['monbre', 31, 1.7, 60], '5948913': ['nombre2', 60, 1.62, 85]}"
      ]
     },
     "metadata": {},
     "execution_count": 41
    }
   ],
   "source": [
    "# Si uso la misma key para valores diferentes, estas se sobre-escriben y solo usa el último valor\n",
    "dicc[\"4564351\"] = [\"monbre\", 31, 1.7, 60] \n",
    "dicc"
   ]
  },
  {
   "cell_type": "code",
   "execution_count": 42,
   "metadata": {},
   "outputs": [
    {
     "output_type": "execute_result",
     "data": {
      "text/plain": [
       "{'4564351': ['monbre', 31, 1.7, 60],\n",
       " '5948913': ['nombre2', 60, 1.62, 85],\n",
       " ('56660468', 0): {1: ('x', 'y')}}"
      ]
     },
     "metadata": {},
     "execution_count": 42
    }
   ],
   "source": [
    "dicc[(\"56660468\", 0)] = {1:(\"x\", \"y\")}\n",
    "dicc\n",
    "\n",
    "# El tipo de la clave tiene que ser un str, int, float,"
   ]
  },
  {
   "cell_type": "code",
   "execution_count": 43,
   "metadata": {},
   "outputs": [
    {
     "output_type": "execute_result",
     "data": {
      "text/plain": [
       "'y'"
      ]
     },
     "metadata": {},
     "execution_count": 43
    }
   ],
   "source": [
    "# Quiero acceder a \"y\" dentro del diccionario. Accedemos a partir del valor de la clave:\n",
    "dicc[(\"56660468\", 0)][1][1]\n"
   ]
  },
  {
   "cell_type": "code",
   "execution_count": null,
   "metadata": {},
   "outputs": [],
   "source": [
    "# Metodos para diccionarios:\n",
    "# https://www.w3schools.com/python/python_ref_dictionary.asp"
   ]
  },
  {
   "cell_type": "code",
   "execution_count": 45,
   "metadata": {},
   "outputs": [
    {
     "output_type": "execute_result",
     "data": {
      "text/plain": [
       "{}"
      ]
     },
     "metadata": {},
     "execution_count": 45
    }
   ],
   "source": [
    "dicc.clear()\n",
    "dicc"
   ]
  },
  {
   "source": [
    "### While"
   ],
   "cell_type": "markdown",
   "metadata": {}
  },
  {
   "cell_type": "code",
   "execution_count": 102,
   "metadata": {},
   "outputs": [
    {
     "output_type": "execute_result",
     "data": {
      "text/plain": [
       "' \\nEsto imprime 20 veces\\nfor i in range(20):\\n    print(i)\\n'"
      ]
     },
     "metadata": {},
     "execution_count": 102
    }
   ],
   "source": [
    "\"\"\" \n",
    "Esto imprime 20 veces\n",
    "\n",
    "for i in range(20):\n",
    "    print(i)\n",
    "\"\"\""
   ]
  },
  {
   "cell_type": "code",
   "execution_count": 103,
   "metadata": {},
   "outputs": [
    {
     "output_type": "stream",
     "name": "stdout",
     "text": [
      "0\n1\n2\n3\n4\n"
     ]
    }
   ],
   "source": [
    "for i in range(10):\n",
    "    if i < 5:\n",
    "        print(i)"
   ]
  },
  {
   "cell_type": "code",
   "execution_count": null,
   "metadata": {},
   "outputs": [],
   "source": [
    "# Mientras la condición sea True se hace lo de debajo del while (en bucle)\n",
    "\n",
    "while True:\n",
    "    print()     # Lo que diga que se imprima lo hara hasta el infinito porque no tengo ninguna condición que lo pare\n",
    "\n"
   ]
  },
  {
   "cell_type": "code",
   "execution_count": 104,
   "metadata": {},
   "outputs": [],
   "source": [
    "while 1 ==1 and 1 ==2: # Esto no se ejecuta porque esto es falso\n",
    "    print(\"1\")\n"
   ]
  },
  {
   "cell_type": "code",
   "execution_count": 109,
   "metadata": {},
   "outputs": [
    {
     "output_type": "stream",
     "name": "stdout",
     "text": [
      "0\n1\n2\n3\n4\n"
     ]
    }
   ],
   "source": [
    "contador = 0\n",
    "while contador < 5:\n",
    "    print (contador)\n",
    "    contador +=1\n",
    "# esto tambien se podría hacer con un for y un if"
   ]
  },
  {
   "cell_type": "code",
   "execution_count": 3,
   "metadata": {},
   "outputs": [
    {
     "output_type": "stream",
     "name": "stdout",
     "text": [
      "x\ny\nz\no\n"
     ]
    }
   ],
   "source": [
    "# El while no recorre colecciones. No recorre el valor del elemento, se usa por el valor de las posiciones\n",
    "\n",
    "a = [\"x\", \"y\", \"z\", \"o\"]\n",
    "\n",
    "contador = 0\n",
    "while contador <= len(a) - 1:  # contador < len(a) sería lo mismo # y también podemos decir and contador >= 0\n",
    "    print(a[contador])\n",
    "    contador +=1\n",
    "# Es como decir en matemáticas: [0, 3] los corchetes indican que los números están incluidos\n",
    "#                               [0, 4) el cero incluido y el 4 sin incluir"
   ]
  },
  {
   "cell_type": "code",
   "execution_count": 4,
   "metadata": {},
   "outputs": [
    {
     "output_type": "stream",
     "name": "stdout",
     "text": [
      "x\ny\nz\no\n"
     ]
    }
   ],
   "source": [
    "contador = 0\n",
    "while contador < len(a): \n",
    "    print(a[contador])\n",
    "    contador +=1"
   ]
  },
  {
   "cell_type": "code",
   "execution_count": 114,
   "metadata": {},
   "outputs": [
    {
     "output_type": "stream",
     "name": "stdout",
     "text": [
      "x\nz\n"
     ]
    }
   ],
   "source": [
    "# Queremos enseñar solo los elementos en las posiciones pares\n",
    "\n",
    "contador = 0\n",
    "while contador < len(a):\n",
    "    print(a[contador])\n",
    "    contador +=2\n"
   ]
  },
  {
   "cell_type": "code",
   "execution_count": 115,
   "metadata": {},
   "outputs": [
    {
     "output_type": "stream",
     "name": "stdout",
     "text": [
      "x\nhola\n"
     ]
    }
   ],
   "source": [
    "contador = 0\n",
    "\n",
    "while (contador % 2 == 0 ) and contador < len(a):\n",
    "    print(a[contador])\n",
    "    contador +=1\n",
    "    print(\"hola\")\n",
    "\n",
    "# Todas las condiciones del contador se cumplen hasta que la iteración se acaba. \n",
    "# Y luego cuando un while es falso el código se para y ya no vuelve a ejecutar más iteraciones"
   ]
  },
  {
   "cell_type": "code",
   "execution_count": 15,
   "metadata": {},
   "outputs": [
    {
     "output_type": "stream",
     "name": "stdout",
     "text": [
      "[1, 4, 9, 16, 25, 676, 729, 784, 841, 900]\n"
     ]
    }
   ],
   "source": [
    "# Write a Python program to generate a list where the values are square of numbers between 1 and 30 (both included), and return a list of first and last 5 elements of the list.\n",
    "\n",
    "def cuadrado ():\n",
    "    lista = range(1,31)\n",
    "\n",
    "    cuadrado = []\n",
    "\n",
    "    for elem in lista:\n",
    "        cuadrado.append(elem**2)\n",
    "\n",
    "    print(cuadrado[:5]+ cuadrado[-5:])\n",
    "\n",
    "cuadrado()"
   ]
  },
  {
   "cell_type": "code",
   "execution_count": 1,
   "metadata": {},
   "outputs": [
    {
     "output_type": "error",
     "ename": "NameError",
     "evalue": "name 'suma_con_3' is not defined",
     "traceback": [
      "\u001b[1;31m---------------------------------------------------------------------------\u001b[0m",
      "\u001b[1;31mNameError\u001b[0m                                 Traceback (most recent call last)",
      "\u001b[1;32m<ipython-input-1-0d34bbbfdaae>\u001b[0m in \u001b[0;36m<module>\u001b[1;34m\u001b[0m\n\u001b[0;32m      3\u001b[0m     \u001b[1;32mif\u001b[0m \u001b[0mnumero\u001b[0m \u001b[1;33m==\u001b[0m \u001b[1;34m\"STOP\"\u001b[0m\u001b[1;33m:\u001b[0m\u001b[1;33m\u001b[0m\u001b[1;33m\u001b[0m\u001b[0m\n\u001b[0;32m      4\u001b[0m         \u001b[1;32mbreak\u001b[0m\u001b[1;33m\u001b[0m\u001b[1;33m\u001b[0m\u001b[0m\n\u001b[1;32m----> 5\u001b[1;33m     \u001b[0msuma_con_3\u001b[0m\u001b[1;33m(\u001b[0m\u001b[0mparam\u001b[0m\u001b[1;33m=\u001b[0m\u001b[0mint\u001b[0m\u001b[1;33m(\u001b[0m\u001b[0mnumero\u001b[0m\u001b[1;33m)\u001b[0m\u001b[1;33m)\u001b[0m\u001b[1;33m\u001b[0m\u001b[1;33m\u001b[0m\u001b[0m\n\u001b[0m",
      "\u001b[1;31mNameError\u001b[0m: name 'suma_con_3' is not defined"
     ]
    }
   ],
   "source": [
    "while True:\n",
    "    numero = input(\"Escribe un numero: \")\n",
    "    if numero == \"STOP\":\n",
    "        break\n",
    "    suma_con_3(param=int(numero))"
   ]
  },
  {
   "cell_type": "code",
   "execution_count": 17,
   "metadata": {},
   "outputs": [
    {
     "output_type": "error",
     "ename": "NameError",
     "evalue": "name 'suma_con_3' is not defined",
     "traceback": [
      "\u001b[1;31m---------------------------------------------------------------------------\u001b[0m",
      "\u001b[1;31mNameError\u001b[0m                                 Traceback (most recent call last)",
      "\u001b[1;32m<ipython-input-17-9820e9f29458>\u001b[0m in \u001b[0;36m<module>\u001b[1;34m\u001b[0m\n\u001b[0;32m      1\u001b[0m \u001b[1;32mwhile\u001b[0m \u001b[0mnumero\u001b[0m\u001b[1;33m!=\u001b[0m \u001b[1;34m\"STOP\"\u001b[0m\u001b[1;33m:\u001b[0m\u001b[1;33m\u001b[0m\u001b[1;33m\u001b[0m\u001b[0m\n\u001b[0;32m      2\u001b[0m     \u001b[0mnumero\u001b[0m \u001b[1;33m=\u001b[0m \u001b[0minput\u001b[0m\u001b[1;33m(\u001b[0m\u001b[1;34m\"Escribe un numero: \"\u001b[0m\u001b[1;33m)\u001b[0m\u001b[1;33m\u001b[0m\u001b[1;33m\u001b[0m\u001b[0m\n\u001b[1;32m----> 3\u001b[1;33m     \u001b[0msuma_con_3\u001b[0m\u001b[1;33m(\u001b[0m\u001b[0mparam\u001b[0m\u001b[1;33m=\u001b[0m\u001b[0mint\u001b[0m\u001b[1;33m(\u001b[0m\u001b[0mnumero\u001b[0m\u001b[1;33m)\u001b[0m\u001b[1;33m)\u001b[0m\u001b[1;33m\u001b[0m\u001b[1;33m\u001b[0m\u001b[0m\n\u001b[0m\u001b[0;32m      4\u001b[0m \u001b[1;31m# Esto da error porque el stop es un str, no lo puede analizar y no puede cumplir la condicion de pararse\u001b[0m\u001b[1;33m\u001b[0m\u001b[1;33m\u001b[0m\u001b[1;33m\u001b[0m\u001b[0m\n",
      "\u001b[1;31mNameError\u001b[0m: name 'suma_con_3' is not defined"
     ]
    }
   ],
   "source": [
    "while numero!= \"STOP\":\n",
    "    numero = input(\"Escribe un numero: \")\n",
    "    suma_con_3(param=int(numero))\n",
    "# Esto da error porque el stop es un str, no lo puede analizar y no puede cumplir la condicion de pararse"
   ]
  },
  {
   "cell_type": "code",
   "execution_count": 18,
   "metadata": {},
   "outputs": [
    {
     "output_type": "error",
     "ename": "NameError",
     "evalue": "name 'suma_con_3' is not defined",
     "traceback": [
      "\u001b[1;31m---------------------------------------------------------------------------\u001b[0m",
      "\u001b[1;31mNameError\u001b[0m                                 Traceback (most recent call last)",
      "\u001b[1;32m<ipython-input-18-84a40c4f5789>\u001b[0m in \u001b[0;36m<module>\u001b[1;34m\u001b[0m\n\u001b[0;32m      7\u001b[0m         \u001b[1;32mbreak\u001b[0m\u001b[1;33m\u001b[0m\u001b[1;33m\u001b[0m\u001b[0m\n\u001b[0;32m      8\u001b[0m     \u001b[1;32melif\u001b[0m \u001b[0mnumero\u001b[0m\u001b[1;33m.\u001b[0m\u001b[0misdigit\u001b[0m\u001b[1;33m(\u001b[0m\u001b[1;33m)\u001b[0m\u001b[1;33m:\u001b[0m     \u001b[1;31m# La función .isdigit() comprueba si tengo números enteros, un float sería falso. Para comprobarlo con un número con decimales necesitaríamos otra función.\u001b[0m\u001b[1;33m\u001b[0m\u001b[1;33m\u001b[0m\u001b[0m\n\u001b[1;32m----> 9\u001b[1;33m         \u001b[0msuma_con_3\u001b[0m\u001b[1;33m(\u001b[0m\u001b[0mparam\u001b[0m\u001b[1;33m=\u001b[0m\u001b[0mint\u001b[0m\u001b[1;33m(\u001b[0m\u001b[0mnumero\u001b[0m\u001b[1;33m)\u001b[0m\u001b[1;33m)\u001b[0m\u001b[1;33m\u001b[0m\u001b[1;33m\u001b[0m\u001b[0m\n\u001b[0m\u001b[0;32m     10\u001b[0m     \u001b[1;32melse\u001b[0m\u001b[1;33m:\u001b[0m\u001b[1;33m\u001b[0m\u001b[1;33m\u001b[0m\u001b[0m\n\u001b[0;32m     11\u001b[0m         \u001b[0mprint\u001b[0m\u001b[1;33m(\u001b[0m\u001b[1;34m\"Inserta solo números o STOP\"\u001b[0m\u001b[1;33m)\u001b[0m   \u001b[1;31m# Pero el while sigue porque no le he mandado parar\u001b[0m\u001b[1;33m\u001b[0m\u001b[1;33m\u001b[0m\u001b[0m\n",
      "\u001b[1;31mNameError\u001b[0m: name 'suma_con_3' is not defined"
     ]
    }
   ],
   "source": [
    "# Quiero que el bucle pare si alguien entra una letra en vez de números solo. Mientras que mantenemos la orden de STOP con esa palabra.\n",
    "\n",
    "while True:\n",
    "    numero = input(\"Escribe un numero: \")\n",
    "    if numero == \"STOP\":\n",
    "        print(\"Has parado\")\n",
    "        break\n",
    "    elif numero.isdigit():     # La función .isdigit() comprueba si tengo números enteros, un float sería falso. Para comprobarlo con un número con decimales necesitaríamos otra función.\n",
    "        suma_con_3(param=int(numero))\n",
    "    else:\n",
    "        print(\"Inserta solo números o STOP\")   # Pero el while sigue porque no le he mandado parar"
   ]
  },
  {
   "source": [
    "### Continue or Break"
   ],
   "cell_type": "markdown",
   "metadata": {}
  },
  {
   "cell_type": "code",
   "execution_count": 136,
   "metadata": {},
   "outputs": [
    {
     "output_type": "stream",
     "name": "stdout",
     "text": [
      "..............\npos:  1\nv_elem:  x\n..............\npos:  4\nv_elem:  y\n"
     ]
    }
   ],
   "source": [
    "l = [2, \"x\", 6, [0,2], \"y\"]\n",
    "for pos, v_elem in enumerate(l):\n",
    "    if isinstance(v_elem, str):\n",
    "        print(\"..............\")\n",
    "        print(\"pos: \", pos)\n",
    "        print(\"v_elem: \", v_elem)"
   ]
  },
  {
   "cell_type": "code",
   "execution_count": 138,
   "metadata": {},
   "outputs": [
    {
     "output_type": "stream",
     "name": "stdout",
     "text": [
      "..............\n..............\n"
     ]
    }
   ],
   "source": [
    "l = [2, \"x\", 6, [0,2], \"y\"]\n",
    "for pos, v_elem in enumerate(l):\n",
    "    if isinstance(v_elem, str):\n",
    "        print(\"..............\")\n",
    "        continue    # nos manda continuar pero volvemos a empezar en el for, ya no leemos los prints de debajo\n",
    "        print(\"pos: \", pos)\n",
    "        print(\"v_elem: \", v_elem)"
   ]
  },
  {
   "cell_type": "code",
   "execution_count": 142,
   "metadata": {},
   "outputs": [
    {
     "output_type": "stream",
     "name": "stdout",
     "text": [
      "esto\nesto\nesto\nesto\n"
     ]
    }
   ],
   "source": [
    "for pos, v_elem in enumerate(l):\n",
    "    if v_elem == 6:\n",
    "        continue\n",
    "    else:\n",
    "        print(\"esto\")"
   ]
  },
  {
   "cell_type": "code",
   "execution_count": null,
   "metadata": {},
   "outputs": [],
   "source": [
    "# El continue no suele ser buena praxis porque significa que hay otra forma de hacer lo mismo mas sencillamente"
   ]
  },
  {
   "cell_type": "code",
   "execution_count": 51,
   "metadata": {},
   "outputs": [
    {
     "output_type": "stream",
     "name": "stdout",
     "text": [
      "False\nFalse\n"
     ]
    }
   ],
   "source": [
    "s = \"321.124\"\n",
    "\n",
    "is_numeric = True\n",
    "num_points = 0\n",
    "for x in s:\n",
    "    if not x.isdigit():\n",
    "        is_numeric = False\n",
    "        if \".\" == x:\n",
    "            print(is_numeric)\n",
    "            \n",
    "print(is_numeric)"
   ]
  },
  {
   "cell_type": "code",
   "execution_count": 98,
   "metadata": {},
   "outputs": [
    {
     "output_type": "execute_result",
     "data": {
      "text/plain": [
       "True"
      ]
     },
     "metadata": {},
     "execution_count": 98
    }
   ],
   "source": [
    "def is_numeric(string):\n",
    "    num = True\n",
    "    points = 0\n",
    "    for x in string:\n",
    "        if x.isdigit() == False and x == '.':\n",
    "            if points < 1:\n",
    "                points += 1\n",
    "                continue\n",
    "            else:\n",
    "                num = False\n",
    "                break\n",
    "        elif x.isdigit() == False:\n",
    "            num = False\n",
    "    return num\n",
    "\n",
    "is_numeric(\"148.62\")"
   ]
  },
  {
   "cell_type": "code",
   "execution_count": 1,
   "metadata": {},
   "outputs": [
    {
     "output_type": "stream",
     "name": "stdout",
     "text": [
      "{2: 'k', 3: 'l'}\nl\n{2: 'k'}\n"
     ]
    }
   ],
   "source": [
    "d = {2:\"k\", 3:\"l\"}\n",
    "print(d)\n",
    "print(d.pop(3))\n",
    "print(d)"
   ]
  },
  {
   "cell_type": "code",
   "execution_count": 4,
   "metadata": {},
   "outputs": [
    {
     "output_type": "stream",
     "name": "stdout",
     "text": [
      "acumulador: 0\n",
      "acumulador: 1\n",
      "acumulador: 2\n"
     ]
    }
   ],
   "source": [
    "import time\n",
    "\n",
    "acumulador = 0\n",
    "while acumulador < 3:\n",
    "    print(\"acumulador:\", acumulador)\n",
    "    time.sleep(1)   # Esta función hace que los prints aparezcan con 1 segundo de diferencia\n",
    "    acumulador += 1\n"
   ]
  },
  {
   "cell_type": "code",
   "execution_count": 157,
   "metadata": {},
   "outputs": [
    {
     "output_type": "execute_result",
     "data": {
      "text/plain": [
       "[2, 'x', 34, 60]"
      ]
     },
     "metadata": {},
     "execution_count": 157
    }
   ],
   "source": [
    "# Insertar un valor en una posición especifica\n",
    "\n",
    "lista = [2, 34, 60]\n",
    "lista.insert(1,\"x\")     # el 1 representa la posición uno\n",
    "\n",
    "lista"
   ]
  },
  {
   "cell_type": "code",
   "execution_count": null,
   "metadata": {},
   "outputs": [],
   "source": [
    "diccionario.item()\n",
    "# Me da todos los elementos del diccionario (keys y values) en formato tupla\n",
    "# Es lo mismo que decir for k, v in diccionario.items():"
   ]
  },
  {
   "cell_type": "code",
   "execution_count": 52,
   "metadata": {},
   "outputs": [
    {
     "output_type": "execute_result",
     "data": {
      "text/plain": [
       "{9: {'v': 4}}"
      ]
     },
     "metadata": {},
     "execution_count": 52
    }
   ],
   "source": [
    "# Cambiar un valor de un diccionario dentro de otro\n",
    "X = {9: {\"v\": 22}}\n",
    "# Cambiar el 22\n",
    "X[9][\"v\"] = 4\n",
    "X"
   ]
  },
  {
   "cell_type": "code",
   "execution_count": 25,
   "metadata": {},
   "outputs": [
    {
     "output_type": "error",
     "ename": "TypeError",
     "evalue": "'set' object is not subscriptable",
     "traceback": [
      "\u001b[1;31m---------------------------------------------------------------------------\u001b[0m",
      "\u001b[1;31mTypeError\u001b[0m                                 Traceback (most recent call last)",
      "\u001b[1;32m<ipython-input-25-3d8a2cd0aab4>\u001b[0m in \u001b[0;36m<module>\u001b[1;34m\u001b[0m\n\u001b[0;32m      2\u001b[0m \u001b[0mb\u001b[0m \u001b[1;33m=\u001b[0m \u001b[1;33m{\u001b[0m\u001b[1;36m1\u001b[0m\u001b[1;33m:\u001b[0m\u001b[1;36m2\u001b[0m\u001b[1;33m}\u001b[0m\u001b[1;33m\u001b[0m\u001b[1;33m\u001b[0m\u001b[0m\n\u001b[0;32m      3\u001b[0m \u001b[1;33m\u001b[0m\u001b[0m\n\u001b[1;32m----> 4\u001b[1;33m \u001b[0ma\u001b[0m\u001b[1;33m[\u001b[0m\u001b[1;36m2\u001b[0m\u001b[1;33m]\u001b[0m\u001b[1;33m\u001b[0m\u001b[1;33m\u001b[0m\u001b[0m\n\u001b[0m",
      "\u001b[1;31mTypeError\u001b[0m: 'set' object is not subscriptable"
     ]
    }
   ],
   "source": [
    "a = {3,3} \n",
    "b = {1:2}\n",
    "\n",
    "a[2]"
   ]
  },
  {
   "cell_type": "code",
   "execution_count": 22,
   "metadata": {},
   "outputs": [
    {
     "output_type": "error",
     "ename": "SyntaxError",
     "evalue": "positional argument follows keyword argument (<ipython-input-22-eb8454e19f29>, line 4)",
     "traceback": [
      "\u001b[1;36m  File \u001b[1;32m\"<ipython-input-22-eb8454e19f29>\"\u001b[1;36m, line \u001b[1;32m4\u001b[0m\n\u001b[1;33m    suma(b=3, a==2)\u001b[0m\n\u001b[1;37m             ^\u001b[0m\n\u001b[1;31mSyntaxError\u001b[0m\u001b[1;31m:\u001b[0m positional argument follows keyword argument\n"
     ]
    }
   ],
   "source": [
    "def suma(a,b):\n",
    "    return a + b\n",
    "\n",
    "suma(b=3, a==2)"
   ]
  },
  {
   "cell_type": "code",
   "execution_count": 54,
   "metadata": {},
   "outputs": [
    {
     "output_type": "execute_result",
     "data": {
      "text/plain": [
       "{9: {'v': 4, 'z': 1}, 'y': 56}"
      ]
     },
     "metadata": {},
     "execution_count": 54
    }
   ],
   "source": [
    "# Añadir valores a una clave existente\n",
    "X[9][\"z\"] = 1\n",
    "X"
   ]
  },
  {
   "cell_type": "code",
   "execution_count": 55,
   "metadata": {},
   "outputs": [
    {
     "output_type": "execute_result",
     "data": {
      "text/plain": [
       "{9: {'v': 4, 'z': 2}, 'y': 56}"
      ]
     },
     "metadata": {},
     "execution_count": 55
    }
   ],
   "source": [
    "# Sumar uno al valor de 'z' = 1\n",
    "X[9][\"z\"] = X[9][\"z\"] + 1\n",
    "X"
   ]
  },
  {
   "cell_type": "code",
   "execution_count": 56,
   "metadata": {},
   "outputs": [],
   "source": [
    "X = {9: {\"v\": 22}}\n",
    "Y = [set((list(X.items())[0][0], True,33)), 44]\n",
    "Z = (77, {-120: [set(), \"Data Science\"]})"
   ]
  },
  {
   "cell_type": "code",
   "execution_count": 57,
   "metadata": {},
   "outputs": [
    {
     "output_type": "stream",
     "name": "stdout",
     "text": [
      "33\n"
     ]
    }
   ],
   "source": [
    "# Mediante un for mostrar el valor 33 de Y\n",
    "# Si no especificasen podemos pasar a lista el set: list(Y[0][-1])\n",
    "# El 33 esta en un conjunto. No podemos acceder a un conjunto\n",
    "\n",
    "for elem in Y[0]:\n",
    "    if elem == 33:\n",
    "        print(elem)"
   ]
  },
  {
   "cell_type": "code",
   "execution_count": 44,
   "metadata": {},
   "outputs": [
    {
     "output_type": "stream",
     "name": "stdout",
     "text": [
      "33\n"
     ]
    }
   ],
   "source": [
    "# Si no se la posición del cojunto:\n",
    "\n",
    "for elem in Y:\n",
    "    if isinstance (elem, set):\n",
    "        for v_elem in elem:\n",
    "            if v_elem == 33:\n",
    "                print(v_elem)\n"
   ]
  },
  {
   "cell_type": "code",
   "execution_count": 63,
   "metadata": {},
   "outputs": [
    {
     "output_type": "execute_result",
     "data": {
      "text/plain": [
       "'e'"
      ]
     },
     "metadata": {},
     "execution_count": 63
    }
   ],
   "source": [
    "# Acceder a la primera 'e' de 'Data Science' en Z\n",
    "\n",
    "Z[1][-120][1][8]"
   ]
  },
  {
   "cell_type": "code",
   "execution_count": 60,
   "metadata": {},
   "outputs": [],
   "source": [
    "conjuntos =  {10:(85,\"TV\", True), \"K\":[(6, [False], 22)], (6,5): {True, 9,34}, \"Data Scientist\": {9:{\"v\": 22}}, (9, True, 33): (77, {-120: [set(), \"Data Scientist\"]}), \"last\": \"t\"}\n"
   ]
  },
  {
   "cell_type": "code",
   "execution_count": 61,
   "metadata": {},
   "outputs": [
    {
     "output_type": "execute_result",
     "data": {
      "text/plain": [
       "99"
      ]
     },
     "metadata": {},
     "execution_count": 61
    }
   ],
   "source": [
    "# Sumar el 22 de la clave 'Data Scientist' con el 77\n",
    "veintidos = conjuntos['Data Scientist'][9][\"v\"]\n",
    "setenta_siete = conjuntos[(9, True, 33)][0]\n",
    "suma = veintidos + setenta_siete\n",
    "suma"
   ]
  },
  {
   "cell_type": "code",
   "execution_count": 62,
   "metadata": {},
   "outputs": [
    {
     "output_type": "stream",
     "name": "stdout",
     "text": [
      "43\n"
     ]
    }
   ],
   "source": [
    "# Función que te devuelva la suma de las claves 10 y 33 (dentro de tupla)\n",
    "\n",
    "def suma_claves(d):\n",
    "    diez = list(d.keys())[0]\n",
    "    treinta_tres = list(d.keys())[4][2]\n",
    "    suma = diez + treinta_tres\n",
    "    return suma\n",
    "\n",
    "x = suma_claves(d=conjuntos)\n",
    "print(x)\n"
   ]
  },
  {
   "cell_type": "code",
   "execution_count": null,
   "metadata": {},
   "outputs": [],
   "source": [
    "# Llamar a una función dentro de otra función\n",
    "\n",
    "def f1():\n",
    "    print(2)\n",
    "\n",
    "def f2(una_funcion):\n",
    "\n",
    "#llamar a f1 desde f2\n",
    "    una funcion()\n",
    "\n",
    "f2_(una_funcion=f1)"
   ]
  },
  {
   "cell_type": "code",
   "execution_count": null,
   "metadata": {},
   "outputs": [],
   "source": [
    "# Esto no es lo mismo: \n",
    "# Aqui es la llamada a la función == lo que retorna la función f1\n",
    "\n",
    "f2_recibe_f1(f1(whichever_list = info_list))\n",
    "\n",
    "# No es lo mismo a: \n",
    "# La referencia a la función f1\n",
    "\n",
    "f2_recibe_f1(f1)"
   ]
  },
  {
   "cell_type": "code",
   "execution_count": 96,
   "metadata": {},
   "outputs": [
    {
     "output_type": "stream",
     "name": "stdout",
     "text": [
      "HOLA\n"
     ]
    }
   ],
   "source": [
    "# func = up por lo que fuerza a que up se ejecute dentro de f_recibe_funcion\n",
    "# Si dijesemos func= up (text=\"Hola\") esto sería el retorno de la función up y haríamos f_recibe_funcion (\"hola\") y saldría error. Enseñado en la siguiente celda\n",
    "\n",
    "def up (text):\n",
    "    return text.upper()\n",
    "\n",
    "def f_recibe_funcion (func):\n",
    "    print(func(\"Hola\"))\n",
    "\n",
    "f_recibe_funcion(func=up)"
   ]
  },
  {
   "cell_type": "code",
   "execution_count": 9,
   "metadata": {},
   "outputs": [
    {
     "output_type": "error",
     "ename": "TypeError",
     "evalue": "'str' object is not callable",
     "traceback": [
      "\u001b[1;31m---------------------------------------------------------------------------\u001b[0m",
      "\u001b[1;31mTypeError\u001b[0m                                 Traceback (most recent call last)",
      "\u001b[1;32m<ipython-input-9-aceef59aab4e>\u001b[0m in \u001b[0;36m<module>\u001b[1;34m\u001b[0m\n\u001b[0;32m      5\u001b[0m     \u001b[0mprint\u001b[0m\u001b[1;33m(\u001b[0m\u001b[0mfunc\u001b[0m\u001b[1;33m(\u001b[0m\u001b[1;34m\"Hola\"\u001b[0m\u001b[1;33m)\u001b[0m\u001b[1;33m)\u001b[0m\u001b[1;33m\u001b[0m\u001b[1;33m\u001b[0m\u001b[0m\n\u001b[0;32m      6\u001b[0m \u001b[1;33m\u001b[0m\u001b[0m\n\u001b[1;32m----> 7\u001b[1;33m \u001b[0mf_recibe_funcion\u001b[0m\u001b[1;33m(\u001b[0m\u001b[0mfunc\u001b[0m\u001b[1;33m=\u001b[0m\u001b[0mup\u001b[0m\u001b[1;33m(\u001b[0m\u001b[0mtext\u001b[0m\u001b[1;33m=\u001b[0m\u001b[1;34m\"hola\"\u001b[0m\u001b[1;33m)\u001b[0m\u001b[1;33m)\u001b[0m\u001b[1;33m\u001b[0m\u001b[1;33m\u001b[0m\u001b[0m\n\u001b[0m",
      "\u001b[1;32m<ipython-input-9-aceef59aab4e>\u001b[0m in \u001b[0;36mf_recibe_funcion\u001b[1;34m(func)\u001b[0m\n\u001b[0;32m      3\u001b[0m \u001b[1;33m\u001b[0m\u001b[0m\n\u001b[0;32m      4\u001b[0m \u001b[1;32mdef\u001b[0m \u001b[0mf_recibe_funcion\u001b[0m \u001b[1;33m(\u001b[0m\u001b[0mfunc\u001b[0m\u001b[1;33m)\u001b[0m\u001b[1;33m:\u001b[0m\u001b[1;33m\u001b[0m\u001b[1;33m\u001b[0m\u001b[0m\n\u001b[1;32m----> 5\u001b[1;33m     \u001b[0mprint\u001b[0m\u001b[1;33m(\u001b[0m\u001b[0mfunc\u001b[0m\u001b[1;33m(\u001b[0m\u001b[1;34m\"Hola\"\u001b[0m\u001b[1;33m)\u001b[0m\u001b[1;33m)\u001b[0m\u001b[1;33m\u001b[0m\u001b[1;33m\u001b[0m\u001b[0m\n\u001b[0m\u001b[0;32m      6\u001b[0m \u001b[1;33m\u001b[0m\u001b[0m\n\u001b[0;32m      7\u001b[0m \u001b[0mf_recibe_funcion\u001b[0m\u001b[1;33m(\u001b[0m\u001b[0mfunc\u001b[0m\u001b[1;33m=\u001b[0m\u001b[0mup\u001b[0m\u001b[1;33m(\u001b[0m\u001b[0mtext\u001b[0m\u001b[1;33m=\u001b[0m\u001b[1;34m\"hola\"\u001b[0m\u001b[1;33m)\u001b[0m\u001b[1;33m)\u001b[0m\u001b[1;33m\u001b[0m\u001b[1;33m\u001b[0m\u001b[0m\n",
      "\u001b[1;31mTypeError\u001b[0m: 'str' object is not callable"
     ]
    }
   ],
   "source": [
    "def up (text):\n",
    "    return text.upper()\n",
    "\n",
    "def f_recibe_funcion (func):\n",
    "    print(func(\"Hola\"))\n",
    "\n",
    "f_recibe_funcion(func=up(text=\"hola\"))"
   ]
  },
  {
   "cell_type": "code",
   "execution_count": null,
   "metadata": {},
   "outputs": [],
   "source": [
    "def up (text):\n",
    "    return text.upper()\n",
    "\n",
    "def f_recibe_funcion (func):\n",
    "    print(func(\"Hola\"))\n"
   ]
  },
  {
   "cell_type": "code",
   "execution_count": 99,
   "metadata": {},
   "outputs": [
    {
     "output_type": "stream",
     "name": "stdout",
     "text": [
      "HOLA\n"
     ]
    }
   ],
   "source": [
    "def up (text):\n",
    "    return text.upper()\n",
    "\n",
    "def f_recibe_funcion (func):    # func = up aqui. Es como si la re-nombrasemos\n",
    "    print(func(text=\"Hola\"))    # func = up aqui. Es como si la re-nombrasemos. Esto también funciona porque el valor del parametro                                     de la función up había sido definido como text\n",
    "\n",
    "f_recibe_funcion(func=up)"
   ]
  },
  {
   "cell_type": "code",
   "execution_count": 100,
   "metadata": {},
   "outputs": [
    {
     "output_type": "error",
     "ename": "TypeError",
     "evalue": "up() got an unexpected keyword argument 'otro'",
     "traceback": [
      "\u001b[1;31m---------------------------------------------------------------------------\u001b[0m",
      "\u001b[1;31mTypeError\u001b[0m                                 Traceback (most recent call last)",
      "\u001b[1;32m<ipython-input-100-1e58b9f91d5f>\u001b[0m in \u001b[0;36m<module>\u001b[1;34m\u001b[0m\n\u001b[0;32m      5\u001b[0m     \u001b[0mprint\u001b[0m\u001b[1;33m(\u001b[0m\u001b[0mfunc\u001b[0m\u001b[1;33m(\u001b[0m\u001b[0motro\u001b[0m\u001b[1;33m=\u001b[0m\u001b[1;34m\"Hola\"\u001b[0m\u001b[1;33m)\u001b[0m\u001b[1;33m)\u001b[0m\u001b[1;33m\u001b[0m\u001b[1;33m\u001b[0m\u001b[0m\n\u001b[0;32m      6\u001b[0m \u001b[1;33m\u001b[0m\u001b[0m\n\u001b[1;32m----> 7\u001b[1;33m \u001b[0mf_recibe_funcion\u001b[0m\u001b[1;33m(\u001b[0m\u001b[0mfunc\u001b[0m\u001b[1;33m=\u001b[0m\u001b[0mup\u001b[0m\u001b[1;33m)\u001b[0m\u001b[1;33m\u001b[0m\u001b[1;33m\u001b[0m\u001b[0m\n\u001b[0m",
      "\u001b[1;32m<ipython-input-100-1e58b9f91d5f>\u001b[0m in \u001b[0;36mf_recibe_funcion\u001b[1;34m(func)\u001b[0m\n\u001b[0;32m      3\u001b[0m \u001b[1;33m\u001b[0m\u001b[0m\n\u001b[0;32m      4\u001b[0m \u001b[1;32mdef\u001b[0m \u001b[0mf_recibe_funcion\u001b[0m \u001b[1;33m(\u001b[0m\u001b[0mfunc\u001b[0m\u001b[1;33m)\u001b[0m\u001b[1;33m:\u001b[0m\u001b[1;33m\u001b[0m\u001b[1;33m\u001b[0m\u001b[0m\n\u001b[1;32m----> 5\u001b[1;33m     \u001b[0mprint\u001b[0m\u001b[1;33m(\u001b[0m\u001b[0mfunc\u001b[0m\u001b[1;33m(\u001b[0m\u001b[0motro\u001b[0m\u001b[1;33m=\u001b[0m\u001b[1;34m\"Hola\"\u001b[0m\u001b[1;33m)\u001b[0m\u001b[1;33m)\u001b[0m\u001b[1;33m\u001b[0m\u001b[1;33m\u001b[0m\u001b[0m\n\u001b[0m\u001b[0;32m      6\u001b[0m \u001b[1;33m\u001b[0m\u001b[0m\n\u001b[0;32m      7\u001b[0m \u001b[0mf_recibe_funcion\u001b[0m\u001b[1;33m(\u001b[0m\u001b[0mfunc\u001b[0m\u001b[1;33m=\u001b[0m\u001b[0mup\u001b[0m\u001b[1;33m)\u001b[0m\u001b[1;33m\u001b[0m\u001b[1;33m\u001b[0m\u001b[0m\n",
      "\u001b[1;31mTypeError\u001b[0m: up() got an unexpected keyword argument 'otro'"
     ]
    }
   ],
   "source": [
    "def up (text):\n",
    "    return text.upper()\n",
    "\n",
    "def f_recibe_funcion (func):\n",
    "    print(func(otro=\"Hola\"))   # Sale error porque el parámetro de la función up es 'text' y no 'otro'\n",
    "\n",
    "f_recibe_funcion(func=up)"
   ]
  },
  {
   "cell_type": "code",
   "execution_count": 104,
   "metadata": {},
   "outputs": [
    {
     "output_type": "error",
     "ename": "NameError",
     "evalue": "name 'primero' is not defined",
     "traceback": [
      "\u001b[1;31m---------------------------------------------------------------------------\u001b[0m",
      "\u001b[1;31mNameError\u001b[0m                                 Traceback (most recent call last)",
      "\u001b[1;32m<ipython-input-104-8e70f7a7468a>\u001b[0m in \u001b[0;36m<module>\u001b[1;34m\u001b[0m\n\u001b[0;32m      8\u001b[0m     \u001b[0mf1\u001b[0m\u001b[1;33m(\u001b[0m\u001b[0mlista\u001b[0m\u001b[1;33m=\u001b[0m\u001b[0mlista1\u001b[0m\u001b[1;33m)\u001b[0m\u001b[1;33m\u001b[0m\u001b[1;33m\u001b[0m\u001b[0m\n\u001b[0;32m      9\u001b[0m \u001b[1;33m\u001b[0m\u001b[0m\n\u001b[1;32m---> 10\u001b[1;33m \u001b[0mg2\u001b[0m\u001b[1;33m(\u001b[0m\u001b[1;33m)\u001b[0m\u001b[1;33m\u001b[0m\u001b[1;33m\u001b[0m\u001b[0m\n\u001b[0m",
      "\u001b[1;32m<ipython-input-104-8e70f7a7468a>\u001b[0m in \u001b[0;36mg2\u001b[1;34m()\u001b[0m\n\u001b[0;32m      6\u001b[0m     \u001b[0mprimero\u001b[0m \u001b[1;33m=\u001b[0m \u001b[1;36m4\u001b[0m\u001b[1;33m\u001b[0m\u001b[1;33m\u001b[0m\u001b[0m\n\u001b[0;32m      7\u001b[0m     \u001b[0mlista1\u001b[0m\u001b[1;33m=\u001b[0m \u001b[1;33m[\u001b[0m\u001b[1;36m4\u001b[0m\u001b[1;33m,\u001b[0m\u001b[1;36m2\u001b[0m\u001b[1;33m]\u001b[0m\u001b[1;33m\u001b[0m\u001b[1;33m\u001b[0m\u001b[0m\n\u001b[1;32m----> 8\u001b[1;33m     \u001b[0mf1\u001b[0m\u001b[1;33m(\u001b[0m\u001b[0mlista\u001b[0m\u001b[1;33m=\u001b[0m\u001b[0mlista1\u001b[0m\u001b[1;33m)\u001b[0m\u001b[1;33m\u001b[0m\u001b[1;33m\u001b[0m\u001b[0m\n\u001b[0m\u001b[0;32m      9\u001b[0m \u001b[1;33m\u001b[0m\u001b[0m\n\u001b[0;32m     10\u001b[0m \u001b[0mg2\u001b[0m\u001b[1;33m(\u001b[0m\u001b[1;33m)\u001b[0m\u001b[1;33m\u001b[0m\u001b[1;33m\u001b[0m\u001b[0m\n",
      "\u001b[1;32m<ipython-input-104-8e70f7a7468a>\u001b[0m in \u001b[0;36mf1\u001b[1;34m(lista)\u001b[0m\n\u001b[0;32m      1\u001b[0m \u001b[1;32mdef\u001b[0m \u001b[0mf1\u001b[0m \u001b[1;33m(\u001b[0m\u001b[0mlista\u001b[0m\u001b[1;33m)\u001b[0m\u001b[1;33m:\u001b[0m\u001b[1;33m\u001b[0m\u001b[1;33m\u001b[0m\u001b[0m\n\u001b[0;32m      2\u001b[0m     \u001b[1;32mfor\u001b[0m \u001b[0mx\u001b[0m \u001b[1;32min\u001b[0m \u001b[0mlista\u001b[0m\u001b[1;33m:\u001b[0m\u001b[1;33m\u001b[0m\u001b[1;33m\u001b[0m\u001b[0m\n\u001b[1;32m----> 3\u001b[1;33m         \u001b[0mprint\u001b[0m\u001b[1;33m(\u001b[0m\u001b[0mx\u001b[0m \u001b[1;33m+\u001b[0m \u001b[0mprimero\u001b[0m\u001b[1;33m)\u001b[0m\u001b[1;33m\u001b[0m\u001b[1;33m\u001b[0m\u001b[0m\n\u001b[0m\u001b[0;32m      4\u001b[0m \u001b[1;33m\u001b[0m\u001b[0m\n\u001b[0;32m      5\u001b[0m \u001b[1;32mdef\u001b[0m \u001b[0mg2\u001b[0m\u001b[1;33m(\u001b[0m\u001b[1;33m)\u001b[0m\u001b[1;33m:\u001b[0m\u001b[1;33m\u001b[0m\u001b[1;33m\u001b[0m\u001b[0m\n",
      "\u001b[1;31mNameError\u001b[0m: name 'primero' is not defined"
     ]
    }
   ],
   "source": [
    "def f1 (lista):\n",
    "    for x in lista:\n",
    "        print(x + primero)\n",
    "\n",
    "def g2():\n",
    "    primero = 4\n",
    "    lista1= [4,2]\n",
    "    f1(lista=lista1)\n",
    "\n",
    "g2()\n",
    "\n",
    "# Error porque la variable de g2 es local, por lo que f1 no la reconoce"
   ]
  },
  {
   "cell_type": "code",
   "execution_count": 105,
   "metadata": {},
   "outputs": [
    {
     "output_type": "stream",
     "name": "stdout",
     "text": [
      "8\n6\n"
     ]
    },
    {
     "output_type": "execute_result",
     "data": {
      "text/plain": [
       "4"
      ]
     },
     "metadata": {},
     "execution_count": 105
    }
   ],
   "source": [
    "def f1 (lista, primero):\n",
    "    for x in lista:\n",
    "        print(x + primero)  # su return es None, que se pierde en la siguiente función g2\n",
    "\n",
    "def g2():\n",
    "    primero = 4\n",
    "    lista1= [4,2]\n",
    "    f1(lista=lista1, primero =primero)\n",
    "    return primero\n",
    "\n",
    "g2()"
   ]
  },
  {
   "cell_type": "code",
   "execution_count": 2,
   "metadata": {
    "tags": []
   },
   "outputs": [
    {
     "output_type": "stream",
     "name": "stdout",
     "text": [
      "1\n1\n1\n1\n1\n2\n2\n2\n2\n2\n"
     ]
    }
   ],
   "source": [
    "# Estos dos son lo mismo:\n",
    "\n",
    "for i in range(5):\n",
    "    print(1)\n",
    "\n",
    "contador = 0\n",
    "while contador < 5: #No incluimos el = a 10 porque empezamos el contador en cero\n",
    "    print(2)\n",
    "    contador +=1\n",
    "    "
   ]
  },
  {
   "cell_type": "code",
   "execution_count": 1,
   "metadata": {},
   "outputs": [],
   "source": [
    "conjuntos =  {10:(85,\"TV\", True), \"K\":[(6, [False], 22)], (6,5): {True, 9,33}, \"Data Scientist\": {9:{\"v\": 22}}, (9, True, 33): (77, {-120: [set(), \"Data Scientist\"]}), \"last\": \"t\"}\n",
    "\n"
   ]
  },
  {
   "cell_type": "code",
   "execution_count": 4,
   "metadata": {},
   "outputs": [
    {
     "output_type": "stream",
     "name": "stdout",
     "text": [
      "(85, 'TV', True)\n[(6, [False], 22)]\n{True, 9, 33}\n{9: {'v': 22}}\n(77, {-120: [set(), 'Data Scientist']})\nt\n"
     ]
    }
   ],
   "source": [
    "# Con while, mostrar todos los valores de 'conjuntos'\n",
    "lista_valores = list(conjuntos.values())\n",
    "\n",
    "tam_lista_valores = len(lista_valores)\n",
    "\n",
    "contador = 0    # Si usamos un bucle para entrar en una lista por posiciones necesitamos un contador\n",
    "while contador < tam_lista_valores:\n",
    "    print(lista_valores[contador])\n",
    "    contador +=1"
   ]
  },
  {
   "cell_type": "code",
   "execution_count": null,
   "metadata": {},
   "outputs": [],
   "source": []
  },
  {
   "cell_type": "code",
   "execution_count": null,
   "metadata": {},
   "outputs": [],
   "source": []
  },
  {
   "cell_type": "code",
   "execution_count": null,
   "metadata": {},
   "outputs": [],
   "source": []
  }
 ],
 "metadata": {
  "language_info": {
   "name": "python",
   "codemirror_mode": {
    "name": "ipython",
    "version": 3
   },
   "version": "3.7.4"
  },
  "orig_nbformat": 2,
  "file_extension": ".py",
  "mimetype": "text/x-python",
  "name": "python",
  "npconvert_exporter": "python",
  "pygments_lexer": "ipython3",
  "version": 3,
  "kernelspec": {
   "name": "python374jvsc74a57bd02d8a740277f67c33143a8e5c8e55f738530a350d8def4a85d8635b690074994c",
   "display_name": "Python 3.7.4 64-bit"
  },
  "metadata": {
   "interpreter": {
    "hash": "2d8a740277f67c33143a8e5c8e55f738530a350d8def4a85d8635b690074994c"
   }
  }
 },
 "nbformat": 4,
 "nbformat_minor": 2
}