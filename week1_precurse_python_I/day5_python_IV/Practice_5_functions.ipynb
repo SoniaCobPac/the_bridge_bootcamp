{
 "cells": [
  {
   "cell_type": "markdown",
   "metadata": {},
   "source": [
    "# Python | day 5 | functions"
   ]
  },
  {
   "cell_type": "markdown",
   "metadata": {},
   "source": [
    "In Python, a function is a group of related statements that performs a specific task."
   ]
  },
  {
   "cell_type": "markdown",
   "metadata": {},
   "source": [
    "https://www.programiz.com/python-programming/function"
   ]
  },
  {
   "cell_type": "markdown",
   "metadata": {},
   "source": [
    "#### Difference between `return` and `print`.\n",
    "\n",
    "Take some minutes to understand the difference between `return` and `print`, it seems to be the same, but they are not and it's important you understand the difference. "
   ]
  },
  {
   "cell_type": "code",
   "execution_count": 29,
   "metadata": {},
   "outputs": [
    {
     "output_type": "stream",
     "name": "stdout",
     "text": [
      "2\n4\n8\n"
     ]
    }
   ],
   "source": [
    "def suma(a,b):\n",
    "    print(a)\n",
    "    return a+b\n",
    "\n",
    "print(suma(suma(2,2),4))"
   ]
  },
  {
   "cell_type": "markdown",
   "metadata": {},
   "source": [
    "#### Comments in a function."
   ]
  },
  {
   "cell_type": "code",
   "execution_count": 30,
   "metadata": {},
   "outputs": [],
   "source": [
    "def say_hello(name):\n",
    "    \"\"\"\n",
    "    Given a name as an argument, \n",
    "    the function return a string greeting\n",
    "    the name given. \n",
    "    \"\"\"\n",
    "\n",
    "    return f\"hello {name}\""
   ]
  },
  {
   "cell_type": "code",
   "execution_count": 31,
   "metadata": {},
   "outputs": [
    {
     "output_type": "stream",
     "name": "stdout",
     "text": [
      "hello Clara\n"
     ]
    }
   ],
   "source": [
    "print(say_hello(\"Clara\"))"
   ]
  },
  {
   "cell_type": "code",
   "execution_count": 32,
   "metadata": {},
   "outputs": [
    {
     "output_type": "stream",
     "name": "stdout",
     "text": [
      "Help on function say_hello in module __main__:\n\nsay_hello(name)\n    Given a name as an argument, \n    the function return a string greeting\n    the name given.\n\n"
     ]
    }
   ],
   "source": [
    "help(say_hello)"
   ]
  },
  {
   "cell_type": "markdown",
   "metadata": {},
   "source": [
    "### Exercise 1. "
   ]
  },
  {
   "cell_type": "markdown",
   "metadata": {},
   "source": [
    "To solve the following exercises it will be necessary to define a function for each section. You choose the name of those functions unless specified, but make sure you define a single parameter `whichever_list`, when calling the function it will correspond to the variable `info_list`.\n",
    "```python\n",
    "def funtion_bla(whichever_list):\n",
    "    return whichever_list\n",
    "\n",
    "function_bla(info_list)\n",
    "```\n",
    "\n",
    "**In the case of not being able to solve a question containing the code in a function, try to do it without defining one.**"
   ]
  },
  {
   "cell_type": "code",
   "execution_count": 33,
   "metadata": {},
   "outputs": [],
   "source": [
    "# you can use this list or take yours from Practice 3\n",
    "info_list = [15, 'Recoletos', True, ['Recoletos', 15],  None, '8'] "
   ]
  },
  {
   "cell_type": "markdown",
   "metadata": {},
   "source": [
    "1. Display on the screen `\"I like the tranquility\"` if you like the mountains more and `\"I'd love to live in Malaga\"` if you like the beach more.\n",
    "\n"
   ]
  },
  {
   "cell_type": "code",
   "execution_count": 34,
   "metadata": {},
   "outputs": [],
   "source": [
    "#define a function which takes a single parameter `whichever_list`\n",
    "\n",
    "def preference(whichever_list):\n",
    "    \"\"\"\n",
    "    This function compares two inputs \n",
    "    and displays different statements \n",
    "    depending if the user prefers the beach or the montain. \n",
    "\n",
    "    \"\"\"\n",
    "    \n",
    "    question = input(\"Do you prefer the beach or the montain?\")\n",
    "    if question == \"beach\":\n",
    "        answer = (\"I'd love to live in Málaga\")\n",
    "    elif question == \"montain\":\n",
    "        answer = (\"I like the tranquility\")\n",
    "    else:\n",
    "        answer = (\"I haven't understood you\")\n",
    "\n",
    "    return answer"
   ]
  },
  {
   "cell_type": "code",
   "execution_count": 35,
   "metadata": {},
   "outputs": [
    {
     "output_type": "execute_result",
     "data": {
      "text/plain": [
       "\"I'd love to live in Málaga\""
      ]
     },
     "metadata": {},
     "execution_count": 35
    }
   ],
   "source": [
    "#call the function with the variable `info_list`\n",
    "preference(info_list)\n"
   ]
  },
  {
   "cell_type": "markdown",
   "metadata": {},
   "source": [
    "2. Print `\"Today I am tired\"` if you have slept less than 7 hours or `\"Today I conquer the world\"` if you have slept more than 7 hours."
   ]
  },
  {
   "cell_type": "code",
   "execution_count": 36,
   "metadata": {},
   "outputs": [],
   "source": [
    "#define a function which takes a single parameter `whichever_list`\n",
    "\n",
    "def mood(whichever_list):\n",
    "    \"\"\"\n",
    "    Given the amount of hours the user enters, \n",
    "    this function returns a statement \n",
    "    depending if the user has slept more, or less, than 7 hours.\n",
    "\n",
    "    \"\"\"\n",
    "    \n",
    "    question = int(input(\"Have you slept less than 7 hours?\"))\n",
    "    if question < 7:\n",
    "        answer = (\"Today I am tired\")\n",
    "    else:\n",
    "        answer = (\"Today I conquer the world\")\n",
    "\n",
    "    return answer"
   ]
  },
  {
   "cell_type": "code",
   "execution_count": 37,
   "metadata": {},
   "outputs": [
    {
     "output_type": "execute_result",
     "data": {
      "text/plain": [
       "'Today I am tired'"
      ]
     },
     "metadata": {},
     "execution_count": 37
    }
   ],
   "source": [
    "#call the function with the variable `info_list`\n",
    "mood(info_list)\n"
   ]
  },
  {
   "cell_type": "markdown",
   "metadata": {},
   "source": [
    "3. Loop through `whichever_list` to print all the elements it contains. This function should return the list turned into a tuple. "
   ]
  },
  {
   "cell_type": "code",
   "execution_count": 38,
   "metadata": {},
   "outputs": [],
   "source": [
    "#define a function which takes a single parameter `whichever_list`\n",
    "def full_list(whichever_list):\n",
    "    \"\"\"\n",
    "    Given a list as an argument, \n",
    "    the function prints all its elements,\n",
    "    and returns the list as a tuple.\n",
    "    \"\"\"\n",
    "    tupla = []\n",
    "    for i, elem in enumerate(whichever_list):\n",
    "        print(elem)\n",
    "\n",
    "        tupla.append(whichever_list[i])\n",
    "        if i == len(whichever_list) - 1:\n",
    "            tupla = tuple(tupla)\n",
    "    return tupla\n",
    "\n",
    "\n",
    "# Otra manera más simple de conseguir el mismo return sería la siguiente. Pero no usa el loop que se nombra en el enunciado, por lo que no sabía si en este caso sería correcto:\n",
    "# return tuple(whichever_list) "
   ]
  },
  {
   "cell_type": "code",
   "execution_count": 39,
   "metadata": {},
   "outputs": [
    {
     "output_type": "stream",
     "name": "stdout",
     "text": [
      "15\nRecoletos\nTrue\n['Recoletos', 15]\nNone\n8\n(15, 'Recoletos', True, ['Recoletos', 15], None, '8')\n"
     ]
    }
   ],
   "source": [
    "#call the function with the variable `info_list`\n",
    "x = full_list(info_list)\n",
    "\n",
    "print(x)"
   ]
  },
  {
   "cell_type": "markdown",
   "metadata": {},
   "source": [
    "4. Loop through `whichever_list` to print all the elements it contains concatenated with the string` \"--> OK\" `. This function should return a message saying, `\"everything will be ok\"`. \n"
   ]
  },
  {
   "cell_type": "code",
   "execution_count": 40,
   "metadata": {},
   "outputs": [],
   "source": [
    "#define a function which takes a single parameter `whichever_list`\n",
    "def contatenated_list (whichever_list):\n",
    "    \"\"\"\n",
    "    The function prints all its argument's elements \n",
    "    and concatenates them with the string '-->OK'.\n",
    "    \n",
    "    Argument: A list\n",
    "\n",
    "    Return: A message saying 'everything will be ok'\n",
    "\n",
    "    \"\"\"\n",
    "    nombres = \"\"\n",
    "    for i, elem in enumerate(whichever_list):\n",
    "        nombres = (f\"{nombres} -->OK {str(elem)}\")     # No se como omitir la flecha antes del primer elemento\n",
    "\n",
    "    print(nombres)\n",
    "\n",
    "    return \"Everything will be ok\"\n"
   ]
  },
  {
   "cell_type": "code",
   "execution_count": 41,
   "metadata": {},
   "outputs": [
    {
     "output_type": "stream",
     "name": "stdout",
     "text": [
      " -->OK 15 -->OK Recoletos -->OK True -->OK ['Recoletos', 15] -->OK None -->OK 8\nEverything will be ok\n"
     ]
    }
   ],
   "source": [
    "#call the function with the variable `info_list`\n",
    "\n",
    "x = contatenated_list(info_list)\n",
    "print(x)"
   ]
  },
  {
   "cell_type": "markdown",
   "metadata": {},
   "source": [
    "5. Loop through `whichever_list` to display all items it contains except the first one. This function should return the first element of the list. "
   ]
  },
  {
   "cell_type": "code",
   "execution_count": 42,
   "metadata": {},
   "outputs": [],
   "source": [
    "#define a function which takes a single parameter `whichever_list`\n",
    "def first_one_out (whichever_list):\n",
    "    \"\"\"\n",
    "    The function displays all items it contains except the first one.\n",
    "    \n",
    "    Argument: A list\n",
    "    \n",
    "    Return: The first element of the list.\n",
    "\n",
    "    \"\"\"\n",
    "    for i, elem in enumerate(whichever_list):\n",
    "        if i>0:\n",
    "            print(elem)\n",
    "        \n",
    "    return whichever_list[0]"
   ]
  },
  {
   "cell_type": "code",
   "execution_count": 43,
   "metadata": {},
   "outputs": [
    {
     "output_type": "stream",
     "name": "stdout",
     "text": [
      "Recoletos\nTrue\n['Recoletos', 15]\nNone\n8\n15\n"
     ]
    }
   ],
   "source": [
    "#call the function with the variable `info_list`\n",
    "x = first_one_out(info_list)\n",
    "\n",
    "print(x)"
   ]
  },
  {
   "cell_type": "markdown",
   "metadata": {},
   "source": [
    "6. Loop through `whichever_list` to display all the items it contains except the last one. This function should return the last element of the list. "
   ]
  },
  {
   "cell_type": "code",
   "execution_count": 44,
   "metadata": {},
   "outputs": [],
   "source": [
    "#define a function which takes a single parameter `whichever_list`\n",
    "def last_one_out (whichever_list):\n",
    "\n",
    "    \"\"\"\n",
    "    The function displays all items it contains except the last one.\n",
    "    \n",
    "    Argument: A list\n",
    "    \n",
    "    Return: The last element of the list.\n",
    "\n",
    "    \"\"\"\n",
    "\n",
    "    for i, elem in enumerate(whichever_list):\n",
    "        if i < len(whichever_list) - 1:\n",
    "            print(elem)\n",
    "            \n",
    "    return elem    \n"
   ]
  },
  {
   "cell_type": "code",
   "execution_count": 45,
   "metadata": {},
   "outputs": [
    {
     "output_type": "stream",
     "name": "stdout",
     "text": [
      "15\nRecoletos\nTrue\n['Recoletos', 15]\nNone\n8\n"
     ]
    }
   ],
   "source": [
    "#call the function with the variable `info_list`\n",
    "x = last_one_out(info_list)\n",
    "\n",
    "print(x)"
   ]
  },
  {
   "cell_type": "markdown",
   "metadata": {},
   "source": [
    "7. Loop through `whichever_list` to show all the elements it contains except the street number and the hours you've slept."
   ]
  },
  {
   "cell_type": "code",
   "execution_count": 46,
   "metadata": {},
   "outputs": [],
   "source": [
    "#define a function which takes a single parameter `whichever_list`\n",
    "\n",
    "def shorter_list (whichever_list):\n",
    "    \"\"\"\n",
    "    Given a list as an argument, \n",
    "    the function displays all items it contains, \n",
    "    except the street number and the hours you've slept.\n",
    "       \n",
    "    \"\"\"\n",
    "\n",
    "    for i, elem in enumerate(whichever_list):\n",
    "        if i > 0 and i < len(whichever_list)-1:\n",
    "            print(elem)\n",
    "    "
   ]
  },
  {
   "cell_type": "code",
   "execution_count": 47,
   "metadata": {},
   "outputs": [
    {
     "output_type": "stream",
     "name": "stdout",
     "text": [
      "Recoletos\nTrue\n['Recoletos', 15]\nNone\n"
     ]
    }
   ],
   "source": [
    "#call the function with the variable `info_list`\n",
    "shorter_list(info_list)\n"
   ]
  },
  {
   "cell_type": "markdown",
   "metadata": {},
   "source": [
    "8. Loop through `whichever_list` to print all the elements it contains except the first element of the list which is in fourth position (`'Recoletos'`). This function should return the lenght of that element. "
   ]
  },
  {
   "cell_type": "code",
   "execution_count": 48,
   "metadata": {},
   "outputs": [],
   "source": [
    "#define a function which takes a single parameter `whichever_list`\n",
    "\n",
    "\n",
    "def list_item_out (whichever_list):\n",
    "    \"\"\"\n",
    "    The function prints all its elements, \n",
    "    except the first element of the list it has in the fourth position.\n",
    "\n",
    "    Argument: A list\n",
    "\n",
    "    Return: The lenght of the omitted element.\n",
    "\n",
    "    \"\"\"  \n",
    "    for i, elem in enumerate(whichever_list):\n",
    "        if i != 3:\n",
    "            print(elem)\n",
    "        else:\n",
    "            print(elem[1])\n",
    "    return len(whichever_list[3][0])\n",
    "            "
   ]
  },
  {
   "cell_type": "code",
   "execution_count": 49,
   "metadata": {},
   "outputs": [
    {
     "output_type": "stream",
     "name": "stdout",
     "text": [
      "15\nRecoletos\nTrue\n15\nNone\n8\n9\n"
     ]
    }
   ],
   "source": [
    "#call the function with the variable `info_list`\n",
    "x = list_item_out (info_list)\n",
    "\n",
    "print(x)"
   ]
  },
  {
   "cell_type": "markdown",
   "metadata": {},
   "source": [
    "9. Loop through `whichever_list` to show all the elements it contains except the one that contains the information about whether you like the mountains or the beach. The function should return a message saying `\"I love the beach\"` if you prefer the beach and a message saying `\"I love the mountain\"` otherwise. "
   ]
  },
  {
   "cell_type": "code",
   "execution_count": 50,
   "metadata": {},
   "outputs": [],
   "source": [
    "#define a function which takes a single parameter `whichever_list`\n",
    "\n",
    "def preference_out (whichever_list):\n",
    "    \"\"\"\n",
    "    Given a list as an argument, the function shows all its element, \n",
    "    except the one that contains information about whether you prefer the montains or the beach.\n",
    "\n",
    "    Return: A different statement depending if you prefer the beach or the montain.\n",
    "    \n",
    "    \"\"\"\n",
    "    for i, elem in enumerate(whichever_list):\n",
    "        if i !=2:\n",
    "            print(elem)\n",
    "    return preference(whichever_list)\n"
   ]
  },
  {
   "cell_type": "code",
   "execution_count": 51,
   "metadata": {},
   "outputs": [
    {
     "output_type": "stream",
     "name": "stdout",
     "text": [
      "15\n",
      "Recoletos\n",
      "['Recoletos', 15]\n",
      "None\n",
      "8\n",
      "I like the tranquility\n"
     ]
    }
   ],
   "source": [
    "#call the function with the variable `info_list`\n",
    "x = preference_out(info_list)\n",
    "\n",
    "print(x)    "
   ]
  },
  {
   "cell_type": "markdown",
   "metadata": {},
   "source": [
    "### Bonus Track\n",
    "\n",
    "In the case of not being able to solve a question containing the code in a function, try to do it without defining one. "
   ]
  },
  {
   "cell_type": "markdown",
   "metadata": {},
   "source": [
    "1. Create a variable called `zone` and give it the value of **None**. Loop through `whichever_list` and update `zone` to **True** if and only if, you have slept more than 7 hours, you like the beach and the sum of the hours you have slept plus the number of The Bridge is less than 24. In any other case, `zone` will be **False**. This function should return the value of `zone` and will be called `zone_function`.\n"
   ]
  },
  {
   "cell_type": "code",
   "execution_count": 52,
   "metadata": {},
   "outputs": [
    {
     "output_type": "stream",
     "name": "stdout",
     "text": [
      "False\n"
     ]
    }
   ],
   "source": [
    "zone = None\n",
    "\n",
    "def zone_function(whichever_list):\n",
    "    \"\"\"\n",
    "    The function display True if all the below conditions are met:\n",
    "        - You have slept more than 7 hours\n",
    "        - You like the beach more than the montain\n",
    "        - The hours you have slept plus the number of The Bridge is less than 24\n",
    "    \n",
    "    In any other case, the function will be False.\n",
    "    \n",
    "    Argument: A list\n",
    "\n",
    "    Return: The variable zone, which it is a boolean\n",
    " \n",
    "    \"\"\"  \n",
    "    if mood(whichever_list) == \"Today I conquer the world\" and preference(whichever_list) == \"I'd love to live in Málaga\"\\\n",
    "        and (int(input(\"how many ours have you slept? \"))) < 24:\n",
    "            zone = True\n",
    "    else:\n",
    "        zone = False\n",
    "    \n",
    "    return zone\n",
    "\n",
    "\n",
    "print(zone_function(info_list))\n"
   ]
  },
  {
   "cell_type": "markdown",
   "metadata": {},
   "source": [
    "2. Define a function called `test_function` that receives only one parameter called `zone_value` and that returns the value of `zone_value` if it is **True**. Once you've defined `test_function` you should call it with the value returned by the `zone_function` as an argument."
   ]
  },
  {
   "cell_type": "code",
   "execution_count": 27,
   "metadata": {},
   "outputs": [
    {
     "output_type": "error",
     "ename": "NameError",
     "evalue": "name 'zone_function' is not defined",
     "traceback": [
      "\u001b[1;31m---------------------------------------------------------------------------\u001b[0m",
      "\u001b[1;31mNameError\u001b[0m                                 Traceback (most recent call last)",
      "\u001b[1;32m<ipython-input-27-efead06fc0d3>\u001b[0m in \u001b[0;36m<module>\u001b[1;34m\u001b[0m\n\u001b[0;32m      7\u001b[0m         \u001b[1;32mreturn\u001b[0m \u001b[0mzone_value\u001b[0m\u001b[1;33m\u001b[0m\u001b[1;33m\u001b[0m\u001b[0m\n\u001b[0;32m      8\u001b[0m \u001b[1;33m\u001b[0m\u001b[0m\n\u001b[1;32m----> 9\u001b[1;33m \u001b[0mx\u001b[0m \u001b[1;33m=\u001b[0m \u001b[0mtest_function\u001b[0m\u001b[1;33m(\u001b[0m\u001b[0mzone_value\u001b[0m\u001b[1;33m=\u001b[0m\u001b[0mzone_function\u001b[0m\u001b[1;33m(\u001b[0m\u001b[0minfo_list\u001b[0m\u001b[1;33m)\u001b[0m\u001b[1;33m)\u001b[0m\u001b[1;33m\u001b[0m\u001b[1;33m\u001b[0m\u001b[0m\n\u001b[0m\u001b[0;32m     10\u001b[0m \u001b[1;33m\u001b[0m\u001b[0m\n\u001b[0;32m     11\u001b[0m \u001b[0mprint\u001b[0m\u001b[1;33m(\u001b[0m\u001b[0mx\u001b[0m\u001b[1;33m)\u001b[0m\u001b[1;33m\u001b[0m\u001b[1;33m\u001b[0m\u001b[0m\n",
      "\u001b[1;31mNameError\u001b[0m: name 'zone_function' is not defined"
     ]
    }
   ],
   "source": [
    "def test_function(zone_value):\n",
    "    \"\"\"\n",
    "    The function returns its argument only if this is True.\n",
    " \n",
    "    \"\"\"\n",
    "    if zone_value == True:\n",
    "        return zone_value\n",
    "\n",
    "x = test_function(zone_value=zone_function(info_list))\n",
    "\n",
    "print(x)"
   ]
  },
  {
   "cell_type": "markdown",
   "metadata": {},
   "source": [
    "3. Define a function that asks the user if they like the mountain and, if not, call the `zone_function` function."
   ]
  },
  {
   "cell_type": "code",
   "execution_count": 53,
   "metadata": {},
   "outputs": [
    {
     "output_type": "stream",
     "name": "stdout",
     "text": [
      "False\n"
     ]
    }
   ],
   "source": [
    "def question(whichever_list):\n",
    "    \"\"\"\n",
    "    The function asks the user if they like the montain.\n",
    "    If not, the function returns the function: zone_function\n",
    "\n",
    "    \"\"\"\n",
    "    if input(\"Do you like the montain? \") == \"no\":\n",
    "        return zone_function(whichever_list=whichever_list)\n",
    "\n",
    "x = question(info_list)\n",
    "\n",
    "print(x)"
   ]
  },
  {
   "cell_type": "markdown",
   "metadata": {},
   "source": [
    "### Bonus Track of the Bonus Track.\n",
    "\n",
    "**This Bonus Track could take you some days, it is very ok, sometimes coding is all about time.**\n",
    "\n",
    "Sooner than later, you'll also learn about `.py` files and you will be able to implement this program into that kind of file. Not yet, tho. "
   ]
  },
  {
   "cell_type": "markdown",
   "metadata": {},
   "source": [
    "1. Program **a calculator** that asks for two numbers and two operators on the screen. One operation must be performed first and then another. Try to define as many functions as possible."
   ]
  },
  {
   "cell_type": "code",
   "execution_count": 54,
   "metadata": {},
   "outputs": [
    {
     "output_type": "stream",
     "name": "stdout",
     "text": [
      "Suma: \n6\nDivision: \n0.2\n"
     ]
    }
   ],
   "source": [
    "def suma(arg1, arg2):\n",
    "    print(\"Suma: \")\n",
    "    return arg1 + arg2\n",
    "\n",
    "def resta(arg1, arg2):\n",
    "    print(\"Resta: \")\n",
    "    return arg1 - arg2\n",
    "\n",
    "def multiplicacion(arg1, arg2):\n",
    "    print(\"Multiplicacion: \")\n",
    "    return arg1 * arg2\n",
    "\n",
    "def division(arg1, arg2):\n",
    "    print(\"Division: \")\n",
    "    return arg1 / arg2\n",
    "\n",
    "primer_numbero = int(input(\"Escribe el primer número: \"))\n",
    "segundo_numbero = int(input(\"Escribe el segundo número: \"))\n",
    "primera_operacion = input(\"Escribe un operador (+, -, *, /): \")\n",
    "segunda_operacion = input(\"Escribe un operador (+, -, *, /): \")\n",
    "\n",
    "operaciones = [primera_operacion, segunda_operacion]\n",
    "\n",
    "for operacion_elegida in operaciones:\n",
    "    if operacion_elegida == \"+\":\n",
    "        resultado = suma(arg1=primer_numbero, arg2=segundo_numbero)\n",
    "    elif operacion_elegida == \"-\":\n",
    "        resultado = resta(primer_numbero, segundo_numbero)\n",
    "    elif operacion_elegida == \"*\":\n",
    "        resultado = multiplicacion(primer_numbero, segundo_numbero)\n",
    "    elif operacion_elegida == \"/\":\n",
    "        resultado = division(primer_numbero, segundo_numbero)\n",
    "    else:\n",
    "        resultado = \"Escribe un tipo de operación\"\n",
    "    \n",
    "    print(resultado)"
   ]
  },
  {
   "cell_type": "code",
   "execution_count": null,
   "metadata": {},
   "outputs": [],
   "source": [
    "# Se podría hacer usando más funciones"
   ]
  },
  {
   "cell_type": "code",
   "execution_count": 22,
   "metadata": {},
   "outputs": [
    {
     "output_type": "error",
     "ename": "IndentationError",
     "evalue": "expected an indented block (<ipython-input-22-b7edf61a2043>, line 4)",
     "traceback": [
      "\u001b[1;36m  File \u001b[1;32m\"<ipython-input-22-b7edf61a2043>\"\u001b[1;36m, line \u001b[1;32m4\u001b[0m\n\u001b[1;33m    print(\"Suma: \")\u001b[0m\n\u001b[1;37m        ^\u001b[0m\n\u001b[1;31mIndentationError\u001b[0m\u001b[1;31m:\u001b[0m expected an indented block\n"
     ]
    }
   ],
   "source": [
    "def la_unica_f():\n",
    "\n",
    "    def suma(arg1, arg2):\n",
    "    print(\"Suma: \")\n",
    "    return arg1 + arg2\n",
    "\n",
    "    def resta(arg1, arg2):\n",
    "        print(\"Resta: \")\n",
    "        return arg1 - arg2\n",
    "\n",
    "    def multiplicacion(arg1, arg2):\n",
    "        print(\"Multiplicacion: \")\n",
    "        return arg1 * arg2\n",
    "\n",
    "    def division(arg1, arg2):\n",
    "        print(\"Division: \")\n",
    "        return arg1 / arg2\n",
    "\n",
    "    primer_numbero = int(input(\"Escribe el primer número: \"))\n",
    "    segundo_numbero = int(input(\"Escribe el segundo número: \"))\n",
    "    primera_operacion = input(\"Escribe un operador (+, -, *, /): \")\n",
    "    segunda_operacion = input(\"Escribe un operador (+, -, *, /): \")\n",
    "\n",
    "    operaciones = [primera_operacion, segunda_operacion]\n",
    "\n",
    "\n",
    "la_unica_f()"
   ]
  },
  {
   "cell_type": "code",
   "execution_count": null,
   "metadata": {},
   "outputs": [],
   "source": []
  },
  {
   "cell_type": "markdown",
   "metadata": {},
   "source": [
    "!['ha'](https://i.pinimg.com/originals/c6/4e/fc/c64efc9adaedbf446f328698e8b67388.jpg)"
   ]
  },
  {
   "cell_type": "code",
   "execution_count": null,
   "metadata": {},
   "outputs": [],
   "source": []
  }
 ],
 "metadata": {
  "kernelspec": {
   "name": "python374jvsc74a57bd02d8a740277f67c33143a8e5c8e55f738530a350d8def4a85d8635b690074994c",
   "display_name": "Python 3.7.4 64-bit"
  },
  "language_info": {
   "codemirror_mode": {
    "name": "ipython",
    "version": 3
   },
   "file_extension": ".py",
   "mimetype": "text/x-python",
   "name": "python",
   "nbconvert_exporter": "python",
   "pygments_lexer": "ipython3",
   "version": "3.7.4-final"
  },
  "metadata": {
   "interpreter": {
    "hash": "2d8a740277f67c33143a8e5c8e55f738530a350d8def4a85d8635b690074994c"
   }
  }
 },
 "nbformat": 4,
 "nbformat_minor": 4
}