{
 "cells": [
  {
   "source": [
    "# DÍA DOS Y TRES"
   ],
   "cell_type": "code",
   "metadata": {},
   "execution_count": null,
   "outputs": []
  },
  {
   "source": [
    "# Data Science Bootcamp - The Bridge \n",
    "## Precurso\n",
    "En este notebook vamos a ver, uno a uno, los conceptos básicos de Python. Constarán de ejercicios prácticos acompañados de una explicación teórica dada por el profesor.\n",
    "\n",
    "Los siguientes enlaces están recomendados para el alumno para profundizar y reforzar conceptos a partir de  ejercicios y ejemplos:\n",
    "\n",
    "- https://facundoq.github.io/courses/aa2018/res/02_python.html\n",
    "\n",
    "- https://www.w3resource.com/python-exercises/\n",
    "\n",
    "- https://www.practicepython.org/\n",
    "\n",
    "- https://es.slideshare.net/egutierrezru/python-paraprincipiantes\n",
    "\n",
    "- https://www.sololearn.com/Play/Python#\n",
    "\n",
    "- https://github.com/mhkmcp/Python-Bootcamp-from-Basic-to-Advanced\n",
    "\n",
    "Ejercicios avanzados:\n",
    "\n",
    "- https://github.com/darkprinx/100-plus-Python-programming-exercises-extended/tree/master/Status (++)\n",
    "\n",
    "- https://github.com/mahtab04/Python-Programming-Practice (++)\n",
    "\n",
    "- https://github.com/whojayantkumar/Python_Programs (+++)\n",
    "\n",
    "- https://www.w3resource.com/python-exercises/ (++++)\n",
    "\n",
    "- https://github.com/fupus/notebooks-ejercicios (+++++)\n",
    "\n",
    "Tutor de ayuda PythonTutor:\n",
    "\n",
    "- http://pythontutor.com/\n"
   ],
   "cell_type": "markdown",
   "metadata": {}
  },
  {
   "cell_type": "code",
   "execution_count": null,
   "metadata": {},
   "outputs": [],
   "source": [
    "# Markdown (la M de justo de arriba): Son comentarios que python no va a analizar, no es código python, pero el texto si sale en el la pantalla (se está usando para los titulos en este archivo). Podemos controlar el tamaño del texto dependiendo del numero de # que añadimos al comentario.\n",
    "# Para comentarios dentro de Python usamos solo #. Fuera de markdown y eso no aparece en el texto al confirmar la celda."
   ]
  },
  {
   "cell_type": "markdown",
   "metadata": {},
   "source": [
    "## 1. Variables y tipos\n",
    "\n",
    "### Cadenas"
   ]
  },
  {
   "cell_type": "code",
   "execution_count": 21,
   "metadata": {},
   "outputs": [
    {
     "output_type": "stream",
     "name": "stdout",
     "text": [
      "lorena\n7\n"
     ]
    }
   ],
   "source": [
    "# Entero - Integer - int\n",
    "x = 7\n",
    "# Cadena - String - Lista de caracteres\n",
    "x = \"lorena\"\n",
    "print(x)\n",
    "\n",
    "x = 7\n",
    "print(x)"
   ]
  },
  {
   "cell_type": "code",
   "execution_count": 22,
   "metadata": {},
   "outputs": [
    {
     "output_type": "execute_result",
     "data": {
      "text/plain": [
       "int"
      ]
     },
     "metadata": {},
     "execution_count": 22
    }
   ],
   "source": [
    "# built-in. Son funciones que estan pre-definidas en Python, como \"print\", \"type\", etc. Su texto es de otro color para que no se usen como variables. No se deben nunca usar esos nombres como variables porque aceptan el valor de la variable perdiendo su valor pre-determinado, y luego las siguientes operaciones en Python no funcionan.\n",
    "\n",
    "type (x)"
   ]
  },
  {
   "cell_type": "code",
   "execution_count": 23,
   "metadata": {},
   "outputs": [
    {
     "output_type": "stream",
     "name": "stdout",
     "text": [
      "12\n"
     ]
    }
   ],
   "source": [
    "x = 5\n",
    "y = 7\n",
    "\n",
    "z = x + y\n",
    "print(z)"
   ]
  },
  {
   "cell_type": "code",
   "execution_count": 6,
   "metadata": {},
   "outputs": [
    {
     "output_type": "stream",
     "name": "stdout",
     "text": [
      "lorena + silvia-\n"
     ]
    }
   ],
   "source": [
    "x = \"lorena + \"\n",
    "l = \"silvia-\"\n",
    "\n",
    "# Los strings al sumarse se concatenan\n",
    "g = x + l\n",
    "print(g)"
   ]
  },
  {
   "cell_type": "code",
   "execution_count": 10,
   "metadata": {},
   "outputs": [
    {
     "output_type": "stream",
     "name": "stdout",
     "text": [
      "'lorena'\" silvia----\n'lorena'silvia----\n"
     ]
    }
   ],
   "source": [
    "x = \"'lorena'\\\" \"\n",
    "l = 'silvia----'\n",
    "y = \"'lorena'\"\n",
    "# El caracter \\ hace que simbolos se impriman en el código\n",
    "g = x + l\n",
    "h = y + l\n",
    "print(g)\n",
    "print(h)"
   ]
  },
  {
   "cell_type": "code",
   "execution_count": 26,
   "metadata": {},
   "outputs": [
    {
     "output_type": "execute_result",
     "data": {
      "text/plain": [
       "str"
      ]
     },
     "metadata": {},
     "execution_count": 26
    }
   ],
   "source": [
    "# type muestra el tipo de la variable\n",
    "type(g)"
   ]
  },
  {
   "cell_type": "code",
   "execution_count": 27,
   "metadata": {},
   "outputs": [
    {
     "output_type": "execute_result",
     "data": {
      "text/plain": [
       "int"
      ]
     },
     "metadata": {},
     "execution_count": 27
    }
   ],
   "source": [
    "type(3)"
   ]
  },
  {
   "cell_type": "code",
   "execution_count": 11,
   "metadata": {},
   "outputs": [
    {
     "output_type": "stream",
     "name": "stdout",
     "text": [
      "'lorena'\" silvia---- 6 cadena\n'lorena'\" silvia---- 6 cadena\n"
     ]
    }
   ],
   "source": [
    "# Print es una función que recibe varios argumentos y cada argumento está diferenciado por la coma. En el resultado, después de cada coma la función 'print' añade un espacio.\n",
    "\n",
    "# mala praxis\n",
    "print(    g  ,    6,     \"cadena\")\n",
    "\n",
    "# buena praxis - PEP8\n",
    "print(g, 6, \"cadena\")"
   ]
  },
  {
   "cell_type": "code",
   "execution_count": 29,
   "metadata": {},
   "outputs": [],
   "source": [
    "# No se pueden sumar diferentes tipos de variables "
   ]
  },
  {
   "cell_type": "code",
   "execution_count": 12,
   "metadata": {},
   "outputs": [
    {
     "output_type": "stream",
     "name": "stdout",
     "text": [
      "<class 'int'>\n<class 'str'>\n"
     ]
    }
   ],
   "source": [
    "# Cambiar de int a str\n",
    "\n",
    "x = 6\n",
    "print (type(x))\n",
    "x = str (x)\n",
    "print (type (x))"
   ]
  },
  {
   "cell_type": "code",
   "execution_count": 1,
   "metadata": {},
   "outputs": [
    {
     "output_type": "stream",
     "name": "stdout",
     "text": [
      "65.2\n"
     ]
    }
   ],
   "source": [
    "# cambiar cualquier tipo a str\n",
    "x = 5.2\n",
    "z = \"6\" + str(x) # Al sumar strings estos se concatenan\n",
    "print(z)"
   ]
  },
  {
   "cell_type": "code",
   "execution_count": 13,
   "metadata": {},
   "outputs": [
    {
     "output_type": "stream",
     "name": "stdout",
     "text": [
      "<class 'str'>\n<class 'int'>\n63\n"
     ]
    }
   ],
   "source": [
    "# Cambiar de str a int\n",
    "s = \"56\"\n",
    "print(type(s))\n",
    "s = int(s)\n",
    "print(type(s))\n",
    "\n",
    "z = 7 + s # Al sumar int, se suman el valor de los números\n",
    "print(z)"
   ]
  },
  {
   "cell_type": "code",
   "execution_count": 17,
   "metadata": {},
   "outputs": [
    {
     "output_type": "stream",
     "name": "stdout",
     "text": [
      "<class 'str'>\n<class 'float'>\n<class 'int'>\n<class 'str'>\n"
     ]
    },
    {
     "output_type": "error",
     "ename": "ValueError",
     "evalue": "invalid literal for int() with base 10: '5.7'",
     "traceback": [
      "\u001b[1;31m---------------------------------------------------------------------------\u001b[0m",
      "\u001b[1;31mValueError\u001b[0m                                Traceback (most recent call last)",
      "\u001b[1;32m<ipython-input-17-ae002211bec4>\u001b[0m in \u001b[0;36m<module>\u001b[1;34m\u001b[0m\n\u001b[0;32m      9\u001b[0m \u001b[0my\u001b[0m \u001b[1;33m=\u001b[0m \u001b[1;34m\"5.7\"\u001b[0m\u001b[1;33m\u001b[0m\u001b[1;33m\u001b[0m\u001b[0m\n\u001b[0;32m     10\u001b[0m \u001b[0mprint\u001b[0m\u001b[1;33m(\u001b[0m\u001b[0mtype\u001b[0m\u001b[1;33m(\u001b[0m\u001b[0my\u001b[0m\u001b[1;33m)\u001b[0m\u001b[1;33m)\u001b[0m\u001b[1;33m\u001b[0m\u001b[1;33m\u001b[0m\u001b[0m\n\u001b[1;32m---> 11\u001b[1;33m \u001b[0my\u001b[0m \u001b[1;33m=\u001b[0m \u001b[0mint\u001b[0m\u001b[1;33m(\u001b[0m\u001b[0my\u001b[0m\u001b[1;33m)\u001b[0m\u001b[1;33m\u001b[0m\u001b[1;33m\u001b[0m\u001b[0m\n\u001b[0m\u001b[0;32m     12\u001b[0m \u001b[0mprint\u001b[0m\u001b[1;33m(\u001b[0m\u001b[0mtype\u001b[0m\u001b[1;33m(\u001b[0m\u001b[0my\u001b[0m\u001b[1;33m)\u001b[0m\u001b[1;33m)\u001b[0m\u001b[1;33m\u001b[0m\u001b[1;33m\u001b[0m\u001b[0m\n",
      "\u001b[1;31mValueError\u001b[0m: invalid literal for int() with base 10: '5.7'"
     ]
    }
   ],
   "source": [
    "# No puedo transformar el str “5.7” a int directamente, tengo que usar float primero y luego int.\n",
    "x = \"5.7\"\n",
    "print(type(x))\n",
    "x = float(x)\n",
    "print(type(x))\n",
    "x = int(x)\n",
    "print(type(x))\n",
    "\n",
    "y = \"5.7\"\n",
    "print(type(y))\n",
    "y = int(y)\n",
    "print(type(y))"
   ]
  },
  {
   "cell_type": "code",
   "execution_count": 33,
   "metadata": {},
   "outputs": [
    {
     "output_type": "error",
     "ename": "ValueError",
     "evalue": "invalid literal for int() with base 10: '56a'",
     "traceback": [
      "\u001b[1;31m---------------------------------------------------------------------------\u001b[0m",
      "\u001b[1;31mValueError\u001b[0m                                Traceback (most recent call last)",
      "\u001b[1;32m<ipython-input-33-a4cfbca2476e>\u001b[0m in \u001b[0;36m<module>\u001b[1;34m\u001b[0m\n\u001b[0;32m      1\u001b[0m \u001b[0ms\u001b[0m \u001b[1;33m=\u001b[0m \u001b[1;34m\"56a\"\u001b[0m\u001b[1;33m\u001b[0m\u001b[1;33m\u001b[0m\u001b[0m\n\u001b[1;32m----> 2\u001b[1;33m \u001b[0ms\u001b[0m \u001b[1;33m=\u001b[0m \u001b[0mint\u001b[0m\u001b[1;33m(\u001b[0m\u001b[0ms\u001b[0m\u001b[1;33m)\u001b[0m\u001b[1;33m\u001b[0m\u001b[1;33m\u001b[0m\u001b[0m\n\u001b[0m\u001b[0;32m      3\u001b[0m \u001b[0mprint\u001b[0m\u001b[1;33m(\u001b[0m\u001b[0ms\u001b[0m\u001b[1;33m)\u001b[0m\u001b[1;33m\u001b[0m\u001b[1;33m\u001b[0m\u001b[0m\n",
      "\u001b[1;31mValueError\u001b[0m: invalid literal for int() with base 10: '56a'"
     ]
    }
   ],
   "source": [
    "# No puedo transformar un string no numérico a int. Mas adelante veremos como convertir a int solo una parte del string:\n",
    "s = \"56a\"\n",
    "s = int(s)\n",
    "print(s)"
   ]
  },
  {
   "cell_type": "code",
   "execution_count": 19,
   "metadata": {},
   "outputs": [
    {
     "output_type": "stream",
     "name": "stdout",
     "text": [
      "16\n"
     ]
    }
   ],
   "source": [
    "# Para ver la longitud de una lista de caracteres (len). RECUERDA, el primer elemento es cero.\n",
    "p = \"lista caracteres\"\n",
    "print(len(p))"
   ]
  },
  {
   "cell_type": "code",
   "execution_count": 20,
   "metadata": {},
   "outputs": [
    {
     "output_type": "stream",
     "name": "stdout",
     "text": [
      "<class 'float'>\n"
     ]
    }
   ],
   "source": [
    "# Otro tipo de variables son los float. Estos son números con decimales\n",
    "x = 5.75\n",
    "print(type(x))"
   ]
  },
  {
   "cell_type": "code",
   "execution_count": 29,
   "metadata": {},
   "outputs": [
    {
     "output_type": "stream",
     "name": "stdout",
     "text": [
      "7.75\n"
     ]
    }
   ],
   "source": [
    "# Puedo sumar floats con int (el resultado sigue siendo un float)\n",
    "o = x + 2\n",
    "print(o)"
   ]
  },
  {
   "cell_type": "code",
   "execution_count": 21,
   "metadata": {},
   "outputs": [
    {
     "output_type": "stream",
     "name": "stdout",
     "text": [
      "<class 'int'>\n5\n"
     ]
    }
   ],
   "source": [
    "# Podemos pasar un float (número decimal) a un integer (entero). Se quitan los decimales, pero no se redondea\n",
    "x = 5.75\n",
    "x = int(x)\n",
    "print(type(x))\n",
    "print(x)\n"
   ]
  },
  {
   "cell_type": "code",
   "execution_count": 23,
   "metadata": {},
   "outputs": [
    {
     "output_type": "stream",
     "name": "stdout",
     "text": [
      "<class 'float'>\n5.0\n"
     ]
    }
   ],
   "source": [
    "# Podemos pasar un integer (entero) a un float (número decimal).\n",
    "x = 5\n",
    "x = float(x)\n",
    "print(type(x))\n",
    "print(x)"
   ]
  },
  {
   "cell_type": "code",
   "execution_count": 24,
   "metadata": {},
   "outputs": [
    {
     "output_type": "execute_result",
     "data": {
      "text/plain": [
       "174"
      ]
     },
     "metadata": {},
     "execution_count": 24
    }
   ],
   "source": [
    "# No hace falta poner todos los parentesis en el ejemplo de abajo pero no afectan al resultado\n",
    "m = ((((65 + int(\"22\")) * 2)))\n",
    "m"
   ]
  },
  {
   "cell_type": "code",
   "execution_count": 26,
   "metadata": {},
   "outputs": [
    {
     "output_type": "stream",
     "name": "stdout",
     "text": [
      "2.5\n"
     ]
    }
   ],
   "source": [
    "#Divisiones\n",
    "t = 5\n",
    "g = 2\n",
    "print (t / g)"
   ]
  },
  {
   "cell_type": "code",
   "execution_count": 40,
   "metadata": {},
   "outputs": [
    {
     "output_type": "stream",
     "name": "stdout",
     "text": [
      "5.0\n"
     ]
    }
   ],
   "source": [
    "t = 10\n",
    "g = 2\n",
    "print (t / g) # aunque el resultado es exacto, nos sigue dando un float"
   ]
  },
  {
   "cell_type": "code",
   "execution_count": 29,
   "metadata": {},
   "outputs": [
    {
     "output_type": "stream",
     "name": "stdout",
     "text": [
      "3\n<class 'int'>\n"
     ]
    }
   ],
   "source": [
    "# La división normal (/) es siempre float\n",
    "# La división absoluta (//) puede ser: \n",
    "    # - float si uno de los dos números (o los dos) son float\n",
    "    # - int si los dos son int \n",
    "j = 15\n",
    "k = 4\n",
    "division = j // k # La division absoluta tampoco redondea el número, solo coge la parte entera y el resultado es un int\n",
    "print (division)\n",
    "print(type(division))"
   ]
  },
  {
   "cell_type": "code",
   "execution_count": 30,
   "metadata": {},
   "outputs": [
    {
     "output_type": "stream",
     "name": "stdout",
     "text": [
      "suma: 15\nresta: 9\nmultiplicacion: 36\ndivision: 4.0\ndivision_absoluta: 4\n<class 'float'>\n<class 'int'>\n"
     ]
    }
   ],
   "source": [
    "num1 = 12\n",
    "num2 = 3\n",
    "\n",
    "suma = num1 + num2\n",
    "resta = num1 - num2\n",
    "multiplicacion = num1 * num2 \n",
    "division = num1 / num2\n",
    "division_absoluta = num1 // num2\n",
    "\n",
    "print(\"suma:\", suma)\n",
    "print(\"resta:\", resta)\n",
    "print(\"multiplicacion:\", multiplicacion)\n",
    "print(\"division:\", division)\n",
    "print(\"division_absoluta:\", division_absoluta)\n",
    "print(type(division))\n",
    "print(type(division_absoluta))"
   ]
  },
  {
   "cell_type": "code",
   "execution_count": 32,
   "metadata": {},
   "outputs": [
    {
     "output_type": "execute_result",
     "data": {
      "text/plain": [
       "2"
      ]
     },
     "metadata": {},
     "execution_count": 32
    }
   ],
   "source": [
    "# Si no usamos 'print' Jupyter notebook permite que la última línea se imprima pero solo la última. En archivos .py SIEMPRE es necesario poner PRINT, si no ni siquiera la última variable se imprime. \n",
    "x = 2\n",
    "k = 4\n",
    "k\n",
    "x"
   ]
  },
  {
   "cell_type": "code",
   "execution_count": 33,
   "metadata": {},
   "outputs": [
    {
     "output_type": "stream",
     "name": "stdout",
     "text": [
      "4\n2\n"
     ]
    }
   ],
   "source": [
    "print(k)\n",
    "print(x)"
   ]
  },
  {
   "cell_type": "code",
   "execution_count": null,
   "metadata": {},
   "outputs": [],
   "source": [
    "# Soy un comentario\n",
    "# print(\"Hello Python world!\")\n",
    "# Estoy creando una variable que vale 2\n",
    "\"\"\"\n",
    "Esto es otro comentario\n",
    "\"\"\""
   ]
  },
  {
   "cell_type": "markdown",
   "metadata": {},
   "source": [
    "## Ejercicio: \n",
    "### Crear una nueva celda.\n",
    "### Declarar tres variables: \n",
    "- Una con el nombre \"edad\" con valor vuestra edad\n",
    "- Otra \"edad_compañero_der\" que contengan la edad de tipo entero de vuestro compañero de la derecha\n",
    "- Otra \"suma_anterior\" que contenga la suma de las dos variables anteriormente declaradas\n",
    "\n",
    " Mostrar por pantalla la variable \"suma_anterior\"\n",
    "\n"
   ]
  },
  {
   "cell_type": "code",
   "execution_count": 34,
   "metadata": {},
   "outputs": [
    {
     "output_type": "stream",
     "name": "stdout",
     "text": [
      "64\n"
     ]
    }
   ],
   "source": [
    "edad = 29\n",
    "edad_companero_der = 35 # Mejor no poner 'ñ' en la variables, Python se puede liar con caracteres \"raros\"\n",
    "suma_anterior = edad + edad_companero_der\n",
    "print(suma_anterior)"
   ]
  },
  {
   "cell_type": "code",
   "execution_count": 35,
   "metadata": {},
   "outputs": [
    {
     "output_type": "stream",
     "name": "stdout",
     "text": [
      "HOLA\n"
     ]
    }
   ],
   "source": [
    "# funciones built-in de string\n",
    "\n",
    "string1 = \"Hola\"\n",
    "print(string1.upper()) # upper transforma todas las letras a mayúsculas"
   ]
  },
  {
   "source": [
    "## 2. Números y operadores"
   ],
   "cell_type": "markdown",
   "metadata": {}
  },
  {
   "cell_type": "code",
   "execution_count": 37,
   "metadata": {},
   "outputs": [
    {
     "output_type": "stream",
     "name": "stdout",
     "text": [
      "8\n"
     ]
    }
   ],
   "source": [
    "# Función exponencial\n",
    "x = 2\n",
    "\n",
    "print(x**3)"
   ]
  },
  {
   "cell_type": "code",
   "execution_count": 5,
   "metadata": {},
   "outputs": [
    {
     "output_type": "stream",
     "name": "stdout",
     "text": [
      "5\n5\n"
     ]
    }
   ],
   "source": [
    "# Esta suma se puede expresar de la siguiente manera también\n",
    "x = 4 \n",
    "x = x + 1\n",
    "print(x)\n",
    "\n",
    "y = 4 \n",
    "y += 1\n",
    "print(y)"
   ]
  },
  {
   "cell_type": "code",
   "execution_count": 54,
   "metadata": {},
   "outputs": [
    {
     "output_type": "stream",
     "name": "stdout",
     "text": [
      "- Tipo de x:\n<class 'int'>\n- Valor de x:\n3\n- x+1:\n4\n- x-1:\n2\n- x*2:\n6\n- x^2:\n9\n- x modificado:\n4\n- x modificado:\n8\n- El módulo de x con 40\n0\n- Varias cosas en una línea:\n1 2 8 10\n"
     ]
    }
   ],
   "source": [
    "### Enteros ###\n",
    "\n",
    "x = 3\n",
    "\n",
    "print(\"- Tipo de x:\")\n",
    "print(type(x)) # Imprime el tipo (o `clase`) de x\n",
    "print(\"- Valor de x:\")\n",
    "print(x)       # Imprimir un valor\n",
    "print(\"- x+1:\")\n",
    "print(x + 1)   # Suma: imprime \"4\"\n",
    "print(\"- x-1:\")\n",
    "print(x - 1)   # Resta; imprime \"2\"\n",
    "print(\"- x*2:\")\n",
    "print(x * 2)   # Multiplicación; imprime \"6\"\n",
    "print(\"- x^2:\")\n",
    "print(x ** 2)  # Exponenciación; imprime \"9\"\n",
    "# Modificación de x\n",
    "x += 1 # lo mismo que decir x = 3, x = x + 1\n",
    "print(\"- x modificado:\")\n",
    "print(x)  # Imprime \"4\"\n",
    "\n",
    "x *= 2\n",
    "print(\"- x modificado:\")\n",
    "print(x)  # Imprime \"8\" porque x no es el valor inicial, ahora es 4 por la operación anterior\n",
    "\n",
    "print(\"- El módulo de x con 40\")\n",
    "print(40 % x)\n",
    "\n",
    "print(\"- Varias cosas en una línea:\")\n",
    "print(1, 2, x, 5*2) # imprime varias cosas a la vez si divisimos con comas"
   ]
  },
  {
   "cell_type": "code",
   "execution_count": 41,
   "metadata": {},
   "outputs": [
    {
     "output_type": "stream",
     "name": "stdout",
     "text": [
      "0\n1\n"
     ]
    }
   ],
   "source": [
    "# El módulo muestra el resto de la división entre dos números\n",
    "x = 4 % 2\n",
    "print(x)\n",
    "\n",
    "y = 5 % 2\n",
    "print(y)"
   ]
  },
  {
   "cell_type": "code",
   "execution_count": null,
   "metadata": {},
   "outputs": [],
   "source": [
    "numero = 99\n",
    "\n",
    "numero % 2  # Si el resto es 0, el número es par. Sino, impar.\n",
    "numero % 3  # el 3 es divisor de 'numero' si el modulo es cero."
   ]
  },
  {
   "cell_type": "code",
   "execution_count": null,
   "metadata": {},
   "outputs": [],
   "source": [
    "x = 5 # Tengo el valor en una celda pero la operación en el siguiente, entonces..."
   ]
  },
  {
   "cell_type": "code",
   "execution_count": 53,
   "metadata": {},
   "outputs": [
    {
     "output_type": "stream",
     "name": "stdout",
     "text": [
      "16\n"
     ]
    }
   ],
   "source": [
    "# He ejecutado esta celda dos veces por eso el resultado es 16. He sumado dos veces 2 a x. Si ejecuto esta celda más de una vez, la suma crece de dos en dos porque x ya no es 5, seria 7 y asi consecutivamente, siempre le añado 2 al último valor.\n",
    "x += 2 \n",
    "j = 7 + x\n",
    "print(j)"
   ]
  },
  {
   "cell_type": "code",
   "execution_count": 52,
   "metadata": {},
   "outputs": [
    {
     "output_type": "stream",
     "name": "stdout",
     "text": [
      "14\n"
     ]
    }
   ],
   "source": [
    "# Si ejecuto esta celda más de una vez, la suma ya no crece. Python vuelve a considerar x como 5, desde el principio, y le vuevlo a añadir el valor 2 como si fuera por primera vez.\n",
    "x = 5\n",
    "x += 2\n",
    "j = 7 + x\n",
    "print(j) "
   ]
  },
  {
   "source": [
    "## Título markdown"
   ],
   "cell_type": "markdown",
   "metadata": {}
  },
  {
   "source": [
    "# INPUT"
   ],
   "cell_type": "markdown",
   "metadata": {}
  },
  {
   "cell_type": "code",
   "execution_count": 1,
   "metadata": {},
   "outputs": [
    {
     "output_type": "stream",
     "name": "stdout",
     "text": [
      "<class 'str'>\nhola\n"
     ]
    }
   ],
   "source": [
    "# Otra función es input. Crea una ventana para que el usuario escriba información\n",
    "x = input()\n",
    "print(type(x))\n",
    "print(x) # aunque el input que yo ponga sea un número el resultado es SIEMPRE un string"
   ]
  },
  {
   "cell_type": "code",
   "execution_count": 61,
   "metadata": {},
   "outputs": [
    {
     "output_type": "stream",
     "name": "stdout",
     "text": [
      "76\n<class 'int'>\n"
     ]
    }
   ],
   "source": [
    "x = int(input()) # transformo el input a entero y asi ya puedo hacer futuras operaciones, si pongo un número con decimales tengo que decir float(input())\n",
    "print(x)\n",
    "print(type(x))"
   ]
  },
  {
   "cell_type": "code",
   "execution_count": 45,
   "metadata": {},
   "outputs": [
    {
     "output_type": "stream",
     "name": "stdout",
     "text": [
      "<class 'int'>\n5\n9\n"
     ]
    }
   ],
   "source": [
    "# Puedo añadir un mensaje a la ventana que sale para que el usuario sepa que tiene que escribir\n",
    "x = int(input(\"Escribe un número: \")) \n",
    "print(type(x))\n",
    "l = 4 + x\n",
    "print(x)\n",
    "print(l)"
   ]
  },
  {
   "cell_type": "markdown",
   "metadata": {},
   "source": [
    "## 3. Tipo None"
   ]
  },
  {
   "cell_type": "code",
   "execution_count": 46,
   "metadata": {},
   "outputs": [
    {
     "output_type": "error",
     "ename": "TypeError",
     "evalue": "unsupported operand type(s) for +: 'int' and 'NoneType'",
     "traceback": [
      "\u001b[1;31m---------------------------------------------------------------------------\u001b[0m",
      "\u001b[1;31mTypeError\u001b[0m                                 Traceback (most recent call last)",
      "\u001b[1;32m<ipython-input-46-9958b2eff719>\u001b[0m in \u001b[0;36m<module>\u001b[1;34m\u001b[0m\n\u001b[0;32m      1\u001b[0m \u001b[0mx\u001b[0m \u001b[1;33m=\u001b[0m \u001b[1;32mNone\u001b[0m\u001b[1;33m\u001b[0m\u001b[1;33m\u001b[0m\u001b[0m\n\u001b[1;32m----> 2\u001b[1;33m \u001b[0mp\u001b[0m \u001b[1;33m=\u001b[0m \u001b[1;36m5\u001b[0m \u001b[1;33m+\u001b[0m \u001b[1;32mNone\u001b[0m\u001b[1;33m\u001b[0m\u001b[1;33m\u001b[0m\u001b[0m\n\u001b[0m\u001b[0;32m      3\u001b[0m \u001b[0mprint\u001b[0m\u001b[1;33m(\u001b[0m\u001b[0mp\u001b[0m\u001b[1;33m)\u001b[0m\u001b[1;33m\u001b[0m\u001b[1;33m\u001b[0m\u001b[0m\n",
      "\u001b[1;31mTypeError\u001b[0m: unsupported operand type(s) for +: 'int' and 'NoneType'"
     ]
    }
   ],
   "source": [
    "x = None\n",
    "p = 5 + None\n",
    "print(p) # No puedo sumar None a un número"
   ]
  },
  {
   "cell_type": "code",
   "execution_count": 73,
   "metadata": {},
   "outputs": [
    {
     "output_type": "stream",
     "name": "stdout",
     "text": [
      "<class 'NoneType'>\n"
     ]
    }
   ],
   "source": [
    "x = None\n",
    "print(type(x))"
   ]
  },
  {
   "source": [
    "### Booleans\n"
   ],
   "cell_type": "markdown",
   "metadata": {}
  },
  {
   "cell_type": "code",
   "execution_count": 47,
   "metadata": {},
   "outputs": [
    {
     "output_type": "stream",
     "name": "stdout",
     "text": [
      "<class 'bool'>\n"
     ]
    }
   ],
   "source": [
    "# Otro tipo de variables son los Booleans, su valor siempre es True o False\n",
    "cierto = True\n",
    "print(type(cierto))"
   ]
  },
  {
   "cell_type": "markdown",
   "metadata": {},
   "source": [
    "## 4. Listas y colecciones "
   ]
  },
  {
   "cell_type": "code",
   "execution_count": null,
   "metadata": {},
   "outputs": [],
   "source": [
    "# Una colección: lista, conjunto (set), tupla, array, string"
   ]
  },
  {
   "cell_type": "code",
   "execution_count": 55,
   "metadata": {},
   "outputs": [],
   "source": [
    "# Lista de elementos:\n",
    "\n",
    "# Las posiciones se empiezan a contar desde 0\n",
    "s = \"Cadena\"\n"
   ]
  },
  {
   "cell_type": "code",
   "execution_count": 56,
   "metadata": {},
   "outputs": [
    {
     "output_type": "stream",
     "name": "stdout",
     "text": [
      "C\n"
     ]
    }
   ],
   "source": [
    "s = s[0]\n",
    "print(s[0])"
   ]
  },
  {
   "cell_type": "code",
   "execution_count": 57,
   "metadata": {},
   "outputs": [
    {
     "output_type": "stream",
     "name": "stdout",
     "text": [
      "<class 'str'>\n"
     ]
    }
   ],
   "source": [
    "s = \"\"\n",
    "print(type(s))"
   ]
  },
  {
   "cell_type": "code",
   "execution_count": 40,
   "metadata": {},
   "outputs": [
    {
     "output_type": "error",
     "ename": "IndexError",
     "evalue": "string index out of range",
     "traceback": [
      "\u001b[1;31m---------------------------------------------------------------------------\u001b[0m",
      "\u001b[1;31mIndexError\u001b[0m                                Traceback (most recent call last)",
      "\u001b[1;32m<ipython-input-40-c9c96910e542>\u001b[0m in \u001b[0;36m<module>\u001b[1;34m\u001b[0m\n\u001b[1;32m----> 1\u001b[1;33m \u001b[0ms\u001b[0m\u001b[1;33m[\u001b[0m\u001b[1;36m0\u001b[0m\u001b[1;33m]\u001b[0m\u001b[1;33m\u001b[0m\u001b[1;33m\u001b[0m\u001b[0m\n\u001b[0m",
      "\u001b[1;31mIndexError\u001b[0m: string index out of range"
     ]
    }
   ],
   "source": [
    "s[0]\n",
    "# error porque el string anterior no tiene elementos"
   ]
  },
  {
   "cell_type": "code",
   "execution_count": 69,
   "metadata": {},
   "outputs": [
    {
     "output_type": "stream",
     "name": "stdout",
     "text": [
      "0\n9\n"
     ]
    },
    {
     "output_type": "execute_result",
     "data": {
      "text/plain": [
       "'e'"
      ]
     },
     "metadata": {},
     "execution_count": 69
    }
   ],
   "source": [
    "print (len(s))\n",
    "\n",
    "q = \"elementos\"\n",
    "print(len(q))\n",
    "q[0]"
   ]
  },
  {
   "cell_type": "code",
   "execution_count": 70,
   "metadata": {},
   "outputs": [
    {
     "output_type": "stream",
     "name": "stdout",
     "text": [
      "<class 'list'>\n"
     ]
    }
   ],
   "source": [
    "lista = []\n",
    "print(type(lista))\n"
   ]
  },
  {
   "cell_type": "code",
   "execution_count": 71,
   "metadata": {},
   "outputs": [
    {
     "output_type": "stream",
     "name": "stdout",
     "text": [
      "hola\n7.2\n3\n"
     ]
    }
   ],
   "source": [
    "lista = [3, 7.2, \"hola\"] # el primer elemento es la posicion cero, segundo elemento esta en la posicion 1\n",
    "print(lista[2])  # último \n",
    "print(lista[1])  # penúltimo \n",
    "print(lista[0])  # antepenúltimo"
   ]
  },
  {
   "cell_type": "code",
   "execution_count": null,
   "metadata": {},
   "outputs": [],
   "source": [
    "# la ultima posición de una colección coincide con el número de elementos -1"
   ]
  },
  {
   "cell_type": "code",
   "execution_count": 72,
   "metadata": {},
   "outputs": [
    {
     "output_type": "stream",
     "name": "stdout",
     "text": [
      "hola\n7.2\n3\n"
     ]
    }
   ],
   "source": [
    "print(lista[-1]) #ultimo\n",
    "print(lista[-2]) #penultimo\n",
    "print(lista[-3]) # antepenúltimo"
   ]
  },
  {
   "cell_type": "code",
   "execution_count": 5,
   "metadata": {},
   "outputs": [
    {
     "output_type": "stream",
     "name": "stdout",
     "text": [
      "hola 7.2 3\n"
     ]
    }
   ],
   "source": [
    "# También podemos sacar todos los elementos a la vez\n",
    "lista = [3, 7.2, \"hola\"] \n",
    "print(lista[2], lista[1], lista[0])"
   ]
  },
  {
   "cell_type": "code",
   "execution_count": 8,
   "metadata": {},
   "outputs": [
    {
     "output_type": "stream",
     "name": "stdout",
     "text": [
      "Hola\nme llamo\nSonia\n"
     ]
    }
   ],
   "source": [
    "# Salto de línea \"\\n\". Y siempre va entrecomillado porque es un string\n",
    "print(\"Hola\\nme llamo\\nSonia\") \n"
   ]
  },
  {
   "cell_type": "code",
   "execution_count": 23,
   "metadata": {},
   "outputs": [
    {
     "output_type": "stream",
     "name": "stdout",
     "text": [
      "Primer elemento: 3 \nSegundo elemento: 7.2 \nTercer elemento: hola\n"
     ]
    }
   ],
   "source": [
    "# Podemos sacar todos los elementos a la vez y en diferentes líneas\n",
    "lista = [3, 7.2, \"hola\"] \n",
    "print(\"Primer elemento:\", lista[0], \"\\nSegundo elemento:\", lista[1], \"\\nTercer elemento:\", lista[2])"
   ]
  },
  {
   "cell_type": "code",
   "execution_count": 12,
   "metadata": {},
   "outputs": [
    {
     "output_type": "stream",
     "name": "stdout",
     "text": [
      "3 \n 7.2 \n hola\n"
     ]
    }
   ],
   "source": [
    "lista = [3, 7.2, \"hola\"] \n",
    "print(lista[0],\"\\n\",lista[1],\"\\n\",lista[2])\n"
   ]
  },
  {
   "cell_type": "code",
   "execution_count": 22,
   "metadata": {},
   "outputs": [
    {
     "output_type": "stream",
     "name": "stdout",
     "text": [
      "Primer elemento: 3\nSegundo elemento: 7.2\nTercer elemento: hola\n"
     ]
    }
   ],
   "source": [
    "# Después de una coma el 'print' añade un espacio directamente, si no queremos ese espacio podemos concatenar (usando sumas) todos los elementos de la lista. Pero solo se pueden concatenar strings asi que si tenemos números tenemos que convertirlos.\n",
    "lista = [3, 7.2, \"hola\"] \n",
    "print(\"Primer elemento:\",str(lista[0]) + \"\\nSegundo elemento:\", str(lista[1]) + \"\\nTercer elemento:\", str(lista[2]))"
   ]
  },
  {
   "cell_type": "code",
   "execution_count": 44,
   "metadata": {},
   "outputs": [
    {
     "output_type": "stream",
     "name": "stdout",
     "text": [
      "[3, 7.2]\n"
     ]
    }
   ],
   "source": [
    "# Para imprimir un rango. El primer valor esta incluido y el último no\n",
    "print(lista[0:2]) "
   ]
  },
  {
   "cell_type": "code",
   "execution_count": 73,
   "metadata": {},
   "outputs": [
    {
     "output_type": "stream",
     "name": "stdout",
     "text": [
      "3\n"
     ]
    }
   ],
   "source": [
    "lista2 = [\"hola\", 2, [7.2, \"x\"]] # Puedo tener listas dentro de listas\n",
    "print(len(lista2))"
   ]
  },
  {
   "cell_type": "code",
   "execution_count": 74,
   "metadata": {},
   "outputs": [
    {
     "output_type": "stream",
     "name": "stdout",
     "text": [
      "[7.2, 'x']\n"
     ]
    }
   ],
   "source": [
    "print(lista2[-1]) # La lista interior es un elemento solo"
   ]
  },
  {
   "cell_type": "code",
   "execution_count": 75,
   "metadata": {},
   "outputs": [
    {
     "output_type": "stream",
     "name": "stdout",
     "text": [
      "x\n"
     ]
    }
   ],
   "source": [
    "print(lista2[-1][-1]) # Puedo seleccionar un elemento de la lista interna"
   ]
  },
  {
   "cell_type": "code",
   "execution_count": 76,
   "metadata": {},
   "outputs": [
    {
     "output_type": "stream",
     "name": "stdout",
     "text": [
      "x\n"
     ]
    }
   ],
   "source": [
    "lista3 = [\"hola\", 2, [7.2, \"xa\"]] \n",
    "# Quiero la letra 'x' solamente\n",
    "print(lista3[-1][-1][0])"
   ]
  },
  {
   "cell_type": "code",
   "execution_count": 86,
   "metadata": {},
   "outputs": [
    {
     "output_type": "stream",
     "name": "stdout",
     "text": [
      "['hola', 2, [[7.2, 'xa']]]\n[[7.2, 'xa']]\n[7.2, 'xa']\nxa\nx\n"
     ]
    }
   ],
   "source": [
    "lista4 = [\"hola\", 2, [[7.2, \"xa\"]]] # Cuidado con el número de corchetes porque podemos tener listas de un solo elemento, cada pareja de corchetes es una lista. Si en una lista solo hay un elemento este es el primero y el último\n",
    "# Quiero la letra 'x' solamente\n",
    "print(lista4)\n",
    "print(lista4[-1])\n",
    "print(lista4[-1][-1])\n",
    "print(lista4[-1][-1][-1])\n",
    "print(lista4[-1][-1][-1][0])\n"
   ]
  },
  {
   "cell_type": "code",
   "execution_count": 102,
   "metadata": {},
   "outputs": [
    {
     "output_type": "stream",
     "name": "stdout",
     "text": [
      "x\n"
     ]
    }
   ],
   "source": [
    "lista5 = [\"hola\", 2, [7.2, \"xa\"]] # Aunque esta lista se parece a la de arriba, tenemos una lista interior menos, asi que necesitamos menos comandos para imprimir la \"x\"\n",
    "# Quiero la letra 'x' solamente\n",
    "print(lista5[-1][-1][0])"
   ]
  },
  {
   "cell_type": "code",
   "execution_count": 88,
   "metadata": {},
   "outputs": [
    {
     "output_type": "stream",
     "name": "stdout",
     "text": [
      "<class 'str'>\n"
     ]
    }
   ],
   "source": [
    "print(type(lista4[-1][-1][-1][0]))"
   ]
  },
  {
   "cell_type": "code",
   "execution_count": 15,
   "metadata": {},
   "outputs": [
    {
     "output_type": "stream",
     "name": "stdout",
     "text": [
      "[4]\n<class 'list'>\n"
     ]
    }
   ],
   "source": [
    "# Como decía antes hay listas de un solo elemento. Es como si no hubiese nada detrás de la coma\n",
    "lista5 = [4,]\n",
    "print(lista5)\n",
    "print(type(lista5))"
   ]
  },
  {
   "cell_type": "code",
   "execution_count": 90,
   "metadata": {},
   "outputs": [
    {
     "output_type": "execute_result",
     "data": {
      "text/plain": [
       "'ola'"
      ]
     },
     "metadata": {},
     "execution_count": 90
    }
   ],
   "source": [
    "# Puedo imprimir rangos de un string\n",
    "s = \"hola\"\n",
    "\n",
    "lenght = 4\n",
    "s[1:4] # La posición del primer valor se incluye y la última no, por eso para imprimir toda la palabra tengo que decir su longitud, en vez de la posición de la letra \"a\" que es la 3a"
   ]
  },
  {
   "cell_type": "code",
   "execution_count": 91,
   "metadata": {},
   "outputs": [
    {
     "output_type": "stream",
     "name": "stdout",
     "text": [
      "aralC yos aloH\n"
     ]
    }
   ],
   "source": [
    "s = \"Hola soy Clara\"\n",
    "\n",
    "print(s[::-1]) # Nos da el mismo resultado que usando lista.reverse pero no es exactamente lo mismo, ya veremos más adelante la diferencia. Esta forma nos crea una copia."
   ]
  },
  {
   "cell_type": "code",
   "execution_count": 103,
   "metadata": {},
   "outputs": [
    {
     "output_type": "execute_result",
     "data": {
      "text/plain": [
       "'a soy Clara'"
      ]
     },
     "metadata": {},
     "execution_count": 103
    }
   ],
   "source": [
    "# Para acceder a varios elementos, se especifica con la nomenclatura \"[N:M]\". N es el primer elemento a obtener, M es el último elemento a obtener pero no incluido. Ejemplo: \n",
    "\n",
    "# Queremos mostrar desde las posiciones 3 a la 7. Debemos especificar: [3:8] ya que el último elemento no se imprime.\n",
    "\n",
    "# Si M no tiene ningún valor, se obtiene desde N hasta el final. \n",
    "# Si N no tiene ningún valor, es desde el principio de la colección hasta M\n",
    "s = \"Hola soy Clara\"\n",
    "s[3:len(s)]"
   ]
  },
  {
   "cell_type": "code",
   "execution_count": 104,
   "metadata": {},
   "outputs": [
    {
     "output_type": "stream",
     "name": "stdout",
     "text": [
      "a soy Clara\nHol\n"
     ]
    }
   ],
   "source": [
    "print(s[3:]) # Lo mismo que lo anterior. Coge desde la posicion 3 incluido hasta el final\n",
    "print(s[:3]) # Coge desde el inicio hasta la posicion 3 sin incluir"
   ]
  },
  {
   "cell_type": "code",
   "execution_count": 107,
   "metadata": {},
   "outputs": [
    {
     "output_type": "stream",
     "name": "stdout",
     "text": [
      "HOLA\n"
     ]
    }
   ],
   "source": [
    "# Convertir un string en mayúsculas\n",
    "x = \"hola\"\n",
    "x = x.upper()\n",
    "print(x)"
   ]
  },
  {
   "cell_type": "code",
   "execution_count": 112,
   "metadata": {},
   "outputs": [
    {
     "output_type": "stream",
     "name": "stdout",
     "text": [
      "[4, 'x', 7]\n"
     ]
    }
   ],
   "source": [
    "# Agrega un valor a la lista, este comando lo añade a la última posición de la lista\n",
    "lista = [4, \"x\"]\n",
    "lista.append (7)\n",
    "print(lista)\n",
    "\n",
    "# Como todo esta en la misma celda, da igual las veces que ejecutemos el comando, el 7 solo se añade una vez porque Python vuelve a considerar la lista como estaba al principio y vuelve a añadir solo un 7"
   ]
  },
  {
   "cell_type": "code",
   "execution_count": 115,
   "metadata": {},
   "outputs": [
    {
     "output_type": "stream",
     "name": "stdout",
     "text": [
      "[4, 'x', 7, 7, 7, 7]\n"
     ]
    }
   ],
   "source": [
    "lista.append(7) # Esto es una función asi que no se le asigna ninguna variable\n",
    "\n",
    "print(lista) # Si ejecuto esta celda más veces el 7 se sigue añadiendo al final porque la lista esta en otra celda. Python guarda la nueva lista con el/los 7 al final y sigue añadiéndolos."
   ]
  },
  {
   "cell_type": "code",
   "execution_count": 118,
   "metadata": {},
   "outputs": [
    {
     "output_type": "stream",
     "name": "stdout",
     "text": [
      "[4, 7]\n"
     ]
    }
   ],
   "source": [
    "# La función 'remove' elimina el primer elemento que se encuentra que coincide con el valor del argumento\n",
    "lista = [4, 'x', 7]\n",
    "lista.remove(\"x\")\n",
    "print(lista)"
   ]
  },
  {
   "cell_type": "code",
   "execution_count": 121,
   "metadata": {},
   "outputs": [
    {
     "output_type": "stream",
     "name": "stdout",
     "text": [
      "[4, 'y', 7, 'y', 'y']\n[4, 7, 'y', 'y']\n"
     ]
    }
   ],
   "source": [
    "lista = [4, 'y', 7, 'y']\n",
    "lista.append('y')  # append siempre añade el elemento al final de la lista\n",
    "print(lista)\n",
    "lista.remove('y')  # elimina la primera coincidencia\n",
    "print(lista)"
   ]
  },
  {
   "cell_type": "code",
   "execution_count": 122,
   "metadata": {},
   "outputs": [
    {
     "output_type": "stream",
     "name": "stdout",
     "text": [
      "[4, 'x', 'y', ['z', 4]]\n"
     ]
    }
   ],
   "source": [
    "lista = [4, 'x', 'y', ['z']]\n",
    "lista[-1].append(4)  # añade un entero 4 a la lista ['z']\n",
    "print(lista)"
   ]
  },
  {
   "cell_type": "code",
   "execution_count": 123,
   "metadata": {},
   "outputs": [
    {
     "output_type": "stream",
     "name": "stdout",
     "text": [
      "[4, 'x', 'y', ['z', [4]]]\n"
     ]
    }
   ],
   "source": [
    "lista = [4, 'x', 'y', ['z']]\n",
    "lista[-1].append([4]) # añade una lista [4] a la lista ['z']\n",
    "print(lista)"
   ]
  },
  {
   "cell_type": "code",
   "execution_count": 124,
   "metadata": {},
   "outputs": [
    {
     "output_type": "stream",
     "name": "stdout",
     "text": [
      "<class 'int'>\n<class 'list'>\n"
     ]
    }
   ],
   "source": [
    "# Estas dos cosas son diferentes:\n",
    "x = 4\n",
    "y = [4]\n",
    "print(type(x))\n",
    "print(type(y))"
   ]
  },
  {
   "cell_type": "code",
   "execution_count": 125,
   "metadata": {},
   "outputs": [
    {
     "output_type": "stream",
     "name": "stdout",
     "text": [
      "[4, 3]\n"
     ]
    }
   ],
   "source": [
    "y.append(3)\n",
    "print(y)"
   ]
  },
  {
   "cell_type": "code",
   "execution_count": 127,
   "metadata": {},
   "outputs": [
    {
     "output_type": "stream",
     "name": "stdout",
     "text": [
      "xs\n"
     ]
    }
   ],
   "source": [
    "# Accedemos a la posición 1 del elemento que está en la posición 2 de lista\n",
    "\n",
    "lista = ['l', 9.4, [8.1, 'xs']]\n",
    "print(lista[2][1])"
   ]
  },
  {
   "cell_type": "code",
   "execution_count": 128,
   "metadata": {},
   "outputs": [
    {
     "output_type": "stream",
     "name": "stdout",
     "text": [
      "[[8.1, 'xs'], 9.4, 'l']\n"
     ]
    }
   ],
   "source": [
    "lista2 = ['l', 9.4, [8.1, 'xs']]\n",
    "lista2.reverse()\n",
    "print(lista2) # La lista interior no cambia de posición, solo la principal"
   ]
  },
  {
   "cell_type": "code",
   "execution_count": 4,
   "metadata": {},
   "outputs": [
    {
     "output_type": "stream",
     "name": "stdout",
     "text": [
      "5\n"
     ]
    }
   ],
   "source": [
    "lista3 = [2, 4, 6, 8, 'o']\n",
    "print(len(lista3))"
   ]
  },
  {
   "cell_type": "code",
   "execution_count": 7,
   "metadata": {},
   "outputs": [
    {
     "output_type": "execute_result",
     "data": {
      "text/plain": [
       "range(0, 5)"
      ]
     },
     "metadata": {},
     "execution_count": 7
    }
   ],
   "source": [
    "range(len(lista3))"
   ]
  },
  {
   "cell_type": "code",
   "execution_count": 130,
   "metadata": {},
   "outputs": [
    {
     "output_type": "stream",
     "name": "stdout",
     "text": [
      "[2, 4, 8, 9]\n"
     ]
    }
   ],
   "source": [
    "lista_1 = [2, 4]\n",
    "lista_2 = [8, 9]\n",
    "lista_3 = lista_1 + lista_2  # Concatenamos. Esto no es lo mismo que append \n",
    "print(lista_3)"
   ]
  },
  {
   "cell_type": "code",
   "execution_count": 19,
   "metadata": {},
   "outputs": [
    {
     "output_type": "stream",
     "name": "stdout",
     "text": [
      "[2, 4, 6, 8, 'o', ['l', 9.4, [8.1, 'xs']]]\n"
     ]
    }
   ],
   "source": [
    "lista2 = ['l', 9.4, [8.1, 'xs']]\n",
    "lista3 = [2, 4, 6, 8, 'o']\n",
    "lista3.append(lista2)  # añadir al final de la lista\n",
    "print(lista3)\n",
    "# Append no es lo mismo que concatenar listas. Si solo lo hacemos una vez el resultado es el mismo pero si ejecutamos append mas veces (tenemos que volver a escribirlo) se nos añade el valor al final otra vez. "
   ]
  },
  {
   "cell_type": "code",
   "execution_count": 137,
   "metadata": {},
   "outputs": [
    {
     "output_type": "stream",
     "name": "stdout",
     "text": [
      "['b', 'a']\n"
     ]
    }
   ],
   "source": [
    "lista = [\"a\", \"b\"]\n",
    "lista.reverse()\n",
    "print(lista)"
   ]
  },
  {
   "cell_type": "code",
   "execution_count": 139,
   "metadata": {},
   "outputs": [
    {
     "output_type": "stream",
     "name": "stdout",
     "text": [
      "[2, 4, 6, 8, 'o', ['l', 9.4, [8.1, 'xs']]]\n8.1\n"
     ]
    }
   ],
   "source": [
    "print(lista3) \n",
    "# Quiero el elemento 8.1\n",
    "print(lista3[-1][-1][0])"
   ]
  },
  {
   "source": [
    "### Colecciones\n",
    "\n",
    "1. Listas\n",
    "2. String (colección de caracteres)\n",
    "3. Tuplas\n",
    "4. Conjuntos (Set)\n",
    "5. Diccionarios"
   ],
   "cell_type": "markdown",
   "metadata": {}
  },
  {
   "cell_type": "code",
   "execution_count": 140,
   "metadata": {},
   "outputs": [
    {
     "output_type": "stream",
     "name": "stdout",
     "text": [
      "j\nj\n"
     ]
    }
   ],
   "source": [
    "# Listas --> Mutables\n",
    "lista = [2, 5, \"caract\", [9, \"g\", [\"j\"]]] # Esta lista tiene 4 elementos, [9, \"g\", [\"j\"]] 3 elementos, [\"j\"] 1 elemento\n",
    "# Podemos conseguir \"j\" de diferentes maneras:\n",
    "print(lista[-1][-1][-1])\n",
    "print(lista[3][2][0])"
   ]
  },
  {
   "cell_type": "code",
   "execution_count": 147,
   "metadata": {},
   "outputs": [
    {
     "output_type": "execute_result",
     "data": {
      "text/plain": [
       "[2, 1, ['k', 'm']]"
      ]
     },
     "metadata": {},
     "execution_count": 147
    }
   ],
   "source": [
    "# Update listas\n",
    "lista = [2, \"6\", [\"k\", \"m\"]]\n",
    "lista[1] = 1\n",
    "lista"
   ]
  },
  {
   "cell_type": "code",
   "execution_count": 142,
   "metadata": {},
   "outputs": [
    {
     "output_type": "stream",
     "name": "stdout",
     "text": [
      "<class 'tuple'>\n(2, 5, 'caract', [9, 'g', ['j']])\n"
     ]
    }
   ],
   "source": [
    "# Tuplas --> Inmutables\n",
    "# Las tuplas no permiten agregar elementos, el orden tampoco se puede modificar\n",
    "\n",
    "tupla = (2, 5, \"caract\", [9, \"g\", [\"j\"]]) # Los corchetes nos indican que hay una lista dentro de una tupla\n",
    "print(type(tupla))\n",
    "print(tupla)"
   ]
  },
  {
   "cell_type": "code",
   "execution_count": 146,
   "metadata": {},
   "outputs": [
    {
     "output_type": "stream",
     "name": "stdout",
     "text": [
      "(2,)\n<class 'tuple'>\n2\n<class 'int'>\n"
     ]
    }
   ],
   "source": [
    "tupla = (2,) \n",
    "print(tupla)\n",
    "print(type(tupla))\n",
    "# No es lo mismo que x = (2) esto sería un int (en el que los parentesis sobraría)\n",
    "int = (2)\n",
    "print(int)\n",
    "print(type(int))"
   ]
  },
  {
   "cell_type": "code",
   "execution_count": 145,
   "metadata": {},
   "outputs": [
    {
     "output_type": "stream",
     "name": "stdout",
     "text": [
      "4\n"
     ]
    }
   ],
   "source": [
    "tupla = (2, 4)\n",
    "print(tupla[1]) # Igual que con las listas podemos imprimir solo un elemento de la tupla"
   ]
  },
  {
   "cell_type": "code",
   "execution_count": 148,
   "metadata": {},
   "outputs": [
    {
     "output_type": "error",
     "ename": "TypeError",
     "evalue": "'tuple' object does not support item assignment",
     "traceback": [
      "\u001b[1;31m---------------------------------------------------------------------------\u001b[0m",
      "\u001b[1;31mTypeError\u001b[0m                                 Traceback (most recent call last)",
      "\u001b[1;32m<ipython-input-148-0ef16b1c5b92>\u001b[0m in \u001b[0;36m<module>\u001b[1;34m\u001b[0m\n\u001b[0;32m      1\u001b[0m \u001b[1;31m# no puedo modificar una tupla\u001b[0m\u001b[1;33m\u001b[0m\u001b[1;33m\u001b[0m\u001b[1;33m\u001b[0m\u001b[0m\n\u001b[0;32m      2\u001b[0m \u001b[0mtupla\u001b[0m \u001b[1;33m=\u001b[0m \u001b[1;33m(\u001b[0m\u001b[1;36m2\u001b[0m\u001b[1;33m,\u001b[0m \u001b[1;34m\"6\"\u001b[0m\u001b[1;33m,\u001b[0m \u001b[1;33m[\u001b[0m\u001b[1;34m\"k\"\u001b[0m\u001b[1;33m,\u001b[0m \u001b[1;34m\"m\"\u001b[0m\u001b[1;33m]\u001b[0m\u001b[1;33m)\u001b[0m\u001b[1;33m\u001b[0m\u001b[1;33m\u001b[0m\u001b[0m\n\u001b[1;32m----> 3\u001b[1;33m \u001b[0mtupla\u001b[0m\u001b[1;33m[\u001b[0m\u001b[1;36m1\u001b[0m\u001b[1;33m]\u001b[0m \u001b[1;33m=\u001b[0m \u001b[1;36m1\u001b[0m\u001b[1;33m\u001b[0m\u001b[1;33m\u001b[0m\u001b[0m\n\u001b[0m\u001b[0;32m      4\u001b[0m \u001b[0mtupla\u001b[0m\u001b[1;33m\u001b[0m\u001b[1;33m\u001b[0m\u001b[0m\n",
      "\u001b[1;31mTypeError\u001b[0m: 'tuple' object does not support item assignment"
     ]
    }
   ],
   "source": [
    "# No puedo modificar una tupla\n",
    "tupla = (2, \"6\", [\"k\", \"m\"])\n",
    "tupla[1] = 1\n",
    "tupla"
   ]
  },
  {
   "cell_type": "code",
   "execution_count": 151,
   "metadata": {},
   "outputs": [
    {
     "output_type": "stream",
     "name": "stdout",
     "text": [
      "(2, '6', ['k', 'm', 'otro'])\n"
     ]
    },
    {
     "output_type": "error",
     "ename": "AttributeError",
     "evalue": "'tuple' object has no attribute 'append'",
     "traceback": [
      "\u001b[1;31m---------------------------------------------------------------------------\u001b[0m",
      "\u001b[1;31mAttributeError\u001b[0m                            Traceback (most recent call last)",
      "\u001b[1;32m<ipython-input-151-e043e28f5bc2>\u001b[0m in \u001b[0;36m<module>\u001b[1;34m\u001b[0m\n\u001b[0;32m      6\u001b[0m \u001b[1;33m\u001b[0m\u001b[0m\n\u001b[0;32m      7\u001b[0m \u001b[0mtupla1\u001b[0m \u001b[1;33m=\u001b[0m \u001b[1;33m(\u001b[0m\u001b[1;36m2\u001b[0m\u001b[1;33m,\u001b[0m \u001b[1;34m\"6\"\u001b[0m\u001b[1;33m,\u001b[0m \u001b[1;34m\"k\"\u001b[0m\u001b[1;33m)\u001b[0m\u001b[1;33m\u001b[0m\u001b[1;33m\u001b[0m\u001b[0m\n\u001b[1;32m----> 8\u001b[1;33m \u001b[0mtupla1\u001b[0m\u001b[1;33m.\u001b[0m\u001b[0mappend\u001b[0m\u001b[1;33m(\u001b[0m\u001b[1;34m\"otro\"\u001b[0m\u001b[1;33m)\u001b[0m\u001b[1;33m\u001b[0m\u001b[1;33m\u001b[0m\u001b[0m\n\u001b[0m\u001b[0;32m      9\u001b[0m \u001b[0mprint\u001b[0m\u001b[1;33m(\u001b[0m\u001b[0mtupla1\u001b[0m\u001b[1;33m)\u001b[0m\u001b[1;33m\u001b[0m\u001b[1;33m\u001b[0m\u001b[0m\n",
      "\u001b[1;31mAttributeError\u001b[0m: 'tuple' object has no attribute 'append'"
     ]
    }
   ],
   "source": [
    "tupla = (2, \"6\", [\"k\", \"m\"])\n",
    "tupla[2].append('otro')\n",
    "print(tupla)\n",
    "\n",
    "# Puedo hacer este cambio porque estoy modificando la lista interna, no la tupla. Abajo me da error porque intento añadir/modificar la tupla\n",
    "\n",
    "tupla1 = (2, \"6\", \"k\")\n",
    "tupla1.append(\"otro\")\n",
    "print(tupla1)"
   ]
  },
  {
   "cell_type": "code",
   "execution_count": 152,
   "metadata": {},
   "outputs": [
    {
     "output_type": "execute_result",
     "data": {
      "text/plain": [
       "(2, '6', [])"
      ]
     },
     "metadata": {},
     "execution_count": 152
    }
   ],
   "source": [
    "tupla = (2, \"6\", [\"k\", \"m\"])\n",
    "tupla[2].remove('k')\n",
    "tupla[2].remove('m')\n",
    "# Puedo eliminar la lista interna, pero no puedo eliminar elementos de la tupla\n",
    "tupla"
   ]
  },
  {
   "cell_type": "code",
   "execution_count": null,
   "metadata": {},
   "outputs": [],
   "source": [
    "# Para modificar una tupla tengo que convertirla a una lista primero y luego volver a convertirla a tupla:"
   ]
  },
  {
   "cell_type": "code",
   "execution_count": 153,
   "metadata": {},
   "outputs": [
    {
     "output_type": "execute_result",
     "data": {
      "text/plain": [
       "[2, '6', ['k', 'm']]"
      ]
     },
     "metadata": {},
     "execution_count": 153
    }
   ],
   "source": [
    "tupla = (2, \"6\", [\"k\", \"m\"])\n",
    "tupla = list(tupla)\n",
    "tupla # la he convertido en una lista, que ya es modificable"
   ]
  },
  {
   "cell_type": "code",
   "execution_count": 154,
   "metadata": {},
   "outputs": [
    {
     "output_type": "stream",
     "name": "stdout",
     "text": [
      "[2, '5', ['k', 'm']]\n"
     ]
    }
   ],
   "source": [
    "# Modifico la lista\n",
    "tupla[1] = '5'\n",
    "print(tupla)"
   ]
  },
  {
   "cell_type": "code",
   "execution_count": 155,
   "metadata": {},
   "outputs": [
    {
     "output_type": "stream",
     "name": "stdout",
     "text": [
      "(2, '5', ['k', 'm'])\n"
     ]
    }
   ],
   "source": [
    "# Vuelvo a tener la tupla con el valor modificado \n",
    "tupla = tuple(tupla)\n",
    "print(tupla) "
   ]
  },
  {
   "cell_type": "code",
   "execution_count": 156,
   "metadata": {},
   "outputs": [
    {
     "output_type": "execute_result",
     "data": {
      "text/plain": [
       "{2, 4, 6, 'a', 'h', 'z'}"
      ]
     },
     "metadata": {},
     "execution_count": 156
    }
   ],
   "source": [
    "# Conjuntos/sets: No tiene elementos repetidos y 'ordena' como quiere los elementos\n",
    "# conjunto = {} vacio esta mal, esto es un diccionario. Si hay valores dentro de los paréntesis entonces si que ya se considera un conjunto. Se puede convertir una lista en un conjunto con la funcion 'set':\n",
    "\n",
    "conjunto = [2, 4, 6, \"a\", \"z\", \"h\", 2]\n",
    "conjunto = set(conjunto)\n",
    "conjunto"
   ]
  },
  {
   "cell_type": "code",
   "execution_count": 121,
   "metadata": {},
   "outputs": [
    {
     "output_type": "execute_result",
     "data": {
      "text/plain": [
       "{2, 4, 6, False, True, 'a', 'h', 'z'}"
      ]
     },
     "metadata": {},
     "execution_count": 121
    }
   ],
   "source": [
    "conjunto = [\"a\", \"z\", \"h\", 2, 2, 4, 6, True, True, False]\n",
    "conjunto = set(conjunto)\n",
    "conjunto"
   ]
  },
  {
   "cell_type": "code",
   "execution_count": 122,
   "metadata": {},
   "outputs": [
    {
     "output_type": "execute_result",
     "data": {
      "text/plain": [
       "{2, 2.1, 2.3, 2.4, 4, 6, False, True, 'a', 'h', 'z'}"
      ]
     },
     "metadata": {},
     "execution_count": 122
    }
   ],
   "source": [
    "conjunto = [\"a\", \"z\", \"h\", 2, 2, 4, 6, 2.1, 2.4, 2.3, True, True, False]\n",
    "conjunto = set(conjunto)\n",
    "conjunto"
   ]
  },
  {
   "cell_type": "code",
   "execution_count": 123,
   "metadata": {},
   "outputs": [
    {
     "output_type": "execute_result",
     "data": {
      "text/plain": [
       "{2, 2.1, 2.3, 2.4, 4, 6, False, True, 'a', 'h', 'z'}"
      ]
     },
     "metadata": {},
     "execution_count": 123
    }
   ],
   "source": [
    "# También puedo convertir una tupla a un conjunto\n",
    "conjunto_tupla = (\"a\", \"z\", \"h\", 2, 2, 4, 6, 2.1, 2.4, 2.3, True, True, False)\n",
    "conjunto = set(conjunto_tupla)\n",
    "conjunto"
   ]
  },
  {
   "cell_type": "code",
   "execution_count": 124,
   "metadata": {},
   "outputs": [
    {
     "output_type": "execute_result",
     "data": {
      "text/plain": [
       "{2, 2.1, 2.3, 2.4, 4, 6, False, True, 'a', 'h', 'z'}"
      ]
     },
     "metadata": {},
     "execution_count": 124
    }
   ],
   "source": [
    "conjunto = {\"a\", \"z\", \"h\", 2, 2, 4, 6, 2.1, 2.4, 2.3, True, True, False} #como los corchetes no estan vacios no es un diccionario, es un conjunto\n",
    "conjunto"
   ]
  },
  {
   "cell_type": "code",
   "execution_count": 31,
   "metadata": {},
   "outputs": [
    {
     "output_type": "stream",
     "name": "stdout",
     "text": [
      "{False, True, 2, 2.1, 4, 2.4, 6, 2.3, 'h', (5, 73.2), 'a', None, 'z'}\n"
     ]
    }
   ],
   "source": [
    "# Los conjuntos no pueden tener colecciones mutables. No puedo tener una lista dentro de un conjunto, pero puedo tener una tupla\n",
    "conjunto = {\"a\", \"z\", \"h\",  2, 2, 4, 6, 2.1, 2.4, 2.3, True, True, False, None, (5, 73.2)}\n",
    "print(conjunto)"
   ]
  },
  {
   "cell_type": "code",
   "execution_count": 28,
   "metadata": {},
   "outputs": [
    {
     "output_type": "stream",
     "name": "stdout",
     "text": [
      "[2, 'gato', 'perro']\n"
     ]
    }
   ],
   "source": [
    "# Los conjuntos no tienen índice, no podemos acceder a elementos conjunto[0]\n",
    "# Los conjuntos son útiles para asegurar no tener datos repetidos, y luego lo vuelvo a pasar a lista para poder trabajar con ella.\n",
    "lista = [2, 2, \"perro\", \"gato\"]\n",
    "lista = set(lista)\n",
    "lista = list(lista)\n",
    "print(lista)"
   ]
  },
  {
   "cell_type": "code",
   "execution_count": 157,
   "metadata": {},
   "outputs": [
    {
     "output_type": "execute_result",
     "data": {
      "text/plain": [
       "['S', 't', 'r', 'i', 'n', 'g']"
      ]
     },
     "metadata": {},
     "execution_count": 157
    }
   ],
   "source": [
    "# Transformar un string a lista\n",
    "s = \"String\"\n",
    "lista_s = list(s)\n",
    "lista_s"
   ]
  },
  {
   "cell_type": "code",
   "execution_count": 22,
   "metadata": {},
   "outputs": [
    {
     "output_type": "stream",
     "name": "stdout",
     "text": [
      "{'String'}\n{'n', 'r', 'i', 't', 'S', 'g'}\n"
     ]
    }
   ],
   "source": [
    "# Cambiar de string a conjunto\n",
    "s = \"String\"\n",
    "conj = {s}\n",
    "print(conj)\n",
    "\n",
    "s1 = set(s)\n",
    "print(s1)"
   ]
  },
  {
   "cell_type": "code",
   "execution_count": 34,
   "metadata": {},
   "outputs": [
    {
     "output_type": "stream",
     "name": "stdout",
     "text": [
      "(2, 6, True)\n"
     ]
    }
   ],
   "source": [
    "# Cambiar de tupla a lista, remover elemento y convertir en tupla\n",
    "tupla = (2, 6, [\"x\"], True)\n",
    "tupla = list(tupla)\n",
    "tupla.remove([\"x\"]) #También se pueden eliminar elementos por posiciones, mira el siguiente ejemplo. Tengo que escribir el elemento que quiero eliminar\n",
    "tupla = tuple(tupla)\n",
    "print(tupla)"
   ]
  },
  {
   "cell_type": "code",
   "execution_count": 35,
   "metadata": {},
   "outputs": [
    {
     "output_type": "stream",
     "name": "stdout",
     "text": [
      "[2, 6, ['x']]\n"
     ]
    }
   ],
   "source": [
    "lista = [2, 6, [\"x\"], True]\n",
    "lista.pop() # Si no especifico valores elimina el último elemento\n",
    "print(lista)"
   ]
  },
  {
   "cell_type": "code",
   "execution_count": 36,
   "metadata": {},
   "outputs": [
    {
     "output_type": "stream",
     "name": "stdout",
     "text": [
      "[2, ['x'], True]\n"
     ]
    }
   ],
   "source": [
    "lista = [2, 6, [\"x\"], True]\n",
    "lista.pop(1) # Puedo especificar que elemento eliminar. Pop() elimina elementos considerando su posición\n",
    "print(lista)"
   ]
  },
  {
   "cell_type": "code",
   "execution_count": 24,
   "metadata": {},
   "outputs": [
    {
     "output_type": "execute_result",
     "data": {
      "text/plain": [
       "'x'"
      ]
     },
     "metadata": {},
     "execution_count": 24
    }
   ],
   "source": [
    "# Pop() puede retornar el valor eliminado\n",
    "lista.pop(1)"
   ]
  },
  {
   "cell_type": "code",
   "execution_count": 23,
   "metadata": {},
   "outputs": [
    {
     "output_type": "execute_result",
     "data": {
      "text/plain": [
       "{2, 5, 'h'}"
      ]
     },
     "metadata": {},
     "execution_count": 23
    }
   ],
   "source": [
    "conjunto = {2, 5, \"h\"}\n",
    "lista_con_conjunto = [conjunto]\n",
    "lista_con_conjunto[0]"
   ]
  },
  {
   "cell_type": "code",
   "execution_count": null,
   "metadata": {},
   "outputs": [],
   "source": [
    "# No podemos acceder a elementos de un conjunto\n",
    "lista_con_conjunto[0][0]"
   ]
  },
  {
   "cell_type": "markdown",
   "metadata": {},
   "source": [
    "## 5. Condiciones: if, elif, else"
   ]
  },
  {
   "cell_type": "code",
   "execution_count": 41,
   "metadata": {},
   "outputs": [
    {
     "output_type": "stream",
     "name": "stdout",
     "text": [
      "Es mayor a 3\n"
     ]
    }
   ],
   "source": [
    "x = 5\n",
    "if x > 3:\n",
    "    print(\"Es mayor a 3\")\n",
    "# Al poner los dos puntos (:) siempre hay una indentación automática, si no la hay me va a dar error"
   ]
  },
  {
   "cell_type": "code",
   "execution_count": 45,
   "metadata": {},
   "outputs": [
    {
     "output_type": "stream",
     "name": "stdout",
     "text": [
      "Es mayor a 3\n2\n"
     ]
    }
   ],
   "source": [
    "x = 5\n",
    "if x > 3:\n",
    "    print(\"Es mayor a 3\")\n",
    "    x = 2\n",
    "print(x)"
   ]
  },
  {
   "cell_type": "code",
   "execution_count": 48,
   "metadata": {},
   "outputs": [
    {
     "output_type": "stream",
     "name": "stdout",
     "text": [
      "1\n"
     ]
    }
   ],
   "source": [
    "x = 1\n",
    "if x > 3: # Como x no es menor a 4, el código para de leer aqui\n",
    "    print(\"Es mayor a 3\")\n",
    "    x = 2\n",
    "print(x)"
   ]
  },
  {
   "cell_type": "code",
   "execution_count": 50,
   "metadata": {},
   "outputs": [
    {
     "output_type": "stream",
     "name": "stdout",
     "text": [
      "Es mayor a 3\n5\n"
     ]
    }
   ],
   "source": [
    "# Dos bloques de condiciones diferentes\n",
    "x = 5\n",
    "if x > 3:\n",
    "    print(\"Es mayor a 3\")\n",
    "\n",
    "if x < 4: \n",
    "    x = 2\n",
    "    \n",
    "print(x)"
   ]
  },
  {
   "cell_type": "code",
   "execution_count": 51,
   "metadata": {},
   "outputs": [
    {
     "output_type": "stream",
     "name": "stdout",
     "text": [
      "2\nFuera del bloque\n"
     ]
    }
   ],
   "source": [
    "x = 5\n",
    "if x < 4: # if representa el inicio de un bloque de condiciones\n",
    "    print(\"1\")\n",
    "elif x > 3:\n",
    "    print(\"2\")\n",
    "else:   # else si nada de lo anterior se cumple\n",
    "    print(\"3\")\n",
    "\n",
    "print(\"Fuera del bloque\")\n",
    "# En cuanto una condicion se cumple, si tengo elif, Python para de leer y no sigue con el resto de condiciones"
   ]
  },
  {
   "cell_type": "code",
   "execution_count": null,
   "metadata": {},
   "outputs": [],
   "source": [
    "# Se pueden añadir tantos elif como quieras, pero en una condicional solo puede haber un else como máximo.\n",
    "# Puedo tener un if y un else sin el elif"
   ]
  },
  {
   "cell_type": "code",
   "execution_count": 56,
   "metadata": {},
   "outputs": [
    {
     "output_type": "stream",
     "name": "stdout",
     "text": [
      "x es 5\nFuera del bloque\n"
     ]
    }
   ],
   "source": [
    "x = 5\n",
    "if x < 4: \n",
    "    print(\"1\")\n",
    "elif x > 30:\n",
    "    print(\"2\")\n",
    "elif x == 5: # Los dos iguales comparan, x es igual al valor asignado  \n",
    "    print(\"x es 5\")\n",
    "else:   \n",
    "    print(\"3\")\n",
    "\n",
    "print(\"Fuera del bloque\")"
   ]
  },
  {
   "cell_type": "code",
   "execution_count": 58,
   "metadata": {},
   "outputs": [
    {
     "output_type": "stream",
     "name": "stdout",
     "text": [
      "3\nFuera del bloque\n"
     ]
    }
   ],
   "source": [
    "x = 20\n",
    "if x < 4: \n",
    "    print(\"1\")\n",
    "elif x > 30:\n",
    "    print(\"2\")\n",
    "elif x == 5: \n",
    "    print(\"x es 5\")\n",
    "else:   \n",
    "    print(\"3\")\n",
    "\n",
    "print(\"Fuera del bloque\")"
   ]
  },
  {
   "cell_type": "code",
   "execution_count": null,
   "metadata": {},
   "outputs": [],
   "source": [
    "\"\"\"\n",
    "- if inicia bloque de condiciones\n",
    "- pueden existir todos los elif que se necesiten\n",
    "- solo puede existir un else\n",
    "- no son necesarios ni los elif ni el else\n",
    "\"\"\""
   ]
  },
  {
   "cell_type": "code",
   "execution_count": 60,
   "metadata": {},
   "outputs": [
    {
     "output_type": "stream",
     "name": "stdout",
     "text": [
      "primer else\n2\nFuera del bloque\n"
     ]
    }
   ],
   "source": [
    "x = 5\n",
    "if x < 4: \n",
    "    print(\"1\")\n",
    "elif x > 30:\n",
    "    print(\"2\")\n",
    "elif x == 6: \n",
    "    print(\"x es 6\")\n",
    "else:   \n",
    "    print(\"primer else\")\n",
    "\n",
    "if x < 4:   # Esto es un nuevo bloque de condiciones, por eso Python vuelve a analizarlo. Pero una vez que una condición de este                    bloque se satisface ya para de leer\n",
    "    print(\"1\")\n",
    "elif x > 3:\n",
    "    print(\"2\")\n",
    "elif x == 5:    # Aunque esto es verdad, como la condición anterior se satisface el código ya no sigue leyendo esto.\n",
    "    print(\"x es 5\")\n",
    "else:   \n",
    "    print(\"primer else\")\n",
    "\n",
    "print(\"Fuera del bloque\")"
   ]
  },
  {
   "cell_type": "code",
   "execution_count": 63,
   "metadata": {},
   "outputs": [
    {
     "output_type": "stream",
     "name": "stdout",
     "text": [
      "2\n"
     ]
    }
   ],
   "source": [
    "x = 5\n",
    "if x < 4: \n",
    "    print(\"1\")\n",
    "elif x > 3:\n",
    "    print(\"2\")\n",
    "    x =6    # esto ocurre aunque ya no sale en el resultado porque justo la condición anterior se satisface. Pero si tengo otro bloque de condiciones debajo, x ya es 6 y no 5\n",
    "elif x == 6: \n",
    "    print(\"x es 6\")\n",
    "else:   \n",
    "    print(\"primer else\")\n",
    "\n",
    "if x == 6:\n",
    "    print(\"x es 6\")\n"
   ]
  },
  {
   "cell_type": "code",
   "execution_count": 26,
   "metadata": {},
   "outputs": [
    {
     "output_type": "stream",
     "name": "stdout",
     "text": [
      "2\n1\n"
     ]
    }
   ],
   "source": [
    "x = 5\n",
    "if x < 4: \n",
    "    print(\"1\")\n",
    "elif x > 3:\n",
    "    print(\"2\")\n",
    "    x = 10\n",
    "    if x > 4: # Puedo tener if metidos en elif. Condiciones dentro de condiciones, puedes tener tantas como quieras\n",
    "        print(\"1\")\n",
    "    elif x ==5:\n",
    "        print(\"else interno\")\n",
    "elif x == 6: \n",
    "    print(\"x es 6\")\n",
    "else:   \n",
    "    print(\"primer else\")\n"
   ]
  },
  {
   "source": [
    "\"\"\"\n",
    "==  -> Igualdad\n",
    "!= -> Diferecia\n",
    "< -> Menor que\n",
    "> -> Mayor que\n",
    "<= -> Menor o igual\n",
    ">= -> Mayor o igual\n",
    "\"\"\"\n",
    "\n",
    "print(2 == 2)"
   ],
   "cell_type": "code",
   "metadata": {},
   "execution_count": 65,
   "outputs": [
    {
     "output_type": "stream",
     "name": "stdout",
     "text": [
      "True\n"
     ]
    }
   ]
  },
  {
   "cell_type": "code",
   "execution_count": 67,
   "metadata": {},
   "outputs": [
    {
     "output_type": "stream",
     "name": "stdout",
     "text": [
      "hola\n"
     ]
    }
   ],
   "source": [
    "# True es algo verdadero\n",
    "if True:\n",
    "    print (\"hola\")\n",
    "else:\n",
    "    print(\"adios\")"
   ]
  },
  {
   "cell_type": "code",
   "execution_count": 68,
   "metadata": {},
   "outputs": [
    {
     "output_type": "execute_result",
     "data": {
      "text/plain": [
       "False"
      ]
     },
     "metadata": {},
     "execution_count": 68
    }
   ],
   "source": [
    "# 'and' solo devolverá True si TODOS son True\n",
    "True and False"
   ]
  },
  {
   "cell_type": "code",
   "execution_count": 69,
   "metadata": {},
   "outputs": [
    {
     "output_type": "stream",
     "name": "stdout",
     "text": [
      "adios\nadios\n"
     ]
    }
   ],
   "source": [
    "if 1 == 1 and 2 == 3:\n",
    "    print (\"hola\")\n",
    "else:\n",
    "    print(\"adios\")\n",
    "\n",
    "if True and False:\n",
    "    print (\"hola\")\n",
    "else:\n",
    "    print(\"adios\")"
   ]
  },
  {
   "cell_type": "code",
   "execution_count": 71,
   "metadata": {},
   "outputs": [
    {
     "output_type": "stream",
     "name": "stdout",
     "text": [
      "hola\nhola\n"
     ]
    }
   ],
   "source": [
    "# 'or' devolverá True si UNO es True\n",
    "if 1 == 1 or 2 == 3:\n",
    "    print (\"hola\")\n",
    "else:\n",
    "    print(\"adios\")\n",
    "\n",
    "if True or False:\n",
    "    print (\"hola\")\n",
    "else:\n",
    "    print(\"adios\")"
   ]
  },
  {
   "cell_type": "code",
   "execution_count": 73,
   "metadata": {},
   "outputs": [
    {
     "output_type": "stream",
     "name": "stdout",
     "text": [
      "hola\nhola\n"
     ]
    }
   ],
   "source": [
    "if 1 == 1 or 2 == 3 and 5 == 2: # En cuanto haya un True con un or ya se satisfacen todas las condiciones, asi que las demas no importan\n",
    "    print (\"hola\")\n",
    "else:\n",
    "    print(\"adios\")\n",
    "\n",
    "if True or False or False:\n",
    "    print (\"hola\")\n",
    "else:\n",
    "    print(\"adios\") "
   ]
  },
  {
   "cell_type": "code",
   "execution_count": 74,
   "metadata": {},
   "outputs": [
    {
     "output_type": "stream",
     "name": "stdout",
     "text": [
      "adios\n"
     ]
    }
   ],
   "source": [
    "if False or False and True: # Como el primer or es falso, tenemos que mirar que pasaría con el resto de condiciones\n",
    "    print (\"hola\")\n",
    "else:\n",
    "    print(\"adios\")"
   ]
  },
  {
   "cell_type": "code",
   "execution_count": null,
   "metadata": {},
   "outputs": [],
   "source": [
    "# Con parentesis podemos añadir prioridad a las comparaciones y eso puede cambiar el resultado"
   ]
  },
  {
   "cell_type": "code",
   "execution_count": null,
   "metadata": {},
   "outputs": [],
   "source": [
    "\"\"\" Los elementos en python que son False:\n",
    "- 0 (cero)\n",
    "- conjuntos vacíos ([], (), {}, \"\", set vacío)\n",
    "- False\n",
    "\n",
    "\"\"\""
   ]
  },
  {
   "cell_type": "code",
   "execution_count": null,
   "metadata": {},
   "outputs": [],
   "source": [
    "# Sinónimos de False para las condiciones:\n",
    "# None\n",
    "# False\n",
    "# 0 (int or float)\n",
    "# Cualquier colección vacía --> [], \"\", (), {}\n",
    "\n",
    "# El None no actúa como un número al compararlo con otro número\n",
    "\"\"\"\n",
    "El True lo toma como un numérico 1\n",
    "\"\"\""
   ]
  },
  {
   "cell_type": "code",
   "execution_count": 80,
   "metadata": {},
   "outputs": [
    {
     "output_type": "stream",
     "name": "stdout",
     "text": [
      "vacio\n"
     ]
    }
   ],
   "source": [
    "if 0:\n",
    "    print(\"hola\")\n",
    "elif [] or ():\n",
    "    print(\"hola\")\n",
    "else:\n",
    "    print(\"vacio\")"
   ]
  },
  {
   "cell_type": "code",
   "execution_count": 81,
   "metadata": {},
   "outputs": [
    {
     "output_type": "stream",
     "name": "stdout",
     "text": [
      "hola\n"
     ]
    }
   ],
   "source": [
    "if -4462:\n",
    "    print(\"hola\")\n",
    "# 2 no forma parte de los elementos anteriores, asi que Python lo considera como True"
   ]
  },
  {
   "cell_type": "code",
   "execution_count": 84,
   "metadata": {},
   "outputs": [
    {
     "output_type": "stream",
     "name": "stdout",
     "text": [
      "3\n"
     ]
    }
   ],
   "source": [
    "lista = [0, False, \"Hola\"]\n",
    "if lista[0]:\n",
    "    print(\"1\")\n",
    "elif lista[1]:\n",
    "    print(\"2\")\n",
    "elif lista[2]:\n",
    "    print(\"3\")"
   ]
  },
  {
   "cell_type": "code",
   "execution_count": null,
   "metadata": {},
   "outputs": [],
   "source": [
    "# Click a la barra de la izquierda y cuando este azul, letra l para ver los números de las líneas. Esto ayuda cuando el código es muy largo para saber donde esta un error por ejemplo"
   ]
  },
  {
   "cell_type": "code",
   "execution_count": null,
   "metadata": {},
   "outputs": [],
   "source": [
    "# La diferencia entre el if y elif es que python sigue leyendo cuando hay if y para cuando un elif se cumple"
   ]
  },
  {
   "cell_type": "code",
   "execution_count": null,
   "metadata": {},
   "outputs": [],
   "source": [
    "# Ejemplos varios de condicionales:"
   ]
  },
  {
   "cell_type": "code",
   "execution_count": 27,
   "metadata": {},
   "outputs": [],
   "source": [
    "if 0.0:\n",
    "    print(2)\n",
    "    "
   ]
  },
  {
   "cell_type": "code",
   "execution_count": 28,
   "metadata": {},
   "outputs": [],
   "source": [
    "if [] or False or 0 or None:\n",
    "    print(4)"
   ]
  },
  {
   "cell_type": "code",
   "execution_count": 29,
   "metadata": {},
   "outputs": [],
   "source": [
    "if [] and False or 0 or None:\n",
    "    print(4)"
   ]
  },
  {
   "cell_type": "code",
   "execution_count": 31,
   "metadata": {},
   "outputs": [
    {
     "output_type": "stream",
     "name": "stdout",
     "text": [
      "4\n"
     ]
    }
   ],
   "source": [
    "if not([] or False or 0 or None):\n",
    "    print(4)"
   ]
  },
  {
   "cell_type": "code",
   "execution_count": 32,
   "metadata": {},
   "outputs": [
    {
     "output_type": "execute_result",
     "data": {
      "text/plain": [
       "1"
      ]
     },
     "metadata": {},
     "execution_count": 32
    }
   ],
   "source": [
    "x = True\n",
    "y = False\n",
    "\n",
    "x + y "
   ]
  },
  {
   "cell_type": "code",
   "execution_count": 9,
   "metadata": {},
   "outputs": [
    {
     "output_type": "execute_result",
     "data": {
      "text/plain": [
       "'TrueFalse'"
      ]
     },
     "metadata": {},
     "execution_count": 9
    }
   ],
   "source": [
    "x = True\n",
    "y = False\n",
    "\n",
    "str(x) + str(y) "
   ]
  },
  {
   "cell_type": "code",
   "execution_count": null,
   "metadata": {},
   "outputs": [],
   "source": [
    "# Not. Hace que todo lo siguiente sea lo contrario\n",
    "2 == 2 = True\n",
    "not (2 == 2) = False"
   ]
  },
  {
   "cell_type": "code",
   "execution_count": 85,
   "metadata": {},
   "outputs": [
    {
     "output_type": "stream",
     "name": "stdout",
     "text": [
      "0\n"
     ]
    }
   ],
   "source": [
    "if 2==2 and not 3==3 or 1==2:\n",
    "    print(1)\n",
    "else:\n",
    "    print(0)"
   ]
  },
  {
   "cell_type": "code",
   "execution_count": null,
   "metadata": {},
   "outputs": [],
   "source": []
  },
  {
   "cell_type": "markdown",
   "metadata": {},
   "source": [
    "# Bucles For, While"
   ]
  },
  {
   "cell_type": "code",
   "execution_count": 90,
   "metadata": {},
   "outputs": [
    {
     "output_type": "stream",
     "name": "stdout",
     "text": [
      "2\nx\n[6]\nfin\n"
     ]
    }
   ],
   "source": [
    "# For\n",
    "lista = [2, \"x\", [6]]\n",
    "for x in lista: # x aqui representa a los elementos no al string x, pero puedo llamarlo como quiera\n",
    "    print(x)\n",
    "\n",
    "print(\"fin\")"
   ]
  },
  {
   "cell_type": "code",
   "execution_count": 91,
   "metadata": {},
   "outputs": [
    {
     "output_type": "stream",
     "name": "stdout",
     "text": [
      "1\n0\n6\n"
     ]
    }
   ],
   "source": [
    "lista = [2, 1, 7]\n",
    "# Muestra todos los elementos de la lista restándoles 1\n",
    "for elemento in lista: \n",
    "    print(elemento - 1)"
   ]
  },
  {
   "cell_type": "code",
   "execution_count": 92,
   "metadata": {},
   "outputs": [
    {
     "output_type": "stream",
     "name": "stdout",
     "text": [
      "xF\nyF\nzF\n"
     ]
    }
   ],
   "source": [
    "lista = [\"x\", \"y\", \"z\"]\n",
    "# Muestra todos los elementos de la lista concatenándoles \"F\"\n",
    "for elemento in lista: \n",
    "    print(elemento + \"F\")"
   ]
  },
  {
   "cell_type": "code",
   "execution_count": 93,
   "metadata": {},
   "outputs": [
    {
     "output_type": "stream",
     "name": "stdout",
     "text": [
      "XF\n"
     ]
    },
    {
     "output_type": "error",
     "ename": "TypeError",
     "evalue": "unsupported operand type(s) for +: 'int' and 'str'",
     "traceback": [
      "\u001b[1;31m---------------------------------------------------------------------------\u001b[0m",
      "\u001b[1;31mTypeError\u001b[0m                                 Traceback (most recent call last)",
      "\u001b[1;32m<ipython-input-93-f50e9d3ae333>\u001b[0m in \u001b[0;36m<module>\u001b[1;34m\u001b[0m\n\u001b[0;32m      2\u001b[0m \u001b[1;31m# Mostrar todos los elemenots de la lista concatenándoles \"F\"\u001b[0m\u001b[1;33m\u001b[0m\u001b[1;33m\u001b[0m\u001b[1;33m\u001b[0m\u001b[0m\n\u001b[0;32m      3\u001b[0m \u001b[1;32mfor\u001b[0m \u001b[0mvalor_del_elemento\u001b[0m \u001b[1;32min\u001b[0m \u001b[0mtupla\u001b[0m\u001b[1;33m:\u001b[0m\u001b[1;33m\u001b[0m\u001b[1;33m\u001b[0m\u001b[0m\n\u001b[1;32m----> 4\u001b[1;33m     \u001b[0mprint\u001b[0m\u001b[1;33m(\u001b[0m\u001b[0mvalor_del_elemento\u001b[0m \u001b[1;33m+\u001b[0m \u001b[1;34m\"F\"\u001b[0m\u001b[1;33m)\u001b[0m\u001b[1;33m\u001b[0m\u001b[1;33m\u001b[0m\u001b[0m\n\u001b[0m",
      "\u001b[1;31mTypeError\u001b[0m: unsupported operand type(s) for +: 'int' and 'str'"
     ]
    }
   ],
   "source": [
    "tupla= (\"X\", 1, \"G\")\n",
    "# Mostrar todos los elemenots de la lista concatenándoles \"F\"\n",
    "for valor_del_elemento in tupla:\n",
    "    print(valor_del_elemento + \"F\")\n",
    "\n",
    "# Error porque no podemos concatenar un int con un string"
   ]
  },
  {
   "cell_type": "code",
   "execution_count": 94,
   "metadata": {},
   "outputs": [
    {
     "output_type": "stream",
     "name": "stdout",
     "text": [
      "XF\n1F\nGF\n"
     ]
    }
   ],
   "source": [
    "tupla= (\"X\", 1, \"G\")\r\n",
    "# Mostrar todos los elemenots de la lista concatenándoles \"F\"\r\n",
    "for valor_del_elemento in tupla:\r\n",
    "    print(str(valor_del_elemento) + \"F\") # Para solucionar el problema anterior convertimos todos los elementos a string para poder concatenar"
   ]
  },
  {
   "cell_type": "code",
   "execution_count": 96,
   "metadata": {},
   "outputs": [
    {
     "output_type": "stream",
     "name": "stdout",
     "text": [
      "1F\n"
     ]
    }
   ],
   "source": [
    "# Podemos combinar for con if\n",
    "tupla= (\"X\", 1, \"G\")\n",
    "# Concatenar \"F\" solo al número 1:\n",
    "for valor_del_elemento in tupla:\n",
    "    if valor_del_elemento == 1:\n",
    "        print(str(valor_del_elemento) + \"F\") # Recordar las indenciones"
   ]
  },
  {
   "cell_type": "code",
   "execution_count": 99,
   "metadata": {},
   "outputs": [
    {
     "output_type": "stream",
     "name": "stdout",
     "text": [
      "[2, 4]\n[6, '8']\n"
     ]
    }
   ],
   "source": [
    "lista = [[2, 4], [6, \"8\"]]\n",
    "\n",
    "for x in lista:\n",
    "    print(x)    # Python tutor explica esto "
   ]
  },
  {
   "cell_type": "code",
   "execution_count": 100,
   "metadata": {},
   "outputs": [
    {
     "output_type": "stream",
     "name": "stdout",
     "text": [
      "fuera del for\n"
     ]
    }
   ],
   "source": [
    "lista = [[2, 4], [6, \"8\"]]\n",
    "\n",
    "for x in lista:\n",
    "    if len(x) >=3:\n",
    "        print(x)\n",
    "print(\"fuera del for\")    "
   ]
  },
  {
   "cell_type": "code",
   "execution_count": 101,
   "metadata": {},
   "outputs": [
    {
     "output_type": "error",
     "ename": "TypeError",
     "evalue": "object of type 'int' has no len()",
     "traceback": [
      "\u001b[1;31m---------------------------------------------------------------------------\u001b[0m",
      "\u001b[1;31mTypeError\u001b[0m                                 Traceback (most recent call last)",
      "\u001b[1;32m<ipython-input-101-c2293859f22b>\u001b[0m in \u001b[0;36m<module>\u001b[1;34m\u001b[0m\n\u001b[0;32m      2\u001b[0m \u001b[1;33m\u001b[0m\u001b[0m\n\u001b[0;32m      3\u001b[0m \u001b[1;32mfor\u001b[0m \u001b[0mx\u001b[0m \u001b[1;32min\u001b[0m \u001b[0mlista\u001b[0m\u001b[1;33m:\u001b[0m\u001b[1;33m\u001b[0m\u001b[1;33m\u001b[0m\u001b[0m\n\u001b[1;32m----> 4\u001b[1;33m     \u001b[1;32mif\u001b[0m \u001b[0mlen\u001b[0m\u001b[1;33m(\u001b[0m\u001b[0mx\u001b[0m\u001b[1;33m)\u001b[0m \u001b[1;33m>=\u001b[0m\u001b[1;36m3\u001b[0m\u001b[1;33m:\u001b[0m\u001b[1;33m\u001b[0m\u001b[1;33m\u001b[0m\u001b[0m\n\u001b[0m\u001b[0;32m      5\u001b[0m         \u001b[0mprint\u001b[0m\u001b[1;33m(\u001b[0m\u001b[0mx\u001b[0m\u001b[1;33m)\u001b[0m\u001b[1;33m\u001b[0m\u001b[1;33m\u001b[0m\u001b[0m\n\u001b[0;32m      6\u001b[0m \u001b[0mprint\u001b[0m\u001b[1;33m(\u001b[0m\u001b[1;34m\"fuera del for\"\u001b[0m\u001b[1;33m)\u001b[0m\u001b[1;33m\u001b[0m\u001b[1;33m\u001b[0m\u001b[0m\n",
      "\u001b[1;31mTypeError\u001b[0m: object of type 'int' has no len()"
     ]
    }
   ],
   "source": [
    "lista = [[2, 4], \"x\", 2, [6, \"8\"]]\n",
    "\n",
    "for x in lista:\n",
    "    if len(x) >=3:\n",
    "        print(x)\n",
    "print(\"fuera del for\")   \n",
    "# Nos da error porque el int 2 no es una colección (el str es una colección), es un número y no podemos comparar su longitud con >=3"
   ]
  },
  {
   "cell_type": "code",
   "execution_count": 102,
   "metadata": {},
   "outputs": [
    {
     "output_type": "stream",
     "name": "stdout",
     "text": [
      "[2, 4]\nxyz\nxyz\n2\n"
     ]
    },
    {
     "output_type": "error",
     "ename": "TypeError",
     "evalue": "object of type 'int' has no len()",
     "traceback": [
      "\u001b[1;31m---------------------------------------------------------------------------\u001b[0m",
      "\u001b[1;31mTypeError\u001b[0m                                 Traceback (most recent call last)",
      "\u001b[1;32m<ipython-input-102-48e3adaab2b1>\u001b[0m in \u001b[0;36m<module>\u001b[1;34m\u001b[0m\n\u001b[0;32m      3\u001b[0m \u001b[1;32mfor\u001b[0m \u001b[0mx\u001b[0m \u001b[1;32min\u001b[0m \u001b[0mlista\u001b[0m\u001b[1;33m:\u001b[0m\u001b[1;33m\u001b[0m\u001b[1;33m\u001b[0m\u001b[0m\n\u001b[0;32m      4\u001b[0m     \u001b[0mprint\u001b[0m\u001b[1;33m(\u001b[0m\u001b[0mx\u001b[0m\u001b[1;33m)\u001b[0m\u001b[1;33m\u001b[0m\u001b[1;33m\u001b[0m\u001b[0m\n\u001b[1;32m----> 5\u001b[1;33m     \u001b[1;32mif\u001b[0m \u001b[0mlen\u001b[0m\u001b[1;33m(\u001b[0m\u001b[0mx\u001b[0m\u001b[1;33m)\u001b[0m \u001b[1;33m>=\u001b[0m\u001b[1;36m3\u001b[0m\u001b[1;33m:\u001b[0m\u001b[1;33m\u001b[0m\u001b[1;33m\u001b[0m\u001b[0m\n\u001b[0m\u001b[0;32m      6\u001b[0m         \u001b[0mprint\u001b[0m\u001b[1;33m(\u001b[0m\u001b[0mx\u001b[0m\u001b[1;33m)\u001b[0m\u001b[1;33m\u001b[0m\u001b[1;33m\u001b[0m\u001b[0m\n\u001b[0;32m      7\u001b[0m \u001b[0mprint\u001b[0m\u001b[1;33m(\u001b[0m\u001b[1;34m\"fuera del for\"\u001b[0m\u001b[1;33m)\u001b[0m\u001b[1;33m\u001b[0m\u001b[1;33m\u001b[0m\u001b[0m\n",
      "\u001b[1;31mTypeError\u001b[0m: object of type 'int' has no len()"
     ]
    }
   ],
   "source": [
    "lista = [[2, 4], \"xyz\", 2, [6, \"8\"]]\n",
    "\n",
    "for x in lista:\n",
    "    print(x)\n",
    "    if len(x) >=3:\n",
    "        print(x)\n",
    "print(\"fuera del for\")   \n",
    "# Nos da error porque el int 2 no es una colección, es un número y no podemos comparar su longitud con >=3\n",
    "# \"xyz\" sale dos veces porque primero lo imprime, y luego lo vuelve a imprimir porque el string es >=3\n",
    "# El error para la ejecución por eso no llegamos a [6, \"8\"]"
   ]
  },
  {
   "cell_type": "code",
   "execution_count": 104,
   "metadata": {},
   "outputs": [
    {
     "output_type": "stream",
     "name": "stdout",
     "text": [
      "[2, 4]\n-----------------\nxyz\nxyz\n-----------------\n2\n"
     ]
    },
    {
     "output_type": "error",
     "ename": "TypeError",
     "evalue": "object of type 'int' has no len()",
     "traceback": [
      "\u001b[1;31m---------------------------------------------------------------------------\u001b[0m",
      "\u001b[1;31mTypeError\u001b[0m                                 Traceback (most recent call last)",
      "\u001b[1;32m<ipython-input-104-e0e24235007e>\u001b[0m in \u001b[0;36m<module>\u001b[1;34m\u001b[0m\n\u001b[0;32m      5\u001b[0m \u001b[1;32mfor\u001b[0m \u001b[0mx\u001b[0m \u001b[1;32min\u001b[0m \u001b[0mlista\u001b[0m\u001b[1;33m:\u001b[0m\u001b[1;33m\u001b[0m\u001b[1;33m\u001b[0m\u001b[0m\n\u001b[0;32m      6\u001b[0m     \u001b[0mprint\u001b[0m\u001b[1;33m(\u001b[0m\u001b[0mx\u001b[0m\u001b[1;33m)\u001b[0m\u001b[1;33m\u001b[0m\u001b[1;33m\u001b[0m\u001b[0m\n\u001b[1;32m----> 7\u001b[1;33m     \u001b[1;32mif\u001b[0m \u001b[0mlen\u001b[0m\u001b[1;33m(\u001b[0m\u001b[0mx\u001b[0m\u001b[1;33m)\u001b[0m \u001b[1;33m>=\u001b[0m\u001b[1;36m3\u001b[0m\u001b[1;33m:\u001b[0m\u001b[1;33m\u001b[0m\u001b[1;33m\u001b[0m\u001b[0m\n\u001b[0m\u001b[0;32m      8\u001b[0m         \u001b[0mprint\u001b[0m\u001b[1;33m(\u001b[0m\u001b[0mx\u001b[0m\u001b[1;33m)\u001b[0m\u001b[1;33m\u001b[0m\u001b[1;33m\u001b[0m\u001b[0m\n\u001b[0;32m      9\u001b[0m     \u001b[0mprint\u001b[0m\u001b[1;33m(\u001b[0m\u001b[1;34m\"-----------------\"\u001b[0m\u001b[1;33m)\u001b[0m\u001b[1;33m\u001b[0m\u001b[1;33m\u001b[0m\u001b[0m\n",
      "\u001b[1;31mTypeError\u001b[0m: object of type 'int' has no len()"
     ]
    }
   ],
   "source": [
    "# Podemos poner \"pistas\" en nuestro código para saber que esta pasado\n",
    "# En este caso los guiones nos separan las diferentes iteraciones\n",
    "lista = [[2, 4], \"xyz\", 2, [6, \"8\"]]\n",
    "\n",
    "for x in lista:\n",
    "    print(x)\n",
    "    if len(x) >=3:\n",
    "        print(x)\n",
    "    print(\"-----------------\")\n",
    "print(\"fuera del for\") "
   ]
  },
  {
   "cell_type": "code",
   "execution_count": 105,
   "metadata": {},
   "outputs": [
    {
     "output_type": "stream",
     "name": "stdout",
     "text": [
      "x es entero\n"
     ]
    }
   ],
   "source": [
    "# 'isinstance' es una función en la que la condicional solo se cumple si el tipo de la variable es el que le asignas. Sirve para filtrar por tipo de elemento\n",
    "x = 2\n",
    "if isinstance(x,(int, float)):\n",
    "    print(\"x es entero\")"
   ]
  },
  {
   "cell_type": "code",
   "execution_count": 106,
   "metadata": {},
   "outputs": [
    {
     "output_type": "stream",
     "name": "stdout",
     "text": [
      "x es entero\n"
     ]
    }
   ],
   "source": [
    "x = 2\n",
    "if type(x) == int or type(x) == float:\n",
    "    print(\"x es entero\")"
   ]
  },
  {
   "cell_type": "code",
   "execution_count": 107,
   "metadata": {},
   "outputs": [
    {
     "output_type": "stream",
     "name": "stdout",
     "text": [
      "[2, 4]\n[6, '8']\n"
     ]
    }
   ],
   "source": [
    "lista = [[2, 4], \"xyz\", 2, [6, \"8\"]]\n",
    "\n",
    "# Mostrar solo los que sean listas\n",
    "for x in lista:\n",
    "    if isinstance(x, list):\n",
    "        print(x)"
   ]
  },
  {
   "source": [
    "# Lista alturas\n",
    "lista_alturas = [1.66,1.82,1.73,1.75,1.54,1.70,1.70,1.80,1.81,1.87, 1.86, 1.52, 1.70, 1.78, 1.73, 1.78, 1.60, 1.77,1.80, 1.64, 1.79]\n",
    "# Mostrar solo las alturas menores de 1.70\n",
    "for altura in lista_alturas:\n",
    "    if altura < 1.7:\n",
    "        print(altura)"
   ],
   "cell_type": "code",
   "metadata": {},
   "execution_count": 110,
   "outputs": [
    {
     "output_type": "stream",
     "name": "stdout",
     "text": [
      "1.66\n1.54\n1.52\n1.6\n1.64\n"
     ]
    }
   ]
  },
  {
   "cell_type": "code",
   "execution_count": 35,
   "metadata": {},
   "outputs": [
    {
     "output_type": "stream",
     "name": "stdout",
     "text": [
      "1.66\n1.54\n1.52\n1.6\n1.64\n[1.66, 1.54, 1.52, 1.6, 1.64]\n"
     ]
    }
   ],
   "source": [
    "lista_alturas = [1.66,1.82,1.73,1.75,1.54,1.70,1.70,1.80,1.81,1.87, 1.86, 1.52, 1.70, 1.78, 1.73, 1.78, 1.60, 1.77,1.80, 1.64, 1.79]\n",
    "\n",
    "alturas_menores = []\n",
    "\n",
    "for altura in lista_alturas:\n",
    "    if altura < 1.7:\n",
    "        alturas_menores.append(altura)\n",
    "        print(altura)\n",
    "\n",
    "#Necesito crear una variable primero, una lista vacia para poder guardar los valores despues. Con append podemos añadir valores a la lista\n",
    "print(alturas_menores)"
   ]
  },
  {
   "cell_type": "code",
   "execution_count": 36,
   "metadata": {},
   "outputs": [
    {
     "output_type": "stream",
     "name": "stdout",
     "text": [
      "1.66\n1.54\n"
     ]
    },
    {
     "output_type": "error",
     "ename": "TypeError",
     "evalue": "'<' not supported between instances of 'str' and 'float'",
     "traceback": [
      "\u001b[1;31m---------------------------------------------------------------------------\u001b[0m",
      "\u001b[1;31mTypeError\u001b[0m                                 Traceback (most recent call last)",
      "\u001b[1;32m<ipython-input-36-613fefeb5ae8>\u001b[0m in \u001b[0;36m<module>\u001b[1;34m\u001b[0m\n\u001b[0;32m      4\u001b[0m \u001b[1;33m\u001b[0m\u001b[0m\n\u001b[0;32m      5\u001b[0m \u001b[1;32mfor\u001b[0m \u001b[0maltura\u001b[0m \u001b[1;32min\u001b[0m \u001b[0mlista_alturas\u001b[0m\u001b[1;33m:\u001b[0m\u001b[1;33m\u001b[0m\u001b[1;33m\u001b[0m\u001b[0m\n\u001b[1;32m----> 6\u001b[1;33m     \u001b[1;32mif\u001b[0m \u001b[0maltura\u001b[0m \u001b[1;33m<\u001b[0m \u001b[1;36m1.7\u001b[0m \u001b[1;32mand\u001b[0m \u001b[0misinstance\u001b[0m\u001b[1;33m(\u001b[0m\u001b[0maltura\u001b[0m\u001b[1;33m,\u001b[0m \u001b[0mfloat\u001b[0m\u001b[1;33m)\u001b[0m\u001b[1;33m:\u001b[0m\u001b[1;33m\u001b[0m\u001b[1;33m\u001b[0m\u001b[0m\n\u001b[0m\u001b[0;32m      7\u001b[0m         \u001b[0malturas_menores\u001b[0m\u001b[1;33m.\u001b[0m\u001b[0mappend\u001b[0m\u001b[1;33m(\u001b[0m\u001b[0maltura\u001b[0m\u001b[1;33m)\u001b[0m\u001b[1;33m\u001b[0m\u001b[1;33m\u001b[0m\u001b[0m\n\u001b[0;32m      8\u001b[0m         \u001b[0mprint\u001b[0m\u001b[1;33m(\u001b[0m\u001b[0maltura\u001b[0m\u001b[1;33m)\u001b[0m\u001b[1;33m\u001b[0m\u001b[1;33m\u001b[0m\u001b[0m\n",
      "\u001b[1;31mTypeError\u001b[0m: '<' not supported between instances of 'str' and 'float'"
     ]
    }
   ],
   "source": [
    "lista_alturas =[1.66,1.82,1.73,1.75,1.54,1.70,1.7, \"x\",1.80,1.81,1.87, 1.86, 1.52, 1.70, 1.78, 1.73, 1.78, 1.60, 1.77,1.80, 1.64,1.85, 1.79, 1.63]\n",
    "\n",
    "alturas_menores = []\n",
    "\n",
    "for altura in lista_alturas:\n",
    "    if altura < 1.7 and isinstance(altura, float): \n",
    "        alturas_menores.append(altura)\n",
    "        print(altura)\n",
    "\n",
    "print(alturas_menores)\n",
    "# Nos sale error porque esta comparando la altura <1.70 con el string \"x\""
   ]
  },
  {
   "cell_type": "code",
   "execution_count": 37,
   "metadata": {},
   "outputs": [
    {
     "output_type": "stream",
     "name": "stdout",
     "text": [
      "1.66\n1.54\n1.52\n1.6\n1.64\n1.63\n[1.66, 1.54, 1.52, 1.6, 1.64, 1.63]\n"
     ]
    }
   ],
   "source": [
    "lista_alturas = [1.66,1.82,1.73,1.75,1.54,1.70,1.70,1.80,\"x\",1.81,1.87, 1.86, 1.52, 1.70, 1.78, 1.73, 1.78, 1.60, 1.77,1.80, 1.64,1.85, 1.79, 1.63]\n",
    "\n",
    "# mostrar solo las alturas menores a 1.7 \n",
    "# & guardar en una variable 'alturas_menores' aquellas\n",
    "\n",
    "alturas_menores = []\n",
    "\n",
    "for altura in lista_alturas:\n",
    "    if isinstance(altura, float) and altura < 1.7: # Simplemente con cambiar el orden de las condiciones solucionamos el error porque si el elemento no es un float el código se para y ya no hay comparación con <1.70\n",
    "# Si isinstance se pone en primer lugar, la condición del for solo se va a hacer para aquellos que sean True el isinstance\n",
    "        alturas_menores.append(altura)\n",
    "        print(altura)\n",
    "\n",
    "print(alturas_menores)"
   ]
  },
  {
   "cell_type": "code",
   "execution_count": 38,
   "metadata": {},
   "outputs": [
    {
     "output_type": "stream",
     "name": "stdout",
     "text": [
      "1.66\n1.54\n1.52\nEste valor es entero: 200\n1.6\n1.64\n1.63\n[1.66, 1.54, 1.52, 1.6, 1.64, 1.63]\n"
     ]
    }
   ],
   "source": [
    "lista_alturas = [1.66,1.82,1.73,1.75,1.54,1.70,1.70,1.80,1.81,1.87, 1.86, 1.52, \"x\", 1.70, 200, 1.78, 1.73, 1.78, 1.60, 1.77,1.80, 1.64,1.85, 1.79, 1.63]\n",
    "\n",
    "alturas_menores = []\n",
    "\n",
    "for altura in lista_alturas:\n",
    "    if isinstance(altura, (int,float)):\n",
    "        if isinstance(altura, int):\n",
    "            print(\"Este valor es entero:\", altura)\n",
    "        elif altura < 1.70: \n",
    "            alturas_menores.append(altura)\n",
    "            print(altura)\n",
    "\n",
    "print(alturas_menores)\n"
   ]
  },
  {
   "cell_type": "code",
   "execution_count": 129,
   "metadata": {},
   "outputs": [],
   "source": [
    "lista_listas = [[\"Pepe\", 200],[\"Juan\", 300], [\"Lorena\", 150], [\"Rocío\", 500]]\n",
    "\n",
    "for x in lista_listas:\n",
    "    if isinstance(x, str):\n",
    "        print(x)\n",
    "# No imprime nada porque cada elemento de una lista es una lista, no un string"
   ]
  },
  {
   "cell_type": "code",
   "execution_count": 130,
   "metadata": {},
   "outputs": [
    {
     "output_type": "stream",
     "name": "stdout",
     "text": [
      "Pepe\nJuan\nLorena\nRocío\n"
     ]
    }
   ],
   "source": [
    "lista_listas = [[\"Pepe\", 200],[\"Juan\", 300], [\"Lorena\", 150], [\"Rocío\", 500]]\n",
    "\n",
    "# Mostrar solo los nombre\n",
    "for x in lista_listas:\n",
    "           print(x[0])"
   ]
  },
  {
   "cell_type": "code",
   "execution_count": 131,
   "metadata": {},
   "outputs": [
    {
     "output_type": "stream",
     "name": "stdout",
     "text": [
      "Pepe : 200\nJuan : 300\nLorena : 150\nRocío : 500\n"
     ]
    }
   ],
   "source": [
    "lista_listas = [[\"Pepe\", 200],[\"Juan\", 300], [\"Lorena\", 150], [\"Rocío\", 500]]\n",
    "\n",
    "# Mostrar sólo los nombres : dinero:\n",
    "for x in lista_listas:\n",
    "           print(x[0],\":\", x[1])"
   ]
  },
  {
   "source": [
    "#  Range en for"
   ],
   "cell_type": "code",
   "metadata": {},
   "execution_count": null,
   "outputs": []
  },
  {
   "cell_type": "code",
   "execution_count": 47,
   "metadata": {},
   "outputs": [
    {
     "output_type": "execute_result",
     "data": {
      "text/plain": [
       "[0, 1, 2, 3]"
      ]
     },
     "metadata": {},
     "execution_count": 47
    }
   ],
   "source": [
    "# [start:stop:step]\n",
    "\n",
    "list(range(0, 4, 1))"
   ]
  },
  {
   "cell_type": "code",
   "execution_count": 132,
   "metadata": {},
   "outputs": [
    {
     "output_type": "stream",
     "name": "stdout",
     "text": [
      "range(0, 2)\n"
     ]
    }
   ],
   "source": [
    "print(range(0,2))"
   ]
  },
  {
   "cell_type": "code",
   "execution_count": 133,
   "metadata": {},
   "outputs": [
    {
     "output_type": "stream",
     "name": "stdout",
     "text": [
      "[0, 1]\n"
     ]
    }
   ],
   "source": [
    "print(list(range(0,2)))"
   ]
  },
  {
   "cell_type": "code",
   "execution_count": 1,
   "metadata": {},
   "outputs": [
    {
     "output_type": "stream",
     "name": "stdout",
     "text": [
      "[1, 2]\n"
     ]
    }
   ],
   "source": [
    "print(list(range(1,3)))"
   ]
  },
  {
   "cell_type": "code",
   "execution_count": 134,
   "metadata": {},
   "outputs": [
    {
     "output_type": "stream",
     "name": "stdout",
     "text": [
      "[0, 1, 2, 3, 4, 5, 6, 7, 8, 9, 10, 11, 12, 13, 14, 15, 16, 17, 18, 19]\n"
     ]
    }
   ],
   "source": [
    "print(list(range(0,20)))\n",
    "# Nos da las posiciones. El range siempre empieza en cero"
   ]
  },
  {
   "cell_type": "code",
   "execution_count": 44,
   "metadata": {},
   "outputs": [
    {
     "output_type": "stream",
     "name": "stdout",
     "text": [
      "[0, 1, 2]\n"
     ]
    },
    {
     "output_type": "execute_result",
     "data": {
      "text/plain": [
       "range(0, 3)"
      ]
     },
     "metadata": {},
     "execution_count": 44
    }
   ],
   "source": [
    "lista = [\"x\", \"y\", \"z\"]\n",
    "rango_de_lista = range(len(lista))\n",
    "print(list(rango_de_lista))\n",
    "\n",
    "rango_de_lista\n",
    "# Posiciones de la lista"
   ]
  },
  {
   "cell_type": "code",
   "execution_count": null,
   "metadata": {},
   "outputs": [],
   "source": [
    "# IMPORTANTE: CUANDO TRABAJAMOS CON RANGOS, NO COGE EL VALOR DEL ELEMENTO, COGE LA POSICION DEL ELEMENTO"
   ]
  },
  {
   "cell_type": "code",
   "execution_count": 138,
   "metadata": {},
   "outputs": [
    {
     "output_type": "stream",
     "name": "stdout",
     "text": [
      "x\ny\nz\n"
     ]
    }
   ],
   "source": [
    "lista = [\"x\", \"y\", \"z\"]\n",
    "\n",
    "# Mostrar cada uno de los elementos\n",
    "for i in range(len(lista)):\n",
    "    print(lista[i])\n"
   ]
  },
  {
   "cell_type": "code",
   "execution_count": 141,
   "metadata": {},
   "outputs": [
    {
     "output_type": "stream",
     "name": "stdout",
     "text": [
      "Pepe : 200\nJuan : 300\nLorena : 150\nRocío : 500\n"
     ]
    }
   ],
   "source": [
    "lista_listas = [[\"Pepe\", 200],[\"Juan\", 300], [\"Lorena\", 150], [\"Rocío\", 500]]\n",
    "\n",
    "nombres = [\"Pepe\", \"Juan\", \"Lorena\", \"Rocío\"]\n",
    "dineros = [200, 300, 150, 500]\n",
    "\n",
    "for i in range(len(nombres)):\n",
    "    print(nombres[i],\":\",dineros[i])\n"
   ]
  },
  {
   "cell_type": "code",
   "execution_count": 137,
   "metadata": {},
   "outputs": [
    {
     "output_type": "stream",
     "name": "stdout",
     "text": [
      "Pepe\nJuan\nLorena\nRocío\nEnd\n"
     ]
    }
   ],
   "source": [
    "lista_listas = [[\"Pepe\", 200],[\"Juan\", 300], [\"Lorena\", 150], [\"Rocío\", 500]]\n",
    "\n",
    "for i in range(len(lista_listas)): # No va a recorrer los valores de los elementos, va a recorrer las posiciones de la lista \n",
    "                                    # normalmente se usa i cuando se trabaja con posiciones\n",
    "                                    # i vale 0 en el primer valor\n",
    "    print(lista_listas[i][0])\n",
    "\n",
    "print(\"End\")"
   ]
  },
  {
   "cell_type": "code",
   "execution_count": 45,
   "metadata": {},
   "outputs": [
    {
     "output_type": "stream",
     "name": "stdout",
     "text": [
      "Pepe : 200\nJuan : 300\nLorena : 150\nRocío : 500\n"
     ]
    }
   ],
   "source": [
    "# 'For' anidado para mostrar nombre: dinero. Anidar 'for' tiende a ser complicado y significa que hay otra manera mas sencilla de hacer lo mismo\n",
    "\n",
    "lista_listas = [[\"Pepe\", 200],[\"Juan\", 300], [\"Lorena\", 150], [\"Rocío\", 500]]\n",
    "\n",
    "for valor in lista_listas:\n",
    "    for elem in valor:\n",
    "        print (elem, \":\", valor[1]) \n",
    "        break # Break hace referencia al 'for' en el que esta anidado"
   ]
  },
  {
   "cell_type": "code",
   "execution_count": 46,
   "metadata": {},
   "outputs": [
    {
     "output_type": "stream",
     "name": "stdout",
     "text": [
      "Pepe : 200\nJuan : 300\nLorena : 150\nRocío : 500\n"
     ]
    }
   ],
   "source": [
    "# Esta sería la forma más sencilla de hacer el ejercicio anterior. Ya hemos visto más adelante el for enumerate.rango\n",
    "\n",
    "for i, elem in enumerate(lista_listas):\n",
    "    print(elem[0], \":\", elem[1])"
   ]
  },
  {
   "cell_type": "code",
   "execution_count": 23,
   "metadata": {},
   "outputs": [
    {
     "output_type": "stream",
     "name": "stdout",
     "text": [
      "5\n[5]\n"
     ]
    }
   ],
   "source": [
    "# Hay una diferencia entre:\n",
    "lista = [2, 4, 5, 8]\n",
    "x = lista[2]    # ESto es un número entero\n",
    "y = lista [2:3] # Esto sigue siendo una lista\n",
    "\n",
    "print(x)\n",
    "print(y)"
   ]
  },
  {
   "cell_type": "code",
   "execution_count": 6,
   "metadata": {},
   "outputs": [
    {
     "output_type": "execute_result",
     "data": {
      "text/plain": [
       "[1, 3, 5, 7]"
      ]
     },
     "metadata": {},
     "execution_count": 6
    }
   ],
   "source": [
    "#SLICING\n",
    "\n",
    "lista = [0, 1, 2, 3, 4, 5, 6, 7, 8, 9, 10]\n",
    "# [start:stop:step]\n",
    "lista [1:-3:2]"
   ]
  },
  {
   "cell_type": "code",
   "execution_count": 7,
   "metadata": {},
   "outputs": [
    {
     "output_type": "execute_result",
     "data": {
      "text/plain": [
       "[10, 9, 8, 7, 6, 5, 4, 3, 2, 1, 0]"
      ]
     },
     "metadata": {},
     "execution_count": 7
    }
   ],
   "source": [
    "# como el step es negativo significa que empezamos por atrás\n",
    "# Si no especificamos ningún número significa desde el principio y final\n",
    "lista [::-1]"
   ]
  },
  {
   "cell_type": "code",
   "execution_count": 11,
   "metadata": {},
   "outputs": [
    {
     "output_type": "execute_result",
     "data": {
      "text/plain": [
       "[1, 2, 3, 4, 5, 6, 7]"
      ]
     },
     "metadata": {},
     "execution_count": 11
    }
   ],
   "source": [
    "lista = [0, 1, 2, 3, 4, 5, 6, 7, 8, 9, 10]\n",
    "# si el step es 1 se puede omitir\n",
    "lista [1:-3:1]"
   ]
  },
  {
   "cell_type": "code",
   "execution_count": 12,
   "metadata": {},
   "outputs": [
    {
     "output_type": "execute_result",
     "data": {
      "text/plain": [
       "[9, 8, 7, 6, 5, 4, 3, 2]"
      ]
     },
     "metadata": {},
     "execution_count": 12
    }
   ],
   "source": [
    "lista[-2:1:-1]"
   ]
  },
  {
   "cell_type": "code",
   "execution_count": 48,
   "metadata": {},
   "outputs": [
    {
     "output_type": "stream",
     "name": "stdout",
     "text": [
      "l: ['x', 'y', 'z']\nlista: ['x', 'y', 'z']\n"
     ]
    }
   ],
   "source": [
    "l = lista[:] # copia la lista\n",
    "print(\"l:\", l)\n",
    "print(\"lista:\", lista)"
   ]
  },
  {
   "cell_type": "code",
   "execution_count": 21,
   "metadata": {},
   "outputs": [
    {
     "output_type": "stream",
     "name": "stdout",
     "text": [
      "[0, 's', 2, 3, 4, 5, 6, 7, 8, 9, 10]\n[0, 1, 2, 3, 4, 5, 6, 7, 8, 9, 10]\n"
     ]
    }
   ],
   "source": [
    "# Como l es una copia, puedo modificarla sin cambiarla lista original. Si igualo l = lista, si modifico 'l' también modifico 'lista'\n",
    "l [1] =\"s\"\n",
    "print(l)\n",
    "print(lista)"
   ]
  },
  {
   "cell_type": "code",
   "execution_count": 49,
   "metadata": {},
   "outputs": [
    {
     "output_type": "stream",
     "name": "stdout",
     "text": [
      "range(0, 4)\n[0, 1, 2, 3]\n[0, 2]\n"
     ]
    }
   ],
   "source": [
    "# Los rangos también siguen el concepto de (start, stop, step)\n",
    "x = range(0,4,1)\n",
    "y = range(0,4,2)\n",
    "print(x)\n",
    "# Para ver que números están incluidos en los rangos necesitamos convertirlos en lista:\n",
    "print(list(x))\n",
    "print(list(y))"
   ]
  },
  {
   "source": [
    "## Funciones"
   ],
   "cell_type": "markdown",
   "metadata": {}
  },
  {
   "cell_type": "code",
   "execution_count": null,
   "metadata": {},
   "outputs": [],
   "source": []
  }
 ],
 "metadata": {
  "language_info": {
   "name": "python",
   "codemirror_mode": {
    "name": "ipython",
    "version": 3
   },
   "version": "3.7.4"
  },
  "orig_nbformat": 2,
  "file_extension": ".py",
  "mimetype": "text/x-python",
  "name": "python",
  "npconvert_exporter": "python",
  "pygments_lexer": "ipython3",
  "version": 3,
  "kernelspec": {
   "name": "python374jvsc74a57bd02d8a740277f67c33143a8e5c8e55f738530a350d8def4a85d8635b690074994c",
   "display_name": "Python 3.7.4 64-bit"
  },
  "metadata": {
   "interpreter": {
    "hash": "2d8a740277f67c33143a8e5c8e55f738530a350d8def4a85d8635b690074994c"
   }
  }
 },
 "nbformat": 4,
 "nbformat_minor": 2
}