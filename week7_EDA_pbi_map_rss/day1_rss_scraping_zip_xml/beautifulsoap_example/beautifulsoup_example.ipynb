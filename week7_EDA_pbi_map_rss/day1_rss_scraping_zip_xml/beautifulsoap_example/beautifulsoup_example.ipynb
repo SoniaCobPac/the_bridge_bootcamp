{
 "metadata": {
  "language_info": {
   "codemirror_mode": {
    "name": "ipython",
    "version": 3
   },
   "file_extension": ".py",
   "mimetype": "text/x-python",
   "name": "python",
   "nbconvert_exporter": "python",
   "pygments_lexer": "ipython3",
   "version": "3.7.4"
  },
  "orig_nbformat": 2,
  "kernelspec": {
   "name": "python374jvsc74a57bd02d8a740277f67c33143a8e5c8e55f738530a350d8def4a85d8635b690074994c",
   "display_name": "Python 3.7.4 64-bit"
  },
  "metadata": {
   "interpreter": {
    "hash": "2d8a740277f67c33143a8e5c8e55f738530a350d8def4a85d8635b690074994c"
   }
  }
 },
 "nbformat": 4,
 "nbformat_minor": 2,
 "cells": [
  {
   "source": [
    "## Web scrapping de IMDB"
   ],
   "cell_type": "markdown",
   "metadata": {}
  },
  {
   "cell_type": "code",
   "execution_count": 1,
   "metadata": {},
   "outputs": [
    {
     "output_type": "stream",
     "name": "stdout",
     "text": [
      "Cadena perpetua\nEl padrino\nEl padrino: Parte II\nEl caballero oscuro\n12 hombres sin piedad\nLa lista de Schindler\nEl señor de los anillos: El retorno del rey\nPulp Fiction\nEl bueno, el feo y el malo\n El señor de los anillos: La comunidad del anillo\nEl club de la lucha\nForrest Gump\nOrigen\nEl señor de los anillos: Las dos torres\nEl Imperio contraataca\nMatrix\nUno de los nuestros\nAlguien voló sobre el nido del cuco\nLos siete samuráis\nSeven\nEl silencio de los corderos\nCiudad de Dios\n¡Qué bello es vivir!\nLa vida es bella\nLa guerra de las galaxias\nSalvar al soldado Ryan\nEl viaje de Chihiro\nLa milla verde\nInterstellar\nParásitos\nEl profesional (Léon)\nHarakiri\nSospechosos habituales\nEl pianista\nRegreso al futuro\nTerminator 2: El juicio final\nTiempos modernos\nPsicosis\nEl rey león\nAmerican History X\nLuces de la ciudad\nGladiator (El gladiador)\nInfiltrados\nWhiplash\nLa tumba de las luciérnagas\nIntocable\nEl truco final (El prestigio)\nCasablanca\nHasta que llegó su hora\nLa ventana indiscreta\nCinema Paradiso\nAlien, el octavo pasajero\nApocalypse Now\nMemento\nEn busca del arca perdida\nEl gran dictador\nLa vida de los otros\nDjango desencadenado\nSenderos de gloria\nEl crepúsculo de los dioses\nWALL·E\nEl resplandor\nJoker\nVengadores: Infinity War\nTestigo de cargo\n¿Teléfono rojo? Volamos hacia Moscú\nSpider-Man: un nuevo universo\nLa princesa Mononoke\nOld Boy\nHamilton\nÉrase una vez en América\nYour Name\nEl caballero oscuro: La leyenda renace\nAliens: El regreso\nCoco\nEl submarino - Das Boot\nCafarnaúm\nVengadores: Endgame\nEl infierno del odio\nAmerican Beauty\nToy Story\nBraveheart\nAmadeus\n3 Idiots\nMalditos bastardos\nEl indomable Will Hunting\nEl retorno del jedi\n2001: Una odisea del espacio\nReservoir Dogs\nM, el vampiro de Düsseldorf\nTaare Zameen Par\nCiudadano Kane\nVértigo (De entre los muertos)\nRéquiem por un sueño\nLa caza\nCantando bajo la lluvia\nCon la muerte en los talones\n¡Olvídate de mí!\nMasacre (Ven y mira)\n Ladrón de bicicletas\nIkiru (Vivir)\nLawrence de Arabia\nEl padre\nEl chico\nLa chaqueta metálica\nDangal\nLa naranja mecánica\nTaxi Driver\nMetrópolis\nEl golpe\n1917\nPerdición\nAmelie\nEl apartamento\nNader y Simin, una separación\nSnatch: Cerdos y diamantes\nIncendios\nEl precio del poder\nToy Story 3\nMatar un ruiseñor\nLa muerte tenía un precio\nUp\nIndiana Jones y la última cruzada\nLA Confidential\nRashomon\nHeat\nYojimbo\nJungla de cristal\nRan\nLos caballeros de la mesa cuadrada y sus locos seguidores\nGreen Book\nEl hundimiento\nBatman Begins\nCon faldas y a lo loco\nEva al desnudo\nSin perdón\nChildren of Heaven\nEl castillo ambulante\nLa gran evasión\nEl lobo de Wall Street\n¿Vencedores o vencidos?\nCasino\nEl laberinto del fauno\nEl tesoro de Sierra Madre\nUna mente maravillosa\nPozos de ambición\nEl secreto de sus ojos\nToro salvaje\nMi vecino Totoro\nChinatown\nLock & Stock\nLa quimera del oro\nTres anuncios en las afueras\nCrimen perfecto\nNo es país para viejos\nEl séptimo sello\nShutter Island\nEl hombre elefante\nLa cosa\nEl sexto sentido\nDel revés (Inside Out)\nV de Vendetta\nEl tercer hombre\nKlaus\nBlade Runner\nMi padre y mi hijo\nEl puente sobre el río Kwai\nFresas salvajes\nTrainspotting\nWarrior\nEl show de Truman\nJurassic Park (Parque Jurásico)\nFargo\nBuscando a Nemo\nLo que el viento se llevó\nMemories of Murder (Crónica de un asesino en serie)\nCuentos de Tokio\nKill Bill: Volumen 1\nLa ley del silencio\nStalker\nEl maquinista de La General\nEl cazador\nRelatos salvajes\nGran Torino\nEl moderno Sherlock Holmes\nLa habitación\nEl gran hotel Budapest\nMary and Max\nPersona\nAntes de amanecer\nEn el nombre del padre\nCaballero sin espada\nPrisioneros\nPerdida\nSer o no ser\nAtrápame si puedes\nHasta el último hombre\nBarry Lyndon\nEl gran Lebowski\nAndhadhun\n12 años de esclavitud\nLe Mans '66\nLa pasión de Juana de Arco\nCómo entrenar a tu dragón\nMad Max: Furia en la carretera\nEl salario del miedo\nMillion Dollar Baby\nBen-Hur\nNetwork, un mundo implacable\nEl club de los poetas muertos\nCuenta conmigo\nSonata de otoño\nHarry Potter y las Reliquias de la Muerte - Parte 2\nLa leyenda del indomable\nLos cuatrocientos golpes\nEskiya\nLa doncella\nLogan\nPlatoon\nSiempre a tu lado (Hachiko)\nEl odio\nLa vida de Brian\nSpotlight\nHotel Rwanda\nHacia rutas salvajes\nRush\nRebeca\nMonstruos, SA\nAndrei Rublev\nAmores perros\nRatsasan\nRocky\nDeseando amar\nNausicaä del Valle del Viento\nSucedió una noche\nGangs of Wasseypur\nA Silent Voice\nLa batalla de Argel\nSoul\nRififi\nAntes del atardecer\nFanny y Alexander\nAmanecer\nLa princesa prometida\nTres colores: Rojo\nNeon Genesis Evangelion: The End of Evangelion\nAnand\nEl hombre que mató a Liberty Valance\nParís, Texas\nTrono de sangre\n"
     ]
    },
    {
     "output_type": "execute_result",
     "data": {
      "text/plain": [
       "                                        movie_title  year place  \\\n",
       "0                                   Cadena perpetua  1994     1   \n",
       "1                                        El padrino  1972     2   \n",
       "2                              El padrino: Parte II  1974     3   \n",
       "3                               El caballero oscuro  2008     4   \n",
       "4                             12 hombres sin piedad  1957     5   \n",
       "..                                              ...   ...   ...   \n",
       "245  Neon Genesis Evangelion: The End of Evangelion  1997   246   \n",
       "246                                           Anand  1971   247   \n",
       "247            El hombre que mató a Liberty Valance  1962   248   \n",
       "248                                    París, Texas  1984   249   \n",
       "249                                 Trono de sangre  1957   250   \n",
       "\n",
       "                                             star_cast             rating  \\\n",
       "0    Frank Darabont (dir.), Tim Robbins, Morgan Fre...  9.219693115819144   \n",
       "1    Francis Ford Coppola (dir.), Marlon Brando, Al...  9.147505384539555   \n",
       "2    Francis Ford Coppola (dir.), Al Pacino, Robert...  8.979859299411887   \n",
       "3    Christopher Nolan (dir.), Christian Bale, Heat...  8.969685199607332   \n",
       "4        Sidney Lumet (dir.), Henry Fonda, Lee J. Cobb  8.934684519103527   \n",
       "..                                                 ...                ...   \n",
       "245  Hideaki Anno (dir.), Megumi Ogata, Megumi Haya...  8.018383021929608   \n",
       "246  Hrishikesh Mukherjee (dir.), Rajesh Khanna, Am...   8.01796464377051   \n",
       "247        John Ford (dir.), James Stewart, John Wayne  8.017266136642641   \n",
       "248  Wim Wenders (dir.), Harry Dean Stanton, Nastas...  8.017001382958798   \n",
       "249  Akira Kurosawa (dir.), Toshirô Mifune, Minoru ...    8.0169409238557   \n",
       "\n",
       "     vote               link  \n",
       "0    None  /title/tt0111161/  \n",
       "1    None  /title/tt0068646/  \n",
       "2    None  /title/tt0071562/  \n",
       "3    None  /title/tt0468569/  \n",
       "4    None  /title/tt0050083/  \n",
       "..    ...                ...  \n",
       "245  None  /title/tt0169858/  \n",
       "246  None  /title/tt0066763/  \n",
       "247  None  /title/tt0056217/  \n",
       "248  None  /title/tt0087884/  \n",
       "249  None  /title/tt0050613/  \n",
       "\n",
       "[250 rows x 7 columns]"
      ],
      "text/html": "<div>\n<style scoped>\n    .dataframe tbody tr th:only-of-type {\n        vertical-align: middle;\n    }\n\n    .dataframe tbody tr th {\n        vertical-align: top;\n    }\n\n    .dataframe thead th {\n        text-align: right;\n    }\n</style>\n<table border=\"1\" class=\"dataframe\">\n  <thead>\n    <tr style=\"text-align: right;\">\n      <th></th>\n      <th>movie_title</th>\n      <th>year</th>\n      <th>place</th>\n      <th>star_cast</th>\n      <th>rating</th>\n      <th>vote</th>\n      <th>link</th>\n    </tr>\n  </thead>\n  <tbody>\n    <tr>\n      <th>0</th>\n      <td>Cadena perpetua</td>\n      <td>1994</td>\n      <td>1</td>\n      <td>Frank Darabont (dir.), Tim Robbins, Morgan Fre...</td>\n      <td>9.219693115819144</td>\n      <td>None</td>\n      <td>/title/tt0111161/</td>\n    </tr>\n    <tr>\n      <th>1</th>\n      <td>El padrino</td>\n      <td>1972</td>\n      <td>2</td>\n      <td>Francis Ford Coppola (dir.), Marlon Brando, Al...</td>\n      <td>9.147505384539555</td>\n      <td>None</td>\n      <td>/title/tt0068646/</td>\n    </tr>\n    <tr>\n      <th>2</th>\n      <td>El padrino: Parte II</td>\n      <td>1974</td>\n      <td>3</td>\n      <td>Francis Ford Coppola (dir.), Al Pacino, Robert...</td>\n      <td>8.979859299411887</td>\n      <td>None</td>\n      <td>/title/tt0071562/</td>\n    </tr>\n    <tr>\n      <th>3</th>\n      <td>El caballero oscuro</td>\n      <td>2008</td>\n      <td>4</td>\n      <td>Christopher Nolan (dir.), Christian Bale, Heat...</td>\n      <td>8.969685199607332</td>\n      <td>None</td>\n      <td>/title/tt0468569/</td>\n    </tr>\n    <tr>\n      <th>4</th>\n      <td>12 hombres sin piedad</td>\n      <td>1957</td>\n      <td>5</td>\n      <td>Sidney Lumet (dir.), Henry Fonda, Lee J. Cobb</td>\n      <td>8.934684519103527</td>\n      <td>None</td>\n      <td>/title/tt0050083/</td>\n    </tr>\n    <tr>\n      <th>...</th>\n      <td>...</td>\n      <td>...</td>\n      <td>...</td>\n      <td>...</td>\n      <td>...</td>\n      <td>...</td>\n      <td>...</td>\n    </tr>\n    <tr>\n      <th>245</th>\n      <td>Neon Genesis Evangelion: The End of Evangelion</td>\n      <td>1997</td>\n      <td>246</td>\n      <td>Hideaki Anno (dir.), Megumi Ogata, Megumi Haya...</td>\n      <td>8.018383021929608</td>\n      <td>None</td>\n      <td>/title/tt0169858/</td>\n    </tr>\n    <tr>\n      <th>246</th>\n      <td>Anand</td>\n      <td>1971</td>\n      <td>247</td>\n      <td>Hrishikesh Mukherjee (dir.), Rajesh Khanna, Am...</td>\n      <td>8.01796464377051</td>\n      <td>None</td>\n      <td>/title/tt0066763/</td>\n    </tr>\n    <tr>\n      <th>247</th>\n      <td>El hombre que mató a Liberty Valance</td>\n      <td>1962</td>\n      <td>248</td>\n      <td>John Ford (dir.), James Stewart, John Wayne</td>\n      <td>8.017266136642641</td>\n      <td>None</td>\n      <td>/title/tt0056217/</td>\n    </tr>\n    <tr>\n      <th>248</th>\n      <td>París, Texas</td>\n      <td>1984</td>\n      <td>249</td>\n      <td>Wim Wenders (dir.), Harry Dean Stanton, Nastas...</td>\n      <td>8.017001382958798</td>\n      <td>None</td>\n      <td>/title/tt0087884/</td>\n    </tr>\n    <tr>\n      <th>249</th>\n      <td>Trono de sangre</td>\n      <td>1957</td>\n      <td>250</td>\n      <td>Akira Kurosawa (dir.), Toshirô Mifune, Minoru ...</td>\n      <td>8.0169409238557</td>\n      <td>None</td>\n      <td>/title/tt0050613/</td>\n    </tr>\n  </tbody>\n</table>\n<p>250 rows × 7 columns</p>\n</div>"
     },
     "metadata": {},
     "execution_count": 1
    }
   ],
   "source": [
    "from bs4 import BeautifulSoup\n",
    "import requests\n",
    "import re\n",
    "import pandas as pd\n",
    "\n",
    "# Download IMDB's Top 250 data\n",
    "url = 'http://www.imdb.com/chart/top'\n",
    "response = requests.get(url)\n",
    "soup = BeautifulSoup(response.text, 'lxml')\n",
    "\n",
    "movies = soup.select('td.titleColumn')\n",
    "links = [a.attrs.get('href') for a in soup.select('td.titleColumn a')]  #list comprehension\n",
    "crew = [a.attrs.get('title') for a in soup.select('td.titleColumn a')]\n",
    "ratings = [b.attrs.get('data-value') for b in soup.select('td.posterColumn span[name=ir]')]\n",
    "votes = [b.attrs.get('data-value') for b in soup.select('td.ratingColumn strong')]\n",
    "\n",
    "imdb = []\n",
    "\n",
    "# Store each item into dictionary (data), then put those into a list (imdb)\n",
    "for index in range(0, len(movies)):\n",
    "    # Seperate movie into: 'place', 'title', 'year'\n",
    "    movie_string = movies[index].get_text()\n",
    "    movie = (' '.join(movie_string.split()).replace('.', ''))\n",
    "    movie_title = movie[len(str(index))+1:-7]\n",
    "    print(movie_title)\n",
    "    year = re.search('\\((.*?)\\)', movie_string).group(1)    #regex\n",
    "    place = movie[:len(str(index))-(len(movie))]\n",
    "    data = {\"movie_title\": movie_title,\n",
    "            \"year\": year,\n",
    "            \"place\": place,\n",
    "            \"star_cast\": crew[index],\n",
    "            \"rating\": ratings[index],\n",
    "            \"vote\": votes[index],\n",
    "            \"link\": links[index]}\n",
    "    imdb.append(data)\n",
    "df = pd.DataFrame(imdb)\n",
    "df"
   ]
  },
  {
   "cell_type": "code",
   "execution_count": null,
   "metadata": {},
   "outputs": [],
   "source": []
  }
 ]
}