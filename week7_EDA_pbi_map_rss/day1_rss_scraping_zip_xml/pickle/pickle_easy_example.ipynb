{
 "metadata": {
  "language_info": {
   "codemirror_mode": {
    "name": "ipython",
    "version": 3
   },
   "file_extension": ".py",
   "mimetype": "text/x-python",
   "name": "python",
   "nbconvert_exporter": "python",
   "pygments_lexer": "ipython3",
   "version": "3.7.4"
  },
  "orig_nbformat": 2,
  "kernelspec": {
   "name": "python374jvsc74a57bd02d8a740277f67c33143a8e5c8e55f738530a350d8def4a85d8635b690074994c",
   "display_name": "Python 3.7.4 64-bit"
  },
  "metadata": {
   "interpreter": {
    "hash": "2d8a740277f67c33143a8e5c8e55f738530a350d8def4a85d8635b690074994c"
   }
  }
 },
 "nbformat": 4,
 "nbformat_minor": 2,
 "cells": [
  {
   "source": [
    "!pip3 install pickle"
   ],
   "cell_type": "code",
   "metadata": {},
   "execution_count": null,
   "outputs": []
  },
  {
   "cell_type": "code",
   "execution_count": null,
   "metadata": {},
   "outputs": [],
   "source": [
    "# se parece a un json pero pickle está codificado, y además ocupa menos espacio\n",
    "# aunque pickle trabaja bien con números, pero con letras le cuesta más"
   ]
  },
  {
   "cell_type": "code",
   "execution_count": 1,
   "metadata": {},
   "outputs": [
    {
     "output_type": "execute_result",
     "data": {
      "text/plain": [
       "array([[0.96406926, 0.11967546, 0.14166753, 0.8255547 , 0.70718785,\n",
       "        0.92262521, 0.50224416, 0.02971125, 0.21759211, 0.62798087,\n",
       "        0.77553542, 0.96950543, 0.36660815, 0.3996807 , 0.58464234,\n",
       "        0.74271499, 0.88346131, 0.37007316, 0.51581537, 0.94802653,\n",
       "        0.46210561, 0.38636263, 0.9760575 , 0.63543499, 0.96588629,\n",
       "        0.67933308, 0.47122506, 0.91113982, 0.84793171, 0.2394338 ,\n",
       "        0.87055128, 0.17089452, 0.71382643, 0.77226182, 0.84436267,\n",
       "        0.75210376, 0.15663554, 0.14208539, 0.85782264, 0.39770125,\n",
       "        0.80507898, 0.92115562, 0.76688189, 0.25053577, 0.14203785,\n",
       "        0.43111692, 0.83342243, 0.51687004, 0.30744054, 0.55322753,\n",
       "        0.66850541, 0.88763888, 0.19201154, 0.8035421 , 0.08364665,\n",
       "        0.40393752, 0.51060449, 0.54703588, 0.1755952 , 0.65884562]])"
      ]
     },
     "metadata": {},
     "execution_count": 1
    }
   ],
   "source": [
    "import pickle   \n",
    "import numpy as np \n",
    "\n",
    "long_array = np.random.rand(1,60)\n",
    "long_array"
   ]
  },
  {
   "source": [
    "### Guardamos la variable en un fichero"
   ],
   "cell_type": "markdown",
   "metadata": {}
  },
  {
   "cell_type": "code",
   "execution_count": 3,
   "metadata": {},
   "outputs": [],
   "source": [
    "pickle.dump(long_array, open(\"long_array.pepita\", \"wb\" ))   # la extensión da igual"
   ]
  },
  {
   "source": [
    "### Cargamos la variable a partir de un fichero"
   ],
   "cell_type": "markdown",
   "metadata": {}
  },
  {
   "cell_type": "code",
   "execution_count": 7,
   "metadata": {},
   "outputs": [
    {
     "output_type": "execute_result",
     "data": {
      "text/plain": [
       "array([[0.1568862 , 0.29415187, 0.82543136, 0.61948421, 0.67047468,\n",
       "        0.27294081, 0.03479161, 0.36855172, 0.922173  , 0.71733008,\n",
       "        0.07488525, 0.27827534, 0.63461545, 0.82391936, 0.13677972,\n",
       "        0.04159077, 0.40062557, 0.6413302 , 0.87319117, 0.81382776,\n",
       "        0.05635696, 0.58330692, 0.78050168, 0.16527468, 0.75574963,\n",
       "        0.65055388, 0.07384414, 0.72235283, 0.37958457, 0.04414547,\n",
       "        0.77532925, 0.97921744, 0.4378943 , 0.87835118, 0.80679294,\n",
       "        0.56327895, 0.15464994, 0.09801182, 0.59302378, 0.73731345,\n",
       "        0.14984317, 0.52169793, 0.82499471, 0.80667152, 0.77390005,\n",
       "        0.34945011, 0.60206001, 0.97854075, 0.0351598 , 0.13285276,\n",
       "        0.39394127, 0.66218134, 0.85545927, 0.38717323, 0.26826533,\n",
       "        0.2556096 , 0.90183481, 0.34747431, 0.01283061, 0.50610326]])"
      ]
     },
     "metadata": {},
     "execution_count": 7
    }
   ],
   "source": [
    "long_array_loaded = pickle.load(open(\"long_array.pepita\", \"rb\" ))\n",
    "long_array_loaded"
   ]
  },
  {
   "cell_type": "code",
   "execution_count": null,
   "metadata": {},
   "outputs": [],
   "source": []
  }
 ]
}