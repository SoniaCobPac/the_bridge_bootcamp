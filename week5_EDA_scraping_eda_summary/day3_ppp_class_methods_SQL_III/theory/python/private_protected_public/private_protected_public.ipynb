{
 "cells": [
  {
   "cell_type": "markdown",
   "metadata": {},
   "source": [
    "![](ppp.png)"
   ]
  },
  {
   "source": [
    "#### Modifiers"
   ],
   "cell_type": "markdown",
   "metadata": {}
  },
  {
   "cell_type": "code",
   "execution_count": 1,
   "metadata": {},
   "outputs": [
    {
     "output_type": "stream",
     "name": "stdout",
     "text": [
      "<class 'pandas.core.frame.DataFrame'>\nIndex: 0 entries\nEmpty DataFrame"
     ]
    }
   ],
   "source": [
    "import pandas as pd\n",
    "\n",
    "df = pd.DataFrame()\n",
    "df.info()\n"
   ]
  },
  {
   "cell_type": "code",
   "execution_count": null,
   "metadata": {},
   "outputs": [],
   "source": [
    "x = 2  # Public -- Everywhere\n",
    "_x = 2  # Protected -- Inside class or sub-class\n",
    "__x = 2  # Private  -- Inside class or file\n"
   ]
  },
  {
   "cell_type": "code",
   "execution_count": null,
   "metadata": {},
   "outputs": [],
   "source": [
    "# Ejemplo en Java\n",
    "private Integer variable = 2"
   ]
  },
  {
   "cell_type": "code",
   "execution_count": null,
   "metadata": {},
   "outputs": [],
   "source": [
    "class Humano:\n",
    "\n",
    "    def __init__(self):\n",
    "        pass\n",
    "\n",
    "    def __str__(self):\n",
    "        pass\n",
    "\n",
    "#c++\n",
    "# built-in"
   ]
  },
  {
   "cell_type": "code",
   "execution_count": 3,
   "metadata": {
    "tags": []
   },
   "outputs": [
    {
     "output_type": "stream",
     "name": "stdout",
     "text": [
      "We are going to test the functions: \n\n\n\n--------------------------\nTesting public...\npublic\n--------------------------\nTesting protected...\nProtected\n--------------------------\nTesting private...\nPrivate\n--------------------------\n"
     ]
    }
   ],
   "source": [
    "# Public \n",
    "\n",
    "def public_function():\n",
    "    print(\"public\")\n",
    "\n",
    "# Protected\n",
    "\n",
    "def _protected_function():\n",
    "    print(\"Protected\")\n",
    "\n",
    "# Private\n",
    "\n",
    "def __private_function():\n",
    "    print(\"Private\")\n",
    "\n",
    "if __name__ == \"__main__\":\n",
    "    print(\"We are going to test the functions: \\n\\n\\n\")\n",
    "    print(\"--------------------------\")\n",
    "    print(\"Testing public...\")\n",
    "    public_function()\n",
    "    print(\"--------------------------\")\n",
    "    print(\"Testing protected...\")\n",
    "    _protected_function()\n",
    "    print(\"--------------------------\")\n",
    "    print(\"Testing private...\")\n",
    "    __private_function()\n",
    "    print(\"--------------------------\")\n",
    "\n",
    "# Podemos acceder a las tres porque privada no está en ninguna clase, está en mi archivo, desde donde estoy ejecutando el código. Pero no podría acceder a esta función desde un archivo externo"
   ]
  },
  {
   "cell_type": "code",
   "execution_count": null,
   "metadata": {},
   "outputs": [],
   "source": [
    "def __f_priv():\n",
    "    print(\"Soy priv\")"
   ]
  },
  {
   "cell_type": "code",
   "execution_count": 4,
   "metadata": {
    "tags": []
   },
   "outputs": [
    {
     "output_type": "stream",
     "name": "stdout",
     "text": [
      "Hola\nWe are going to test the functions: \n\n\n\n\n--------------------------\nTesting public...\npublic\n--------------------------\nTesting protected...\nProtected\n--------------------------\nTesting private...\n"
     ]
    },
    {
     "output_type": "error",
     "ename": "AttributeError",
     "evalue": "'Human' object has no attribute '__private_function'",
     "traceback": [
      "\u001b[1;31m---------------------------------------------------------------------------\u001b[0m",
      "\u001b[1;31mAttributeError\u001b[0m                            Traceback (most recent call last)",
      "\u001b[1;32m<ipython-input-4-ec5881ce815c>\u001b[0m in \u001b[0;36m<module>\u001b[1;34m\u001b[0m\n\u001b[0;32m     30\u001b[0m     \u001b[0mprint\u001b[0m\u001b[1;33m(\u001b[0m\u001b[1;34m\"--------------------------\"\u001b[0m\u001b[1;33m)\u001b[0m\u001b[1;33m\u001b[0m\u001b[1;33m\u001b[0m\u001b[0m\n\u001b[0;32m     31\u001b[0m     \u001b[0mprint\u001b[0m\u001b[1;33m(\u001b[0m\u001b[1;34m\"Testing private...\"\u001b[0m\u001b[1;33m)\u001b[0m\u001b[1;33m\u001b[0m\u001b[1;33m\u001b[0m\u001b[0m\n\u001b[1;32m---> 32\u001b[1;33m     \u001b[0mp\u001b[0m\u001b[1;33m.\u001b[0m\u001b[0m__private_function\u001b[0m\u001b[1;33m(\u001b[0m\u001b[1;33m)\u001b[0m\u001b[1;33m\u001b[0m\u001b[1;33m\u001b[0m\u001b[0m\n\u001b[0m\u001b[0;32m     33\u001b[0m     \u001b[0mprint\u001b[0m\u001b[1;33m(\u001b[0m\u001b[1;34m\"--------------------------\"\u001b[0m\u001b[1;33m)\u001b[0m\u001b[1;33m\u001b[0m\u001b[1;33m\u001b[0m\u001b[0m\n",
      "\u001b[1;31mAttributeError\u001b[0m: 'Human' object has no attribute '__private_function'"
     ]
    }
   ],
   "source": [
    "class Human:\n",
    "\n",
    "    def __init__(self):\n",
    "        print(\"Hola\")\n",
    "\n",
    "    # Public \n",
    "    def public_function(self):\n",
    "        print(\"public\")\n",
    "\n",
    "    # Protected\n",
    "    def _protected_function(self):\n",
    "        print(\"Protected\")\n",
    "\n",
    "    # Private\n",
    "    def __private_function(self):\n",
    "        print(\"Private\")\n",
    "\n",
    "    def mi_funcion(self):\n",
    "        self.__private_function()\n",
    "\n",
    "if __name__ == \"__main__\":\n",
    "    p = Human()\n",
    "    print(\"We are going to test the functions: \\n\\n\\n\\n\")\n",
    "    print(\"--------------------------\")\n",
    "    print(\"Testing public...\")\n",
    "    p.public_function()\n",
    "    print(\"--------------------------\")\n",
    "    print(\"Testing protected...\")\n",
    "    p._protected_function()\n",
    "    print(\"--------------------------\")\n",
    "    print(\"Testing private...\")\n",
    "    p.__private_function()\n",
    "    print(\"--------------------------\")\n",
    "\n",
    "# Error porque no puedo llamar a una función privada desde fuera de la clase\n"
   ]
  },
  {
   "cell_type": "code",
   "execution_count": 5,
   "metadata": {
    "tags": []
   },
   "outputs": [
    {
     "output_type": "stream",
     "name": "stdout",
     "text": [
      "Private\n"
     ]
    }
   ],
   "source": [
    "# Pero mi_funcion, que es pública, puede acceder a la función privada porque está dentro de la clase:\n",
    "p.mi_funcion()"
   ]
  },
  {
   "cell_type": "code",
   "execution_count": null,
   "metadata": {
    "tags": []
   },
   "outputs": [],
   "source": [
    "# Esta es una funcion Built-in, no signigica que sea privada\n",
    "p.__init__()"
   ]
  },
  {
   "cell_type": "code",
   "execution_count": null,
   "metadata": {},
   "outputs": [],
   "source": [
    "# Privada: Solo puedo acceder desde dentro de la propia clase, y desde el mismo fichero. Si estoy en otro fichero ni siquiera me aparece la opción de usarlas. \n",
    "# Protegida: Puedo acceder a ella desde este fichero o si los ficheros estan en la misma carpeta pero no puedo acceder a ella desde otra carpeta. Básicamente si el archivo no está en mi sys path, entonces no puedo acceder a él. Si añado la path entonces luego ya si puedo acceder.  \n",
    "# Las funciones protegidas y privadas solo funcionan como privada si son creadas dentro de una clase. \n"
   ]
  }
 ],
 "metadata": {
  "language_info": {
   "name": "python",
   "codemirror_mode": {
    "name": "ipython",
    "version": 3
   },
   "version": "3.7.4"
  },
  "orig_nbformat": 2,
  "file_extension": ".py",
  "mimetype": "text/x-python",
  "name": "python",
  "npconvert_exporter": "python",
  "pygments_lexer": "ipython3",
  "version": 3,
  "kernelspec": {
   "name": "python374jvsc74a57bd02d8a740277f67c33143a8e5c8e55f738530a350d8def4a85d8635b690074994c",
   "display_name": "Python 3.7.4 64-bit"
  },
  "metadata": {
   "interpreter": {
    "hash": "2d8a740277f67c33143a8e5c8e55f738530a350d8def4a85d8635b690074994c"
   }
  }
 },
 "nbformat": 4,
 "nbformat_minor": 2
}