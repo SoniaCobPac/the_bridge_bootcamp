{
 "cells": [
  {
   "cell_type": "code",
   "execution_count": 1,
   "metadata": {},
   "outputs": [
    {
     "output_type": "execute_result",
     "data": {
      "text/plain": [
       "(3,)"
      ]
     },
     "metadata": {},
     "execution_count": 1
    }
   ],
   "source": [
    "import numpy as np \n",
    "n = np.array([2,3,4])\n",
    "n.shape     # shape no es una función, si no debería llevar paréntesis. Es un atributo"
   ]
  },
  {
   "cell_type": "code",
   "execution_count": 10,
   "metadata": {},
   "outputs": [
    {
     "output_type": "error",
     "ename": "AttributeError",
     "evalue": "'H' object has no attribute '__x'",
     "traceback": [
      "\u001b[1;31m---------------------------------------------------------------------------\u001b[0m",
      "\u001b[1;31mAttributeError\u001b[0m                            Traceback (most recent call last)",
      "\u001b[1;32m<ipython-input-10-cd1556dcd8dd>\u001b[0m in \u001b[0;36m<module>\u001b[1;34m\u001b[0m\n\u001b[0;32m      4\u001b[0m \u001b[1;33m\u001b[0m\u001b[0m\n\u001b[0;32m      5\u001b[0m \u001b[0mh\u001b[0m \u001b[1;33m=\u001b[0m \u001b[0mH\u001b[0m\u001b[1;33m(\u001b[0m\u001b[0mt\u001b[0m\u001b[1;33m=\u001b[0m\u001b[1;36m2\u001b[0m\u001b[1;33m)\u001b[0m\u001b[1;33m\u001b[0m\u001b[1;33m\u001b[0m\u001b[0m\n\u001b[1;32m----> 6\u001b[1;33m \u001b[0mh\u001b[0m\u001b[1;33m.\u001b[0m\u001b[0m__x\u001b[0m     \u001b[1;31m# Como x es un atributo privado no la puedo utilizar (a no ser que la llame por otra funcion desde dentro de la clase)\u001b[0m\u001b[1;33m\u001b[0m\u001b[1;33m\u001b[0m\u001b[0m\n\u001b[0m",
      "\u001b[1;31mAttributeError\u001b[0m: 'H' object has no attribute '__x'"
     ]
    }
   ],
   "source": [
    "class H:\n",
    "    def __init__(self, t):\n",
    "        self.__x = t  # __ es privado\n",
    "\n",
    "h = H(t=2)\n",
    "h.__x     # Como x es un atributo privado no la puedo utilizar (a no ser que la llame por otra funcion desde dentro de la clase)\n"
   ]
  },
  {
   "cell_type": "code",
   "execution_count": 12,
   "metadata": {},
   "outputs": [
    {
     "output_type": "execute_result",
     "data": {
      "text/plain": [
       "9"
      ]
     },
     "metadata": {},
     "execution_count": 12
    }
   ],
   "source": [
    "# No estoy llamando a la función x de la función. Estoy creando desde fuera un nuevo atributo x de la instancia h (no es buena práctica ya que los atributos deberian poder ser usados en cualquiera de sus usos)\n",
    "h.x = 9 \n",
    "h.x"
   ]
  },
  {
   "cell_type": "code",
   "execution_count": 8,
   "metadata": {},
   "outputs": [
    {
     "output_type": "execute_result",
     "data": {
      "text/plain": [
       "20"
      ]
     },
     "metadata": {},
     "execution_count": 8
    }
   ],
   "source": [
    "# Ahora puedo llamar a la variable\n",
    "class H:\n",
    "    def __init__(self, t):\n",
    "        self.__x = t  \n",
    "    def get_x(self):\n",
    "        return self.__x\n",
    "\n",
    "h = H(t=2)\n",
    "h.get_x()    "
   ]
  },
  {
   "cell_type": "code",
   "execution_count": null,
   "metadata": {},
   "outputs": [],
   "source": [
    "# Hay diferentes tipos de decoradores que ya están creados por defecto \n",
    "# Uno de ellos es @property y hace que las funciones puedan llamarse sin tener que poner los dos paréntesis. Estas funciones se llaman propiedades\n",
    "# El uso es que si yo creo una función y la dejo como tal alguien la puede cambiar, pero si la convierto en propiedad ya nadie la va a poder cambiar. Ademas x se está calculando\n",
    "# @setter se utiliza para cambiar el valor de x"
   ]
  },
  {
   "cell_type": "code",
   "execution_count": 14,
   "metadata": {},
   "outputs": [],
   "source": [
    "class P:\n",
    "    def __init__(self, x):\n",
    "        self.__x = x  # __ es privado\n",
    "\n",
    "    @property   # el @ es un decorador\n",
    "    def x(self):\n",
    "        \"\"\" Devuelve el valor del atributo privado \"\"\"\n",
    "        print(\"Muestra __x\")\n",
    "        return self.__x\n",
    "\n",
    "    @x.setter   # estoy limitando los rangos de valores de x\n",
    "    def x(self, x):\n",
    "        \"\"\" Permite modificar el atributo privado \"\"\"\n",
    "        if x < 0:\n",
    "            self.__x = 0\n",
    "        elif x > 1000:\n",
    "            self.__x = 1000\n",
    "        else:\n",
    "            self.__x = x"
   ]
  },
  {
   "cell_type": "code",
   "execution_count": 17,
   "metadata": {},
   "outputs": [
    {
     "output_type": "stream",
     "name": "stdout",
     "text": [
      "Muestra __x\n"
     ]
    },
    {
     "output_type": "execute_result",
     "data": {
      "text/plain": [
       "5"
      ]
     },
     "metadata": {},
     "execution_count": 17
    }
   ],
   "source": [
    "p = P(x=5)\n",
    "p.x"
   ]
  },
  {
   "cell_type": "code",
   "execution_count": 20,
   "metadata": {},
   "outputs": [],
   "source": [
    "class P:\n",
    "    def __init__(self, x):\n",
    "        self.__x = x  # __ es privado\n",
    "\n",
    "    def x(self):\n",
    "        \"\"\" Devuelve el valor del atributo privado \"\"\"\n",
    "        print(\"Muestra __x\")\n",
    "        return self.__x"
   ]
  },
  {
   "cell_type": "code",
   "execution_count": 21,
   "metadata": {},
   "outputs": [
    {
     "output_type": "execute_result",
     "data": {
      "text/plain": [
       "<bound method P.x of <__main__.P object at 0x0000020A5A546D08>>"
      ]
     },
     "metadata": {},
     "execution_count": 21
    }
   ],
   "source": [
    "# Ahora x es una función, y como no tengo paréntesis no puedo ejecutarla\n",
    "p = P(x=5)\n",
    "p.x"
   ]
  },
  {
   "cell_type": "code",
   "execution_count": 22,
   "metadata": {},
   "outputs": [
    {
     "output_type": "stream",
     "name": "stdout",
     "text": [
      "Muestra __x\n"
     ]
    },
    {
     "output_type": "execute_result",
     "data": {
      "text/plain": [
       "5"
      ]
     },
     "metadata": {},
     "execution_count": 22
    }
   ],
   "source": [
    "# Con los parentesis ya puedo ejecutar la función\n",
    "p = P(x=5)\n",
    "p.x() "
   ]
  },
  {
   "cell_type": "code",
   "execution_count": 23,
   "metadata": {},
   "outputs": [
    {
     "output_type": "error",
     "ename": "SyntaxError",
     "evalue": "can't assign to function call (<ipython-input-23-9bc9b36eb91a>, line 1)",
     "traceback": [
      "\u001b[1;36m  File \u001b[1;32m\"<ipython-input-23-9bc9b36eb91a>\"\u001b[1;36m, line \u001b[1;32m1\u001b[0m\n\u001b[1;33m    p.x()=2\u001b[0m\n\u001b[1;37m           ^\u001b[0m\n\u001b[1;31mSyntaxError\u001b[0m\u001b[1;31m:\u001b[0m can't assign to function call\n"
     ]
    }
   ],
   "source": [
    "# Pero no puedo asignar un nuevo valor a la función\n",
    "p.x()=2\n",
    "p.x"
   ]
  },
  {
   "cell_type": "code",
   "execution_count": 29,
   "metadata": {},
   "outputs": [],
   "source": [
    "class P:\n",
    "    def __init__(self, x):\n",
    "        self.__x = x  # __ es privado\n",
    "\n",
    "    @property   # el @ es un decorador\n",
    "    def x(self):\n",
    "        \"\"\" Devuelve el valor del atributo privado \"\"\"\n",
    "        print(\"Muestra __x\")\n",
    "        return self.__x\n",
    "\n",
    "    @x.setter   # estoy limitando los rangos de valores de x\n",
    "    def x(self, x): # la función setter tiene que tener el mismo nombre que la propiedad para poder cambiar la función\n",
    "        \"\"\" Permite modificar el atributo privado \"\"\"\n",
    "        if x < 0:\n",
    "            self.__x = 0\n",
    "        elif x > 1000:\n",
    "            self.__x = 1000\n",
    "        else:\n",
    "            self.__x = x"
   ]
  },
  {
   "cell_type": "code",
   "execution_count": 28,
   "metadata": {},
   "outputs": [
    {
     "output_type": "execute_result",
     "data": {
      "text/plain": [
       "6"
      ]
     },
     "metadata": {},
     "execution_count": 28
    }
   ],
   "source": [
    "# Si la x es una propiedad y no una función, solo con setter puedo cambiar su valor\n",
    "p.x = 6 # Cuando modifico el valor de x, estoy llamando a la función @x.setter\n",
    "p.x"
   ]
  },
  {
   "cell_type": "code",
   "execution_count": null,
   "metadata": {
    "tags": []
   },
   "outputs": [],
   "source": [
    "m = P(x=5)\n",
    "m.x"
   ]
  },
  {
   "cell_type": "code",
   "execution_count": null,
   "metadata": {},
   "outputs": [],
   "source": [
    "import numpy as np \n",
    "\n",
    "x = np.arange(45)\n",
    "x.shape"
   ]
  },
  {
   "cell_type": "code",
   "execution_count": null,
   "metadata": {},
   "outputs": [],
   "source": [
    "x.shape = (9,5)\n",
    "x.shape"
   ]
  },
  {
   "cell_type": "code",
   "execution_count": null,
   "metadata": {},
   "outputs": [],
   "source": [
    "# Para poder convertir una funcion a property o a cualquier otro decorador tengo que poner el @property justo encima de la función"
   ]
  }
 ],
 "metadata": {
  "language_info": {
   "name": "python",
   "codemirror_mode": {
    "name": "ipython",
    "version": 3
   },
   "version": "3.7.4"
  },
  "orig_nbformat": 2,
  "file_extension": ".py",
  "mimetype": "text/x-python",
  "name": "python",
  "npconvert_exporter": "python",
  "pygments_lexer": "ipython3",
  "version": 3,
  "kernelspec": {
   "name": "python374jvsc74a57bd02d8a740277f67c33143a8e5c8e55f738530a350d8def4a85d8635b690074994c",
   "display_name": "Python 3.7.4 64-bit"
  },
  "metadata": {
   "interpreter": {
    "hash": "2d8a740277f67c33143a8e5c8e55f738530a350d8def4a85d8635b690074994c"
   }
  }
 },
 "nbformat": 4,
 "nbformat_minor": 2
}