{
 "metadata": {
  "language_info": {
   "codemirror_mode": {
    "name": "ipython",
    "version": 3
   },
   "file_extension": ".py",
   "mimetype": "text/x-python",
   "name": "python",
   "nbconvert_exporter": "python",
   "pygments_lexer": "ipython3",
   "version": "3.7.4"
  },
  "orig_nbformat": 2,
  "kernelspec": {
   "name": "python374jvsc74a57bd02d8a740277f67c33143a8e5c8e55f738530a350d8def4a85d8635b690074994c",
   "display_name": "Python 3.7.4 64-bit"
  },
  "metadata": {
   "interpreter": {
    "hash": "2d8a740277f67c33143a8e5c8e55f738530a350d8def4a85d8635b690074994c"
   }
  }
 },
 "nbformat": 4,
 "nbformat_minor": 2,
 "cells": [
  {
   "source": [
    "# SQL en Python\n",
    "<img src=\".\\img\\image-4.png\" alt=\"EDA Path\"\n",
    "    title=\"A typical EDA path\" width=\"600\" height=\"300\" />\n",
    "## Conectamos con la base de datos\n",
    "\n",
    "### Documentación de la librería SQLite3 que vamos a utilizar:\n",
    "https://docs.python.org/3/library/sqlite3.html\n"
   ],
   "cell_type": "markdown",
   "metadata": {}
  },
  {
   "cell_type": "code",
   "execution_count": 1,
   "metadata": {},
   "outputs": [],
   "source": [
    "# Importamos librerias\n",
    "import pandas as pd \n",
    "import sqlite3 "
   ]
  },
  {
   "cell_type": "code",
   "execution_count": 2,
   "metadata": {},
   "outputs": [],
   "source": [
    "# Conectamos con la base de datos chinook.db\n",
    "path = \"chinook.db\"\n",
    "connection = sqlite3.connect(path)\n",
    "\n",
    "# Obtenemos un cursor que utilizaremos para hacer las queries. El cursor representa a la base de datos\n",
    "curs = connection.cursor()\n"
   ]
  },
  {
   "cell_type": "code",
   "execution_count": 3,
   "metadata": {},
   "outputs": [],
   "source": [
    "# Creamos una Query sencilla\n",
    "query = \"\"\"\n",
    "SELECT *\n",
    "FROM genres\n",
    "\"\"\""
   ]
  },
  {
   "cell_type": "code",
   "execution_count": 5,
   "metadata": {},
   "outputs": [
    {
     "output_type": "execute_result",
     "data": {
      "text/plain": [
       "<sqlite3.Cursor at 0x20a4b1ad730>"
      ]
     },
     "metadata": {},
     "execution_count": 5
    }
   ],
   "source": [
    "# Ejecutamos la query\n",
    "my_query = curs.execute(query)\n",
    "my_query"
   ]
  },
  {
   "cell_type": "code",
   "execution_count": 6,
   "metadata": {},
   "outputs": [
    {
     "output_type": "execute_result",
     "data": {
      "text/plain": [
       "[(1, 'Rock'),\n",
       " (2, 'Jazz'),\n",
       " (3, 'Metal'),\n",
       " (4, 'Alternative & Punk'),\n",
       " (5, 'Rock And Roll'),\n",
       " (6, 'Blues'),\n",
       " (7, 'Latin'),\n",
       " (8, 'Reggae'),\n",
       " (9, 'Pop'),\n",
       " (10, 'Soundtrack'),\n",
       " (11, 'Bossa Nova'),\n",
       " (12, 'Easy Listening'),\n",
       " (13, 'Heavy Metal'),\n",
       " (14, 'R&B/Soul'),\n",
       " (15, 'Electronica/Dance'),\n",
       " (16, 'World'),\n",
       " (17, 'Hip Hop/Rap'),\n",
       " (18, 'Science Fiction'),\n",
       " (19, 'TV Shows'),\n",
       " (20, 'Sci Fi & Fantasy'),\n",
       " (21, 'Drama'),\n",
       " (22, 'Comedy'),\n",
       " (23, 'Alternative'),\n",
       " (24, 'Classical'),\n",
       " (25, 'Opera')]"
      ]
     },
     "metadata": {},
     "execution_count": 6
    }
   ],
   "source": [
    "# Pedimos el resultado de la query\n",
    "my_query.fetchall()"
   ]
  },
  {
   "cell_type": "code",
   "execution_count": 8,
   "metadata": {},
   "outputs": [
    {
     "output_type": "execute_result",
     "data": {
      "text/plain": [
       "    GenreId                Name\n",
       "0         1                Rock\n",
       "1         2                Jazz\n",
       "2         3               Metal\n",
       "3         4  Alternative & Punk\n",
       "4         5       Rock And Roll\n",
       "5         6               Blues\n",
       "6         7               Latin\n",
       "7         8              Reggae\n",
       "8         9                 Pop\n",
       "9        10          Soundtrack\n",
       "10       11          Bossa Nova\n",
       "11       12      Easy Listening\n",
       "12       13         Heavy Metal\n",
       "13       14            R&B/Soul\n",
       "14       15   Electronica/Dance\n",
       "15       16               World\n",
       "16       17         Hip Hop/Rap\n",
       "17       18     Science Fiction\n",
       "18       19            TV Shows\n",
       "19       20    Sci Fi & Fantasy\n",
       "20       21               Drama\n",
       "21       22              Comedy\n",
       "22       23         Alternative\n",
       "23       24           Classical\n",
       "24       25               Opera"
      ],
      "text/html": "<div>\n<style scoped>\n    .dataframe tbody tr th:only-of-type {\n        vertical-align: middle;\n    }\n\n    .dataframe tbody tr th {\n        vertical-align: top;\n    }\n\n    .dataframe thead th {\n        text-align: right;\n    }\n</style>\n<table border=\"1\" class=\"dataframe\">\n  <thead>\n    <tr style=\"text-align: right;\">\n      <th></th>\n      <th>GenreId</th>\n      <th>Name</th>\n    </tr>\n  </thead>\n  <tbody>\n    <tr>\n      <th>0</th>\n      <td>1</td>\n      <td>Rock</td>\n    </tr>\n    <tr>\n      <th>1</th>\n      <td>2</td>\n      <td>Jazz</td>\n    </tr>\n    <tr>\n      <th>2</th>\n      <td>3</td>\n      <td>Metal</td>\n    </tr>\n    <tr>\n      <th>3</th>\n      <td>4</td>\n      <td>Alternative &amp; Punk</td>\n    </tr>\n    <tr>\n      <th>4</th>\n      <td>5</td>\n      <td>Rock And Roll</td>\n    </tr>\n    <tr>\n      <th>5</th>\n      <td>6</td>\n      <td>Blues</td>\n    </tr>\n    <tr>\n      <th>6</th>\n      <td>7</td>\n      <td>Latin</td>\n    </tr>\n    <tr>\n      <th>7</th>\n      <td>8</td>\n      <td>Reggae</td>\n    </tr>\n    <tr>\n      <th>8</th>\n      <td>9</td>\n      <td>Pop</td>\n    </tr>\n    <tr>\n      <th>9</th>\n      <td>10</td>\n      <td>Soundtrack</td>\n    </tr>\n    <tr>\n      <th>10</th>\n      <td>11</td>\n      <td>Bossa Nova</td>\n    </tr>\n    <tr>\n      <th>11</th>\n      <td>12</td>\n      <td>Easy Listening</td>\n    </tr>\n    <tr>\n      <th>12</th>\n      <td>13</td>\n      <td>Heavy Metal</td>\n    </tr>\n    <tr>\n      <th>13</th>\n      <td>14</td>\n      <td>R&amp;B/Soul</td>\n    </tr>\n    <tr>\n      <th>14</th>\n      <td>15</td>\n      <td>Electronica/Dance</td>\n    </tr>\n    <tr>\n      <th>15</th>\n      <td>16</td>\n      <td>World</td>\n    </tr>\n    <tr>\n      <th>16</th>\n      <td>17</td>\n      <td>Hip Hop/Rap</td>\n    </tr>\n    <tr>\n      <th>17</th>\n      <td>18</td>\n      <td>Science Fiction</td>\n    </tr>\n    <tr>\n      <th>18</th>\n      <td>19</td>\n      <td>TV Shows</td>\n    </tr>\n    <tr>\n      <th>19</th>\n      <td>20</td>\n      <td>Sci Fi &amp; Fantasy</td>\n    </tr>\n    <tr>\n      <th>20</th>\n      <td>21</td>\n      <td>Drama</td>\n    </tr>\n    <tr>\n      <th>21</th>\n      <td>22</td>\n      <td>Comedy</td>\n    </tr>\n    <tr>\n      <th>22</th>\n      <td>23</td>\n      <td>Alternative</td>\n    </tr>\n    <tr>\n      <th>23</th>\n      <td>24</td>\n      <td>Classical</td>\n    </tr>\n    <tr>\n      <th>24</th>\n      <td>25</td>\n      <td>Opera</td>\n    </tr>\n  </tbody>\n</table>\n</div>"
     },
     "metadata": {},
     "execution_count": 8
    }
   ],
   "source": [
    "# Con esta función leemos los datos y lo pasamos a un DataFrame de Pandas\n",
    "def sql_query(query):\n",
    "    curs.execute(query)\n",
    "    datos_query = curs.fetchall()\n",
    "    col_names = [description[0] for description in curs.description]\n",
    "    return pd.DataFrame(datos_query, columns=col_names)\n",
    "\n",
    "sql_query(query)"
   ]
  },
  {
   "cell_type": "code",
   "execution_count": 9,
   "metadata": {},
   "outputs": [
    {
     "output_type": "execute_result",
     "data": {
      "text/plain": [
       "    GenreId                Name\n",
       "0         1                Rock\n",
       "1         2                Jazz\n",
       "2         3               Metal\n",
       "3         4  Alternative & Punk\n",
       "4         5       Rock And Roll\n",
       "5         6               Blues\n",
       "6         7               Latin\n",
       "7         8              Reggae\n",
       "8         9                 Pop\n",
       "9        10          Soundtrack\n",
       "10       11          Bossa Nova\n",
       "11       12      Easy Listening\n",
       "12       13         Heavy Metal\n",
       "13       14            R&B/Soul\n",
       "14       15   Electronica/Dance\n",
       "15       16               World\n",
       "16       17         Hip Hop/Rap\n",
       "17       18     Science Fiction\n",
       "18       19            TV Shows\n",
       "19       20    Sci Fi & Fantasy\n",
       "20       21               Drama\n",
       "21       22              Comedy\n",
       "22       23         Alternative\n",
       "23       24           Classical\n",
       "24       25               Opera"
      ],
      "text/html": "<div>\n<style scoped>\n    .dataframe tbody tr th:only-of-type {\n        vertical-align: middle;\n    }\n\n    .dataframe tbody tr th {\n        vertical-align: top;\n    }\n\n    .dataframe thead th {\n        text-align: right;\n    }\n</style>\n<table border=\"1\" class=\"dataframe\">\n  <thead>\n    <tr style=\"text-align: right;\">\n      <th></th>\n      <th>GenreId</th>\n      <th>Name</th>\n    </tr>\n  </thead>\n  <tbody>\n    <tr>\n      <th>0</th>\n      <td>1</td>\n      <td>Rock</td>\n    </tr>\n    <tr>\n      <th>1</th>\n      <td>2</td>\n      <td>Jazz</td>\n    </tr>\n    <tr>\n      <th>2</th>\n      <td>3</td>\n      <td>Metal</td>\n    </tr>\n    <tr>\n      <th>3</th>\n      <td>4</td>\n      <td>Alternative &amp; Punk</td>\n    </tr>\n    <tr>\n      <th>4</th>\n      <td>5</td>\n      <td>Rock And Roll</td>\n    </tr>\n    <tr>\n      <th>5</th>\n      <td>6</td>\n      <td>Blues</td>\n    </tr>\n    <tr>\n      <th>6</th>\n      <td>7</td>\n      <td>Latin</td>\n    </tr>\n    <tr>\n      <th>7</th>\n      <td>8</td>\n      <td>Reggae</td>\n    </tr>\n    <tr>\n      <th>8</th>\n      <td>9</td>\n      <td>Pop</td>\n    </tr>\n    <tr>\n      <th>9</th>\n      <td>10</td>\n      <td>Soundtrack</td>\n    </tr>\n    <tr>\n      <th>10</th>\n      <td>11</td>\n      <td>Bossa Nova</td>\n    </tr>\n    <tr>\n      <th>11</th>\n      <td>12</td>\n      <td>Easy Listening</td>\n    </tr>\n    <tr>\n      <th>12</th>\n      <td>13</td>\n      <td>Heavy Metal</td>\n    </tr>\n    <tr>\n      <th>13</th>\n      <td>14</td>\n      <td>R&amp;B/Soul</td>\n    </tr>\n    <tr>\n      <th>14</th>\n      <td>15</td>\n      <td>Electronica/Dance</td>\n    </tr>\n    <tr>\n      <th>15</th>\n      <td>16</td>\n      <td>World</td>\n    </tr>\n    <tr>\n      <th>16</th>\n      <td>17</td>\n      <td>Hip Hop/Rap</td>\n    </tr>\n    <tr>\n      <th>17</th>\n      <td>18</td>\n      <td>Science Fiction</td>\n    </tr>\n    <tr>\n      <th>18</th>\n      <td>19</td>\n      <td>TV Shows</td>\n    </tr>\n    <tr>\n      <th>19</th>\n      <td>20</td>\n      <td>Sci Fi &amp; Fantasy</td>\n    </tr>\n    <tr>\n      <th>20</th>\n      <td>21</td>\n      <td>Drama</td>\n    </tr>\n    <tr>\n      <th>21</th>\n      <td>22</td>\n      <td>Comedy</td>\n    </tr>\n    <tr>\n      <th>22</th>\n      <td>23</td>\n      <td>Alternative</td>\n    </tr>\n    <tr>\n      <th>23</th>\n      <td>24</td>\n      <td>Classical</td>\n    </tr>\n    <tr>\n      <th>24</th>\n      <td>25</td>\n      <td>Opera</td>\n    </tr>\n  </tbody>\n</table>\n</div>"
     },
     "metadata": {},
     "execution_count": 9
    }
   ],
   "source": [
    "# Tambien podemos obtener el mismo resultado directamente con pandas\n",
    "pd.read_sql_query(query,connection) # connection es la path de la base de datos"
   ]
  },
  {
   "source": [
    "## Ya podemos comenzar con la práctica de chinook:\n",
    "Antes de empezar a atacar una base de datos, tendremos que saber qué hay dentro, y para ello lo mejor es ver cómo es su **modelo de datos**\n",
    "\n",
    "![imagen](./img/chinook_data_model.png)"
   ],
   "cell_type": "markdown",
   "metadata": {}
  },
  {
   "source": [
    "### 1.\tFacturas de Clientes de Brasil, Nombre del cliente, Id de factura, fecha de la factura y el país de la factura"
   ],
   "cell_type": "markdown",
   "metadata": {}
  },
  {
   "cell_type": "code",
   "execution_count": 22,
   "metadata": {},
   "outputs": [],
   "source": [
    "query1 = \"\"\"\n",
    "SELECT *\n",
    "FROM invoices i, customers c\n",
    "WHERE c.CustomerId = i.CustomerId   \n",
    "\n",
    "\"\"\""
   ]
  },
  {
   "cell_type": "code",
   "execution_count": 44,
   "metadata": {},
   "outputs": [],
   "source": [
    "# Si las tablas no tienen una key en común no se pueden relacionar directamente. El esquema nos dice que la relación entre estas dos tablas es customersId\n",
    "# el merge de las tablas solo muestra la intersección de las dos tablas, solo aparecen los elementos comunes (el where sería un inner join)\n",
    "# si una columna esta en las dos tablas para especificar que columna quiero tendria que decir invoices.FirstName por ejemplo\n",
    "query1 = \"\"\"\n",
    "SELECT invoices.*, FirstName\n",
    "FROM invoices, customers\n",
    "WHERE customers.CustomerId = invoices.CustomerId AND customers.Country = \"Brazil\"\n",
    "\"\"\""
   ]
  },
  {
   "cell_type": "code",
   "execution_count": 42,
   "metadata": {},
   "outputs": [
    {
     "output_type": "execute_result",
     "data": {
      "text/plain": [
       "          Full Name  InvoiceId          InvoiceDate BillingCountry\n",
       "0    Luís Gonçalves         98  2010-03-11 00:00:00         Brazil\n",
       "1    Luís Gonçalves        121  2010-06-13 00:00:00         Brazil\n",
       "2    Luís Gonçalves        143  2010-09-15 00:00:00         Brazil\n",
       "3    Luís Gonçalves        195  2011-05-06 00:00:00         Brazil\n",
       "4    Luís Gonçalves        316  2012-10-27 00:00:00         Brazil\n",
       "5    Luís Gonçalves        327  2012-12-07 00:00:00         Brazil\n",
       "6    Luís Gonçalves        382  2013-08-07 00:00:00         Brazil\n",
       "7   Eduardo Martins         25  2009-04-09 00:00:00         Brazil\n",
       "8   Eduardo Martins        154  2010-11-14 00:00:00         Brazil\n",
       "9   Eduardo Martins        177  2011-02-16 00:00:00         Brazil\n",
       "10  Eduardo Martins        199  2011-05-21 00:00:00         Brazil\n",
       "11  Eduardo Martins        251  2012-01-09 00:00:00         Brazil\n",
       "12  Eduardo Martins        372  2013-07-02 00:00:00         Brazil\n",
       "13  Eduardo Martins        383  2013-08-12 00:00:00         Brazil\n",
       "14  Alexandre Rocha         57  2009-09-06 00:00:00         Brazil\n",
       "15  Alexandre Rocha         68  2009-10-17 00:00:00         Brazil\n",
       "16  Alexandre Rocha        123  2010-06-17 00:00:00         Brazil\n",
       "17  Alexandre Rocha        252  2012-01-22 00:00:00         Brazil\n",
       "18  Alexandre Rocha        275  2012-04-25 00:00:00         Brazil\n",
       "19  Alexandre Rocha        297  2012-07-28 00:00:00         Brazil\n",
       "20  Alexandre Rocha        349  2013-03-18 00:00:00         Brazil\n",
       "21  Roberto Almeida         34  2009-05-23 00:00:00         Brazil\n",
       "22  Roberto Almeida        155  2010-11-14 00:00:00         Brazil\n",
       "23  Roberto Almeida        166  2010-12-25 00:00:00         Brazil\n",
       "24  Roberto Almeida        221  2011-08-25 00:00:00         Brazil\n",
       "25  Roberto Almeida        350  2013-03-31 00:00:00         Brazil\n",
       "26  Roberto Almeida        373  2013-07-03 00:00:00         Brazil\n",
       "27  Roberto Almeida        395  2013-10-05 00:00:00         Brazil\n",
       "28   Fernanda Ramos         35  2009-06-05 00:00:00         Brazil\n",
       "29   Fernanda Ramos         58  2009-09-07 00:00:00         Brazil\n",
       "30   Fernanda Ramos         80  2009-12-10 00:00:00         Brazil\n",
       "31   Fernanda Ramos        132  2010-07-31 00:00:00         Brazil\n",
       "32   Fernanda Ramos        253  2012-01-22 00:00:00         Brazil\n",
       "33   Fernanda Ramos        264  2012-03-03 00:00:00         Brazil\n",
       "34   Fernanda Ramos        319  2012-11-01 00:00:00         Brazil"
      ],
      "text/html": "<div>\n<style scoped>\n    .dataframe tbody tr th:only-of-type {\n        vertical-align: middle;\n    }\n\n    .dataframe tbody tr th {\n        vertical-align: top;\n    }\n\n    .dataframe thead th {\n        text-align: right;\n    }\n</style>\n<table border=\"1\" class=\"dataframe\">\n  <thead>\n    <tr style=\"text-align: right;\">\n      <th></th>\n      <th>Full Name</th>\n      <th>InvoiceId</th>\n      <th>InvoiceDate</th>\n      <th>BillingCountry</th>\n    </tr>\n  </thead>\n  <tbody>\n    <tr>\n      <th>0</th>\n      <td>Luís Gonçalves</td>\n      <td>98</td>\n      <td>2010-03-11 00:00:00</td>\n      <td>Brazil</td>\n    </tr>\n    <tr>\n      <th>1</th>\n      <td>Luís Gonçalves</td>\n      <td>121</td>\n      <td>2010-06-13 00:00:00</td>\n      <td>Brazil</td>\n    </tr>\n    <tr>\n      <th>2</th>\n      <td>Luís Gonçalves</td>\n      <td>143</td>\n      <td>2010-09-15 00:00:00</td>\n      <td>Brazil</td>\n    </tr>\n    <tr>\n      <th>3</th>\n      <td>Luís Gonçalves</td>\n      <td>195</td>\n      <td>2011-05-06 00:00:00</td>\n      <td>Brazil</td>\n    </tr>\n    <tr>\n      <th>4</th>\n      <td>Luís Gonçalves</td>\n      <td>316</td>\n      <td>2012-10-27 00:00:00</td>\n      <td>Brazil</td>\n    </tr>\n    <tr>\n      <th>5</th>\n      <td>Luís Gonçalves</td>\n      <td>327</td>\n      <td>2012-12-07 00:00:00</td>\n      <td>Brazil</td>\n    </tr>\n    <tr>\n      <th>6</th>\n      <td>Luís Gonçalves</td>\n      <td>382</td>\n      <td>2013-08-07 00:00:00</td>\n      <td>Brazil</td>\n    </tr>\n    <tr>\n      <th>7</th>\n      <td>Eduardo Martins</td>\n      <td>25</td>\n      <td>2009-04-09 00:00:00</td>\n      <td>Brazil</td>\n    </tr>\n    <tr>\n      <th>8</th>\n      <td>Eduardo Martins</td>\n      <td>154</td>\n      <td>2010-11-14 00:00:00</td>\n      <td>Brazil</td>\n    </tr>\n    <tr>\n      <th>9</th>\n      <td>Eduardo Martins</td>\n      <td>177</td>\n      <td>2011-02-16 00:00:00</td>\n      <td>Brazil</td>\n    </tr>\n    <tr>\n      <th>10</th>\n      <td>Eduardo Martins</td>\n      <td>199</td>\n      <td>2011-05-21 00:00:00</td>\n      <td>Brazil</td>\n    </tr>\n    <tr>\n      <th>11</th>\n      <td>Eduardo Martins</td>\n      <td>251</td>\n      <td>2012-01-09 00:00:00</td>\n      <td>Brazil</td>\n    </tr>\n    <tr>\n      <th>12</th>\n      <td>Eduardo Martins</td>\n      <td>372</td>\n      <td>2013-07-02 00:00:00</td>\n      <td>Brazil</td>\n    </tr>\n    <tr>\n      <th>13</th>\n      <td>Eduardo Martins</td>\n      <td>383</td>\n      <td>2013-08-12 00:00:00</td>\n      <td>Brazil</td>\n    </tr>\n    <tr>\n      <th>14</th>\n      <td>Alexandre Rocha</td>\n      <td>57</td>\n      <td>2009-09-06 00:00:00</td>\n      <td>Brazil</td>\n    </tr>\n    <tr>\n      <th>15</th>\n      <td>Alexandre Rocha</td>\n      <td>68</td>\n      <td>2009-10-17 00:00:00</td>\n      <td>Brazil</td>\n    </tr>\n    <tr>\n      <th>16</th>\n      <td>Alexandre Rocha</td>\n      <td>123</td>\n      <td>2010-06-17 00:00:00</td>\n      <td>Brazil</td>\n    </tr>\n    <tr>\n      <th>17</th>\n      <td>Alexandre Rocha</td>\n      <td>252</td>\n      <td>2012-01-22 00:00:00</td>\n      <td>Brazil</td>\n    </tr>\n    <tr>\n      <th>18</th>\n      <td>Alexandre Rocha</td>\n      <td>275</td>\n      <td>2012-04-25 00:00:00</td>\n      <td>Brazil</td>\n    </tr>\n    <tr>\n      <th>19</th>\n      <td>Alexandre Rocha</td>\n      <td>297</td>\n      <td>2012-07-28 00:00:00</td>\n      <td>Brazil</td>\n    </tr>\n    <tr>\n      <th>20</th>\n      <td>Alexandre Rocha</td>\n      <td>349</td>\n      <td>2013-03-18 00:00:00</td>\n      <td>Brazil</td>\n    </tr>\n    <tr>\n      <th>21</th>\n      <td>Roberto Almeida</td>\n      <td>34</td>\n      <td>2009-05-23 00:00:00</td>\n      <td>Brazil</td>\n    </tr>\n    <tr>\n      <th>22</th>\n      <td>Roberto Almeida</td>\n      <td>155</td>\n      <td>2010-11-14 00:00:00</td>\n      <td>Brazil</td>\n    </tr>\n    <tr>\n      <th>23</th>\n      <td>Roberto Almeida</td>\n      <td>166</td>\n      <td>2010-12-25 00:00:00</td>\n      <td>Brazil</td>\n    </tr>\n    <tr>\n      <th>24</th>\n      <td>Roberto Almeida</td>\n      <td>221</td>\n      <td>2011-08-25 00:00:00</td>\n      <td>Brazil</td>\n    </tr>\n    <tr>\n      <th>25</th>\n      <td>Roberto Almeida</td>\n      <td>350</td>\n      <td>2013-03-31 00:00:00</td>\n      <td>Brazil</td>\n    </tr>\n    <tr>\n      <th>26</th>\n      <td>Roberto Almeida</td>\n      <td>373</td>\n      <td>2013-07-03 00:00:00</td>\n      <td>Brazil</td>\n    </tr>\n    <tr>\n      <th>27</th>\n      <td>Roberto Almeida</td>\n      <td>395</td>\n      <td>2013-10-05 00:00:00</td>\n      <td>Brazil</td>\n    </tr>\n    <tr>\n      <th>28</th>\n      <td>Fernanda Ramos</td>\n      <td>35</td>\n      <td>2009-06-05 00:00:00</td>\n      <td>Brazil</td>\n    </tr>\n    <tr>\n      <th>29</th>\n      <td>Fernanda Ramos</td>\n      <td>58</td>\n      <td>2009-09-07 00:00:00</td>\n      <td>Brazil</td>\n    </tr>\n    <tr>\n      <th>30</th>\n      <td>Fernanda Ramos</td>\n      <td>80</td>\n      <td>2009-12-10 00:00:00</td>\n      <td>Brazil</td>\n    </tr>\n    <tr>\n      <th>31</th>\n      <td>Fernanda Ramos</td>\n      <td>132</td>\n      <td>2010-07-31 00:00:00</td>\n      <td>Brazil</td>\n    </tr>\n    <tr>\n      <th>32</th>\n      <td>Fernanda Ramos</td>\n      <td>253</td>\n      <td>2012-01-22 00:00:00</td>\n      <td>Brazil</td>\n    </tr>\n    <tr>\n      <th>33</th>\n      <td>Fernanda Ramos</td>\n      <td>264</td>\n      <td>2012-03-03 00:00:00</td>\n      <td>Brazil</td>\n    </tr>\n    <tr>\n      <th>34</th>\n      <td>Fernanda Ramos</td>\n      <td>319</td>\n      <td>2012-11-01 00:00:00</td>\n      <td>Brazil</td>\n    </tr>\n  </tbody>\n</table>\n</div>"
     },
     "metadata": {},
     "execution_count": 42
    }
   ],
   "source": [
    "# Otra forma de hacerlo:\n",
    "query= \"\"\"\n",
    "SELECT c.FirstName||\" \"||c.LastName as \"Full Name\", i.InvoiceId, i.InvoiceDate, i.BillingCountry\n",
    "FROM customers c\n",
    "JOIN invoices i ON c.CustomerId = i.CustomerId\n",
    "WHERE c.Country = \"Brazil\"\n",
    "\"\"\"\n",
    "\n",
    "pd.read_sql_query(query,connection)\n"
   ]
  },
  {
   "source": [
    "### 2.\tFacturas de Clientes de Brasil"
   ],
   "cell_type": "markdown",
   "metadata": {}
  },
  {
   "cell_type": "code",
   "execution_count": 53,
   "metadata": {},
   "outputs": [
    {
     "output_type": "execute_result",
     "data": {
      "text/plain": [
       "   InvoiceId  CustomerId          InvoiceDate  \\\n",
       "0         98           1  2010-03-11 00:00:00   \n",
       "1        121           1  2010-06-13 00:00:00   \n",
       "2        143           1  2010-09-15 00:00:00   \n",
       "3        195           1  2011-05-06 00:00:00   \n",
       "4        316           1  2012-10-27 00:00:00   \n",
       "\n",
       "                    BillingAddress          BillingCity BillingState  \\\n",
       "0  Av. Brigadeiro Faria Lima, 2170  São José dos Campos           SP   \n",
       "1  Av. Brigadeiro Faria Lima, 2170  São José dos Campos           SP   \n",
       "2  Av. Brigadeiro Faria Lima, 2170  São José dos Campos           SP   \n",
       "3  Av. Brigadeiro Faria Lima, 2170  São José dos Campos           SP   \n",
       "4  Av. Brigadeiro Faria Lima, 2170  São José dos Campos           SP   \n",
       "\n",
       "  BillingCountry BillingPostalCode  Total  \n",
       "0         Brazil         12227-000   3.98  \n",
       "1         Brazil         12227-000   3.96  \n",
       "2         Brazil         12227-000   5.94  \n",
       "3         Brazil         12227-000   0.99  \n",
       "4         Brazil         12227-000   1.98  "
      ],
      "text/html": "<div>\n<style scoped>\n    .dataframe tbody tr th:only-of-type {\n        vertical-align: middle;\n    }\n\n    .dataframe tbody tr th {\n        vertical-align: top;\n    }\n\n    .dataframe thead th {\n        text-align: right;\n    }\n</style>\n<table border=\"1\" class=\"dataframe\">\n  <thead>\n    <tr style=\"text-align: right;\">\n      <th></th>\n      <th>InvoiceId</th>\n      <th>CustomerId</th>\n      <th>InvoiceDate</th>\n      <th>BillingAddress</th>\n      <th>BillingCity</th>\n      <th>BillingState</th>\n      <th>BillingCountry</th>\n      <th>BillingPostalCode</th>\n      <th>Total</th>\n    </tr>\n  </thead>\n  <tbody>\n    <tr>\n      <th>0</th>\n      <td>98</td>\n      <td>1</td>\n      <td>2010-03-11 00:00:00</td>\n      <td>Av. Brigadeiro Faria Lima, 2170</td>\n      <td>São José dos Campos</td>\n      <td>SP</td>\n      <td>Brazil</td>\n      <td>12227-000</td>\n      <td>3.98</td>\n    </tr>\n    <tr>\n      <th>1</th>\n      <td>121</td>\n      <td>1</td>\n      <td>2010-06-13 00:00:00</td>\n      <td>Av. Brigadeiro Faria Lima, 2170</td>\n      <td>São José dos Campos</td>\n      <td>SP</td>\n      <td>Brazil</td>\n      <td>12227-000</td>\n      <td>3.96</td>\n    </tr>\n    <tr>\n      <th>2</th>\n      <td>143</td>\n      <td>1</td>\n      <td>2010-09-15 00:00:00</td>\n      <td>Av. Brigadeiro Faria Lima, 2170</td>\n      <td>São José dos Campos</td>\n      <td>SP</td>\n      <td>Brazil</td>\n      <td>12227-000</td>\n      <td>5.94</td>\n    </tr>\n    <tr>\n      <th>3</th>\n      <td>195</td>\n      <td>1</td>\n      <td>2011-05-06 00:00:00</td>\n      <td>Av. Brigadeiro Faria Lima, 2170</td>\n      <td>São José dos Campos</td>\n      <td>SP</td>\n      <td>Brazil</td>\n      <td>12227-000</td>\n      <td>0.99</td>\n    </tr>\n    <tr>\n      <th>4</th>\n      <td>316</td>\n      <td>1</td>\n      <td>2012-10-27 00:00:00</td>\n      <td>Av. Brigadeiro Faria Lima, 2170</td>\n      <td>São José dos Campos</td>\n      <td>SP</td>\n      <td>Brazil</td>\n      <td>12227-000</td>\n      <td>1.98</td>\n    </tr>\n  </tbody>\n</table>\n</div>"
     },
     "metadata": {},
     "execution_count": 53
    }
   ],
   "source": [
    "query2 = \"\"\"\n",
    "SELECT i.*\n",
    "FROM customers c\n",
    "JOIN invoices i ON c.CustomerId = i.CustomerId\n",
    "WHERE c.Country = \"Brazil\"\n",
    "\"\"\"\n",
    "\n",
    "pd.read_sql_query(query2,connection).head()\n",
    "# Pongo head() aqui simplemente para que la tabla no sea tan larga al hacer los ejercicios"
   ]
  },
  {
   "cell_type": "code",
   "execution_count": null,
   "metadata": {},
   "outputs": [],
   "source": []
  },
  {
   "source": [
    "### 3.\tMuestra cada factura asociada a cada agente de ventas con su nombre completo."
   ],
   "cell_type": "markdown",
   "metadata": {}
  },
  {
   "cell_type": "code",
   "execution_count": 59,
   "metadata": {},
   "outputs": [
    {
     "output_type": "execute_result",
     "data": {
      "text/plain": [
       "     InvoiceId  CustomerId          InvoiceDate  \\\n",
       "0           98           1  2010-03-11 00:00:00   \n",
       "1          121           1  2010-06-13 00:00:00   \n",
       "2          143           1  2010-09-15 00:00:00   \n",
       "3          195           1  2011-05-06 00:00:00   \n",
       "4          316           1  2012-10-27 00:00:00   \n",
       "..         ...         ...                  ...   \n",
       "407         88          57  2010-01-13 00:00:00   \n",
       "408        217          57  2011-08-20 00:00:00   \n",
       "409        240          57  2011-11-22 00:00:00   \n",
       "410        262          57  2012-02-24 00:00:00   \n",
       "411        314          57  2012-10-14 00:00:00   \n",
       "\n",
       "                      BillingAddress          BillingCity BillingState  \\\n",
       "0    Av. Brigadeiro Faria Lima, 2170  São José dos Campos           SP   \n",
       "1    Av. Brigadeiro Faria Lima, 2170  São José dos Campos           SP   \n",
       "2    Av. Brigadeiro Faria Lima, 2170  São José dos Campos           SP   \n",
       "3    Av. Brigadeiro Faria Lima, 2170  São José dos Campos           SP   \n",
       "4    Av. Brigadeiro Faria Lima, 2170  São José dos Campos           SP   \n",
       "..                               ...                  ...          ...   \n",
       "407                  Calle Lira, 198             Santiago         None   \n",
       "408                  Calle Lira, 198             Santiago         None   \n",
       "409                  Calle Lira, 198             Santiago         None   \n",
       "410                  Calle Lira, 198             Santiago         None   \n",
       "411                  Calle Lira, 198             Santiago         None   \n",
       "\n",
       "    BillingCountry BillingPostalCode  Total      Full Name  \n",
       "0           Brazil         12227-000   3.98   Jane Peacock  \n",
       "1           Brazil         12227-000   3.96   Jane Peacock  \n",
       "2           Brazil         12227-000   5.94   Jane Peacock  \n",
       "3           Brazil         12227-000   0.99   Jane Peacock  \n",
       "4           Brazil         12227-000   1.98   Jane Peacock  \n",
       "..             ...               ...    ...            ...  \n",
       "407          Chile              None  17.91  Steve Johnson  \n",
       "408          Chile              None   1.98  Steve Johnson  \n",
       "409          Chile              None   3.96  Steve Johnson  \n",
       "410          Chile              None   5.94  Steve Johnson  \n",
       "411          Chile              None   0.99  Steve Johnson  \n",
       "\n",
       "[412 rows x 10 columns]"
      ],
      "text/html": "<div>\n<style scoped>\n    .dataframe tbody tr th:only-of-type {\n        vertical-align: middle;\n    }\n\n    .dataframe tbody tr th {\n        vertical-align: top;\n    }\n\n    .dataframe thead th {\n        text-align: right;\n    }\n</style>\n<table border=\"1\" class=\"dataframe\">\n  <thead>\n    <tr style=\"text-align: right;\">\n      <th></th>\n      <th>InvoiceId</th>\n      <th>CustomerId</th>\n      <th>InvoiceDate</th>\n      <th>BillingAddress</th>\n      <th>BillingCity</th>\n      <th>BillingState</th>\n      <th>BillingCountry</th>\n      <th>BillingPostalCode</th>\n      <th>Total</th>\n      <th>Full Name</th>\n    </tr>\n  </thead>\n  <tbody>\n    <tr>\n      <th>0</th>\n      <td>98</td>\n      <td>1</td>\n      <td>2010-03-11 00:00:00</td>\n      <td>Av. Brigadeiro Faria Lima, 2170</td>\n      <td>São José dos Campos</td>\n      <td>SP</td>\n      <td>Brazil</td>\n      <td>12227-000</td>\n      <td>3.98</td>\n      <td>Jane Peacock</td>\n    </tr>\n    <tr>\n      <th>1</th>\n      <td>121</td>\n      <td>1</td>\n      <td>2010-06-13 00:00:00</td>\n      <td>Av. Brigadeiro Faria Lima, 2170</td>\n      <td>São José dos Campos</td>\n      <td>SP</td>\n      <td>Brazil</td>\n      <td>12227-000</td>\n      <td>3.96</td>\n      <td>Jane Peacock</td>\n    </tr>\n    <tr>\n      <th>2</th>\n      <td>143</td>\n      <td>1</td>\n      <td>2010-09-15 00:00:00</td>\n      <td>Av. Brigadeiro Faria Lima, 2170</td>\n      <td>São José dos Campos</td>\n      <td>SP</td>\n      <td>Brazil</td>\n      <td>12227-000</td>\n      <td>5.94</td>\n      <td>Jane Peacock</td>\n    </tr>\n    <tr>\n      <th>3</th>\n      <td>195</td>\n      <td>1</td>\n      <td>2011-05-06 00:00:00</td>\n      <td>Av. Brigadeiro Faria Lima, 2170</td>\n      <td>São José dos Campos</td>\n      <td>SP</td>\n      <td>Brazil</td>\n      <td>12227-000</td>\n      <td>0.99</td>\n      <td>Jane Peacock</td>\n    </tr>\n    <tr>\n      <th>4</th>\n      <td>316</td>\n      <td>1</td>\n      <td>2012-10-27 00:00:00</td>\n      <td>Av. Brigadeiro Faria Lima, 2170</td>\n      <td>São José dos Campos</td>\n      <td>SP</td>\n      <td>Brazil</td>\n      <td>12227-000</td>\n      <td>1.98</td>\n      <td>Jane Peacock</td>\n    </tr>\n    <tr>\n      <th>...</th>\n      <td>...</td>\n      <td>...</td>\n      <td>...</td>\n      <td>...</td>\n      <td>...</td>\n      <td>...</td>\n      <td>...</td>\n      <td>...</td>\n      <td>...</td>\n      <td>...</td>\n    </tr>\n    <tr>\n      <th>407</th>\n      <td>88</td>\n      <td>57</td>\n      <td>2010-01-13 00:00:00</td>\n      <td>Calle Lira, 198</td>\n      <td>Santiago</td>\n      <td>None</td>\n      <td>Chile</td>\n      <td>None</td>\n      <td>17.91</td>\n      <td>Steve Johnson</td>\n    </tr>\n    <tr>\n      <th>408</th>\n      <td>217</td>\n      <td>57</td>\n      <td>2011-08-20 00:00:00</td>\n      <td>Calle Lira, 198</td>\n      <td>Santiago</td>\n      <td>None</td>\n      <td>Chile</td>\n      <td>None</td>\n      <td>1.98</td>\n      <td>Steve Johnson</td>\n    </tr>\n    <tr>\n      <th>409</th>\n      <td>240</td>\n      <td>57</td>\n      <td>2011-11-22 00:00:00</td>\n      <td>Calle Lira, 198</td>\n      <td>Santiago</td>\n      <td>None</td>\n      <td>Chile</td>\n      <td>None</td>\n      <td>3.96</td>\n      <td>Steve Johnson</td>\n    </tr>\n    <tr>\n      <th>410</th>\n      <td>262</td>\n      <td>57</td>\n      <td>2012-02-24 00:00:00</td>\n      <td>Calle Lira, 198</td>\n      <td>Santiago</td>\n      <td>None</td>\n      <td>Chile</td>\n      <td>None</td>\n      <td>5.94</td>\n      <td>Steve Johnson</td>\n    </tr>\n    <tr>\n      <th>411</th>\n      <td>314</td>\n      <td>57</td>\n      <td>2012-10-14 00:00:00</td>\n      <td>Calle Lira, 198</td>\n      <td>Santiago</td>\n      <td>None</td>\n      <td>Chile</td>\n      <td>None</td>\n      <td>0.99</td>\n      <td>Steve Johnson</td>\n    </tr>\n  </tbody>\n</table>\n<p>412 rows × 10 columns</p>\n</div>"
     },
     "metadata": {},
     "execution_count": 59
    }
   ],
   "source": [
    "query3=\"\"\"\n",
    "SELECT i.*, e.FirstName||\" \"||e.LastName as \"Full Name\"\n",
    "FROM employees e\n",
    "JOIN customers c ON e.EmployeeId = c.SupportRepId\n",
    "JOIN invoices i ON c.CustomerId = i.CustomerId\n",
    "\"\"\"\n",
    "\n",
    "pd.read_sql_query(query3,connection)"
   ]
  },
  {
   "source": [
    "### 4.\tPara cada factura muestra el nombre del cliente, el país, el nombre del agente y el total"
   ],
   "cell_type": "markdown",
   "metadata": {}
  },
  {
   "cell_type": "code",
   "execution_count": 101,
   "metadata": {},
   "outputs": [
    {
     "output_type": "execute_result",
     "data": {
      "text/plain": [
       "        Full Name Country      Employee  Total\n",
       "0  Luís Gonçalves  Brazil  Jane Peacock   3.98\n",
       "1  Luís Gonçalves  Brazil  Jane Peacock   3.96"
      ],
      "text/html": "<div>\n<style scoped>\n    .dataframe tbody tr th:only-of-type {\n        vertical-align: middle;\n    }\n\n    .dataframe tbody tr th {\n        vertical-align: top;\n    }\n\n    .dataframe thead th {\n        text-align: right;\n    }\n</style>\n<table border=\"1\" class=\"dataframe\">\n  <thead>\n    <tr style=\"text-align: right;\">\n      <th></th>\n      <th>Full Name</th>\n      <th>Country</th>\n      <th>Employee</th>\n      <th>Total</th>\n    </tr>\n  </thead>\n  <tbody>\n    <tr>\n      <th>0</th>\n      <td>Luís Gonçalves</td>\n      <td>Brazil</td>\n      <td>Jane Peacock</td>\n      <td>3.98</td>\n    </tr>\n    <tr>\n      <th>1</th>\n      <td>Luís Gonçalves</td>\n      <td>Brazil</td>\n      <td>Jane Peacock</td>\n      <td>3.96</td>\n    </tr>\n  </tbody>\n</table>\n</div>"
     },
     "metadata": {},
     "execution_count": 101
    }
   ],
   "source": [
    "# Siempre es más facil empezar por una tabla de los extremos\n",
    "query4= \"\"\"\n",
    "SELECT c.FirstName||\" \"||c.LastName as \"Full Name\", c.Country, e.FirstName||\" \"||e.LastName as \"Employee\", i.Total\n",
    "FROM employees e\n",
    "JOIN customers c ON e.EmployeeId = c.SupportRepId\n",
    "JOIN invoices i ON c.CustomerId = i.CustomerId\n",
    "\"\"\"\n",
    "\n",
    "pd.read_sql_query(query4,connection).head(2)"
   ]
  },
  {
   "source": [
    "### 5.\tMuestra cada artículo de la factura con el nombre de la canción."
   ],
   "cell_type": "markdown",
   "metadata": {}
  },
  {
   "cell_type": "code",
   "execution_count": 88,
   "metadata": {},
   "outputs": [
    {
     "output_type": "execute_result",
     "data": {
      "text/plain": [
       "   InvoiceId  CustomerId          InvoiceDate           BillingAddress  \\\n",
       "0          1           2  2009-01-01 00:00:00  Theodor-Heuss-Straße 34   \n",
       "1          1           2  2009-01-01 00:00:00  Theodor-Heuss-Straße 34   \n",
       "\n",
       "  BillingCity BillingState BillingCountry BillingPostalCode  Total  \\\n",
       "0   Stuttgart         None        Germany             70174   1.98   \n",
       "1   Stuttgart         None        Germany             70174   1.98   \n",
       "\n",
       "                Name  \n",
       "0  Balls to the Wall  \n",
       "1  Restless and Wild  "
      ],
      "text/html": "<div>\n<style scoped>\n    .dataframe tbody tr th:only-of-type {\n        vertical-align: middle;\n    }\n\n    .dataframe tbody tr th {\n        vertical-align: top;\n    }\n\n    .dataframe thead th {\n        text-align: right;\n    }\n</style>\n<table border=\"1\" class=\"dataframe\">\n  <thead>\n    <tr style=\"text-align: right;\">\n      <th></th>\n      <th>InvoiceId</th>\n      <th>CustomerId</th>\n      <th>InvoiceDate</th>\n      <th>BillingAddress</th>\n      <th>BillingCity</th>\n      <th>BillingState</th>\n      <th>BillingCountry</th>\n      <th>BillingPostalCode</th>\n      <th>Total</th>\n      <th>Name</th>\n    </tr>\n  </thead>\n  <tbody>\n    <tr>\n      <th>0</th>\n      <td>1</td>\n      <td>2</td>\n      <td>2009-01-01 00:00:00</td>\n      <td>Theodor-Heuss-Straße 34</td>\n      <td>Stuttgart</td>\n      <td>None</td>\n      <td>Germany</td>\n      <td>70174</td>\n      <td>1.98</td>\n      <td>Balls to the Wall</td>\n    </tr>\n    <tr>\n      <th>1</th>\n      <td>1</td>\n      <td>2</td>\n      <td>2009-01-01 00:00:00</td>\n      <td>Theodor-Heuss-Straße 34</td>\n      <td>Stuttgart</td>\n      <td>None</td>\n      <td>Germany</td>\n      <td>70174</td>\n      <td>1.98</td>\n      <td>Restless and Wild</td>\n    </tr>\n  </tbody>\n</table>\n</div>"
     },
     "metadata": {},
     "execution_count": 88
    }
   ],
   "source": [
    "query5 =\"\"\"\n",
    "SELECT i.*, t.Name\n",
    "FROM tracks t\n",
    "JOIN invoice_items ii ON t.TrackId = ii.TrackId\n",
    "JOIN invoices i ON ii.InvoiceId = i.InvoiceId\n",
    "\"\"\"\n",
    "\n",
    "pd.read_sql_query(query5,connection).head(2)"
   ]
  },
  {
   "source": [
    "### 6.\tMuestra todas las canciones con su nombre, formato, álbum y género."
   ],
   "cell_type": "markdown",
   "metadata": {}
  },
  {
   "cell_type": "code",
   "execution_count": 108,
   "metadata": {},
   "outputs": [
    {
     "output_type": "execute_result",
     "data": {
      "text/plain": [
       "                                 Song Name                    Format  \\\n",
       "0  For Those About To Rock (We Salute You)           MPEG audio file   \n",
       "1  For Those About To Rock (We Salute You)  Protected AAC audio file   \n",
       "\n",
       "                                   Album Genre  \n",
       "0  For Those About To Rock We Salute You  Rock  \n",
       "1  For Those About To Rock We Salute You  Rock  "
      ],
      "text/html": "<div>\n<style scoped>\n    .dataframe tbody tr th:only-of-type {\n        vertical-align: middle;\n    }\n\n    .dataframe tbody tr th {\n        vertical-align: top;\n    }\n\n    .dataframe thead th {\n        text-align: right;\n    }\n</style>\n<table border=\"1\" class=\"dataframe\">\n  <thead>\n    <tr style=\"text-align: right;\">\n      <th></th>\n      <th>Song Name</th>\n      <th>Format</th>\n      <th>Album</th>\n      <th>Genre</th>\n    </tr>\n  </thead>\n  <tbody>\n    <tr>\n      <th>0</th>\n      <td>For Those About To Rock (We Salute You)</td>\n      <td>MPEG audio file</td>\n      <td>For Those About To Rock We Salute You</td>\n      <td>Rock</td>\n    </tr>\n    <tr>\n      <th>1</th>\n      <td>For Those About To Rock (We Salute You)</td>\n      <td>Protected AAC audio file</td>\n      <td>For Those About To Rock We Salute You</td>\n      <td>Rock</td>\n    </tr>\n  </tbody>\n</table>\n</div>"
     },
     "metadata": {},
     "execution_count": 108
    }
   ],
   "source": [
    "# Es importante dar nombres a los select para ver que estamos mostrando\n",
    "query6 = \"\"\"\n",
    "SELECT t.Name as \"Song Name\", m.Name as \"Format\", a.Title as \"Album\", g.Name as \"Genre\"\n",
    "FROM tracks t\n",
    "JOIN genres g ON t.GenreId = g.GenreId\n",
    "JOIN albums a ON t.AlbumId = a.AlbumId\n",
    "JOIN media_types m ON t.MediaTypeId = t.MediaTypeId\n",
    "\"\"\"\n",
    "\n",
    "pd.read_sql_query(query6,connection).head(2)"
   ]
  },
  {
   "source": [
    "### 7.\tMuestra cuántas canciones hay en cada playlist y el nombre de cada playlist."
   ],
   "cell_type": "markdown",
   "metadata": {}
  },
  {
   "cell_type": "code",
   "execution_count": 93,
   "metadata": {},
   "outputs": [
    {
     "output_type": "execute_result",
     "data": {
      "text/plain": [
       "   PlaylistId   Name  PlaylistId  TrackId\n",
       "0           1  Music           1        1\n",
       "1           1  Music           1        2"
      ],
      "text/html": "<div>\n<style scoped>\n    .dataframe tbody tr th:only-of-type {\n        vertical-align: middle;\n    }\n\n    .dataframe tbody tr th {\n        vertical-align: top;\n    }\n\n    .dataframe thead th {\n        text-align: right;\n    }\n</style>\n<table border=\"1\" class=\"dataframe\">\n  <thead>\n    <tr style=\"text-align: right;\">\n      <th></th>\n      <th>PlaylistId</th>\n      <th>Name</th>\n      <th>PlaylistId</th>\n      <th>TrackId</th>\n    </tr>\n  </thead>\n  <tbody>\n    <tr>\n      <th>0</th>\n      <td>1</td>\n      <td>Music</td>\n      <td>1</td>\n      <td>1</td>\n    </tr>\n    <tr>\n      <th>1</th>\n      <td>1</td>\n      <td>Music</td>\n      <td>1</td>\n      <td>2</td>\n    </tr>\n  </tbody>\n</table>\n</div>"
     },
     "metadata": {},
     "execution_count": 93
    }
   ],
   "source": [
    "query7 = \"\"\"\n",
    "SELECT pt.TrackId, \n",
    "FROM playlists p\n",
    "JOIN playlist_track pt ON p.PlaylistId = pt.PlaylistId\n",
    "JOIN tracks t ON TrackId = \n",
    "\n",
    "\"\"\"\n",
    "\n",
    "pd.read_sql_query(query7,connection).head(2)"
   ]
  },
  {
   "cell_type": "code",
   "execution_count": 107,
   "metadata": {},
   "outputs": [
    {
     "output_type": "execute_result",
     "data": {
      "text/plain": [
       "                0     1\n",
       "cid             0     1\n",
       "name  MediaTypeId  Name"
      ],
      "text/html": "<div>\n<style scoped>\n    .dataframe tbody tr th:only-of-type {\n        vertical-align: middle;\n    }\n\n    .dataframe tbody tr th {\n        vertical-align: top;\n    }\n\n    .dataframe thead th {\n        text-align: right;\n    }\n</style>\n<table border=\"1\" class=\"dataframe\">\n  <thead>\n    <tr style=\"text-align: right;\">\n      <th></th>\n      <th>0</th>\n      <th>1</th>\n    </tr>\n  </thead>\n  <tbody>\n    <tr>\n      <th>cid</th>\n      <td>0</td>\n      <td>1</td>\n    </tr>\n    <tr>\n      <th>name</th>\n      <td>MediaTypeId</td>\n      <td>Name</td>\n    </tr>\n  </tbody>\n</table>\n</div>"
     },
     "metadata": {},
     "execution_count": 107
    }
   ],
   "source": [
    "q = \"\"\"pragma table_info(\"media_types\")\"\"\"\n",
    "pd.read_sql_query(q, connection).T.head(2)"
   ]
  },
  {
   "source": [
    "### 8.\tMuestra cuánto ha vendido cada empleado."
   ],
   "cell_type": "markdown",
   "metadata": {}
  },
  {
   "source": [
    "query8 = \n",
    "\n",
    "pd.read_sql_query(query8,connection)"
   ],
   "cell_type": "code",
   "metadata": {},
   "execution_count": null,
   "outputs": []
  },
  {
   "source": [
    "### 9.\t¿Quién ha sido el agente de ventas que más ha vendido en 2009?"
   ],
   "cell_type": "markdown",
   "metadata": {}
  },
  {
   "cell_type": "code",
   "execution_count": null,
   "metadata": {},
   "outputs": [],
   "source": []
  },
  {
   "source": [
    "### 10.\t¿Cuáles son los 3 grupos que más han vendido?"
   ],
   "cell_type": "markdown",
   "metadata": {}
  },
  {
   "cell_type": "code",
   "execution_count": null,
   "metadata": {},
   "outputs": [],
   "source": []
  },
  {
   "source": [
    "### 11. Muestra cuántas canciones de Rock hay en cada playlist"
   ],
   "cell_type": "markdown",
   "metadata": {}
  },
  {
   "cell_type": "code",
   "execution_count": null,
   "metadata": {},
   "outputs": [],
   "source": []
  },
  {
   "source": [
    "### 12. Muestra una tabla con todas canciones y su(s) Id de factura, hayan sido vendidas alguna vez o no."
   ],
   "cell_type": "markdown",
   "metadata": {}
  },
  {
   "cell_type": "code",
   "execution_count": null,
   "metadata": {},
   "outputs": [],
   "source": []
  },
  {
   "source": [
    "### 13. ¿Cuántos artistas no tienen ningún album?"
   ],
   "cell_type": "markdown",
   "metadata": {}
  },
  {
   "cell_type": "code",
   "execution_count": 153,
   "metadata": {},
   "outputs": [
    {
     "output_type": "execute_result",
     "data": {
      "text/plain": [
       "   Artists without album\n",
       "0                     71"
      ],
      "text/html": "<div>\n<style scoped>\n    .dataframe tbody tr th:only-of-type {\n        vertical-align: middle;\n    }\n\n    .dataframe tbody tr th {\n        vertical-align: top;\n    }\n\n    .dataframe thead th {\n        text-align: right;\n    }\n</style>\n<table border=\"1\" class=\"dataframe\">\n  <thead>\n    <tr style=\"text-align: right;\">\n      <th></th>\n      <th>Artists without album</th>\n    </tr>\n  </thead>\n  <tbody>\n    <tr>\n      <th>0</th>\n      <td>71</td>\n    </tr>\n  </tbody>\n</table>\n</div>"
     },
     "metadata": {},
     "execution_count": 153
    }
   ],
   "source": [
    "# Es una left join como en pandas. Quiero comparar la informacion con una columna\n",
    "query13 = \"\"\"\n",
    "SELECT COUNT(*) as \"Artists without album\"\n",
    "FROM artists a\n",
    "LEFT JOIN albums al ON al.ArtistId = a.ArtistId\n",
    "WHERE al.Title IS NULL\n",
    "\"\"\"\n",
    "\n",
    "pd.read_sql_query(query13,connection)"
   ]
  },
  {
   "cell_type": "code",
   "execution_count": null,
   "metadata": {},
   "outputs": [],
   "source": []
  }
 ]
}