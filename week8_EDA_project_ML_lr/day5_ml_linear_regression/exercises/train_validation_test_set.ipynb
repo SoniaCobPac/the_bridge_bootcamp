{
 "metadata": {
  "language_info": {
   "codemirror_mode": {
    "name": "ipython",
    "version": 3
   },
   "file_extension": ".py",
   "mimetype": "text/x-python",
   "name": "python",
   "nbconvert_exporter": "python",
   "pygments_lexer": "ipython3",
   "version": "3.7.4"
  },
  "orig_nbformat": 2,
  "kernelspec": {
   "name": "python374jvsc74a57bd02d8a740277f67c33143a8e5c8e55f738530a350d8def4a85d8635b690074994c",
   "display_name": "Python 3.7.4 64-bit"
  },
  "metadata": {
   "interpreter": {
    "hash": "2d8a740277f67c33143a8e5c8e55f738530a350d8def4a85d8635b690074994c"
   }
  }
 },
 "nbformat": 4,
 "nbformat_minor": 2,
 "cells": [
  {
   "cell_type": "markdown",
   "metadata": {},
   "source": [
    "### 1. \n",
    "\n",
    "Crear una función que reciba cuatro parámetros: una lista 'L', un número 'T', un número 'V' y un booleano 'S'. La función debe devolver otras dos listas: \"lista_train_val\" y \"lista_test\".\n",
    "\n",
    "- \"lista_train_val\" es una lista con dos elementos. Cada elemento es una lista: \"list_train\", que representa el conjunto de entrenamiento y \"list_val\", que representa el conjunto de validación. \n",
    "- \"list_test\" es el conjunto de test. Como mínimo ha de tener 1 elemento (si 'L' > 1).\n",
    "- \"L\" es cualquier lista de elementos. Al principio, entra con un tamaño completo (100%). Esta es la lista que se partirá y se generarán los conjuntos entrenamiento, de validación y de test.\n",
    "- \"T\" es un número entre 1 y 100 que va a representar el tamaño, en porcentaje, del conjunto de test \"list_test\". \n",
    "- \"V\" es un número entre 0 y 100 que va a representar el tamaño, en porcentaje, del conjunto de validación \"list_val\". Su valor por defecto es 0.\n",
    "- \"S\", que por defecto es False, determinará si los conjuntos \"list_train\", \"list_test\" y \"list_val\" están aleatoriamente ordenados. ¿Encuentras alguna posible incoherencia si se reordenan aleatoriamente?\n",
    "\n",
    "Prueba la función con una lista de 100 números aleatorios del 0 al 100. \n",
    "\n",
    "### 2. \n",
    "\n",
    "Rehacer el ejercicio anterior en otra función para que no devuelva dos listas, sino los tres conjuntos: \n",
    "\n",
    "--> return list_train, list_val, list_test "
   ]
  },
  {
   "cell_type": "code",
   "execution_count": 6,
   "metadata": {},
   "outputs": [],
   "source": [
    "import numpy as np \n",
    "import pandas as pd \n",
    "import matplotlib.pyplot as plt\n",
    "import seaborn as sns\n",
    "import random\n",
    "from sklearn.model_selection import train_test_split\n"
   ]
  },
  {
   "cell_type": "code",
   "execution_count": 7,
   "metadata": {},
   "outputs": [],
   "source": [
    "# \"L\" es cualquier lista de elementos. Al principio, entra con un tamaño completo (100%). Esta es la lista que se partirá y se generarán los conjuntos entrenamiento, de validación y de test.\n",
    "np.random.seed(42)\n",
    "L = random.sample(range(0, 100), 100)"
   ]
  },
  {
   "cell_type": "code",
   "execution_count": 8,
   "metadata": {},
   "outputs": [
    {
     "output_type": "execute_result",
     "data": {
      "text/plain": [
       "52"
      ]
     },
     "metadata": {},
     "execution_count": 8
    }
   ],
   "source": [
    "# \"T\" es un número entre 1 y 100 que va a representar el tamaño, en porcentaje, del conjunto de test \"list_test\".\n",
    "np.random.seed(42)\n",
    "T = np.random.randint(1, 100) \n",
    "T\n",
    "# aunque normalmente este valor sería 20"
   ]
  },
  {
   "cell_type": "code",
   "execution_count": 6,
   "metadata": {},
   "outputs": [
    {
     "output_type": "execute_result",
     "data": {
      "text/plain": [
       "51"
      ]
     },
     "metadata": {},
     "execution_count": 6
    }
   ],
   "source": [
    "# \"V\" es un número entre 0 y 100 que va a representar el tamaño, en porcentaje, del conjunto de validación \"list_val\". Su valor por defecto es 0.\n",
    "np.random.seed(42)\n",
    "V = np.random.randint(0,100)\n",
    "V"
   ]
  },
  {
   "cell_type": "code",
   "execution_count": 40,
   "metadata": {},
   "outputs": [],
   "source": [
    "def f1(L, T, V=0, S=False): \n",
    "\n",
    "    test = T/100*len(L)\n",
    "    # list_test\n",
    "    list_test = L[:round(test)]\n",
    "\n",
    "    # list_val\n",
    "    val = V/100*len(L) # V se mantiene 0 por defecto\n",
    "    list_val = L[round(test):round((test+val))]\n",
    "\n",
    "    # list_train\n",
    "    list_train = L[round(test+val):]    \n",
    "    \n",
    "    # list_train_val\n",
    "    list_train_val = [list_train, list_val]\n",
    "\n",
    "    # S\n",
    "    if S == True:\n",
    "        random.shuffle(list_train)\n",
    "        random.shuffle(list_val)\n",
    "\n",
    "    return (list_train_val, list_test)"
   ]
  },
  {
   "cell_type": "code",
   "execution_count": 50,
   "metadata": {},
   "outputs": [
    {
     "output_type": "stream",
     "name": "stdout",
     "text": [
      "list_train_val: \n[[2, 41, 99, 32, 68, 15, 79, 70, 6, 66, 19, 62, 8, 34, 65, 7, 45, 71, 76, 54, 56, 63, 90, 59, 50, 73, 35, 75, 20, 81, 30, 39, 94, 1, 21, 72, 95, 57, 24, 97, 12, 78, 67, 80, 49, 16, 85, 27], []]\n\nlist_test: \n[3, 53, 83, 74, 58, 96, 40, 18, 22, 29, 11, 51, 14, 87, 26, 44, 52, 38, 25, 82, 23, 47, 64, 92, 98, 88, 91, 89, 61, 55, 5, 84, 13, 33, 46, 10, 77, 4, 31, 60, 17, 93, 43, 36, 42, 37, 28, 48, 86, 0, 69, 9]\n"
     ]
    }
   ],
   "source": [
    "list_train_val, list_test = f1(L, T)\n",
    "print(f\"list_train_val: \\n{list_train_val}\")\n",
    "print()\n",
    "print(f\"list_test: \\n{list_test}\")"
   ]
  },
  {
   "cell_type": "code",
   "execution_count": 18,
   "metadata": {},
   "outputs": [],
   "source": [
    "# \"S\", que por defecto es False, determinará si los conjuntos \"list_train\", \"list_test\" y \"list_val\" están aleatoriamente ordenados. ¿Encuentras alguna posible incoherencia si se reordenan aleatoriamente?\n",
    "\n",
    "# si se ordenan aleatoreamente a lo mejor algunos valores de test_train también se podrían incluir en list_val "
   ]
  },
  {
   "cell_type": "code",
   "execution_count": null,
   "metadata": {},
   "outputs": [],
   "source": []
  },
  {
   "source": [
    "2.\n",
    "Rehacer el ejercicio anterior en otra función para que no devuelva dos listas, sino los tres conjuntos:\n",
    "\n",
    "--> return list_train, list_val, list_test"
   ],
   "cell_type": "markdown",
   "metadata": {}
  },
  {
   "cell_type": "code",
   "execution_count": 46,
   "metadata": {},
   "outputs": [],
   "source": [
    "def f2(L, T, V=0, S=False): \n",
    "\n",
    "    test = T/100*len(L)\n",
    "    # list_test\n",
    "    list_test = L[:round(test)]\n",
    "\n",
    "    # list_val\n",
    "    val = V/100*len(L) \n",
    "    list_val = L[round(test):round((test+val))]\n",
    "\n",
    "    # list_train\n",
    "    list_train = L[round(test+val):]    \n",
    "    \n",
    "    # list_train_val\n",
    "    list_train_val = [list_train, list_val]\n",
    "\n",
    "    # S\n",
    "    if S == True:\n",
    "        random.shuffle(list_train)\n",
    "        random.shuffle(list_val)\n",
    "        random.shuffle(list_test)\n",
    "\n",
    "    return (list_train, list_val, list_test) "
   ]
  },
  {
   "cell_type": "code",
   "execution_count": 49,
   "metadata": {},
   "outputs": [
    {
     "output_type": "stream",
     "name": "stdout",
     "text": [
      "list_train: \n[2, 41, 99, 32, 68, 15, 79, 70, 6, 66, 19, 62, 8, 34, 65, 7, 45, 71, 76, 54, 56, 63, 90, 59, 50, 73, 35, 75, 20, 81, 30, 39, 94, 1, 21, 72, 95, 57, 24, 97, 12, 78, 67, 80, 49, 16, 85, 27]\n\nlist_val: \n[]\n\nlist_test: \n[3, 53, 83, 74, 58, 96, 40, 18, 22, 29, 11, 51, 14, 87, 26, 44, 52, 38, 25, 82, 23, 47, 64, 92, 98, 88, 91, 89, 61, 55, 5, 84, 13, 33, 46, 10, 77, 4, 31, 60, 17, 93, 43, 36, 42, 37, 28, 48, 86, 0, 69, 9]\n"
     ]
    }
   ],
   "source": [
    "list_train, list_val, list_test = f2(L,T)\n",
    "print(f\"list_train: \\n{list_train}\")\n",
    "print()\n",
    "print(f\"list_val: \\n{list_val}\")\n",
    "print()\n",
    "print(f\"list_test: \\n{list_test}\")"
   ]
  },
  {
   "cell_type": "code",
   "execution_count": null,
   "metadata": {},
   "outputs": [],
   "source": []
  },
  {
   "cell_type": "code",
   "execution_count": null,
   "metadata": {},
   "outputs": [],
   "source": []
  },
  {
   "cell_type": "code",
   "execution_count": null,
   "metadata": {},
   "outputs": [],
   "source": []
  },
  {
   "cell_type": "code",
   "execution_count": null,
   "metadata": {},
   "outputs": [],
   "source": []
  },
  {
   "cell_type": "code",
   "execution_count": null,
   "metadata": {},
   "outputs": [],
   "source": []
  },
  {
   "cell_type": "code",
   "execution_count": null,
   "metadata": {},
   "outputs": [],
   "source": []
  },
  {
   "cell_type": "code",
   "execution_count": null,
   "metadata": {},
   "outputs": [],
   "source": []
  },
  {
   "cell_type": "code",
   "execution_count": null,
   "metadata": {},
   "outputs": [],
   "source": []
  },
  {
   "cell_type": "code",
   "execution_count": null,
   "metadata": {},
   "outputs": [],
   "source": []
  },
  {
   "cell_type": "code",
   "execution_count": null,
   "metadata": {},
   "outputs": [],
   "source": []
  },
  {
   "cell_type": "code",
   "execution_count": null,
   "metadata": {},
   "outputs": [],
   "source": []
  },
  {
   "cell_type": "code",
   "execution_count": null,
   "metadata": {},
   "outputs": [],
   "source": []
  }
 ]
}