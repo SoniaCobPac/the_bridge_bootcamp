{
 "metadata": {
  "language_info": {
   "codemirror_mode": {
    "name": "ipython",
    "version": 3
   },
   "file_extension": ".py",
   "mimetype": "text/x-python",
   "name": "python",
   "nbconvert_exporter": "python",
   "pygments_lexer": "ipython3",
   "version": 3
  },
  "orig_nbformat": 4
 },
 "nbformat": 4,
 "nbformat_minor": 2,
 "cells": [
  {
   "source": [
    "### No supervisado:\n",
    "\n",
    "1. Algoritmos de clusterización\n",
    "\n",
    "2. Algoritmos para reducir la dimensionalidad\n"
   ],
   "cell_type": "markdown",
   "metadata": {}
  },
  {
   "source": [
    "1.1 Kmeans: \n",
    "Recibe un 'k' y busca k clusters en los datos. \n",
    "Desventaja: Aletoriedad a la hora de encontrar esos clusters. Tenemos que comprobar la inercia y el coeficiente de siluette para encontar el mejor 'k'.\n",
    "Ventaja: Busca los clusters que especifiques.\n",
    "\n",
    "1.2 DBSCAN:\n",
    "Algoritmo que busca clusters a partir de la densidad de las instancias teniendo en cuenta un épsilon y un 'min_samples'.\n",
    "Desventaja: Problema si las variables tienen diferentes magnitudes. Solución: Estandarizar/Normalizar.\n",
    "Ventaja: No tiene tan en cuenta la aleatoriedad porque se basa en dos parámetros.\n"
   ],
   "cell_type": "markdown",
   "metadata": {}
  },
  {
   "cell_type": "code",
   "execution_count": null,
   "metadata": {},
   "outputs": [],
   "source": [
    "# Para kmeans nunca habrá anomalías, los clasificará en otro cluster. DBSCAN si que enseña anomalías. Hay que tener cuidado con eso, a lo mejor DBSCAN los clasifica como anomalías y en realidad no lo son, en ese caso kmeans sería más adecuado."
   ]
  },
  {
   "cell_type": "code",
   "execution_count": null,
   "metadata": {},
   "outputs": [],
   "source": []
  },
  {
   "source": [
    "2.1 PCA (Principal Component Analysis): Necesita el número de dimensiones al que quiere que disminuya el conjunto de datos original. \n",
    "Desventaja: Cada vez que bajes una dimensión pierdes información con respecto a la dimensión superior. \n",
    "Ventaja: Disminuyes la complejidad de los datos. Si bajas a la dimensión 2 o 3 puedes visualizar los datos y podrás encontrar visualmente grupos entre ellos. Permite la entrada de un valor relativo [0, 1] que representa el mínimo porcentaje de información que va a mantener antes de bajar una dimensión. \n",
    "\n",
    "2.2 TSNE: Necesita el número de dimensiones al que quiere que disminuya el conjunto de datos original. \n",
    "Desventaja: Cada vez que bajes una dimensión pierdes información con respecto a la dimensión superior. \n",
    "Ventaja: Disminuyes la complejidad de los datos. Si bajas a la dimensión 2 o 3 puedes visualizar los datos y podrás encontrar visualmente grupos entre ellos."
   ],
   "cell_type": "markdown",
   "metadata": {}
  },
  {
   "cell_type": "code",
   "execution_count": null,
   "metadata": {},
   "outputs": [],
   "source": []
  }
 ]
}