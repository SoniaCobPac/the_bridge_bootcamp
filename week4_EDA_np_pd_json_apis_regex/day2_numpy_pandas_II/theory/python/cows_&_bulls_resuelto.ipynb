{
 "metadata": {
  "language_info": {
   "codemirror_mode": {
    "name": "ipython",
    "version": 3
   },
   "file_extension": ".py",
   "mimetype": "text/x-python",
   "name": "python",
   "nbconvert_exporter": "python",
   "pygments_lexer": "ipython3",
   "version": "3.7.4"
  },
  "orig_nbformat": 2,
  "kernelspec": {
   "name": "python374jvsc74a57bd02d8a740277f67c33143a8e5c8e55f738530a350d8def4a85d8635b690074994c",
   "display_name": "Python 3.7.4 64-bit"
  },
  "metadata": {
   "interpreter": {
    "hash": "2d8a740277f67c33143a8e5c8e55f738530a350d8def4a85d8635b690074994c"
   }
  }
 },
 "nbformat": 4,
 "nbformat_minor": 2,
 "cells": [
  {
   "cell_type": "code",
   "execution_count": 6,
   "metadata": {},
   "outputs": [
    {
     "output_type": "stream",
     "name": "stdout",
     "text": [
      "Enter a number\n",
      "0 cows, 0 bulls.\n",
      "Enter a number\n",
      "0 cows, 0 bulls.\n",
      "Enter a number\n",
      "0 cows, 0 bulls.\n"
     ]
    }
   ],
   "source": [
    "import random \n",
    "\n",
    "# Un número es generado de manera aleatoria\n",
    "generated_num = str(random.randint(1000,9999))\n",
    "\n",
    "acum_cows = 0\n",
    "guess_str =\"\"\n",
    "while acum_cows < 4 and guess_str != \"STOP\":\n",
    "    # los acumuladores se inicializan con cada iteración\n",
    "    acum_cows = 0\n",
    "    acum_bulls = 0\n",
    "\n",
    "    guess_str = input(\"Please enter a number between 1000 and 9999 (STOP to stop): \")\n",
    "    print(f\"Your number {guess_str}\")\n",
    "    # variable auxiliar para poder modificar los dígitos si se encuentran vacas\n",
    "    generated_num_cowed = list(generated_num) \n",
    "\n",
    "    # En el primer recorrido del bucle, se obtienen los números que coinciden y se sustituyen los dígitos por una 'c' para no ser contabilizados en la búsqueda de toros\n",
    "    for i, item in enumerate (generated_num):\n",
    "        if item == guess_str[i]:\n",
    "            acum_cows += 1\n",
    "            generated_num_cowed[i] = \"c\"\n",
    "\n",
    "    # En el segundo recorrido, se obtien los números que están pero no coinciden\n",
    "    for i in range(len(generated_num_cowed)):\n",
    "        for j in range(len(guess_str)):\n",
    "                if guess_str[i] == generated_num_cowed[j]:\n",
    "                    acum_bulls += 1\n",
    "   \n",
    "\n",
    "    print(f\"{acum_cows} cows, {acum_bulls} bulls.\")"
   ]
  },
  {
   "cell_type": "code",
   "execution_count": null,
   "metadata": {},
   "outputs": [],
   "source": []
  },
  {
   "cell_type": "code",
   "execution_count": null,
   "metadata": {},
   "outputs": [],
   "source": []
  }
 ]
}