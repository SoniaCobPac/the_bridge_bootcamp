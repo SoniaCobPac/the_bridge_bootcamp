{
 "cells": [
  {
   "cell_type": "markdown",
   "metadata": {},
   "source": [
    "Inheritance in python"
   ]
  },
  {
   "cell_type": "code",
   "execution_count": 1,
   "metadata": {},
   "outputs": [],
   "source": [
    "class LivingBeing():\n",
    "    \"\"\"Father/Mother class\"\"\"\n",
    "    def __init__(self, kingdom, born_date, procreate_ability=True):\n",
    "        self.is_living = True   # Este atributo no se podrá cambiar, siempre será True\n",
    "        self.kingdom = kingdom\n",
    "        self.procreate_ability = procreate_ability\n",
    "        self.born_date = born_date\n",
    "        self.death_date = None\n",
    "        self.days_lived = 0\n",
    "\n",
    "    def living_being_function(self):\n",
    "        print(\"I am a living being!\")\n",
    "\n",
    "    def die(self, death_date):\n",
    "        print(\"Murió\")\n",
    "        self.is_living = False\n",
    "        self.death_date = death_date\n"
   ]
  },
  {
   "cell_type": "code",
   "execution_count": 2,
   "metadata": {},
   "outputs": [],
   "source": [
    "def new_day(a_class):\n",
    "    a_class.days_lived += 1"
   ]
  },
  {
   "cell_type": "code",
   "execution_count": 3,
   "metadata": {
    "tags": []
   },
   "outputs": [
    {
     "output_type": "stream",
     "name": "stdout",
     "text": [
      "celula.days_lived: 0\ncelula.days_lived: 1\n"
     ]
    }
   ],
   "source": [
    "celula = LivingBeing(kingdom=\"Animal\", born_date=\"18/06/2019\")      # celula es una instancia de la clase LivingBeing\n",
    "print(\"celula.days_lived:\", celula.days_lived)\n",
    "new_day(a_class=celula)\n",
    "print(\"celula.days_lived:\", celula.days_lived)"
   ]
  },
  {
   "cell_type": "code",
   "execution_count": 4,
   "metadata": {},
   "outputs": [
    {
     "output_type": "stream",
     "name": "stdout",
     "text": [
      "celula.is_living: True\nMurió\ncelula.is_living: False\ncelula.death_date: 05.05.21\n"
     ]
    }
   ],
   "source": [
    "print(\"celula.is_living:\",celula.is_living)\n",
    "celula.die(\"05.05.21\")\n",
    "print(\"celula.is_living:\",celula.is_living)\n",
    "print(\"celula.death_date:\",celula.death_date)"
   ]
  },
  {
   "cell_type": "code",
   "execution_count": 5,
   "metadata": {},
   "outputs": [
    {
     "output_type": "stream",
     "name": "stdout",
     "text": [
      "humano.is_living: True\nhumano.death_date: None\nMurió\nhumano.is_living: False\nhumano.death_date: 05.05.21\n"
     ]
    }
   ],
   "source": [
    "humano = LivingBeing(kingdom=\"Animal\", born_date=\"21/06/2019\")\n",
    "print(\"humano.is_living:\", humano.is_living)\n",
    "print(\"humano.death_date:\",humano.death_date)\n",
    "humano.die(\"05.05.21\")\n",
    "print(\"humano.is_living:\", humano.is_living)\n",
    "print(\"humano.death_date:\",humano.death_date)"
   ]
  },
  {
   "cell_type": "code",
   "execution_count": null,
   "metadata": {},
   "outputs": [],
   "source": []
  },
  {
   "cell_type": "code",
   "execution_count": 6,
   "metadata": {},
   "outputs": [],
   "source": [
    "# La clase Human está heredando atributos de LivingBeing:\n",
    "class Human(LivingBeing):\n",
    "    \"\"\"Children class\"\"\"\n",
    "    def __init__(self, born_date, procreate_ability=True, eyes=2, legs=2, intelligence_ability=True): # Tengo que llamar a todos los argumentos de LivingBeing que fueron definidos y no especificados (ej:born_date) Kingdom no estaba definido antes pero cuando hago la herencia (abajo) a livingbeing ajusto kingdom a 'animal'\n",
    "\n",
    "        #Herencia:\n",
    "        LivingBeing.__init__(self, kingdom=\"Animal\", procreate_ability=procreate_ability, born_date=born_date)\n",
    "        # Hay atributos que pertenecen a LivingBeing que no se pueden modificar para la clase Human, como por ejemplo Kingdom\n",
    "        # Los siguientes atributos están dentro del ser Human pero no de LivingBeing,:\n",
    "        self.eyes = eyes\n",
    "        self.legs = legs\n",
    "        self.intelligence_ability = intelligence_ability\n",
    "    "
   ]
  },
  {
   "cell_type": "code",
   "execution_count": 7,
   "metadata": {},
   "outputs": [],
   "source": [
    "# La clase Human tiene acceso a sus atributos y a los atributos de LivingBeing. Pero LivingBeing no puede acceder a los atributos Human"
   ]
  },
  {
   "source": [
    "humano = Human(born_date=\"13/05/1991\")\n",
    "\n",
    "print(\"humano.is_living:\", humano.is_living) # Human no tiene el atributo is_living pero es heredada de LivingBeing\n",
    "print(\"\\nCalling to living_being_function():\\n\")\n",
    "humano.living_being_function()"
   ],
   "cell_type": "code",
   "metadata": {
    "tags": []
   },
   "execution_count": 8,
   "outputs": [
    {
     "output_type": "stream",
     "name": "stdout",
     "text": [
      "humano.is_living: True\n\nCalling to living_being_function():\n\nI am a living being!\n"
     ]
    }
   ]
  },
  {
   "cell_type": "code",
   "execution_count": 9,
   "metadata": {},
   "outputs": [
    {
     "output_type": "stream",
     "name": "stdout",
     "text": [
      "humano.is_living: True\nFalse\n"
     ]
    },
    {
     "output_type": "execute_result",
     "data": {
      "text/plain": [
       "True"
      ]
     },
     "metadata": {},
     "execution_count": 9
    }
   ],
   "source": [
    "humano_esteril = Human(born_date=\"13/05/1991\", procreate_ability=False)\n",
    "\n",
    "print(\"humano.is_living:\", humano_esteril.is_living)\n",
    "\n",
    "print(humano_esteril.procreate_ability) #El argumento procreate_ability se refiere al argumento inicial en LivingBeing\n",
    "\n",
    "humano.procreate_ability"
   ]
  },
  {
   "cell_type": "code",
   "execution_count": 14,
   "metadata": {},
   "outputs": [
    {
     "output_type": "stream",
     "name": "stdout",
     "text": [
      "True\nMurió\nFalse\n"
     ]
    }
   ],
   "source": [
    "print(humano.is_living)\n",
    "humano.die(\"05.05.21\")\n",
    "print(humano.is_living)"
   ]
  },
  {
   "cell_type": "code",
   "execution_count": 10,
   "metadata": {},
   "outputs": [
    {
     "output_type": "stream",
     "name": "stdout",
     "text": [
      "0\n1\n"
     ]
    }
   ],
   "source": [
    "print(humano.days_lived)\n",
    "new_day(a_class = humano)\n",
    "print(humano.days_lived)"
   ]
  },
  {
   "cell_type": "code",
   "execution_count": 38,
   "metadata": {
    "tags": []
   },
   "outputs": [],
   "source": [
    "class Perro(LivingBeing):\n",
    "    def __init__(self, raza, c, born_d, patas=4, ojos=2, cola=True, agre=False):\n",
    "\n",
    "        LivingBeing.__init__(self, kingdom=\"Animal\", born_date=born_d)\n",
    "        \n",
    "        self.cola = cola\n",
    "        self.raza = raza\n",
    "        self.ojos = ojos\n",
    "        self.patas = patas\n",
    "        self.color = c\n",
    "        self.agresivo = agre\n"
   ]
  },
  {
   "cell_type": "code",
   "execution_count": 40,
   "metadata": {},
   "outputs": [
    {
     "output_type": "stream",
     "name": "stdout",
     "text": [
      "Marrón y Blanco\n2\n05/05/2020\nTrue\n"
     ]
    }
   ],
   "source": [
    "doby = Perro(raza=\"San Bernardo\", c=\"Marrón y Blanco\", born_d=\"05/05/2020\", agre=True) \n",
    "\n",
    "print(doby.color)\n",
    "print(doby.ojos)\n",
    "print(doby.born_date) # no puedo llamarlo born_d\n",
    "print(doby.agresivo)    # Tengo que llamar 'agresivo' porque asi es el nombre en el constructor, pero para cambiar el valor en los                              parámetros tengo que usar el nombre del parametro 'agre'"
   ]
  },
  {
   "cell_type": "code",
   "execution_count": null,
   "metadata": {},
   "outputs": [],
   "source": [
    "https://www.uml-diagrams.org/examples/online-shopping-domain-uml-diagram-example.html"
   ]
  }
 ],
 "metadata": {
  "language_info": {
   "name": "python",
   "codemirror_mode": {
    "name": "ipython",
    "version": 3
   },
   "version": "3.7.4"
  },
  "orig_nbformat": 2,
  "file_extension": ".py",
  "mimetype": "text/x-python",
  "name": "python",
  "npconvert_exporter": "python",
  "pygments_lexer": "ipython3",
  "version": 3,
  "kernelspec": {
   "name": "python374jvsc74a57bd02d8a740277f67c33143a8e5c8e55f738530a350d8def4a85d8635b690074994c",
   "display_name": "Python 3.7.4 64-bit"
  },
  "metadata": {
   "interpreter": {
    "hash": "2d8a740277f67c33143a8e5c8e55f738530a350d8def4a85d8635b690074994c"
   }
  }
 },
 "nbformat": 4,
 "nbformat_minor": 2
}