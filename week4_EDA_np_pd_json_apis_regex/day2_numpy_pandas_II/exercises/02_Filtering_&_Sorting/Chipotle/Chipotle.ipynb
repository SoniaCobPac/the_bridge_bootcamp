{
 "cells": [
  {
   "cell_type": "markdown",
   "metadata": {},
   "source": [
    "# 02 - Filtering and Sorting Data"
   ]
  },
  {
   "cell_type": "markdown",
   "metadata": {},
   "source": [
    "\n",
    "\n",
    "### Step 1. Import the necessary libraries"
   ]
  },
  {
   "cell_type": "code",
   "execution_count": 1,
   "metadata": {},
   "outputs": [],
   "source": [
    "import numpy as np \n",
    "import pandas as pd "
   ]
  },
  {
   "cell_type": "markdown",
   "metadata": {},
   "source": [
    "### Step 2. Import the dataset from this [address](https://raw.githubusercontent.com/justmarkham/DAT8/master/data/chipotle.tsv). Assign it to a variable called chipo.\n",
    "\n",
    "This time we are going to pull data directly from the internet."
   ]
  },
  {
   "cell_type": "code",
   "execution_count": 2,
   "metadata": {},
   "outputs": [
    {
     "output_type": "execute_result",
     "data": {
      "text/plain": [
       "      order_id  quantity                              item_name  \\\n",
       "0            1         1           Chips and Fresh Tomato Salsa   \n",
       "1            1         1                                   Izze   \n",
       "2            1         1                       Nantucket Nectar   \n",
       "3            1         1  Chips and Tomatillo-Green Chili Salsa   \n",
       "4            2         2                           Chicken Bowl   \n",
       "...        ...       ...                                    ...   \n",
       "4617      1833         1                          Steak Burrito   \n",
       "4618      1833         1                          Steak Burrito   \n",
       "4619      1834         1                     Chicken Salad Bowl   \n",
       "4620      1834         1                     Chicken Salad Bowl   \n",
       "4621      1834         1                     Chicken Salad Bowl   \n",
       "\n",
       "                                     choice_description item_price  \n",
       "0                                                   NaN     $2.39   \n",
       "1                                          [Clementine]     $3.39   \n",
       "2                                               [Apple]     $3.39   \n",
       "3                                                   NaN     $2.39   \n",
       "4     [Tomatillo-Red Chili Salsa (Hot), [Black Beans...    $16.98   \n",
       "...                                                 ...        ...  \n",
       "4617  [Fresh Tomato Salsa, [Rice, Black Beans, Sour ...    $11.75   \n",
       "4618  [Fresh Tomato Salsa, [Rice, Sour Cream, Cheese...    $11.75   \n",
       "4619  [Fresh Tomato Salsa, [Fajita Vegetables, Pinto...    $11.25   \n",
       "4620  [Fresh Tomato Salsa, [Fajita Vegetables, Lettu...     $8.75   \n",
       "4621  [Fresh Tomato Salsa, [Fajita Vegetables, Pinto...     $8.75   \n",
       "\n",
       "[4622 rows x 5 columns]"
      ],
      "text/html": "<div>\n<style scoped>\n    .dataframe tbody tr th:only-of-type {\n        vertical-align: middle;\n    }\n\n    .dataframe tbody tr th {\n        vertical-align: top;\n    }\n\n    .dataframe thead th {\n        text-align: right;\n    }\n</style>\n<table border=\"1\" class=\"dataframe\">\n  <thead>\n    <tr style=\"text-align: right;\">\n      <th></th>\n      <th>order_id</th>\n      <th>quantity</th>\n      <th>item_name</th>\n      <th>choice_description</th>\n      <th>item_price</th>\n    </tr>\n  </thead>\n  <tbody>\n    <tr>\n      <th>0</th>\n      <td>1</td>\n      <td>1</td>\n      <td>Chips and Fresh Tomato Salsa</td>\n      <td>NaN</td>\n      <td>$2.39</td>\n    </tr>\n    <tr>\n      <th>1</th>\n      <td>1</td>\n      <td>1</td>\n      <td>Izze</td>\n      <td>[Clementine]</td>\n      <td>$3.39</td>\n    </tr>\n    <tr>\n      <th>2</th>\n      <td>1</td>\n      <td>1</td>\n      <td>Nantucket Nectar</td>\n      <td>[Apple]</td>\n      <td>$3.39</td>\n    </tr>\n    <tr>\n      <th>3</th>\n      <td>1</td>\n      <td>1</td>\n      <td>Chips and Tomatillo-Green Chili Salsa</td>\n      <td>NaN</td>\n      <td>$2.39</td>\n    </tr>\n    <tr>\n      <th>4</th>\n      <td>2</td>\n      <td>2</td>\n      <td>Chicken Bowl</td>\n      <td>[Tomatillo-Red Chili Salsa (Hot), [Black Beans...</td>\n      <td>$16.98</td>\n    </tr>\n    <tr>\n      <th>...</th>\n      <td>...</td>\n      <td>...</td>\n      <td>...</td>\n      <td>...</td>\n      <td>...</td>\n    </tr>\n    <tr>\n      <th>4617</th>\n      <td>1833</td>\n      <td>1</td>\n      <td>Steak Burrito</td>\n      <td>[Fresh Tomato Salsa, [Rice, Black Beans, Sour ...</td>\n      <td>$11.75</td>\n    </tr>\n    <tr>\n      <th>4618</th>\n      <td>1833</td>\n      <td>1</td>\n      <td>Steak Burrito</td>\n      <td>[Fresh Tomato Salsa, [Rice, Sour Cream, Cheese...</td>\n      <td>$11.75</td>\n    </tr>\n    <tr>\n      <th>4619</th>\n      <td>1834</td>\n      <td>1</td>\n      <td>Chicken Salad Bowl</td>\n      <td>[Fresh Tomato Salsa, [Fajita Vegetables, Pinto...</td>\n      <td>$11.25</td>\n    </tr>\n    <tr>\n      <th>4620</th>\n      <td>1834</td>\n      <td>1</td>\n      <td>Chicken Salad Bowl</td>\n      <td>[Fresh Tomato Salsa, [Fajita Vegetables, Lettu...</td>\n      <td>$8.75</td>\n    </tr>\n    <tr>\n      <th>4621</th>\n      <td>1834</td>\n      <td>1</td>\n      <td>Chicken Salad Bowl</td>\n      <td>[Fresh Tomato Salsa, [Fajita Vegetables, Pinto...</td>\n      <td>$8.75</td>\n    </tr>\n  </tbody>\n</table>\n<p>4622 rows × 5 columns</p>\n</div>"
     },
     "metadata": {},
     "execution_count": 2
    }
   ],
   "source": [
    "address = \"https://raw.githubusercontent.com/justmarkham/DAT8/master/data/chipotle.tsv\"\n",
    "chipo = pd.read_csv(address, sep=\"\\t\")\n",
    "chipo"
   ]
  },
  {
   "cell_type": "markdown",
   "metadata": {},
   "source": [
    "### Step 3. Name of the most expensive products (item_name)\n",
    "\n",
    "¿Recuerdas el `map`? En **pandas** tienes el método [`apply`](https://pandas.pydata.org/pandas-docs/stable/reference/api/pandas.DataFrame.apply.html) y en para resolver este ejercicio te puede ser muy útil. \n",
    "\n",
    "Pero no acaba ahí https://stackoverflow.com/questions/19798153/difference-between-map-applymap-and-apply-methods-in-pandas"
   ]
  },
  {
   "cell_type": "code",
   "execution_count": 3,
   "metadata": {},
   "outputs": [
    {
     "output_type": "stream",
     "name": "stderr",
     "text": [
      "ipykernel_launcher:1: FutureWarning: The default value of regex will change from True to False in a future version. In addition, single character regular expressions will*not* be treated as literal strings when regex=True.\n"
     ]
    },
    {
     "output_type": "execute_result",
     "data": {
      "text/plain": [
       "'Chips and Fresh Tomato Salsa'"
      ]
     },
     "metadata": {},
     "execution_count": 3
    }
   ],
   "source": [
    "chipo[\"item_price\"] = chipo[\"item_price\"].str.replace(\"$\",\" \")\n",
    "chipo[\"item_price\"] = sorted(chipo[\"item_price\"].apply(lambda x: float(x)), reverse=True)\n",
    "\n",
    "chipo[\"item_name\"].iloc[0]"
   ]
  },
  {
   "cell_type": "markdown",
   "metadata": {},
   "source": [
    "### Step 4. How many products cost more than $10.00?"
   ]
  },
  {
   "cell_type": "code",
   "execution_count": 12,
   "metadata": {},
   "outputs": [
    {
     "output_type": "execute_result",
     "data": {
      "text/plain": [
       "1070"
      ]
     },
     "metadata": {},
     "execution_count": 12
    }
   ],
   "source": [
    "chipo[\"price_ud\"] = chipo[\"item_price\"] / chipo['quantity']\n",
    "chipo[chipo.price_ud > 10].shape[0]"
   ]
  },
  {
   "cell_type": "markdown",
   "metadata": {},
   "source": [
    "### Step 5. What is the price of each item? \n",
    "###### print a data frame with only two columns item_name and item_price"
   ]
  },
  {
   "cell_type": "code",
   "execution_count": 6,
   "metadata": {},
   "outputs": [
    {
     "output_type": "execute_result",
     "data": {
      "text/plain": [
       "                                  item_name  item_price\n",
       "0              Chips and Fresh Tomato Salsa       44.25\n",
       "1                                      Izze       35.25\n",
       "2                          Nantucket Nectar       35.00\n",
       "3     Chips and Tomatillo-Green Chili Salsa       35.00\n",
       "4                              Chicken Bowl       33.75\n",
       "6                             Side of Chips       27.75\n",
       "7                             Steak Burrito       27.75\n",
       "8                          Steak Soft Tacos       26.25\n",
       "10                      Chips and Guacamole       26.25\n",
       "11                     Chicken Crispy Tacos       26.07\n",
       "12                       Chicken Soft Tacos       23.78\n",
       "16                          Chicken Burrito       23.50\n",
       "18                              Canned Soda       23.50\n",
       "21                         Barbacoa Burrito       22.50\n",
       "27                         Carnitas Burrito       22.50\n",
       "33                            Carnitas Bowl       22.50\n",
       "34                            Bottled Water       22.20\n",
       "38    Chips and Tomatillo Green Chili Salsa       21.96\n",
       "39                            Barbacoa Bowl       21.96\n",
       "40                                    Chips       21.96\n",
       "44                       Chicken Salad Bowl       21.96\n",
       "54                               Steak Bowl       18.50\n",
       "56                      Barbacoa Soft Tacos       18.50\n",
       "57                           Veggie Burrito       18.50\n",
       "62                              Veggie Bowl       17.98\n",
       "92                       Steak Crispy Tacos       17.50\n",
       "111     Chips and Tomatillo Red Chili Salsa       16.98\n",
       "168                   Barbacoa Crispy Tacos       11.75\n",
       "186                       Veggie Salad Bowl       11.75\n",
       "191      Chips and Roasted Chili-Corn Salsa       11.75\n",
       "233      Chips and Roasted Chili Corn Salsa       11.75\n",
       "237                     Carnitas Soft Tacos       11.75\n",
       "250                           Chicken Salad       11.75\n",
       "263                       Canned Soft Drink       11.75\n",
       "281                        Steak Salad Bowl       11.75\n",
       "298                       6 Pack Soft Drink       11.75\n",
       "300     Chips and Tomatillo-Red Chili Salsa       11.75\n",
       "445                                    Bowl       11.48\n",
       "510                                 Burrito       11.25\n",
       "520                            Crispy Tacos       11.25\n",
       "554                   Carnitas Crispy Tacos       11.25\n",
       "664                             Steak Salad       11.25\n",
       "674       Chips and Mild Fresh Tomato Salsa       11.25\n",
       "738                       Veggie Soft Tacos       11.25\n",
       "1132                    Carnitas Salad Bowl        9.39\n",
       "1229                    Barbacoa Salad Bowl        9.25\n",
       "1414                                  Salad        9.25\n",
       "1653                    Veggie Crispy Tacos        8.99\n",
       "1694                           Veggie Salad        8.99\n",
       "3750                         Carnitas Salad        2.39"
      ],
      "text/html": "<div>\n<style scoped>\n    .dataframe tbody tr th:only-of-type {\n        vertical-align: middle;\n    }\n\n    .dataframe tbody tr th {\n        vertical-align: top;\n    }\n\n    .dataframe thead th {\n        text-align: right;\n    }\n</style>\n<table border=\"1\" class=\"dataframe\">\n  <thead>\n    <tr style=\"text-align: right;\">\n      <th></th>\n      <th>item_name</th>\n      <th>item_price</th>\n    </tr>\n  </thead>\n  <tbody>\n    <tr>\n      <th>0</th>\n      <td>Chips and Fresh Tomato Salsa</td>\n      <td>44.25</td>\n    </tr>\n    <tr>\n      <th>1</th>\n      <td>Izze</td>\n      <td>35.25</td>\n    </tr>\n    <tr>\n      <th>2</th>\n      <td>Nantucket Nectar</td>\n      <td>35.00</td>\n    </tr>\n    <tr>\n      <th>3</th>\n      <td>Chips and Tomatillo-Green Chili Salsa</td>\n      <td>35.00</td>\n    </tr>\n    <tr>\n      <th>4</th>\n      <td>Chicken Bowl</td>\n      <td>33.75</td>\n    </tr>\n    <tr>\n      <th>6</th>\n      <td>Side of Chips</td>\n      <td>27.75</td>\n    </tr>\n    <tr>\n      <th>7</th>\n      <td>Steak Burrito</td>\n      <td>27.75</td>\n    </tr>\n    <tr>\n      <th>8</th>\n      <td>Steak Soft Tacos</td>\n      <td>26.25</td>\n    </tr>\n    <tr>\n      <th>10</th>\n      <td>Chips and Guacamole</td>\n      <td>26.25</td>\n    </tr>\n    <tr>\n      <th>11</th>\n      <td>Chicken Crispy Tacos</td>\n      <td>26.07</td>\n    </tr>\n    <tr>\n      <th>12</th>\n      <td>Chicken Soft Tacos</td>\n      <td>23.78</td>\n    </tr>\n    <tr>\n      <th>16</th>\n      <td>Chicken Burrito</td>\n      <td>23.50</td>\n    </tr>\n    <tr>\n      <th>18</th>\n      <td>Canned Soda</td>\n      <td>23.50</td>\n    </tr>\n    <tr>\n      <th>21</th>\n      <td>Barbacoa Burrito</td>\n      <td>22.50</td>\n    </tr>\n    <tr>\n      <th>27</th>\n      <td>Carnitas Burrito</td>\n      <td>22.50</td>\n    </tr>\n    <tr>\n      <th>33</th>\n      <td>Carnitas Bowl</td>\n      <td>22.50</td>\n    </tr>\n    <tr>\n      <th>34</th>\n      <td>Bottled Water</td>\n      <td>22.20</td>\n    </tr>\n    <tr>\n      <th>38</th>\n      <td>Chips and Tomatillo Green Chili Salsa</td>\n      <td>21.96</td>\n    </tr>\n    <tr>\n      <th>39</th>\n      <td>Barbacoa Bowl</td>\n      <td>21.96</td>\n    </tr>\n    <tr>\n      <th>40</th>\n      <td>Chips</td>\n      <td>21.96</td>\n    </tr>\n    <tr>\n      <th>44</th>\n      <td>Chicken Salad Bowl</td>\n      <td>21.96</td>\n    </tr>\n    <tr>\n      <th>54</th>\n      <td>Steak Bowl</td>\n      <td>18.50</td>\n    </tr>\n    <tr>\n      <th>56</th>\n      <td>Barbacoa Soft Tacos</td>\n      <td>18.50</td>\n    </tr>\n    <tr>\n      <th>57</th>\n      <td>Veggie Burrito</td>\n      <td>18.50</td>\n    </tr>\n    <tr>\n      <th>62</th>\n      <td>Veggie Bowl</td>\n      <td>17.98</td>\n    </tr>\n    <tr>\n      <th>92</th>\n      <td>Steak Crispy Tacos</td>\n      <td>17.50</td>\n    </tr>\n    <tr>\n      <th>111</th>\n      <td>Chips and Tomatillo Red Chili Salsa</td>\n      <td>16.98</td>\n    </tr>\n    <tr>\n      <th>168</th>\n      <td>Barbacoa Crispy Tacos</td>\n      <td>11.75</td>\n    </tr>\n    <tr>\n      <th>186</th>\n      <td>Veggie Salad Bowl</td>\n      <td>11.75</td>\n    </tr>\n    <tr>\n      <th>191</th>\n      <td>Chips and Roasted Chili-Corn Salsa</td>\n      <td>11.75</td>\n    </tr>\n    <tr>\n      <th>233</th>\n      <td>Chips and Roasted Chili Corn Salsa</td>\n      <td>11.75</td>\n    </tr>\n    <tr>\n      <th>237</th>\n      <td>Carnitas Soft Tacos</td>\n      <td>11.75</td>\n    </tr>\n    <tr>\n      <th>250</th>\n      <td>Chicken Salad</td>\n      <td>11.75</td>\n    </tr>\n    <tr>\n      <th>263</th>\n      <td>Canned Soft Drink</td>\n      <td>11.75</td>\n    </tr>\n    <tr>\n      <th>281</th>\n      <td>Steak Salad Bowl</td>\n      <td>11.75</td>\n    </tr>\n    <tr>\n      <th>298</th>\n      <td>6 Pack Soft Drink</td>\n      <td>11.75</td>\n    </tr>\n    <tr>\n      <th>300</th>\n      <td>Chips and Tomatillo-Red Chili Salsa</td>\n      <td>11.75</td>\n    </tr>\n    <tr>\n      <th>445</th>\n      <td>Bowl</td>\n      <td>11.48</td>\n    </tr>\n    <tr>\n      <th>510</th>\n      <td>Burrito</td>\n      <td>11.25</td>\n    </tr>\n    <tr>\n      <th>520</th>\n      <td>Crispy Tacos</td>\n      <td>11.25</td>\n    </tr>\n    <tr>\n      <th>554</th>\n      <td>Carnitas Crispy Tacos</td>\n      <td>11.25</td>\n    </tr>\n    <tr>\n      <th>664</th>\n      <td>Steak Salad</td>\n      <td>11.25</td>\n    </tr>\n    <tr>\n      <th>674</th>\n      <td>Chips and Mild Fresh Tomato Salsa</td>\n      <td>11.25</td>\n    </tr>\n    <tr>\n      <th>738</th>\n      <td>Veggie Soft Tacos</td>\n      <td>11.25</td>\n    </tr>\n    <tr>\n      <th>1132</th>\n      <td>Carnitas Salad Bowl</td>\n      <td>9.39</td>\n    </tr>\n    <tr>\n      <th>1229</th>\n      <td>Barbacoa Salad Bowl</td>\n      <td>9.25</td>\n    </tr>\n    <tr>\n      <th>1414</th>\n      <td>Salad</td>\n      <td>9.25</td>\n    </tr>\n    <tr>\n      <th>1653</th>\n      <td>Veggie Crispy Tacos</td>\n      <td>8.99</td>\n    </tr>\n    <tr>\n      <th>1694</th>\n      <td>Veggie Salad</td>\n      <td>8.99</td>\n    </tr>\n    <tr>\n      <th>3750</th>\n      <td>Carnitas Salad</td>\n      <td>2.39</td>\n    </tr>\n  </tbody>\n</table>\n</div>"
     },
     "metadata": {},
     "execution_count": 6
    }
   ],
   "source": [
    "# con loc\n",
    "chipo.loc[:,[\"item_name\", \"item_price\"]].drop_duplicates(\"item_name\")"
   ]
  },
  {
   "cell_type": "code",
   "execution_count": 5,
   "metadata": {},
   "outputs": [
    {
     "output_type": "execute_result",
     "data": {
      "text/plain": [
       "                                  item_name  item_price\n",
       "0              Chips and Fresh Tomato Salsa       44.25\n",
       "1                                      Izze       35.25\n",
       "2                          Nantucket Nectar       35.00\n",
       "3     Chips and Tomatillo-Green Chili Salsa       35.00\n",
       "4                              Chicken Bowl       33.75\n",
       "...                                     ...         ...\n",
       "4617                          Steak Burrito        1.09\n",
       "4618                          Steak Burrito        1.09\n",
       "4619                     Chicken Salad Bowl        1.09\n",
       "4620                     Chicken Salad Bowl        1.09\n",
       "4621                     Chicken Salad Bowl        1.09\n",
       "\n",
       "[4622 rows x 2 columns]"
      ],
      "text/html": "<div>\n<style scoped>\n    .dataframe tbody tr th:only-of-type {\n        vertical-align: middle;\n    }\n\n    .dataframe tbody tr th {\n        vertical-align: top;\n    }\n\n    .dataframe thead th {\n        text-align: right;\n    }\n</style>\n<table border=\"1\" class=\"dataframe\">\n  <thead>\n    <tr style=\"text-align: right;\">\n      <th></th>\n      <th>item_name</th>\n      <th>item_price</th>\n    </tr>\n  </thead>\n  <tbody>\n    <tr>\n      <th>0</th>\n      <td>Chips and Fresh Tomato Salsa</td>\n      <td>44.25</td>\n    </tr>\n    <tr>\n      <th>1</th>\n      <td>Izze</td>\n      <td>35.25</td>\n    </tr>\n    <tr>\n      <th>2</th>\n      <td>Nantucket Nectar</td>\n      <td>35.00</td>\n    </tr>\n    <tr>\n      <th>3</th>\n      <td>Chips and Tomatillo-Green Chili Salsa</td>\n      <td>35.00</td>\n    </tr>\n    <tr>\n      <th>4</th>\n      <td>Chicken Bowl</td>\n      <td>33.75</td>\n    </tr>\n    <tr>\n      <th>...</th>\n      <td>...</td>\n      <td>...</td>\n    </tr>\n    <tr>\n      <th>4617</th>\n      <td>Steak Burrito</td>\n      <td>1.09</td>\n    </tr>\n    <tr>\n      <th>4618</th>\n      <td>Steak Burrito</td>\n      <td>1.09</td>\n    </tr>\n    <tr>\n      <th>4619</th>\n      <td>Chicken Salad Bowl</td>\n      <td>1.09</td>\n    </tr>\n    <tr>\n      <th>4620</th>\n      <td>Chicken Salad Bowl</td>\n      <td>1.09</td>\n    </tr>\n    <tr>\n      <th>4621</th>\n      <td>Chicken Salad Bowl</td>\n      <td>1.09</td>\n    </tr>\n  </tbody>\n</table>\n<p>4622 rows × 2 columns</p>\n</div>"
     },
     "metadata": {},
     "execution_count": 5
    }
   ],
   "source": [
    "# con iloc\n",
    "chipo.iloc[:,2:5:2]"
   ]
  },
  {
   "cell_type": "markdown",
   "metadata": {},
   "source": [
    "### Step 6. Sort by the name of the item"
   ]
  },
  {
   "cell_type": "code",
   "execution_count": 6,
   "metadata": {},
   "outputs": [
    {
     "output_type": "execute_result",
     "data": {
      "text/plain": [
       "      order_id  quantity          item_name  \\\n",
       "3389      1360         2  6 Pack Soft Drink   \n",
       "341        148         1  6 Pack Soft Drink   \n",
       "1849       749         1  6 Pack Soft Drink   \n",
       "1860       754         1  6 Pack Soft Drink   \n",
       "2713      1076         1  6 Pack Soft Drink   \n",
       "...        ...       ...                ...   \n",
       "2384       948         1  Veggie Soft Tacos   \n",
       "781        322         1  Veggie Soft Tacos   \n",
       "2851      1132         1  Veggie Soft Tacos   \n",
       "1699       688         1  Veggie Soft Tacos   \n",
       "1395       567         1  Veggie Soft Tacos   \n",
       "\n",
       "                                     choice_description  item_price  \n",
       "3389                                        [Diet Coke]        3.99  \n",
       "341                                         [Diet Coke]       11.75  \n",
       "1849                                             [Coke]        8.75  \n",
       "1860                                        [Diet Coke]        8.75  \n",
       "2713                                             [Coke]        8.49  \n",
       "...                                                 ...         ...  \n",
       "2384  [Roasted Chili Corn Salsa, [Fajita Vegetables,...        8.75  \n",
       "781   [Fresh Tomato Salsa, [Black Beans, Cheese, Sou...       11.25  \n",
       "2851  [Roasted Chili Corn Salsa (Medium), [Black Bea...        8.49  \n",
       "1699  [Fresh Tomato Salsa, [Fajita Vegetables, Rice,...        8.99  \n",
       "1395  [Fresh Tomato Salsa (Mild), [Pinto Beans, Rice...        9.25  \n",
       "\n",
       "[4622 rows x 5 columns]"
      ],
      "text/html": "<div>\n<style scoped>\n    .dataframe tbody tr th:only-of-type {\n        vertical-align: middle;\n    }\n\n    .dataframe tbody tr th {\n        vertical-align: top;\n    }\n\n    .dataframe thead th {\n        text-align: right;\n    }\n</style>\n<table border=\"1\" class=\"dataframe\">\n  <thead>\n    <tr style=\"text-align: right;\">\n      <th></th>\n      <th>order_id</th>\n      <th>quantity</th>\n      <th>item_name</th>\n      <th>choice_description</th>\n      <th>item_price</th>\n    </tr>\n  </thead>\n  <tbody>\n    <tr>\n      <th>3389</th>\n      <td>1360</td>\n      <td>2</td>\n      <td>6 Pack Soft Drink</td>\n      <td>[Diet Coke]</td>\n      <td>3.99</td>\n    </tr>\n    <tr>\n      <th>341</th>\n      <td>148</td>\n      <td>1</td>\n      <td>6 Pack Soft Drink</td>\n      <td>[Diet Coke]</td>\n      <td>11.75</td>\n    </tr>\n    <tr>\n      <th>1849</th>\n      <td>749</td>\n      <td>1</td>\n      <td>6 Pack Soft Drink</td>\n      <td>[Coke]</td>\n      <td>8.75</td>\n    </tr>\n    <tr>\n      <th>1860</th>\n      <td>754</td>\n      <td>1</td>\n      <td>6 Pack Soft Drink</td>\n      <td>[Diet Coke]</td>\n      <td>8.75</td>\n    </tr>\n    <tr>\n      <th>2713</th>\n      <td>1076</td>\n      <td>1</td>\n      <td>6 Pack Soft Drink</td>\n      <td>[Coke]</td>\n      <td>8.49</td>\n    </tr>\n    <tr>\n      <th>...</th>\n      <td>...</td>\n      <td>...</td>\n      <td>...</td>\n      <td>...</td>\n      <td>...</td>\n    </tr>\n    <tr>\n      <th>2384</th>\n      <td>948</td>\n      <td>1</td>\n      <td>Veggie Soft Tacos</td>\n      <td>[Roasted Chili Corn Salsa, [Fajita Vegetables,...</td>\n      <td>8.75</td>\n    </tr>\n    <tr>\n      <th>781</th>\n      <td>322</td>\n      <td>1</td>\n      <td>Veggie Soft Tacos</td>\n      <td>[Fresh Tomato Salsa, [Black Beans, Cheese, Sou...</td>\n      <td>11.25</td>\n    </tr>\n    <tr>\n      <th>2851</th>\n      <td>1132</td>\n      <td>1</td>\n      <td>Veggie Soft Tacos</td>\n      <td>[Roasted Chili Corn Salsa (Medium), [Black Bea...</td>\n      <td>8.49</td>\n    </tr>\n    <tr>\n      <th>1699</th>\n      <td>688</td>\n      <td>1</td>\n      <td>Veggie Soft Tacos</td>\n      <td>[Fresh Tomato Salsa, [Fajita Vegetables, Rice,...</td>\n      <td>8.99</td>\n    </tr>\n    <tr>\n      <th>1395</th>\n      <td>567</td>\n      <td>1</td>\n      <td>Veggie Soft Tacos</td>\n      <td>[Fresh Tomato Salsa (Mild), [Pinto Beans, Rice...</td>\n      <td>9.25</td>\n    </tr>\n  </tbody>\n</table>\n<p>4622 rows × 5 columns</p>\n</div>"
     },
     "metadata": {},
     "execution_count": 6
    }
   ],
   "source": [
    "chipo.sort_values(\"item_name\")"
   ]
  },
  {
   "cell_type": "markdown",
   "metadata": {},
   "source": [
    "### Step 7. What was the quantity of the most expensive item ordered? 2 ways"
   ]
  },
  {
   "cell_type": "markdown",
   "metadata": {},
   "source": [
    "V1"
   ]
  },
  {
   "cell_type": "code",
   "execution_count": 7,
   "metadata": {},
   "outputs": [
    {
     "output_type": "execute_result",
     "data": {
      "text/plain": [
       "1"
      ]
     },
     "metadata": {},
     "execution_count": 7
    }
   ],
   "source": [
    "chipo[\"quantity\"][1]"
   ]
  },
  {
   "cell_type": "markdown",
   "metadata": {},
   "source": [
    "V2"
   ]
  },
  {
   "cell_type": "code",
   "execution_count": 8,
   "metadata": {},
   "outputs": [
    {
     "output_type": "execute_result",
     "data": {
      "text/plain": [
       "1"
      ]
     },
     "metadata": {},
     "execution_count": 8
    }
   ],
   "source": [
    "chipo.iloc[0][0]"
   ]
  },
  {
   "cell_type": "markdown",
   "metadata": {},
   "source": [
    "### Step 8. How many times was a Veggie Salad Bowl ordered?"
   ]
  },
  {
   "cell_type": "code",
   "execution_count": 9,
   "metadata": {},
   "outputs": [
    {
     "output_type": "execute_result",
     "data": {
      "text/plain": [
       "18"
      ]
     },
     "metadata": {},
     "execution_count": 9
    }
   ],
   "source": [
    "total = chipo.loc[chipo.item_name == \"Veggie Salad Bowl\"] \n",
    "sum(total[\"quantity\"])"
   ]
  },
  {
   "cell_type": "markdown",
   "metadata": {},
   "source": [
    "### Step 9. How many times did someone order more than one Canned Soda?"
   ]
  },
  {
   "cell_type": "code",
   "execution_count": 13,
   "metadata": {},
   "outputs": [
    {
     "output_type": "execute_result",
     "data": {
      "text/plain": [
       "20"
      ]
     },
     "metadata": {},
     "execution_count": 13
    }
   ],
   "source": [
    "chipo[(chipo.item_name == \"Canned Soda\") & (chipo.quantity > 1)].shape[0]"
   ]
  },
  {
   "cell_type": "code",
   "execution_count": null,
   "metadata": {},
   "outputs": [],
   "source": []
  }
 ],
 "metadata": {
  "anaconda-cloud": {},
  "kernelspec": {
   "name": "python374jvsc74a57bd02d8a740277f67c33143a8e5c8e55f738530a350d8def4a85d8635b690074994c",
   "display_name": "Python 3.7.4 64-bit"
  },
  "language_info": {
   "codemirror_mode": {
    "name": "ipython",
    "version": 3
   },
   "file_extension": ".py",
   "mimetype": "text/x-python",
   "name": "python",
   "nbconvert_exporter": "python",
   "pygments_lexer": "ipython3",
   "version": "3.7.4"
  },
  "metadata": {
   "interpreter": {
    "hash": "2d8a740277f67c33143a8e5c8e55f738530a350d8def4a85d8635b690074994c"
   }
  }
 },
 "nbformat": 4,
 "nbformat_minor": 4
}