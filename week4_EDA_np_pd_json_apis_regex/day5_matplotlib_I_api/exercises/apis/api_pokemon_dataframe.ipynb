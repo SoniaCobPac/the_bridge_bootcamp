{
 "metadata": {
  "language_info": {
   "codemirror_mode": {
    "name": "ipython",
    "version": 3
   },
   "file_extension": ".py",
   "mimetype": "text/x-python",
   "name": "python",
   "nbconvert_exporter": "python",
   "pygments_lexer": "ipython3",
   "version": "3.7.4"
  },
  "orig_nbformat": 2,
  "kernelspec": {
   "name": "python374jvsc74a57bd02d8a740277f67c33143a8e5c8e55f738530a350d8def4a85d8635b690074994c",
   "display_name": "Python 3.7.4 64-bit"
  },
  "metadata": {
   "interpreter": {
    "hash": "2d8a740277f67c33143a8e5c8e55f738530a350d8def4a85d8635b690074994c"
   }
  }
 },
 "nbformat": 4,
 "nbformat_minor": 2,
 "cells": [
  {
   "source": [
    "### Ejercicio 1\n",
    "\n",
    "A partir de la API de Pokemon, se pide generar un DataFrame como el de la imagen con las columnas: \n",
    "\n",
    "- **\"height\",\"id\",\"order\",\"weight\",\"types\"**\n",
    "\n",
    "### Ejercicio 2\n",
    "\n",
    "¿Has visto que dentro del DataFrame la columna \"types\" hay diccionarios? Se pide agregar, por cada pokemon, las columnas necesarias al DataFrame para albergar toda la información de \"types\" (solo las keys)\n",
    "\n",
    "![](df_pk.PNG)"
   ],
   "cell_type": "markdown",
   "metadata": {}
  },
  {
   "cell_type": "code",
   "execution_count": 2,
   "metadata": {},
   "outputs": [],
   "source": [
    "import json\n",
    "import requests\n",
    "from pprint import pprint\n",
    "\n",
    "import pandas as pd\n",
    "from pandas.io.json import json_normalize"
   ]
  },
  {
   "cell_type": "code",
   "execution_count": 3,
   "metadata": {},
   "outputs": [
    {
     "output_type": "stream",
     "name": "stdout",
     "text": [
      "\n"
     ]
    }
   ],
   "source": [
    "url = \"https://pokeapi.co/api/v2/pokemon/\"  \n",
    "poke_json = requests.get(url).json()\n",
    "print()"
   ]
  },
  {
   "cell_type": "code",
   "execution_count": 4,
   "metadata": {},
   "outputs": [
    {
     "output_type": "execute_result",
     "data": {
      "text/plain": [
       "   count                                               next previous  \\\n",
       "0   1118  https://pokeapi.co/api/v2/pokemon/?offset=20&l...     None   \n",
       "1   1118  https://pokeapi.co/api/v2/pokemon/?offset=20&l...     None   \n",
       "2   1118  https://pokeapi.co/api/v2/pokemon/?offset=20&l...     None   \n",
       "3   1118  https://pokeapi.co/api/v2/pokemon/?offset=20&l...     None   \n",
       "4   1118  https://pokeapi.co/api/v2/pokemon/?offset=20&l...     None   \n",
       "\n",
       "                                             results  \n",
       "0  {'name': 'bulbasaur', 'url': 'https://pokeapi....  \n",
       "1  {'name': 'ivysaur', 'url': 'https://pokeapi.co...  \n",
       "2  {'name': 'venusaur', 'url': 'https://pokeapi.c...  \n",
       "3  {'name': 'charmander', 'url': 'https://pokeapi...  \n",
       "4  {'name': 'charmeleon', 'url': 'https://pokeapi...  "
      ],
      "text/html": "<div>\n<style scoped>\n    .dataframe tbody tr th:only-of-type {\n        vertical-align: middle;\n    }\n\n    .dataframe tbody tr th {\n        vertical-align: top;\n    }\n\n    .dataframe thead th {\n        text-align: right;\n    }\n</style>\n<table border=\"1\" class=\"dataframe\">\n  <thead>\n    <tr style=\"text-align: right;\">\n      <th></th>\n      <th>count</th>\n      <th>next</th>\n      <th>previous</th>\n      <th>results</th>\n    </tr>\n  </thead>\n  <tbody>\n    <tr>\n      <th>0</th>\n      <td>1118</td>\n      <td>https://pokeapi.co/api/v2/pokemon/?offset=20&amp;l...</td>\n      <td>None</td>\n      <td>{'name': 'bulbasaur', 'url': 'https://pokeapi....</td>\n    </tr>\n    <tr>\n      <th>1</th>\n      <td>1118</td>\n      <td>https://pokeapi.co/api/v2/pokemon/?offset=20&amp;l...</td>\n      <td>None</td>\n      <td>{'name': 'ivysaur', 'url': 'https://pokeapi.co...</td>\n    </tr>\n    <tr>\n      <th>2</th>\n      <td>1118</td>\n      <td>https://pokeapi.co/api/v2/pokemon/?offset=20&amp;l...</td>\n      <td>None</td>\n      <td>{'name': 'venusaur', 'url': 'https://pokeapi.c...</td>\n    </tr>\n    <tr>\n      <th>3</th>\n      <td>1118</td>\n      <td>https://pokeapi.co/api/v2/pokemon/?offset=20&amp;l...</td>\n      <td>None</td>\n      <td>{'name': 'charmander', 'url': 'https://pokeapi...</td>\n    </tr>\n    <tr>\n      <th>4</th>\n      <td>1118</td>\n      <td>https://pokeapi.co/api/v2/pokemon/?offset=20&amp;l...</td>\n      <td>None</td>\n      <td>{'name': 'charmeleon', 'url': 'https://pokeapi...</td>\n    </tr>\n  </tbody>\n</table>\n</div>"
     },
     "metadata": {},
     "execution_count": 4
    }
   ],
   "source": [
    "df_pokemons = pd.DataFrame(poke_json)\n",
    "df_pokemons.head()"
   ]
  },
  {
   "cell_type": "code",
   "execution_count": 5,
   "metadata": {},
   "outputs": [
    {
     "output_type": "execute_result",
     "data": {
      "text/plain": [
       "{'bulbasaur': 'https://pokeapi.co/api/v2/pokemon/1/',\n",
       " 'ivysaur': 'https://pokeapi.co/api/v2/pokemon/2/',\n",
       " 'venusaur': 'https://pokeapi.co/api/v2/pokemon/3/',\n",
       " 'charmander': 'https://pokeapi.co/api/v2/pokemon/4/',\n",
       " 'charmeleon': 'https://pokeapi.co/api/v2/pokemon/5/',\n",
       " 'charizard': 'https://pokeapi.co/api/v2/pokemon/6/',\n",
       " 'squirtle': 'https://pokeapi.co/api/v2/pokemon/7/',\n",
       " 'wartortle': 'https://pokeapi.co/api/v2/pokemon/8/',\n",
       " 'blastoise': 'https://pokeapi.co/api/v2/pokemon/9/',\n",
       " 'caterpie': 'https://pokeapi.co/api/v2/pokemon/10/',\n",
       " 'metapod': 'https://pokeapi.co/api/v2/pokemon/11/',\n",
       " 'butterfree': 'https://pokeapi.co/api/v2/pokemon/12/',\n",
       " 'weedle': 'https://pokeapi.co/api/v2/pokemon/13/',\n",
       " 'kakuna': 'https://pokeapi.co/api/v2/pokemon/14/',\n",
       " 'beedrill': 'https://pokeapi.co/api/v2/pokemon/15/',\n",
       " 'pidgey': 'https://pokeapi.co/api/v2/pokemon/16/',\n",
       " 'pidgeotto': 'https://pokeapi.co/api/v2/pokemon/17/',\n",
       " 'pidgeot': 'https://pokeapi.co/api/v2/pokemon/18/',\n",
       " 'rattata': 'https://pokeapi.co/api/v2/pokemon/19/',\n",
       " 'raticate': 'https://pokeapi.co/api/v2/pokemon/20/'}"
      ]
     },
     "metadata": {},
     "execution_count": 5
    }
   ],
   "source": [
    "diccionario_pokemon = {}\n",
    "\n",
    "for i, e in enumerate(poke_json[\"results\"]):\n",
    "    nombre_pokemon = poke_json[\"results\"][i][\"name\"]\n",
    "    url_pokemon = poke_json[\"results\"][i][\"url\"]\n",
    "    diccionario_pokemon[nombre_pokemon] = url_pokemon\n",
    "\n",
    "diccionario_pokemon"
   ]
  },
  {
   "cell_type": "code",
   "execution_count": 85,
   "metadata": {},
   "outputs": [
    {
     "output_type": "execute_result",
     "data": {
      "text/plain": [
       "                                              url\n",
       "bulbasaur    https://pokeapi.co/api/v2/pokemon/1/\n",
       "ivysaur      https://pokeapi.co/api/v2/pokemon/2/\n",
       "venusaur     https://pokeapi.co/api/v2/pokemon/3/\n",
       "charmander   https://pokeapi.co/api/v2/pokemon/4/\n",
       "charmeleon   https://pokeapi.co/api/v2/pokemon/5/\n",
       "charizard    https://pokeapi.co/api/v2/pokemon/6/\n",
       "squirtle     https://pokeapi.co/api/v2/pokemon/7/\n",
       "wartortle    https://pokeapi.co/api/v2/pokemon/8/\n",
       "blastoise    https://pokeapi.co/api/v2/pokemon/9/\n",
       "caterpie    https://pokeapi.co/api/v2/pokemon/10/\n",
       "metapod     https://pokeapi.co/api/v2/pokemon/11/\n",
       "butterfree  https://pokeapi.co/api/v2/pokemon/12/\n",
       "weedle      https://pokeapi.co/api/v2/pokemon/13/\n",
       "kakuna      https://pokeapi.co/api/v2/pokemon/14/\n",
       "beedrill    https://pokeapi.co/api/v2/pokemon/15/\n",
       "pidgey      https://pokeapi.co/api/v2/pokemon/16/\n",
       "pidgeotto   https://pokeapi.co/api/v2/pokemon/17/\n",
       "pidgeot     https://pokeapi.co/api/v2/pokemon/18/\n",
       "rattata     https://pokeapi.co/api/v2/pokemon/19/\n",
       "raticate    https://pokeapi.co/api/v2/pokemon/20/"
      ],
      "text/html": "<div>\n<style scoped>\n    .dataframe tbody tr th:only-of-type {\n        vertical-align: middle;\n    }\n\n    .dataframe tbody tr th {\n        vertical-align: top;\n    }\n\n    .dataframe thead th {\n        text-align: right;\n    }\n</style>\n<table border=\"1\" class=\"dataframe\">\n  <thead>\n    <tr style=\"text-align: right;\">\n      <th></th>\n      <th>url</th>\n    </tr>\n  </thead>\n  <tbody>\n    <tr>\n      <th>bulbasaur</th>\n      <td>https://pokeapi.co/api/v2/pokemon/1/</td>\n    </tr>\n    <tr>\n      <th>ivysaur</th>\n      <td>https://pokeapi.co/api/v2/pokemon/2/</td>\n    </tr>\n    <tr>\n      <th>venusaur</th>\n      <td>https://pokeapi.co/api/v2/pokemon/3/</td>\n    </tr>\n    <tr>\n      <th>charmander</th>\n      <td>https://pokeapi.co/api/v2/pokemon/4/</td>\n    </tr>\n    <tr>\n      <th>charmeleon</th>\n      <td>https://pokeapi.co/api/v2/pokemon/5/</td>\n    </tr>\n    <tr>\n      <th>charizard</th>\n      <td>https://pokeapi.co/api/v2/pokemon/6/</td>\n    </tr>\n    <tr>\n      <th>squirtle</th>\n      <td>https://pokeapi.co/api/v2/pokemon/7/</td>\n    </tr>\n    <tr>\n      <th>wartortle</th>\n      <td>https://pokeapi.co/api/v2/pokemon/8/</td>\n    </tr>\n    <tr>\n      <th>blastoise</th>\n      <td>https://pokeapi.co/api/v2/pokemon/9/</td>\n    </tr>\n    <tr>\n      <th>caterpie</th>\n      <td>https://pokeapi.co/api/v2/pokemon/10/</td>\n    </tr>\n    <tr>\n      <th>metapod</th>\n      <td>https://pokeapi.co/api/v2/pokemon/11/</td>\n    </tr>\n    <tr>\n      <th>butterfree</th>\n      <td>https://pokeapi.co/api/v2/pokemon/12/</td>\n    </tr>\n    <tr>\n      <th>weedle</th>\n      <td>https://pokeapi.co/api/v2/pokemon/13/</td>\n    </tr>\n    <tr>\n      <th>kakuna</th>\n      <td>https://pokeapi.co/api/v2/pokemon/14/</td>\n    </tr>\n    <tr>\n      <th>beedrill</th>\n      <td>https://pokeapi.co/api/v2/pokemon/15/</td>\n    </tr>\n    <tr>\n      <th>pidgey</th>\n      <td>https://pokeapi.co/api/v2/pokemon/16/</td>\n    </tr>\n    <tr>\n      <th>pidgeotto</th>\n      <td>https://pokeapi.co/api/v2/pokemon/17/</td>\n    </tr>\n    <tr>\n      <th>pidgeot</th>\n      <td>https://pokeapi.co/api/v2/pokemon/18/</td>\n    </tr>\n    <tr>\n      <th>rattata</th>\n      <td>https://pokeapi.co/api/v2/pokemon/19/</td>\n    </tr>\n    <tr>\n      <th>raticate</th>\n      <td>https://pokeapi.co/api/v2/pokemon/20/</td>\n    </tr>\n  </tbody>\n</table>\n</div>"
     },
     "metadata": {},
     "execution_count": 85
    }
   ],
   "source": [
    "df_pokemon = pd.DataFrame(diccionario_pokemon, index=[\"url\"])\n",
    "df_pokemon = df_pokemon.T\n",
    "df_pokemon"
   ]
  },
  {
   "cell_type": "code",
   "execution_count": 84,
   "metadata": {},
   "outputs": [
    {
     "output_type": "stream",
     "name": "stdout",
     "text": [
      "{'beedrill': {'height': 10,\n              'id': 15,\n              'name': 'beedrill',\n              'order': 19,\n              'types': [{'slot': 1,\n                         'type': {'name': 'bug',\n                                  'url': 'https://pokeapi.co/api/v2/type/7/'}},\n                        {'slot': 2,\n                         'type': {'name': 'poison',\n                                  'url': 'https://pokeapi.co/api/v2/type/4/'}}],\n              'weight': 295},\n 'blastoise': {'height': 16,\n               'id': 9,\n               'name': 'blastoise',\n               'order': 12,\n               'types': [{'slot': 1,\n                          'type': {'name': 'water',\n                                   'url': 'https://pokeapi.co/api/v2/type/11/'}}],\n               'weight': 855},\n 'bulbasaur': {'height': 7,\n               'id': 1,\n               'name': 'bulbasaur',\n               'order': 1,\n               'types': [{'slot': 1,\n                          'type': {'name': 'grass',\n                                   'url': 'https://pokeapi.co/api/v2/type/12/'}},\n                         {'slot': 2,\n                          'type': {'name': 'poison',\n                                   'url': 'https://pokeapi.co/api/v2/type/4/'}}],\n               'weight': 69},\n 'butterfree': {'height': 11,\n                'id': 12,\n                'name': 'butterfree',\n                'order': 16,\n                'types': [{'slot': 1,\n                           'type': {'name': 'bug',\n                                    'url': 'https://pokeapi.co/api/v2/type/7/'}},\n                          {'slot': 2,\n                           'type': {'name': 'flying',\n                                    'url': 'https://pokeapi.co/api/v2/type/3/'}}],\n                'weight': 320},\n 'caterpie': {'height': 3,\n              'id': 10,\n              'name': 'caterpie',\n              'order': 14,\n              'types': [{'slot': 1,\n                         'type': {'name': 'bug',\n                                  'url': 'https://pokeapi.co/api/v2/type/7/'}}],\n              'weight': 29},\n 'charizard': {'height': 17,\n               'id': 6,\n               'name': 'charizard',\n               'order': 7,\n               'types': [{'slot': 1,\n                          'type': {'name': 'fire',\n                                   'url': 'https://pokeapi.co/api/v2/type/10/'}},\n                         {'slot': 2,\n                          'type': {'name': 'flying',\n                                   'url': 'https://pokeapi.co/api/v2/type/3/'}}],\n               'weight': 905},\n 'charmander': {'height': 6,\n                'id': 4,\n                'name': 'charmander',\n                'order': 5,\n                'types': [{'slot': 1,\n                           'type': {'name': 'fire',\n                                    'url': 'https://pokeapi.co/api/v2/type/10/'}}],\n                'weight': 85},\n 'charmeleon': {'height': 11,\n                'id': 5,\n                'name': 'charmeleon',\n                'order': 6,\n                'types': [{'slot': 1,\n                           'type': {'name': 'fire',\n                                    'url': 'https://pokeapi.co/api/v2/type/10/'}}],\n                'weight': 190},\n 'ivysaur': {'height': 10,\n             'id': 2,\n             'name': 'ivysaur',\n             'order': 2,\n             'types': [{'slot': 1,\n                        'type': {'name': 'grass',\n                                 'url': 'https://pokeapi.co/api/v2/type/12/'}},\n                       {'slot': 2,\n                        'type': {'name': 'poison',\n                                 'url': 'https://pokeapi.co/api/v2/type/4/'}}],\n             'weight': 130},\n 'kakuna': {'height': 6,\n            'id': 14,\n            'name': 'kakuna',\n            'order': 18,\n            'types': [{'slot': 1,\n                       'type': {'name': 'bug',\n                                'url': 'https://pokeapi.co/api/v2/type/7/'}},\n                      {'slot': 2,\n                       'type': {'name': 'poison',\n                                'url': 'https://pokeapi.co/api/v2/type/4/'}}],\n            'weight': 100},\n 'metapod': {'height': 7,\n             'id': 11,\n             'name': 'metapod',\n             'order': 15,\n             'types': [{'slot': 1,\n                        'type': {'name': 'bug',\n                                 'url': 'https://pokeapi.co/api/v2/type/7/'}}],\n             'weight': 99},\n 'pidgeot': {'height': 15,\n             'id': 18,\n             'name': 'pidgeot',\n             'order': 23,\n             'types': [{'slot': 1,\n                        'type': {'name': 'normal',\n                                 'url': 'https://pokeapi.co/api/v2/type/1/'}},\n                       {'slot': 2,\n                        'type': {'name': 'flying',\n                                 'url': 'https://pokeapi.co/api/v2/type/3/'}}],\n             'weight': 395},\n 'pidgeotto': {'height': 11,\n               'id': 17,\n               'name': 'pidgeotto',\n               'order': 22,\n               'types': [{'slot': 1,\n                          'type': {'name': 'normal',\n                                   'url': 'https://pokeapi.co/api/v2/type/1/'}},\n                         {'slot': 2,\n                          'type': {'name': 'flying',\n                                   'url': 'https://pokeapi.co/api/v2/type/3/'}}],\n               'weight': 300},\n 'pidgey': {'height': 3,\n            'id': 16,\n            'name': 'pidgey',\n            'order': 21,\n            'types': [{'slot': 1,\n                       'type': {'name': 'normal',\n                                'url': 'https://pokeapi.co/api/v2/type/1/'}},\n                      {'slot': 2,\n                       'type': {'name': 'flying',\n                                'url': 'https://pokeapi.co/api/v2/type/3/'}}],\n            'weight': 18},\n 'raticate': {'height': 7,\n              'id': 20,\n              'name': 'raticate',\n              'order': 27,\n              'types': [{'slot': 1,\n                         'type': {'name': 'normal',\n                                  'url': 'https://pokeapi.co/api/v2/type/1/'}}],\n              'weight': 185},\n 'rattata': {'height': 3,\n             'id': 19,\n             'name': 'rattata',\n             'order': 25,\n             'types': [{'slot': 1,\n                        'type': {'name': 'normal',\n                                 'url': 'https://pokeapi.co/api/v2/type/1/'}}],\n             'weight': 35},\n 'squirtle': {'height': 5,\n              'id': 7,\n              'name': 'squirtle',\n              'order': 10,\n              'types': [{'slot': 1,\n                         'type': {'name': 'water',\n                                  'url': 'https://pokeapi.co/api/v2/type/11/'}}],\n              'weight': 90},\n 'venusaur': {'height': 20,\n              'id': 3,\n              'name': 'venusaur',\n              'order': 3,\n              'types': [{'slot': 1,\n                         'type': {'name': 'grass',\n                                  'url': 'https://pokeapi.co/api/v2/type/12/'}},\n                        {'slot': 2,\n                         'type': {'name': 'poison',\n                                  'url': 'https://pokeapi.co/api/v2/type/4/'}}],\n              'weight': 1000},\n 'wartortle': {'height': 10,\n               'id': 8,\n               'name': 'wartortle',\n               'order': 11,\n               'types': [{'slot': 1,\n                          'type': {'name': 'water',\n                                   'url': 'https://pokeapi.co/api/v2/type/11/'}}],\n               'weight': 225},\n 'weedle': {'height': 3,\n            'id': 13,\n            'name': 'weedle',\n            'order': 17,\n            'types': [{'slot': 1,\n                       'type': {'name': 'bug',\n                                'url': 'https://pokeapi.co/api/v2/type/7/'}},\n                      {'slot': 2,\n                       'type': {'name': 'poison',\n                                'url': 'https://pokeapi.co/api/v2/type/4/'}}],\n            'weight': 32}}\n"
     ]
    }
   ],
   "source": [
    "lista = [\"name\",\"height\",\"id\",\"order\",\"weight\",\"types\"]\n",
    "dictionary = {}\n",
    "for nombre_pokemon, url in diccionario_pokemon.items():\n",
    "    peticion_api_url = requests.get(url).json()\n",
    "    dict2 = {}\n",
    "    for elem in lista:\n",
    "        value = peticion_api_url[elem]\n",
    "        dict2[elem] = value\n",
    "    dictionary[dict2['name']] = dict2\n",
    "\n",
    "pprint(dictionary)"
   ]
  },
  {
   "cell_type": "code",
   "execution_count": 116,
   "metadata": {},
   "outputs": [
    {
     "output_type": "execute_result",
     "data": {
      "text/plain": [
       "          name                                    url height  id order weight  \\\n",
       "0    bulbasaur   https://pokeapi.co/api/v2/pokemon/1/      7   1     1     69   \n",
       "1      ivysaur   https://pokeapi.co/api/v2/pokemon/2/     10   2     2    130   \n",
       "2     venusaur   https://pokeapi.co/api/v2/pokemon/3/     20   3     3   1000   \n",
       "3   charmander   https://pokeapi.co/api/v2/pokemon/4/      6   4     5     85   \n",
       "4   charmeleon   https://pokeapi.co/api/v2/pokemon/5/     11   5     6    190   \n",
       "5    charizard   https://pokeapi.co/api/v2/pokemon/6/     17   6     7    905   \n",
       "6     squirtle   https://pokeapi.co/api/v2/pokemon/7/      5   7    10     90   \n",
       "7    wartortle   https://pokeapi.co/api/v2/pokemon/8/     10   8    11    225   \n",
       "8    blastoise   https://pokeapi.co/api/v2/pokemon/9/     16   9    12    855   \n",
       "9     caterpie  https://pokeapi.co/api/v2/pokemon/10/      3  10    14     29   \n",
       "10     metapod  https://pokeapi.co/api/v2/pokemon/11/      7  11    15     99   \n",
       "11  butterfree  https://pokeapi.co/api/v2/pokemon/12/     11  12    16    320   \n",
       "12      weedle  https://pokeapi.co/api/v2/pokemon/13/      3  13    17     32   \n",
       "13      kakuna  https://pokeapi.co/api/v2/pokemon/14/      6  14    18    100   \n",
       "14    beedrill  https://pokeapi.co/api/v2/pokemon/15/     10  15    19    295   \n",
       "15      pidgey  https://pokeapi.co/api/v2/pokemon/16/      3  16    21     18   \n",
       "16   pidgeotto  https://pokeapi.co/api/v2/pokemon/17/     11  17    22    300   \n",
       "17     pidgeot  https://pokeapi.co/api/v2/pokemon/18/     15  18    23    395   \n",
       "18     rattata  https://pokeapi.co/api/v2/pokemon/19/      3  19    25     35   \n",
       "19    raticate  https://pokeapi.co/api/v2/pokemon/20/      7  20    27    185   \n",
       "\n",
       "                                                types  \n",
       "0   [{'slot': 1, 'type': {'name': 'grass', 'url': ...  \n",
       "1   [{'slot': 1, 'type': {'name': 'grass', 'url': ...  \n",
       "2   [{'slot': 1, 'type': {'name': 'grass', 'url': ...  \n",
       "3   [{'slot': 1, 'type': {'name': 'fire', 'url': '...  \n",
       "4   [{'slot': 1, 'type': {'name': 'fire', 'url': '...  \n",
       "5   [{'slot': 1, 'type': {'name': 'fire', 'url': '...  \n",
       "6   [{'slot': 1, 'type': {'name': 'water', 'url': ...  \n",
       "7   [{'slot': 1, 'type': {'name': 'water', 'url': ...  \n",
       "8   [{'slot': 1, 'type': {'name': 'water', 'url': ...  \n",
       "9   [{'slot': 1, 'type': {'name': 'bug', 'url': 'h...  \n",
       "10  [{'slot': 1, 'type': {'name': 'bug', 'url': 'h...  \n",
       "11  [{'slot': 1, 'type': {'name': 'bug', 'url': 'h...  \n",
       "12  [{'slot': 1, 'type': {'name': 'bug', 'url': 'h...  \n",
       "13  [{'slot': 1, 'type': {'name': 'bug', 'url': 'h...  \n",
       "14  [{'slot': 1, 'type': {'name': 'bug', 'url': 'h...  \n",
       "15  [{'slot': 1, 'type': {'name': 'normal', 'url':...  \n",
       "16  [{'slot': 1, 'type': {'name': 'normal', 'url':...  \n",
       "17  [{'slot': 1, 'type': {'name': 'normal', 'url':...  \n",
       "18  [{'slot': 1, 'type': {'name': 'normal', 'url':...  \n",
       "19  [{'slot': 1, 'type': {'name': 'normal', 'url':...  "
      ],
      "text/html": "<div>\n<style scoped>\n    .dataframe tbody tr th:only-of-type {\n        vertical-align: middle;\n    }\n\n    .dataframe tbody tr th {\n        vertical-align: top;\n    }\n\n    .dataframe thead th {\n        text-align: right;\n    }\n</style>\n<table border=\"1\" class=\"dataframe\">\n  <thead>\n    <tr style=\"text-align: right;\">\n      <th></th>\n      <th>name</th>\n      <th>url</th>\n      <th>height</th>\n      <th>id</th>\n      <th>order</th>\n      <th>weight</th>\n      <th>types</th>\n    </tr>\n  </thead>\n  <tbody>\n    <tr>\n      <th>0</th>\n      <td>bulbasaur</td>\n      <td>https://pokeapi.co/api/v2/pokemon/1/</td>\n      <td>7</td>\n      <td>1</td>\n      <td>1</td>\n      <td>69</td>\n      <td>[{'slot': 1, 'type': {'name': 'grass', 'url': ...</td>\n    </tr>\n    <tr>\n      <th>1</th>\n      <td>ivysaur</td>\n      <td>https://pokeapi.co/api/v2/pokemon/2/</td>\n      <td>10</td>\n      <td>2</td>\n      <td>2</td>\n      <td>130</td>\n      <td>[{'slot': 1, 'type': {'name': 'grass', 'url': ...</td>\n    </tr>\n    <tr>\n      <th>2</th>\n      <td>venusaur</td>\n      <td>https://pokeapi.co/api/v2/pokemon/3/</td>\n      <td>20</td>\n      <td>3</td>\n      <td>3</td>\n      <td>1000</td>\n      <td>[{'slot': 1, 'type': {'name': 'grass', 'url': ...</td>\n    </tr>\n    <tr>\n      <th>3</th>\n      <td>charmander</td>\n      <td>https://pokeapi.co/api/v2/pokemon/4/</td>\n      <td>6</td>\n      <td>4</td>\n      <td>5</td>\n      <td>85</td>\n      <td>[{'slot': 1, 'type': {'name': 'fire', 'url': '...</td>\n    </tr>\n    <tr>\n      <th>4</th>\n      <td>charmeleon</td>\n      <td>https://pokeapi.co/api/v2/pokemon/5/</td>\n      <td>11</td>\n      <td>5</td>\n      <td>6</td>\n      <td>190</td>\n      <td>[{'slot': 1, 'type': {'name': 'fire', 'url': '...</td>\n    </tr>\n    <tr>\n      <th>5</th>\n      <td>charizard</td>\n      <td>https://pokeapi.co/api/v2/pokemon/6/</td>\n      <td>17</td>\n      <td>6</td>\n      <td>7</td>\n      <td>905</td>\n      <td>[{'slot': 1, 'type': {'name': 'fire', 'url': '...</td>\n    </tr>\n    <tr>\n      <th>6</th>\n      <td>squirtle</td>\n      <td>https://pokeapi.co/api/v2/pokemon/7/</td>\n      <td>5</td>\n      <td>7</td>\n      <td>10</td>\n      <td>90</td>\n      <td>[{'slot': 1, 'type': {'name': 'water', 'url': ...</td>\n    </tr>\n    <tr>\n      <th>7</th>\n      <td>wartortle</td>\n      <td>https://pokeapi.co/api/v2/pokemon/8/</td>\n      <td>10</td>\n      <td>8</td>\n      <td>11</td>\n      <td>225</td>\n      <td>[{'slot': 1, 'type': {'name': 'water', 'url': ...</td>\n    </tr>\n    <tr>\n      <th>8</th>\n      <td>blastoise</td>\n      <td>https://pokeapi.co/api/v2/pokemon/9/</td>\n      <td>16</td>\n      <td>9</td>\n      <td>12</td>\n      <td>855</td>\n      <td>[{'slot': 1, 'type': {'name': 'water', 'url': ...</td>\n    </tr>\n    <tr>\n      <th>9</th>\n      <td>caterpie</td>\n      <td>https://pokeapi.co/api/v2/pokemon/10/</td>\n      <td>3</td>\n      <td>10</td>\n      <td>14</td>\n      <td>29</td>\n      <td>[{'slot': 1, 'type': {'name': 'bug', 'url': 'h...</td>\n    </tr>\n    <tr>\n      <th>10</th>\n      <td>metapod</td>\n      <td>https://pokeapi.co/api/v2/pokemon/11/</td>\n      <td>7</td>\n      <td>11</td>\n      <td>15</td>\n      <td>99</td>\n      <td>[{'slot': 1, 'type': {'name': 'bug', 'url': 'h...</td>\n    </tr>\n    <tr>\n      <th>11</th>\n      <td>butterfree</td>\n      <td>https://pokeapi.co/api/v2/pokemon/12/</td>\n      <td>11</td>\n      <td>12</td>\n      <td>16</td>\n      <td>320</td>\n      <td>[{'slot': 1, 'type': {'name': 'bug', 'url': 'h...</td>\n    </tr>\n    <tr>\n      <th>12</th>\n      <td>weedle</td>\n      <td>https://pokeapi.co/api/v2/pokemon/13/</td>\n      <td>3</td>\n      <td>13</td>\n      <td>17</td>\n      <td>32</td>\n      <td>[{'slot': 1, 'type': {'name': 'bug', 'url': 'h...</td>\n    </tr>\n    <tr>\n      <th>13</th>\n      <td>kakuna</td>\n      <td>https://pokeapi.co/api/v2/pokemon/14/</td>\n      <td>6</td>\n      <td>14</td>\n      <td>18</td>\n      <td>100</td>\n      <td>[{'slot': 1, 'type': {'name': 'bug', 'url': 'h...</td>\n    </tr>\n    <tr>\n      <th>14</th>\n      <td>beedrill</td>\n      <td>https://pokeapi.co/api/v2/pokemon/15/</td>\n      <td>10</td>\n      <td>15</td>\n      <td>19</td>\n      <td>295</td>\n      <td>[{'slot': 1, 'type': {'name': 'bug', 'url': 'h...</td>\n    </tr>\n    <tr>\n      <th>15</th>\n      <td>pidgey</td>\n      <td>https://pokeapi.co/api/v2/pokemon/16/</td>\n      <td>3</td>\n      <td>16</td>\n      <td>21</td>\n      <td>18</td>\n      <td>[{'slot': 1, 'type': {'name': 'normal', 'url':...</td>\n    </tr>\n    <tr>\n      <th>16</th>\n      <td>pidgeotto</td>\n      <td>https://pokeapi.co/api/v2/pokemon/17/</td>\n      <td>11</td>\n      <td>17</td>\n      <td>22</td>\n      <td>300</td>\n      <td>[{'slot': 1, 'type': {'name': 'normal', 'url':...</td>\n    </tr>\n    <tr>\n      <th>17</th>\n      <td>pidgeot</td>\n      <td>https://pokeapi.co/api/v2/pokemon/18/</td>\n      <td>15</td>\n      <td>18</td>\n      <td>23</td>\n      <td>395</td>\n      <td>[{'slot': 1, 'type': {'name': 'normal', 'url':...</td>\n    </tr>\n    <tr>\n      <th>18</th>\n      <td>rattata</td>\n      <td>https://pokeapi.co/api/v2/pokemon/19/</td>\n      <td>3</td>\n      <td>19</td>\n      <td>25</td>\n      <td>35</td>\n      <td>[{'slot': 1, 'type': {'name': 'normal', 'url':...</td>\n    </tr>\n    <tr>\n      <th>19</th>\n      <td>raticate</td>\n      <td>https://pokeapi.co/api/v2/pokemon/20/</td>\n      <td>7</td>\n      <td>20</td>\n      <td>27</td>\n      <td>185</td>\n      <td>[{'slot': 1, 'type': {'name': 'normal', 'url':...</td>\n    </tr>\n  </tbody>\n</table>\n</div>"
     },
     "metadata": {},
     "execution_count": 116
    }
   ],
   "source": [
    "df_final = pd.DataFrame(dict)\n",
    "df_final = pd.concat([df_pokemon, df_final.T], axis=1)\n",
    "df_final = df_final[[\"name\", \"url\", \"height\", \"id\", \"order\", \"weight\", \"types\"]]\n",
    "df_final.reset_index(drop=True, inplace=True)\n",
    "df_final"
   ]
  },
  {
   "source": [
    "![](df_pk.PNG)"
   ],
   "cell_type": "markdown",
   "metadata": {}
  },
  {
   "cell_type": "code",
   "execution_count": null,
   "metadata": {},
   "outputs": [],
   "source": []
  }
 ]
}