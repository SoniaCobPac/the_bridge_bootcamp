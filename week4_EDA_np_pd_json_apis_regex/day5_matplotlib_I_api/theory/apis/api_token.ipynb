{
 "metadata": {
  "language_info": {
   "codemirror_mode": {
    "name": "ipython",
    "version": 3
   },
   "file_extension": ".py",
   "mimetype": "text/x-python",
   "name": "python",
   "nbconvert_exporter": "python",
   "pygments_lexer": "ipython3",
   "version": "3.7.4"
  },
  "orig_nbformat": 2,
  "kernelspec": {
   "name": "python374jvsc74a57bd02d8a740277f67c33143a8e5c8e55f738530a350d8def4a85d8635b690074994c",
   "display_name": "Python 3.7.4 64-bit"
  },
  "metadata": {
   "interpreter": {
    "hash": "2d8a740277f67c33143a8e5c8e55f738530a350d8def4a85d8635b690074994c"
   }
  }
 },
 "nbformat": 4,
 "nbformat_minor": 2,
 "cells": [
  {
   "cell_type": "markdown",
   "metadata": {},
   "source": [
    "## API con token"
   ]
  },
  {
   "cell_type": "markdown",
   "metadata": {},
   "source": [
    "_El maravilloso mundo de las_ **APIs**\n",
    "### o EL RETORNO DE JSON\n"
   ]
  },
  {
   "cell_type": "markdown",
   "metadata": {},
   "source": [
    "Listado de **APIs** for free: \n",
    "https://github.com/public-apis/public-apis"
   ]
  },
  {
   "cell_type": "code",
   "execution_count": 14,
   "metadata": {},
   "outputs": [],
   "source": [
    "import json\n",
    "import requests"
   ]
  },
  {
   "cell_type": "code",
   "execution_count": 15,
   "metadata": {},
   "outputs": [],
   "source": [
    "# No quiero subir a GitHub el archivo con la contraseña\n",
    "# En el archivo .gitignore le añadiría todos los archivos/carpetas que no quiero subir\n",
    "# Puedo escribir simplemente el nombre del archivo y ese ya no lo sube\n",
    "# *password* = cualquier archivo con la palabra password en el nombre Git no lo tiene en cuenta\n",
    "# *password = si el archivo acaba en password Git no lo tiene en cuenta"
   ]
  },
  {
   "cell_type": "code",
   "execution_count": 16,
   "metadata": {},
   "outputs": [],
   "source": [
    "json_fullpath = \"settings_passwords.json\"\n",
    "# settings.json estará en el .gitignore para que no se suba a Github"
   ]
  },
  {
   "cell_type": "code",
   "execution_count": 17,
   "metadata": {},
   "outputs": [],
   "source": [
    "# Estoy abriendo el archivo 'settings_passwords'\n",
    "with open(json_fullpath, \"r+\") as outfile:\n",
    "    json_readed = json.load(outfile)\n",
    "#json_readed"
   ]
  },
  {
   "cell_type": "markdown",
   "metadata": {},
   "source": [
    "**DOCUMENTACIÓN DE LA API**\n",
    "\n",
    "\n",
    "--> https://developer.foursquare.com/docs/places-api/ <--\n",
    "\n",
    "** Cómo crear una cuenta de desarrollo **\n",
    "\n",
    "--> https://developer.foursquare.com/docs/places-api/getting-started/ <--\n",
    "\n",
    "** Diferentes Endpoints **\n",
    "\n",
    "--> https://developer.foursquare.com/docs/places-api/endpoints/ <--"
   ]
  },
  {
   "source": [
    "### Objetivo: \n",
    "\n",
    "#### Descubrir los restaurantes que están cerca de The Bridge a través de la API de foursquare"
   ],
   "cell_type": "markdown",
   "metadata": {}
  },
  {
   "cell_type": "code",
   "execution_count": 18,
   "metadata": {},
   "outputs": [],
   "source": [
    "url = 'https://api.foursquare.com/v2/venues/explore'\n",
    "\n",
    "# más códigos de categorías\n",
    "# https://developer.foursquare.com/docs/build-with-foursquare/categories/\n",
    "\n",
    "# irish pub\n",
    "irish_rest = \"52e81612bcbc57f1066b7a06\"\n",
    "\n",
    "# para sacar las coordenadas podrías usar una API pero también...\n",
    "# https://www.123coordenadas.com/coordinates/\n",
    "\n",
    "lat = 40.4226767\n",
    "lon = -3.6922754"
   ]
  },
  {
   "cell_type": "code",
   "execution_count": 19,
   "metadata": {},
   "outputs": [],
   "source": [
    "# Lo importante, todas las APIs con token tienen una forma de acceder a ellas. La información pertinente a cada una de ellas viene (o debería venir) en su documentación\n",
    "\n",
    "params = {\"client_id\": json_readed[\"CLIENT\"],\n",
    "  \"client_secret\": json_readed[\"API_KEY\"],\n",
    "  \"v\":\"20180323\",\n",
    "  \"ll\": f'{lat},{lon}',\n",
    "  \"section\": \"food\",\n",
    "  # options --> food, drinks, coffee, shops, arts, outdoors, sights, trending\n",
    "  \"limit\":100\n",
    "}  "
   ]
  },
  {
   "cell_type": "code",
   "execution_count": 20,
   "metadata": {},
   "outputs": [],
   "source": [
    "resp = requests.get(url=url, params=params)\n",
    "data = json.loads(resp.text)"
   ]
  },
  {
   "cell_type": "code",
   "execution_count": 31,
   "metadata": {},
   "outputs": [],
   "source": [
    "# Muestra cantidad ilegible de datos\n",
    "\n",
    "data"
   ]
  },
  {
   "cell_type": "code",
   "execution_count": 32,
   "metadata": {},
   "outputs": [],
   "source": [
    "# Para guardar en un archivo local y no tener que volver a hacer más llamadas\n",
    "import pandas as pd\n",
    "df = pd.DataFrame(data)\n",
    "df.to_csv(\"toda_informacion.csv\")"
   ]
  },
  {
   "cell_type": "code",
   "execution_count": 34,
   "metadata": {},
   "outputs": [
    {
     "output_type": "execute_result",
     "data": {
      "text/plain": [
       "                   Unnamed: 0                      meta  \\\n",
       "0                        code                       200   \n",
       "1                   requestId  6099055bae2b7117b52151f1   \n",
       "2            suggestedFilters                       NaN   \n",
       "3             suggestedRadius                       NaN   \n",
       "4              headerLocation                       NaN   \n",
       "5          headerFullLocation                       NaN   \n",
       "6   headerLocationGranularity                       NaN   \n",
       "7                       query                       NaN   \n",
       "8                totalResults                       NaN   \n",
       "9             suggestedBounds                       NaN   \n",
       "10                     groups                       NaN   \n",
       "\n",
       "                                             response  \n",
       "0                                                 NaN  \n",
       "1                                                 NaN  \n",
       "2   {'header': 'Tap to show:', 'filters': [{'name'...  \n",
       "3                                                 642  \n",
       "4                                              Chueca  \n",
       "5                                      Chueca, Madrid  \n",
       "6                                        neighborhood  \n",
       "7                                                food  \n",
       "8                                                 204  \n",
       "9   {'ne': {'lat': 40.42757324545612, 'lng': -3.68...  \n",
       "10  [{'type': 'Recommended Places', 'name': 'recom...  "
      ],
      "text/html": "<div>\n<style scoped>\n    .dataframe tbody tr th:only-of-type {\n        vertical-align: middle;\n    }\n\n    .dataframe tbody tr th {\n        vertical-align: top;\n    }\n\n    .dataframe thead th {\n        text-align: right;\n    }\n</style>\n<table border=\"1\" class=\"dataframe\">\n  <thead>\n    <tr style=\"text-align: right;\">\n      <th></th>\n      <th>Unnamed: 0</th>\n      <th>meta</th>\n      <th>response</th>\n    </tr>\n  </thead>\n  <tbody>\n    <tr>\n      <th>0</th>\n      <td>code</td>\n      <td>200</td>\n      <td>NaN</td>\n    </tr>\n    <tr>\n      <th>1</th>\n      <td>requestId</td>\n      <td>6099055bae2b7117b52151f1</td>\n      <td>NaN</td>\n    </tr>\n    <tr>\n      <th>2</th>\n      <td>suggestedFilters</td>\n      <td>NaN</td>\n      <td>{'header': 'Tap to show:', 'filters': [{'name'...</td>\n    </tr>\n    <tr>\n      <th>3</th>\n      <td>suggestedRadius</td>\n      <td>NaN</td>\n      <td>642</td>\n    </tr>\n    <tr>\n      <th>4</th>\n      <td>headerLocation</td>\n      <td>NaN</td>\n      <td>Chueca</td>\n    </tr>\n    <tr>\n      <th>5</th>\n      <td>headerFullLocation</td>\n      <td>NaN</td>\n      <td>Chueca, Madrid</td>\n    </tr>\n    <tr>\n      <th>6</th>\n      <td>headerLocationGranularity</td>\n      <td>NaN</td>\n      <td>neighborhood</td>\n    </tr>\n    <tr>\n      <th>7</th>\n      <td>query</td>\n      <td>NaN</td>\n      <td>food</td>\n    </tr>\n    <tr>\n      <th>8</th>\n      <td>totalResults</td>\n      <td>NaN</td>\n      <td>204</td>\n    </tr>\n    <tr>\n      <th>9</th>\n      <td>suggestedBounds</td>\n      <td>NaN</td>\n      <td>{'ne': {'lat': 40.42757324545612, 'lng': -3.68...</td>\n    </tr>\n    <tr>\n      <th>10</th>\n      <td>groups</td>\n      <td>NaN</td>\n      <td>[{'type': 'Recommended Places', 'name': 'recom...</td>\n    </tr>\n  </tbody>\n</table>\n</div>"
     },
     "metadata": {},
     "execution_count": 34
    }
   ],
   "source": [
    "# Esto se utilizaría para trabajar con un fichero local\n",
    "df = pd.read_csv(\"toda_informacion.csv\")\n",
    "df"
   ]
  },
  {
   "cell_type": "code",
   "execution_count": null,
   "metadata": {},
   "outputs": [],
   "source": [
    "# Hay que tener cuidado si estamos trabajando con un diccionario o un data frame:"
   ]
  },
  {
   "cell_type": "code",
   "execution_count": 89,
   "metadata": {},
   "outputs": [
    {
     "output_type": "execute_result",
     "data": {
      "text/plain": [
       "dict_keys(['suggestedFilters', 'suggestedRadius', 'headerLocation', 'headerFullLocation', 'headerLocationGranularity', 'query', 'totalResults', 'suggestedBounds', 'groups'])"
      ]
     },
     "metadata": {},
     "execution_count": 89
    }
   ],
   "source": [
    "# Claves del diccionario data[\"response\"]\n",
    "data[\"response\"].keys()"
   ]
  },
  {
   "cell_type": "code",
   "execution_count": 90,
   "metadata": {},
   "outputs": [
    {
     "output_type": "execute_result",
     "data": {
      "text/plain": [
       "Index(['Unnamed: 0', 'meta', 'response'], dtype='object')"
      ]
     },
     "metadata": {},
     "execution_count": 90
    }
   ],
   "source": [
    "# .keys de un dataframe devuelve las columnas del dataframe\n",
    "df.keys()"
   ]
  },
  {
   "cell_type": "code",
   "execution_count": 91,
   "metadata": {},
   "outputs": [
    {
     "output_type": "execute_result",
     "data": {
      "text/plain": [
       "RangeIndex(start=0, stop=11, step=1)"
      ]
     },
     "metadata": {},
     "execution_count": 91
    }
   ],
   "source": [
    "# .keys de una serie te devuelve el índice de la serie\n",
    "df[\"meta\"].keys()    #Que es lo mismo que ponder df[\"meta\"].index "
   ]
  },
  {
   "cell_type": "code",
   "execution_count": null,
   "metadata": {},
   "outputs": [],
   "source": []
  },
  {
   "cell_type": "code",
   "execution_count": 37,
   "metadata": {},
   "outputs": [],
   "source": [
    "# Podemos pasar toda la información a json pero como esta es ilegible. Podemos usar json editor para filtrar la información\n",
    "df.to_json(\"toda_informacion.json\")"
   ]
  },
  {
   "cell_type": "code",
   "execution_count": 83,
   "metadata": {
    "tags": []
   },
   "outputs": [
    {
     "output_type": "error",
     "ename": "JSONDecodeError",
     "evalue": "Expecting property name enclosed in double quotes: line 1 column 3 (char 2)",
     "traceback": [
      "\u001b[1;31m---------------------------------------------------------------------------\u001b[0m",
      "\u001b[1;31mJSONDecodeError\u001b[0m                           Traceback (most recent call last)",
      "\u001b[1;32m<ipython-input-83-e3067119babb>\u001b[0m in \u001b[0;36m<module>\u001b[1;34m\u001b[0m\n\u001b[0;32m      1\u001b[0m \u001b[0mjson_string\u001b[0m \u001b[1;33m=\u001b[0m \u001b[0mdf\u001b[0m\u001b[1;33m[\u001b[0m\u001b[1;34m\"response\"\u001b[0m\u001b[1;33m]\u001b[0m\u001b[1;33m.\u001b[0m\u001b[0mvalues\u001b[0m\u001b[1;33m[\u001b[0m\u001b[1;33m-\u001b[0m\u001b[1;36m1\u001b[0m\u001b[1;33m]\u001b[0m\u001b[1;33m\u001b[0m\u001b[1;33m\u001b[0m\u001b[0m\n\u001b[1;32m----> 2\u001b[1;33m \u001b[0mjson_leido\u001b[0m \u001b[1;33m=\u001b[0m \u001b[0mjson\u001b[0m\u001b[1;33m.\u001b[0m\u001b[0mloads\u001b[0m\u001b[1;33m(\u001b[0m\u001b[0mjson_string\u001b[0m\u001b[1;33m)\u001b[0m\u001b[1;33m\u001b[0m\u001b[1;33m\u001b[0m\u001b[0m\n\u001b[0m",
      "\u001b[1;32m~\\AppData\\Local\\Programs\\Python\\Python37\\lib\\json\\__init__.py\u001b[0m in \u001b[0;36mloads\u001b[1;34m(s, encoding, cls, object_hook, parse_float, parse_int, parse_constant, object_pairs_hook, **kw)\u001b[0m\n\u001b[0;32m    346\u001b[0m             \u001b[0mparse_int\u001b[0m \u001b[1;32mis\u001b[0m \u001b[1;32mNone\u001b[0m \u001b[1;32mand\u001b[0m \u001b[0mparse_float\u001b[0m \u001b[1;32mis\u001b[0m \u001b[1;32mNone\u001b[0m \u001b[1;32mand\u001b[0m\u001b[1;33m\u001b[0m\u001b[1;33m\u001b[0m\u001b[0m\n\u001b[0;32m    347\u001b[0m             parse_constant is None and object_pairs_hook is None and not kw):\n\u001b[1;32m--> 348\u001b[1;33m         \u001b[1;32mreturn\u001b[0m \u001b[0m_default_decoder\u001b[0m\u001b[1;33m.\u001b[0m\u001b[0mdecode\u001b[0m\u001b[1;33m(\u001b[0m\u001b[0ms\u001b[0m\u001b[1;33m)\u001b[0m\u001b[1;33m\u001b[0m\u001b[1;33m\u001b[0m\u001b[0m\n\u001b[0m\u001b[0;32m    349\u001b[0m     \u001b[1;32mif\u001b[0m \u001b[0mcls\u001b[0m \u001b[1;32mis\u001b[0m \u001b[1;32mNone\u001b[0m\u001b[1;33m:\u001b[0m\u001b[1;33m\u001b[0m\u001b[1;33m\u001b[0m\u001b[0m\n\u001b[0;32m    350\u001b[0m         \u001b[0mcls\u001b[0m \u001b[1;33m=\u001b[0m \u001b[0mJSONDecoder\u001b[0m\u001b[1;33m\u001b[0m\u001b[1;33m\u001b[0m\u001b[0m\n",
      "\u001b[1;32m~\\AppData\\Local\\Programs\\Python\\Python37\\lib\\json\\decoder.py\u001b[0m in \u001b[0;36mdecode\u001b[1;34m(self, s, _w)\u001b[0m\n\u001b[0;32m    335\u001b[0m \u001b[1;33m\u001b[0m\u001b[0m\n\u001b[0;32m    336\u001b[0m         \"\"\"\n\u001b[1;32m--> 337\u001b[1;33m         \u001b[0mobj\u001b[0m\u001b[1;33m,\u001b[0m \u001b[0mend\u001b[0m \u001b[1;33m=\u001b[0m \u001b[0mself\u001b[0m\u001b[1;33m.\u001b[0m\u001b[0mraw_decode\u001b[0m\u001b[1;33m(\u001b[0m\u001b[0ms\u001b[0m\u001b[1;33m,\u001b[0m \u001b[0midx\u001b[0m\u001b[1;33m=\u001b[0m\u001b[0m_w\u001b[0m\u001b[1;33m(\u001b[0m\u001b[0ms\u001b[0m\u001b[1;33m,\u001b[0m \u001b[1;36m0\u001b[0m\u001b[1;33m)\u001b[0m\u001b[1;33m.\u001b[0m\u001b[0mend\u001b[0m\u001b[1;33m(\u001b[0m\u001b[1;33m)\u001b[0m\u001b[1;33m)\u001b[0m\u001b[1;33m\u001b[0m\u001b[1;33m\u001b[0m\u001b[0m\n\u001b[0m\u001b[0;32m    338\u001b[0m         \u001b[0mend\u001b[0m \u001b[1;33m=\u001b[0m \u001b[0m_w\u001b[0m\u001b[1;33m(\u001b[0m\u001b[0ms\u001b[0m\u001b[1;33m,\u001b[0m \u001b[0mend\u001b[0m\u001b[1;33m)\u001b[0m\u001b[1;33m.\u001b[0m\u001b[0mend\u001b[0m\u001b[1;33m(\u001b[0m\u001b[1;33m)\u001b[0m\u001b[1;33m\u001b[0m\u001b[1;33m\u001b[0m\u001b[0m\n\u001b[0;32m    339\u001b[0m         \u001b[1;32mif\u001b[0m \u001b[0mend\u001b[0m \u001b[1;33m!=\u001b[0m \u001b[0mlen\u001b[0m\u001b[1;33m(\u001b[0m\u001b[0ms\u001b[0m\u001b[1;33m)\u001b[0m\u001b[1;33m:\u001b[0m\u001b[1;33m\u001b[0m\u001b[1;33m\u001b[0m\u001b[0m\n",
      "\u001b[1;32m~\\AppData\\Local\\Programs\\Python\\Python37\\lib\\json\\decoder.py\u001b[0m in \u001b[0;36mraw_decode\u001b[1;34m(self, s, idx)\u001b[0m\n\u001b[0;32m    351\u001b[0m         \"\"\"\n\u001b[0;32m    352\u001b[0m         \u001b[1;32mtry\u001b[0m\u001b[1;33m:\u001b[0m\u001b[1;33m\u001b[0m\u001b[1;33m\u001b[0m\u001b[0m\n\u001b[1;32m--> 353\u001b[1;33m             \u001b[0mobj\u001b[0m\u001b[1;33m,\u001b[0m \u001b[0mend\u001b[0m \u001b[1;33m=\u001b[0m \u001b[0mself\u001b[0m\u001b[1;33m.\u001b[0m\u001b[0mscan_once\u001b[0m\u001b[1;33m(\u001b[0m\u001b[0ms\u001b[0m\u001b[1;33m,\u001b[0m \u001b[0midx\u001b[0m\u001b[1;33m)\u001b[0m\u001b[1;33m\u001b[0m\u001b[1;33m\u001b[0m\u001b[0m\n\u001b[0m\u001b[0;32m    354\u001b[0m         \u001b[1;32mexcept\u001b[0m \u001b[0mStopIteration\u001b[0m \u001b[1;32mas\u001b[0m \u001b[0merr\u001b[0m\u001b[1;33m:\u001b[0m\u001b[1;33m\u001b[0m\u001b[1;33m\u001b[0m\u001b[0m\n\u001b[0;32m    355\u001b[0m             \u001b[1;32mraise\u001b[0m \u001b[0mJSONDecodeError\u001b[0m\u001b[1;33m(\u001b[0m\u001b[1;34m\"Expecting value\"\u001b[0m\u001b[1;33m,\u001b[0m \u001b[0ms\u001b[0m\u001b[1;33m,\u001b[0m \u001b[0merr\u001b[0m\u001b[1;33m.\u001b[0m\u001b[0mvalue\u001b[0m\u001b[1;33m)\u001b[0m \u001b[1;32mfrom\u001b[0m \u001b[1;32mNone\u001b[0m\u001b[1;33m\u001b[0m\u001b[1;33m\u001b[0m\u001b[0m\n",
      "\u001b[1;31mJSONDecodeError\u001b[0m: Expecting property name enclosed in double quotes: line 1 column 3 (char 2)"
     ]
    }
   ],
   "source": [
    "json_string = df[\"response\"].values[-1]\n",
    "json_leido = json.loads(json_string)\n",
    "# Esto nos da error, porque la información no está guardada en la forma correcta como diccionario"
   ]
  },
  {
   "cell_type": "code",
   "execution_count": null,
   "metadata": {},
   "outputs": [],
   "source": []
  },
  {
   "cell_type": "code",
   "execution_count": 35,
   "metadata": {
    "tags": []
   },
   "outputs": [
    {
     "output_type": "execute_result",
     "data": {
      "text/plain": [
       "dict_keys(['suggestedFilters', 'suggestedRadius', 'headerLocation', 'headerFullLocation', 'headerLocationGranularity', 'query', 'totalResults', 'suggestedBounds', 'groups'])"
      ]
     },
     "metadata": {},
     "execution_count": 35
    }
   ],
   "source": [
    "data[\"response\"].keys()"
   ]
  },
  {
   "cell_type": "code",
   "execution_count": 33,
   "metadata": {},
   "outputs": [],
   "source": [
    "# Cantidad ilegible de datos\n",
    "\n",
    "data[\"response\"] "
   ]
  },
  {
   "cell_type": "code",
   "execution_count": 85,
   "metadata": {},
   "outputs": [
    {
     "output_type": "execute_result",
     "data": {
      "text/plain": [
       "Empty DataFrame\n",
       "Columns: []\n",
       "Index: []"
      ],
      "text/html": "<div>\n<style scoped>\n    .dataframe tbody tr th:only-of-type {\n        vertical-align: middle;\n    }\n\n    .dataframe tbody tr th {\n        vertical-align: top;\n    }\n\n    .dataframe thead th {\n        text-align: right;\n    }\n</style>\n<table border=\"1\" class=\"dataframe\">\n  <thead>\n    <tr style=\"text-align: right;\">\n      <th></th>\n    </tr>\n  </thead>\n  <tbody>\n  </tbody>\n</table>\n</div>"
     },
     "metadata": {},
     "execution_count": 85
    }
   ],
   "source": [
    "# En este caso no podemos crear el data frame directamente del json 'data[\"response\"]' porque tiene mas claves que columnas\n",
    "df2 = pd.DataFrame()\n",
    "df2"
   ]
  },
  {
   "cell_type": "code",
   "execution_count": null,
   "metadata": {},
   "outputs": [],
   "source": [
    "# Como no podemos crear el data frame vamos accediendo a cada una de las claves"
   ]
  },
  {
   "cell_type": "code",
   "execution_count": 87,
   "metadata": {},
   "outputs": [
    {
     "output_type": "execute_result",
     "data": {
      "text/plain": [
       "dict_keys(['type', 'name', 'items'])"
      ]
     },
     "metadata": {},
     "execution_count": 87
    }
   ],
   "source": [
    "data[\"response\"]['groups'][0].keys()"
   ]
  },
  {
   "cell_type": "code",
   "execution_count": 39,
   "metadata": {},
   "outputs": [
    {
     "output_type": "execute_result",
     "data": {
      "text/plain": [
       "dict_keys(['reasons', 'venue', 'referralId'])"
      ]
     },
     "metadata": {},
     "execution_count": 39
    }
   ],
   "source": [
    "data[\"response\"]['groups'][0][\"items\"][0].keys()"
   ]
  },
  {
   "cell_type": "code",
   "execution_count": 27,
   "metadata": {},
   "outputs": [
    {
     "output_type": "execute_result",
     "data": {
      "text/plain": [
       "{'id': '5ac924f0a22db76045072b51',\n",
       " 'name': 'Charrua',\n",
       " 'contact': {},\n",
       " 'location': {'lat': 40.422416,\n",
       "  'lng': -3.693999,\n",
       "  'labeledLatLngs': [{'label': 'display', 'lat': 40.422416, 'lng': -3.693999}],\n",
       "  'distance': 148,\n",
       "  'postalCode': '28004',\n",
       "  'cc': 'ES',\n",
       "  'city': 'Madrid',\n",
       "  'state': 'Madrid',\n",
       "  'country': 'España',\n",
       "  'formattedAddress': ['28004 Madrid Madrid', 'España']},\n",
       " 'categories': [{'id': '4bf58dd8d48988d1df931735',\n",
       "   'name': 'BBQ Joint',\n",
       "   'pluralName': 'BBQ Joints',\n",
       "   'shortName': 'BBQ',\n",
       "   'icon': {'prefix': 'https://ss3.4sqi.net/img/categories_v2/food/bbqalt_',\n",
       "    'suffix': '.png'},\n",
       "   'primary': True}],\n",
       " 'verified': False,\n",
       " 'stats': {'tipCount': 0,\n",
       "  'usersCount': 0,\n",
       "  'checkinsCount': 0,\n",
       "  'visitsCount': 0},\n",
       " 'beenHere': {'count': 0,\n",
       "  'lastCheckinExpiredAt': 0,\n",
       "  'marked': False,\n",
       "  'unconfirmedCount': 0},\n",
       " 'photos': {'count': 0, 'groups': []},\n",
       " 'hereNow': {'count': 0, 'summary': 'Nobody here', 'groups': []}}"
      ]
     },
     "metadata": {},
     "execution_count": 27
    }
   ],
   "source": [
    "data[\"response\"]['groups'][0][\"items\"][0][\"venue\"]"
   ]
  },
  {
   "cell_type": "code",
   "execution_count": 88,
   "metadata": {},
   "outputs": [
    {
     "output_type": "execute_result",
     "data": {
      "text/plain": [
       "'Charrua'"
      ]
     },
     "metadata": {},
     "execution_count": 88
    }
   ],
   "source": [
    "data[\"response\"]['groups'][0][\"items\"][0][\"venue\"]['name']"
   ]
  },
  {
   "cell_type": "code",
   "execution_count": 29,
   "metadata": {
    "tags": []
   },
   "outputs": [
    {
     "output_type": "stream",
     "name": "stdout",
     "text": [
      "Charrua\nPelotari\nCannibal Raw Bar\nDoki Doki\nla vaca y la huerta\nPanod\ncelicioso\nFlavia Restaurante & Bar\nNew York Burger\nRaimunda\nMamá Chicó\nBanzai\nEl Cafetin De Fernando VI\nDSTAgE\nHabanera\nFood Truck\nShuwa Shuwa\nFaborit\nAl-Mounia\nLa Tavernetta\nMagasand Columela\na.n.E.l. Tapas & Lounge Bar\nil Tavolo Verde\nAdolfo Dominguez Lounge Cafe\nEl Supremo\nAarde\nBarrutia\nVides\nLa Lupita\nKrachai\nBunny's Deli\nRamsés\nPrep' La Crêpe\nMal de Amores\nLa Candelita\nLa Giralda IV\nRoostiq\nHonest Greens\nMad Grill\nThai Garden 2112\n99 Sushi Bar\nRoots\nLa Panaderia de Chueca\nTrattoria Pulcinella\nLa Maquina Jorge Juan\nMorgana\nAlabaster\nEl Paraguas\nLa Magdalena De Proust\nniMÚ Barquillo\nKuoco 360\nLa Bien Aparecida\nHot Now\nTaj Mahal\nGarcía de La Navarra\nTienda de Vinos (El Comunista)\nSr. Ito\nMerci\nLa Garriga\nLa alacena de Victor Montes (mercado de San Anton)\nLa Mafia se sienta a la mesa\nCafé de París, L' Entrecot\nLa Primera\nLa Galette 2 - Casa Escondida\nCapperi Mercato Italiano\nEl Perro y La Galleta\nAloha Poké\nPlatea Madrid\nPizzaiolo\nLa Carmencita\nPeyote San\nUltramarinos Quintin\nLa Buha\nThai Orchid\nQuispe\nPropaganda\nEl Cisne Azul\nAmazónico\nMallorca Market\nBocadillo de Jamón y Champán\nShikku\nMagasand\nRESTAURANTE KRITIKOS\nMestizo\nTampu\nFit Food\nLa Senda De Xiquena\nYakitoro\nÔven Mozzarella Bar\nIzakaya Han\nDiurno Restaurant & Bar\nArabia\nLa Castafiore\nLara Grill\nCafés Arrivederci\nLa Santa\nAüakt\nPatio De Leones\ncripeka\nPink Monkey\n"
     ]
    }
   ],
   "source": [
    "for rest in data[\"response\"]['groups'][0][\"items\"]:\n",
    "    print(rest[\"venue\"][\"name\"])\n",
    "# En este ejemplo estamos mostrando nombres pero podemos cambiar el parámetro de su selección"
   ]
  },
  {
   "cell_type": "code",
   "execution_count": 30,
   "metadata": {},
   "outputs": [
    {
     "output_type": "execute_result",
     "data": {
      "text/plain": [
       "['Charrua',\n",
       " 'Pelotari',\n",
       " 'Cannibal Raw Bar',\n",
       " 'Doki Doki',\n",
       " 'la vaca y la huerta',\n",
       " 'Panod',\n",
       " 'celicioso',\n",
       " 'Flavia Restaurante & Bar',\n",
       " 'New York Burger',\n",
       " 'Raimunda',\n",
       " 'Mamá Chicó',\n",
       " 'Banzai',\n",
       " 'El Cafetin De Fernando VI',\n",
       " 'DSTAgE',\n",
       " 'Habanera',\n",
       " 'Food Truck',\n",
       " 'Shuwa Shuwa',\n",
       " 'Faborit',\n",
       " 'Al-Mounia',\n",
       " 'La Tavernetta',\n",
       " 'Magasand Columela',\n",
       " 'a.n.E.l. Tapas & Lounge Bar',\n",
       " 'il Tavolo Verde',\n",
       " 'Adolfo Dominguez Lounge Cafe',\n",
       " 'El Supremo',\n",
       " 'Aarde',\n",
       " 'Barrutia',\n",
       " 'Vides',\n",
       " 'La Lupita',\n",
       " 'Krachai',\n",
       " \"Bunny's Deli\",\n",
       " 'Ramsés',\n",
       " \"Prep' La Crêpe\",\n",
       " 'Mal de Amores',\n",
       " 'La Candelita',\n",
       " 'La Giralda IV',\n",
       " 'Roostiq',\n",
       " 'Honest Greens',\n",
       " 'Mad Grill',\n",
       " 'Thai Garden 2112',\n",
       " '99 Sushi Bar',\n",
       " 'Roots',\n",
       " 'La Panaderia de Chueca',\n",
       " 'Trattoria Pulcinella',\n",
       " 'La Maquina Jorge Juan',\n",
       " 'Morgana',\n",
       " 'Alabaster',\n",
       " 'El Paraguas',\n",
       " 'La Magdalena De Proust',\n",
       " 'niMÚ Barquillo',\n",
       " 'Kuoco 360',\n",
       " 'La Bien Aparecida',\n",
       " 'Hot Now',\n",
       " 'Taj Mahal',\n",
       " 'García de La Navarra',\n",
       " 'Tienda de Vinos (El Comunista)',\n",
       " 'Sr. Ito',\n",
       " 'Merci',\n",
       " 'La Garriga',\n",
       " 'La alacena de Victor Montes (mercado de San Anton)',\n",
       " 'La Mafia se sienta a la mesa',\n",
       " \"Café de París, L' Entrecot\",\n",
       " 'La Primera',\n",
       " 'La Galette 2 - Casa Escondida',\n",
       " 'Capperi Mercato Italiano',\n",
       " 'El Perro y La Galleta',\n",
       " 'Aloha Poké',\n",
       " 'Platea Madrid',\n",
       " 'Pizzaiolo',\n",
       " 'La Carmencita',\n",
       " 'Peyote San',\n",
       " 'Ultramarinos Quintin',\n",
       " 'La Buha',\n",
       " 'Thai Orchid',\n",
       " 'Quispe',\n",
       " 'Propaganda',\n",
       " 'El Cisne Azul',\n",
       " 'Amazónico',\n",
       " 'Mallorca Market',\n",
       " 'Bocadillo de Jamón y Champán',\n",
       " 'Shikku',\n",
       " 'Magasand',\n",
       " 'RESTAURANTE KRITIKOS',\n",
       " 'Mestizo',\n",
       " 'Tampu',\n",
       " 'Fit Food',\n",
       " 'La Senda De Xiquena',\n",
       " 'Yakitoro',\n",
       " 'Ôven Mozzarella Bar',\n",
       " 'Izakaya Han',\n",
       " 'Diurno Restaurant & Bar',\n",
       " 'Arabia',\n",
       " 'La Castafiore',\n",
       " 'Lara Grill',\n",
       " 'Cafés Arrivederci',\n",
       " 'La Santa',\n",
       " 'Aüakt',\n",
       " 'Patio De Leones',\n",
       " 'cripeka',\n",
       " 'Pink Monkey']"
      ]
     },
     "metadata": {},
     "execution_count": 30
    }
   ],
   "source": [
    "# Lo mismo que antes pero con una list comprehension\n",
    "opciones = [rest[\"venue\"][\"name\"] for rest in data[\"response\"]['groups'][0][\"items\"]]\n",
    "opciones"
   ]
  },
  {
   "cell_type": "markdown",
   "metadata": {},
   "source": [
    "Comprobamos que efectivamente están cerca de **The Bridge**"
   ]
  },
  {
   "cell_type": "markdown",
   "metadata": {},
   "source": [
    "- **Charrua**"
   ]
  },
  {
   "cell_type": "markdown",
   "metadata": {},
   "source": [
    "https://www.google.com/maps/place/Charr%C3%BAa+Madrid/@40.4213206,-3.6974034,15z/data=!4m5!3m4!1s0x0:0x8673b16903da6e51!8m2!3d40.4223987!4d-3.6940989"
   ]
  },
  {
   "cell_type": "markdown",
   "metadata": {},
   "source": [
    "- **Pelotari**"
   ]
  },
  {
   "cell_type": "markdown",
   "metadata": {},
   "source": [
    "https://www.google.com/maps/place/Pelotari/@40.4210322,-3.7011421,15.06z/data=!4m8!1m2!2m1!1spelotari!3m4!1s0xd42289a8d2d74cb:0x2b6420709612ce53!8m2!3d40.4222232!4d-3.6906525"
   ]
  },
  {
   "cell_type": "markdown",
   "metadata": {},
   "source": [
    "- **Doki doki**"
   ]
  },
  {
   "cell_type": "markdown",
   "metadata": {},
   "source": [
    "https://www.google.com/maps/place/Restaurante+Doki+Doki/@40.421046,-3.6919977,17z/data=!3m1!4b1!4m5!3m4!1s0xd42289a5313ac17:0x27cfb02077407a64!8m2!3d40.421046!4d-3.689809"
   ]
  }
 ]
}