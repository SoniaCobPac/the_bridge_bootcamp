{
 "cells": [
  {
   "cell_type": "markdown",
   "metadata": {},
   "source": [
    "Parámetros *args y *kwargs en Python"
   ]
  },
  {
   "cell_type": "code",
   "execution_count": 3,
   "metadata": {},
   "outputs": [
    {
     "output_type": "stream",
     "name": "stdout",
     "text": [
      "<class 'tuple'>\n(2, ['g', 'h'], 9, 'k')\n"
     ]
    }
   ],
   "source": [
    "# Con poner un asteriasco al parámetro args podemos pasar todos los argumentos que queramos y con cualquier nombre\n",
    "\n",
    "def nombre_arg(*args):\n",
    "    print(type(args))\n",
    "    print(args)\n",
    "\n",
    "\n",
    "x = 2\n",
    "y = [\"g\", \"h\"]\n",
    "nombre_arg(x, y, 9, \"k\")    #args contiene todos estos argumentos juntos, son una tupla\n"
   ]
  },
  {
   "cell_type": "code",
   "execution_count": 11,
   "metadata": {},
   "outputs": [
    {
     "output_type": "stream",
     "name": "stdout",
     "text": [
      "(9,)\n"
     ]
    }
   ],
   "source": [
    "# no tenemos por qué llamarlo *args\n",
    "def funcion(*j):\n",
    "    print(j)\n",
    "\n",
    "x=9\n",
    "funcion(x)"
   ]
  },
  {
   "cell_type": "code",
   "execution_count": 4,
   "metadata": {},
   "outputs": [
    {
     "output_type": "stream",
     "name": "stdout",
     "text": [
      "1223\n"
     ]
    }
   ],
   "source": [
    "def realiza_suma_numeros(*args):\n",
    "    print(sum(args))\n",
    "\n",
    "realiza_suma_numeros(7, 222, 999, -5)\n",
    "# De esta manera da igual cuantos elementos quiera sumar, no tengo que especificarlos uno por uno. *args va a considerar todos sin"
   ]
  },
  {
   "cell_type": "code",
   "execution_count": 5,
   "metadata": {},
   "outputs": [
    {
     "output_type": "stream",
     "name": "stdout",
     "text": [
      "x:  7\n*args:  (222, 999, -5)\n1216\n"
     ]
    }
   ],
   "source": [
    "# El parámetro x va a ser el primer parámetro (7 en este caso), y *args serán el resto\n",
    " \n",
    "def realiza_suma_numeros(x, *args):\n",
    "    print(\"x: \", x)\n",
    "    print(\"*args: \", args)  #para llamar *args no se pone el asterisco\n",
    "    print(sum(args))\n",
    "\n",
    "realiza_suma_numeros(7, 222, 999, -5)"
   ]
  },
  {
   "cell_type": "code",
   "execution_count": 6,
   "metadata": {},
   "outputs": [
    {
     "output_type": "stream",
     "name": "stdout",
     "text": [
      "x:  7\n*args:  ()\n0\n"
     ]
    }
   ],
   "source": [
    "# Args va a estar vacia pero no importa porque no es un parámetro obligatorio\n",
    "realiza_suma_numeros(7)"
   ]
  },
  {
   "cell_type": "code",
   "execution_count": 7,
   "metadata": {},
   "outputs": [
    {
     "output_type": "error",
     "ename": "SyntaxError",
     "evalue": "positional argument follows keyword argument (<ipython-input-7-3f9241d0e1d0>, line 1)",
     "traceback": [
      "\u001b[1;36m  File \u001b[1;32m\"<ipython-input-7-3f9241d0e1d0>\"\u001b[1;36m, line \u001b[1;32m1\u001b[0m\n\u001b[1;33m    realiza_suma_numeros(x=2, 7,4)\u001b[0m\n\u001b[1;37m                             ^\u001b[0m\n\u001b[1;31mSyntaxError\u001b[0m\u001b[1;31m:\u001b[0m positional argument follows keyword argument\n"
     ]
    }
   ],
   "source": [
    "# Esto da error, porque si especificas un valor a una variable todos a su derecha también tienen que tener ese igual\n",
    "realiza_suma_numeros(x=2, 7, 4)"
   ]
  },
  {
   "cell_type": "code",
   "execution_count": 8,
   "metadata": {},
   "outputs": [
    {
     "output_type": "error",
     "ename": "TypeError",
     "evalue": "realiza_suma_numeros() got an unexpected keyword argument 'a'",
     "traceback": [
      "\u001b[1;31m---------------------------------------------------------------------------\u001b[0m",
      "\u001b[1;31mTypeError\u001b[0m                                 Traceback (most recent call last)",
      "\u001b[1;32m<ipython-input-8-4832c60c30cb>\u001b[0m in \u001b[0;36m<module>\u001b[1;34m\u001b[0m\n\u001b[1;32m----> 1\u001b[1;33m \u001b[0mrealiza_suma_numeros\u001b[0m\u001b[1;33m(\u001b[0m\u001b[0mx\u001b[0m\u001b[1;33m=\u001b[0m\u001b[1;36m2\u001b[0m\u001b[1;33m,\u001b[0m \u001b[0ma\u001b[0m\u001b[1;33m=\u001b[0m\u001b[1;36m3\u001b[0m\u001b[1;33m)\u001b[0m\u001b[1;33m\u001b[0m\u001b[1;33m\u001b[0m\u001b[0m\n\u001b[0m",
      "\u001b[1;31mTypeError\u001b[0m: realiza_suma_numeros() got an unexpected keyword argument 'a'"
     ]
    }
   ],
   "source": [
    "# También da error porque no existe la variable 'a' en esa función\n",
    "realiza_suma_numeros(x=2, a=3)"
   ]
  },
  {
   "cell_type": "code",
   "execution_count": 9,
   "metadata": {},
   "outputs": [
    {
     "output_type": "stream",
     "name": "stdout",
     "text": [
      "x:  7\n*args:  (2, 9)\n11\n"
     ]
    }
   ],
   "source": [
    "# Cuando utilizamos args no podemos asignar ningún nombre de variable. La unica manera de utilizar *args es de la siguiente forma:\n",
    "# *args es una tupla de todos los valores que no estén asociados a ningún argumento obligatorio de la función\n",
    "\n",
    "realiza_suma_numeros(7, 2, 9)"
   ]
  },
  {
   "source": [
    "### kwargs"
   ],
   "cell_type": "markdown",
   "metadata": {}
  },
  {
   "cell_type": "code",
   "execution_count": 12,
   "metadata": {},
   "outputs": [
    {
     "output_type": "error",
     "ename": "TypeError",
     "evalue": "funcion_kwargs() takes 0 positional arguments but 2 were given",
     "traceback": [
      "\u001b[1;31m---------------------------------------------------------------------------\u001b[0m",
      "\u001b[1;31mTypeError\u001b[0m                                 Traceback (most recent call last)",
      "\u001b[1;32m<ipython-input-12-0f7f0ffb11da>\u001b[0m in \u001b[0;36m<module>\u001b[1;34m\u001b[0m\n\u001b[0;32m      3\u001b[0m     \u001b[0mprint\u001b[0m\u001b[1;33m(\u001b[0m\u001b[0mkwargs\u001b[0m\u001b[1;33m)\u001b[0m\u001b[1;33m\u001b[0m\u001b[1;33m\u001b[0m\u001b[0m\n\u001b[0;32m      4\u001b[0m \u001b[1;33m\u001b[0m\u001b[0m\n\u001b[1;32m----> 5\u001b[1;33m \u001b[0mfuncion_kwargs\u001b[0m\u001b[1;33m(\u001b[0m\u001b[1;36m2\u001b[0m\u001b[1;33m,\u001b[0m \u001b[1;36m3\u001b[0m\u001b[1;33m)\u001b[0m\u001b[1;33m\u001b[0m\u001b[1;33m\u001b[0m\u001b[0m\n\u001b[0m",
      "\u001b[1;31mTypeError\u001b[0m: funcion_kwargs() takes 0 positional arguments but 2 were given"
     ]
    }
   ],
   "source": [
    "def funcion_kwargs(**kwargs):\n",
    "    print(type(kwargs))\n",
    "    print(kwargs)\n",
    "\n",
    "funcion_kwargs(2, 3) #kwargs no permite pasar parametros sin nombres de sus variables"
   ]
  },
  {
   "cell_type": "code",
   "execution_count": 13,
   "metadata": {},
   "outputs": [
    {
     "output_type": "stream",
     "name": "stdout",
     "text": [
      "<class 'dict'>\n{'x': 2, 'p': 3}\n"
     ]
    }
   ],
   "source": [
    "# Estamos creando un diccionario:\r\n",
    "funcion_kwargs(x=2, p=3)"
   ]
  },
  {
   "cell_type": "code",
   "execution_count": 14,
   "metadata": {},
   "outputs": [
    {
     "output_type": "stream",
     "name": "stdout",
     "text": [
      "x:  9\n**kwargs:  {'r': 7}\n{'r': 7}\n"
     ]
    }
   ],
   "source": [
    "def funcion_k(x, **kwargs):\n",
    "    print(\"x: \", x)\n",
    "    print(\"**kwargs: \", kwargs)\n",
    "    print(kwargs)\n",
    "\n",
    "funcion_k(x=9, r=7)"
   ]
  },
  {
   "cell_type": "code",
   "execution_count": 20,
   "metadata": {},
   "outputs": [
    {
     "output_type": "stream",
     "name": "stdout",
     "text": [
      "x:  2\nb:  4\n**kwargs:  {'p': 3, 's': [-8, -9]}\n{'p': 3, 's': [-8, -9]}\n"
     ]
    }
   ],
   "source": [
    "def funcion(x, b=4, **kwargs):  # No hace falta que le de ningún valor a b, ya tiene 4 en defecto\n",
    "    print(\"x: \", x)\n",
    "    print(\"b: \", b)\n",
    "    print(\"**kwargs: \", kwargs)\n",
    "    print(kwargs)\n",
    "\n",
    "funcion(2, p=3, s=[-8,-9])  #No hace falta que asigne una variable para la x, pero si para kwargs"
   ]
  },
  {
   "cell_type": "code",
   "execution_count": 18,
   "metadata": {},
   "outputs": [
    {
     "output_type": "stream",
     "name": "stdout",
     "text": [
      "x:  8\n**kwargs:  {'p': 3, 's': [-8, -9]}\n{'p': 3, 's': [-8, -9]}\n"
     ]
    }
   ],
   "source": [
    "funcion( p=3, s=[-8,-9], x=8) #Puedo cambiar el orden de los parametros"
   ]
  },
  {
   "cell_type": "code",
   "execution_count": 21,
   "metadata": {},
   "outputs": [
    {
     "output_type": "stream",
     "name": "stdout",
     "text": [
      "x:  2\nb:  -1\n**kwargs:  {'p': 3, 's': [-8, -9]}\n{'p': 3, 's': [-8, -9]}\n"
     ]
    }
   ],
   "source": [
    "funcion(2,-1,p=3, s=[-8,-9]) #Aunque no hace falta darle valor a b, como no asignamos ninguna variable a -1 entonces este valor va asignado a 'b'"
   ]
  },
  {
   "cell_type": "code",
   "execution_count": 22,
   "metadata": {},
   "outputs": [
    {
     "output_type": "error",
     "ename": "TypeError",
     "evalue": "funcion() takes from 1 to 2 positional arguments but 3 were given",
     "traceback": [
      "\u001b[1;31m---------------------------------------------------------------------------\u001b[0m",
      "\u001b[1;31mTypeError\u001b[0m                                 Traceback (most recent call last)",
      "\u001b[1;32m<ipython-input-22-c0814c33e184>\u001b[0m in \u001b[0;36m<module>\u001b[1;34m\u001b[0m\n\u001b[1;32m----> 1\u001b[1;33m \u001b[0mfuncion\u001b[0m\u001b[1;33m(\u001b[0m\u001b[1;36m2\u001b[0m\u001b[1;33m,\u001b[0m\u001b[1;33m-\u001b[0m\u001b[1;36m1\u001b[0m\u001b[1;33m,\u001b[0m \u001b[1;36m8556\u001b[0m\u001b[1;33m,\u001b[0m \u001b[0mp\u001b[0m\u001b[1;33m=\u001b[0m\u001b[1;36m3\u001b[0m\u001b[1;33m,\u001b[0m \u001b[0ms\u001b[0m\u001b[1;33m=\u001b[0m\u001b[1;33m[\u001b[0m\u001b[1;33m-\u001b[0m\u001b[1;36m8\u001b[0m\u001b[1;33m,\u001b[0m\u001b[1;33m-\u001b[0m\u001b[1;36m9\u001b[0m\u001b[1;33m]\u001b[0m\u001b[1;33m)\u001b[0m\u001b[1;33m\u001b[0m\u001b[1;33m\u001b[0m\u001b[0m\n\u001b[0m",
      "\u001b[1;31mTypeError\u001b[0m: funcion() takes from 1 to 2 positional arguments but 3 were given"
     ]
    }
   ],
   "source": [
    "funcion(2,-1, 8556, p=3, s=[-8,-9]) # Error porque 8556 va a irse a kwargs pero este necesita una variable"
   ]
  },
  {
   "cell_type": "code",
   "execution_count": 24,
   "metadata": {},
   "outputs": [
    {
     "output_type": "stream",
     "name": "stdout",
     "text": [
      "x:  1\nb:  4\n*args:  ()\n<class 'tuple'>\n**kwargs:  {}\n<class 'dict'>\n"
     ]
    }
   ],
   "source": [
    "def funcion_f(x, b=4, *args, **kwargs): # si usamos *args y **kwargs a la vez, args (un asterisco) tiene que estar primero\n",
    "    print(\"x: \", x)\n",
    "    print(\"b: \", b)\n",
    "    print(\"*args: \", args)\n",
    "    print(type(args))\n",
    "    print(\"**kwargs: \", kwargs)\n",
    "    print(type(kwargs))\n",
    "\n",
    "funcion_f(1)    # x es un argumento obligatorio, tenemos que darle algún valor"
   ]
  },
  {
   "cell_type": "code",
   "execution_count": 25,
   "metadata": {},
   "outputs": [
    {
     "output_type": "stream",
     "name": "stdout",
     "text": [
      "x:  1\nb:  4\n*args:  ()\n<class 'tuple'>\n**kwargs:  {'k': 2}\n<class 'dict'>\n"
     ]
    }
   ],
   "source": [
    "funcion_f(x=1, k=2) # k va a kwargs porque necesita nombre de variable y args no admite nombre de variable"
   ]
  },
  {
   "cell_type": "code",
   "execution_count": 26,
   "metadata": {},
   "outputs": [
    {
     "output_type": "stream",
     "name": "stdout",
     "text": [
      "x:  1\nb:  2\n*args:  (3,)\n<class 'tuple'>\n**kwargs:  {}\n<class 'dict'>\n"
     ]
    }
   ],
   "source": [
    "funcion_f(1,2,3) "
   ]
  },
  {
   "cell_type": "code",
   "execution_count": 27,
   "metadata": {},
   "outputs": [
    {
     "output_type": "stream",
     "name": "stdout",
     "text": [
      "x:  1\nb:  2\n*args:  (3, 4)\n<class 'tuple'>\n**kwargs:  {'j': 9}\n<class 'dict'>\n"
     ]
    }
   ],
   "source": [
    "funcion_f(1,2,3,4,j=9)"
   ]
  },
  {
   "cell_type": "code",
   "execution_count": 28,
   "metadata": {},
   "outputs": [
    {
     "output_type": "stream",
     "name": "stdout",
     "text": [
      "x:  1\nb:  4\n*args:  ()\n<class 'tuple'>\n**kwargs:  {'j': 9}\n<class 'dict'>\n"
     ]
    }
   ],
   "source": [
    "funcion_f(1,j=9)"
   ]
  },
  {
   "cell_type": "code",
   "execution_count": 29,
   "metadata": {},
   "outputs": [
    {
     "output_type": "error",
     "ename": "TypeError",
     "evalue": "funcion_f() got multiple values for argument 'b'",
     "traceback": [
      "\u001b[1;31m---------------------------------------------------------------------------\u001b[0m",
      "\u001b[1;31mTypeError\u001b[0m                                 Traceback (most recent call last)",
      "\u001b[1;32m<ipython-input-29-7e522db844e6>\u001b[0m in \u001b[0;36m<module>\u001b[1;34m\u001b[0m\n\u001b[1;32m----> 1\u001b[1;33m \u001b[0mfuncion_f\u001b[0m\u001b[1;33m(\u001b[0m\u001b[1;36m1\u001b[0m\u001b[1;33m,\u001b[0m\u001b[1;36m2\u001b[0m\u001b[1;33m,\u001b[0m\u001b[1;36m3\u001b[0m\u001b[1;33m,\u001b[0m\u001b[1;36m4\u001b[0m\u001b[1;33m,\u001b[0m\u001b[0mj\u001b[0m\u001b[1;33m=\u001b[0m\u001b[1;36m9\u001b[0m\u001b[1;33m,\u001b[0m \u001b[0mb\u001b[0m\u001b[1;33m=\u001b[0m\u001b[1;36m9\u001b[0m\u001b[1;33m)\u001b[0m\u001b[1;33m\u001b[0m\u001b[1;33m\u001b[0m\u001b[0m\n\u001b[0m",
      "\u001b[1;31mTypeError\u001b[0m: funcion_f() got multiple values for argument 'b'"
     ]
    }
   ],
   "source": [
    "funcion_f(1,2,3,4,j=9, b=9) # Error porque b ya tenía un valor"
   ]
  },
  {
   "cell_type": "code",
   "execution_count": 33,
   "metadata": {},
   "outputs": [
    {
     "output_type": "stream",
     "name": "stdout",
     "text": [
      "x:  1\nb:  2\n*args:  (3, 999, {5: 'po'})\n<class 'tuple'>\n**kwargs:  {'d': {5: 'po'}, 'j': 6}\n<class 'dict'>\nk: {5: 'po'}\n"
     ]
    }
   ],
   "source": [
    "def funcion_f(x, b=4, *args, **kwargs): # si usamos *args y **kwargs a la vez, args (un asterisco) tiene que estar primero\n",
    "    print(\"x: \", x)\n",
    "    print(\"b: \", b)\n",
    "    print(\"*args: \", args)\n",
    "    print(type(args))\n",
    "    print(\"**kwargs: \", kwargs)\n",
    "    print(type(kwargs))\n",
    "    print(\"k:\", k) # puedo especificar imprimir solo el valor de la clave del diccionario\n",
    "\n",
    "k = {5:\"po\"}\n",
    "funcion_f(1, 2, 3, 999, k, d=k, j=6) "
   ]
  },
  {
   "cell_type": "code",
   "execution_count": null,
   "metadata": {},
   "outputs": [],
   "source": []
  },
  {
   "cell_type": "code",
   "execution_count": null,
   "metadata": {},
   "outputs": [],
   "source": []
  }
 ],
 "metadata": {
  "language_info": {
   "name": "python",
   "codemirror_mode": {
    "name": "ipython",
    "version": 3
   },
   "version": "3.7.4"
  },
  "orig_nbformat": 2,
  "file_extension": ".py",
  "mimetype": "text/x-python",
  "name": "python",
  "npconvert_exporter": "python",
  "pygments_lexer": "ipython3",
  "version": 3,
  "kernelspec": {
   "name": "python374jvsc74a57bd02d8a740277f67c33143a8e5c8e55f738530a350d8def4a85d8635b690074994c",
   "display_name": "Python 3.7.4 64-bit"
  },
  "metadata": {
   "interpreter": {
    "hash": "2d8a740277f67c33143a8e5c8e55f738530a350d8def4a85d8635b690074994c"
   }
  }
 },
 "nbformat": 4,
 "nbformat_minor": 2
}