{
 "metadata": {
  "language_info": {
   "codemirror_mode": {
    "name": "ipython",
    "version": 3
   },
   "file_extension": ".py",
   "mimetype": "text/x-python",
   "name": "python",
   "nbconvert_exporter": "python",
   "pygments_lexer": "ipython3",
   "version": "3.7.4"
  },
  "orig_nbformat": 2,
  "kernelspec": {
   "name": "python374jvsc74a57bd02d8a740277f67c33143a8e5c8e55f738530a350d8def4a85d8635b690074994c",
   "display_name": "Python 3.7.4 64-bit"
  },
  "metadata": {
   "interpreter": {
    "hash": "2d8a740277f67c33143a8e5c8e55f738530a350d8def4a85d8635b690074994c"
   }
  }
 },
 "nbformat": 4,
 "nbformat_minor": 2,
 "cells": [
  {
   "cell_type": "code",
   "execution_count": null,
   "metadata": {},
   "outputs": [],
   "source": [
    "# Todas las variables de una función son locales, porque están dentro de la función, cuando se acaba la función esa variable no existe fuera"
   ]
  },
  {
   "cell_type": "code",
   "execution_count": 1,
   "metadata": {},
   "outputs": [
    {
     "output_type": "stream",
     "name": "stdout",
     "text": [
      "2\n14\n2\n"
     ]
    }
   ],
   "source": [
    "x = 2 #Función global  \n",
    "\n",
    "def funcion(x):\n",
    "    x = 7 + x   #Función local\n",
    "    print(x)\n",
    "\n",
    "print(x)\n",
    "funcion(x=7)\n",
    "print(x)"
   ]
  },
  {
   "cell_type": "code",
   "execution_count": 3,
   "metadata": {},
   "outputs": [
    {
     "output_type": "stream",
     "name": "stdout",
     "text": [
      "2\n7\n7\n"
     ]
    }
   ],
   "source": [
    "x = 2   \n",
    "\n",
    "def funcion():\n",
    "    global x\n",
    "    x = 7   \n",
    "    print(x)\n",
    "\n",
    "print(x)\n",
    "funcion()\n",
    "print(x)"
   ]
  },
  {
   "cell_type": "code",
   "execution_count": 4,
   "metadata": {},
   "outputs": [
    {
     "output_type": "error",
     "ename": "SyntaxError",
     "evalue": "name 'x' is assigned to before global declaration (<ipython-input-4-77f13e3cc7f5>, line 8)",
     "traceback": [
      "\u001b[1;36m  File \u001b[1;32m\"<ipython-input-4-77f13e3cc7f5>\"\u001b[1;36m, line \u001b[1;32m8\u001b[0m\n\u001b[1;33m    \u001b[0m\n\u001b[1;37m    ^\u001b[0m\n\u001b[1;31mSyntaxError\u001b[0m\u001b[1;31m:\u001b[0m name 'x' is assigned to before global declaration\n"
     ]
    }
   ],
   "source": [
    "x = 2   \n",
    "\n",
    "def funcion():\n",
    "    x = 7  \n",
    "    global x # Si queremos utilizar global, tiene que estar la primera     \n",
    "    print(x)\n",
    "\n",
    "print(x)\n",
    "funcion()\n",
    "print(x)"
   ]
  },
  {
   "cell_type": "code",
   "execution_count": 6,
   "metadata": {},
   "outputs": [
    {
     "output_type": "stream",
     "name": "stdout",
     "text": [
      "l1:  [0, 1, 2, 'AS']\nx:  2\n"
     ]
    }
   ],
   "source": [
    "x = 99\n",
    "l1 = [0, 1, 2]\n",
    "def funcion(lista):\n",
    "    global x\n",
    "    x = 2\n",
    "    lista.append(\"AS\") # como lista es un objeto mutable no hace falta poner global para modificarla\n",
    "\n",
    "funcion(lista=l1)\n",
    "print(\"l1: \", l1)\n",
    "print(\"x: \", x)\n"
   ]
  },
  {
   "cell_type": "code",
   "execution_count": 10,
   "metadata": {},
   "outputs": [
    {
     "output_type": "stream",
     "name": "stdout",
     "text": [
      "l1:  [0, 1, 2, 'AS']\nx:  2\n"
     ]
    }
   ],
   "source": [
    "x = 99\n",
    "l1 = [0, 1, 2]\n",
    "def funcion(lista):\n",
    "    global x\n",
    "    x = 2\n",
    "    lista.append(\"AS\") \n",
    "    lista = 1  # l1 no se modifica porque no estamos llamando a la variable global\n",
    "\n",
    "funcion(lista=l1)\n",
    "print(\"l1: \", l1)\n",
    "print(\"x: \", x)"
   ]
  },
  {
   "cell_type": "code",
   "execution_count": 9,
   "metadata": {},
   "outputs": [
    {
     "output_type": "stream",
     "name": "stdout",
     "text": [
      "l1:  1\nx:  2\n"
     ]
    }
   ],
   "source": [
    "x = 99\n",
    "l1 = [0, 1, 2]\n",
    "def funcion(lista):\n",
    "    global x\n",
    "    global l1\n",
    "    x = 2\n",
    "    lista.append(\"AS\") \n",
    "    l1 = 1  #Aquí l1 si se modifica porque he llamado a la lista global dentro de la función\n",
    "    \n",
    "funcion(lista=l1)\n",
    "print(\"l1: \", l1)\n",
    "print(\"x: \", x)"
   ]
  },
  {
   "cell_type": "code",
   "execution_count": 11,
   "metadata": {},
   "outputs": [
    {
     "output_type": "stream",
     "name": "stdout",
     "text": [
      "l1:  None\nx:  2\n"
     ]
    }
   ],
   "source": [
    "x = 99\n",
    "l1 = [0, 1, 2]\n",
    "def funcion(lista):\n",
    "    global x\n",
    "    global l1\n",
    "    x = 2\n",
    "    l1 = lista.append(\"AS\") #l1 le estoy asignando el valor que retorna la función append, que es None\n",
    "    \n",
    "funcion(lista=l1)\n",
    "print(\"l1: \", l1)\n",
    "print(\"x: \", x)"
   ]
  },
  {
   "cell_type": "code",
   "execution_count": 13,
   "metadata": {},
   "outputs": [
    {
     "output_type": "stream",
     "name": "stdout",
     "text": [
      "l1 dentro de funcion:  None\nl1:  [0, 1, 2, 'AS']\nx:  2\n"
     ]
    }
   ],
   "source": [
    "x = 99\n",
    "l1 = [0, 1, 2]\n",
    "def funcion(lista):\n",
    "    global x\n",
    "    x = 2\n",
    "    l1 = lista.append(\"AS\") # como la variable de la función lista=l1, la lista global si se cambia\n",
    "    print(\"l1 dentro de funcion: \", l1)\n",
    "    \n",
    "funcion(lista=l1)\n",
    "print(\"l1: \", l1)\n",
    "print(\"x: \", x)"
   ]
  },
  {
   "cell_type": "code",
   "execution_count": 14,
   "metadata": {},
   "outputs": [
    {
     "output_type": "stream",
     "name": "stdout",
     "text": [
      "l1 dentro de funcion:  None\nl1:  None\nx:  2\n"
     ]
    }
   ],
   "source": [
    "x = 99\n",
    "l1 = [0, 1, 2]\n",
    "def funcion(lista):\n",
    "    global x, l1\n",
    "    x = 2\n",
    "    l1 = lista.append(\"AS\") # aqui l1 es la global, la variable de fuera es lo que retorna la funcion append, que es None\n",
    "    print(\"l1 dentro de funcion: \", l1)\n",
    "    \n",
    "funcion(lista=l1)\n",
    "print(\"l1: \", l1)\n",
    "print(\"x: \", x)"
   ]
  },
  {
   "cell_type": "code",
   "execution_count": 15,
   "metadata": {},
   "outputs": [
    {
     "output_type": "stream",
     "name": "stdout",
     "text": [
      "l1 dentro de funcion:  [0, 1, 2, 'AS']\nlista dentro de funcion:  [0, 1, 2, 'AS']\nl1 dentro de funcion:  None\nlista dentro de funcion:  [0, 1, 2, 'AS', 'AS']\nl1:  None\nx:  2\n"
     ]
    }
   ],
   "source": [
    "x = 99\n",
    "l1 = [0, 1, 2]\n",
    "\n",
    "def funcion(lista):\n",
    "    global x, l1\n",
    "    x = 2\n",
    "    lista.append(\"AS\") \n",
    "    print(\"l1 dentro de funcion: \", l1)\n",
    "    print(\"lista dentro de funcion: \", lista)\n",
    "    l1 = lista.append(\"AS\")\n",
    "    print(\"l1 dentro de funcion: \", l1) # l1 devuelve el retorno\n",
    "    print(\"lista dentro de funcion: \", lista) # como lista no se iguala a la funcion, no devuelve el retorno, se ve como otro valor                                                 \"AS\" se le ha añadido\n",
    "\n",
    "    \n",
    "funcion(lista=l1)\n",
    "print(\"l1: \", l1)\n",
    "print(\"x: \", x)"
   ]
  },
  {
   "cell_type": "code",
   "execution_count": null,
   "metadata": {},
   "outputs": [],
   "source": [
    "# No es habitual usar global en una función ya que todo lo que quiero usar de la función se puede obtener con returns\n",
    "# Podemos modificar variables globales (fuera de la función) sin tener que usar la palabra reservada 'global'"
   ]
  }
 ]
}