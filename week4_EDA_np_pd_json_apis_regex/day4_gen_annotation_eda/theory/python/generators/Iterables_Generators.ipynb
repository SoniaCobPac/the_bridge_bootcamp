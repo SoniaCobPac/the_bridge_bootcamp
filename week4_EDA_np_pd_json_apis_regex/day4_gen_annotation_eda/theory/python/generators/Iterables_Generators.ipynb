{
 "nbformat": 4,
 "nbformat_minor": 2,
 "metadata": {
  "language_info": {
   "name": "python",
   "codemirror_mode": {
    "name": "ipython",
    "version": 3
   },
   "version": "3.7.4"
  },
  "orig_nbformat": 2,
  "file_extension": ".py",
  "mimetype": "text/x-python",
  "name": "python",
  "npconvert_exporter": "python",
  "pygments_lexer": "ipython3",
  "version": 3,
  "kernelspec": {
   "name": "python374jvsc74a57bd02d8a740277f67c33143a8e5c8e55f738530a350d8def4a85d8635b690074994c",
   "display_name": "Python 3.7.4 64-bit"
  },
  "metadata": {
   "interpreter": {
    "hash": "2d8a740277f67c33143a8e5c8e55f738530a350d8def4a85d8635b690074994c"
   }
  }
 },
 "cells": [
  {
   "cell_type": "markdown",
   "metadata": {},
   "source": [
    "### Iterables and Generators\n",
    "\n",
    "One nice thing about a list is that you can retrieve specific elements by their indices. But you don’t always need this! A list of a billion numbers takes up a lot of memory. If you only want the elements one at a time, there’s no good reason to keep them all around. If you only end up needing the first several elements, generating the entire billion is hugely wasteful.\n",
    "\n",
    "Often all we need is to iterate over the collection using for and in. In this case we can create generators, which can be iterated over just like lists but generate their values lazily on demand.\n",
    "\n",
    "One way to create generators is with functions and the yield operator:"
   ]
  },
  {
   "cell_type": "code",
   "execution_count": 2,
   "metadata": {},
   "outputs": [],
   "source": [
    "def create_list(n):\n",
    "    lista = []\n",
    "    for i in range(n):\n",
    "        lista.append(i)\n",
    "    return lista"
   ]
  },
  {
   "cell_type": "code",
   "execution_count": 3,
   "metadata": {},
   "outputs": [],
   "source": [
    "# El generador va a dar x números cuando yo se lo pida\n",
    "def generate_range(n):\n",
    "    i = 0\n",
    "    while i < n:\n",
    "        yield i   # every call to yield produces a value of the generator\n",
    "        i += 1"
   ]
  },
  {
   "cell_type": "code",
   "execution_count": null,
   "metadata": {},
   "outputs": [],
   "source": []
  },
  {
   "cell_type": "code",
   "execution_count": 4,
   "metadata": {},
   "outputs": [
    {
     "output_type": "stream",
     "name": "stdout",
     "text": [
      "Wall time: 11.5 s\n"
     ]
    }
   ],
   "source": [
    "%%time\n",
    "for i in create_list(100000):\n",
    "    print(i, end=\"\\r\")      #\\r es no saltes a la siguiente linea, e intenta hacer el print in la misma linea, por eso el print de                                  todos los números se van ejecutando en la misma linea"
   ]
  },
  {
   "cell_type": "code",
   "execution_count": 5,
   "metadata": {},
   "outputs": [
    {
     "output_type": "execute_result",
     "data": {
      "text/plain": [
       "<generator object generate_range at 0x000001A42CDA36C8>"
      ]
     },
     "metadata": {},
     "execution_count": 5
    }
   ],
   "source": [
    "generate_range(n=100000)    #No genera esos números en el momento, solo cuando yo los llame"
   ]
  },
  {
   "cell_type": "code",
   "execution_count": 7,
   "metadata": {},
   "outputs": [
    {
     "output_type": "stream",
     "name": "stdout",
     "text": [
      "Wall time: 10.4 s\n"
     ]
    }
   ],
   "source": [
    "%%time\n",
    "for i in generate_range(n=100000):\n",
    "    print(i, end=\"\\r\")"
   ]
  },
  {
   "cell_type": "code",
   "execution_count": null,
   "metadata": {},
   "outputs": [],
   "source": [
    "generate_range(10)"
   ]
  },
  {
   "cell_type": "code",
   "execution_count": 8,
   "metadata": {},
   "outputs": [
    {
     "output_type": "stream",
     "name": "stdout",
     "text": [
      "i: 0\ni: 1\ni: 2\ni: 3\ni: 4\ni: 5\ni: 6\ni: 7\ni: 8\ni: 9\n"
     ]
    }
   ],
   "source": [
    "for i in generate_range(10):    #Puedo usar generadores como funciones normales también\n",
    "    print(f\"i: {i}\")"
   ]
  },
  {
   "cell_type": "code",
   "execution_count": null,
   "metadata": {},
   "outputs": [],
   "source": [
    "x=2\n",
    "print(f\"X: {x}\")"
   ]
  },
  {
   "cell_type": "code",
   "execution_count": 21,
   "metadata": {},
   "outputs": [],
   "source": [
    "def check_prime(number):\n",
    "    \"\"\"\n",
    "    Calcula si un numero es primo\n",
    "    \"\"\"    \n",
    "    for divisor in range(2, int(number)//2 + 10):\n",
    "        if number % divisor == 0:\n",
    "            return False\n",
    "    return True\n",
    "        \n",
    "def primes(n):    \n",
    "    \"\"\"\n",
    "    Calcula todos los numero primos que hay hasta un numero x \n",
    "    y te retorna los primos\n",
    "    \"\"\"\n",
    "    number = 1\n",
    "    while number < n:        \n",
    "        number += 1        \n",
    "        if check_prime(number=number):           \n",
    "            yield number    \n"
   ]
  },
  {
   "cell_type": "code",
   "execution_count": 23,
   "metadata": {},
   "outputs": [
    {
     "output_type": "execute_result",
     "data": {
      "text/plain": [
       "<generator object primes at 0x000001A42CDA3748>"
      ]
     },
     "metadata": {},
     "execution_count": 23
    }
   ],
   "source": [
    "generator = primes(n=100)   # Esta función retorna un generador\n",
    "generator"
   ]
  },
  {
   "cell_type": "code",
   "execution_count": 18,
   "metadata": {},
   "outputs": [
    {
     "output_type": "execute_result",
     "data": {
      "text/plain": [
       "generator"
      ]
     },
     "metadata": {},
     "execution_count": 18
    }
   ],
   "source": [
    "type(generator)"
   ]
  },
  {
   "cell_type": "code",
   "execution_count": 19,
   "metadata": {},
   "outputs": [
    {
     "output_type": "execute_result",
     "data": {
      "text/plain": [
       "[19, 23, 29, 31, 37, 41, 43, 47, 53, 59, 61, 67, 71, 73, 79, 83, 89, 97]"
      ]
     },
     "metadata": {},
     "execution_count": 19
    }
   ],
   "source": [
    "list(generator) #Estos son los resultados de la función 'primes'"
   ]
  },
  {
   "cell_type": "code",
   "execution_count": 25,
   "metadata": {},
   "outputs": [
    {
     "output_type": "stream",
     "name": "stdout",
     "text": [
      "23\n"
     ]
    }
   ],
   "source": [
    "print(next(generator))  #Si si ejecutando esta celda me va dando todos los numero primos (los mismos de la lista anterior) uno a uno"
   ]
  },
  {
   "cell_type": "code",
   "execution_count": 26,
   "metadata": {},
   "outputs": [
    {
     "output_type": "stream",
     "name": "stdout",
     "text": [
      "29\n31\n37\n"
     ]
    }
   ],
   "source": [
    "# Estoy pidiendo los tres siguientes partiendo del ultimo retornado (en este caso el ultimo anterior fue 23)\n",
    "for i in range(3):\n",
    "    print(next(generator))"
   ]
  },
  {
   "cell_type": "code",
   "execution_count": 27,
   "metadata": {},
   "outputs": [
    {
     "output_type": "stream",
     "name": "stdout",
     "text": [
      "41\n"
     ]
    }
   ],
   "source": [
    "# Y sigue calculando el siguiente\n",
    "print(next(generator))"
   ]
  },
  {
   "cell_type": "code",
   "execution_count": 28,
   "metadata": {},
   "outputs": [
    {
     "output_type": "execute_result",
     "data": {
      "text/plain": [
       "[43, 47, 53, 59, 61, 67, 71, 73, 79, 83, 89, 97]"
      ]
     },
     "metadata": {},
     "execution_count": 28
    }
   ],
   "source": [
    "# Una lista de los siguientes\n",
    "list(generator)"
   ]
  },
  {
   "cell_type": "code",
   "execution_count": null,
   "metadata": {},
   "outputs": [],
   "source": [
    "# Si necesito guardar los retornos del generador puedo guardarlos en una lista, si no puedo simplemente usar next(generator)"
   ]
  },
  {
   "cell_type": "code",
   "execution_count": 35,
   "metadata": {},
   "outputs": [
    {
     "output_type": "stream",
     "name": "stdout",
     "text": [
      "0\n"
     ]
    }
   ],
   "source": [
    "def generate_con_return(n):\n",
    "    number = 0\n",
    "    while number < n:                 \n",
    "        yield number \n",
    "        number += 1    \n",
    "    return \"Fin\"\n",
    "\n",
    "x= generate_con_return(n=10)  \n",
    "print(next(x))  \n",
    "\n",
    "# No es normal que haya un return con un generador\n",
    "# Muestra el primer número, en este caso cero, pero como hay un return, la función vuelve a ejecutarse desde el principio (desde number =0, y no el while) y el número vuelve a ser cero"
   ]
  },
  {
   "cell_type": "code",
   "execution_count": 34,
   "metadata": {},
   "outputs": [],
   "source": [
    "# Conceptos del generador:\n",
    "\n",
    "# El generador no calcula todos los números de la secuencia (que puede ser infinita)\n",
    "# Cada vez que se llame al next, ejecutará una vez al 'yield' de la función\n",
    "# Cuando transformas el generador a otro tipo, por ejemplo list. Llama a next todas las veces posibles hasta terminar el bucle\n",
    "# Es útil cuando tienes que calcular una secuencia larga de números que solo vas a necesitar de uno en uno (con el next)\n"
   ]
  },
  {
   "cell_type": "code",
   "execution_count": null,
   "metadata": {},
   "outputs": [],
   "source": []
  }
 ]
}