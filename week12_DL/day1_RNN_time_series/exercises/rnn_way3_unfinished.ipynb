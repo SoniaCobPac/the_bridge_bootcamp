{
 "cells": [
  {
   "cell_type": "markdown",
   "metadata": {},
   "source": [
    "# 1\n",
    "\n",
    "#### En el ejemplo de teoría hemos visto la forma de entrenar utilizando un trozo de datos como en la imagen \"way1.png\". \n",
    "\n",
    "(Básicamente, tener en cuenta más datos de entrenamiento [[20% de test]])\n",
    "\n",
    "Investiga la forma de realizar el ejercicio a partir del gif \"way3_sliding_window.gif\":\n",
    "\n",
    "- ¿Da mejores resultados entrenar el modelo así?"
   ]
  },
  {
   "cell_type": "markdown",
   "metadata": {},
   "source": [
    "Algo muy típico en el trabajo de data scientist\n",
    "\n",
    "![](../rnn/sliding_windows_google.png)"
   ]
  },
  {
   "cell_type": "code",
   "execution_count": 197,
   "metadata": {},
   "outputs": [],
   "source": [
    "import pandas as pd\r\n",
    "import numpy as np\r\n",
    "import matplotlib.pyplot as plt\r\n",
    "\r\n",
    "from tensorflow.keras.models import Sequential\r\n",
    "from tensorflow.keras.layers import Dense, SimpleRNN, LSTM\r\n",
    "from tensorflow.keras.optimizers import RMSprop\r\n",
    "from tensorflow.keras.callbacks import Callback"
   ]
  },
  {
   "cell_type": "code",
   "execution_count": 198,
   "metadata": {},
   "outputs": [
    {
     "data": {
      "text/html": [
       "<div>\n",
       "<style scoped>\n",
       "    .dataframe tbody tr th:only-of-type {\n",
       "        vertical-align: middle;\n",
       "    }\n",
       "\n",
       "    .dataframe tbody tr th {\n",
       "        vertical-align: top;\n",
       "    }\n",
       "\n",
       "    .dataframe thead th {\n",
       "        text-align: right;\n",
       "    }\n",
       "</style>\n",
       "<table border=\"1\" class=\"dataframe\">\n",
       "  <thead>\n",
       "    <tr style=\"text-align: right;\">\n",
       "      <th></th>\n",
       "      <th>Data</th>\n",
       "    </tr>\n",
       "  </thead>\n",
       "  <tbody>\n",
       "    <tr>\n",
       "      <th>0</th>\n",
       "      <td>0.446773</td>\n",
       "    </tr>\n",
       "    <tr>\n",
       "      <th>1</th>\n",
       "      <td>-0.203874</td>\n",
       "    </tr>\n",
       "    <tr>\n",
       "      <th>2</th>\n",
       "      <td>0.260100</td>\n",
       "    </tr>\n",
       "    <tr>\n",
       "      <th>3</th>\n",
       "      <td>-0.550305</td>\n",
       "    </tr>\n",
       "    <tr>\n",
       "      <th>4</th>\n",
       "      <td>-0.462551</td>\n",
       "    </tr>\n",
       "  </tbody>\n",
       "</table>\n",
       "</div>"
      ],
      "text/plain": [
       "       Data\n",
       "0  0.446773\n",
       "1 -0.203874\n",
       "2  0.260100\n",
       "3 -0.550305\n",
       "4 -0.462551"
      ]
     },
     "execution_count": 198,
     "metadata": {},
     "output_type": "execute_result"
    }
   ],
   "source": [
    "# Total time points\r\n",
    "N = 3000\r\n",
    "# Time point to partition train/test splits\r\n",
    "Tp = int(0.8*N)   \r\n",
    "\r\n",
    "t=np.arange(0,N)\r\n",
    "x=(2*np.sin(0.02*t)*np.sin(0.003*t))+0.5*np.random.normal(size=N)\r\n",
    "df = pd.DataFrame(x, columns=['Data'])\r\n",
    "df.head()\r\n"
   ]
  },
  {
   "cell_type": "code",
   "execution_count": null,
   "metadata": {},
   "outputs": [],
   "source": []
  },
  {
   "cell_type": "code",
   "execution_count": 199,
   "metadata": {},
   "outputs": [],
   "source": [
    "def moving_window(data, window_length, step):\r\n",
    "    return [data[i: i + window_length] for i in range(0, (len(data)+1)-window_length, step)]\r\n",
    "    \r\n",
    "\r\n",
    "data = df\r\n",
    "y = moving_window(data, 200, 10)\r\n",
    "y = np.asarray(y)"
   ]
  },
  {
   "cell_type": "code",
   "execution_count": 200,
   "metadata": {},
   "outputs": [
    {
     "data": {
      "text/plain": [
       "(281, 200, 1)"
      ]
     },
     "execution_count": 200,
     "metadata": {},
     "output_type": "execute_result"
    }
   ],
   "source": [
    "y.shape"
   ]
  },
  {
   "cell_type": "code",
   "execution_count": 201,
   "metadata": {},
   "outputs": [],
   "source": [
    "\r\n",
    "# Time point to partition train/test splits\r\n",
    "window_length = 200\r\n",
    "t = int(window_length*0.8)\r\n",
    "\r\n",
    "train, test = y[:,0:t], y[:,t:window_length]"
   ]
  },
  {
   "cell_type": "code",
   "execution_count": 202,
   "metadata": {},
   "outputs": [
    {
     "name": "stdout",
     "output_type": "stream",
     "text": [
      "(281, 160, 1)\n"
     ]
    },
    {
     "data": {
      "text/plain": [
       "(281, 40, 1)"
      ]
     },
     "execution_count": 202,
     "metadata": {},
     "output_type": "execute_result"
    }
   ],
   "source": [
    "print(train.shape)\r\n",
    "test.shape"
   ]
  },
  {
   "cell_type": "code",
   "execution_count": 203,
   "metadata": {},
   "outputs": [],
   "source": [
    "step = 4\r\n",
    "\r\n",
    "# add step elements into train and test\r\n",
    "test_list=[]\r\n",
    "train_list = []\r\n",
    "for i in range(len(test)):\r\n",
    "    testing = np.append(test[i],np.repeat(test[i][-1,], step))\r\n",
    "    test_list.append(testing)\r\n",
    "    training = np.append(train[i],np.repeat(train[i,-1,], step))\r\n",
    "    train_list.append(training)\r\n",
    "\r\n",
    "test_list = np.array(test_list)\r\n",
    "train_list = np.array(train_list)"
   ]
  },
  {
   "cell_type": "code",
   "execution_count": 204,
   "metadata": {},
   "outputs": [
    {
     "data": {
      "text/plain": [
       "(281, 44)"
      ]
     },
     "execution_count": 204,
     "metadata": {},
     "output_type": "execute_result"
    }
   ],
   "source": [
    "test_list.shape"
   ]
  },
  {
   "cell_type": "code",
   "execution_count": 210,
   "metadata": {},
   "outputs": [],
   "source": [
    "# función para todas las ventanas\r\n",
    "def convertToMatrix(data, step):\r\n",
    "    X, Y =[], []\r\n",
    "    for i in range(len(data)-step):\r\n",
    "        d=i+step  \r\n",
    "        X.append(data[i:d,])\r\n",
    "        Y.append(data[d,])\r\n",
    "    return np.array(X), np.array(Y)\r\n",
    "\r\n",
    "def convertToWindowMatrix(data, step):\r\n",
    "    X, Y = [], []\r\n",
    "    for i in range(len(data)):\r\n",
    "        x, y = convertToMatrix(data[i], step)\r\n",
    "        X.append(x)\r\n",
    "        Y.append(y)\r\n",
    "    return np.array(X), np.array(Y)"
   ]
  },
  {
   "cell_type": "code",
   "execution_count": 211,
   "metadata": {},
   "outputs": [],
   "source": [
    "trainX,trainY = convertToWindowMatrix(train_list,step)\r\n",
    "testX,testY = convertToWindowMatrix(test_list,step)"
   ]
  },
  {
   "cell_type": "code",
   "execution_count": 212,
   "metadata": {},
   "outputs": [
    {
     "data": {
      "text/plain": [
       "46084"
      ]
     },
     "execution_count": 212,
     "metadata": {},
     "output_type": "execute_result"
    }
   ],
   "source": [
    "281*160+281*4"
   ]
  },
  {
   "cell_type": "code",
   "execution_count": 215,
   "metadata": {},
   "outputs": [
    {
     "data": {
      "text/plain": [
       "(281, 160, 4)"
      ]
     },
     "execution_count": 215,
     "metadata": {},
     "output_type": "execute_result"
    }
   ],
   "source": [
    "trainX.shape"
   ]
  },
  {
   "cell_type": "code",
   "execution_count": null,
   "metadata": {},
   "outputs": [],
   "source": []
  },
  {
   "cell_type": "code",
   "execution_count": null,
   "metadata": {},
   "outputs": [],
   "source": []
  },
  {
   "cell_type": "code",
   "execution_count": 63,
   "metadata": {},
   "outputs": [],
   "source": [
    "from tensorflow.keras.layers import Dense, SimpleRNN, LSTM\r\n",
    "\r\n",
    "def build_simple_rnn(num_units=128, embedding=10, num_dense=32, lr=0.001):    #embedding = step, lr=learning rate\r\n",
    "    \"\"\"\r\n",
    "    Builds and compiles a simple RNN model\r\n",
    "    Arguments:\r\n",
    "              num_units: Number of units of a the simple RNN layer\r\n",
    "              embedding: Embedding length\r\n",
    "              num_dense: Number of neurons in the dense layer followed by the RNN layer\r\n",
    "              lr: Learning rate (uses RMSprop optimizer)\r\n",
    "    Returns:\r\n",
    "              A compiled Keras model.\r\n",
    "    \"\"\"\r\n",
    "    model = Sequential()\r\n",
    "    # Long short term memory\r\n",
    "    model.add(LSTM(units=num_units, input_shape=(1, embedding), activation=\"relu\"))\r\n",
    "    model.add(Dense(num_dense, activation=\"relu\"))\r\n",
    "    model.add(Dense(1))\r\n",
    "    model.compile(loss='mean_squared_error', optimizer=RMSprop(learning_rate=lr),metrics=['mse'])\r\n",
    "    \r\n",
    "    return model"
   ]
  },
  {
   "cell_type": "code",
   "execution_count": null,
   "metadata": {},
   "outputs": [],
   "source": []
  },
  {
   "cell_type": "code",
   "execution_count": null,
   "metadata": {},
   "outputs": [],
   "source": []
  }
 ],
 "metadata": {
  "interpreter": {
   "hash": "2d8a740277f67c33143a8e5c8e55f738530a350d8def4a85d8635b690074994c"
  },
  "kernelspec": {
   "display_name": "Python 3.7.4 64-bit",
   "name": "python3"
  },
  "language_info": {
   "codemirror_mode": {
    "name": "ipython",
    "version": 3
   },
   "file_extension": ".py",
   "mimetype": "text/x-python",
   "name": "python",
   "nbconvert_exporter": "python",
   "pygments_lexer": "ipython3",
   "version": "3.7.4"
  },
  "orig_nbformat": 2
 },
 "nbformat": 4,
 "nbformat_minor": 2
}