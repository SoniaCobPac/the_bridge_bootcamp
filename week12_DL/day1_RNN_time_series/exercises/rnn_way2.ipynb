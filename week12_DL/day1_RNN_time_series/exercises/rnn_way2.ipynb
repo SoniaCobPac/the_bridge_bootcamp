{
 "cells": [
  {
   "cell_type": "markdown",
   "metadata": {},
   "source": [
    "# 1\n",
    "\n",
    "#### En el ejemplo de teoría hemos visto la forma de entrenar utilizando un trozo de datos como en la imagen \"way1.png\". \n",
    "\n",
    "(Básicamente, tener en cuenta más datos de entrenamiento [[20% de test]])\n",
    "\n",
    "Investiga la forma de realizar el ejercicio a partir del gif \"way3_sliding_window.gif\":\n",
    "\n",
    "- ¿Da mejores resultados entrenar el modelo así?"
   ]
  },
  {
   "cell_type": "markdown",
   "metadata": {},
   "source": [
    "Algo muy típico en el trabajo de data scientist\n",
    "\n",
    "![](../rnn/sliding_windows_google.png)"
   ]
  },
  {
   "cell_type": "code",
   "execution_count": 1,
   "metadata": {},
   "outputs": [],
   "source": [
    "import pandas as pd\r\n",
    "import numpy as np\r\n",
    "import matplotlib.pyplot as plt\r\n",
    "\r\n",
    "from tensorflow.keras.models import Sequential\r\n",
    "from tensorflow.keras.layers import Dense, SimpleRNN, LSTM\r\n",
    "from tensorflow.keras.optimizers import RMSprop\r\n",
    "from tensorflow.keras.callbacks import Callback"
   ]
  },
  {
   "cell_type": "code",
   "execution_count": 2,
   "metadata": {},
   "outputs": [],
   "source": [
    "# EN FUNCIONES"
   ]
  },
  {
   "cell_type": "code",
   "execution_count": 3,
   "metadata": {},
   "outputs": [],
   "source": [
    "# Total time points\r\n",
    "N = 3000\r\n",
    "# First partition\r\n",
    "P = int(N/3)\r\n",
    "# Train/test splits per partition\r\n",
    "Tp = int(0.8*P) \r\n",
    "\r\n",
    "\r\n",
    "# Second partition - train\r\n",
    "P2 = int(1.8*P)\r\n",
    "\r\n",
    "# Second partition - train/test\r\n",
    "Tp2 = P\r\n",
    "\r\n",
    "# Third partition - train\r\n",
    "P3 = 3000\r\n",
    "\r\n",
    "# Third partition - train/test\r\n",
    "Tp3 = P2\r\n",
    "\r\n",
    "\r\n",
    "t=np.arange(0,N)\r\n",
    "x=(2*np.sin(0.02*t)*np.sin(0.003*t))+0.5*np.random.normal(size=N)\r\n",
    "df = pd.DataFrame(x, columns=['Data'])\r\n"
   ]
  },
  {
   "cell_type": "code",
   "execution_count": 4,
   "metadata": {},
   "outputs": [
    {
     "name": "stdout",
     "output_type": "stream",
     "text": [
      "All data: 3000\n",
      "Data 1st partition: 1000\n",
      "Train data 1st partition: 800\n",
      "\n",
      "Data 2nd partition: 1800\n",
      "Train data 2nd partition: 1000\n",
      "\n",
      "Data 3rd partition: 3000\n",
      "Train data 3rd partition: 1800\n",
      "\n"
     ]
    }
   ],
   "source": [
    "print(f\"All data: {N}\")\r\n",
    "print(f\"Data 1st partition: {P}\")\r\n",
    "print(f\"Train data 1st partition: {Tp}\\n\")\r\n",
    "\r\n",
    "print(f\"Data 2nd partition: {P2}\")\r\n",
    "print(f\"Train data 2nd partition: {Tp2}\\n\")\r\n",
    "\r\n",
    "print(f\"Data 3rd partition: {P3}\")\r\n",
    "print(f\"Train data 3rd partition: {Tp3}\\n\")"
   ]
  },
  {
   "cell_type": "code",
   "execution_count": 5,
   "metadata": {},
   "outputs": [],
   "source": [
    "# All steps are done in small functions to then incorporate them to a larger one at the end. \r\n",
    "# This main function will return the accuracy of each iteration."
   ]
  },
  {
   "cell_type": "code",
   "execution_count": 6,
   "metadata": {},
   "outputs": [],
   "source": [
    "def train_test_split(Tp, P):\r\n",
    "    # train/test per partition\r\n",
    "    train, test = df.values[0:Tp ,:], df.values[Tp:P,:]\r\n",
    "    return train, test"
   ]
  },
  {
   "cell_type": "code",
   "execution_count": 7,
   "metadata": {},
   "outputs": [],
   "source": [
    "train, test = train_test_split(Tp, P)"
   ]
  },
  {
   "cell_type": "code",
   "execution_count": 8,
   "metadata": {},
   "outputs": [],
   "source": [
    "# step\r\n",
    "def step (n_step, test, train):\r\n",
    "\r\n",
    "    # add step elements into train and test\r\n",
    "    test = np.append(test, np.repeat(test[-1,], n_step))\r\n",
    "    train = np.append(train, np.repeat(train[-1,], n_step))\r\n",
    "    return train, test"
   ]
  },
  {
   "cell_type": "code",
   "execution_count": 9,
   "metadata": {},
   "outputs": [],
   "source": [
    "train, test = step(4, test, train)"
   ]
  },
  {
   "cell_type": "code",
   "execution_count": 10,
   "metadata": {},
   "outputs": [],
   "source": [
    "# converting to a multi-dimensional array\r\n",
    "def convertToMatrix(data, data1, n_step):\r\n",
    "    X, Y =[], []\r\n",
    "    X1,Y1 = [], []\r\n",
    "    # train\r\n",
    "    for i in range(len(data)-n_step):\r\n",
    "        d=i+n_step  \r\n",
    "        X.append(data[i:d,])\r\n",
    "        Y.append(data[d,])\r\n",
    "    # test\r\n",
    "    for i in range(len(data1)-n_step):\r\n",
    "        d=i+n_step  \r\n",
    "        X1.append(data1[i:d,])\r\n",
    "        Y1.append(data1[d,])\r\n",
    "        \r\n",
    "    return np.array(X), np.array(Y), np.array(X1), np.array(Y1)"
   ]
  },
  {
   "cell_type": "code",
   "execution_count": 11,
   "metadata": {},
   "outputs": [],
   "source": [
    "n_step = 4\r\n",
    "trainX,trainY, testX, testY = convertToMatrix(train, test, n_step)"
   ]
  },
  {
   "cell_type": "code",
   "execution_count": 12,
   "metadata": {},
   "outputs": [],
   "source": [
    "# reshape\r\n",
    "\r\n",
    "trainX = np.reshape(trainX, (trainX.shape[0], 1, trainX.shape[1]))\r\n",
    "testX = np.reshape(testX, (testX.shape[0], 1, testX.shape[1]))"
   ]
  },
  {
   "cell_type": "code",
   "execution_count": 13,
   "metadata": {},
   "outputs": [],
   "source": [
    "from tensorflow.keras.layers import Dense, SimpleRNN, LSTM\r\n",
    "\r\n",
    "def build_simple_rnn(num_units=128, embedding=4, num_dense=32, lr=0.001):    #embedding = step, lr=learning rate\r\n",
    "    \"\"\"\r\n",
    "    Builds and compiles a simple RNN model\r\n",
    "    Arguments:\r\n",
    "              num_units: Number of units of a the simple RNN layer\r\n",
    "              embedding: Embedding length\r\n",
    "              num_dense: Number of neurons in the dense layer followed by the RNN layer\r\n",
    "              lr: Learning rate (uses RMSprop optimizer)\r\n",
    "    Returns:\r\n",
    "              A compiled Keras model.\r\n",
    "    \"\"\"\r\n",
    "    model = Sequential()\r\n",
    "    # Long short term memory\r\n",
    "    model.add(LSTM(units=num_units, input_shape=(1, embedding), activation=\"relu\"))\r\n",
    "    model.add(Dense(num_dense, activation=\"relu\"))\r\n",
    "    model.add(Dense(1))\r\n",
    "    model.compile(loss='mean_squared_error', optimizer=RMSprop(learning_rate=lr),metrics=['mse'])\r\n",
    "    \r\n",
    "    return model"
   ]
  },
  {
   "cell_type": "code",
   "execution_count": 14,
   "metadata": {},
   "outputs": [],
   "source": [
    "class MyCallback(Callback):\r\n",
    "        def on_epoch_end(self, epoch, logs=None):\r\n",
    "            if (epoch+1) % 50 == 0 and epoch>0:\r\n",
    "                print(\"Epoch number {} done\".format(epoch+1))"
   ]
  },
  {
   "cell_type": "code",
   "execution_count": 15,
   "metadata": {},
   "outputs": [],
   "source": [
    "batch_size=16\r\n",
    "num_epochs = 1000\r\n",
    "\r\n",
    "def model_training(batch_size, num_epochs, trainX, trainY, model):\r\n",
    "    model.fit(trainX,trainY, \r\n",
    "            epochs=num_epochs, \r\n",
    "            batch_size=batch_size, \r\n",
    "            callbacks=[MyCallback()],verbose=0)"
   ]
  },
  {
   "cell_type": "code",
   "execution_count": 16,
   "metadata": {},
   "outputs": [],
   "source": [
    "def train_partition(Tp, P, n_step, data, data1, num_units, embedding, num_dense, lr, batch_size, num_epochs):\r\n",
    "    train, test = train_test_split(Tp, P)\r\n",
    "    train, test = step(n_step, test, train)\r\n",
    "    \r\n",
    "    \r\n",
    "    trainX,trainY, testX, testY = convertToMatrix(data, data1, n_step)\r\n",
    "    # reshape\r\n",
    "\r\n",
    "    trainX = np.reshape(trainX, (trainX.shape[0], 1, trainX.shape[1]))\r\n",
    "    testX = np.reshape(testX, (testX.shape[0], 1, testX.shape[1]))\r\n",
    "\r\n",
    "    # model\r\n",
    "    model = build_simple_rnn(num_units, embedding, num_dense, lr)\r\n",
    "\r\n",
    "    class MyCallback(Callback):\r\n",
    "        def on_epoch_end(self, epoch, logs=None):\r\n",
    "            if (epoch+1) % 50 == 0 and epoch>0:\r\n",
    "                print(\"Epoch number {} done\".format(epoch+1))\r\n",
    "        \r\n",
    "    model_training(batch_size, num_epochs, trainX, trainY, model)\r\n",
    "    #Accuracy\r\n",
    "    test_loss, test_acc = model.evaluate(testX, testY, verbose=2)\r\n",
    "    return ('\\nTest accuracy:', test_acc)"
   ]
  },
  {
   "cell_type": "code",
   "execution_count": 17,
   "metadata": {},
   "outputs": [
    {
     "name": "stdout",
     "output_type": "stream",
     "text": [
      "Epoch number 50 done\n",
      "Epoch number 100 done\n",
      "Epoch number 150 done\n",
      "Epoch number 200 done\n",
      "Epoch number 250 done\n",
      "Epoch number 300 done\n",
      "Epoch number 350 done\n",
      "Epoch number 400 done\n",
      "Epoch number 450 done\n",
      "Epoch number 500 done\n",
      "Epoch number 550 done\n",
      "Epoch number 600 done\n",
      "Epoch number 650 done\n",
      "Epoch number 700 done\n",
      "Epoch number 750 done\n",
      "Epoch number 800 done\n",
      "Epoch number 850 done\n",
      "Epoch number 900 done\n",
      "Epoch number 950 done\n",
      "Epoch number 1000 done\n",
      "7/7 - 0s - loss: 0.6485 - mse: 0.6485\n"
     ]
    },
    {
     "data": {
      "text/plain": [
       "('\\nTest accuracy:', 0.6485034227371216)"
      ]
     },
     "execution_count": 17,
     "metadata": {},
     "output_type": "execute_result"
    }
   ],
   "source": [
    "# 1st partition\r\n",
    "acc1 = train_partition(Tp, P, n_step=4, data=train, data1=test, num_units=128, embedding=4, num_dense=32, lr=0.001, batch_size=16, num_epochs=1000)\r\n",
    "acc1"
   ]
  },
  {
   "cell_type": "code",
   "execution_count": 18,
   "metadata": {},
   "outputs": [
    {
     "name": "stdout",
     "output_type": "stream",
     "text": [
      "Epoch number 50 done\n",
      "Epoch number 100 done\n",
      "Epoch number 150 done\n",
      "Epoch number 200 done\n",
      "Epoch number 250 done\n",
      "Epoch number 300 done\n",
      "Epoch number 350 done\n",
      "Epoch number 400 done\n",
      "Epoch number 450 done\n",
      "Epoch number 500 done\n",
      "Epoch number 550 done\n",
      "Epoch number 600 done\n",
      "Epoch number 650 done\n",
      "Epoch number 700 done\n",
      "Epoch number 750 done\n",
      "Epoch number 800 done\n",
      "Epoch number 850 done\n",
      "Epoch number 900 done\n",
      "Epoch number 950 done\n",
      "Epoch number 1000 done\n",
      "7/7 - 0s - loss: 0.6480 - mse: 0.6480\n"
     ]
    },
    {
     "data": {
      "text/plain": [
       "('\\nTest accuracy:', 0.6480241417884827)"
      ]
     },
     "execution_count": 18,
     "metadata": {},
     "output_type": "execute_result"
    }
   ],
   "source": [
    "# 2nd partition\r\n",
    "acc2 = train_partition(Tp2, P2, n_step=4, data=train, data1=test, num_units=128, embedding=4, num_dense=32, lr=0.001, batch_size=16, num_epochs=1000)\r\n",
    "acc2"
   ]
  },
  {
   "cell_type": "code",
   "execution_count": 19,
   "metadata": {},
   "outputs": [
    {
     "name": "stdout",
     "output_type": "stream",
     "text": [
      "Epoch number 50 done\n",
      "Epoch number 100 done\n",
      "Epoch number 150 done\n",
      "Epoch number 200 done\n",
      "Epoch number 250 done\n",
      "Epoch number 300 done\n",
      "Epoch number 350 done\n",
      "Epoch number 400 done\n",
      "Epoch number 450 done\n",
      "Epoch number 500 done\n",
      "Epoch number 550 done\n",
      "Epoch number 600 done\n",
      "Epoch number 650 done\n",
      "Epoch number 700 done\n",
      "Epoch number 750 done\n",
      "Epoch number 800 done\n",
      "Epoch number 850 done\n",
      "Epoch number 900 done\n",
      "Epoch number 950 done\n",
      "Epoch number 1000 done\n",
      "7/7 - 0s - loss: 0.6114 - mse: 0.6114\n"
     ]
    },
    {
     "data": {
      "text/plain": [
       "('\\nTest accuracy:', 0.6113775372505188)"
      ]
     },
     "execution_count": 19,
     "metadata": {},
     "output_type": "execute_result"
    }
   ],
   "source": [
    "# 3rd partition\r\n",
    "acc3 = train_partition(Tp3, P3, n_step=4, data=train, data1=test, num_units=128, embedding=4, num_dense=32, lr=0.001, batch_size=16, num_epochs=1000)\r\n",
    "acc3"
   ]
  },
  {
   "cell_type": "code",
   "execution_count": 20,
   "metadata": {},
   "outputs": [
    {
     "data": {
      "text/html": [
       "<div>\n",
       "<style scoped>\n",
       "    .dataframe tbody tr th:only-of-type {\n",
       "        vertical-align: middle;\n",
       "    }\n",
       "\n",
       "    .dataframe tbody tr th {\n",
       "        vertical-align: top;\n",
       "    }\n",
       "\n",
       "    .dataframe thead th {\n",
       "        text-align: right;\n",
       "    }\n",
       "</style>\n",
       "<table border=\"1\" class=\"dataframe\">\n",
       "  <thead>\n",
       "    <tr style=\"text-align: right;\">\n",
       "      <th></th>\n",
       "      <th>Accuracy</th>\n",
       "    </tr>\n",
       "  </thead>\n",
       "  <tbody>\n",
       "    <tr>\n",
       "      <th>0</th>\n",
       "      <td>0.648503</td>\n",
       "    </tr>\n",
       "    <tr>\n",
       "      <th>1</th>\n",
       "      <td>0.648024</td>\n",
       "    </tr>\n",
       "    <tr>\n",
       "      <th>2</th>\n",
       "      <td>0.611378</td>\n",
       "    </tr>\n",
       "  </tbody>\n",
       "</table>\n",
       "</div>"
      ],
      "text/plain": [
       "   Accuracy\n",
       "0  0.648503\n",
       "1  0.648024\n",
       "2  0.611378"
      ]
     },
     "execution_count": 20,
     "metadata": {},
     "output_type": "execute_result"
    }
   ],
   "source": [
    "import pandas as pd \r\n",
    "list_acc = [acc1[1], acc2[1], acc3[1]]\r\n",
    "df = pd.DataFrame(list_acc, columns=[\"Accuracy\"])\r\n",
    "df"
   ]
  },
  {
   "cell_type": "code",
   "execution_count": null,
   "metadata": {},
   "outputs": [],
   "source": []
  }
 ],
 "metadata": {
  "interpreter": {
   "hash": "2d8a740277f67c33143a8e5c8e55f738530a350d8def4a85d8635b690074994c"
  },
  "kernelspec": {
   "display_name": "Python 3.7.4 64-bit",
   "name": "python3"
  },
  "language_info": {
   "codemirror_mode": {
    "name": "ipython",
    "version": 3
   },
   "file_extension": ".py",
   "mimetype": "text/x-python",
   "name": "python",
   "nbconvert_exporter": "python",
   "pygments_lexer": "ipython3",
   "version": "3.7.4"
  },
  "orig_nbformat": 2
 },
 "nbformat": 4,
 "nbformat_minor": 2
}