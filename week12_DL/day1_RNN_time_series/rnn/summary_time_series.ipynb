{
 "cells": [
  {
   "cell_type": "code",
   "execution_count": null,
   "metadata": {},
   "outputs": [],
   "source": [
    "Red Neuronal recursiva en series temporales\r\n",
    "\r\n",
    "1. Analizamos los datos y vemos si se repite comportamiento a lo largo del tiempo \r\n",
    "2. Definimos el timpo de entrenamiento que vamos a utilizar:\r\n",
    "2.1 Si los datos se repiten a lo largo del tiempo (estacionalidad) -> entrenamos el modelo dándole como dato de entrenamiento \r\n",
    "una parte bien representativa de todo el conjunto de datos. \r\n",
    "2.2 Si los datos no se repiten -> Tenemos que entrenar dándole poco a poco todo el conjunto de datos \r\n",
    "\r\n",
    "3. Repetimos los 'step' últimos valores del conjunto de entrenamiento y de test \r\n",
    "4. Transformamos o redimensionamos los datos de entrenamiento y de test para que tengan la forma de (nº batches, fila, step/embedding)\r\n",
    "5. Entrenamos el modelo utilizando RNN, SimpleRNN, LSTM, etc \r\n",
    "6. Dependiendo del resultado probamos diferentes arquitecturas, tamaño de ventana (step), batch size, epoch, etc \r\n",
    "7. Nos quedamos con el mejor modelo\r\n"
   ]
  }
 ],
 "metadata": {
  "interpreter": {
   "hash": "2d8a740277f67c33143a8e5c8e55f738530a350d8def4a85d8635b690074994c"
  },
  "kernelspec": {
   "display_name": "Python 3.7.4 64-bit",
   "name": "python3"
  },
  "language_info": {
   "name": "python",
   "version": ""
  },
  "orig_nbformat": 4
 },
 "nbformat": 4,
 "nbformat_minor": 2
}