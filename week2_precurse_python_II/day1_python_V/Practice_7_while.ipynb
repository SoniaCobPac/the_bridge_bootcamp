{
 "cells": [
  {
   "cell_type": "markdown",
   "metadata": {},
   "source": [
    "# Python | day 6 | while"
   ]
  },
  {
   "cell_type": "markdown",
   "metadata": {},
   "source": [
    "With the **while** loop we can execute a set of statements as long as a condition is true."
   ]
  },
  {
   "cell_type": "markdown",
   "metadata": {},
   "source": [
    "```python\n",
    "i = 1\n",
    "while i < 6:\n",
    "  print(i)\n",
    "  i += 1\n",
    "```"
   ]
  },
  {
   "cell_type": "markdown",
   "metadata": {},
   "source": [
    "https://www.w3schools.com/python/python_while_loops.asp"
   ]
  },
  {
   "cell_type": "markdown",
   "metadata": {},
   "source": [
    "### Exercise 1. "
   ]
  },
  {
   "cell_type": "markdown",
   "metadata": {},
   "source": [
    "Do as described below:\n",
    "\n",
    "- Make a variable called strength, and set its initial value to 5.\n",
    "\n",
    "- Print a message reporting the player's strength.\n",
    "\n",
    "- Set up a while loop that runs until the player's strength increases to a value such as 10.\n",
    "\n",
    "- Inside the while loop, print a message that reports the player's current strength.\n",
    "\n",
    "- Inside the while loop, write a statement that increases the player's strength.\n",
    "\n",
    "- Outside the while loop, print a message reporting that the player has grown too strong, and that they have moved up to a new level of the game.\n",
    "\n",
    "Play around with different cutoff levels for the value of strength, and play around with different ways to increase the strength value within the while loop.\n"
   ]
  },
  {
   "cell_type": "code",
   "execution_count": 2,
   "metadata": {},
   "outputs": [],
   "source": [
    "# Make a variable called strength, and set its initial value to 5.\n",
    "strength = 5\n"
   ]
  },
  {
   "cell_type": "code",
   "execution_count": 3,
   "metadata": {},
   "outputs": [
    {
     "output_type": "stream",
     "name": "stdout",
     "text": [
      "The player's strength is 5\n"
     ]
    }
   ],
   "source": [
    "\n",
    "# Print a message reporting the player's strength.\n",
    "print(f\"The player's strength is {strength}\")\n",
    "\n",
    "# Set up a while loop that runs until the player's strength increases to a value such as 10.\n",
    "\n",
    "while strength < 10:\n",
    "    strength += 1\n",
    "    \n",
    "# Inside the while loop, print a message that reports the player's current strength.\n",
    "while strength < 10:\n",
    "    strength += 1\n",
    "    print(f\"Player's current strength: {strength}\")\n",
    "\n",
    "# Inside the while loop, write a statement that increases the player's strength.\n",
    "\n",
    "while strength < 10:\n",
    "    strength += 1\n",
    "    print(f\"Player's current strength: {strength}\")\n",
    "    print(f\"Player's strengh increased by one\")\n"
   ]
  },
  {
   "cell_type": "code",
   "execution_count": 4,
   "metadata": {},
   "outputs": [
    {
     "output_type": "stream",
     "name": "stdout",
     "text": [
      "The player is too strong! --> Level up!\n"
     ]
    }
   ],
   "source": [
    "# Outside the while loop, print a message reporting that the player has grown too strong, and that they have moved up to a new level of the game.\n",
    "\n",
    "while strength < 10:\n",
    "    strength += 1\n",
    "    print(f\"Player's current strength: {strength}\")\n",
    "    print(\"Player's strengh increased by one\")\n",
    "print(\"The player is too strong! --> Level up!\")"
   ]
  },
  {
   "cell_type": "markdown",
   "metadata": {},
   "source": [
    "### Exercise 2. "
   ]
  },
  {
   "cell_type": "markdown",
   "metadata": {},
   "source": [
    "To solve the following exercises it will be necessary to define a function for each section. You choose the name of those functions unless specified, but make sure you define a single parameter `whichever_list`, when calling the function it will correspond to the variable `info_list`."
   ]
  },
  {
   "cell_type": "code",
   "execution_count": 5,
   "metadata": {},
   "outputs": [],
   "source": [
    "# you can use this list or take yours from Practice 3\n",
    "info_list = [15, 'Recoletos', True, ['Recoletos', 15],  None, '8'] "
   ]
  },
  {
   "cell_type": "markdown",
   "metadata": {},
   "source": [
    "You have already read these questions below, but this time you are asked to solve it using `while` loop instead of `for`. \n",
    "\n",
    "   - Loop through `whichever_list` to print all the elements it contains. This function should return the list turned into a tuple. \n",
    "   - Loop through `whichever_list` to print all the elements it contains concatenated with the string` \"--> OK\" `. This function should return a message saying, `\"everything will be ok\"`. \n",
    "   - Loop through `whichever_list` to display all items it contains except the first one. This function should return the first element of the list. \n",
    "   - Loop through `whichever_list` to display all the items it contains except the last one. This function should return the last element of the list. "
   ]
  },
  {
   "cell_type": "code",
   "execution_count": 6,
   "metadata": {
    "tags": []
   },
   "outputs": [
    {
     "output_type": "stream",
     "name": "stdout",
     "text": [
      "15\nRecoletos\nTrue\n['Recoletos', 15]\nNone\n8\n(15, 'Recoletos', True, ['Recoletos', 15], None, '8')\n"
     ]
    }
   ],
   "source": [
    "# Loop through `whichever_list` to print all the elements it contains. This function should return the list turned into a tuple. \n",
    "\n",
    "def full_list (whichever_list):\n",
    "    \"\"\"\n",
    "    Given a list as an argument, this function prints all its elements \n",
    "    and returns the list turned into a tuple.\n",
    "\n",
    "    \"\"\"\n",
    "    contador = 0\n",
    "    while contador < len(whichever_list):\n",
    "        print(whichever_list[contador])\n",
    "        contador +=1\n",
    "\n",
    "    return tuple(whichever_list)\n",
    "\n",
    "x = full_list(info_list)\n",
    "print(x)"
   ]
  },
  {
   "cell_type": "code",
   "execution_count": 7,
   "metadata": {},
   "outputs": [
    {
     "output_type": "stream",
     "name": "stdout",
     "text": [
      "15--> OK\nRecoletos--> OK\nTrue--> OK\n['Recoletos', 15]--> OK\nNone--> OK\n8--> OK\neverthing will be ok\n"
     ]
    }
   ],
   "source": [
    "# Loop through `whichever_list` to print all the elements it contains concatenated with the string` \"--> OK\" `. This function should return a message saying, `\"everything will be ok\"`. \n",
    "\n",
    "def concatenated (whichever_list):\n",
    "    \"\"\"\n",
    "    Given a list as an argument, this function prints all its elements \n",
    "    concatenated with the string \"---> OK\"\n",
    "    and returns a message saying, `\"everything will be ok\".\n",
    "\n",
    "    \"\"\"\n",
    "    contador = 0\n",
    "    while contador < len(whichever_list):\n",
    "        print(f\"{whichever_list[contador]}--> OK\")\n",
    "        contador +=1\n",
    "\n",
    "    return \"everthing will be ok\"\n",
    "\n",
    "x = concatenated(info_list)\n",
    "\n",
    "print(x)"
   ]
  },
  {
   "cell_type": "code",
   "execution_count": 8,
   "metadata": {},
   "outputs": [
    {
     "output_type": "stream",
     "name": "stdout",
     "text": [
      "Recoletos\nTrue\n['Recoletos', 15]\nNone\n8\n15\n"
     ]
    }
   ],
   "source": [
    "# Loop through `whichever_list` to display all items it contains except the first one. This function should return the first element of the list. \n",
    "\n",
    "def first_one_out(whichever_list):\n",
    "    \"\"\"\n",
    "    Given a list as an argument, \n",
    "    this function prints its items except the first one.\n",
    "    It returns the first element of the list.\n",
    "\n",
    "    \"\"\"\n",
    "    contador = 1\n",
    "    while contador < len(whichever_list):\n",
    "        print(whichever_list[contador])\n",
    "        contador +=1\n",
    "    return whichever_list[0]\n",
    "\n",
    "x = first_one_out(info_list)\n",
    "\n",
    "print(x)"
   ]
  },
  {
   "cell_type": "code",
   "execution_count": 9,
   "metadata": {},
   "outputs": [],
   "source": [
    "# Loop through `whichever_list` to display all the items it contains except the last one. This function should return the last element of the list. "
   ]
  },
  {
   "cell_type": "code",
   "execution_count": 10,
   "metadata": {},
   "outputs": [
    {
     "output_type": "stream",
     "name": "stdout",
     "text": [
      "15\nRecoletos\nTrue\n['Recoletos', 15]\nNone\n8\n"
     ]
    }
   ],
   "source": [
    "\n",
    "def last_one_out(whichever_list):\n",
    "    \"\"\"\n",
    "    Given a list as an argument, \n",
    "    this function prints its items except the last one.\n",
    "    It returns the last element of the list.\n",
    "\n",
    "    \"\"\"\n",
    "\n",
    "    contador = 0\n",
    "    while contador < len(whichever_list) - 1:\n",
    "        print(whichever_list[contador])\n",
    "        contador +=1\n",
    "\n",
    "    return whichever_list[-1]\n",
    "\n",
    "x = last_one_out(info_list)\n",
    "\n",
    "print(x)"
   ]
  },
  {
   "cell_type": "markdown",
   "metadata": {},
   "source": [
    "### Exercise 3. "
   ]
  },
  {
   "cell_type": "markdown",
   "metadata": {},
   "source": [
    "1. Define a function that performs the [Fibonacci series](https://quantdare.com/numeros-de-fibonacci/#:~:text=En%20matem%C3%A1ticas%2C%20la%20sucesi%C3%B3n%20o,nombre%20de%20n%C3%BAmero%20de%20Fibonacci.) with a `while`."
   ]
  },
  {
   "cell_type": "code",
   "execution_count": 11,
   "metadata": {
    "tags": []
   },
   "outputs": [
    {
     "output_type": "stream",
     "name": "stdout",
     "text": [
      "0\n1\n1\n2\n3\n5\n8\n13\n21\n"
     ]
    }
   ],
   "source": [
    "def fibonacci (serie_lenght):\n",
    "    \"\"\"\n",
    "    This functions performs the Fibonacci series.\n",
    "    Each number is the sum of the two preceding ones, starting from 0 and 1. \n",
    "\n",
    "    Argument: An int from where to start the serie\n",
    "\n",
    "    \"\"\"\n",
    "    \n",
    "    primero = 0\n",
    "    segundo = 1\n",
    "    suma = 0\n",
    "    contador = 1\n",
    "    while contador < serie_lenght:\n",
    "        print(suma)\n",
    "        contador +=1\n",
    "        primero = segundo\n",
    "        segundo = suma\n",
    "        suma = primero + segundo\n",
    "\n",
    "fibonacci (serie_lenght=10)"
   ]
  },
  {
   "cell_type": "code",
   "execution_count": null,
   "metadata": {},
   "outputs": [],
   "source": []
  },
  {
   "cell_type": "markdown",
   "metadata": {},
   "source": [
    "### Bonus Track."
   ]
  },
  {
   "cell_type": "markdown",
   "metadata": {},
   "source": [
    "To solve the following exercises it will be necessary to define a function for each section. You choose the name of those functions unless specified, but make sure you define a single parameter `whichever_list`, when calling the function it will correspond to the variable `info_list`."
   ]
  },
  {
   "cell_type": "code",
   "execution_count": 12,
   "metadata": {},
   "outputs": [],
   "source": [
    "# you can use this list or take yours from Practice 3\n",
    "info_list = [15, 'Recoletos', True, ['Recoletos', 15],  None, '8'] "
   ]
  },
  {
   "cell_type": "markdown",
   "metadata": {},
   "source": [
    "1. Define a function `f_s` that saves the value of a word (for example: \"nothing\") in a variable and print it. Also, concatenate its value with the street number of The Bridge and display it on the screen. \n",
    "\n",
    "   Also, display a boolean **True** if the length of the concatenated word is 6. If not, it will be **False**. The function must return the value **True** or **False**."
   ]
  },
  {
   "cell_type": "code",
   "execution_count": 13,
   "metadata": {},
   "outputs": [
    {
     "output_type": "stream",
     "name": "stdout",
     "text": [
      "nothing\nFalse\n"
     ]
    }
   ],
   "source": [
    "def f_s(whichever_list):\n",
    "    \"\"\"\n",
    "    \n",
    "    \"\"\"\n",
    "    palabra = \"nothing\"\n",
    "    print(palabra)\n",
    "\n",
    "    (str(whichever_list[0]) + palabra)         \n",
    "\n",
    "    while len(str(whichever_list[0]) + palabra) == 6:\n",
    "        output = True   \n",
    "    else:\n",
    "        output = False\n",
    "    return output\n",
    "\n",
    "x = f_s(info_list)\n",
    "\n",
    "print(x)"
   ]
  },
  {
   "cell_type": "markdown",
   "metadata": {},
   "source": [
    "2. Create a list `list_aux` with 7 elements, whichever you want. Next, create a function `function_use_f_s` which receives as parameters a function `some_function`, a word which is the argument of `some_funtion` and whichever list `whichever_list`. If the value of `some_function` is **True**, then delete an item from `whichever_list`. Repeat the process until `whichever_list` has no elements. The argument for `whichever_list` must be `list_aux` and for `some_function` it will be the function `f_s` from the previous point."
   ]
  },
  {
   "cell_type": "code",
   "execution_count": 15,
   "metadata": {},
   "outputs": [
    {
     "output_type": "stream",
     "name": "stdout",
     "text": [
      "nothing\nFalse\nnothing\n"
     ]
    },
    {
     "output_type": "error",
     "ename": "NameError",
     "evalue": "name 'word' is not defined",
     "traceback": [
      "\u001b[1;31m---------------------------------------------------------------------------\u001b[0m",
      "\u001b[1;31mNameError\u001b[0m                                 Traceback (most recent call last)",
      "\u001b[1;32m<ipython-input-15-fd6b95ff1bf1>\u001b[0m in \u001b[0;36m<module>\u001b[1;34m\u001b[0m\n\u001b[0;32m     29\u001b[0m \u001b[0mprint\u001b[0m\u001b[1;33m(\u001b[0m\u001b[0mf_s\u001b[0m\u001b[1;33m(\u001b[0m\u001b[0minfo_list\u001b[0m\u001b[1;33m)\u001b[0m\u001b[1;33m)\u001b[0m\u001b[1;33m\u001b[0m\u001b[1;33m\u001b[0m\u001b[0m\n\u001b[0;32m     30\u001b[0m \u001b[1;33m\u001b[0m\u001b[0m\n\u001b[1;32m---> 31\u001b[1;33m \u001b[0mprint\u001b[0m\u001b[1;33m(\u001b[0m\u001b[0mfunction_use_f_s\u001b[0m\u001b[1;33m(\u001b[0m\u001b[0msome_function\u001b[0m\u001b[1;33m(\u001b[0m\u001b[0mf_s\u001b[0m\u001b[1;33m(\u001b[0m\u001b[0minfo_list\u001b[0m\u001b[1;33m)\u001b[0m\u001b[1;33m)\u001b[0m\u001b[1;33m,\u001b[0m \u001b[0mf_s\u001b[0m\u001b[1;33m(\u001b[0m\u001b[0minfo_list\u001b[0m\u001b[1;33m)\u001b[0m\u001b[1;33m,\u001b[0m \u001b[0mlist_aux\u001b[0m\u001b[1;33m)\u001b[0m\u001b[1;33m)\u001b[0m\u001b[1;33m\u001b[0m\u001b[1;33m\u001b[0m\u001b[0m\n\u001b[0m\u001b[0;32m     32\u001b[0m \u001b[1;33m\u001b[0m\u001b[0m\n\u001b[0;32m     33\u001b[0m \u001b[1;31m# No entiendo por qué el bool no se puede comparar con True\u001b[0m\u001b[1;33m\u001b[0m\u001b[1;33m\u001b[0m\u001b[1;33m\u001b[0m\u001b[0m\n",
      "\u001b[1;32m<ipython-input-15-fd6b95ff1bf1>\u001b[0m in \u001b[0;36msome_function\u001b[1;34m(argument_some_function)\u001b[0m\n\u001b[0;32m      7\u001b[0m \u001b[1;33m\u001b[0m\u001b[0m\n\u001b[0;32m      8\u001b[0m     \"\"\"\n\u001b[1;32m----> 9\u001b[1;33m     \u001b[1;32mif\u001b[0m \u001b[0mtype\u001b[0m\u001b[1;33m(\u001b[0m\u001b[0mword\u001b[0m\u001b[1;33m)\u001b[0m \u001b[1;33m==\u001b[0m \u001b[0mbool\u001b[0m\u001b[1;33m:\u001b[0m\u001b[1;33m\u001b[0m\u001b[1;33m\u001b[0m\u001b[0m\n\u001b[0m\u001b[0;32m     10\u001b[0m         \u001b[0moutput\u001b[0m \u001b[1;33m=\u001b[0m \u001b[1;32mTrue\u001b[0m\u001b[1;33m\u001b[0m\u001b[1;33m\u001b[0m\u001b[0m\n\u001b[0;32m     11\u001b[0m     \u001b[1;32melse\u001b[0m\u001b[1;33m:\u001b[0m\u001b[1;33m\u001b[0m\u001b[1;33m\u001b[0m\u001b[0m\n",
      "\u001b[1;31mNameError\u001b[0m: name 'word' is not defined"
     ]
    }
   ],
   "source": [
    "list_aux = [\"rojo\", \"blanco\", \"negro\", \"amarillo\", \"azul\", \"verde\", \"rosa\"]\n",
    "\n",
    "def some_function (argument_some_function):\n",
    "    \"\"\"\n",
    "    This function checks if its parameter is a boolean or not\n",
    "    Argument: Another function\n",
    "    \n",
    "    \"\"\"\n",
    "    if type(word) == bool:\n",
    "        output = True\n",
    "    else:\n",
    "        output = False\n",
    "    return output\n",
    "        \n",
    "def function_use_f_s(some_function, argument_some_function, whichever_list):\n",
    "    \"\"\"\n",
    "    This function delete an item from 'whichever_list' if the value of 'some_function' is True.\n",
    "    It repeats the process until 'whichever_list' has no elements. \n",
    "\n",
    "    Arguments: A function 'some_function', a word which is the argument of 'some_funtion' and whichever list 'whichever_list'. The       argument for 'whichever_list' must be 'list_aux' and for 'some_function' it is the function 'f_s'.\n",
    "\n",
    "    \"\"\"\n",
    "\n",
    "    while some_function(f_s(info_list)) == True:\n",
    "        whichever_list.pop()\n",
    "        print(whichever_list)\n",
    "\n",
    "\n",
    "print(f_s(info_list))\n",
    "\n",
    "print(function_use_f_s(some_function(f_s(info_list)), f_s(info_list), list_aux))\n",
    "\n",
    "# No entiendo por qué el bool no se puede comparar con True"
   ]
  },
  {
   "cell_type": "code",
   "execution_count": null,
   "metadata": {},
   "outputs": [],
   "source": []
  },
  {
   "cell_type": "markdown",
   "metadata": {},
   "source": [
    "3. Define a function `even_numbers` that has an input parameter `arg1`, type integer. The function must return a list of numbers of size `arg1`, all of them being even numbers. \n",
    "\n",
    "   Don't use the function `print()` inside the function, but print what `even_numbers` returns when calling it with the argument `10`, just to check your function works.\n",
    "   \n",
    "```python\n",
    "print(even_numbers(10))\n",
    "```"
   ]
  },
  {
   "cell_type": "code",
   "execution_count": 25,
   "metadata": {
    "tags": []
   },
   "outputs": [
    {
     "output_type": "error",
     "ename": "NameError",
     "evalue": "name 'ele' is not defined",
     "traceback": [
      "\u001b[1;31m---------------------------------------------------------------------------\u001b[0m",
      "\u001b[1;31mNameError\u001b[0m                                 Traceback (most recent call last)",
      "\u001b[1;32m<ipython-input-25-6d452556f560>\u001b[0m in \u001b[0;36m<module>\u001b[1;34m\u001b[0m\n\u001b[0;32m     16\u001b[0m     \u001b[1;32mreturn\u001b[0m \u001b[0mlista\u001b[0m\u001b[1;33m\u001b[0m\u001b[1;33m\u001b[0m\u001b[0m\n\u001b[0;32m     17\u001b[0m \u001b[1;33m\u001b[0m\u001b[0m\n\u001b[1;32m---> 18\u001b[1;33m \u001b[0mprint\u001b[0m\u001b[1;33m(\u001b[0m\u001b[0meven_numbers\u001b[0m\u001b[1;33m(\u001b[0m\u001b[1;36m10\u001b[0m\u001b[1;33m)\u001b[0m\u001b[1;33m)\u001b[0m\u001b[1;33m\u001b[0m\u001b[1;33m\u001b[0m\u001b[0m\n\u001b[0m",
      "\u001b[1;32m<ipython-input-25-6d452556f560>\u001b[0m in \u001b[0;36meven_numbers\u001b[1;34m(arg1)\u001b[0m\n\u001b[0;32m     12\u001b[0m         \u001b[1;32mfor\u001b[0m \u001b[0melem\u001b[0m \u001b[1;32min\u001b[0m \u001b[1;33m(\u001b[0m\u001b[0mlista\u001b[0m\u001b[1;33m)\u001b[0m\u001b[1;33m:\u001b[0m\u001b[1;33m\u001b[0m\u001b[1;33m\u001b[0m\u001b[0m\n\u001b[0;32m     13\u001b[0m             \u001b[1;32mif\u001b[0m \u001b[1;33m(\u001b[0m\u001b[0melem\u001b[0m \u001b[1;33m%\u001b[0m \u001b[1;36m2\u001b[0m\u001b[1;33m)\u001b[0m \u001b[1;33m==\u001b[0m \u001b[1;36m0\u001b[0m\u001b[1;33m:\u001b[0m\u001b[1;33m\u001b[0m\u001b[1;33m\u001b[0m\u001b[0m\n\u001b[1;32m---> 14\u001b[1;33m                 \u001b[0mlista\u001b[0m\u001b[1;33m.\u001b[0m\u001b[0mappend\u001b[0m\u001b[1;33m(\u001b[0m\u001b[0mele\u001b[0m\u001b[1;33m)\u001b[0m\u001b[1;33m\u001b[0m\u001b[1;33m\u001b[0m\u001b[0m\n\u001b[0m\u001b[0;32m     15\u001b[0m \u001b[1;33m\u001b[0m\u001b[0m\n\u001b[0;32m     16\u001b[0m     \u001b[1;32mreturn\u001b[0m \u001b[0mlista\u001b[0m\u001b[1;33m\u001b[0m\u001b[1;33m\u001b[0m\u001b[0m\n",
      "\u001b[1;31mNameError\u001b[0m: name 'ele' is not defined"
     ]
    }
   ],
   "source": [
    "def even_numbers(arg1):\n",
    "    \"\"\"\n",
    "    Given an integer, the function returns a list of numbers \n",
    "    of the same size than the parameter, \n",
    "    all of them being even numbers.\n",
    "\n",
    "    \"\"\"\n",
    "    \n",
    "    lista= []\n",
    "    while type(arg1) == int:\n",
    "        lista = list(range(arg1*2))\n",
    "        for elem in (lista):\n",
    "            if (elem % 2) == 0:\n",
    "                lista.append(ele)\n",
    "    \n",
    "    return lista    \n",
    "\n",
    "print(even_numbers(10))\n"
   ]
  },
  {
   "cell_type": "code",
   "execution_count": 1,
   "metadata": {},
   "outputs": [
    {
     "output_type": "stream",
     "name": "stdout",
     "text": [
      "0\n2\n4\n6\n8\n10\n12\n14\n16\n18\n"
     ]
    }
   ],
   "source": [
    "# sin usar el while la función seria:\n",
    "\n",
    "def even_numbers(arg1):\n",
    "    \"\"\"\n",
    "    Given an integer, the function returns a list of numbers \n",
    "    of the same size than the parameter, \n",
    "    all of them being even numbers.\n",
    "\n",
    "    \"\"\"\n",
    "    lista= []\n",
    "    \n",
    "    lista = list(range(arg1*2))\n",
    "    for elem in (lista):\n",
    "        if (elem % 2) == 0:\n",
    "            print(elem)\n",
    "\n",
    "even_numbers(10)"
   ]
  },
  {
   "cell_type": "code",
   "execution_count": null,
   "metadata": {},
   "outputs": [],
   "source": []
  },
  {
   "cell_type": "markdown",
   "metadata": {},
   "source": [
    "4. Create a function that has an input variable `arg1`, which will be the list of even numbers from the previous section, and that removes elements from the list, one by one, if `arg1` has a size divisible by 2 and, if not, it adds just once, the value of the function `f_s` that should be a boolean (`True` or `False`).\n"
   ]
  },
  {
   "cell_type": "code",
   "execution_count": 27,
   "metadata": {},
   "outputs": [
    {
     "output_type": "error",
     "ename": "SyntaxError",
     "evalue": "invalid syntax (<ipython-input-27-36b947f6c393>, line 15)",
     "traceback": [
      "\u001b[1;36m  File \u001b[1;32m\"<ipython-input-27-36b947f6c393>\"\u001b[1;36m, line \u001b[1;32m15\u001b[0m\n\u001b[1;33m    print(ultima(arg1=10))     # No se por qué dice invalid syntax en el print\u001b[0m\n\u001b[1;37m        ^\u001b[0m\n\u001b[1;31mSyntaxError\u001b[0m\u001b[1;31m:\u001b[0m invalid syntax\n"
     ]
    }
   ],
   "source": [
    "def ultima (arg1):\n",
    "\n",
    "    \"\"\"\n",
    "    This functions removes elements from a list one by one if this list's size is divisible by 2,\n",
    "    otherwise it adds just once the value of the previous function f_s.\n",
    "    \"\"\"\n",
    "    \n",
    "    if arg1 % 2 != 0:\n",
    "        even_numbers(arg1) + f_s(info_list)\n",
    "    else:\n",
    "        while arg1 % 2 == 0:\n",
    "            list(range(arg1).pop()\n",
    "\n",
    "\n",
    "print(ultima(arg1=10))     # No se por qué dice invalid syntax en el print\n"
   ]
  },
  {
   "cell_type": "markdown",
   "metadata": {},
   "source": [
    "!['nicetry'](https://i.pinimg.com/originals/36/ab/81/36ab81cd8d63cf7c4a08f39403698c77.jpg)"
   ]
  }
 ],
 "metadata": {
  "kernelspec": {
   "name": "python374jvsc74a57bd02d8a740277f67c33143a8e5c8e55f738530a350d8def4a85d8635b690074994c",
   "display_name": "Python 3.7.4 64-bit"
  },
  "language_info": {
   "codemirror_mode": {
    "name": "ipython",
    "version": 3
   },
   "file_extension": ".py",
   "mimetype": "text/x-python",
   "name": "python",
   "nbconvert_exporter": "python",
   "pygments_lexer": "ipython3",
   "version": "3.7.4"
  },
  "metadata": {
   "interpreter": {
    "hash": "2d8a740277f67c33143a8e5c8e55f738530a350d8def4a85d8635b690074994c"
   }
  }
 },
 "nbformat": 4,
 "nbformat_minor": 4
}