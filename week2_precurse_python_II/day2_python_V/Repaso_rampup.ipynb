{
 "cells": [
  {
   "cell_type": "markdown",
   "metadata": {},
   "source": [
    "## 🐍 Ramp-up\n",
    "\n",
    "Note: The bold words are instructions for you to know how to solve the exercises below that word. For example, if it says **for loop** you should use at least a for loop in order to solve the exercise. "
   ]
  },
  {
   "cell_type": "markdown",
   "metadata": {},
   "source": [
    "#### Collections\n",
    "1. Create a tuple as follows (10,2,27,8)\n",
    "2. Get the lenght of the tuple\n",
    "3. Which type is it? And which type are the elements the tuple contains?\n",
    "4. Create a new tuple with any other 4 strings and concatenate all of them with the tuple you created before by position, creating a list called `words`.\n",
    "5. Make a list with the same elements in question 1. Find the element 27 and make it 37.\n",
    "6. Remove the number 8 from the list.\n",
    "7. Turn the list you made before into a set.\n",
    "8. Check if the element \"3\" is in that set.\n",
    "9. Sort the list you made in exercise 4 in descending order.\n",
    "10. Turn the list `words` into a dictionary. Split every string taking the number in the tuple (10,2,27,8) as the values and the rest as the keys.\n",
    "11. Sum up the values of the new dictionary.\n",
    "12. Sort the values of the dictionary in descending order and the keys in ascending order, then make a list of tuples with every couple of keys and values by position."
   ]
  },
  {
   "cell_type": "code",
   "execution_count": 2,
   "metadata": {},
   "outputs": [
    {
     "output_type": "stream",
     "name": "stdout",
     "text": [
      "4\n"
     ]
    }
   ],
   "source": [
    "# 1. Create a tuple as follows (10,2,27,8)\n",
    "tupla = (10,2,27,8)\n",
    "\n",
    "# 2. Get the lenght of the tuple\n",
    "print(len(tupla))"
   ]
  },
  {
   "cell_type": "code",
   "execution_count": 3,
   "metadata": {},
   "outputs": [
    {
     "output_type": "stream",
     "name": "stdout",
     "text": [
      "<class 'tuple'>\n<class 'int'>\n<class 'int'>\n<class 'int'>\n<class 'int'>\n"
     ]
    }
   ],
   "source": [
    "# 3. Which type is it? And which type are the elements the tuple contains?\n",
    "print(type(tupla))\n",
    "\n",
    "for elem in tupla:\n",
    "    print(type(elem))"
   ]
  },
  {
   "cell_type": "code",
   "execution_count": 4,
   "metadata": {},
   "outputs": [
    {
     "output_type": "stream",
     "name": "stdout",
     "text": [
      "['uno10', 'dos2', 'tres27', 'cuatro8']\n"
     ]
    }
   ],
   "source": [
    "# 4. Create a new tuple with any other 4 strings and concatenate all of them with the tuple you created before by position, creating a list called `words`.\n",
    "new_tupla = (\"uno\", \"dos\", \"tres\", \"cuatro\")\n",
    "\n",
    "words = [] \n",
    "\n",
    "for i, elem in enumerate(new_tupla):\n",
    "    cadena = elem + str(tupla[i])\n",
    "    words.append(cadena)\n",
    "\n",
    "print(words)\n"
   ]
  },
  {
   "cell_type": "code",
   "execution_count": 14,
   "metadata": {},
   "outputs": [
    {
     "output_type": "stream",
     "name": "stdout",
     "text": [
      "[10, 2, 37, 8]\n"
     ]
    }
   ],
   "source": [
    "# 5. Make a list with the same elements in question 1. Find the element 27 and make it 37.\n",
    "lista = list(tupla)\n",
    "\n",
    "for i, elem in enumerate(lista):\n",
    "    if elem == 27:\n",
    "        lista[i]=37\n",
    "print(lista)"
   ]
  },
  {
   "cell_type": "code",
   "execution_count": 15,
   "metadata": {},
   "outputs": [
    {
     "output_type": "stream",
     "name": "stdout",
     "text": [
      "[10, 2, 37]\n"
     ]
    },
    {
     "output_type": "execute_result",
     "data": {
      "text/plain": [
       "{2, 10, 37}"
      ]
     },
     "metadata": {},
     "execution_count": 15
    }
   ],
   "source": [
    "# 6. Remove the number 8 from the list.\n",
    "lista.remove(8)\n",
    "print(lista)\n",
    "\n",
    "\n",
    "# 7. Turn the list you made before into a set.\n",
    "conjunto = set(lista)\n",
    "conjunto"
   ]
  },
  {
   "cell_type": "code",
   "execution_count": 16,
   "metadata": {},
   "outputs": [
    {
     "output_type": "stream",
     "name": "stdout",
     "text": [
      "False\n"
     ]
    }
   ],
   "source": [
    "# 8. Check if the element \"3\" is in that set.\n",
    "for elem in conjunto:\n",
    "    if elem == 3:\n",
    "        print(True)\n",
    "    else:\n",
    "        print(False) \n",
    "        break   "
   ]
  },
  {
   "cell_type": "code",
   "execution_count": 17,
   "metadata": {},
   "outputs": [
    {
     "output_type": "stream",
     "name": "stdout",
     "text": [
      "['cuatro8', 'tres27', 'dos2', 'uno10']\n"
     ]
    }
   ],
   "source": [
    "# 9. Sort the list you made in exercise 4 in descending order.\n",
    "words.reverse()        \n",
    "print(words)"
   ]
  },
  {
   "cell_type": "code",
   "execution_count": 18,
   "metadata": {},
   "outputs": [
    {
     "output_type": "execute_result",
     "data": {
      "text/plain": [
       "{'cuatro': 8, 'tres': 27, 'dos': 2, 'uno': 10}"
      ]
     },
     "metadata": {},
     "execution_count": 18
    }
   ],
   "source": [
    "# 10. Turn the list `words` into a dictionary. Split every string taking the number in the tuple (10,2,27,8) as the values and the rest as the keys.\n",
    "words = ['cuatro8', 'tres27', 'dos2', 'uno10']\n",
    "\n",
    "diccionario = {}\n",
    "\n",
    "for elem in words:\n",
    "    claves= \"\"\n",
    "    valores= \"\"\n",
    "    for carac in elem:\n",
    "        if carac.isnumeric():              \n",
    "            valores += carac\n",
    "        else:\n",
    "            claves += carac\n",
    "    diccionario[claves] = int(valores)\n",
    "\n",
    "diccionario"
   ]
  },
  {
   "cell_type": "code",
   "execution_count": 19,
   "metadata": {},
   "outputs": [
    {
     "output_type": "execute_result",
     "data": {
      "text/plain": [
       "47"
      ]
     },
     "metadata": {},
     "execution_count": 19
    }
   ],
   "source": [
    "# 11. Sum up the values of the new dictionary.\n",
    "diccionario = {\"cuatro\":8, \"tres\": 27, \"dos\":2, \"uno\": 10}\n",
    "\n",
    "total = sum(diccionario.values())\n",
    "total"
   ]
  },
  {
   "cell_type": "code",
   "execution_count": 30,
   "metadata": {},
   "outputs": [
    {
     "output_type": "stream",
     "name": "stdout",
     "text": [
      "(('uno', 2), ('dos', 8), ('tres', 10), ('cuatro', 27))\n"
     ]
    }
   ],
   "source": [
    "# 12. Sort the values of the dictionary in descending order and the keys in ascending order, then make a list of tuples with every couple of keys and values by position.\n",
    "\n",
    "orden_valor = []\n",
    "orden_key = []\n",
    "\n",
    "for i, elem in diccionario.items():\n",
    "    orden_valor.append(elem)\n",
    "    orden_key.append(i)\n",
    "\n",
    "orden_valor.sort()\n",
    "orden_key.reverse()\n",
    "\n",
    "final = []\n",
    "for i, elem in enumerate(orden_key):\n",
    "    final.append((elem, orden_valor[i]))\n",
    "\n",
    "\n",
    "print(tuple(final))"
   ]
  },
  {
   "cell_type": "markdown",
   "metadata": {},
   "source": [
    "#### Dictionaries\n",
    "\n",
    "1. Make a dictionary containing three major rivers and the country each river runs through. One key-value pair might be 'nile': 'egypt'.\n",
    "\n",
    "    - Use a loop to print a sentence about each river, such as The Nile runs through Egypt.\n",
    "    - Use a loop to print the name of each river included in the dictionary.\n",
    "    - Use a loop to print the name of each country included in the dictionary."
   ]
  },
  {
   "cell_type": "code",
   "execution_count": 34,
   "metadata": {},
   "outputs": [
    {
     "output_type": "stream",
     "name": "stdout",
     "text": [
      "Danuvio runs through Hungría\nNile runs through Egypt\nSena runs through Francia\n\nDanuvio\nNile\nSena\n\nHungría\nEgypt\nFrancia\n"
     ]
    }
   ],
   "source": [
    "dictionary = {\"Danuvio\": \"Hungría\", \"Nile\": \"Egypt\", \"Sena\": \"Francia\"}\n",
    "\n",
    "# Use a loop to print a sentence about each river, such as The Nile runs through Egypt.\n",
    "\n",
    "for i, elem in dictionary.items():\n",
    "    if i == \"Nile\":\n",
    "        print(f\"{i} runs through {elem}\")\n",
    "    elif i == \"Danuvio\":\n",
    "        print(f\"{i} runs through {elem}\")\n",
    "    else:\n",
    "        print(f\"{i} runs through {elem}\")\n",
    "print()\n",
    "# Use a loop to print the name of each river included in the dictionary.\n",
    "for elem in dictionary.keys():                                              \n",
    "    print(elem)\n",
    "\n",
    "print()\n",
    "# Use a loop to print the name of each country included in the dictionary.\n",
    "for elem in dictionary.values():\n",
    "    print(elem)\n",
    "    "
   ]
  },
  {
   "cell_type": "markdown",
   "metadata": {},
   "source": [
    "2. Use the provided dictionary that shows some coders and their favoites languages.\n",
    "```Python\n",
    "favorite_languages = {\n",
    "    'jen': 'python',\n",
    "    'sarah': 'c',\n",
    "    'edward': 'ruby',\n",
    "    'phil': 'python',\n",
    "    }\n",
    "```\n",
    "\n",
    "    - Make a list of people who should take the favorite languages poll. Include some names that are already in the dictionary and some that are not.\n",
    "    - Loop through the list of people who should take the poll. If they have already taken the poll, print a message thanking them for responding. If they have not yet taken the poll, print a message inviting them to take the poll."
   ]
  },
  {
   "cell_type": "code",
   "execution_count": 35,
   "metadata": {},
   "outputs": [],
   "source": [
    "favorite_languages = {'jen': 'python', 'sarah': 'c', 'edward': 'ruby','phil': 'python'}"
   ]
  },
  {
   "cell_type": "code",
   "execution_count": 36,
   "metadata": {},
   "outputs": [
    {
     "output_type": "stream",
     "name": "stdout",
     "text": [
      "['jen', 'phil', 'Sonia', 'Jonhy']\nThanks for taking the poll\nThanks for taking the poll\nThanks for taking the poll\nThanks for taking the poll\nPlease take the poll\nPlease take the poll\n"
     ]
    }
   ],
   "source": [
    "# Make a list of people who should take the favorite languages poll. Include some names that are already in the dictionary and some that are not.\n",
    "\n",
    "list_of_people = []                         \n",
    "extra_people = [\"Sonia\", \"Jonhy\"]\n",
    "\n",
    "for i, elem in favorite_languages.items():\n",
    "    if elem == \"python\":\n",
    "        list_of_people.append(i) \n",
    "\n",
    "list_of_people = list_of_people + extra_people\n",
    "print(list_of_people)\n",
    "\n",
    "# Loop through the list of people who should take the poll. If they have already taken the poll, print a message thanking them for responding. If they have not yet taken the poll, print a message inviting them to take the poll.\n",
    "\n",
    "# Asumo que la lista de gente es 'everyone':\n",
    "list_of_people = []\n",
    "extra_people = [\"Sonia\", \"Jonhy\"]\n",
    "\n",
    "for i, elem in favorite_languages.items():\n",
    "    list_of_people.append(i) \n",
    "\n",
    "everyone = list_of_people + extra_people\n",
    "\n",
    "for i, elem in enumerate(extra_people):\n",
    "    favorite_languages [elem] = \"None\"\n",
    "\n",
    "# solo la extra_people no ha hecho la poll todavía:\n",
    "\n",
    "for i, elem in favorite_languages.items():\n",
    "    if elem == \"None\":\n",
    "        print(\"Please take the poll\")\n",
    "    else:\n",
    "        print(\"Thanks for taking the poll\")\n"
   ]
  },
  {
   "cell_type": "code",
   "execution_count": null,
   "metadata": {},
   "outputs": [],
   "source": []
  },
  {
   "cell_type": "markdown",
   "metadata": {},
   "source": [
    "3. Make a dictionary called cities. Use the names of three cities as keys in your dictionary. Create a dictionary of information about each city and include the country that the city is in, its approximate population, and one fact about that city. The keys for each city’s dictionary should be something like country, population, and fact. Print the name of each city and all of the information you have stored about it.\n",
    "\n",
    "```python\n",
    "cities = {\"city1\":{\"country\": \"bla\"}}\n",
    "```\n",
    "\n",
    "\n"
   ]
  },
  {
   "cell_type": "code",
   "execution_count": 13,
   "metadata": {},
   "outputs": [
    {
     "output_type": "stream",
     "name": "stdout",
     "text": [
      "..........\ncity1\ncountry C1\npopulation 1\nfact Fact1\n..........\ncity2\ncountry C2\npopulation 2\nfact Fact2\n..........\ncity3\ncountry C3\npopulation 3\nfact Fact3\n"
     ]
    }
   ],
   "source": [
    "cities = {\"city1\":{\"country\": \"C1\", \"population\": 1, \"fact\": \"Fact1\"}, \"city2\":{\"country\": \"C2\", \"population\": 2, \"fact\": \"Fact2\"} , \"city3\": {\"country\": \"C3\", \"population\": 3, \"fact\": \"Fact3\"}}\n",
    "\n",
    "for i, elem in cities.items():\n",
    "    print(\"..........\")\n",
    "    print(i)\n",
    "    for i, elem in cities[i].items():\n",
    "        print(i, elem)\n"
   ]
  },
  {
   "cell_type": "markdown",
   "metadata": {},
   "source": [
    "**for loop**\n",
    "1. This is a fruit list, ['banana', 'orange', 'mango', 'lemon'] reverse the order using a for loop.\n"
   ]
  },
  {
   "cell_type": "code",
   "execution_count": 74,
   "metadata": {},
   "outputs": [
    {
     "output_type": "stream",
     "name": "stdout",
     "text": [
      "lemon\nmango\norange\nbanana\n"
     ]
    }
   ],
   "source": [
    "fruit_list = ['banana', 'orange', 'mango', 'lemon']\n",
    "\n",
    "for elem in fruit_list[::-1]:\n",
    "    print(elem)\n"
   ]
  },
  {
   "cell_type": "code",
   "execution_count": 107,
   "metadata": {},
   "outputs": [
    {
     "output_type": "execute_result",
     "data": {
      "text/plain": [
       "['lemon', 'mango', 'orange', 'banana']"
      ]
     },
     "metadata": {},
     "execution_count": 107
    }
   ],
   "source": [
    "fruit_list = ['banana', 'orange', 'mango', 'lemon']\n",
    "\n",
    "fruit_list.reverse()\n",
    "fruit_list\n"
   ]
  },
  {
   "cell_type": "markdown",
   "metadata": {},
   "source": [
    "2. Write a Python program to create the multiplication table (from 1 to 10) of a number.\n",
    "```python\n",
    "Input a number: 5                                                                                             \n",
    "5 x 1 = 5                                                                                                     \n",
    "5 x 2 = 10                                                                                                    \n",
    "5 x 3 = 15                                                                                                    \n",
    "5 x 4 = 20                                                                                                    \n",
    "5 x 5 = 25                                                                                                    \n",
    "5 x 6 = 30                                                                                                    \n",
    "5 x 7 = 35                                                                                                    \n",
    "5 x 8 = 40                                                                                                    \n",
    "5 x 9 = 45                                                                                                    \n",
    "5 x 10 = 50\n",
    "```"
   ]
  },
  {
   "cell_type": "code",
   "execution_count": 15,
   "metadata": {},
   "outputs": [
    {
     "output_type": "stream",
     "name": "stdout",
     "text": [
      "5 x 1 = 5\n5 x 2 = 10\n5 x 3 = 15\n5 x 4 = 20\n5 x 5 = 25\n5 x 6 = 30\n5 x 7 = 35\n5 x 8 = 40\n5 x 9 = 45\n5 x 10 = 50\n"
     ]
    }
   ],
   "source": [
    "def multiplication (param=5):\n",
    "    \"\"\"\n",
    "    \"\"\"\n",
    "\n",
    "    lista = list(range(1,11)) \n",
    "\n",
    "    for elem in lista:\n",
    "        multiplicar = (param * elem)\n",
    "        print(f\"{param} x {elem} = {multiplicar}\")\n",
    "    \n",
    "multiplication(param=5)\n",
    "\n"
   ]
  },
  {
   "cell_type": "markdown",
   "metadata": {},
   "source": [
    "3. Write a Python program which iterates the integers from 1 to 50. For multiples of three print \"Fizz\" instead of the number and for the multiples of five print \"Buzz\". For numbers which are multiples of both three and five print \"FizzBuzz\".\n",
    "```python\n",
    "Sample Output :\n",
    "fizzbuzz\n",
    "1\n",
    "2\n",
    "fizz\n",
    "4\n",
    "buzz\n",
    "```"
   ]
  },
  {
   "cell_type": "code",
   "execution_count": 41,
   "metadata": {},
   "outputs": [
    {
     "output_type": "stream",
     "name": "stdout",
     "text": [
      "1\n2\nFizz\n4\nBuzz\nFizz\n7\n8\nFizz\nBuzz\n11\nFizz\n13\n14\nFizzBuzz\n16\n17\nFizz\n19\nBuzz\nFizz\n22\n23\nFizz\nBuzz\n26\nFizz\n28\n29\nFizzBuzz\n31\n32\nFizz\n34\nBuzz\nFizz\n37\n38\nFizz\nBuzz\n41\nFizz\n43\n44\nFizzBuzz\n46\n47\nFizz\n49\nBuzz\n"
     ]
    }
   ],
   "source": [
    "def programa ():\n",
    "\n",
    "    lista = list(range(1,51))    \n",
    "    for i, elem in enumerate(lista):\n",
    "        if elem % 3 == 0 and elem % 5 == 0:\n",
    "            print (\"FizzBuzz\")\n",
    "        elif elem % 5 == 0:\n",
    "            print (\"Buzz\")\n",
    "        elif elem % 3 == 0:\n",
    "            print (\"Fizz\")\n",
    "        else:\n",
    "            print(elem)\n",
    "\n",
    "programa()\n"
   ]
  },
  {
   "cell_type": "markdown",
   "metadata": {},
   "source": [
    "**functions**\n",
    "\n",
    "1. Write a Python function to check whether a string is a pangram or not. \n",
    "\n",
    "Note : Pangrams are words or sentences containing every letter of the alphabet at least once.\n",
    "    \n",
    "For example : `\"The quick brown fox jumps over the lazy dog\"`"
   ]
  },
  {
   "cell_type": "code",
   "execution_count": 17,
   "metadata": {},
   "outputs": [
    {
     "output_type": "stream",
     "name": "stdout",
     "text": [
      "True\n"
     ]
    }
   ],
   "source": [
    "def pangrams (sentence):\n",
    "\n",
    "    alphabet = \"abcdefghijklmnopqrstuvwxyz\"\n",
    "    \n",
    "    for elem in alphabet:\n",
    "        if elem in sentence.lower():\n",
    "            return True\n",
    "        else:\n",
    "            return False\n",
    "\n",
    "x = pangrams(\"The quick brown fox jumps over the lazy dog\")\n",
    "\n",
    "print(x)"
   ]
  },
  {
   "cell_type": "markdown",
   "metadata": {},
   "source": [
    "2. Write a Python program to count the number of even and odd numbers from a series of numbers. \n",
    "\n",
    "```python\n",
    "Sample numbers: numbers = (1, 2, 3, 4, 5, 6, 7, 8, 9) \n",
    "    \n",
    "Expected Output:\n",
    "Number of even numbers: 5\n",
    "Number of odd numbers: 4\n",
    "```"
   ]
  },
  {
   "cell_type": "code",
   "execution_count": 63,
   "metadata": {},
   "outputs": [
    {
     "output_type": "stream",
     "name": "stdout",
     "text": [
      "Number of even numbers: 5\nNumber of odd numbers: 4\n"
     ]
    }
   ],
   "source": [
    "\n",
    "def cuenta (lista):\n",
    "\n",
    "    even = []\n",
    "    odd = []\n",
    "\n",
    "    for elem in lista:\n",
    "        if elem % 2 == 0 :\n",
    "            odd.append(elem)\n",
    "        else:\n",
    "            even.append(elem)\n",
    "\n",
    "    print(f\"Number of even numbers: {len(even)}\")\n",
    "    print(f\"Number of odd numbers: {len(odd)}\")\n",
    "\n",
    "cuenta(lista=[1,2,3,4,5,6,7,8,9])\n",
    "\n"
   ]
  },
  {
   "cell_type": "markdown",
   "metadata": {},
   "source": [
    "#### functions & while loop\n",
    "1. Write a program which keeps asking for numbers till the user writes 9999. In that case, the program returns the concatenation of every number as a string.\n"
   ]
  },
  {
   "cell_type": "code",
   "execution_count": 81,
   "metadata": {},
   "outputs": [
    {
     "output_type": "stream",
     "name": "stdout",
     "text": [
      "458699999\n"
     ]
    }
   ],
   "source": [
    "def numbers ():\n",
    "\n",
    "    string= \"\"\n",
    "    user_info=\"\"\n",
    "    while user_info != 9999:\n",
    "        user_info = int(input(\"Enter a number: \"))\n",
    "        string = string + str(user_info)\n",
    "\n",
    "    else: \n",
    "        print(string)\n",
    "\n",
    "numbers()"
   ]
  },
  {
   "cell_type": "code",
   "execution_count": null,
   "metadata": {},
   "outputs": [],
   "source": []
  },
  {
   "cell_type": "markdown",
   "metadata": {},
   "source": [
    "2. Writes a function that asks a user for a pin code till they get it right... If they give a wrong answer three times the function returns \"Your bank account has been blocked\", otherwise, returns: \"You got it right! You get full access to your money\".\n"
   ]
  },
  {
   "cell_type": "code",
   "execution_count": 4,
   "metadata": {},
   "outputs": [
    {
     "output_type": "execute_result",
     "data": {
      "text/plain": [
       "'Your bank account has been blocked'"
      ]
     },
     "metadata": {},
     "execution_count": 4
    }
   ],
   "source": [
    "def codigo():\n",
    "\n",
    "    contador = 0\n",
    "    pin_code = \"1234\"\n",
    "\n",
    "    while contador < 3:\n",
    "        contador +=1\n",
    "        user_input = input(\"Enter your pin code: \")\n",
    "        if user_input == pin_code:\n",
    "            return \"You got it right! You get full access to your money\"\n",
    "        elif contador ==3:\n",
    "            return \"Your bank account has been blocked\"\n",
    "\n",
    "codigo()"
   ]
  },
  {
   "cell_type": "markdown",
   "metadata": {},
   "source": [
    "#### functions & for loop\n",
    "\n",
    "1. Write a function that takes in a person's name, and prints out a greeting.\n",
    "    - The greeting must be at least three lines, and the person's name must be in each line.\n",
    "    - Use your function to greet at least three different people.\n",
    "    - Store your three people in a list, and call your function from a for loop."
   ]
  },
  {
   "cell_type": "code",
   "execution_count": 76,
   "metadata": {},
   "outputs": [
    {
     "output_type": "stream",
     "name": "stdout",
     "text": [
      "Hola name1.\nname1 bienvenid@\na The Bridge, name1\n............\nHola name2.\nname2 bienvenid@\na The Bridge, name2\n............\nHola name3.\nname3 bienvenid@\na The Bridge, name3\n............\n"
     ]
    }
   ],
   "source": [
    "def bienvenida ():       \n",
    "    \n",
    "    lista = [\"name1\", \"name2\", \"name3\"]\n",
    "    \n",
    "    for elem in lista:\n",
    "        print(f\"Hola {elem}.\\n{elem} bienvenid@\\na The Bridge, {elem}\")\n",
    "        print(\"............\")\n",
    "\n",
    "bienvenida()"
   ]
  },
  {
   "cell_type": "markdown",
   "metadata": {},
   "source": [
    "2. Make a list that includes 3 or 4 games that you like to play and print a statement that tells the user what games you like.\n",
    "    - Write a function that asks the user to tell you a game they like, and store the game in a variable such as `new_game`. \n",
    "    - If the user mentions one game you like to play, send a message asking to play together.\n",
    "    - Otherwise ask for another game name. If the user tries your program 3 times and doesn't give a game name you like, then ask them to find another friend."
   ]
  },
  {
   "cell_type": "code",
   "execution_count": 166,
   "metadata": {},
   "outputs": [
    {
     "output_type": "stream",
     "name": "stdout",
     "text": [
      "I like juego1, juego2, and juego3\n",
      "Juega conmigo\n"
     ]
    }
   ],
   "source": [
    "\n",
    "juegos = [\"juego1\",\"juego2\", \"juego3\"]\n",
    "print(f\"I like {juegos[0]}, {juegos[1]}, and {juegos[2]}\")\n",
    "\n",
    "def games():\n",
    "    \n",
    "    for i in range(3):\n",
    "        new_game = input(\"Que juego te gusta?\")\n",
    "\n",
    "        if new_game in juegos:\n",
    "            print(\"Juega conmigo\")\n",
    "            break\n",
    "        \n",
    "    if new_game not in juegos:   \n",
    "        print(\"Buscate otro amigo\")\n",
    "\n",
    "games()\n",
    "    "
   ]
  },
  {
   "cell_type": "code",
   "execution_count": 134,
   "metadata": {},
   "outputs": [],
   "source": []
  },
  {
   "cell_type": "markdown",
   "metadata": {},
   "source": [
    "#### write a mini-program\n",
    "**Three is a Crowd**\n",
    "- Make a list of names that includes at least four people.\n",
    "- Write an if test that prints a message about the room being crowded, if there are more than three people in your list.\n",
    "- Modify your list so that there are only two people in it. Use one of the methods for removing people from the list, don't just redefine the list.\n",
    "- Run your if test again. There should be no output this time, because there are less than three people in the list.\n",
    "- Store your if test in a function called something like `crowd_test`.\n",
    "\n"
   ]
  },
  {
   "cell_type": "code",
   "execution_count": 83,
   "metadata": {},
   "outputs": [],
   "source": [
    "# Make a list of names that includes at least four people.\n",
    "\n",
    "gente = [\"name1\", \"name2\", \"name3\", \"name4\"]"
   ]
  },
  {
   "cell_type": "code",
   "execution_count": 84,
   "metadata": {},
   "outputs": [
    {
     "output_type": "stream",
     "name": "stdout",
     "text": [
      "The room is crowded\n"
     ]
    }
   ],
   "source": [
    "# Write an if test that prints a message about the room being crowded, if there are more than three people in your list.\n",
    "if len(gente) > 3:\n",
    "        print(\"The room is crowded\")"
   ]
  },
  {
   "cell_type": "code",
   "execution_count": 86,
   "metadata": {},
   "outputs": [
    {
     "output_type": "stream",
     "name": "stdout",
     "text": [
      "['name1', 'name2']\n"
     ]
    }
   ],
   "source": [
    "# Modify your list so that there are only two people in it. Use one of the methods for removing people from the list, don't just redefine the list.\n",
    "\n",
    "for i in range(len(gente)):\n",
    "    if i >= 2:\n",
    "        gente.pop()\n",
    "        print(gente)"
   ]
  },
  {
   "cell_type": "code",
   "execution_count": 88,
   "metadata": {},
   "outputs": [],
   "source": [
    "# Run your if test again. There should be no output this time, because there are less than three people in the list.\n",
    "if len(gente) > 3:\n",
    "        print(\"The room is crowded\")"
   ]
  },
  {
   "cell_type": "code",
   "execution_count": 89,
   "metadata": {},
   "outputs": [],
   "source": [
    "# Store your if test in a function called something like `crowd_test`.\n",
    "\n",
    "def crowd_test(lista):\n",
    "    if len(lista) > 3:\n",
    "        print(\"The room is crowded\")"
   ]
  },
  {
   "cell_type": "markdown",
   "metadata": {},
   "source": [
    "**Three is a Crowd - Part 2**\n",
    "- Save your program from *Three is a Crowd* under a new name.\n",
    "- Add an `else` statement to your if tests. If the `else` statement is run, have it print a message that the room is not very crowded.\n"
   ]
  },
  {
   "cell_type": "code",
   "execution_count": 90,
   "metadata": {},
   "outputs": [
    {
     "output_type": "stream",
     "name": "stdout",
     "text": [
      "The room is not very crowded\n"
     ]
    }
   ],
   "source": [
    "def crowd_test_modified(lista):\n",
    "    if len(lista) > 3:\n",
    "            print(\"The room is crowded\")\n",
    "    else:\n",
    "        print(\"The room is not very crowded\")\n",
    "\n",
    "    \n",
    "crowd_test_modified(lista=gente)"
   ]
  },
  {
   "cell_type": "code",
   "execution_count": null,
   "metadata": {},
   "outputs": [],
   "source": []
  },
  {
   "cell_type": "markdown",
   "metadata": {},
   "source": [
    "\n",
    "**Six is a Mob**\n",
    "- Save your program from *Three is a Crowd - Part 2* under a new name.\n",
    "- Add some names to your list, so that there are at least six people in the list.\n",
    "- Modify your tests so that\n",
    "    - If there are more than 5 people, a message is printed about there being a mob in the room.\n",
    "    - If there are 3-5 people, a message is printed about the room being crowded.\n",
    "    - If there are 1 or 2 people, a message is printed about the room not being crowded.\n",
    "    - If there are no people in the room, a message is printed abou the room being empty."
   ]
  },
  {
   "cell_type": "code",
   "execution_count": 25,
   "metadata": {},
   "outputs": [
    {
     "output_type": "stream",
     "name": "stdout",
     "text": [
      "There is a mob in the room\n"
     ]
    }
   ],
   "source": [
    "\n",
    "mas_gente = gente + [\"name5\", \"name6\", \"name7\", \"name8\"]\n",
    "\n",
    "def mob(lista):\n",
    "    if len(lista) >=1 and len(lista) <= 2:\n",
    "        print(\"The room is not very crowded\")\n",
    "    elif len(lista) <= 3 and len(lista) <=5:\n",
    "        print(\"The room is crowded\")\n",
    "    elif len(lista) > 5:\n",
    "        print (\"There is a mob in the room\")\n",
    "    elif len(lista) == 0:\n",
    "        print(\"The room is empty\")\n",
    "\n",
    "mob(mas_gente)"
   ]
  },
  {
   "cell_type": "code",
   "execution_count": null,
   "metadata": {},
   "outputs": [],
   "source": []
  }
 ],
 "metadata": {
  "kernelspec": {
   "name": "python374jvsc74a57bd02d8a740277f67c33143a8e5c8e55f738530a350d8def4a85d8635b690074994c",
   "display_name": "Python 3.7.4 64-bit"
  },
  "language_info": {
   "codemirror_mode": {
    "name": "ipython",
    "version": 3
   },
   "file_extension": ".py",
   "mimetype": "text/x-python",
   "name": "python",
   "nbconvert_exporter": "python",
   "pygments_lexer": "ipython3",
   "version": "3.7.4"
  },
  "metadata": {
   "interpreter": {
    "hash": "2d8a740277f67c33143a8e5c8e55f738530a350d8def4a85d8635b690074994c"
   }
  }
 },
 "nbformat": 4,
 "nbformat_minor": 4
}