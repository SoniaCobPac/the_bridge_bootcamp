{
 "metadata": {
  "language_info": {
   "codemirror_mode": {
    "name": "ipython",
    "version": 3
   },
   "file_extension": ".py",
   "mimetype": "text/x-python",
   "name": "python",
   "nbconvert_exporter": "python",
   "pygments_lexer": "ipython3",
   "version": "3.7.4"
  },
  "orig_nbformat": 4,
  "kernelspec": {
   "name": "python3",
   "display_name": "Python 3.7.4 64-bit"
  },
  "interpreter": {
   "hash": "2d8a740277f67c33143a8e5c8e55f738530a350d8def4a85d8635b690074994c"
  }
 },
 "nbformat": 4,
 "nbformat_minor": 2,
 "cells": [
  {
   "cell_type": "code",
   "execution_count": 17,
   "metadata": {},
   "outputs": [],
   "source": [
    "import numpy as np\n",
    "import pandas as pd\n",
    "import matplotlib.pyplot as plt\n",
    "import seaborn as sns\n",
    "\n",
    "import urllib.request\n",
    "from PIL import Image\n",
    "\n",
    "from sklearn.model_selection import train_test_split\n",
    "from sklearn.metrics import mean_squared_error\n",
    "\n",
    "from sklearn import preprocessing\n",
    "from sklearn.ensemble import RandomForestClassifier\n",
    "from sklearn.pipeline import Pipeline\n",
    "from sklearn.model_selection import GridSearchCV\n",
    "from catboost import CatBoostClassifier\n",
    "from sklearn.ensemble import GradientBoostingClassifier\n",
    "\n",
    "import pickle\n",
    "from sklearn import metrics\n",
    "\n",
    "import h2o\n",
    "from h2o.automl import H2OAutoML\n",
    "\n",
    "\n",
    "#import warnings \n",
    "#warnings.filterwarnings(\"ignore\")"
   ]
  },
  {
   "cell_type": "code",
   "execution_count": 18,
   "metadata": {},
   "outputs": [
    {
     "output_type": "execute_result",
     "data": {
      "text/plain": [
       "                                              Description\n",
       "Column                                                   \n",
       "0                          Case_ID registered in Hospital\n",
       "1                            Unique code for the Hospital\n",
       "2                    Unique code for the type of Hospital\n",
       "3                               City Code of the Hospital\n",
       "4                             Region Code of the Hospital\n",
       "5         Number of Extra rooms available in the Hospital\n",
       "6                         Department overlooking the case\n",
       "7                                  Code for the Ward type\n",
       "8                              Code for the Ward Facility\n",
       "9                            Condition of Bed in the Ward\n",
       "10                                      Unique Patient Id\n",
       "11                              City Code for the patient\n",
       "12              Admission Type registered by the Hospital\n",
       "13      Severity of the illness recorded at the time o...\n",
       "14                    Number of Visitors with the patient\n",
       "15                                     Age of the patient\n",
       "16                          Deposit at the Admission Time\n",
       "17                               Stay Days by the patient"
      ],
      "text/html": "<div>\n<style scoped>\n    .dataframe tbody tr th:only-of-type {\n        vertical-align: middle;\n    }\n\n    .dataframe tbody tr th {\n        vertical-align: top;\n    }\n\n    .dataframe thead th {\n        text-align: right;\n    }\n</style>\n<table border=\"1\" class=\"dataframe\">\n  <thead>\n    <tr style=\"text-align: right;\">\n      <th></th>\n      <th>Description</th>\n    </tr>\n    <tr>\n      <th>Column</th>\n      <th></th>\n    </tr>\n  </thead>\n  <tbody>\n    <tr>\n      <th>0</th>\n      <td>Case_ID registered in Hospital</td>\n    </tr>\n    <tr>\n      <th>1</th>\n      <td>Unique code for the Hospital</td>\n    </tr>\n    <tr>\n      <th>2</th>\n      <td>Unique code for the type of Hospital</td>\n    </tr>\n    <tr>\n      <th>3</th>\n      <td>City Code of the Hospital</td>\n    </tr>\n    <tr>\n      <th>4</th>\n      <td>Region Code of the Hospital</td>\n    </tr>\n    <tr>\n      <th>5</th>\n      <td>Number of Extra rooms available in the Hospital</td>\n    </tr>\n    <tr>\n      <th>6</th>\n      <td>Department overlooking the case</td>\n    </tr>\n    <tr>\n      <th>7</th>\n      <td>Code for the Ward type</td>\n    </tr>\n    <tr>\n      <th>8</th>\n      <td>Code for the Ward Facility</td>\n    </tr>\n    <tr>\n      <th>9</th>\n      <td>Condition of Bed in the Ward</td>\n    </tr>\n    <tr>\n      <th>10</th>\n      <td>Unique Patient Id</td>\n    </tr>\n    <tr>\n      <th>11</th>\n      <td>City Code for the patient</td>\n    </tr>\n    <tr>\n      <th>12</th>\n      <td>Admission Type registered by the Hospital</td>\n    </tr>\n    <tr>\n      <th>13</th>\n      <td>Severity of the illness recorded at the time o...</td>\n    </tr>\n    <tr>\n      <th>14</th>\n      <td>Number of Visitors with the patient</td>\n    </tr>\n    <tr>\n      <th>15</th>\n      <td>Age of the patient</td>\n    </tr>\n    <tr>\n      <th>16</th>\n      <td>Deposit at the Admission Time</td>\n    </tr>\n    <tr>\n      <th>17</th>\n      <td>Stay Days by the patient</td>\n    </tr>\n  </tbody>\n</table>\n</div>"
     },
     "metadata": {},
     "execution_count": 18
    }
   ],
   "source": [
    "# We read the dataframe describing the meaning of the columns\n",
    "df_info = pd.read_csv(\"columns_meaning.csv\", index_col=0)\n",
    "df_info"
   ]
  },
  {
   "cell_type": "code",
   "execution_count": 19,
   "metadata": {},
   "outputs": [
    {
     "output_type": "execute_result",
     "data": {
      "text/plain": [
       "         1  2   3  4  5           6  7  8    9      10    11         12  \\\n",
       "0                                                                         \n",
       "161528   6  a   6  X  2  gynecology  R  F  4.0   45810   2.0     Urgent   \n",
       "159472  23  a   6  X  4  gynecology  Q  F  2.0  128565  15.0     Trauma   \n",
       "309765   2  c   5  Z  2  anesthesia  S  F  3.0   46565   5.0     Urgent   \n",
       "279614  32  f   9  Y  3  gynecology  S  B  4.0  124546   6.0  Emergency   \n",
       "147791  14  a   1  X  3  gynecology  S  E  2.0   22729   8.0     Urgent   \n",
       "...     .. ..  .. .. ..         ... .. ..  ...     ...   ...        ...   \n",
       "237869  12  a   9  Y  3  gynecology  R  B  3.0   82914   3.0  Emergency   \n",
       "254763  28  b  11  X  2  gynecology  R  F  2.0   40026   5.0     Urgent   \n",
       "69788    6  a   6  X  3  gynecology  Q  F  3.0   92346   2.0     Trauma   \n",
       "204442  32  f   9  Y  2  gynecology  S  B  4.0  113798  15.0     Trauma   \n",
       "69647   25  e   1  X  3  gynecology  Q  E  2.0  109237   8.0  Emergency   \n",
       "\n",
       "              13  14     15      16                  17  \n",
       "0                                                        \n",
       "161528  Moderate   2  21-30  2817.0                0-10  \n",
       "159472  Moderate   4  51-60  4498.0               21-30  \n",
       "309765  Moderate   2  71-80  4573.0               11-20  \n",
       "279614  Moderate   4  11-20  7202.0               51-60  \n",
       "147791  Moderate   2  51-60  3398.0               51-60  \n",
       "...          ...  ..    ...     ...                 ...  \n",
       "237869  Moderate   6  51-60  3966.0  More than 100 Days  \n",
       "254763  Moderate   3  21-30  4005.0               51-60  \n",
       "69788      Minor   2  31-40  5215.0               31-40  \n",
       "204442  Moderate   3  41-50  5092.0               11-20  \n",
       "69647   Moderate   2  41-50  3390.0               41-50  \n",
       "\n",
       "[100000 rows x 17 columns]"
      ],
      "text/html": "<div>\n<style scoped>\n    .dataframe tbody tr th:only-of-type {\n        vertical-align: middle;\n    }\n\n    .dataframe tbody tr th {\n        vertical-align: top;\n    }\n\n    .dataframe thead th {\n        text-align: right;\n    }\n</style>\n<table border=\"1\" class=\"dataframe\">\n  <thead>\n    <tr style=\"text-align: right;\">\n      <th></th>\n      <th>1</th>\n      <th>2</th>\n      <th>3</th>\n      <th>4</th>\n      <th>5</th>\n      <th>6</th>\n      <th>7</th>\n      <th>8</th>\n      <th>9</th>\n      <th>10</th>\n      <th>11</th>\n      <th>12</th>\n      <th>13</th>\n      <th>14</th>\n      <th>15</th>\n      <th>16</th>\n      <th>17</th>\n    </tr>\n    <tr>\n      <th>0</th>\n      <th></th>\n      <th></th>\n      <th></th>\n      <th></th>\n      <th></th>\n      <th></th>\n      <th></th>\n      <th></th>\n      <th></th>\n      <th></th>\n      <th></th>\n      <th></th>\n      <th></th>\n      <th></th>\n      <th></th>\n      <th></th>\n      <th></th>\n    </tr>\n  </thead>\n  <tbody>\n    <tr>\n      <th>161528</th>\n      <td>6</td>\n      <td>a</td>\n      <td>6</td>\n      <td>X</td>\n      <td>2</td>\n      <td>gynecology</td>\n      <td>R</td>\n      <td>F</td>\n      <td>4.0</td>\n      <td>45810</td>\n      <td>2.0</td>\n      <td>Urgent</td>\n      <td>Moderate</td>\n      <td>2</td>\n      <td>21-30</td>\n      <td>2817.0</td>\n      <td>0-10</td>\n    </tr>\n    <tr>\n      <th>159472</th>\n      <td>23</td>\n      <td>a</td>\n      <td>6</td>\n      <td>X</td>\n      <td>4</td>\n      <td>gynecology</td>\n      <td>Q</td>\n      <td>F</td>\n      <td>2.0</td>\n      <td>128565</td>\n      <td>15.0</td>\n      <td>Trauma</td>\n      <td>Moderate</td>\n      <td>4</td>\n      <td>51-60</td>\n      <td>4498.0</td>\n      <td>21-30</td>\n    </tr>\n    <tr>\n      <th>309765</th>\n      <td>2</td>\n      <td>c</td>\n      <td>5</td>\n      <td>Z</td>\n      <td>2</td>\n      <td>anesthesia</td>\n      <td>S</td>\n      <td>F</td>\n      <td>3.0</td>\n      <td>46565</td>\n      <td>5.0</td>\n      <td>Urgent</td>\n      <td>Moderate</td>\n      <td>2</td>\n      <td>71-80</td>\n      <td>4573.0</td>\n      <td>11-20</td>\n    </tr>\n    <tr>\n      <th>279614</th>\n      <td>32</td>\n      <td>f</td>\n      <td>9</td>\n      <td>Y</td>\n      <td>3</td>\n      <td>gynecology</td>\n      <td>S</td>\n      <td>B</td>\n      <td>4.0</td>\n      <td>124546</td>\n      <td>6.0</td>\n      <td>Emergency</td>\n      <td>Moderate</td>\n      <td>4</td>\n      <td>11-20</td>\n      <td>7202.0</td>\n      <td>51-60</td>\n    </tr>\n    <tr>\n      <th>147791</th>\n      <td>14</td>\n      <td>a</td>\n      <td>1</td>\n      <td>X</td>\n      <td>3</td>\n      <td>gynecology</td>\n      <td>S</td>\n      <td>E</td>\n      <td>2.0</td>\n      <td>22729</td>\n      <td>8.0</td>\n      <td>Urgent</td>\n      <td>Moderate</td>\n      <td>2</td>\n      <td>51-60</td>\n      <td>3398.0</td>\n      <td>51-60</td>\n    </tr>\n    <tr>\n      <th>...</th>\n      <td>...</td>\n      <td>...</td>\n      <td>...</td>\n      <td>...</td>\n      <td>...</td>\n      <td>...</td>\n      <td>...</td>\n      <td>...</td>\n      <td>...</td>\n      <td>...</td>\n      <td>...</td>\n      <td>...</td>\n      <td>...</td>\n      <td>...</td>\n      <td>...</td>\n      <td>...</td>\n      <td>...</td>\n    </tr>\n    <tr>\n      <th>237869</th>\n      <td>12</td>\n      <td>a</td>\n      <td>9</td>\n      <td>Y</td>\n      <td>3</td>\n      <td>gynecology</td>\n      <td>R</td>\n      <td>B</td>\n      <td>3.0</td>\n      <td>82914</td>\n      <td>3.0</td>\n      <td>Emergency</td>\n      <td>Moderate</td>\n      <td>6</td>\n      <td>51-60</td>\n      <td>3966.0</td>\n      <td>More than 100 Days</td>\n    </tr>\n    <tr>\n      <th>254763</th>\n      <td>28</td>\n      <td>b</td>\n      <td>11</td>\n      <td>X</td>\n      <td>2</td>\n      <td>gynecology</td>\n      <td>R</td>\n      <td>F</td>\n      <td>2.0</td>\n      <td>40026</td>\n      <td>5.0</td>\n      <td>Urgent</td>\n      <td>Moderate</td>\n      <td>3</td>\n      <td>21-30</td>\n      <td>4005.0</td>\n      <td>51-60</td>\n    </tr>\n    <tr>\n      <th>69788</th>\n      <td>6</td>\n      <td>a</td>\n      <td>6</td>\n      <td>X</td>\n      <td>3</td>\n      <td>gynecology</td>\n      <td>Q</td>\n      <td>F</td>\n      <td>3.0</td>\n      <td>92346</td>\n      <td>2.0</td>\n      <td>Trauma</td>\n      <td>Minor</td>\n      <td>2</td>\n      <td>31-40</td>\n      <td>5215.0</td>\n      <td>31-40</td>\n    </tr>\n    <tr>\n      <th>204442</th>\n      <td>32</td>\n      <td>f</td>\n      <td>9</td>\n      <td>Y</td>\n      <td>2</td>\n      <td>gynecology</td>\n      <td>S</td>\n      <td>B</td>\n      <td>4.0</td>\n      <td>113798</td>\n      <td>15.0</td>\n      <td>Trauma</td>\n      <td>Moderate</td>\n      <td>3</td>\n      <td>41-50</td>\n      <td>5092.0</td>\n      <td>11-20</td>\n    </tr>\n    <tr>\n      <th>69647</th>\n      <td>25</td>\n      <td>e</td>\n      <td>1</td>\n      <td>X</td>\n      <td>3</td>\n      <td>gynecology</td>\n      <td>Q</td>\n      <td>E</td>\n      <td>2.0</td>\n      <td>109237</td>\n      <td>8.0</td>\n      <td>Emergency</td>\n      <td>Moderate</td>\n      <td>2</td>\n      <td>41-50</td>\n      <td>3390.0</td>\n      <td>41-50</td>\n    </tr>\n  </tbody>\n</table>\n<p>100000 rows × 17 columns</p>\n</div>"
     },
     "metadata": {},
     "execution_count": 19
    }
   ],
   "source": [
    "# We read the hospital data\n",
    "df_train = pd.read_csv(\"hospital_train.csv\", index_col=0)\n",
    "df_train"
   ]
  },
  {
   "cell_type": "code",
   "execution_count": 20,
   "metadata": {},
   "outputs": [
    {
     "output_type": "execute_result",
     "data": {
      "text/plain": [
       "        5           6    9         12        13     15                  17\n",
       "0                                                                         \n",
       "161528  2  gynecology  4.0     Urgent  Moderate  21-30                0-10\n",
       "159472  4  gynecology  2.0     Trauma  Moderate  51-60               21-30\n",
       "309765  2  anesthesia  3.0     Urgent  Moderate  71-80               11-20\n",
       "279614  3  gynecology  4.0  Emergency  Moderate  11-20               51-60\n",
       "147791  3  gynecology  2.0     Urgent  Moderate  51-60               51-60\n",
       "...    ..         ...  ...        ...       ...    ...                 ...\n",
       "237869  3  gynecology  3.0  Emergency  Moderate  51-60  More than 100 Days\n",
       "254763  2  gynecology  2.0     Urgent  Moderate  21-30               51-60\n",
       "69788   3  gynecology  3.0     Trauma     Minor  31-40               31-40\n",
       "204442  2  gynecology  4.0     Trauma  Moderate  41-50               11-20\n",
       "69647   3  gynecology  2.0  Emergency  Moderate  41-50               41-50\n",
       "\n",
       "[100000 rows x 7 columns]"
      ],
      "text/html": "<div>\n<style scoped>\n    .dataframe tbody tr th:only-of-type {\n        vertical-align: middle;\n    }\n\n    .dataframe tbody tr th {\n        vertical-align: top;\n    }\n\n    .dataframe thead th {\n        text-align: right;\n    }\n</style>\n<table border=\"1\" class=\"dataframe\">\n  <thead>\n    <tr style=\"text-align: right;\">\n      <th></th>\n      <th>5</th>\n      <th>6</th>\n      <th>9</th>\n      <th>12</th>\n      <th>13</th>\n      <th>15</th>\n      <th>17</th>\n    </tr>\n    <tr>\n      <th>0</th>\n      <th></th>\n      <th></th>\n      <th></th>\n      <th></th>\n      <th></th>\n      <th></th>\n      <th></th>\n    </tr>\n  </thead>\n  <tbody>\n    <tr>\n      <th>161528</th>\n      <td>2</td>\n      <td>gynecology</td>\n      <td>4.0</td>\n      <td>Urgent</td>\n      <td>Moderate</td>\n      <td>21-30</td>\n      <td>0-10</td>\n    </tr>\n    <tr>\n      <th>159472</th>\n      <td>4</td>\n      <td>gynecology</td>\n      <td>2.0</td>\n      <td>Trauma</td>\n      <td>Moderate</td>\n      <td>51-60</td>\n      <td>21-30</td>\n    </tr>\n    <tr>\n      <th>309765</th>\n      <td>2</td>\n      <td>anesthesia</td>\n      <td>3.0</td>\n      <td>Urgent</td>\n      <td>Moderate</td>\n      <td>71-80</td>\n      <td>11-20</td>\n    </tr>\n    <tr>\n      <th>279614</th>\n      <td>3</td>\n      <td>gynecology</td>\n      <td>4.0</td>\n      <td>Emergency</td>\n      <td>Moderate</td>\n      <td>11-20</td>\n      <td>51-60</td>\n    </tr>\n    <tr>\n      <th>147791</th>\n      <td>3</td>\n      <td>gynecology</td>\n      <td>2.0</td>\n      <td>Urgent</td>\n      <td>Moderate</td>\n      <td>51-60</td>\n      <td>51-60</td>\n    </tr>\n    <tr>\n      <th>...</th>\n      <td>...</td>\n      <td>...</td>\n      <td>...</td>\n      <td>...</td>\n      <td>...</td>\n      <td>...</td>\n      <td>...</td>\n    </tr>\n    <tr>\n      <th>237869</th>\n      <td>3</td>\n      <td>gynecology</td>\n      <td>3.0</td>\n      <td>Emergency</td>\n      <td>Moderate</td>\n      <td>51-60</td>\n      <td>More than 100 Days</td>\n    </tr>\n    <tr>\n      <th>254763</th>\n      <td>2</td>\n      <td>gynecology</td>\n      <td>2.0</td>\n      <td>Urgent</td>\n      <td>Moderate</td>\n      <td>21-30</td>\n      <td>51-60</td>\n    </tr>\n    <tr>\n      <th>69788</th>\n      <td>3</td>\n      <td>gynecology</td>\n      <td>3.0</td>\n      <td>Trauma</td>\n      <td>Minor</td>\n      <td>31-40</td>\n      <td>31-40</td>\n    </tr>\n    <tr>\n      <th>204442</th>\n      <td>2</td>\n      <td>gynecology</td>\n      <td>4.0</td>\n      <td>Trauma</td>\n      <td>Moderate</td>\n      <td>41-50</td>\n      <td>11-20</td>\n    </tr>\n    <tr>\n      <th>69647</th>\n      <td>3</td>\n      <td>gynecology</td>\n      <td>2.0</td>\n      <td>Emergency</td>\n      <td>Moderate</td>\n      <td>41-50</td>\n      <td>41-50</td>\n    </tr>\n  </tbody>\n</table>\n<p>100000 rows × 7 columns</p>\n</div>"
     },
     "metadata": {},
     "execution_count": 20
    }
   ],
   "source": [
    "# Some columns are removed\n",
    "df_train_reduced = df_train.drop([\"1\", \"2\", \"3\", \"4\", \"10\", \"16\", \"7\", \"8\", \"11\", \"14\"], axis =1)\n",
    "df_train_reduced"
   ]
  },
  {
   "cell_type": "code",
   "execution_count": 21,
   "metadata": {},
   "outputs": [
    {
     "output_type": "stream",
     "name": "stdout",
     "text": [
      "['gynecology' 'anesthesia' 'radiotherapy' 'TB & Chest disease' 'surgery']\n"
     ]
    },
    {
     "output_type": "execute_result",
     "data": {
      "text/plain": [
       "        5    9         12        13     15     17  TB & Chest disease  \\\n",
       "0                                                                       \n",
       "161528  2  4.0     Urgent  Moderate  21-30   0-10                   0   \n",
       "159472  4  2.0     Trauma  Moderate  51-60  21-30                   0   \n",
       "309765  2  3.0     Urgent  Moderate  71-80  11-20                   0   \n",
       "279614  3  4.0  Emergency  Moderate  11-20  51-60                   0   \n",
       "147791  3  2.0     Urgent  Moderate  51-60  51-60                   0   \n",
       "\n",
       "        anesthesia  gynecology  radiotherapy  surgery  \n",
       "0                                                      \n",
       "161528           0           1             0        0  \n",
       "159472           0           1             0        0  \n",
       "309765           1           0             0        0  \n",
       "279614           0           1             0        0  \n",
       "147791           0           1             0        0  "
      ],
      "text/html": "<div>\n<style scoped>\n    .dataframe tbody tr th:only-of-type {\n        vertical-align: middle;\n    }\n\n    .dataframe tbody tr th {\n        vertical-align: top;\n    }\n\n    .dataframe thead th {\n        text-align: right;\n    }\n</style>\n<table border=\"1\" class=\"dataframe\">\n  <thead>\n    <tr style=\"text-align: right;\">\n      <th></th>\n      <th>5</th>\n      <th>9</th>\n      <th>12</th>\n      <th>13</th>\n      <th>15</th>\n      <th>17</th>\n      <th>TB &amp; Chest disease</th>\n      <th>anesthesia</th>\n      <th>gynecology</th>\n      <th>radiotherapy</th>\n      <th>surgery</th>\n    </tr>\n    <tr>\n      <th>0</th>\n      <th></th>\n      <th></th>\n      <th></th>\n      <th></th>\n      <th></th>\n      <th></th>\n      <th></th>\n      <th></th>\n      <th></th>\n      <th></th>\n      <th></th>\n    </tr>\n  </thead>\n  <tbody>\n    <tr>\n      <th>161528</th>\n      <td>2</td>\n      <td>4.0</td>\n      <td>Urgent</td>\n      <td>Moderate</td>\n      <td>21-30</td>\n      <td>0-10</td>\n      <td>0</td>\n      <td>0</td>\n      <td>1</td>\n      <td>0</td>\n      <td>0</td>\n    </tr>\n    <tr>\n      <th>159472</th>\n      <td>4</td>\n      <td>2.0</td>\n      <td>Trauma</td>\n      <td>Moderate</td>\n      <td>51-60</td>\n      <td>21-30</td>\n      <td>0</td>\n      <td>0</td>\n      <td>1</td>\n      <td>0</td>\n      <td>0</td>\n    </tr>\n    <tr>\n      <th>309765</th>\n      <td>2</td>\n      <td>3.0</td>\n      <td>Urgent</td>\n      <td>Moderate</td>\n      <td>71-80</td>\n      <td>11-20</td>\n      <td>0</td>\n      <td>1</td>\n      <td>0</td>\n      <td>0</td>\n      <td>0</td>\n    </tr>\n    <tr>\n      <th>279614</th>\n      <td>3</td>\n      <td>4.0</td>\n      <td>Emergency</td>\n      <td>Moderate</td>\n      <td>11-20</td>\n      <td>51-60</td>\n      <td>0</td>\n      <td>0</td>\n      <td>1</td>\n      <td>0</td>\n      <td>0</td>\n    </tr>\n    <tr>\n      <th>147791</th>\n      <td>3</td>\n      <td>2.0</td>\n      <td>Urgent</td>\n      <td>Moderate</td>\n      <td>51-60</td>\n      <td>51-60</td>\n      <td>0</td>\n      <td>0</td>\n      <td>1</td>\n      <td>0</td>\n      <td>0</td>\n    </tr>\n  </tbody>\n</table>\n</div>"
     },
     "metadata": {},
     "execution_count": 21
    }
   ],
   "source": [
    "# Change categorical columns to numericals using dummies\n",
    "\n",
    "# Department overlooking the case\n",
    "print(df_train_reduced[\"6\"].unique())\n",
    "\n",
    "# This columns will be converted with dummies to numerical data to use them in the model\n",
    "features = df_train_reduced[\"6\"]\n",
    "features = pd.get_dummies(features)\n",
    "\n",
    "# Remove them to avoid duplicates\n",
    "df_train_reduced.drop(columns=[\"6\"], axis=1, inplace=True)\n",
    "\n",
    "# Attach the dummies to the main dataframe\n",
    "df_train_reduced = pd.concat([df_train_reduced, features], axis=1)\n",
    "df_train_reduced.head()"
   ]
  },
  {
   "cell_type": "code",
   "execution_count": 22,
   "metadata": {},
   "outputs": [
    {
     "output_type": "stream",
     "name": "stdout",
     "text": [
      "['Urgent' 'Trauma' 'Emergency']\n",
      "['Moderate' 'Extreme' 'Minor']\n",
      "['21-30' '51-60' '71-80' '11-20' '31-40' '0-10' '61-70' '41-50' '81-90'\n",
      " '91-100']\n"
     ]
    }
   ],
   "source": [
    "# conversing categorical columns to numeric\n",
    "\n",
    "# Admission Type registered by the Hospital\n",
    "print(df_train_reduced[\"12\"].unique())\n",
    "\n",
    "df_train_reduced[\"12\"] = df_train_reduced[\"12\"].replace({'Urgent': 2, 'Trauma': 1, 'Emergency': 3})\n",
    "\n",
    "# Severity of the illness recorded at the time of admission\n",
    "print(df_train_reduced[\"13\"].unique())\n",
    "\n",
    "df_train_reduced[\"13\"] = df_train_reduced[\"13\"].replace({'Moderate': 2, 'Extreme': 3, 'Minor': 1})\n",
    "\n",
    "# Age of the patient\n",
    "print(df_train_reduced[\"15\"].unique())\n",
    "\n",
    "le = preprocessing.LabelEncoder()\n",
    "data = df_train_reduced[\"15\"].values\n",
    "df_train_reduced[\"15\"] = le.fit_transform(data)"
   ]
  },
  {
   "cell_type": "code",
   "execution_count": 23,
   "metadata": {},
   "outputs": [
    {
     "output_type": "execute_result",
     "data": {
      "text/plain": [
       "        5    9  12  13  15     17  TB & Chest disease  anesthesia  gynecology  \\\n",
       "0                                                                               \n",
       "161528  2  4.0   2   2   2   0-10                   0           0           1   \n",
       "159472  4  2.0   1   2   5  21-30                   0           0           1   \n",
       "309765  2  3.0   2   2   7  11-20                   0           1           0   \n",
       "279614  3  4.0   3   2   1  51-60                   0           0           1   \n",
       "147791  3  2.0   2   2   5  51-60                   0           0           1   \n",
       "\n",
       "        radiotherapy  surgery  \n",
       "0                              \n",
       "161528             0        0  \n",
       "159472             0        0  \n",
       "309765             0        0  \n",
       "279614             0        0  \n",
       "147791             0        0  "
      ],
      "text/html": "<div>\n<style scoped>\n    .dataframe tbody tr th:only-of-type {\n        vertical-align: middle;\n    }\n\n    .dataframe tbody tr th {\n        vertical-align: top;\n    }\n\n    .dataframe thead th {\n        text-align: right;\n    }\n</style>\n<table border=\"1\" class=\"dataframe\">\n  <thead>\n    <tr style=\"text-align: right;\">\n      <th></th>\n      <th>5</th>\n      <th>9</th>\n      <th>12</th>\n      <th>13</th>\n      <th>15</th>\n      <th>17</th>\n      <th>TB &amp; Chest disease</th>\n      <th>anesthesia</th>\n      <th>gynecology</th>\n      <th>radiotherapy</th>\n      <th>surgery</th>\n    </tr>\n    <tr>\n      <th>0</th>\n      <th></th>\n      <th></th>\n      <th></th>\n      <th></th>\n      <th></th>\n      <th></th>\n      <th></th>\n      <th></th>\n      <th></th>\n      <th></th>\n      <th></th>\n    </tr>\n  </thead>\n  <tbody>\n    <tr>\n      <th>161528</th>\n      <td>2</td>\n      <td>4.0</td>\n      <td>2</td>\n      <td>2</td>\n      <td>2</td>\n      <td>0-10</td>\n      <td>0</td>\n      <td>0</td>\n      <td>1</td>\n      <td>0</td>\n      <td>0</td>\n    </tr>\n    <tr>\n      <th>159472</th>\n      <td>4</td>\n      <td>2.0</td>\n      <td>1</td>\n      <td>2</td>\n      <td>5</td>\n      <td>21-30</td>\n      <td>0</td>\n      <td>0</td>\n      <td>1</td>\n      <td>0</td>\n      <td>0</td>\n    </tr>\n    <tr>\n      <th>309765</th>\n      <td>2</td>\n      <td>3.0</td>\n      <td>2</td>\n      <td>2</td>\n      <td>7</td>\n      <td>11-20</td>\n      <td>0</td>\n      <td>1</td>\n      <td>0</td>\n      <td>0</td>\n      <td>0</td>\n    </tr>\n    <tr>\n      <th>279614</th>\n      <td>3</td>\n      <td>4.0</td>\n      <td>3</td>\n      <td>2</td>\n      <td>1</td>\n      <td>51-60</td>\n      <td>0</td>\n      <td>0</td>\n      <td>1</td>\n      <td>0</td>\n      <td>0</td>\n    </tr>\n    <tr>\n      <th>147791</th>\n      <td>3</td>\n      <td>2.0</td>\n      <td>2</td>\n      <td>2</td>\n      <td>5</td>\n      <td>51-60</td>\n      <td>0</td>\n      <td>0</td>\n      <td>1</td>\n      <td>0</td>\n      <td>0</td>\n    </tr>\n  </tbody>\n</table>\n</div>"
     },
     "metadata": {},
     "execution_count": 23
    }
   ],
   "source": [
    "df_train_reduced.head()"
   ]
  },
  {
   "cell_type": "code",
   "execution_count": 24,
   "metadata": {},
   "outputs": [
    {
     "output_type": "display_data",
     "data": {
      "text/plain": "<Figure size 720x360 with 2 Axes>",
      "image/svg+xml": "<?xml version=\"1.0\" encoding=\"utf-8\" standalone=\"no\"?>\r\n<!DOCTYPE svg PUBLIC \"-//W3C//DTD SVG 1.1//EN\"\r\n  \"http://www.w3.org/Graphics/SVG/1.1/DTD/svg11.dtd\">\r\n<svg height=\"306.677344pt\" version=\"1.1\" viewBox=\"0 0 541.87125 306.677344\" width=\"541.87125pt\" xmlns=\"http://www.w3.org/2000/svg\" xmlns:xlink=\"http://www.w3.org/1999/xlink\">\r\n <metadata>\r\n  <rdf:RDF xmlns:cc=\"http://creativecommons.org/ns#\" xmlns:dc=\"http://purl.org/dc/elements/1.1/\" xmlns:rdf=\"http://www.w3.org/1999/02/22-rdf-syntax-ns#\">\r\n   <cc:Work>\r\n    <dc:type rdf:resource=\"http://purl.org/dc/dcmitype/StillImage\"/>\r\n    <dc:date>2021-06-27T18:39:29.343550</dc:date>\r\n    <dc:format>image/svg+xml</dc:format>\r\n    <dc:creator>\r\n     <cc:Agent>\r\n      <dc:title>Matplotlib v3.4.1, https://matplotlib.org/</dc:title>\r\n     </cc:Agent>\r\n    </dc:creator>\r\n   </cc:Work>\r\n  </rdf:RDF>\r\n </metadata>\r\n <defs>\r\n  <style type=\"text/css\">*{stroke-linecap:butt;stroke-linejoin:round;}</style>\r\n </defs>\r\n <g id=\"figure_1\">\r\n  <g id=\"patch_1\">\r\n   <path d=\"M 0 306.677344 \r\nL 541.87125 306.677344 \r\nL 541.87125 0 \r\nL 0 0 \r\nz\r\n\" style=\"fill:none;\"/>\r\n  </g>\r\n  <g id=\"axes_1\">\r\n   <g id=\"patch_2\">\r\n    <path d=\"M 23.878125 282.799219 \r\nL 470.278125 282.799219 \r\nL 470.278125 10.999219 \r\nL 23.878125 10.999219 \r\nz\r\n\" style=\"fill:#ffffff;\"/>\r\n   </g>\r\n   <g id=\"QuadMesh_1\">\r\n    <path clip-path=\"url(#pbe7064b4e7)\" d=\"M 23.878125 10.999219 \r\nL 79.678125 10.999219 \r\nL 79.678125 44.974219 \r\nL 23.878125 44.974219 \r\nL 23.878125 10.999219 \r\n\" style=\"fill:#b40426;\"/>\r\n    <path clip-path=\"url(#pbe7064b4e7)\" d=\"M 79.678125 10.999219 \r\nL 135.478125 10.999219 \r\nL 135.478125 44.974219 \r\nL 79.678125 44.974219 \r\nL 79.678125 10.999219 \r\n\" style=\"fill:#8badfd;\"/>\r\n    <path clip-path=\"url(#pbe7064b4e7)\" d=\"M 135.478125 10.999219 \r\nL 191.278125 10.999219 \r\nL 191.278125 44.974219 \r\nL 135.478125 44.974219 \r\nL 135.478125 10.999219 \r\n\" style=\"fill:#536edd;\"/>\r\n    <path clip-path=\"url(#pbe7064b4e7)\" d=\"M 191.278125 10.999219 \r\nL 247.078125 10.999219 \r\nL 247.078125 44.974219 \r\nL 191.278125 44.974219 \r\nL 191.278125 10.999219 \r\n\" style=\"fill:#6180e9;\"/>\r\n    <path clip-path=\"url(#pbe7064b4e7)\" d=\"M 247.078125 10.999219 \r\nL 302.878125 10.999219 \r\nL 302.878125 44.974219 \r\nL 247.078125 44.974219 \r\nL 247.078125 10.999219 \r\n\" style=\"fill:#6485ec;\"/>\r\n    <path clip-path=\"url(#pbe7064b4e7)\" d=\"M 302.878125 10.999219 \r\nL 358.678125 10.999219 \r\nL 358.678125 44.974219 \r\nL 302.878125 44.974219 \r\nL 302.878125 10.999219 \r\n\" style=\"fill:#5e7de7;\"/>\r\n    <path clip-path=\"url(#pbe7064b4e7)\" d=\"M 358.678125 10.999219 \r\nL 414.478125 10.999219 \r\nL 414.478125 44.974219 \r\nL 358.678125 44.974219 \r\nL 358.678125 10.999219 \r\n\" style=\"fill:#5b7ae5;\"/>\r\n    <path clip-path=\"url(#pbe7064b4e7)\" d=\"M 414.478125 10.999219 \r\nL 470.278125 10.999219 \r\nL 470.278125 44.974219 \r\nL 414.478125 44.974219 \r\nL 414.478125 10.999219 \r\n\" style=\"fill:#7295f4;\"/>\r\n    <path clip-path=\"url(#pbe7064b4e7)\" d=\"M 23.878125 44.974219 \r\nL 79.678125 44.974219 \r\nL 79.678125 78.949219 \r\nL 23.878125 78.949219 \r\nL 23.878125 44.974219 \r\n\" style=\"fill:#8badfd;\"/>\r\n    <path clip-path=\"url(#pbe7064b4e7)\" d=\"M 79.678125 44.974219 \r\nL 135.478125 44.974219 \r\nL 135.478125 78.949219 \r\nL 79.678125 78.949219 \r\nL 79.678125 44.974219 \r\n\" style=\"fill:#b40426;\"/>\r\n    <path clip-path=\"url(#pbe7064b4e7)\" d=\"M 135.478125 44.974219 \r\nL 191.278125 44.974219 \r\nL 191.278125 78.949219 \r\nL 135.478125 78.949219 \r\nL 135.478125 44.974219 \r\n\" style=\"fill:#5875e1;\"/>\r\n    <path clip-path=\"url(#pbe7064b4e7)\" d=\"M 191.278125 44.974219 \r\nL 247.078125 44.974219 \r\nL 247.078125 78.949219 \r\nL 191.278125 78.949219 \r\nL 191.278125 44.974219 \r\n\" style=\"fill:#5673e0;\"/>\r\n    <path clip-path=\"url(#pbe7064b4e7)\" d=\"M 247.078125 44.974219 \r\nL 302.878125 44.974219 \r\nL 302.878125 78.949219 \r\nL 247.078125 78.949219 \r\nL 247.078125 44.974219 \r\n\" style=\"fill:#6282ea;\"/>\r\n    <path clip-path=\"url(#pbe7064b4e7)\" d=\"M 302.878125 44.974219 \r\nL 358.678125 44.974219 \r\nL 358.678125 78.949219 \r\nL 302.878125 78.949219 \r\nL 302.878125 44.974219 \r\n\" style=\"fill:#5b7ae5;\"/>\r\n    <path clip-path=\"url(#pbe7064b4e7)\" d=\"M 358.678125 44.974219 \r\nL 414.478125 44.974219 \r\nL 414.478125 78.949219 \r\nL 358.678125 78.949219 \r\nL 358.678125 44.974219 \r\n\" style=\"fill:#6a8bef;\"/>\r\n    <path clip-path=\"url(#pbe7064b4e7)\" d=\"M 414.478125 44.974219 \r\nL 470.278125 44.974219 \r\nL 470.278125 78.949219 \r\nL 414.478125 78.949219 \r\nL 414.478125 44.974219 \r\n\" style=\"fill:#5a78e4;\"/>\r\n    <path clip-path=\"url(#pbe7064b4e7)\" d=\"M 23.878125 78.949219 \r\nL 79.678125 78.949219 \r\nL 79.678125 112.924219 \r\nL 23.878125 112.924219 \r\nL 23.878125 78.949219 \r\n\" style=\"fill:#536edd;\"/>\r\n    <path clip-path=\"url(#pbe7064b4e7)\" d=\"M 79.678125 78.949219 \r\nL 135.478125 78.949219 \r\nL 135.478125 112.924219 \r\nL 79.678125 112.924219 \r\nL 79.678125 78.949219 \r\n\" style=\"fill:#5875e1;\"/>\r\n    <path clip-path=\"url(#pbe7064b4e7)\" d=\"M 135.478125 78.949219 \r\nL 191.278125 78.949219 \r\nL 191.278125 112.924219 \r\nL 135.478125 112.924219 \r\nL 135.478125 78.949219 \r\n\" style=\"fill:#b40426;\"/>\r\n    <path clip-path=\"url(#pbe7064b4e7)\" d=\"M 191.278125 78.949219 \r\nL 247.078125 78.949219 \r\nL 247.078125 112.924219 \r\nL 191.278125 112.924219 \r\nL 191.278125 78.949219 \r\n\" style=\"fill:#4358cb;\"/>\r\n    <path clip-path=\"url(#pbe7064b4e7)\" d=\"M 247.078125 78.949219 \r\nL 302.878125 78.949219 \r\nL 302.878125 112.924219 \r\nL 247.078125 112.924219 \r\nL 247.078125 78.949219 \r\n\" style=\"fill:#6687ed;\"/>\r\n    <path clip-path=\"url(#pbe7064b4e7)\" d=\"M 302.878125 78.949219 \r\nL 358.678125 78.949219 \r\nL 358.678125 112.924219 \r\nL 302.878125 112.924219 \r\nL 302.878125 78.949219 \r\n\" style=\"fill:#6180e9;\"/>\r\n    <path clip-path=\"url(#pbe7064b4e7)\" d=\"M 358.678125 78.949219 \r\nL 414.478125 78.949219 \r\nL 414.478125 112.924219 \r\nL 358.678125 112.924219 \r\nL 358.678125 78.949219 \r\n\" style=\"fill:#80a3fa;\"/>\r\n    <path clip-path=\"url(#pbe7064b4e7)\" d=\"M 414.478125 78.949219 \r\nL 470.278125 78.949219 \r\nL 470.278125 112.924219 \r\nL 414.478125 112.924219 \r\nL 414.478125 78.949219 \r\n\" style=\"fill:#3d50c3;\"/>\r\n    <path clip-path=\"url(#pbe7064b4e7)\" d=\"M 23.878125 112.924219 \r\nL 79.678125 112.924219 \r\nL 79.678125 146.899219 \r\nL 23.878125 146.899219 \r\nL 23.878125 112.924219 \r\n\" style=\"fill:#6180e9;\"/>\r\n    <path clip-path=\"url(#pbe7064b4e7)\" d=\"M 79.678125 112.924219 \r\nL 135.478125 112.924219 \r\nL 135.478125 146.899219 \r\nL 79.678125 146.899219 \r\nL 79.678125 112.924219 \r\n\" style=\"fill:#5673e0;\"/>\r\n    <path clip-path=\"url(#pbe7064b4e7)\" d=\"M 135.478125 112.924219 \r\nL 191.278125 112.924219 \r\nL 191.278125 146.899219 \r\nL 135.478125 146.899219 \r\nL 135.478125 112.924219 \r\n\" style=\"fill:#4358cb;\"/>\r\n    <path clip-path=\"url(#pbe7064b4e7)\" d=\"M 191.278125 112.924219 \r\nL 247.078125 112.924219 \r\nL 247.078125 146.899219 \r\nL 191.278125 146.899219 \r\nL 191.278125 112.924219 \r\n\" style=\"fill:#b40426;\"/>\r\n    <path clip-path=\"url(#pbe7064b4e7)\" d=\"M 247.078125 112.924219 \r\nL 302.878125 112.924219 \r\nL 302.878125 146.899219 \r\nL 247.078125 146.899219 \r\nL 247.078125 112.924219 \r\n\" style=\"fill:#6687ed;\"/>\r\n    <path clip-path=\"url(#pbe7064b4e7)\" d=\"M 302.878125 112.924219 \r\nL 358.678125 112.924219 \r\nL 358.678125 146.899219 \r\nL 302.878125 146.899219 \r\nL 302.878125 112.924219 \r\n\" style=\"fill:#6180e9;\"/>\r\n    <path clip-path=\"url(#pbe7064b4e7)\" d=\"M 358.678125 112.924219 \r\nL 414.478125 112.924219 \r\nL 414.478125 146.899219 \r\nL 358.678125 146.899219 \r\nL 358.678125 112.924219 \r\n\" style=\"fill:#80a3fa;\"/>\r\n    <path clip-path=\"url(#pbe7064b4e7)\" d=\"M 414.478125 112.924219 \r\nL 470.278125 112.924219 \r\nL 470.278125 146.899219 \r\nL 414.478125 146.899219 \r\nL 414.478125 112.924219 \r\n\" style=\"fill:#799cf8;\"/>\r\n    <path clip-path=\"url(#pbe7064b4e7)\" d=\"M 23.878125 146.899219 \r\nL 79.678125 146.899219 \r\nL 79.678125 180.874219 \r\nL 23.878125 180.874219 \r\nL 23.878125 146.899219 \r\n\" style=\"fill:#6485ec;\"/>\r\n    <path clip-path=\"url(#pbe7064b4e7)\" d=\"M 79.678125 146.899219 \r\nL 135.478125 146.899219 \r\nL 135.478125 180.874219 \r\nL 79.678125 180.874219 \r\nL 79.678125 146.899219 \r\n\" style=\"fill:#6282ea;\"/>\r\n    <path clip-path=\"url(#pbe7064b4e7)\" d=\"M 135.478125 146.899219 \r\nL 191.278125 146.899219 \r\nL 191.278125 180.874219 \r\nL 135.478125 180.874219 \r\nL 135.478125 146.899219 \r\n\" style=\"fill:#6687ed;\"/>\r\n    <path clip-path=\"url(#pbe7064b4e7)\" d=\"M 191.278125 146.899219 \r\nL 247.078125 146.899219 \r\nL 247.078125 180.874219 \r\nL 191.278125 180.874219 \r\nL 191.278125 146.899219 \r\n\" style=\"fill:#6687ed;\"/>\r\n    <path clip-path=\"url(#pbe7064b4e7)\" d=\"M 247.078125 146.899219 \r\nL 302.878125 146.899219 \r\nL 302.878125 180.874219 \r\nL 247.078125 180.874219 \r\nL 247.078125 146.899219 \r\n\" style=\"fill:#b40426;\"/>\r\n    <path clip-path=\"url(#pbe7064b4e7)\" d=\"M 302.878125 146.899219 \r\nL 358.678125 146.899219 \r\nL 358.678125 180.874219 \r\nL 302.878125 180.874219 \r\nL 302.878125 146.899219 \r\n\" style=\"fill:#6687ed;\"/>\r\n    <path clip-path=\"url(#pbe7064b4e7)\" d=\"M 358.678125 146.899219 \r\nL 414.478125 146.899219 \r\nL 414.478125 180.874219 \r\nL 358.678125 180.874219 \r\nL 358.678125 146.899219 \r\n\" style=\"fill:#6687ed;\"/>\r\n    <path clip-path=\"url(#pbe7064b4e7)\" d=\"M 414.478125 146.899219 \r\nL 470.278125 146.899219 \r\nL 470.278125 180.874219 \r\nL 414.478125 180.874219 \r\nL 414.478125 146.899219 \r\n\" style=\"fill:#6384eb;\"/>\r\n    <path clip-path=\"url(#pbe7064b4e7)\" d=\"M 23.878125 180.874219 \r\nL 79.678125 180.874219 \r\nL 79.678125 214.849219 \r\nL 23.878125 214.849219 \r\nL 23.878125 180.874219 \r\n\" style=\"fill:#5e7de7;\"/>\r\n    <path clip-path=\"url(#pbe7064b4e7)\" d=\"M 79.678125 180.874219 \r\nL 135.478125 180.874219 \r\nL 135.478125 214.849219 \r\nL 79.678125 214.849219 \r\nL 79.678125 180.874219 \r\n\" style=\"fill:#5b7ae5;\"/>\r\n    <path clip-path=\"url(#pbe7064b4e7)\" d=\"M 135.478125 180.874219 \r\nL 191.278125 180.874219 \r\nL 191.278125 214.849219 \r\nL 135.478125 214.849219 \r\nL 135.478125 180.874219 \r\n\" style=\"fill:#6180e9;\"/>\r\n    <path clip-path=\"url(#pbe7064b4e7)\" d=\"M 191.278125 180.874219 \r\nL 247.078125 180.874219 \r\nL 247.078125 214.849219 \r\nL 191.278125 214.849219 \r\nL 191.278125 180.874219 \r\n\" style=\"fill:#6180e9;\"/>\r\n    <path clip-path=\"url(#pbe7064b4e7)\" d=\"M 247.078125 180.874219 \r\nL 302.878125 180.874219 \r\nL 302.878125 214.849219 \r\nL 247.078125 214.849219 \r\nL 247.078125 180.874219 \r\n\" style=\"fill:#6687ed;\"/>\r\n    <path clip-path=\"url(#pbe7064b4e7)\" d=\"M 302.878125 180.874219 \r\nL 358.678125 180.874219 \r\nL 358.678125 214.849219 \r\nL 302.878125 214.849219 \r\nL 302.878125 180.874219 \r\n\" style=\"fill:#b40426;\"/>\r\n    <path clip-path=\"url(#pbe7064b4e7)\" d=\"M 358.678125 180.874219 \r\nL 414.478125 180.874219 \r\nL 414.478125 214.849219 \r\nL 358.678125 214.849219 \r\nL 358.678125 180.874219 \r\n\" style=\"fill:#6282ea;\"/>\r\n    <path clip-path=\"url(#pbe7064b4e7)\" d=\"M 414.478125 180.874219 \r\nL 470.278125 180.874219 \r\nL 470.278125 214.849219 \r\nL 414.478125 214.849219 \r\nL 414.478125 180.874219 \r\n\" style=\"fill:#6b8df0;\"/>\r\n    <path clip-path=\"url(#pbe7064b4e7)\" d=\"M 23.878125 214.849219 \r\nL 79.678125 214.849219 \r\nL 79.678125 248.824219 \r\nL 23.878125 248.824219 \r\nL 23.878125 214.849219 \r\n\" style=\"fill:#5b7ae5;\"/>\r\n    <path clip-path=\"url(#pbe7064b4e7)\" d=\"M 79.678125 214.849219 \r\nL 135.478125 214.849219 \r\nL 135.478125 248.824219 \r\nL 79.678125 248.824219 \r\nL 79.678125 214.849219 \r\n\" style=\"fill:#6a8bef;\"/>\r\n    <path clip-path=\"url(#pbe7064b4e7)\" d=\"M 135.478125 214.849219 \r\nL 191.278125 214.849219 \r\nL 191.278125 248.824219 \r\nL 135.478125 248.824219 \r\nL 135.478125 214.849219 \r\n\" style=\"fill:#80a3fa;\"/>\r\n    <path clip-path=\"url(#pbe7064b4e7)\" d=\"M 191.278125 214.849219 \r\nL 247.078125 214.849219 \r\nL 247.078125 248.824219 \r\nL 191.278125 248.824219 \r\nL 191.278125 214.849219 \r\n\" style=\"fill:#80a3fa;\"/>\r\n    <path clip-path=\"url(#pbe7064b4e7)\" d=\"M 247.078125 214.849219 \r\nL 302.878125 214.849219 \r\nL 302.878125 248.824219 \r\nL 247.078125 248.824219 \r\nL 247.078125 214.849219 \r\n\" style=\"fill:#6687ed;\"/>\r\n    <path clip-path=\"url(#pbe7064b4e7)\" d=\"M 302.878125 214.849219 \r\nL 358.678125 214.849219 \r\nL 358.678125 248.824219 \r\nL 302.878125 248.824219 \r\nL 302.878125 214.849219 \r\n\" style=\"fill:#6282ea;\"/>\r\n    <path clip-path=\"url(#pbe7064b4e7)\" d=\"M 358.678125 214.849219 \r\nL 414.478125 214.849219 \r\nL 414.478125 248.824219 \r\nL 358.678125 248.824219 \r\nL 358.678125 214.849219 \r\n\" style=\"fill:#b40426;\"/>\r\n    <path clip-path=\"url(#pbe7064b4e7)\" d=\"M 414.478125 214.849219 \r\nL 470.278125 214.849219 \r\nL 470.278125 248.824219 \r\nL 414.478125 248.824219 \r\nL 414.478125 214.849219 \r\n\" style=\"fill:#3b4cc0;\"/>\r\n    <path clip-path=\"url(#pbe7064b4e7)\" d=\"M 23.878125 248.824219 \r\nL 79.678125 248.824219 \r\nL 79.678125 282.799219 \r\nL 23.878125 282.799219 \r\nL 23.878125 248.824219 \r\n\" style=\"fill:#7295f4;\"/>\r\n    <path clip-path=\"url(#pbe7064b4e7)\" d=\"M 79.678125 248.824219 \r\nL 135.478125 248.824219 \r\nL 135.478125 282.799219 \r\nL 79.678125 282.799219 \r\nL 79.678125 248.824219 \r\n\" style=\"fill:#5a78e4;\"/>\r\n    <path clip-path=\"url(#pbe7064b4e7)\" d=\"M 135.478125 248.824219 \r\nL 191.278125 248.824219 \r\nL 191.278125 282.799219 \r\nL 135.478125 282.799219 \r\nL 135.478125 248.824219 \r\n\" style=\"fill:#3d50c3;\"/>\r\n    <path clip-path=\"url(#pbe7064b4e7)\" d=\"M 191.278125 248.824219 \r\nL 247.078125 248.824219 \r\nL 247.078125 282.799219 \r\nL 191.278125 282.799219 \r\nL 191.278125 248.824219 \r\n\" style=\"fill:#799cf8;\"/>\r\n    <path clip-path=\"url(#pbe7064b4e7)\" d=\"M 247.078125 248.824219 \r\nL 302.878125 248.824219 \r\nL 302.878125 282.799219 \r\nL 247.078125 282.799219 \r\nL 247.078125 248.824219 \r\n\" style=\"fill:#6384eb;\"/>\r\n    <path clip-path=\"url(#pbe7064b4e7)\" d=\"M 302.878125 248.824219 \r\nL 358.678125 248.824219 \r\nL 358.678125 282.799219 \r\nL 302.878125 282.799219 \r\nL 302.878125 248.824219 \r\n\" style=\"fill:#6b8df0;\"/>\r\n    <path clip-path=\"url(#pbe7064b4e7)\" d=\"M 358.678125 248.824219 \r\nL 414.478125 248.824219 \r\nL 414.478125 282.799219 \r\nL 358.678125 282.799219 \r\nL 358.678125 248.824219 \r\n\" style=\"fill:#3b4cc0;\"/>\r\n    <path clip-path=\"url(#pbe7064b4e7)\" d=\"M 414.478125 248.824219 \r\nL 470.278125 248.824219 \r\nL 470.278125 282.799219 \r\nL 414.478125 282.799219 \r\nL 414.478125 248.824219 \r\n\" style=\"fill:#b40426;\"/>\r\n   </g>\r\n   <g id=\"matplotlib.axis_1\">\r\n    <g id=\"xtick_1\">\r\n     <g id=\"line2d_1\">\r\n      <defs>\r\n       <path d=\"M 0 0 \r\nL 0 3.5 \r\n\" id=\"m4527eab271\" style=\"stroke:#000000;stroke-width:0.8;\"/>\r\n      </defs>\r\n      <g>\r\n       <use style=\"stroke:#000000;stroke-width:0.8;\" x=\"51.778125\" xlink:href=\"#m4527eab271\" y=\"282.799219\"/>\r\n      </g>\r\n     </g>\r\n     <g id=\"text_1\">\r\n      <!-- 1 -->\r\n      <g transform=\"translate(48.596875 297.397656)scale(0.1 -0.1)\">\r\n       <defs>\r\n        <path d=\"M 794 531 \r\nL 1825 531 \r\nL 1825 4091 \r\nL 703 3866 \r\nL 703 4441 \r\nL 1819 4666 \r\nL 2450 4666 \r\nL 2450 531 \r\nL 3481 531 \r\nL 3481 0 \r\nL 794 0 \r\nL 794 531 \r\nz\r\n\" id=\"DejaVuSans-31\" transform=\"scale(0.015625)\"/>\r\n       </defs>\r\n       <use xlink:href=\"#DejaVuSans-31\"/>\r\n      </g>\r\n     </g>\r\n    </g>\r\n    <g id=\"xtick_2\">\r\n     <g id=\"line2d_2\">\r\n      <g>\r\n       <use style=\"stroke:#000000;stroke-width:0.8;\" x=\"107.578125\" xlink:href=\"#m4527eab271\" y=\"282.799219\"/>\r\n      </g>\r\n     </g>\r\n     <g id=\"text_2\">\r\n      <!-- 3 -->\r\n      <g transform=\"translate(104.396875 297.397656)scale(0.1 -0.1)\">\r\n       <defs>\r\n        <path d=\"M 2597 2516 \r\nQ 3050 2419 3304 2112 \r\nQ 3559 1806 3559 1356 \r\nQ 3559 666 3084 287 \r\nQ 2609 -91 1734 -91 \r\nQ 1441 -91 1130 -33 \r\nQ 819 25 488 141 \r\nL 488 750 \r\nQ 750 597 1062 519 \r\nQ 1375 441 1716 441 \r\nQ 2309 441 2620 675 \r\nQ 2931 909 2931 1356 \r\nQ 2931 1769 2642 2001 \r\nQ 2353 2234 1838 2234 \r\nL 1294 2234 \r\nL 1294 2753 \r\nL 1863 2753 \r\nQ 2328 2753 2575 2939 \r\nQ 2822 3125 2822 3475 \r\nQ 2822 3834 2567 4026 \r\nQ 2313 4219 1838 4219 \r\nQ 1578 4219 1281 4162 \r\nQ 984 4106 628 3988 \r\nL 628 4550 \r\nQ 988 4650 1302 4700 \r\nQ 1616 4750 1894 4750 \r\nQ 2613 4750 3031 4423 \r\nQ 3450 4097 3450 3541 \r\nQ 3450 3153 3228 2886 \r\nQ 3006 2619 2597 2516 \r\nz\r\n\" id=\"DejaVuSans-33\" transform=\"scale(0.015625)\"/>\r\n       </defs>\r\n       <use xlink:href=\"#DejaVuSans-33\"/>\r\n      </g>\r\n     </g>\r\n    </g>\r\n    <g id=\"xtick_3\">\r\n     <g id=\"line2d_3\">\r\n      <g>\r\n       <use style=\"stroke:#000000;stroke-width:0.8;\" x=\"163.378125\" xlink:href=\"#m4527eab271\" y=\"282.799219\"/>\r\n      </g>\r\n     </g>\r\n     <g id=\"text_3\">\r\n      <!-- 5 -->\r\n      <g transform=\"translate(160.196875 297.397656)scale(0.1 -0.1)\">\r\n       <defs>\r\n        <path d=\"M 691 4666 \r\nL 3169 4666 \r\nL 3169 4134 \r\nL 1269 4134 \r\nL 1269 2991 \r\nQ 1406 3038 1543 3061 \r\nQ 1681 3084 1819 3084 \r\nQ 2600 3084 3056 2656 \r\nQ 3513 2228 3513 1497 \r\nQ 3513 744 3044 326 \r\nQ 2575 -91 1722 -91 \r\nQ 1428 -91 1123 -41 \r\nQ 819 9 494 109 \r\nL 494 744 \r\nQ 775 591 1075 516 \r\nQ 1375 441 1709 441 \r\nQ 2250 441 2565 725 \r\nQ 2881 1009 2881 1497 \r\nQ 2881 1984 2565 2268 \r\nQ 2250 2553 1709 2553 \r\nQ 1456 2553 1204 2497 \r\nQ 953 2441 691 2322 \r\nL 691 4666 \r\nz\r\n\" id=\"DejaVuSans-35\" transform=\"scale(0.015625)\"/>\r\n       </defs>\r\n       <use xlink:href=\"#DejaVuSans-35\"/>\r\n      </g>\r\n     </g>\r\n    </g>\r\n    <g id=\"xtick_4\">\r\n     <g id=\"line2d_4\">\r\n      <g>\r\n       <use style=\"stroke:#000000;stroke-width:0.8;\" x=\"219.178125\" xlink:href=\"#m4527eab271\" y=\"282.799219\"/>\r\n      </g>\r\n     </g>\r\n     <g id=\"text_4\">\r\n      <!-- 9 -->\r\n      <g transform=\"translate(215.996875 297.397656)scale(0.1 -0.1)\">\r\n       <defs>\r\n        <path d=\"M 703 97 \r\nL 703 672 \r\nQ 941 559 1184 500 \r\nQ 1428 441 1663 441 \r\nQ 2288 441 2617 861 \r\nQ 2947 1281 2994 2138 \r\nQ 2813 1869 2534 1725 \r\nQ 2256 1581 1919 1581 \r\nQ 1219 1581 811 2004 \r\nQ 403 2428 403 3163 \r\nQ 403 3881 828 4315 \r\nQ 1253 4750 1959 4750 \r\nQ 2769 4750 3195 4129 \r\nQ 3622 3509 3622 2328 \r\nQ 3622 1225 3098 567 \r\nQ 2575 -91 1691 -91 \r\nQ 1453 -91 1209 -44 \r\nQ 966 3 703 97 \r\nz\r\nM 1959 2075 \r\nQ 2384 2075 2632 2365 \r\nQ 2881 2656 2881 3163 \r\nQ 2881 3666 2632 3958 \r\nQ 2384 4250 1959 4250 \r\nQ 1534 4250 1286 3958 \r\nQ 1038 3666 1038 3163 \r\nQ 1038 2656 1286 2365 \r\nQ 1534 2075 1959 2075 \r\nz\r\n\" id=\"DejaVuSans-39\" transform=\"scale(0.015625)\"/>\r\n       </defs>\r\n       <use xlink:href=\"#DejaVuSans-39\"/>\r\n      </g>\r\n     </g>\r\n    </g>\r\n    <g id=\"xtick_5\">\r\n     <g id=\"line2d_5\">\r\n      <g>\r\n       <use style=\"stroke:#000000;stroke-width:0.8;\" x=\"274.978125\" xlink:href=\"#m4527eab271\" y=\"282.799219\"/>\r\n      </g>\r\n     </g>\r\n     <g id=\"text_5\">\r\n      <!-- 10 -->\r\n      <g transform=\"translate(268.615625 297.397656)scale(0.1 -0.1)\">\r\n       <defs>\r\n        <path d=\"M 2034 4250 \r\nQ 1547 4250 1301 3770 \r\nQ 1056 3291 1056 2328 \r\nQ 1056 1369 1301 889 \r\nQ 1547 409 2034 409 \r\nQ 2525 409 2770 889 \r\nQ 3016 1369 3016 2328 \r\nQ 3016 3291 2770 3770 \r\nQ 2525 4250 2034 4250 \r\nz\r\nM 2034 4750 \r\nQ 2819 4750 3233 4129 \r\nQ 3647 3509 3647 2328 \r\nQ 3647 1150 3233 529 \r\nQ 2819 -91 2034 -91 \r\nQ 1250 -91 836 529 \r\nQ 422 1150 422 2328 \r\nQ 422 3509 836 4129 \r\nQ 1250 4750 2034 4750 \r\nz\r\n\" id=\"DejaVuSans-30\" transform=\"scale(0.015625)\"/>\r\n       </defs>\r\n       <use xlink:href=\"#DejaVuSans-31\"/>\r\n       <use x=\"63.623047\" xlink:href=\"#DejaVuSans-30\"/>\r\n      </g>\r\n     </g>\r\n    </g>\r\n    <g id=\"xtick_6\">\r\n     <g id=\"line2d_6\">\r\n      <g>\r\n       <use style=\"stroke:#000000;stroke-width:0.8;\" x=\"330.778125\" xlink:href=\"#m4527eab271\" y=\"282.799219\"/>\r\n      </g>\r\n     </g>\r\n     <g id=\"text_6\">\r\n      <!-- 11 -->\r\n      <g transform=\"translate(324.415625 297.397656)scale(0.1 -0.1)\">\r\n       <use xlink:href=\"#DejaVuSans-31\"/>\r\n       <use x=\"63.623047\" xlink:href=\"#DejaVuSans-31\"/>\r\n      </g>\r\n     </g>\r\n    </g>\r\n    <g id=\"xtick_7\">\r\n     <g id=\"line2d_7\">\r\n      <g>\r\n       <use style=\"stroke:#000000;stroke-width:0.8;\" x=\"386.578125\" xlink:href=\"#m4527eab271\" y=\"282.799219\"/>\r\n      </g>\r\n     </g>\r\n     <g id=\"text_7\">\r\n      <!-- 14 -->\r\n      <g transform=\"translate(380.215625 297.397656)scale(0.1 -0.1)\">\r\n       <defs>\r\n        <path d=\"M 2419 4116 \r\nL 825 1625 \r\nL 2419 1625 \r\nL 2419 4116 \r\nz\r\nM 2253 4666 \r\nL 3047 4666 \r\nL 3047 1625 \r\nL 3713 1625 \r\nL 3713 1100 \r\nL 3047 1100 \r\nL 3047 0 \r\nL 2419 0 \r\nL 2419 1100 \r\nL 313 1100 \r\nL 313 1709 \r\nL 2253 4666 \r\nz\r\n\" id=\"DejaVuSans-34\" transform=\"scale(0.015625)\"/>\r\n       </defs>\r\n       <use xlink:href=\"#DejaVuSans-31\"/>\r\n       <use x=\"63.623047\" xlink:href=\"#DejaVuSans-34\"/>\r\n      </g>\r\n     </g>\r\n    </g>\r\n    <g id=\"xtick_8\">\r\n     <g id=\"line2d_8\">\r\n      <g>\r\n       <use style=\"stroke:#000000;stroke-width:0.8;\" x=\"442.378125\" xlink:href=\"#m4527eab271\" y=\"282.799219\"/>\r\n      </g>\r\n     </g>\r\n     <g id=\"text_8\">\r\n      <!-- 16 -->\r\n      <g transform=\"translate(436.015625 297.397656)scale(0.1 -0.1)\">\r\n       <defs>\r\n        <path d=\"M 2113 2584 \r\nQ 1688 2584 1439 2293 \r\nQ 1191 2003 1191 1497 \r\nQ 1191 994 1439 701 \r\nQ 1688 409 2113 409 \r\nQ 2538 409 2786 701 \r\nQ 3034 994 3034 1497 \r\nQ 3034 2003 2786 2293 \r\nQ 2538 2584 2113 2584 \r\nz\r\nM 3366 4563 \r\nL 3366 3988 \r\nQ 3128 4100 2886 4159 \r\nQ 2644 4219 2406 4219 \r\nQ 1781 4219 1451 3797 \r\nQ 1122 3375 1075 2522 \r\nQ 1259 2794 1537 2939 \r\nQ 1816 3084 2150 3084 \r\nQ 2853 3084 3261 2657 \r\nQ 3669 2231 3669 1497 \r\nQ 3669 778 3244 343 \r\nQ 2819 -91 2113 -91 \r\nQ 1303 -91 875 529 \r\nQ 447 1150 447 2328 \r\nQ 447 3434 972 4092 \r\nQ 1497 4750 2381 4750 \r\nQ 2619 4750 2861 4703 \r\nQ 3103 4656 3366 4563 \r\nz\r\n\" id=\"DejaVuSans-36\" transform=\"scale(0.015625)\"/>\r\n       </defs>\r\n       <use xlink:href=\"#DejaVuSans-31\"/>\r\n       <use x=\"63.623047\" xlink:href=\"#DejaVuSans-36\"/>\r\n      </g>\r\n     </g>\r\n    </g>\r\n   </g>\r\n   <g id=\"matplotlib.axis_2\">\r\n    <g id=\"ytick_1\">\r\n     <g id=\"line2d_9\">\r\n      <defs>\r\n       <path d=\"M 0 0 \r\nL -3.5 0 \r\n\" id=\"m3d1c3acae4\" style=\"stroke:#000000;stroke-width:0.8;\"/>\r\n      </defs>\r\n      <g>\r\n       <use style=\"stroke:#000000;stroke-width:0.8;\" x=\"23.878125\" xlink:href=\"#m3d1c3acae4\" y=\"27.986719\"/>\r\n      </g>\r\n     </g>\r\n     <g id=\"text_9\">\r\n      <!-- 1 -->\r\n      <g transform=\"translate(14.798437 30.55)rotate(-90)scale(0.1 -0.1)\">\r\n       <use xlink:href=\"#DejaVuSans-31\"/>\r\n      </g>\r\n     </g>\r\n    </g>\r\n    <g id=\"ytick_2\">\r\n     <g id=\"line2d_10\">\r\n      <g>\r\n       <use style=\"stroke:#000000;stroke-width:0.8;\" x=\"23.878125\" xlink:href=\"#m3d1c3acae4\" y=\"61.961719\"/>\r\n      </g>\r\n     </g>\r\n     <g id=\"text_10\">\r\n      <!-- 3 -->\r\n      <g transform=\"translate(14.798437 64.525)rotate(-90)scale(0.1 -0.1)\">\r\n       <use xlink:href=\"#DejaVuSans-33\"/>\r\n      </g>\r\n     </g>\r\n    </g>\r\n    <g id=\"ytick_3\">\r\n     <g id=\"line2d_11\">\r\n      <g>\r\n       <use style=\"stroke:#000000;stroke-width:0.8;\" x=\"23.878125\" xlink:href=\"#m3d1c3acae4\" y=\"95.936719\"/>\r\n      </g>\r\n     </g>\r\n     <g id=\"text_11\">\r\n      <!-- 5 -->\r\n      <g transform=\"translate(14.798437 98.5)rotate(-90)scale(0.1 -0.1)\">\r\n       <use xlink:href=\"#DejaVuSans-35\"/>\r\n      </g>\r\n     </g>\r\n    </g>\r\n    <g id=\"ytick_4\">\r\n     <g id=\"line2d_12\">\r\n      <g>\r\n       <use style=\"stroke:#000000;stroke-width:0.8;\" x=\"23.878125\" xlink:href=\"#m3d1c3acae4\" y=\"129.911719\"/>\r\n      </g>\r\n     </g>\r\n     <g id=\"text_12\">\r\n      <!-- 9 -->\r\n      <g transform=\"translate(14.798437 132.475)rotate(-90)scale(0.1 -0.1)\">\r\n       <use xlink:href=\"#DejaVuSans-39\"/>\r\n      </g>\r\n     </g>\r\n    </g>\r\n    <g id=\"ytick_5\">\r\n     <g id=\"line2d_13\">\r\n      <g>\r\n       <use style=\"stroke:#000000;stroke-width:0.8;\" x=\"23.878125\" xlink:href=\"#m3d1c3acae4\" y=\"163.886719\"/>\r\n      </g>\r\n     </g>\r\n     <g id=\"text_13\">\r\n      <!-- 10 -->\r\n      <g transform=\"translate(14.798437 172.8125)rotate(-90)scale(0.1 -0.1)\">\r\n       <use xlink:href=\"#DejaVuSans-31\"/>\r\n       <use x=\"63.623047\" xlink:href=\"#DejaVuSans-30\"/>\r\n      </g>\r\n     </g>\r\n    </g>\r\n    <g id=\"ytick_6\">\r\n     <g id=\"line2d_14\">\r\n      <g>\r\n       <use style=\"stroke:#000000;stroke-width:0.8;\" x=\"23.878125\" xlink:href=\"#m3d1c3acae4\" y=\"197.861719\"/>\r\n      </g>\r\n     </g>\r\n     <g id=\"text_14\">\r\n      <!-- 11 -->\r\n      <g transform=\"translate(14.798437 206.7875)rotate(-90)scale(0.1 -0.1)\">\r\n       <use xlink:href=\"#DejaVuSans-31\"/>\r\n       <use x=\"63.623047\" xlink:href=\"#DejaVuSans-31\"/>\r\n      </g>\r\n     </g>\r\n    </g>\r\n    <g id=\"ytick_7\">\r\n     <g id=\"line2d_15\">\r\n      <g>\r\n       <use style=\"stroke:#000000;stroke-width:0.8;\" x=\"23.878125\" xlink:href=\"#m3d1c3acae4\" y=\"231.836719\"/>\r\n      </g>\r\n     </g>\r\n     <g id=\"text_15\">\r\n      <!-- 14 -->\r\n      <g transform=\"translate(14.798437 240.7625)rotate(-90)scale(0.1 -0.1)\">\r\n       <use xlink:href=\"#DejaVuSans-31\"/>\r\n       <use x=\"63.623047\" xlink:href=\"#DejaVuSans-34\"/>\r\n      </g>\r\n     </g>\r\n    </g>\r\n    <g id=\"ytick_8\">\r\n     <g id=\"line2d_16\">\r\n      <g>\r\n       <use style=\"stroke:#000000;stroke-width:0.8;\" x=\"23.878125\" xlink:href=\"#m3d1c3acae4\" y=\"265.811719\"/>\r\n      </g>\r\n     </g>\r\n     <g id=\"text_16\">\r\n      <!-- 16 -->\r\n      <g transform=\"translate(14.798437 274.7375)rotate(-90)scale(0.1 -0.1)\">\r\n       <use xlink:href=\"#DejaVuSans-31\"/>\r\n       <use x=\"63.623047\" xlink:href=\"#DejaVuSans-36\"/>\r\n      </g>\r\n     </g>\r\n    </g>\r\n   </g>\r\n   <g id=\"text_17\">\r\n    <!-- 1 -->\r\n    <g style=\"fill:#ffffff;\" transform=\"translate(48.596875 30.746094)scale(0.1 -0.1)\">\r\n     <use xlink:href=\"#DejaVuSans-31\"/>\r\n    </g>\r\n   </g>\r\n   <g id=\"text_18\">\r\n    <!-- 0.13 -->\r\n    <g style=\"fill:#262626;\" transform=\"translate(96.445313 30.746094)scale(0.1 -0.1)\">\r\n     <defs>\r\n      <path d=\"M 684 794 \r\nL 1344 794 \r\nL 1344 0 \r\nL 684 0 \r\nL 684 794 \r\nz\r\n\" id=\"DejaVuSans-2e\" transform=\"scale(0.015625)\"/>\r\n     </defs>\r\n     <use xlink:href=\"#DejaVuSans-30\"/>\r\n     <use x=\"63.623047\" xlink:href=\"#DejaVuSans-2e\"/>\r\n     <use x=\"95.410156\" xlink:href=\"#DejaVuSans-31\"/>\r\n     <use x=\"159.033203\" xlink:href=\"#DejaVuSans-33\"/>\r\n    </g>\r\n   </g>\r\n   <g id=\"text_19\">\r\n    <!-- -0.061 -->\r\n    <g style=\"fill:#ffffff;\" transform=\"translate(147.260156 30.746094)scale(0.1 -0.1)\">\r\n     <defs>\r\n      <path d=\"M 313 2009 \r\nL 1997 2009 \r\nL 1997 1497 \r\nL 313 1497 \r\nL 313 2009 \r\nz\r\n\" id=\"DejaVuSans-2d\" transform=\"scale(0.015625)\"/>\r\n     </defs>\r\n     <use xlink:href=\"#DejaVuSans-2d\"/>\r\n     <use x=\"36.083984\" xlink:href=\"#DejaVuSans-30\"/>\r\n     <use x=\"99.707031\" xlink:href=\"#DejaVuSans-2e\"/>\r\n     <use x=\"131.494141\" xlink:href=\"#DejaVuSans-30\"/>\r\n     <use x=\"195.117188\" xlink:href=\"#DejaVuSans-36\"/>\r\n     <use x=\"258.740234\" xlink:href=\"#DejaVuSans-31\"/>\r\n    </g>\r\n   </g>\r\n   <g id=\"text_20\">\r\n    <!-- -0.011 -->\r\n    <g style=\"fill:#ffffff;\" transform=\"translate(203.060156 30.746094)scale(0.1 -0.1)\">\r\n     <use xlink:href=\"#DejaVuSans-2d\"/>\r\n     <use x=\"36.083984\" xlink:href=\"#DejaVuSans-30\"/>\r\n     <use x=\"99.707031\" xlink:href=\"#DejaVuSans-2e\"/>\r\n     <use x=\"131.494141\" xlink:href=\"#DejaVuSans-30\"/>\r\n     <use x=\"195.117188\" xlink:href=\"#DejaVuSans-31\"/>\r\n     <use x=\"258.740234\" xlink:href=\"#DejaVuSans-31\"/>\r\n    </g>\r\n   </g>\r\n   <g id=\"text_21\">\r\n    <!-- 0.002 -->\r\n    <g style=\"fill:#ffffff;\" transform=\"translate(260.664063 30.746094)scale(0.1 -0.1)\">\r\n     <defs>\r\n      <path d=\"M 1228 531 \r\nL 3431 531 \r\nL 3431 0 \r\nL 469 0 \r\nL 469 531 \r\nQ 828 903 1448 1529 \r\nQ 2069 2156 2228 2338 \r\nQ 2531 2678 2651 2914 \r\nQ 2772 3150 2772 3378 \r\nQ 2772 3750 2511 3984 \r\nQ 2250 4219 1831 4219 \r\nQ 1534 4219 1204 4116 \r\nQ 875 4013 500 3803 \r\nL 500 4441 \r\nQ 881 4594 1212 4672 \r\nQ 1544 4750 1819 4750 \r\nQ 2544 4750 2975 4387 \r\nQ 3406 4025 3406 3419 \r\nQ 3406 3131 3298 2873 \r\nQ 3191 2616 2906 2266 \r\nQ 2828 2175 2409 1742 \r\nQ 1991 1309 1228 531 \r\nz\r\n\" id=\"DejaVuSans-32\" transform=\"scale(0.015625)\"/>\r\n     </defs>\r\n     <use xlink:href=\"#DejaVuSans-30\"/>\r\n     <use x=\"63.623047\" xlink:href=\"#DejaVuSans-2e\"/>\r\n     <use x=\"95.410156\" xlink:href=\"#DejaVuSans-30\"/>\r\n     <use x=\"159.033203\" xlink:href=\"#DejaVuSans-30\"/>\r\n     <use x=\"222.65625\" xlink:href=\"#DejaVuSans-32\"/>\r\n    </g>\r\n   </g>\r\n   <g id=\"text_22\">\r\n    <!-- -0.019 -->\r\n    <g style=\"fill:#ffffff;\" transform=\"translate(314.660156 30.746094)scale(0.1 -0.1)\">\r\n     <use xlink:href=\"#DejaVuSans-2d\"/>\r\n     <use x=\"36.083984\" xlink:href=\"#DejaVuSans-30\"/>\r\n     <use x=\"99.707031\" xlink:href=\"#DejaVuSans-2e\"/>\r\n     <use x=\"131.494141\" xlink:href=\"#DejaVuSans-30\"/>\r\n     <use x=\"195.117188\" xlink:href=\"#DejaVuSans-31\"/>\r\n     <use x=\"258.740234\" xlink:href=\"#DejaVuSans-39\"/>\r\n    </g>\r\n   </g>\r\n   <g id=\"text_23\">\r\n    <!-- -0.028 -->\r\n    <g style=\"fill:#ffffff;\" transform=\"translate(370.460156 30.746094)scale(0.1 -0.1)\">\r\n     <defs>\r\n      <path d=\"M 2034 2216 \r\nQ 1584 2216 1326 1975 \r\nQ 1069 1734 1069 1313 \r\nQ 1069 891 1326 650 \r\nQ 1584 409 2034 409 \r\nQ 2484 409 2743 651 \r\nQ 3003 894 3003 1313 \r\nQ 3003 1734 2745 1975 \r\nQ 2488 2216 2034 2216 \r\nz\r\nM 1403 2484 \r\nQ 997 2584 770 2862 \r\nQ 544 3141 544 3541 \r\nQ 544 4100 942 4425 \r\nQ 1341 4750 2034 4750 \r\nQ 2731 4750 3128 4425 \r\nQ 3525 4100 3525 3541 \r\nQ 3525 3141 3298 2862 \r\nQ 3072 2584 2669 2484 \r\nQ 3125 2378 3379 2068 \r\nQ 3634 1759 3634 1313 \r\nQ 3634 634 3220 271 \r\nQ 2806 -91 2034 -91 \r\nQ 1263 -91 848 271 \r\nQ 434 634 434 1313 \r\nQ 434 1759 690 2068 \r\nQ 947 2378 1403 2484 \r\nz\r\nM 1172 3481 \r\nQ 1172 3119 1398 2916 \r\nQ 1625 2713 2034 2713 \r\nQ 2441 2713 2670 2916 \r\nQ 2900 3119 2900 3481 \r\nQ 2900 3844 2670 4047 \r\nQ 2441 4250 2034 4250 \r\nQ 1625 4250 1398 4047 \r\nQ 1172 3844 1172 3481 \r\nz\r\n\" id=\"DejaVuSans-38\" transform=\"scale(0.015625)\"/>\r\n     </defs>\r\n     <use xlink:href=\"#DejaVuSans-2d\"/>\r\n     <use x=\"36.083984\" xlink:href=\"#DejaVuSans-30\"/>\r\n     <use x=\"99.707031\" xlink:href=\"#DejaVuSans-2e\"/>\r\n     <use x=\"131.494141\" xlink:href=\"#DejaVuSans-30\"/>\r\n     <use x=\"195.117188\" xlink:href=\"#DejaVuSans-32\"/>\r\n     <use x=\"258.740234\" xlink:href=\"#DejaVuSans-38\"/>\r\n    </g>\r\n   </g>\r\n   <g id=\"text_24\">\r\n    <!-- 0.049 -->\r\n    <g style=\"fill:#ffffff;\" transform=\"translate(428.064063 30.746094)scale(0.1 -0.1)\">\r\n     <use xlink:href=\"#DejaVuSans-30\"/>\r\n     <use x=\"63.623047\" xlink:href=\"#DejaVuSans-2e\"/>\r\n     <use x=\"95.410156\" xlink:href=\"#DejaVuSans-30\"/>\r\n     <use x=\"159.033203\" xlink:href=\"#DejaVuSans-34\"/>\r\n     <use x=\"222.65625\" xlink:href=\"#DejaVuSans-39\"/>\r\n    </g>\r\n   </g>\r\n   <g id=\"text_25\">\r\n    <!-- 0.13 -->\r\n    <g style=\"fill:#262626;\" transform=\"translate(40.645313 64.721094)scale(0.1 -0.1)\">\r\n     <use xlink:href=\"#DejaVuSans-30\"/>\r\n     <use x=\"63.623047\" xlink:href=\"#DejaVuSans-2e\"/>\r\n     <use x=\"95.410156\" xlink:href=\"#DejaVuSans-31\"/>\r\n     <use x=\"159.033203\" xlink:href=\"#DejaVuSans-33\"/>\r\n    </g>\r\n   </g>\r\n   <g id=\"text_26\">\r\n    <!-- 1 -->\r\n    <g style=\"fill:#ffffff;\" transform=\"translate(104.396875 64.721094)scale(0.1 -0.1)\">\r\n     <use xlink:href=\"#DejaVuSans-31\"/>\r\n    </g>\r\n   </g>\r\n   <g id=\"text_27\">\r\n    <!-- -0.044 -->\r\n    <g style=\"fill:#ffffff;\" transform=\"translate(147.260156 64.721094)scale(0.1 -0.1)\">\r\n     <use xlink:href=\"#DejaVuSans-2d\"/>\r\n     <use x=\"36.083984\" xlink:href=\"#DejaVuSans-30\"/>\r\n     <use x=\"99.707031\" xlink:href=\"#DejaVuSans-2e\"/>\r\n     <use x=\"131.494141\" xlink:href=\"#DejaVuSans-30\"/>\r\n     <use x=\"195.117188\" xlink:href=\"#DejaVuSans-34\"/>\r\n     <use x=\"258.740234\" xlink:href=\"#DejaVuSans-34\"/>\r\n    </g>\r\n   </g>\r\n   <g id=\"text_28\">\r\n    <!-- -0.049 -->\r\n    <g style=\"fill:#ffffff;\" transform=\"translate(203.060156 64.721094)scale(0.1 -0.1)\">\r\n     <use xlink:href=\"#DejaVuSans-2d\"/>\r\n     <use x=\"36.083984\" xlink:href=\"#DejaVuSans-30\"/>\r\n     <use x=\"99.707031\" xlink:href=\"#DejaVuSans-2e\"/>\r\n     <use x=\"131.494141\" xlink:href=\"#DejaVuSans-30\"/>\r\n     <use x=\"195.117188\" xlink:href=\"#DejaVuSans-34\"/>\r\n     <use x=\"258.740234\" xlink:href=\"#DejaVuSans-39\"/>\r\n    </g>\r\n   </g>\r\n   <g id=\"text_29\">\r\n    <!-- -0.0045 -->\r\n    <g style=\"fill:#ffffff;\" transform=\"translate(255.678906 64.721094)scale(0.1 -0.1)\">\r\n     <use xlink:href=\"#DejaVuSans-2d\"/>\r\n     <use x=\"36.083984\" xlink:href=\"#DejaVuSans-30\"/>\r\n     <use x=\"99.707031\" xlink:href=\"#DejaVuSans-2e\"/>\r\n     <use x=\"131.494141\" xlink:href=\"#DejaVuSans-30\"/>\r\n     <use x=\"195.117188\" xlink:href=\"#DejaVuSans-30\"/>\r\n     <use x=\"258.740234\" xlink:href=\"#DejaVuSans-34\"/>\r\n     <use x=\"322.363281\" xlink:href=\"#DejaVuSans-35\"/>\r\n    </g>\r\n   </g>\r\n   <g id=\"text_30\">\r\n    <!-- -0.027 -->\r\n    <g style=\"fill:#ffffff;\" transform=\"translate(314.660156 64.721094)scale(0.1 -0.1)\">\r\n     <defs>\r\n      <path d=\"M 525 4666 \r\nL 3525 4666 \r\nL 3525 4397 \r\nL 1831 0 \r\nL 1172 0 \r\nL 2766 4134 \r\nL 525 4134 \r\nL 525 4666 \r\nz\r\n\" id=\"DejaVuSans-37\" transform=\"scale(0.015625)\"/>\r\n     </defs>\r\n     <use xlink:href=\"#DejaVuSans-2d\"/>\r\n     <use x=\"36.083984\" xlink:href=\"#DejaVuSans-30\"/>\r\n     <use x=\"99.707031\" xlink:href=\"#DejaVuSans-2e\"/>\r\n     <use x=\"131.494141\" xlink:href=\"#DejaVuSans-30\"/>\r\n     <use x=\"195.117188\" xlink:href=\"#DejaVuSans-32\"/>\r\n     <use x=\"258.740234\" xlink:href=\"#DejaVuSans-37\"/>\r\n    </g>\r\n   </g>\r\n   <g id=\"text_31\">\r\n    <!-- 0.021 -->\r\n    <g style=\"fill:#ffffff;\" transform=\"translate(372.264063 64.721094)scale(0.1 -0.1)\">\r\n     <use xlink:href=\"#DejaVuSans-30\"/>\r\n     <use x=\"63.623047\" xlink:href=\"#DejaVuSans-2e\"/>\r\n     <use x=\"95.410156\" xlink:href=\"#DejaVuSans-30\"/>\r\n     <use x=\"159.033203\" xlink:href=\"#DejaVuSans-32\"/>\r\n     <use x=\"222.65625\" xlink:href=\"#DejaVuSans-31\"/>\r\n    </g>\r\n   </g>\r\n   <g id=\"text_32\">\r\n    <!-- -0.034 -->\r\n    <g style=\"fill:#ffffff;\" transform=\"translate(426.260156 64.721094)scale(0.1 -0.1)\">\r\n     <use xlink:href=\"#DejaVuSans-2d\"/>\r\n     <use x=\"36.083984\" xlink:href=\"#DejaVuSans-30\"/>\r\n     <use x=\"99.707031\" xlink:href=\"#DejaVuSans-2e\"/>\r\n     <use x=\"131.494141\" xlink:href=\"#DejaVuSans-30\"/>\r\n     <use x=\"195.117188\" xlink:href=\"#DejaVuSans-33\"/>\r\n     <use x=\"258.740234\" xlink:href=\"#DejaVuSans-34\"/>\r\n    </g>\r\n   </g>\r\n   <g id=\"text_33\">\r\n    <!-- -0.061 -->\r\n    <g style=\"fill:#ffffff;\" transform=\"translate(35.660156 98.696094)scale(0.1 -0.1)\">\r\n     <use xlink:href=\"#DejaVuSans-2d\"/>\r\n     <use x=\"36.083984\" xlink:href=\"#DejaVuSans-30\"/>\r\n     <use x=\"99.707031\" xlink:href=\"#DejaVuSans-2e\"/>\r\n     <use x=\"131.494141\" xlink:href=\"#DejaVuSans-30\"/>\r\n     <use x=\"195.117188\" xlink:href=\"#DejaVuSans-36\"/>\r\n     <use x=\"258.740234\" xlink:href=\"#DejaVuSans-31\"/>\r\n    </g>\r\n   </g>\r\n   <g id=\"text_34\">\r\n    <!-- -0.044 -->\r\n    <g style=\"fill:#ffffff;\" transform=\"translate(91.460156 98.696094)scale(0.1 -0.1)\">\r\n     <use xlink:href=\"#DejaVuSans-2d\"/>\r\n     <use x=\"36.083984\" xlink:href=\"#DejaVuSans-30\"/>\r\n     <use x=\"99.707031\" xlink:href=\"#DejaVuSans-2e\"/>\r\n     <use x=\"131.494141\" xlink:href=\"#DejaVuSans-30\"/>\r\n     <use x=\"195.117188\" xlink:href=\"#DejaVuSans-34\"/>\r\n     <use x=\"258.740234\" xlink:href=\"#DejaVuSans-34\"/>\r\n    </g>\r\n   </g>\r\n   <g id=\"text_35\">\r\n    <!-- 1 -->\r\n    <g style=\"fill:#ffffff;\" transform=\"translate(160.196875 98.696094)scale(0.1 -0.1)\">\r\n     <use xlink:href=\"#DejaVuSans-31\"/>\r\n    </g>\r\n   </g>\r\n   <g id=\"text_36\">\r\n    <!-- -0.12 -->\r\n    <g style=\"fill:#ffffff;\" transform=\"translate(206.241406 98.696094)scale(0.1 -0.1)\">\r\n     <use xlink:href=\"#DejaVuSans-2d\"/>\r\n     <use x=\"36.083984\" xlink:href=\"#DejaVuSans-30\"/>\r\n     <use x=\"99.707031\" xlink:href=\"#DejaVuSans-2e\"/>\r\n     <use x=\"131.494141\" xlink:href=\"#DejaVuSans-31\"/>\r\n     <use x=\"195.117188\" xlink:href=\"#DejaVuSans-32\"/>\r\n    </g>\r\n   </g>\r\n   <g id=\"text_37\">\r\n    <!-- 0.005 -->\r\n    <g style=\"fill:#ffffff;\" transform=\"translate(260.664063 98.696094)scale(0.1 -0.1)\">\r\n     <use xlink:href=\"#DejaVuSans-30\"/>\r\n     <use x=\"63.623047\" xlink:href=\"#DejaVuSans-2e\"/>\r\n     <use x=\"95.410156\" xlink:href=\"#DejaVuSans-30\"/>\r\n     <use x=\"159.033203\" xlink:href=\"#DejaVuSans-30\"/>\r\n     <use x=\"222.65625\" xlink:href=\"#DejaVuSans-35\"/>\r\n    </g>\r\n   </g>\r\n   <g id=\"text_38\">\r\n    <!-- -0.01 -->\r\n    <g style=\"fill:#ffffff;\" transform=\"translate(317.841406 98.696094)scale(0.1 -0.1)\">\r\n     <use xlink:href=\"#DejaVuSans-2d\"/>\r\n     <use x=\"36.083984\" xlink:href=\"#DejaVuSans-30\"/>\r\n     <use x=\"99.707031\" xlink:href=\"#DejaVuSans-2e\"/>\r\n     <use x=\"131.494141\" xlink:href=\"#DejaVuSans-30\"/>\r\n     <use x=\"195.117188\" xlink:href=\"#DejaVuSans-31\"/>\r\n    </g>\r\n   </g>\r\n   <g id=\"text_39\">\r\n    <!-- 0.092 -->\r\n    <g style=\"fill:#ffffff;\" transform=\"translate(372.264063 98.696094)scale(0.1 -0.1)\">\r\n     <use xlink:href=\"#DejaVuSans-30\"/>\r\n     <use x=\"63.623047\" xlink:href=\"#DejaVuSans-2e\"/>\r\n     <use x=\"95.410156\" xlink:href=\"#DejaVuSans-30\"/>\r\n     <use x=\"159.033203\" xlink:href=\"#DejaVuSans-39\"/>\r\n     <use x=\"222.65625\" xlink:href=\"#DejaVuSans-32\"/>\r\n    </g>\r\n   </g>\r\n   <g id=\"text_40\">\r\n    <!-- -0.14 -->\r\n    <g style=\"fill:#ffffff;\" transform=\"translate(429.441406 98.696094)scale(0.1 -0.1)\">\r\n     <use xlink:href=\"#DejaVuSans-2d\"/>\r\n     <use x=\"36.083984\" xlink:href=\"#DejaVuSans-30\"/>\r\n     <use x=\"99.707031\" xlink:href=\"#DejaVuSans-2e\"/>\r\n     <use x=\"131.494141\" xlink:href=\"#DejaVuSans-31\"/>\r\n     <use x=\"195.117188\" xlink:href=\"#DejaVuSans-34\"/>\r\n    </g>\r\n   </g>\r\n   <g id=\"text_41\">\r\n    <!-- -0.011 -->\r\n    <g style=\"fill:#ffffff;\" transform=\"translate(35.660156 132.671094)scale(0.1 -0.1)\">\r\n     <use xlink:href=\"#DejaVuSans-2d\"/>\r\n     <use x=\"36.083984\" xlink:href=\"#DejaVuSans-30\"/>\r\n     <use x=\"99.707031\" xlink:href=\"#DejaVuSans-2e\"/>\r\n     <use x=\"131.494141\" xlink:href=\"#DejaVuSans-30\"/>\r\n     <use x=\"195.117188\" xlink:href=\"#DejaVuSans-31\"/>\r\n     <use x=\"258.740234\" xlink:href=\"#DejaVuSans-31\"/>\r\n    </g>\r\n   </g>\r\n   <g id=\"text_42\">\r\n    <!-- -0.049 -->\r\n    <g style=\"fill:#ffffff;\" transform=\"translate(91.460156 132.671094)scale(0.1 -0.1)\">\r\n     <use xlink:href=\"#DejaVuSans-2d\"/>\r\n     <use x=\"36.083984\" xlink:href=\"#DejaVuSans-30\"/>\r\n     <use x=\"99.707031\" xlink:href=\"#DejaVuSans-2e\"/>\r\n     <use x=\"131.494141\" xlink:href=\"#DejaVuSans-30\"/>\r\n     <use x=\"195.117188\" xlink:href=\"#DejaVuSans-34\"/>\r\n     <use x=\"258.740234\" xlink:href=\"#DejaVuSans-39\"/>\r\n    </g>\r\n   </g>\r\n   <g id=\"text_43\">\r\n    <!-- -0.12 -->\r\n    <g style=\"fill:#ffffff;\" transform=\"translate(150.441406 132.671094)scale(0.1 -0.1)\">\r\n     <use xlink:href=\"#DejaVuSans-2d\"/>\r\n     <use x=\"36.083984\" xlink:href=\"#DejaVuSans-30\"/>\r\n     <use x=\"99.707031\" xlink:href=\"#DejaVuSans-2e\"/>\r\n     <use x=\"131.494141\" xlink:href=\"#DejaVuSans-31\"/>\r\n     <use x=\"195.117188\" xlink:href=\"#DejaVuSans-32\"/>\r\n    </g>\r\n   </g>\r\n   <g id=\"text_44\">\r\n    <!-- 1 -->\r\n    <g style=\"fill:#ffffff;\" transform=\"translate(215.996875 132.671094)scale(0.1 -0.1)\">\r\n     <use xlink:href=\"#DejaVuSans-31\"/>\r\n    </g>\r\n   </g>\r\n   <g id=\"text_45\">\r\n    <!-- 0.0058 -->\r\n    <g style=\"fill:#ffffff;\" transform=\"translate(257.482813 132.671094)scale(0.1 -0.1)\">\r\n     <use xlink:href=\"#DejaVuSans-30\"/>\r\n     <use x=\"63.623047\" xlink:href=\"#DejaVuSans-2e\"/>\r\n     <use x=\"95.410156\" xlink:href=\"#DejaVuSans-30\"/>\r\n     <use x=\"159.033203\" xlink:href=\"#DejaVuSans-30\"/>\r\n     <use x=\"222.65625\" xlink:href=\"#DejaVuSans-35\"/>\r\n     <use x=\"286.279297\" xlink:href=\"#DejaVuSans-38\"/>\r\n    </g>\r\n   </g>\r\n   <g id=\"text_46\">\r\n    <!-- -0.011 -->\r\n    <g style=\"fill:#ffffff;\" transform=\"translate(314.660156 132.671094)scale(0.1 -0.1)\">\r\n     <use xlink:href=\"#DejaVuSans-2d\"/>\r\n     <use x=\"36.083984\" xlink:href=\"#DejaVuSans-30\"/>\r\n     <use x=\"99.707031\" xlink:href=\"#DejaVuSans-2e\"/>\r\n     <use x=\"131.494141\" xlink:href=\"#DejaVuSans-30\"/>\r\n     <use x=\"195.117188\" xlink:href=\"#DejaVuSans-31\"/>\r\n     <use x=\"258.740234\" xlink:href=\"#DejaVuSans-31\"/>\r\n    </g>\r\n   </g>\r\n   <g id=\"text_47\">\r\n    <!-- 0.093 -->\r\n    <g style=\"fill:#ffffff;\" transform=\"translate(372.264063 132.671094)scale(0.1 -0.1)\">\r\n     <use xlink:href=\"#DejaVuSans-30\"/>\r\n     <use x=\"63.623047\" xlink:href=\"#DejaVuSans-2e\"/>\r\n     <use x=\"95.410156\" xlink:href=\"#DejaVuSans-30\"/>\r\n     <use x=\"159.033203\" xlink:href=\"#DejaVuSans-39\"/>\r\n     <use x=\"222.65625\" xlink:href=\"#DejaVuSans-33\"/>\r\n    </g>\r\n   </g>\r\n   <g id=\"text_48\">\r\n    <!-- 0.071 -->\r\n    <g style=\"fill:#ffffff;\" transform=\"translate(428.064063 132.671094)scale(0.1 -0.1)\">\r\n     <use xlink:href=\"#DejaVuSans-30\"/>\r\n     <use x=\"63.623047\" xlink:href=\"#DejaVuSans-2e\"/>\r\n     <use x=\"95.410156\" xlink:href=\"#DejaVuSans-30\"/>\r\n     <use x=\"159.033203\" xlink:href=\"#DejaVuSans-37\"/>\r\n     <use x=\"222.65625\" xlink:href=\"#DejaVuSans-31\"/>\r\n    </g>\r\n   </g>\r\n   <g id=\"text_49\">\r\n    <!-- 0.002 -->\r\n    <g style=\"fill:#ffffff;\" transform=\"translate(37.464063 166.646094)scale(0.1 -0.1)\">\r\n     <use xlink:href=\"#DejaVuSans-30\"/>\r\n     <use x=\"63.623047\" xlink:href=\"#DejaVuSans-2e\"/>\r\n     <use x=\"95.410156\" xlink:href=\"#DejaVuSans-30\"/>\r\n     <use x=\"159.033203\" xlink:href=\"#DejaVuSans-30\"/>\r\n     <use x=\"222.65625\" xlink:href=\"#DejaVuSans-32\"/>\r\n    </g>\r\n   </g>\r\n   <g id=\"text_50\">\r\n    <!-- -0.0045 -->\r\n    <g style=\"fill:#ffffff;\" transform=\"translate(88.278906 166.646094)scale(0.1 -0.1)\">\r\n     <use xlink:href=\"#DejaVuSans-2d\"/>\r\n     <use x=\"36.083984\" xlink:href=\"#DejaVuSans-30\"/>\r\n     <use x=\"99.707031\" xlink:href=\"#DejaVuSans-2e\"/>\r\n     <use x=\"131.494141\" xlink:href=\"#DejaVuSans-30\"/>\r\n     <use x=\"195.117188\" xlink:href=\"#DejaVuSans-30\"/>\r\n     <use x=\"258.740234\" xlink:href=\"#DejaVuSans-34\"/>\r\n     <use x=\"322.363281\" xlink:href=\"#DejaVuSans-35\"/>\r\n    </g>\r\n   </g>\r\n   <g id=\"text_51\">\r\n    <!-- 0.005 -->\r\n    <g style=\"fill:#ffffff;\" transform=\"translate(149.064063 166.646094)scale(0.1 -0.1)\">\r\n     <use xlink:href=\"#DejaVuSans-30\"/>\r\n     <use x=\"63.623047\" xlink:href=\"#DejaVuSans-2e\"/>\r\n     <use x=\"95.410156\" xlink:href=\"#DejaVuSans-30\"/>\r\n     <use x=\"159.033203\" xlink:href=\"#DejaVuSans-30\"/>\r\n     <use x=\"222.65625\" xlink:href=\"#DejaVuSans-35\"/>\r\n    </g>\r\n   </g>\r\n   <g id=\"text_52\">\r\n    <!-- 0.0058 -->\r\n    <g style=\"fill:#ffffff;\" transform=\"translate(201.682813 166.646094)scale(0.1 -0.1)\">\r\n     <use xlink:href=\"#DejaVuSans-30\"/>\r\n     <use x=\"63.623047\" xlink:href=\"#DejaVuSans-2e\"/>\r\n     <use x=\"95.410156\" xlink:href=\"#DejaVuSans-30\"/>\r\n     <use x=\"159.033203\" xlink:href=\"#DejaVuSans-30\"/>\r\n     <use x=\"222.65625\" xlink:href=\"#DejaVuSans-35\"/>\r\n     <use x=\"286.279297\" xlink:href=\"#DejaVuSans-38\"/>\r\n    </g>\r\n   </g>\r\n   <g id=\"text_53\">\r\n    <!-- 1 -->\r\n    <g style=\"fill:#ffffff;\" transform=\"translate(271.796875 166.646094)scale(0.1 -0.1)\">\r\n     <use xlink:href=\"#DejaVuSans-31\"/>\r\n    </g>\r\n   </g>\r\n   <g id=\"text_54\">\r\n    <!-- 0.0068 -->\r\n    <g style=\"fill:#ffffff;\" transform=\"translate(313.282813 166.646094)scale(0.1 -0.1)\">\r\n     <use xlink:href=\"#DejaVuSans-30\"/>\r\n     <use x=\"63.623047\" xlink:href=\"#DejaVuSans-2e\"/>\r\n     <use x=\"95.410156\" xlink:href=\"#DejaVuSans-30\"/>\r\n     <use x=\"159.033203\" xlink:href=\"#DejaVuSans-30\"/>\r\n     <use x=\"222.65625\" xlink:href=\"#DejaVuSans-36\"/>\r\n     <use x=\"286.279297\" xlink:href=\"#DejaVuSans-38\"/>\r\n    </g>\r\n   </g>\r\n   <g id=\"text_55\">\r\n    <!-- 0.0077 -->\r\n    <g style=\"fill:#ffffff;\" transform=\"translate(369.082813 166.646094)scale(0.1 -0.1)\">\r\n     <use xlink:href=\"#DejaVuSans-30\"/>\r\n     <use x=\"63.623047\" xlink:href=\"#DejaVuSans-2e\"/>\r\n     <use x=\"95.410156\" xlink:href=\"#DejaVuSans-30\"/>\r\n     <use x=\"159.033203\" xlink:href=\"#DejaVuSans-30\"/>\r\n     <use x=\"222.65625\" xlink:href=\"#DejaVuSans-37\"/>\r\n     <use x=\"286.279297\" xlink:href=\"#DejaVuSans-37\"/>\r\n    </g>\r\n   </g>\r\n   <g id=\"text_56\">\r\n    <!-- -0.0019 -->\r\n    <g style=\"fill:#ffffff;\" transform=\"translate(423.078906 166.646094)scale(0.1 -0.1)\">\r\n     <use xlink:href=\"#DejaVuSans-2d\"/>\r\n     <use x=\"36.083984\" xlink:href=\"#DejaVuSans-30\"/>\r\n     <use x=\"99.707031\" xlink:href=\"#DejaVuSans-2e\"/>\r\n     <use x=\"131.494141\" xlink:href=\"#DejaVuSans-30\"/>\r\n     <use x=\"195.117188\" xlink:href=\"#DejaVuSans-30\"/>\r\n     <use x=\"258.740234\" xlink:href=\"#DejaVuSans-31\"/>\r\n     <use x=\"322.363281\" xlink:href=\"#DejaVuSans-39\"/>\r\n    </g>\r\n   </g>\r\n   <g id=\"text_57\">\r\n    <!-- -0.019 -->\r\n    <g style=\"fill:#ffffff;\" transform=\"translate(35.660156 200.621094)scale(0.1 -0.1)\">\r\n     <use xlink:href=\"#DejaVuSans-2d\"/>\r\n     <use x=\"36.083984\" xlink:href=\"#DejaVuSans-30\"/>\r\n     <use x=\"99.707031\" xlink:href=\"#DejaVuSans-2e\"/>\r\n     <use x=\"131.494141\" xlink:href=\"#DejaVuSans-30\"/>\r\n     <use x=\"195.117188\" xlink:href=\"#DejaVuSans-31\"/>\r\n     <use x=\"258.740234\" xlink:href=\"#DejaVuSans-39\"/>\r\n    </g>\r\n   </g>\r\n   <g id=\"text_58\">\r\n    <!-- -0.027 -->\r\n    <g style=\"fill:#ffffff;\" transform=\"translate(91.460156 200.621094)scale(0.1 -0.1)\">\r\n     <use xlink:href=\"#DejaVuSans-2d\"/>\r\n     <use x=\"36.083984\" xlink:href=\"#DejaVuSans-30\"/>\r\n     <use x=\"99.707031\" xlink:href=\"#DejaVuSans-2e\"/>\r\n     <use x=\"131.494141\" xlink:href=\"#DejaVuSans-30\"/>\r\n     <use x=\"195.117188\" xlink:href=\"#DejaVuSans-32\"/>\r\n     <use x=\"258.740234\" xlink:href=\"#DejaVuSans-37\"/>\r\n    </g>\r\n   </g>\r\n   <g id=\"text_59\">\r\n    <!-- -0.01 -->\r\n    <g style=\"fill:#ffffff;\" transform=\"translate(150.441406 200.621094)scale(0.1 -0.1)\">\r\n     <use xlink:href=\"#DejaVuSans-2d\"/>\r\n     <use x=\"36.083984\" xlink:href=\"#DejaVuSans-30\"/>\r\n     <use x=\"99.707031\" xlink:href=\"#DejaVuSans-2e\"/>\r\n     <use x=\"131.494141\" xlink:href=\"#DejaVuSans-30\"/>\r\n     <use x=\"195.117188\" xlink:href=\"#DejaVuSans-31\"/>\r\n    </g>\r\n   </g>\r\n   <g id=\"text_60\">\r\n    <!-- -0.011 -->\r\n    <g style=\"fill:#ffffff;\" transform=\"translate(203.060156 200.621094)scale(0.1 -0.1)\">\r\n     <use xlink:href=\"#DejaVuSans-2d\"/>\r\n     <use x=\"36.083984\" xlink:href=\"#DejaVuSans-30\"/>\r\n     <use x=\"99.707031\" xlink:href=\"#DejaVuSans-2e\"/>\r\n     <use x=\"131.494141\" xlink:href=\"#DejaVuSans-30\"/>\r\n     <use x=\"195.117188\" xlink:href=\"#DejaVuSans-31\"/>\r\n     <use x=\"258.740234\" xlink:href=\"#DejaVuSans-31\"/>\r\n    </g>\r\n   </g>\r\n   <g id=\"text_61\">\r\n    <!-- 0.0068 -->\r\n    <g style=\"fill:#ffffff;\" transform=\"translate(257.482813 200.621094)scale(0.1 -0.1)\">\r\n     <use xlink:href=\"#DejaVuSans-30\"/>\r\n     <use x=\"63.623047\" xlink:href=\"#DejaVuSans-2e\"/>\r\n     <use x=\"95.410156\" xlink:href=\"#DejaVuSans-30\"/>\r\n     <use x=\"159.033203\" xlink:href=\"#DejaVuSans-30\"/>\r\n     <use x=\"222.65625\" xlink:href=\"#DejaVuSans-36\"/>\r\n     <use x=\"286.279297\" xlink:href=\"#DejaVuSans-38\"/>\r\n    </g>\r\n   </g>\r\n   <g id=\"text_62\">\r\n    <!-- 1 -->\r\n    <g style=\"fill:#ffffff;\" transform=\"translate(327.596875 200.621094)scale(0.1 -0.1)\">\r\n     <use xlink:href=\"#DejaVuSans-31\"/>\r\n    </g>\r\n   </g>\r\n   <g id=\"text_63\">\r\n    <!-- -0.0082 -->\r\n    <g style=\"fill:#ffffff;\" transform=\"translate(367.278906 200.621094)scale(0.1 -0.1)\">\r\n     <use xlink:href=\"#DejaVuSans-2d\"/>\r\n     <use x=\"36.083984\" xlink:href=\"#DejaVuSans-30\"/>\r\n     <use x=\"99.707031\" xlink:href=\"#DejaVuSans-2e\"/>\r\n     <use x=\"131.494141\" xlink:href=\"#DejaVuSans-30\"/>\r\n     <use x=\"195.117188\" xlink:href=\"#DejaVuSans-30\"/>\r\n     <use x=\"258.740234\" xlink:href=\"#DejaVuSans-38\"/>\r\n     <use x=\"322.363281\" xlink:href=\"#DejaVuSans-32\"/>\r\n    </g>\r\n   </g>\r\n   <g id=\"text_64\">\r\n    <!-- 0.025 -->\r\n    <g style=\"fill:#ffffff;\" transform=\"translate(428.064063 200.621094)scale(0.1 -0.1)\">\r\n     <use xlink:href=\"#DejaVuSans-30\"/>\r\n     <use x=\"63.623047\" xlink:href=\"#DejaVuSans-2e\"/>\r\n     <use x=\"95.410156\" xlink:href=\"#DejaVuSans-30\"/>\r\n     <use x=\"159.033203\" xlink:href=\"#DejaVuSans-32\"/>\r\n     <use x=\"222.65625\" xlink:href=\"#DejaVuSans-35\"/>\r\n    </g>\r\n   </g>\r\n   <g id=\"text_65\">\r\n    <!-- -0.028 -->\r\n    <g style=\"fill:#ffffff;\" transform=\"translate(35.660156 234.596094)scale(0.1 -0.1)\">\r\n     <use xlink:href=\"#DejaVuSans-2d\"/>\r\n     <use x=\"36.083984\" xlink:href=\"#DejaVuSans-30\"/>\r\n     <use x=\"99.707031\" xlink:href=\"#DejaVuSans-2e\"/>\r\n     <use x=\"131.494141\" xlink:href=\"#DejaVuSans-30\"/>\r\n     <use x=\"195.117188\" xlink:href=\"#DejaVuSans-32\"/>\r\n     <use x=\"258.740234\" xlink:href=\"#DejaVuSans-38\"/>\r\n    </g>\r\n   </g>\r\n   <g id=\"text_66\">\r\n    <!-- 0.021 -->\r\n    <g style=\"fill:#ffffff;\" transform=\"translate(93.264063 234.596094)scale(0.1 -0.1)\">\r\n     <use xlink:href=\"#DejaVuSans-30\"/>\r\n     <use x=\"63.623047\" xlink:href=\"#DejaVuSans-2e\"/>\r\n     <use x=\"95.410156\" xlink:href=\"#DejaVuSans-30\"/>\r\n     <use x=\"159.033203\" xlink:href=\"#DejaVuSans-32\"/>\r\n     <use x=\"222.65625\" xlink:href=\"#DejaVuSans-31\"/>\r\n    </g>\r\n   </g>\r\n   <g id=\"text_67\">\r\n    <!-- 0.092 -->\r\n    <g style=\"fill:#ffffff;\" transform=\"translate(149.064063 234.596094)scale(0.1 -0.1)\">\r\n     <use xlink:href=\"#DejaVuSans-30\"/>\r\n     <use x=\"63.623047\" xlink:href=\"#DejaVuSans-2e\"/>\r\n     <use x=\"95.410156\" xlink:href=\"#DejaVuSans-30\"/>\r\n     <use x=\"159.033203\" xlink:href=\"#DejaVuSans-39\"/>\r\n     <use x=\"222.65625\" xlink:href=\"#DejaVuSans-32\"/>\r\n    </g>\r\n   </g>\r\n   <g id=\"text_68\">\r\n    <!-- 0.093 -->\r\n    <g style=\"fill:#ffffff;\" transform=\"translate(204.864063 234.596094)scale(0.1 -0.1)\">\r\n     <use xlink:href=\"#DejaVuSans-30\"/>\r\n     <use x=\"63.623047\" xlink:href=\"#DejaVuSans-2e\"/>\r\n     <use x=\"95.410156\" xlink:href=\"#DejaVuSans-30\"/>\r\n     <use x=\"159.033203\" xlink:href=\"#DejaVuSans-39\"/>\r\n     <use x=\"222.65625\" xlink:href=\"#DejaVuSans-33\"/>\r\n    </g>\r\n   </g>\r\n   <g id=\"text_69\">\r\n    <!-- 0.0077 -->\r\n    <g style=\"fill:#ffffff;\" transform=\"translate(257.482813 234.596094)scale(0.1 -0.1)\">\r\n     <use xlink:href=\"#DejaVuSans-30\"/>\r\n     <use x=\"63.623047\" xlink:href=\"#DejaVuSans-2e\"/>\r\n     <use x=\"95.410156\" xlink:href=\"#DejaVuSans-30\"/>\r\n     <use x=\"159.033203\" xlink:href=\"#DejaVuSans-30\"/>\r\n     <use x=\"222.65625\" xlink:href=\"#DejaVuSans-37\"/>\r\n     <use x=\"286.279297\" xlink:href=\"#DejaVuSans-37\"/>\r\n    </g>\r\n   </g>\r\n   <g id=\"text_70\">\r\n    <!-- -0.0082 -->\r\n    <g style=\"fill:#ffffff;\" transform=\"translate(311.478906 234.596094)scale(0.1 -0.1)\">\r\n     <use xlink:href=\"#DejaVuSans-2d\"/>\r\n     <use x=\"36.083984\" xlink:href=\"#DejaVuSans-30\"/>\r\n     <use x=\"99.707031\" xlink:href=\"#DejaVuSans-2e\"/>\r\n     <use x=\"131.494141\" xlink:href=\"#DejaVuSans-30\"/>\r\n     <use x=\"195.117188\" xlink:href=\"#DejaVuSans-30\"/>\r\n     <use x=\"258.740234\" xlink:href=\"#DejaVuSans-38\"/>\r\n     <use x=\"322.363281\" xlink:href=\"#DejaVuSans-32\"/>\r\n    </g>\r\n   </g>\r\n   <g id=\"text_71\">\r\n    <!-- 1 -->\r\n    <g style=\"fill:#ffffff;\" transform=\"translate(383.396875 234.596094)scale(0.1 -0.1)\">\r\n     <use xlink:href=\"#DejaVuSans-31\"/>\r\n    </g>\r\n   </g>\r\n   <g id=\"text_72\">\r\n    <!-- -0.15 -->\r\n    <g style=\"fill:#ffffff;\" transform=\"translate(429.441406 234.596094)scale(0.1 -0.1)\">\r\n     <use xlink:href=\"#DejaVuSans-2d\"/>\r\n     <use x=\"36.083984\" xlink:href=\"#DejaVuSans-30\"/>\r\n     <use x=\"99.707031\" xlink:href=\"#DejaVuSans-2e\"/>\r\n     <use x=\"131.494141\" xlink:href=\"#DejaVuSans-31\"/>\r\n     <use x=\"195.117188\" xlink:href=\"#DejaVuSans-35\"/>\r\n    </g>\r\n   </g>\r\n   <g id=\"text_73\">\r\n    <!-- 0.049 -->\r\n    <g style=\"fill:#ffffff;\" transform=\"translate(37.464063 268.571094)scale(0.1 -0.1)\">\r\n     <use xlink:href=\"#DejaVuSans-30\"/>\r\n     <use x=\"63.623047\" xlink:href=\"#DejaVuSans-2e\"/>\r\n     <use x=\"95.410156\" xlink:href=\"#DejaVuSans-30\"/>\r\n     <use x=\"159.033203\" xlink:href=\"#DejaVuSans-34\"/>\r\n     <use x=\"222.65625\" xlink:href=\"#DejaVuSans-39\"/>\r\n    </g>\r\n   </g>\r\n   <g id=\"text_74\">\r\n    <!-- -0.034 -->\r\n    <g style=\"fill:#ffffff;\" transform=\"translate(91.460156 268.571094)scale(0.1 -0.1)\">\r\n     <use xlink:href=\"#DejaVuSans-2d\"/>\r\n     <use x=\"36.083984\" xlink:href=\"#DejaVuSans-30\"/>\r\n     <use x=\"99.707031\" xlink:href=\"#DejaVuSans-2e\"/>\r\n     <use x=\"131.494141\" xlink:href=\"#DejaVuSans-30\"/>\r\n     <use x=\"195.117188\" xlink:href=\"#DejaVuSans-33\"/>\r\n     <use x=\"258.740234\" xlink:href=\"#DejaVuSans-34\"/>\r\n    </g>\r\n   </g>\r\n   <g id=\"text_75\">\r\n    <!-- -0.14 -->\r\n    <g style=\"fill:#ffffff;\" transform=\"translate(150.441406 268.571094)scale(0.1 -0.1)\">\r\n     <use xlink:href=\"#DejaVuSans-2d\"/>\r\n     <use x=\"36.083984\" xlink:href=\"#DejaVuSans-30\"/>\r\n     <use x=\"99.707031\" xlink:href=\"#DejaVuSans-2e\"/>\r\n     <use x=\"131.494141\" xlink:href=\"#DejaVuSans-31\"/>\r\n     <use x=\"195.117188\" xlink:href=\"#DejaVuSans-34\"/>\r\n    </g>\r\n   </g>\r\n   <g id=\"text_76\">\r\n    <!-- 0.071 -->\r\n    <g style=\"fill:#ffffff;\" transform=\"translate(204.864063 268.571094)scale(0.1 -0.1)\">\r\n     <use xlink:href=\"#DejaVuSans-30\"/>\r\n     <use x=\"63.623047\" xlink:href=\"#DejaVuSans-2e\"/>\r\n     <use x=\"95.410156\" xlink:href=\"#DejaVuSans-30\"/>\r\n     <use x=\"159.033203\" xlink:href=\"#DejaVuSans-37\"/>\r\n     <use x=\"222.65625\" xlink:href=\"#DejaVuSans-31\"/>\r\n    </g>\r\n   </g>\r\n   <g id=\"text_77\">\r\n    <!-- -0.0019 -->\r\n    <g style=\"fill:#ffffff;\" transform=\"translate(255.678906 268.571094)scale(0.1 -0.1)\">\r\n     <use xlink:href=\"#DejaVuSans-2d\"/>\r\n     <use x=\"36.083984\" xlink:href=\"#DejaVuSans-30\"/>\r\n     <use x=\"99.707031\" xlink:href=\"#DejaVuSans-2e\"/>\r\n     <use x=\"131.494141\" xlink:href=\"#DejaVuSans-30\"/>\r\n     <use x=\"195.117188\" xlink:href=\"#DejaVuSans-30\"/>\r\n     <use x=\"258.740234\" xlink:href=\"#DejaVuSans-31\"/>\r\n     <use x=\"322.363281\" xlink:href=\"#DejaVuSans-39\"/>\r\n    </g>\r\n   </g>\r\n   <g id=\"text_78\">\r\n    <!-- 0.025 -->\r\n    <g style=\"fill:#ffffff;\" transform=\"translate(316.464063 268.571094)scale(0.1 -0.1)\">\r\n     <use xlink:href=\"#DejaVuSans-30\"/>\r\n     <use x=\"63.623047\" xlink:href=\"#DejaVuSans-2e\"/>\r\n     <use x=\"95.410156\" xlink:href=\"#DejaVuSans-30\"/>\r\n     <use x=\"159.033203\" xlink:href=\"#DejaVuSans-32\"/>\r\n     <use x=\"222.65625\" xlink:href=\"#DejaVuSans-35\"/>\r\n    </g>\r\n   </g>\r\n   <g id=\"text_79\">\r\n    <!-- -0.15 -->\r\n    <g style=\"fill:#ffffff;\" transform=\"translate(373.641406 268.571094)scale(0.1 -0.1)\">\r\n     <use xlink:href=\"#DejaVuSans-2d\"/>\r\n     <use x=\"36.083984\" xlink:href=\"#DejaVuSans-30\"/>\r\n     <use x=\"99.707031\" xlink:href=\"#DejaVuSans-2e\"/>\r\n     <use x=\"131.494141\" xlink:href=\"#DejaVuSans-31\"/>\r\n     <use x=\"195.117188\" xlink:href=\"#DejaVuSans-35\"/>\r\n    </g>\r\n   </g>\r\n   <g id=\"text_80\">\r\n    <!-- 1 -->\r\n    <g style=\"fill:#ffffff;\" transform=\"translate(439.196875 268.571094)scale(0.1 -0.1)\">\r\n     <use xlink:href=\"#DejaVuSans-31\"/>\r\n    </g>\r\n   </g>\r\n  </g>\r\n  <g id=\"axes_2\">\r\n   <g id=\"patch_3\">\r\n    <path d=\"M 498.178125 282.799219 \r\nL 511.768125 282.799219 \r\nL 511.768125 10.999219 \r\nL 498.178125 10.999219 \r\nz\r\n\" style=\"fill:#ffffff;\"/>\r\n   </g>\r\n   <g id=\"patch_4\">\r\n    <path clip-path=\"url(#pbe36462160)\" d=\"M 498.178125 282.799219 \r\nL 498.178125 281.7375 \r\nL 498.178125 12.060938 \r\nL 498.178125 10.999219 \r\nL 511.768125 10.999219 \r\nL 511.768125 12.060938 \r\nL 511.768125 281.7375 \r\nL 511.768125 282.799219 \r\nL 511.768125 282.799219 \r\nz\r\n\" style=\"fill:#ffffff;stroke:#ffffff;stroke-linejoin:miter;stroke-width:0.01;\"/>\r\n   </g>\r\n   <image height=\"272\" id=\"image94a2b9bfee\" transform=\"scale(1 -1)translate(0 -272)\" width=\"14\" x=\"498\" xlink:href=\"data:image/png;base64,\r\niVBORw0KGgoAAAANSUhEUgAAAA4AAAEQCAYAAACA40WOAAABdklEQVR4nO2Y3Q2DMBCDk4itukKH7l4tSSdoH74TtgzwfvL57xD0x/O1Gni2PgaZa1sfHQ52OSLlOC7AkSIyuNbaNgzixPg4sI9dLg7mmBQA7KO8yHBVXuRCyNV2FLIaUytDVg12oDnPlRMjFopMVdUnp6AqmvPUCs1ZasXFUSPiAPDIQVWzikwR9Zdcvyq3Q41YOMgYUT0oV7XyjQwHDaoaVkX/usJUhRyTAtDUHAsBYKs6XuVyVQ19DOKYsypW1eGjmGOlyDg5asQcOxwhz1nVMBjDsVBkgx0TDmI7lpzjohxvxH+IQasyxEKRecihOO38djg4UsTGEdV2FFZVI9IAVIock1WDj1MtTlRWbzsOQIQc+QXI4ejwceoRzy/OyrFjqe0oFFmeHC7OJZKjPo9LfpA5R7mq8qzyIuOQGyIntyMo5AZxchD1Lx26aqHId+R+D849ZtXbjiMQg4qcJA5dVc+RI+457cB2fCji+wqI6r9kcnG+NapYCv/ChVIAAAAASUVORK5CYII=\" y=\"-10\"/>\r\n   <g id=\"matplotlib.axis_3\"/>\r\n   <g id=\"matplotlib.axis_4\">\r\n    <g id=\"ytick_9\">\r\n     <g id=\"line2d_17\">\r\n      <defs>\r\n       <path d=\"M 0 0 \r\nL 3.5 0 \r\n\" id=\"ma38e329bac\" style=\"stroke:#000000;stroke-width:0.8;\"/>\r\n      </defs>\r\n      <g>\r\n       <use style=\"stroke:#000000;stroke-width:0.8;\" x=\"511.768125\" xlink:href=\"#ma38e329bac\" y=\"246.743078\"/>\r\n      </g>\r\n     </g>\r\n     <g id=\"text_81\">\r\n      <!-- 0.0 -->\r\n      <g transform=\"translate(518.768125 250.542297)scale(0.1 -0.1)\">\r\n       <use xlink:href=\"#DejaVuSans-30\"/>\r\n       <use x=\"63.623047\" xlink:href=\"#DejaVuSans-2e\"/>\r\n       <use x=\"95.410156\" xlink:href=\"#DejaVuSans-30\"/>\r\n      </g>\r\n     </g>\r\n    </g>\r\n    <g id=\"ytick_10\">\r\n     <g id=\"line2d_18\">\r\n      <g>\r\n       <use style=\"stroke:#000000;stroke-width:0.8;\" x=\"511.768125\" xlink:href=\"#ma38e329bac\" y=\"199.594306\"/>\r\n      </g>\r\n     </g>\r\n     <g id=\"text_82\">\r\n      <!-- 0.2 -->\r\n      <g transform=\"translate(518.768125 203.393525)scale(0.1 -0.1)\">\r\n       <use xlink:href=\"#DejaVuSans-30\"/>\r\n       <use x=\"63.623047\" xlink:href=\"#DejaVuSans-2e\"/>\r\n       <use x=\"95.410156\" xlink:href=\"#DejaVuSans-32\"/>\r\n      </g>\r\n     </g>\r\n    </g>\r\n    <g id=\"ytick_11\">\r\n     <g id=\"line2d_19\">\r\n      <g>\r\n       <use style=\"stroke:#000000;stroke-width:0.8;\" x=\"511.768125\" xlink:href=\"#ma38e329bac\" y=\"152.445534\"/>\r\n      </g>\r\n     </g>\r\n     <g id=\"text_83\">\r\n      <!-- 0.4 -->\r\n      <g transform=\"translate(518.768125 156.244753)scale(0.1 -0.1)\">\r\n       <use xlink:href=\"#DejaVuSans-30\"/>\r\n       <use x=\"63.623047\" xlink:href=\"#DejaVuSans-2e\"/>\r\n       <use x=\"95.410156\" xlink:href=\"#DejaVuSans-34\"/>\r\n      </g>\r\n     </g>\r\n    </g>\r\n    <g id=\"ytick_12\">\r\n     <g id=\"line2d_20\">\r\n      <g>\r\n       <use style=\"stroke:#000000;stroke-width:0.8;\" x=\"511.768125\" xlink:href=\"#ma38e329bac\" y=\"105.296762\"/>\r\n      </g>\r\n     </g>\r\n     <g id=\"text_84\">\r\n      <!-- 0.6 -->\r\n      <g transform=\"translate(518.768125 109.095981)scale(0.1 -0.1)\">\r\n       <use xlink:href=\"#DejaVuSans-30\"/>\r\n       <use x=\"63.623047\" xlink:href=\"#DejaVuSans-2e\"/>\r\n       <use x=\"95.410156\" xlink:href=\"#DejaVuSans-36\"/>\r\n      </g>\r\n     </g>\r\n    </g>\r\n    <g id=\"ytick_13\">\r\n     <g id=\"line2d_21\">\r\n      <g>\r\n       <use style=\"stroke:#000000;stroke-width:0.8;\" x=\"511.768125\" xlink:href=\"#ma38e329bac\" y=\"58.147991\"/>\r\n      </g>\r\n     </g>\r\n     <g id=\"text_85\">\r\n      <!-- 0.8 -->\r\n      <g transform=\"translate(518.768125 61.947209)scale(0.1 -0.1)\">\r\n       <use xlink:href=\"#DejaVuSans-30\"/>\r\n       <use x=\"63.623047\" xlink:href=\"#DejaVuSans-2e\"/>\r\n       <use x=\"95.410156\" xlink:href=\"#DejaVuSans-38\"/>\r\n      </g>\r\n     </g>\r\n    </g>\r\n    <g id=\"ytick_14\">\r\n     <g id=\"line2d_22\">\r\n      <g>\r\n       <use style=\"stroke:#000000;stroke-width:0.8;\" x=\"511.768125\" xlink:href=\"#ma38e329bac\" y=\"10.999219\"/>\r\n      </g>\r\n     </g>\r\n     <g id=\"text_86\">\r\n      <!-- 1.0 -->\r\n      <g transform=\"translate(518.768125 14.798437)scale(0.1 -0.1)\">\r\n       <use xlink:href=\"#DejaVuSans-31\"/>\r\n       <use x=\"63.623047\" xlink:href=\"#DejaVuSans-2e\"/>\r\n       <use x=\"95.410156\" xlink:href=\"#DejaVuSans-30\"/>\r\n      </g>\r\n     </g>\r\n    </g>\r\n   </g>\r\n   <g id=\"LineCollection_1\"/>\r\n   <g id=\"patch_5\">\r\n    <path d=\"M 498.178125 282.799219 \r\nL 498.178125 281.7375 \r\nL 498.178125 12.060938 \r\nL 498.178125 10.999219 \r\nL 511.768125 10.999219 \r\nL 511.768125 12.060938 \r\nL 511.768125 281.7375 \r\nL 511.768125 282.799219 \r\nz\r\n\" style=\"fill:none;\"/>\r\n   </g>\r\n  </g>\r\n </g>\r\n <defs>\r\n  <clipPath id=\"pbe7064b4e7\">\r\n   <rect height=\"271.8\" width=\"446.4\" x=\"23.878125\" y=\"10.999219\"/>\r\n  </clipPath>\r\n  <clipPath id=\"pbe36462160\">\r\n   <rect height=\"271.8\" width=\"13.59\" x=\"498.178125\" y=\"10.999219\"/>\r\n  </clipPath>\r\n </defs>\r\n</svg>\r\n",
      "image/png": "[encoded data removed]"
     },
     "metadata": {
      "needs_background": "light"
     }
    }
   ],
   "source": [
    "# Once all (assumed) relevant data has been converted to digits we can check the correlation between all columns\n",
    "\n",
    "# Correlation matrix shows there is no clear relation between values\n",
    "plt.figure(figsize = (10,5))\n",
    "sns.heatmap(df_train.corr(),annot = True , cmap = \"coolwarm\")\n",
    "plt.show()"
   ]
  },
  {
   "cell_type": "code",
   "execution_count": 25,
   "metadata": {},
   "outputs": [
    {
     "output_type": "stream",
     "name": "stdout",
     "text": [
      "<class 'pandas.core.frame.DataFrame'>\nInt64Index: 100000 entries, 161528 to 69647\nData columns (total 11 columns):\n #   Column              Non-Null Count   Dtype  \n---  ------              --------------   -----  \n 0   5                   100000 non-null  int64  \n 1   9                   99967 non-null   float64\n 2   12                  100000 non-null  int64  \n 3   13                  100000 non-null  int64  \n 4   15                  100000 non-null  int32  \n 5   17                  100000 non-null  object \n 6   TB & Chest disease  100000 non-null  uint8  \n 7   anesthesia          100000 non-null  uint8  \n 8   gynecology          100000 non-null  uint8  \n 9   radiotherapy        100000 non-null  uint8  \n 10  surgery             100000 non-null  uint8  \ndtypes: float64(1), int32(1), int64(3), object(1), uint8(5)\nmemory usage: 5.4+ MB\n"
     ]
    }
   ],
   "source": [
    "# We check if there are Nan in the dataframe\n",
    "df_train_reduced.info()"
   ]
  },
  {
   "cell_type": "code",
   "execution_count": 26,
   "metadata": {},
   "outputs": [
    {
     "output_type": "stream",
     "name": "stdout",
     "text": [
      "The column 'Condition of Bed in the Ward' has 0.033% of values as nan\n"
     ]
    }
   ],
   "source": [
    "# We check the percentage of nan values per column\n",
    "percentage = df_train_reduced[\"9\"].isna().sum() * 100 / len(df_train_reduced)\n",
    "print(f\"The column 'Condition of Bed in the Ward' has {percentage}% of values as nan\")"
   ]
  },
  {
   "cell_type": "code",
   "execution_count": 27,
   "metadata": {},
   "outputs": [],
   "source": [
    "# We cannot replace the nan with other values as we would be assuming their value so we remove rows with nans\n",
    "df_train_reduced[\"9\"].unique()\n",
    "df_train_reduced = df_train_reduced.fillna(0)"
   ]
  },
  {
   "cell_type": "code",
   "execution_count": 28,
   "metadata": {},
   "outputs": [
    {
     "output_type": "execute_result",
     "data": {
      "text/plain": [
       "        5    9  12  13  15     17  TB & Chest disease  anesthesia  gynecology  \\\n",
       "0                                                                               \n",
       "161528  2  4.0   2   2   2   0-10                   0           0           1   \n",
       "159472  4  2.0   1   2   5  21-30                   0           0           1   \n",
       "309765  2  3.0   2   2   7  11-20                   0           1           0   \n",
       "279614  3  4.0   3   2   1  51-60                   0           0           1   \n",
       "147791  3  2.0   2   2   5  51-60                   0           0           1   \n",
       "\n",
       "        radiotherapy  surgery  \n",
       "0                              \n",
       "161528             0        0  \n",
       "159472             0        0  \n",
       "309765             0        0  \n",
       "279614             0        0  \n",
       "147791             0        0  "
      ],
      "text/html": "<div>\n<style scoped>\n    .dataframe tbody tr th:only-of-type {\n        vertical-align: middle;\n    }\n\n    .dataframe tbody tr th {\n        vertical-align: top;\n    }\n\n    .dataframe thead th {\n        text-align: right;\n    }\n</style>\n<table border=\"1\" class=\"dataframe\">\n  <thead>\n    <tr style=\"text-align: right;\">\n      <th></th>\n      <th>5</th>\n      <th>9</th>\n      <th>12</th>\n      <th>13</th>\n      <th>15</th>\n      <th>17</th>\n      <th>TB &amp; Chest disease</th>\n      <th>anesthesia</th>\n      <th>gynecology</th>\n      <th>radiotherapy</th>\n      <th>surgery</th>\n    </tr>\n    <tr>\n      <th>0</th>\n      <th></th>\n      <th></th>\n      <th></th>\n      <th></th>\n      <th></th>\n      <th></th>\n      <th></th>\n      <th></th>\n      <th></th>\n      <th></th>\n      <th></th>\n    </tr>\n  </thead>\n  <tbody>\n    <tr>\n      <th>161528</th>\n      <td>2</td>\n      <td>4.0</td>\n      <td>2</td>\n      <td>2</td>\n      <td>2</td>\n      <td>0-10</td>\n      <td>0</td>\n      <td>0</td>\n      <td>1</td>\n      <td>0</td>\n      <td>0</td>\n    </tr>\n    <tr>\n      <th>159472</th>\n      <td>4</td>\n      <td>2.0</td>\n      <td>1</td>\n      <td>2</td>\n      <td>5</td>\n      <td>21-30</td>\n      <td>0</td>\n      <td>0</td>\n      <td>1</td>\n      <td>0</td>\n      <td>0</td>\n    </tr>\n    <tr>\n      <th>309765</th>\n      <td>2</td>\n      <td>3.0</td>\n      <td>2</td>\n      <td>2</td>\n      <td>7</td>\n      <td>11-20</td>\n      <td>0</td>\n      <td>1</td>\n      <td>0</td>\n      <td>0</td>\n      <td>0</td>\n    </tr>\n    <tr>\n      <th>279614</th>\n      <td>3</td>\n      <td>4.0</td>\n      <td>3</td>\n      <td>2</td>\n      <td>1</td>\n      <td>51-60</td>\n      <td>0</td>\n      <td>0</td>\n      <td>1</td>\n      <td>0</td>\n      <td>0</td>\n    </tr>\n    <tr>\n      <th>147791</th>\n      <td>3</td>\n      <td>2.0</td>\n      <td>2</td>\n      <td>2</td>\n      <td>5</td>\n      <td>51-60</td>\n      <td>0</td>\n      <td>0</td>\n      <td>1</td>\n      <td>0</td>\n      <td>0</td>\n    </tr>\n  </tbody>\n</table>\n</div>"
     },
     "metadata": {},
     "execution_count": 28
    }
   ],
   "source": [
    "df_train_reduced.head()"
   ]
  },
  {
   "source": [
    "## 2. Defining X and y"
   ],
   "cell_type": "markdown",
   "metadata": {}
  },
  {
   "cell_type": "code",
   "execution_count": 29,
   "metadata": {},
   "outputs": [],
   "source": [
    "X = df_train_reduced.drop([\"17\"], axis=1)\n",
    "y = df_train_reduced[\"17\"]"
   ]
  },
  {
   "cell_type": "code",
   "execution_count": 30,
   "metadata": {},
   "outputs": [
    {
     "output_type": "execute_result",
     "data": {
      "text/plain": [
       "(100000, 10)"
      ]
     },
     "metadata": {},
     "execution_count": 30
    }
   ],
   "source": [
    "X.shape"
   ]
  },
  {
   "cell_type": "code",
   "execution_count": 31,
   "metadata": {},
   "outputs": [],
   "source": [
    "y = np.array(y).reshape(-1,1)"
   ]
  },
  {
   "source": [
    "## 3. Dividing X_train, X_test, y_train, y_test"
   ],
   "cell_type": "markdown",
   "metadata": {}
  },
  {
   "cell_type": "code",
   "execution_count": 32,
   "metadata": {},
   "outputs": [],
   "source": [
    "X_train, X_test, y_train, y_test = train_test_split(X, y, test_size = 0.20, random_state = 42)"
   ]
  },
  {
   "source": [
    "## 7. Test group"
   ],
   "cell_type": "markdown",
   "metadata": {}
  },
  {
   "cell_type": "code",
   "execution_count": 33,
   "metadata": {},
   "outputs": [
    {
     "output_type": "execute_result",
     "data": {
      "text/plain": [
       "18688"
      ]
     },
     "metadata": {},
     "execution_count": 33
    }
   ],
   "source": [
    "# Function to remove unnecesary elements\n",
    "import gc\n",
    "gc.collect()"
   ]
  },
  {
   "cell_type": "code",
   "execution_count": 34,
   "metadata": {},
   "outputs": [
    {
     "output_type": "execute_result",
     "data": {
      "text/plain": [
       "         1  2  3  4  5                   6  7  8    9      10    11  \\\n",
       "0                                                                     \n",
       "314114  19  a  7  Y  4          gynecology  S  C  2.0   59278   8.0   \n",
       "208989  15  c  5  Z  3          gynecology  S  F  2.0  102253  15.0   \n",
       "305872  17  e  1  X  4          gynecology  R  E  4.0    5828   4.0   \n",
       "266099   3  c  3  Z  4  TB & Chest disease  R  A  2.0   56642   9.0   \n",
       "13228    6  a  6  X  4          gynecology  R  F  1.0  116266   8.0   \n",
       "\n",
       "               12        13  14     15      16  \n",
       "0                                               \n",
       "314114  Emergency     Minor   2  41-50  4778.0  \n",
       "208989     Trauma  Moderate   3  31-40  5734.0  \n",
       "305872  Emergency     Minor   3  71-80  5064.0  \n",
       "266099     Urgent   Extreme   4  31-40  3254.0  \n",
       "13228   Emergency     Minor   3  21-30  4639.0  "
      ],
      "text/html": "<div>\n<style scoped>\n    .dataframe tbody tr th:only-of-type {\n        vertical-align: middle;\n    }\n\n    .dataframe tbody tr th {\n        vertical-align: top;\n    }\n\n    .dataframe thead th {\n        text-align: right;\n    }\n</style>\n<table border=\"1\" class=\"dataframe\">\n  <thead>\n    <tr style=\"text-align: right;\">\n      <th></th>\n      <th>1</th>\n      <th>2</th>\n      <th>3</th>\n      <th>4</th>\n      <th>5</th>\n      <th>6</th>\n      <th>7</th>\n      <th>8</th>\n      <th>9</th>\n      <th>10</th>\n      <th>11</th>\n      <th>12</th>\n      <th>13</th>\n      <th>14</th>\n      <th>15</th>\n      <th>16</th>\n    </tr>\n    <tr>\n      <th>0</th>\n      <th></th>\n      <th></th>\n      <th></th>\n      <th></th>\n      <th></th>\n      <th></th>\n      <th></th>\n      <th></th>\n      <th></th>\n      <th></th>\n      <th></th>\n      <th></th>\n      <th></th>\n      <th></th>\n      <th></th>\n      <th></th>\n    </tr>\n  </thead>\n  <tbody>\n    <tr>\n      <th>314114</th>\n      <td>19</td>\n      <td>a</td>\n      <td>7</td>\n      <td>Y</td>\n      <td>4</td>\n      <td>gynecology</td>\n      <td>S</td>\n      <td>C</td>\n      <td>2.0</td>\n      <td>59278</td>\n      <td>8.0</td>\n      <td>Emergency</td>\n      <td>Minor</td>\n      <td>2</td>\n      <td>41-50</td>\n      <td>4778.0</td>\n    </tr>\n    <tr>\n      <th>208989</th>\n      <td>15</td>\n      <td>c</td>\n      <td>5</td>\n      <td>Z</td>\n      <td>3</td>\n      <td>gynecology</td>\n      <td>S</td>\n      <td>F</td>\n      <td>2.0</td>\n      <td>102253</td>\n      <td>15.0</td>\n      <td>Trauma</td>\n      <td>Moderate</td>\n      <td>3</td>\n      <td>31-40</td>\n      <td>5734.0</td>\n    </tr>\n    <tr>\n      <th>305872</th>\n      <td>17</td>\n      <td>e</td>\n      <td>1</td>\n      <td>X</td>\n      <td>4</td>\n      <td>gynecology</td>\n      <td>R</td>\n      <td>E</td>\n      <td>4.0</td>\n      <td>5828</td>\n      <td>4.0</td>\n      <td>Emergency</td>\n      <td>Minor</td>\n      <td>3</td>\n      <td>71-80</td>\n      <td>5064.0</td>\n    </tr>\n    <tr>\n      <th>266099</th>\n      <td>3</td>\n      <td>c</td>\n      <td>3</td>\n      <td>Z</td>\n      <td>4</td>\n      <td>TB &amp; Chest disease</td>\n      <td>R</td>\n      <td>A</td>\n      <td>2.0</td>\n      <td>56642</td>\n      <td>9.0</td>\n      <td>Urgent</td>\n      <td>Extreme</td>\n      <td>4</td>\n      <td>31-40</td>\n      <td>3254.0</td>\n    </tr>\n    <tr>\n      <th>13228</th>\n      <td>6</td>\n      <td>a</td>\n      <td>6</td>\n      <td>X</td>\n      <td>4</td>\n      <td>gynecology</td>\n      <td>R</td>\n      <td>F</td>\n      <td>1.0</td>\n      <td>116266</td>\n      <td>8.0</td>\n      <td>Emergency</td>\n      <td>Minor</td>\n      <td>3</td>\n      <td>21-30</td>\n      <td>4639.0</td>\n    </tr>\n  </tbody>\n</table>\n</div>"
     },
     "metadata": {},
     "execution_count": 34
    }
   ],
   "source": [
    "X_pred = pd.read_csv(\"hospital_test.csv\", index_col=0)\n",
    "X_pred.head()"
   ]
  },
  {
   "cell_type": "code",
   "execution_count": 35,
   "metadata": {},
   "outputs": [],
   "source": [
    "# Same transformations than before to X_pred are carried out\n",
    "\n",
    "# dummies\n",
    "features_pred = X_pred[\"6\"]\n",
    "features_pred = pd.get_dummies(features_pred)\n",
    "\n",
    "X_pred_reduced = X_pred.drop([\"1\",\"2\", \"3\", \"4\",\"6\", \"10\", \"16\", \"7\", \"8\", \"11\", \"14\"], axis=1)\n",
    "\n",
    "X_pred_reduced = pd.concat([X_pred_reduced, features_pred], axis=1)\n",
    "\n",
    "# encoding to numerical\n",
    "X_pred_reduced[\"12\"] = X_pred_reduced[\"12\"].replace({'Urgent': 2, 'Trauma': 1, 'Emergency': 3})\n",
    "\n",
    "X_pred_reduced[\"13\"] = X_pred_reduced[\"13\"].replace({'Moderate': 2, 'Extreme': 3, 'Minor': 1})\n",
    "\n",
    "le = preprocessing.LabelEncoder()\n",
    "data_pred = X_pred_reduced[\"15\"].values\n",
    "X_pred_reduced[\"15\"] = le.fit_transform(data_pred)\n",
    "\n",
    "# replace of nan\n",
    "X_pred_reduced = X_pred_reduced.fillna(0)"
   ]
  },
  {
   "cell_type": "code",
   "execution_count": 36,
   "metadata": {},
   "outputs": [
    {
     "output_type": "execute_result",
     "data": {
      "text/plain": [
       "        5    9  12  13  15  TB & Chest disease  anesthesia  gynecology  \\\n",
       "0                                                                        \n",
       "314114  4  2.0   3   1   4                   0           0           1   \n",
       "208989  3  2.0   1   2   3                   0           0           1   \n",
       "305872  4  4.0   3   1   7                   0           0           1   \n",
       "266099  4  2.0   2   3   3                   1           0           0   \n",
       "13228   4  1.0   3   1   2                   0           0           1   \n",
       "...    ..  ...  ..  ..  ..                 ...         ...         ...   \n",
       "318155  6  3.0   2   1   5                   0           1           0   \n",
       "144850  2  2.0   3   2   6                   0           0           1   \n",
       "180676  3  3.0   1   1   3                   0           0           1   \n",
       "39933   4  2.0   1   3   3                   0           0           1   \n",
       "116673  4  2.0   1   2   5                   1           0           0   \n",
       "\n",
       "        radiotherapy  surgery  \n",
       "0                              \n",
       "314114             0        0  \n",
       "208989             0        0  \n",
       "305872             0        0  \n",
       "266099             0        0  \n",
       "13228              0        0  \n",
       "...              ...      ...  \n",
       "318155             0        0  \n",
       "144850             0        0  \n",
       "180676             0        0  \n",
       "39933              0        0  \n",
       "116673             0        0  \n",
       "\n",
       "[133744 rows x 10 columns]"
      ],
      "text/html": "<div>\n<style scoped>\n    .dataframe tbody tr th:only-of-type {\n        vertical-align: middle;\n    }\n\n    .dataframe tbody tr th {\n        vertical-align: top;\n    }\n\n    .dataframe thead th {\n        text-align: right;\n    }\n</style>\n<table border=\"1\" class=\"dataframe\">\n  <thead>\n    <tr style=\"text-align: right;\">\n      <th></th>\n      <th>5</th>\n      <th>9</th>\n      <th>12</th>\n      <th>13</th>\n      <th>15</th>\n      <th>TB &amp; Chest disease</th>\n      <th>anesthesia</th>\n      <th>gynecology</th>\n      <th>radiotherapy</th>\n      <th>surgery</th>\n    </tr>\n    <tr>\n      <th>0</th>\n      <th></th>\n      <th></th>\n      <th></th>\n      <th></th>\n      <th></th>\n      <th></th>\n      <th></th>\n      <th></th>\n      <th></th>\n      <th></th>\n    </tr>\n  </thead>\n  <tbody>\n    <tr>\n      <th>314114</th>\n      <td>4</td>\n      <td>2.0</td>\n      <td>3</td>\n      <td>1</td>\n      <td>4</td>\n      <td>0</td>\n      <td>0</td>\n      <td>1</td>\n      <td>0</td>\n      <td>0</td>\n    </tr>\n    <tr>\n      <th>208989</th>\n      <td>3</td>\n      <td>2.0</td>\n      <td>1</td>\n      <td>2</td>\n      <td>3</td>\n      <td>0</td>\n      <td>0</td>\n      <td>1</td>\n      <td>0</td>\n      <td>0</td>\n    </tr>\n    <tr>\n      <th>305872</th>\n      <td>4</td>\n      <td>4.0</td>\n      <td>3</td>\n      <td>1</td>\n      <td>7</td>\n      <td>0</td>\n      <td>0</td>\n      <td>1</td>\n      <td>0</td>\n      <td>0</td>\n    </tr>\n    <tr>\n      <th>266099</th>\n      <td>4</td>\n      <td>2.0</td>\n      <td>2</td>\n      <td>3</td>\n      <td>3</td>\n      <td>1</td>\n      <td>0</td>\n      <td>0</td>\n      <td>0</td>\n      <td>0</td>\n    </tr>\n    <tr>\n      <th>13228</th>\n      <td>4</td>\n      <td>1.0</td>\n      <td>3</td>\n      <td>1</td>\n      <td>2</td>\n      <td>0</td>\n      <td>0</td>\n      <td>1</td>\n      <td>0</td>\n      <td>0</td>\n    </tr>\n    <tr>\n      <th>...</th>\n      <td>...</td>\n      <td>...</td>\n      <td>...</td>\n      <td>...</td>\n      <td>...</td>\n      <td>...</td>\n      <td>...</td>\n      <td>...</td>\n      <td>...</td>\n      <td>...</td>\n    </tr>\n    <tr>\n      <th>318155</th>\n      <td>6</td>\n      <td>3.0</td>\n      <td>2</td>\n      <td>1</td>\n      <td>5</td>\n      <td>0</td>\n      <td>1</td>\n      <td>0</td>\n      <td>0</td>\n      <td>0</td>\n    </tr>\n    <tr>\n      <th>144850</th>\n      <td>2</td>\n      <td>2.0</td>\n      <td>3</td>\n      <td>2</td>\n      <td>6</td>\n      <td>0</td>\n      <td>0</td>\n      <td>1</td>\n      <td>0</td>\n      <td>0</td>\n    </tr>\n    <tr>\n      <th>180676</th>\n      <td>3</td>\n      <td>3.0</td>\n      <td>1</td>\n      <td>1</td>\n      <td>3</td>\n      <td>0</td>\n      <td>0</td>\n      <td>1</td>\n      <td>0</td>\n      <td>0</td>\n    </tr>\n    <tr>\n      <th>39933</th>\n      <td>4</td>\n      <td>2.0</td>\n      <td>1</td>\n      <td>3</td>\n      <td>3</td>\n      <td>0</td>\n      <td>0</td>\n      <td>1</td>\n      <td>0</td>\n      <td>0</td>\n    </tr>\n    <tr>\n      <th>116673</th>\n      <td>4</td>\n      <td>2.0</td>\n      <td>1</td>\n      <td>2</td>\n      <td>5</td>\n      <td>1</td>\n      <td>0</td>\n      <td>0</td>\n      <td>0</td>\n      <td>0</td>\n    </tr>\n  </tbody>\n</table>\n<p>133744 rows × 10 columns</p>\n</div>"
     },
     "metadata": {},
     "execution_count": 36
    }
   ],
   "source": [
    "X_pred_reduced"
   ]
  },
  {
   "source": [
    "## 4. Model selection"
   ],
   "cell_type": "markdown",
   "metadata": {}
  },
  {
   "cell_type": "code",
   "execution_count": 41,
   "metadata": {},
   "outputs": [
    {
     "output_type": "stream",
     "name": "stderr",
     "text": [
      "C:\\Users\\Usuario\\AppData\\Local\\Programs\\Python\\Python37\\lib\\site-packages\\sklearn\\utils\\validation.py:63: DataConversionWarning: A column-vector y was passed when a 1d array was expected. Please change the shape of y to (n_samples, ), for example using ravel().\n  return f(*args, **kwargs)\n"
     ]
    },
    {
     "output_type": "execute_result",
     "data": {
      "text/plain": [
       "VotingClassifier(estimators=[('gradient',\n",
       "                              GradientBoostingClassifier(max_features='sqrt',\n",
       "                                                         min_samples_leaf=2,\n",
       "                                                         n_estimators=150,\n",
       "                                                         random_state=42,\n",
       "                                                         warm_start=True)),\n",
       "                             ('forest',\n",
       "                              RandomForestClassifier(max_depth=3,\n",
       "                                                     max_features='sqrt',\n",
       "                                                     min_samples_leaf=2,\n",
       "                                                     n_estimators=500,\n",
       "                                                     random_state=42,\n",
       "                                                     warm_start=True))],\n",
       "                 voting='soft')"
      ]
     },
     "metadata": {},
     "execution_count": 41
    }
   ],
   "source": [
    "# Voting with RandomForest & CatBoost\n",
    "from sklearn.ensemble import VotingClassifier\n",
    "\n",
    "grad_clf = GradientBoostingClassifier(learning_rate= 0.1, max_depth= 3, max_features= \"sqrt\", min_samples_leaf= 2, min_samples_split= 2, n_estimators= 150, random_state= 42, warm_start= True)\n",
    "cat_clf = CatBoostClassifier(random_state=42, logging_level=\"Silent\")\n",
    "rf_clf = RandomForestClassifier(random_state=42, n_estimators=500, warm_start=True, max_depth=3, max_features=\"sqrt\", min_samples_leaf=2, min_samples_split=2)\n",
    "\n",
    "estimators = [(\"gradient\", grad_clf), (\"forest\", rf_clf)]\n",
    "\n",
    "voting_clf = VotingClassifier(estimators, voting=\"soft\")\n",
    "voting_clf.fit(X_train, y_train)"
   ]
  },
  {
   "cell_type": "code",
   "execution_count": 42,
   "metadata": {},
   "outputs": [
    {
     "output_type": "stream",
     "name": "stderr",
     "text": [
      "C:\\Users\\Usuario\\AppData\\Local\\Programs\\Python\\Python37\\lib\\site-packages\\sklearn\\utils\\validation.py:63: DataConversionWarning: A column-vector y was passed when a 1d array was expected. Please change the shape of y to (n_samples, ), for example using ravel().\n",
      "  return f(*args, **kwargs)\n",
      "GradientBoostingClassifier 0.31295\n",
      "ipykernel_launcher:6: DataConversionWarning: A column-vector y was passed when a 1d array was expected. Please change the shape of y to (n_samples,), for example using ravel().\n",
      "RandomForestClassifier 0.30645\n",
      "C:\\Users\\Usuario\\AppData\\Local\\Programs\\Python\\Python37\\lib\\site-packages\\sklearn\\utils\\validation.py:63: DataConversionWarning: A column-vector y was passed when a 1d array was expected. Please change the shape of y to (n_samples, ), for example using ravel().\n",
      "  return f(*args, **kwargs)\n",
      "VotingClassifier 0.3095\n"
     ]
    }
   ],
   "source": [
    "from sklearn.metrics import accuracy_score\n",
    "\n",
    "def voting_prediction(models):\n",
    "    \n",
    "    for clf in (models):\n",
    "        clf.fit(X_train, y_train)\n",
    "        y_pred = clf.predict(X_test)\n",
    "        print (clf.__class__.__name__, metrics.accuracy_score(y_test, y_pred.ravel()))\n",
    "\n",
    "voting_prediction(models=(grad_clf, rf_clf, voting_clf))        "
   ]
  },
  {
   "cell_type": "code",
   "execution_count": null,
   "metadata": {},
   "outputs": [],
   "source": []
  },
  {
   "cell_type": "code",
   "execution_count": null,
   "metadata": {},
   "outputs": [],
   "source": []
  },
  {
   "cell_type": "code",
   "execution_count": 39,
   "metadata": {},
   "outputs": [
    {
     "output_type": "stream",
     "name": "stderr",
     "text": [
      "C:\\Users\\Usuario\\AppData\\Local\\Programs\\Python\\Python37\\lib\\site-packages\\sklearn\\utils\\validation.py:63: DataConversionWarning: A column-vector y was passed when a 1d array was expected. Please change the shape of y to (n_samples, ), for example using ravel().\n",
      "  return f(*args, **kwargs)\n",
      "\n",
      "Accuracy score: 0.3171\n",
      "Best params: {'learning_rate': 0.1, 'max_depth': 3, 'max_features': 'sqrt', 'min_samples_leaf': 2, 'min_samples_split': 2, 'n_estimators': 150, 'random_state': 42, 'warm_start': True}\n"
     ]
    }
   ],
   "source": [
    "# Gradient boosting - hyperparams tunning\n",
    "model = GradientBoostingClassifier()\n",
    "\n",
    "gbct_params = {\n",
    "                \"n_estimators\": [150, 300, 500],\n",
    "                \"min_samples_split\": [2, 3, 4, 5],\n",
    "                \"min_samples_leaf\": [1,2,3],\n",
    "                \"max_depth\": [2,3,4],\n",
    "                \"max_features\": [\"auto\", \"sqrt\", \"log2\"],\n",
    "                \"learning_rate\": [0.05, 0.1, 0.2],\n",
    "                \"warm_start\": [True],\n",
    "                \"random_state\": [42]\n",
    "                }\n",
    "\n",
    "\n",
    "gbct = GridSearchCV(model, \n",
    "                    gbct_params, \n",
    "                    cv=10, \n",
    "                    scoring= \"accuracy\",\n",
    "                    n_jobs=-1)\n",
    "\n",
    "\n",
    "gbct_model = gbct.fit(X_train, y_train)\n",
    "y_pred_gbct = gbct_model.predict(X_test)\n",
    "print(\"\\nAccuracy score:\", metrics.accuracy_score(y_test, y_pred_gbct))\n",
    "print(\"Best params:\", gbct_model.best_params_)"
   ]
  },
  {
   "cell_type": "code",
   "execution_count": 40,
   "metadata": {},
   "outputs": [],
   "source": [
    "# save final model\n",
    "filename = \"finished_model.sav\"\n",
    "pickle.dump(gbct_model, open(filename, \"wb\"))"
   ]
  },
  {
   "cell_type": "code",
   "execution_count": 75,
   "metadata": {},
   "outputs": [
    {
     "output_type": "stream",
     "name": "stdout",
     "text": [
      "0.32075\n",
      "0.32745\n"
     ]
    }
   ],
   "source": [
    "print(gbct_model.score(X_train, y_train))\n",
    "print(gbct_model.score(X_test, y_test))"
   ]
  },
  {
   "source": [
    "## 8. Prediction with all data"
   ],
   "cell_type": "markdown",
   "metadata": {}
  },
  {
   "cell_type": "code",
   "execution_count": null,
   "metadata": {},
   "outputs": [],
   "source": [
    "with open(\"finished_model.sav\",\"rb\") as f:\n",
    "    loaded_model = pickle.load(f)"
   ]
  },
  {
   "cell_type": "code",
   "execution_count": null,
   "metadata": {},
   "outputs": [],
   "source": [
    "loaded_model.fit(X,y)"
   ]
  },
  {
   "cell_type": "code",
   "execution_count": 100,
   "metadata": {},
   "outputs": [
    {
     "output_type": "execute_result",
     "data": {
      "text/plain": [
       "array(['11-20', '21-30', '11-20', ..., '11-20', '21-30', '21-30'],\n",
       "      dtype=object)"
      ]
     },
     "metadata": {},
     "execution_count": 100
    }
   ],
   "source": [
    "predictions_submit = loaded_model.predict(X_pred_reduced)\n",
    "predictions_submit"
   ]
  },
  {
   "source": [
    "## **Submission to Kaggle**\n"
   ],
   "cell_type": "markdown",
   "metadata": {}
  },
  {
   "cell_type": "code",
   "execution_count": 83,
   "metadata": {},
   "outputs": [],
   "source": [
    "sample = pd.read_csv(\"sample_submission.csv\")"
   ]
  },
  {
   "cell_type": "code",
   "execution_count": 84,
   "metadata": {},
   "outputs": [
    {
     "output_type": "execute_result",
     "data": {
      "text/plain": [
       "       id   days\n",
       "0  314114  11-20\n",
       "1  208989  31-40\n",
       "2  305872  81-90\n",
       "3  266099  21-30\n",
       "4   13228  31-40"
      ],
      "text/html": "<div>\n<style scoped>\n    .dataframe tbody tr th:only-of-type {\n        vertical-align: middle;\n    }\n\n    .dataframe tbody tr th {\n        vertical-align: top;\n    }\n\n    .dataframe thead th {\n        text-align: right;\n    }\n</style>\n<table border=\"1\" class=\"dataframe\">\n  <thead>\n    <tr style=\"text-align: right;\">\n      <th></th>\n      <th>id</th>\n      <th>days</th>\n    </tr>\n  </thead>\n  <tbody>\n    <tr>\n      <th>0</th>\n      <td>314114</td>\n      <td>11-20</td>\n    </tr>\n    <tr>\n      <th>1</th>\n      <td>208989</td>\n      <td>31-40</td>\n    </tr>\n    <tr>\n      <th>2</th>\n      <td>305872</td>\n      <td>81-90</td>\n    </tr>\n    <tr>\n      <th>3</th>\n      <td>266099</td>\n      <td>21-30</td>\n    </tr>\n    <tr>\n      <th>4</th>\n      <td>13228</td>\n      <td>31-40</td>\n    </tr>\n  </tbody>\n</table>\n</div>"
     },
     "metadata": {},
     "execution_count": 84
    }
   ],
   "source": [
    "sample.head()"
   ]
  },
  {
   "cell_type": "code",
   "execution_count": 85,
   "metadata": {},
   "outputs": [],
   "source": [
    "id = pd.DataFrame({\"id\": sample[\"id\"]})"
   ]
  },
  {
   "cell_type": "code",
   "execution_count": 101,
   "metadata": {},
   "outputs": [],
   "source": [
    "predictions_submit = pd.DataFrame(predictions_submit, columns=[\"days\"])"
   ]
  },
  {
   "cell_type": "code",
   "execution_count": 102,
   "metadata": {},
   "outputs": [
    {
     "output_type": "execute_result",
     "data": {
      "text/plain": [
       "            id   days\n",
       "0       314114  11-20\n",
       "1       208989  21-30\n",
       "2       305872  11-20\n",
       "3       266099  21-30\n",
       "4        13228  11-20\n",
       "...        ...    ...\n",
       "133739  318155  11-20\n",
       "133740  144850  11-20\n",
       "133741  180676  11-20\n",
       "133742   39933  21-30\n",
       "133743  116673  21-30\n",
       "\n",
       "[133744 rows x 2 columns]"
      ],
      "text/html": "<div>\n<style scoped>\n    .dataframe tbody tr th:only-of-type {\n        vertical-align: middle;\n    }\n\n    .dataframe tbody tr th {\n        vertical-align: top;\n    }\n\n    .dataframe thead th {\n        text-align: right;\n    }\n</style>\n<table border=\"1\" class=\"dataframe\">\n  <thead>\n    <tr style=\"text-align: right;\">\n      <th></th>\n      <th>id</th>\n      <th>days</th>\n    </tr>\n  </thead>\n  <tbody>\n    <tr>\n      <th>0</th>\n      <td>314114</td>\n      <td>11-20</td>\n    </tr>\n    <tr>\n      <th>1</th>\n      <td>208989</td>\n      <td>21-30</td>\n    </tr>\n    <tr>\n      <th>2</th>\n      <td>305872</td>\n      <td>11-20</td>\n    </tr>\n    <tr>\n      <th>3</th>\n      <td>266099</td>\n      <td>21-30</td>\n    </tr>\n    <tr>\n      <th>4</th>\n      <td>13228</td>\n      <td>11-20</td>\n    </tr>\n    <tr>\n      <th>...</th>\n      <td>...</td>\n      <td>...</td>\n    </tr>\n    <tr>\n      <th>133739</th>\n      <td>318155</td>\n      <td>11-20</td>\n    </tr>\n    <tr>\n      <th>133740</th>\n      <td>144850</td>\n      <td>11-20</td>\n    </tr>\n    <tr>\n      <th>133741</th>\n      <td>180676</td>\n      <td>11-20</td>\n    </tr>\n    <tr>\n      <th>133742</th>\n      <td>39933</td>\n      <td>21-30</td>\n    </tr>\n    <tr>\n      <th>133743</th>\n      <td>116673</td>\n      <td>21-30</td>\n    </tr>\n  </tbody>\n</table>\n<p>133744 rows × 2 columns</p>\n</div>"
     },
     "metadata": {},
     "execution_count": 102
    }
   ],
   "source": [
    "submission = pd.concat([id, predictions_submit], axis=1)\n",
    "submission"
   ]
  },
  {
   "source": [
    "## 5. Pásale el CHEQUEATOR para comprobar que efectivamente está listo para subir a Kaggle.\n"
   ],
   "cell_type": "markdown",
   "metadata": {}
  },
  {
   "cell_type": "code",
   "execution_count": 103,
   "metadata": {},
   "outputs": [],
   "source": [
    "def chequeator(df_to_submit):\n",
    "    \"\"\"\n",
    "    Esta función se asegura de que tu submission tenga la forma requerida por Kaggle.\n",
    "    \n",
    "    Si es así, se guardará el dataframe en un `csv` y estará listo para subir a Kaggle.\n",
    "    \n",
    "    Si no, LEE EL MENSAJE Y HAZLE CASO.\n",
    "    \n",
    "    Si aún no:\n",
    "    - apaga tu ordenador, \n",
    "    - date una vuelta, \n",
    "    - enciendelo otra vez, \n",
    "    - abre este notebook y \n",
    "    - leelo todo de nuevo. \n",
    "    Todos nos merecemos una segunda oportunidad. También tú.\n",
    "    \"\"\"\n",
    "    if df_to_submit.shape == sample.shape:\n",
    "        if df_to_submit.columns.all() == sample.columns.all():\n",
    "            if df_to_submit.id.all() == sample.id.all():\n",
    "                print(\"You're ready to submit!\")\n",
    "                submission.to_csv(\"submission.csv\", index = False) #muy importante el index = False\n",
    "                urllib.request.urlretrieve(\"https://i.kym-cdn.com/photos/images/facebook/000/747/556/27a.jpg\", \"gfg.png\")     \n",
    "                img = Image.open(\"gfg.png\")\n",
    "                img.show()   \n",
    "            else:\n",
    "                print(\"Check the ids and try again\")\n",
    "        else:\n",
    "            print(\"Check the names of the columns and try again\")\n",
    "    else:\n",
    "        print(\"Check the number of rows and/or columns and try again\")\n",
    "        print(\"\\nMensaje secreto de Clara: No me puedo creer que después de todo este notebook hayas hecho algún cambio en las filas de `diamonds_test.csv`. Lloro.\")"
   ]
  },
  {
   "cell_type": "code",
   "execution_count": 104,
   "metadata": {},
   "outputs": [
    {
     "output_type": "stream",
     "name": "stdout",
     "text": [
      "You're ready to submit!\n"
     ]
    }
   ],
   "source": [
    "chequeator(submission)"
   ]
  },
  {
   "cell_type": "code",
   "execution_count": null,
   "metadata": {},
   "outputs": [],
   "source": []
  }
 ]
}