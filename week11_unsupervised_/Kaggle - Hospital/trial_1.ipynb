{
 "metadata": {
  "language_info": {
   "codemirror_mode": {
    "name": "ipython",
    "version": 3
   },
   "file_extension": ".py",
   "mimetype": "text/x-python",
   "name": "python",
   "nbconvert_exporter": "python",
   "pygments_lexer": "ipython3",
   "version": "3.7.4"
  },
  "orig_nbformat": 4,
  "kernelspec": {
   "name": "python3",
   "display_name": "Python 3.7.4 64-bit"
  },
  "interpreter": {
   "hash": "2d8a740277f67c33143a8e5c8e55f738530a350d8def4a85d8635b690074994c"
  }
 },
 "nbformat": 4,
 "nbformat_minor": 2,
 "cells": [
  {
   "cell_type": "code",
   "execution_count": 460,
   "metadata": {},
   "outputs": [],
   "source": [
    "import numpy as np\n",
    "import pandas as pd\n",
    "import matplotlib.pyplot as plt\n",
    "import seaborn as sns\n",
    "\n",
    "import urllib.request\n",
    "from PIL import Image\n",
    "\n",
    "from sklearn.model_selection import train_test_split\n",
    "from sklearn.metrics import mean_squared_error\n",
    "\n",
    "from sklearn import preprocessing\n",
    "from sklearn.ensemble import RandomForestClassifier\n",
    "from sklearn.pipeline import Pipeline\n",
    "from sklearn.model_selection import GridSearchCV\n",
    "import pickle\n",
    "from sklearn import metrics\n",
    "\n",
    "import h2o\n",
    "from h2o.automl import H2OAutoML\n",
    "\n",
    "from catboost import CatBoostClassifier"
   ]
  },
  {
   "cell_type": "code",
   "execution_count": 461,
   "metadata": {},
   "outputs": [
    {
     "output_type": "execute_result",
     "data": {
      "text/plain": [
       "                                                      Description\n",
       "Column                                                           \n",
       "0                                  Case_ID registered in Hospital\n",
       "1                                    Unique code for the Hospital\n",
       "2                            Unique code for the type of Hospital\n",
       "3                                       City Code of the Hospital\n",
       "4                                     Region Code of the Hospital\n",
       "5                 Number of Extra rooms available in the Hospital\n",
       "6                                 Department overlooking the case\n",
       "7                                          Code for the Ward type\n",
       "8                                      Code for the Ward Facility\n",
       "9                                    Condition of Bed in the Ward\n",
       "10                                              Unique Patient Id\n",
       "11                                      City Code for the patient\n",
       "12                      Admission Type registered by the Hospital\n",
       "13      Severity of the illness recorded at the time of admission\n",
       "14                            Number of Visitors with the patient\n",
       "15                                             Age of the patient\n",
       "16                                  Deposit at the Admission Time\n",
       "17                                       Stay Days by the patient"
      ],
      "text/html": "<div>\n<style scoped>\n    .dataframe tbody tr th:only-of-type {\n        vertical-align: middle;\n    }\n\n    .dataframe tbody tr th {\n        vertical-align: top;\n    }\n\n    .dataframe thead th {\n        text-align: right;\n    }\n</style>\n<table border=\"1\" class=\"dataframe\">\n  <thead>\n    <tr style=\"text-align: right;\">\n      <th></th>\n      <th>Description</th>\n    </tr>\n    <tr>\n      <th>Column</th>\n      <th></th>\n    </tr>\n  </thead>\n  <tbody>\n    <tr>\n      <th>0</th>\n      <td>Case_ID registered in Hospital</td>\n    </tr>\n    <tr>\n      <th>1</th>\n      <td>Unique code for the Hospital</td>\n    </tr>\n    <tr>\n      <th>2</th>\n      <td>Unique code for the type of Hospital</td>\n    </tr>\n    <tr>\n      <th>3</th>\n      <td>City Code of the Hospital</td>\n    </tr>\n    <tr>\n      <th>4</th>\n      <td>Region Code of the Hospital</td>\n    </tr>\n    <tr>\n      <th>5</th>\n      <td>Number of Extra rooms available in the Hospital</td>\n    </tr>\n    <tr>\n      <th>6</th>\n      <td>Department overlooking the case</td>\n    </tr>\n    <tr>\n      <th>7</th>\n      <td>Code for the Ward type</td>\n    </tr>\n    <tr>\n      <th>8</th>\n      <td>Code for the Ward Facility</td>\n    </tr>\n    <tr>\n      <th>9</th>\n      <td>Condition of Bed in the Ward</td>\n    </tr>\n    <tr>\n      <th>10</th>\n      <td>Unique Patient Id</td>\n    </tr>\n    <tr>\n      <th>11</th>\n      <td>City Code for the patient</td>\n    </tr>\n    <tr>\n      <th>12</th>\n      <td>Admission Type registered by the Hospital</td>\n    </tr>\n    <tr>\n      <th>13</th>\n      <td>Severity of the illness recorded at the time of admission</td>\n    </tr>\n    <tr>\n      <th>14</th>\n      <td>Number of Visitors with the patient</td>\n    </tr>\n    <tr>\n      <th>15</th>\n      <td>Age of the patient</td>\n    </tr>\n    <tr>\n      <th>16</th>\n      <td>Deposit at the Admission Time</td>\n    </tr>\n    <tr>\n      <th>17</th>\n      <td>Stay Days by the patient</td>\n    </tr>\n  </tbody>\n</table>\n</div>"
     },
     "metadata": {},
     "execution_count": 461
    }
   ],
   "source": [
    "# We read the dataframe describing the meaning of the columns\n",
    "df_info = pd.read_csv(\"columns_meaning.csv\", index_col=0)\n",
    "df_info"
   ]
  },
  {
   "cell_type": "code",
   "execution_count": 462,
   "metadata": {},
   "outputs": [
    {
     "output_type": "execute_result",
     "data": {
      "text/plain": [
       "         1  2   3  4  5           6  7  8    9      10    11         12  \\\n",
       "0                                                                         \n",
       "161528   6  a   6  X  2  gynecology  R  F  4.0   45810   2.0     Urgent   \n",
       "159472  23  a   6  X  4  gynecology  Q  F  2.0  128565  15.0     Trauma   \n",
       "309765   2  c   5  Z  2  anesthesia  S  F  3.0   46565   5.0     Urgent   \n",
       "279614  32  f   9  Y  3  gynecology  S  B  4.0  124546   6.0  Emergency   \n",
       "147791  14  a   1  X  3  gynecology  S  E  2.0   22729   8.0     Urgent   \n",
       "...     .. ..  .. .. ..         ... .. ..  ...     ...   ...        ...   \n",
       "237869  12  a   9  Y  3  gynecology  R  B  3.0   82914   3.0  Emergency   \n",
       "254763  28  b  11  X  2  gynecology  R  F  2.0   40026   5.0     Urgent   \n",
       "69788    6  a   6  X  3  gynecology  Q  F  3.0   92346   2.0     Trauma   \n",
       "204442  32  f   9  Y  2  gynecology  S  B  4.0  113798  15.0     Trauma   \n",
       "69647   25  e   1  X  3  gynecology  Q  E  2.0  109237   8.0  Emergency   \n",
       "\n",
       "              13  14     15      16                  17  \n",
       "0                                                        \n",
       "161528  Moderate   2  21-30  2817.0                0-10  \n",
       "159472  Moderate   4  51-60  4498.0               21-30  \n",
       "309765  Moderate   2  71-80  4573.0               11-20  \n",
       "279614  Moderate   4  11-20  7202.0               51-60  \n",
       "147791  Moderate   2  51-60  3398.0               51-60  \n",
       "...          ...  ..    ...     ...                 ...  \n",
       "237869  Moderate   6  51-60  3966.0  More than 100 Days  \n",
       "254763  Moderate   3  21-30  4005.0               51-60  \n",
       "69788      Minor   2  31-40  5215.0               31-40  \n",
       "204442  Moderate   3  41-50  5092.0               11-20  \n",
       "69647   Moderate   2  41-50  3390.0               41-50  \n",
       "\n",
       "[100000 rows x 17 columns]"
      ],
      "text/html": "<div>\n<style scoped>\n    .dataframe tbody tr th:only-of-type {\n        vertical-align: middle;\n    }\n\n    .dataframe tbody tr th {\n        vertical-align: top;\n    }\n\n    .dataframe thead th {\n        text-align: right;\n    }\n</style>\n<table border=\"1\" class=\"dataframe\">\n  <thead>\n    <tr style=\"text-align: right;\">\n      <th></th>\n      <th>1</th>\n      <th>2</th>\n      <th>3</th>\n      <th>4</th>\n      <th>5</th>\n      <th>6</th>\n      <th>7</th>\n      <th>8</th>\n      <th>9</th>\n      <th>10</th>\n      <th>11</th>\n      <th>12</th>\n      <th>13</th>\n      <th>14</th>\n      <th>15</th>\n      <th>16</th>\n      <th>17</th>\n    </tr>\n    <tr>\n      <th>0</th>\n      <th></th>\n      <th></th>\n      <th></th>\n      <th></th>\n      <th></th>\n      <th></th>\n      <th></th>\n      <th></th>\n      <th></th>\n      <th></th>\n      <th></th>\n      <th></th>\n      <th></th>\n      <th></th>\n      <th></th>\n      <th></th>\n      <th></th>\n    </tr>\n  </thead>\n  <tbody>\n    <tr>\n      <th>161528</th>\n      <td>6</td>\n      <td>a</td>\n      <td>6</td>\n      <td>X</td>\n      <td>2</td>\n      <td>gynecology</td>\n      <td>R</td>\n      <td>F</td>\n      <td>4.0</td>\n      <td>45810</td>\n      <td>2.0</td>\n      <td>Urgent</td>\n      <td>Moderate</td>\n      <td>2</td>\n      <td>21-30</td>\n      <td>2817.0</td>\n      <td>0-10</td>\n    </tr>\n    <tr>\n      <th>159472</th>\n      <td>23</td>\n      <td>a</td>\n      <td>6</td>\n      <td>X</td>\n      <td>4</td>\n      <td>gynecology</td>\n      <td>Q</td>\n      <td>F</td>\n      <td>2.0</td>\n      <td>128565</td>\n      <td>15.0</td>\n      <td>Trauma</td>\n      <td>Moderate</td>\n      <td>4</td>\n      <td>51-60</td>\n      <td>4498.0</td>\n      <td>21-30</td>\n    </tr>\n    <tr>\n      <th>309765</th>\n      <td>2</td>\n      <td>c</td>\n      <td>5</td>\n      <td>Z</td>\n      <td>2</td>\n      <td>anesthesia</td>\n      <td>S</td>\n      <td>F</td>\n      <td>3.0</td>\n      <td>46565</td>\n      <td>5.0</td>\n      <td>Urgent</td>\n      <td>Moderate</td>\n      <td>2</td>\n      <td>71-80</td>\n      <td>4573.0</td>\n      <td>11-20</td>\n    </tr>\n    <tr>\n      <th>279614</th>\n      <td>32</td>\n      <td>f</td>\n      <td>9</td>\n      <td>Y</td>\n      <td>3</td>\n      <td>gynecology</td>\n      <td>S</td>\n      <td>B</td>\n      <td>4.0</td>\n      <td>124546</td>\n      <td>6.0</td>\n      <td>Emergency</td>\n      <td>Moderate</td>\n      <td>4</td>\n      <td>11-20</td>\n      <td>7202.0</td>\n      <td>51-60</td>\n    </tr>\n    <tr>\n      <th>147791</th>\n      <td>14</td>\n      <td>a</td>\n      <td>1</td>\n      <td>X</td>\n      <td>3</td>\n      <td>gynecology</td>\n      <td>S</td>\n      <td>E</td>\n      <td>2.0</td>\n      <td>22729</td>\n      <td>8.0</td>\n      <td>Urgent</td>\n      <td>Moderate</td>\n      <td>2</td>\n      <td>51-60</td>\n      <td>3398.0</td>\n      <td>51-60</td>\n    </tr>\n    <tr>\n      <th>...</th>\n      <td>...</td>\n      <td>...</td>\n      <td>...</td>\n      <td>...</td>\n      <td>...</td>\n      <td>...</td>\n      <td>...</td>\n      <td>...</td>\n      <td>...</td>\n      <td>...</td>\n      <td>...</td>\n      <td>...</td>\n      <td>...</td>\n      <td>...</td>\n      <td>...</td>\n      <td>...</td>\n      <td>...</td>\n    </tr>\n    <tr>\n      <th>237869</th>\n      <td>12</td>\n      <td>a</td>\n      <td>9</td>\n      <td>Y</td>\n      <td>3</td>\n      <td>gynecology</td>\n      <td>R</td>\n      <td>B</td>\n      <td>3.0</td>\n      <td>82914</td>\n      <td>3.0</td>\n      <td>Emergency</td>\n      <td>Moderate</td>\n      <td>6</td>\n      <td>51-60</td>\n      <td>3966.0</td>\n      <td>More than 100 Days</td>\n    </tr>\n    <tr>\n      <th>254763</th>\n      <td>28</td>\n      <td>b</td>\n      <td>11</td>\n      <td>X</td>\n      <td>2</td>\n      <td>gynecology</td>\n      <td>R</td>\n      <td>F</td>\n      <td>2.0</td>\n      <td>40026</td>\n      <td>5.0</td>\n      <td>Urgent</td>\n      <td>Moderate</td>\n      <td>3</td>\n      <td>21-30</td>\n      <td>4005.0</td>\n      <td>51-60</td>\n    </tr>\n    <tr>\n      <th>69788</th>\n      <td>6</td>\n      <td>a</td>\n      <td>6</td>\n      <td>X</td>\n      <td>3</td>\n      <td>gynecology</td>\n      <td>Q</td>\n      <td>F</td>\n      <td>3.0</td>\n      <td>92346</td>\n      <td>2.0</td>\n      <td>Trauma</td>\n      <td>Minor</td>\n      <td>2</td>\n      <td>31-40</td>\n      <td>5215.0</td>\n      <td>31-40</td>\n    </tr>\n    <tr>\n      <th>204442</th>\n      <td>32</td>\n      <td>f</td>\n      <td>9</td>\n      <td>Y</td>\n      <td>2</td>\n      <td>gynecology</td>\n      <td>S</td>\n      <td>B</td>\n      <td>4.0</td>\n      <td>113798</td>\n      <td>15.0</td>\n      <td>Trauma</td>\n      <td>Moderate</td>\n      <td>3</td>\n      <td>41-50</td>\n      <td>5092.0</td>\n      <td>11-20</td>\n    </tr>\n    <tr>\n      <th>69647</th>\n      <td>25</td>\n      <td>e</td>\n      <td>1</td>\n      <td>X</td>\n      <td>3</td>\n      <td>gynecology</td>\n      <td>Q</td>\n      <td>E</td>\n      <td>2.0</td>\n      <td>109237</td>\n      <td>8.0</td>\n      <td>Emergency</td>\n      <td>Moderate</td>\n      <td>2</td>\n      <td>41-50</td>\n      <td>3390.0</td>\n      <td>41-50</td>\n    </tr>\n  </tbody>\n</table>\n<p>100000 rows × 17 columns</p>\n</div>"
     },
     "metadata": {},
     "execution_count": 462
    }
   ],
   "source": [
    "# We read the hospital data\n",
    "df_train = pd.read_csv(\"hospital_train.csv\", index_col=0)\n",
    "df_train"
   ]
  },
  {
   "cell_type": "code",
   "execution_count": 463,
   "metadata": {},
   "outputs": [],
   "source": [
    "# To better work with the dataframe we changed the name, currently as strings, with the information provied in the columns_meaning dataframe\n",
    "new_columns =(df_info.values.tolist())\n",
    "new_columns\n",
    "flat_list = [item for sublist in new_columns for item in sublist]"
   ]
  },
  {
   "cell_type": "code",
   "execution_count": 464,
   "metadata": {},
   "outputs": [
    {
     "output_type": "execute_result",
     "data": {
      "text/plain": [
       "        Unique code for the Hospital Unique code for the type of Hospital  \\\n",
       "0                                                                           \n",
       "161528                             6                                    a   \n",
       "159472                            23                                    a   \n",
       "309765                             2                                    c   \n",
       "279614                            32                                    f   \n",
       "147791                            14                                    a   \n",
       "...                              ...                                  ...   \n",
       "237869                            12                                    a   \n",
       "254763                            28                                    b   \n",
       "69788                              6                                    a   \n",
       "204442                            32                                    f   \n",
       "69647                             25                                    e   \n",
       "\n",
       "        City Code of the Hospital Region Code of the Hospital  \\\n",
       "0                                                               \n",
       "161528                          6                           X   \n",
       "159472                          6                           X   \n",
       "309765                          5                           Z   \n",
       "279614                          9                           Y   \n",
       "147791                          1                           X   \n",
       "...                           ...                         ...   \n",
       "237869                          9                           Y   \n",
       "254763                         11                           X   \n",
       "69788                           6                           X   \n",
       "204442                          9                           Y   \n",
       "69647                           1                           X   \n",
       "\n",
       "        Number of Extra rooms available in the Hospital  \\\n",
       "0                                                         \n",
       "161528                                                2   \n",
       "159472                                                4   \n",
       "309765                                                2   \n",
       "279614                                                3   \n",
       "147791                                                3   \n",
       "...                                                 ...   \n",
       "237869                                                3   \n",
       "254763                                                2   \n",
       "69788                                                 3   \n",
       "204442                                                2   \n",
       "69647                                                 3   \n",
       "\n",
       "       Department overlooking the case Code for the Ward type  \\\n",
       "0                                                               \n",
       "161528                      gynecology                      R   \n",
       "159472                      gynecology                      Q   \n",
       "309765                      anesthesia                      S   \n",
       "279614                      gynecology                      S   \n",
       "147791                      gynecology                      S   \n",
       "...                                ...                    ...   \n",
       "237869                      gynecology                      R   \n",
       "254763                      gynecology                      R   \n",
       "69788                       gynecology                      Q   \n",
       "204442                      gynecology                      S   \n",
       "69647                       gynecology                      Q   \n",
       "\n",
       "       Code for the Ward Facility  Condition of Bed in the Ward  \\\n",
       "0                                                                 \n",
       "161528                          F                           4.0   \n",
       "159472                          F                           2.0   \n",
       "309765                          F                           3.0   \n",
       "279614                          B                           4.0   \n",
       "147791                          E                           2.0   \n",
       "...                           ...                           ...   \n",
       "237869                          B                           3.0   \n",
       "254763                          F                           2.0   \n",
       "69788                           F                           3.0   \n",
       "204442                          B                           4.0   \n",
       "69647                           E                           2.0   \n",
       "\n",
       "        Unique Patient Id  City Code for the patient  \\\n",
       "0                                                      \n",
       "161528              45810                        2.0   \n",
       "159472             128565                       15.0   \n",
       "309765              46565                        5.0   \n",
       "279614             124546                        6.0   \n",
       "147791              22729                        8.0   \n",
       "...                   ...                        ...   \n",
       "237869              82914                        3.0   \n",
       "254763              40026                        5.0   \n",
       "69788               92346                        2.0   \n",
       "204442             113798                       15.0   \n",
       "69647              109237                        8.0   \n",
       "\n",
       "       Admission Type registered by the Hospital  \\\n",
       "0                                                  \n",
       "161528                                    Urgent   \n",
       "159472                                    Trauma   \n",
       "309765                                    Urgent   \n",
       "279614                                 Emergency   \n",
       "147791                                    Urgent   \n",
       "...                                          ...   \n",
       "237869                                 Emergency   \n",
       "254763                                    Urgent   \n",
       "69788                                     Trauma   \n",
       "204442                                    Trauma   \n",
       "69647                                  Emergency   \n",
       "\n",
       "       Severity of the illness recorded at the time of admission  \\\n",
       "0                                                                  \n",
       "161528                                                  Moderate   \n",
       "159472                                                  Moderate   \n",
       "309765                                                  Moderate   \n",
       "279614                                                  Moderate   \n",
       "147791                                                  Moderate   \n",
       "...                                                          ...   \n",
       "237869                                                  Moderate   \n",
       "254763                                                  Moderate   \n",
       "69788                                                      Minor   \n",
       "204442                                                  Moderate   \n",
       "69647                                                   Moderate   \n",
       "\n",
       "        Number of Visitors with the patient Age of the patient  \\\n",
       "0                                                                \n",
       "161528                                    2              21-30   \n",
       "159472                                    4              51-60   \n",
       "309765                                    2              71-80   \n",
       "279614                                    4              11-20   \n",
       "147791                                    2              51-60   \n",
       "...                                     ...                ...   \n",
       "237869                                    6              51-60   \n",
       "254763                                    3              21-30   \n",
       "69788                                     2              31-40   \n",
       "204442                                    3              41-50   \n",
       "69647                                     2              41-50   \n",
       "\n",
       "        Deposit at the Admission Time Stay Days by the patient  \n",
       "0                                                               \n",
       "161528                         2817.0                     0-10  \n",
       "159472                         4498.0                    21-30  \n",
       "309765                         4573.0                    11-20  \n",
       "279614                         7202.0                    51-60  \n",
       "147791                         3398.0                    51-60  \n",
       "...                               ...                      ...  \n",
       "237869                         3966.0       More than 100 Days  \n",
       "254763                         4005.0                    51-60  \n",
       "69788                          5215.0                    31-40  \n",
       "204442                         5092.0                    11-20  \n",
       "69647                          3390.0                    41-50  \n",
       "\n",
       "[100000 rows x 17 columns]"
      ],
      "text/html": "<div>\n<style scoped>\n    .dataframe tbody tr th:only-of-type {\n        vertical-align: middle;\n    }\n\n    .dataframe tbody tr th {\n        vertical-align: top;\n    }\n\n    .dataframe thead th {\n        text-align: right;\n    }\n</style>\n<table border=\"1\" class=\"dataframe\">\n  <thead>\n    <tr style=\"text-align: right;\">\n      <th></th>\n      <th>Unique code for the Hospital</th>\n      <th>Unique code for the type of Hospital</th>\n      <th>City Code of the Hospital</th>\n      <th>Region Code of the Hospital</th>\n      <th>Number of Extra rooms available in the Hospital</th>\n      <th>Department overlooking the case</th>\n      <th>Code for the Ward type</th>\n      <th>Code for the Ward Facility</th>\n      <th>Condition of Bed in the Ward</th>\n      <th>Unique Patient Id</th>\n      <th>City Code for the patient</th>\n      <th>Admission Type registered by the Hospital</th>\n      <th>Severity of the illness recorded at the time of admission</th>\n      <th>Number of Visitors with the patient</th>\n      <th>Age of the patient</th>\n      <th>Deposit at the Admission Time</th>\n      <th>Stay Days by the patient</th>\n    </tr>\n    <tr>\n      <th>0</th>\n      <th></th>\n      <th></th>\n      <th></th>\n      <th></th>\n      <th></th>\n      <th></th>\n      <th></th>\n      <th></th>\n      <th></th>\n      <th></th>\n      <th></th>\n      <th></th>\n      <th></th>\n      <th></th>\n      <th></th>\n      <th></th>\n      <th></th>\n    </tr>\n  </thead>\n  <tbody>\n    <tr>\n      <th>161528</th>\n      <td>6</td>\n      <td>a</td>\n      <td>6</td>\n      <td>X</td>\n      <td>2</td>\n      <td>gynecology</td>\n      <td>R</td>\n      <td>F</td>\n      <td>4.0</td>\n      <td>45810</td>\n      <td>2.0</td>\n      <td>Urgent</td>\n      <td>Moderate</td>\n      <td>2</td>\n      <td>21-30</td>\n      <td>2817.0</td>\n      <td>0-10</td>\n    </tr>\n    <tr>\n      <th>159472</th>\n      <td>23</td>\n      <td>a</td>\n      <td>6</td>\n      <td>X</td>\n      <td>4</td>\n      <td>gynecology</td>\n      <td>Q</td>\n      <td>F</td>\n      <td>2.0</td>\n      <td>128565</td>\n      <td>15.0</td>\n      <td>Trauma</td>\n      <td>Moderate</td>\n      <td>4</td>\n      <td>51-60</td>\n      <td>4498.0</td>\n      <td>21-30</td>\n    </tr>\n    <tr>\n      <th>309765</th>\n      <td>2</td>\n      <td>c</td>\n      <td>5</td>\n      <td>Z</td>\n      <td>2</td>\n      <td>anesthesia</td>\n      <td>S</td>\n      <td>F</td>\n      <td>3.0</td>\n      <td>46565</td>\n      <td>5.0</td>\n      <td>Urgent</td>\n      <td>Moderate</td>\n      <td>2</td>\n      <td>71-80</td>\n      <td>4573.0</td>\n      <td>11-20</td>\n    </tr>\n    <tr>\n      <th>279614</th>\n      <td>32</td>\n      <td>f</td>\n      <td>9</td>\n      <td>Y</td>\n      <td>3</td>\n      <td>gynecology</td>\n      <td>S</td>\n      <td>B</td>\n      <td>4.0</td>\n      <td>124546</td>\n      <td>6.0</td>\n      <td>Emergency</td>\n      <td>Moderate</td>\n      <td>4</td>\n      <td>11-20</td>\n      <td>7202.0</td>\n      <td>51-60</td>\n    </tr>\n    <tr>\n      <th>147791</th>\n      <td>14</td>\n      <td>a</td>\n      <td>1</td>\n      <td>X</td>\n      <td>3</td>\n      <td>gynecology</td>\n      <td>S</td>\n      <td>E</td>\n      <td>2.0</td>\n      <td>22729</td>\n      <td>8.0</td>\n      <td>Urgent</td>\n      <td>Moderate</td>\n      <td>2</td>\n      <td>51-60</td>\n      <td>3398.0</td>\n      <td>51-60</td>\n    </tr>\n    <tr>\n      <th>...</th>\n      <td>...</td>\n      <td>...</td>\n      <td>...</td>\n      <td>...</td>\n      <td>...</td>\n      <td>...</td>\n      <td>...</td>\n      <td>...</td>\n      <td>...</td>\n      <td>...</td>\n      <td>...</td>\n      <td>...</td>\n      <td>...</td>\n      <td>...</td>\n      <td>...</td>\n      <td>...</td>\n      <td>...</td>\n    </tr>\n    <tr>\n      <th>237869</th>\n      <td>12</td>\n      <td>a</td>\n      <td>9</td>\n      <td>Y</td>\n      <td>3</td>\n      <td>gynecology</td>\n      <td>R</td>\n      <td>B</td>\n      <td>3.0</td>\n      <td>82914</td>\n      <td>3.0</td>\n      <td>Emergency</td>\n      <td>Moderate</td>\n      <td>6</td>\n      <td>51-60</td>\n      <td>3966.0</td>\n      <td>More than 100 Days</td>\n    </tr>\n    <tr>\n      <th>254763</th>\n      <td>28</td>\n      <td>b</td>\n      <td>11</td>\n      <td>X</td>\n      <td>2</td>\n      <td>gynecology</td>\n      <td>R</td>\n      <td>F</td>\n      <td>2.0</td>\n      <td>40026</td>\n      <td>5.0</td>\n      <td>Urgent</td>\n      <td>Moderate</td>\n      <td>3</td>\n      <td>21-30</td>\n      <td>4005.0</td>\n      <td>51-60</td>\n    </tr>\n    <tr>\n      <th>69788</th>\n      <td>6</td>\n      <td>a</td>\n      <td>6</td>\n      <td>X</td>\n      <td>3</td>\n      <td>gynecology</td>\n      <td>Q</td>\n      <td>F</td>\n      <td>3.0</td>\n      <td>92346</td>\n      <td>2.0</td>\n      <td>Trauma</td>\n      <td>Minor</td>\n      <td>2</td>\n      <td>31-40</td>\n      <td>5215.0</td>\n      <td>31-40</td>\n    </tr>\n    <tr>\n      <th>204442</th>\n      <td>32</td>\n      <td>f</td>\n      <td>9</td>\n      <td>Y</td>\n      <td>2</td>\n      <td>gynecology</td>\n      <td>S</td>\n      <td>B</td>\n      <td>4.0</td>\n      <td>113798</td>\n      <td>15.0</td>\n      <td>Trauma</td>\n      <td>Moderate</td>\n      <td>3</td>\n      <td>41-50</td>\n      <td>5092.0</td>\n      <td>11-20</td>\n    </tr>\n    <tr>\n      <th>69647</th>\n      <td>25</td>\n      <td>e</td>\n      <td>1</td>\n      <td>X</td>\n      <td>3</td>\n      <td>gynecology</td>\n      <td>Q</td>\n      <td>E</td>\n      <td>2.0</td>\n      <td>109237</td>\n      <td>8.0</td>\n      <td>Emergency</td>\n      <td>Moderate</td>\n      <td>2</td>\n      <td>41-50</td>\n      <td>3390.0</td>\n      <td>41-50</td>\n    </tr>\n  </tbody>\n</table>\n<p>100000 rows × 17 columns</p>\n</div>"
     },
     "metadata": {},
     "execution_count": 464
    }
   ],
   "source": [
    "df_train.rename(columns=dict(zip(df_train.columns, flat_list[1:])), inplace=True)\n",
    "df_train"
   ]
  },
  {
   "cell_type": "code",
   "execution_count": 465,
   "metadata": {},
   "outputs": [
    {
     "output_type": "execute_result",
     "data": {
      "text/plain": [
       "       Unique code for the type of Hospital  \\\n",
       "0                                             \n",
       "161528                                    a   \n",
       "159472                                    a   \n",
       "309765                                    c   \n",
       "279614                                    f   \n",
       "147791                                    a   \n",
       "...                                     ...   \n",
       "237869                                    a   \n",
       "254763                                    b   \n",
       "69788                                     a   \n",
       "204442                                    f   \n",
       "69647                                     e   \n",
       "\n",
       "        Number of Extra rooms available in the Hospital  \\\n",
       "0                                                         \n",
       "161528                                                2   \n",
       "159472                                                4   \n",
       "309765                                                2   \n",
       "279614                                                3   \n",
       "147791                                                3   \n",
       "...                                                 ...   \n",
       "237869                                                3   \n",
       "254763                                                2   \n",
       "69788                                                 3   \n",
       "204442                                                2   \n",
       "69647                                                 3   \n",
       "\n",
       "       Department overlooking the case Code for the Ward type  \\\n",
       "0                                                               \n",
       "161528                      gynecology                      R   \n",
       "159472                      gynecology                      Q   \n",
       "309765                      anesthesia                      S   \n",
       "279614                      gynecology                      S   \n",
       "147791                      gynecology                      S   \n",
       "...                                ...                    ...   \n",
       "237869                      gynecology                      R   \n",
       "254763                      gynecology                      R   \n",
       "69788                       gynecology                      Q   \n",
       "204442                      gynecology                      S   \n",
       "69647                       gynecology                      Q   \n",
       "\n",
       "       Code for the Ward Facility  Condition of Bed in the Ward  \\\n",
       "0                                                                 \n",
       "161528                          F                           4.0   \n",
       "159472                          F                           2.0   \n",
       "309765                          F                           3.0   \n",
       "279614                          B                           4.0   \n",
       "147791                          E                           2.0   \n",
       "...                           ...                           ...   \n",
       "237869                          B                           3.0   \n",
       "254763                          F                           2.0   \n",
       "69788                           F                           3.0   \n",
       "204442                          B                           4.0   \n",
       "69647                           E                           2.0   \n",
       "\n",
       "        City Code for the patient Admission Type registered by the Hospital  \\\n",
       "0                                                                             \n",
       "161528                        2.0                                    Urgent   \n",
       "159472                       15.0                                    Trauma   \n",
       "309765                        5.0                                    Urgent   \n",
       "279614                        6.0                                 Emergency   \n",
       "147791                        8.0                                    Urgent   \n",
       "...                           ...                                       ...   \n",
       "237869                        3.0                                 Emergency   \n",
       "254763                        5.0                                    Urgent   \n",
       "69788                         2.0                                    Trauma   \n",
       "204442                       15.0                                    Trauma   \n",
       "69647                         8.0                                 Emergency   \n",
       "\n",
       "       Severity of the illness recorded at the time of admission  \\\n",
       "0                                                                  \n",
       "161528                                                  Moderate   \n",
       "159472                                                  Moderate   \n",
       "309765                                                  Moderate   \n",
       "279614                                                  Moderate   \n",
       "147791                                                  Moderate   \n",
       "...                                                          ...   \n",
       "237869                                                  Moderate   \n",
       "254763                                                  Moderate   \n",
       "69788                                                      Minor   \n",
       "204442                                                  Moderate   \n",
       "69647                                                   Moderate   \n",
       "\n",
       "        Number of Visitors with the patient Age of the patient  \\\n",
       "0                                                                \n",
       "161528                                    2              21-30   \n",
       "159472                                    4              51-60   \n",
       "309765                                    2              71-80   \n",
       "279614                                    4              11-20   \n",
       "147791                                    2              51-60   \n",
       "...                                     ...                ...   \n",
       "237869                                    6              51-60   \n",
       "254763                                    3              21-30   \n",
       "69788                                     2              31-40   \n",
       "204442                                    3              41-50   \n",
       "69647                                     2              41-50   \n",
       "\n",
       "       Stay Days by the patient  \n",
       "0                                \n",
       "161528                     0-10  \n",
       "159472                    21-30  \n",
       "309765                    11-20  \n",
       "279614                    51-60  \n",
       "147791                    51-60  \n",
       "...                         ...  \n",
       "237869       More than 100 Days  \n",
       "254763                    51-60  \n",
       "69788                     31-40  \n",
       "204442                    11-20  \n",
       "69647                     41-50  \n",
       "\n",
       "[100000 rows x 12 columns]"
      ],
      "text/html": "<div>\n<style scoped>\n    .dataframe tbody tr th:only-of-type {\n        vertical-align: middle;\n    }\n\n    .dataframe tbody tr th {\n        vertical-align: top;\n    }\n\n    .dataframe thead th {\n        text-align: right;\n    }\n</style>\n<table border=\"1\" class=\"dataframe\">\n  <thead>\n    <tr style=\"text-align: right;\">\n      <th></th>\n      <th>Unique code for the type of Hospital</th>\n      <th>Number of Extra rooms available in the Hospital</th>\n      <th>Department overlooking the case</th>\n      <th>Code for the Ward type</th>\n      <th>Code for the Ward Facility</th>\n      <th>Condition of Bed in the Ward</th>\n      <th>City Code for the patient</th>\n      <th>Admission Type registered by the Hospital</th>\n      <th>Severity of the illness recorded at the time of admission</th>\n      <th>Number of Visitors with the patient</th>\n      <th>Age of the patient</th>\n      <th>Stay Days by the patient</th>\n    </tr>\n    <tr>\n      <th>0</th>\n      <th></th>\n      <th></th>\n      <th></th>\n      <th></th>\n      <th></th>\n      <th></th>\n      <th></th>\n      <th></th>\n      <th></th>\n      <th></th>\n      <th></th>\n      <th></th>\n    </tr>\n  </thead>\n  <tbody>\n    <tr>\n      <th>161528</th>\n      <td>a</td>\n      <td>2</td>\n      <td>gynecology</td>\n      <td>R</td>\n      <td>F</td>\n      <td>4.0</td>\n      <td>2.0</td>\n      <td>Urgent</td>\n      <td>Moderate</td>\n      <td>2</td>\n      <td>21-30</td>\n      <td>0-10</td>\n    </tr>\n    <tr>\n      <th>159472</th>\n      <td>a</td>\n      <td>4</td>\n      <td>gynecology</td>\n      <td>Q</td>\n      <td>F</td>\n      <td>2.0</td>\n      <td>15.0</td>\n      <td>Trauma</td>\n      <td>Moderate</td>\n      <td>4</td>\n      <td>51-60</td>\n      <td>21-30</td>\n    </tr>\n    <tr>\n      <th>309765</th>\n      <td>c</td>\n      <td>2</td>\n      <td>anesthesia</td>\n      <td>S</td>\n      <td>F</td>\n      <td>3.0</td>\n      <td>5.0</td>\n      <td>Urgent</td>\n      <td>Moderate</td>\n      <td>2</td>\n      <td>71-80</td>\n      <td>11-20</td>\n    </tr>\n    <tr>\n      <th>279614</th>\n      <td>f</td>\n      <td>3</td>\n      <td>gynecology</td>\n      <td>S</td>\n      <td>B</td>\n      <td>4.0</td>\n      <td>6.0</td>\n      <td>Emergency</td>\n      <td>Moderate</td>\n      <td>4</td>\n      <td>11-20</td>\n      <td>51-60</td>\n    </tr>\n    <tr>\n      <th>147791</th>\n      <td>a</td>\n      <td>3</td>\n      <td>gynecology</td>\n      <td>S</td>\n      <td>E</td>\n      <td>2.0</td>\n      <td>8.0</td>\n      <td>Urgent</td>\n      <td>Moderate</td>\n      <td>2</td>\n      <td>51-60</td>\n      <td>51-60</td>\n    </tr>\n    <tr>\n      <th>...</th>\n      <td>...</td>\n      <td>...</td>\n      <td>...</td>\n      <td>...</td>\n      <td>...</td>\n      <td>...</td>\n      <td>...</td>\n      <td>...</td>\n      <td>...</td>\n      <td>...</td>\n      <td>...</td>\n      <td>...</td>\n    </tr>\n    <tr>\n      <th>237869</th>\n      <td>a</td>\n      <td>3</td>\n      <td>gynecology</td>\n      <td>R</td>\n      <td>B</td>\n      <td>3.0</td>\n      <td>3.0</td>\n      <td>Emergency</td>\n      <td>Moderate</td>\n      <td>6</td>\n      <td>51-60</td>\n      <td>More than 100 Days</td>\n    </tr>\n    <tr>\n      <th>254763</th>\n      <td>b</td>\n      <td>2</td>\n      <td>gynecology</td>\n      <td>R</td>\n      <td>F</td>\n      <td>2.0</td>\n      <td>5.0</td>\n      <td>Urgent</td>\n      <td>Moderate</td>\n      <td>3</td>\n      <td>21-30</td>\n      <td>51-60</td>\n    </tr>\n    <tr>\n      <th>69788</th>\n      <td>a</td>\n      <td>3</td>\n      <td>gynecology</td>\n      <td>Q</td>\n      <td>F</td>\n      <td>3.0</td>\n      <td>2.0</td>\n      <td>Trauma</td>\n      <td>Minor</td>\n      <td>2</td>\n      <td>31-40</td>\n      <td>31-40</td>\n    </tr>\n    <tr>\n      <th>204442</th>\n      <td>f</td>\n      <td>2</td>\n      <td>gynecology</td>\n      <td>S</td>\n      <td>B</td>\n      <td>4.0</td>\n      <td>15.0</td>\n      <td>Trauma</td>\n      <td>Moderate</td>\n      <td>3</td>\n      <td>41-50</td>\n      <td>11-20</td>\n    </tr>\n    <tr>\n      <th>69647</th>\n      <td>e</td>\n      <td>3</td>\n      <td>gynecology</td>\n      <td>Q</td>\n      <td>E</td>\n      <td>2.0</td>\n      <td>8.0</td>\n      <td>Emergency</td>\n      <td>Moderate</td>\n      <td>2</td>\n      <td>41-50</td>\n      <td>41-50</td>\n    </tr>\n  </tbody>\n</table>\n<p>100000 rows × 12 columns</p>\n</div>"
     },
     "metadata": {},
     "execution_count": 465
    }
   ],
   "source": [
    "df_train_reduced = df_train.drop([\"Unique code for the Hospital\", \"Region Code of the Hospital\", \"City Code of the Hospital\", \"Unique Patient Id\", \"Deposit at the Admission Time\"], axis =1)\n",
    "df_train_reduced"
   ]
  },
  {
   "cell_type": "code",
   "execution_count": 466,
   "metadata": {},
   "outputs": [
    {
     "output_type": "stream",
     "name": "stdout",
     "text": [
      "['a' 'c' 'f' 'b' 'd' 'e' 'g']\n",
      "['gynecology' 'anesthesia' 'radiotherapy' 'TB & Chest disease' 'surgery']\n"
     ]
    }
   ],
   "source": [
    "# Change categorical columns to numericals\n",
    "\n",
    "# Unique code for the type of Hospital\n",
    "print(df_train_reduced[\"Unique code for the type of Hospital\"].unique())\n",
    "\n",
    "# Department overlooking the case\n",
    "print(df_train_reduced[\"Department overlooking the case\"].unique())\n",
    "\n",
    "# This columns will be converted with dummies to numerical data to use them in the model"
   ]
  },
  {
   "cell_type": "code",
   "execution_count": 467,
   "metadata": {},
   "outputs": [],
   "source": [
    "features = df_train_reduced[[\"Unique code for the type of Hospital\", \"Department overlooking the case\"]]\n",
    "features = pd.get_dummies(features)"
   ]
  },
  {
   "cell_type": "code",
   "execution_count": 468,
   "metadata": {},
   "outputs": [],
   "source": [
    "df_train_reduced.drop(columns=[\"Unique code for the type of Hospital\", \"Department overlooking the case\"], axis=1, inplace=True)"
   ]
  },
  {
   "cell_type": "code",
   "execution_count": 469,
   "metadata": {},
   "outputs": [
    {
     "output_type": "execute_result",
     "data": {
      "text/plain": [
       "        Number of Extra rooms available in the Hospital  \\\n",
       "0                                                         \n",
       "161528                                                2   \n",
       "159472                                                4   \n",
       "309765                                                2   \n",
       "279614                                                3   \n",
       "147791                                                3   \n",
       "\n",
       "       Code for the Ward type Code for the Ward Facility  \\\n",
       "0                                                          \n",
       "161528                      R                          F   \n",
       "159472                      Q                          F   \n",
       "309765                      S                          F   \n",
       "279614                      S                          B   \n",
       "147791                      S                          E   \n",
       "\n",
       "        Condition of Bed in the Ward  City Code for the patient  \\\n",
       "0                                                                 \n",
       "161528                           4.0                        2.0   \n",
       "159472                           2.0                       15.0   \n",
       "309765                           3.0                        5.0   \n",
       "279614                           4.0                        6.0   \n",
       "147791                           2.0                        8.0   \n",
       "\n",
       "       Admission Type registered by the Hospital  \\\n",
       "0                                                  \n",
       "161528                                    Urgent   \n",
       "159472                                    Trauma   \n",
       "309765                                    Urgent   \n",
       "279614                                 Emergency   \n",
       "147791                                    Urgent   \n",
       "\n",
       "       Severity of the illness recorded at the time of admission  \\\n",
       "0                                                                  \n",
       "161528                                                  Moderate   \n",
       "159472                                                  Moderate   \n",
       "309765                                                  Moderate   \n",
       "279614                                                  Moderate   \n",
       "147791                                                  Moderate   \n",
       "\n",
       "        Number of Visitors with the patient Age of the patient  \\\n",
       "0                                                                \n",
       "161528                                    2              21-30   \n",
       "159472                                    4              51-60   \n",
       "309765                                    2              71-80   \n",
       "279614                                    4              11-20   \n",
       "147791                                    2              51-60   \n",
       "\n",
       "       Stay Days by the patient  ...  Unique code for the type of Hospital_c  \\\n",
       "0                                ...                                           \n",
       "161528                     0-10  ...                                       0   \n",
       "159472                    21-30  ...                                       0   \n",
       "309765                    11-20  ...                                       1   \n",
       "279614                    51-60  ...                                       0   \n",
       "147791                    51-60  ...                                       0   \n",
       "\n",
       "        Unique code for the type of Hospital_d  \\\n",
       "0                                                \n",
       "161528                                       0   \n",
       "159472                                       0   \n",
       "309765                                       0   \n",
       "279614                                       0   \n",
       "147791                                       0   \n",
       "\n",
       "        Unique code for the type of Hospital_e  \\\n",
       "0                                                \n",
       "161528                                       0   \n",
       "159472                                       0   \n",
       "309765                                       0   \n",
       "279614                                       0   \n",
       "147791                                       0   \n",
       "\n",
       "        Unique code for the type of Hospital_f  \\\n",
       "0                                                \n",
       "161528                                       0   \n",
       "159472                                       0   \n",
       "309765                                       0   \n",
       "279614                                       1   \n",
       "147791                                       0   \n",
       "\n",
       "        Unique code for the type of Hospital_g  \\\n",
       "0                                                \n",
       "161528                                       0   \n",
       "159472                                       0   \n",
       "309765                                       0   \n",
       "279614                                       0   \n",
       "147791                                       0   \n",
       "\n",
       "        Department overlooking the case_TB & Chest disease  \\\n",
       "0                                                            \n",
       "161528                                                   0   \n",
       "159472                                                   0   \n",
       "309765                                                   0   \n",
       "279614                                                   0   \n",
       "147791                                                   0   \n",
       "\n",
       "        Department overlooking the case_anesthesia  \\\n",
       "0                                                    \n",
       "161528                                           0   \n",
       "159472                                           0   \n",
       "309765                                           1   \n",
       "279614                                           0   \n",
       "147791                                           0   \n",
       "\n",
       "        Department overlooking the case_gynecology  \\\n",
       "0                                                    \n",
       "161528                                           1   \n",
       "159472                                           1   \n",
       "309765                                           0   \n",
       "279614                                           1   \n",
       "147791                                           1   \n",
       "\n",
       "        Department overlooking the case_radiotherapy  \\\n",
       "0                                                      \n",
       "161528                                             0   \n",
       "159472                                             0   \n",
       "309765                                             0   \n",
       "279614                                             0   \n",
       "147791                                             0   \n",
       "\n",
       "        Department overlooking the case_surgery  \n",
       "0                                                \n",
       "161528                                        0  \n",
       "159472                                        0  \n",
       "309765                                        0  \n",
       "279614                                        0  \n",
       "147791                                        0  \n",
       "\n",
       "[5 rows x 22 columns]"
      ],
      "text/html": "<div>\n<style scoped>\n    .dataframe tbody tr th:only-of-type {\n        vertical-align: middle;\n    }\n\n    .dataframe tbody tr th {\n        vertical-align: top;\n    }\n\n    .dataframe thead th {\n        text-align: right;\n    }\n</style>\n<table border=\"1\" class=\"dataframe\">\n  <thead>\n    <tr style=\"text-align: right;\">\n      <th></th>\n      <th>Number of Extra rooms available in the Hospital</th>\n      <th>Code for the Ward type</th>\n      <th>Code for the Ward Facility</th>\n      <th>Condition of Bed in the Ward</th>\n      <th>City Code for the patient</th>\n      <th>Admission Type registered by the Hospital</th>\n      <th>Severity of the illness recorded at the time of admission</th>\n      <th>Number of Visitors with the patient</th>\n      <th>Age of the patient</th>\n      <th>Stay Days by the patient</th>\n      <th>...</th>\n      <th>Unique code for the type of Hospital_c</th>\n      <th>Unique code for the type of Hospital_d</th>\n      <th>Unique code for the type of Hospital_e</th>\n      <th>Unique code for the type of Hospital_f</th>\n      <th>Unique code for the type of Hospital_g</th>\n      <th>Department overlooking the case_TB &amp; Chest disease</th>\n      <th>Department overlooking the case_anesthesia</th>\n      <th>Department overlooking the case_gynecology</th>\n      <th>Department overlooking the case_radiotherapy</th>\n      <th>Department overlooking the case_surgery</th>\n    </tr>\n    <tr>\n      <th>0</th>\n      <th></th>\n      <th></th>\n      <th></th>\n      <th></th>\n      <th></th>\n      <th></th>\n      <th></th>\n      <th></th>\n      <th></th>\n      <th></th>\n      <th></th>\n      <th></th>\n      <th></th>\n      <th></th>\n      <th></th>\n      <th></th>\n      <th></th>\n      <th></th>\n      <th></th>\n      <th></th>\n      <th></th>\n    </tr>\n  </thead>\n  <tbody>\n    <tr>\n      <th>161528</th>\n      <td>2</td>\n      <td>R</td>\n      <td>F</td>\n      <td>4.0</td>\n      <td>2.0</td>\n      <td>Urgent</td>\n      <td>Moderate</td>\n      <td>2</td>\n      <td>21-30</td>\n      <td>0-10</td>\n      <td>...</td>\n      <td>0</td>\n      <td>0</td>\n      <td>0</td>\n      <td>0</td>\n      <td>0</td>\n      <td>0</td>\n      <td>0</td>\n      <td>1</td>\n      <td>0</td>\n      <td>0</td>\n    </tr>\n    <tr>\n      <th>159472</th>\n      <td>4</td>\n      <td>Q</td>\n      <td>F</td>\n      <td>2.0</td>\n      <td>15.0</td>\n      <td>Trauma</td>\n      <td>Moderate</td>\n      <td>4</td>\n      <td>51-60</td>\n      <td>21-30</td>\n      <td>...</td>\n      <td>0</td>\n      <td>0</td>\n      <td>0</td>\n      <td>0</td>\n      <td>0</td>\n      <td>0</td>\n      <td>0</td>\n      <td>1</td>\n      <td>0</td>\n      <td>0</td>\n    </tr>\n    <tr>\n      <th>309765</th>\n      <td>2</td>\n      <td>S</td>\n      <td>F</td>\n      <td>3.0</td>\n      <td>5.0</td>\n      <td>Urgent</td>\n      <td>Moderate</td>\n      <td>2</td>\n      <td>71-80</td>\n      <td>11-20</td>\n      <td>...</td>\n      <td>1</td>\n      <td>0</td>\n      <td>0</td>\n      <td>0</td>\n      <td>0</td>\n      <td>0</td>\n      <td>1</td>\n      <td>0</td>\n      <td>0</td>\n      <td>0</td>\n    </tr>\n    <tr>\n      <th>279614</th>\n      <td>3</td>\n      <td>S</td>\n      <td>B</td>\n      <td>4.0</td>\n      <td>6.0</td>\n      <td>Emergency</td>\n      <td>Moderate</td>\n      <td>4</td>\n      <td>11-20</td>\n      <td>51-60</td>\n      <td>...</td>\n      <td>0</td>\n      <td>0</td>\n      <td>0</td>\n      <td>1</td>\n      <td>0</td>\n      <td>0</td>\n      <td>0</td>\n      <td>1</td>\n      <td>0</td>\n      <td>0</td>\n    </tr>\n    <tr>\n      <th>147791</th>\n      <td>3</td>\n      <td>S</td>\n      <td>E</td>\n      <td>2.0</td>\n      <td>8.0</td>\n      <td>Urgent</td>\n      <td>Moderate</td>\n      <td>2</td>\n      <td>51-60</td>\n      <td>51-60</td>\n      <td>...</td>\n      <td>0</td>\n      <td>0</td>\n      <td>0</td>\n      <td>0</td>\n      <td>0</td>\n      <td>0</td>\n      <td>0</td>\n      <td>1</td>\n      <td>0</td>\n      <td>0</td>\n    </tr>\n  </tbody>\n</table>\n<p>5 rows × 22 columns</p>\n</div>"
     },
     "metadata": {},
     "execution_count": 469
    }
   ],
   "source": [
    "df_train_reduced = pd.concat([df_train_reduced, features], axis=1)\n",
    "df_train_reduced.head()"
   ]
  },
  {
   "cell_type": "code",
   "execution_count": 470,
   "metadata": {},
   "outputs": [
    {
     "output_type": "stream",
     "name": "stdout",
     "text": [
      "['R' 'Q' 'S' 'P' 'T' 'U']\n",
      "['F' 'B' 'E' 'C' 'D' 'A']\n"
     ]
    }
   ],
   "source": [
    "print(df_train_reduced[\"Code for the Ward type\"].unique())\n",
    "print(df_train_reduced[\"Code for the Ward Facility\"].unique())\n",
    "\n",
    "# We asume these columns have been randomly coded and therefore they are not releted with the target. They are dropped.\n",
    "df_train_reduced.drop([\"Code for the Ward type\", \"Code for the Ward Facility\", \"City Code for the patient\", \"Number of Visitors with the patient\"], axis=1, inplace=True)"
   ]
  },
  {
   "cell_type": "code",
   "execution_count": 471,
   "metadata": {},
   "outputs": [
    {
     "output_type": "stream",
     "name": "stdout",
     "text": [
      "['Urgent' 'Trauma' 'Emergency']\n",
      "['Moderate' 'Extreme' 'Minor']\n",
      "['21-30' '51-60' '71-80' '11-20' '31-40' '0-10' '61-70' '41-50' '81-90'\n",
      " '91-100']\n"
     ]
    }
   ],
   "source": [
    "# conversing categorical columns to numeric\n",
    "\n",
    "# Admission Type registered by the Hospital\n",
    "print(df_train_reduced[\"Admission Type registered by the Hospital\"].unique())\n",
    "\n",
    "df_train_reduced[\"Admission Type registered by the Hospital\"] = df_train_reduced[\"Admission Type registered by the Hospital\"].replace({'Urgent': 2, 'Trauma': 1, 'Emergency': 3})\n",
    "\n",
    "# Severity of the illness recorded at the time of admission\n",
    "print(df_train_reduced[\"Severity of the illness recorded at the time of admission\"].unique())\n",
    "\n",
    "df_train_reduced[\"Severity of the illness recorded at the time of admission\"] = df_train_reduced[\"Severity of the illness recorded at the time of admission\"].replace({'Moderate': 2, 'Extreme': 3, 'Minor': 1})\n",
    "\n",
    "# Age of the patient\n",
    "print(df_train_reduced[\"Age of the patient\"].unique())\n",
    "\n",
    "le = preprocessing.LabelEncoder()\n",
    "data = df_train_reduced[\"Age of the patient\"].values\n",
    "df_train_reduced[\"Age of the patient\"] = le.fit_transform(data)"
   ]
  },
  {
   "cell_type": "code",
   "execution_count": 472,
   "metadata": {},
   "outputs": [
    {
     "output_type": "execute_result",
     "data": {
      "text/plain": [
       "        Number of Extra rooms available in the Hospital  \\\n",
       "0                                                         \n",
       "161528                                                2   \n",
       "159472                                                4   \n",
       "309765                                                2   \n",
       "279614                                                3   \n",
       "147791                                                3   \n",
       "\n",
       "        Condition of Bed in the Ward  \\\n",
       "0                                      \n",
       "161528                           4.0   \n",
       "159472                           2.0   \n",
       "309765                           3.0   \n",
       "279614                           4.0   \n",
       "147791                           2.0   \n",
       "\n",
       "        Admission Type registered by the Hospital  \\\n",
       "0                                                   \n",
       "161528                                          2   \n",
       "159472                                          1   \n",
       "309765                                          2   \n",
       "279614                                          3   \n",
       "147791                                          2   \n",
       "\n",
       "        Severity of the illness recorded at the time of admission  \\\n",
       "0                                                                   \n",
       "161528                                                          2   \n",
       "159472                                                          2   \n",
       "309765                                                          2   \n",
       "279614                                                          2   \n",
       "147791                                                          2   \n",
       "\n",
       "        Age of the patient Stay Days by the patient  \\\n",
       "0                                                     \n",
       "161528                   2                     0-10   \n",
       "159472                   5                    21-30   \n",
       "309765                   7                    11-20   \n",
       "279614                   1                    51-60   \n",
       "147791                   5                    51-60   \n",
       "\n",
       "        Unique code for the type of Hospital_a  \\\n",
       "0                                                \n",
       "161528                                       1   \n",
       "159472                                       1   \n",
       "309765                                       0   \n",
       "279614                                       0   \n",
       "147791                                       1   \n",
       "\n",
       "        Unique code for the type of Hospital_b  \\\n",
       "0                                                \n",
       "161528                                       0   \n",
       "159472                                       0   \n",
       "309765                                       0   \n",
       "279614                                       0   \n",
       "147791                                       0   \n",
       "\n",
       "        Unique code for the type of Hospital_c  \\\n",
       "0                                                \n",
       "161528                                       0   \n",
       "159472                                       0   \n",
       "309765                                       1   \n",
       "279614                                       0   \n",
       "147791                                       0   \n",
       "\n",
       "        Unique code for the type of Hospital_d  \\\n",
       "0                                                \n",
       "161528                                       0   \n",
       "159472                                       0   \n",
       "309765                                       0   \n",
       "279614                                       0   \n",
       "147791                                       0   \n",
       "\n",
       "        Unique code for the type of Hospital_e  \\\n",
       "0                                                \n",
       "161528                                       0   \n",
       "159472                                       0   \n",
       "309765                                       0   \n",
       "279614                                       0   \n",
       "147791                                       0   \n",
       "\n",
       "        Unique code for the type of Hospital_f  \\\n",
       "0                                                \n",
       "161528                                       0   \n",
       "159472                                       0   \n",
       "309765                                       0   \n",
       "279614                                       1   \n",
       "147791                                       0   \n",
       "\n",
       "        Unique code for the type of Hospital_g  \\\n",
       "0                                                \n",
       "161528                                       0   \n",
       "159472                                       0   \n",
       "309765                                       0   \n",
       "279614                                       0   \n",
       "147791                                       0   \n",
       "\n",
       "        Department overlooking the case_TB & Chest disease  \\\n",
       "0                                                            \n",
       "161528                                                   0   \n",
       "159472                                                   0   \n",
       "309765                                                   0   \n",
       "279614                                                   0   \n",
       "147791                                                   0   \n",
       "\n",
       "        Department overlooking the case_anesthesia  \\\n",
       "0                                                    \n",
       "161528                                           0   \n",
       "159472                                           0   \n",
       "309765                                           1   \n",
       "279614                                           0   \n",
       "147791                                           0   \n",
       "\n",
       "        Department overlooking the case_gynecology  \\\n",
       "0                                                    \n",
       "161528                                           1   \n",
       "159472                                           1   \n",
       "309765                                           0   \n",
       "279614                                           1   \n",
       "147791                                           1   \n",
       "\n",
       "        Department overlooking the case_radiotherapy  \\\n",
       "0                                                      \n",
       "161528                                             0   \n",
       "159472                                             0   \n",
       "309765                                             0   \n",
       "279614                                             0   \n",
       "147791                                             0   \n",
       "\n",
       "        Department overlooking the case_surgery  \n",
       "0                                                \n",
       "161528                                        0  \n",
       "159472                                        0  \n",
       "309765                                        0  \n",
       "279614                                        0  \n",
       "147791                                        0  "
      ],
      "text/html": "<div>\n<style scoped>\n    .dataframe tbody tr th:only-of-type {\n        vertical-align: middle;\n    }\n\n    .dataframe tbody tr th {\n        vertical-align: top;\n    }\n\n    .dataframe thead th {\n        text-align: right;\n    }\n</style>\n<table border=\"1\" class=\"dataframe\">\n  <thead>\n    <tr style=\"text-align: right;\">\n      <th></th>\n      <th>Number of Extra rooms available in the Hospital</th>\n      <th>Condition of Bed in the Ward</th>\n      <th>Admission Type registered by the Hospital</th>\n      <th>Severity of the illness recorded at the time of admission</th>\n      <th>Age of the patient</th>\n      <th>Stay Days by the patient</th>\n      <th>Unique code for the type of Hospital_a</th>\n      <th>Unique code for the type of Hospital_b</th>\n      <th>Unique code for the type of Hospital_c</th>\n      <th>Unique code for the type of Hospital_d</th>\n      <th>Unique code for the type of Hospital_e</th>\n      <th>Unique code for the type of Hospital_f</th>\n      <th>Unique code for the type of Hospital_g</th>\n      <th>Department overlooking the case_TB &amp; Chest disease</th>\n      <th>Department overlooking the case_anesthesia</th>\n      <th>Department overlooking the case_gynecology</th>\n      <th>Department overlooking the case_radiotherapy</th>\n      <th>Department overlooking the case_surgery</th>\n    </tr>\n    <tr>\n      <th>0</th>\n      <th></th>\n      <th></th>\n      <th></th>\n      <th></th>\n      <th></th>\n      <th></th>\n      <th></th>\n      <th></th>\n      <th></th>\n      <th></th>\n      <th></th>\n      <th></th>\n      <th></th>\n      <th></th>\n      <th></th>\n      <th></th>\n      <th></th>\n      <th></th>\n    </tr>\n  </thead>\n  <tbody>\n    <tr>\n      <th>161528</th>\n      <td>2</td>\n      <td>4.0</td>\n      <td>2</td>\n      <td>2</td>\n      <td>2</td>\n      <td>0-10</td>\n      <td>1</td>\n      <td>0</td>\n      <td>0</td>\n      <td>0</td>\n      <td>0</td>\n      <td>0</td>\n      <td>0</td>\n      <td>0</td>\n      <td>0</td>\n      <td>1</td>\n      <td>0</td>\n      <td>0</td>\n    </tr>\n    <tr>\n      <th>159472</th>\n      <td>4</td>\n      <td>2.0</td>\n      <td>1</td>\n      <td>2</td>\n      <td>5</td>\n      <td>21-30</td>\n      <td>1</td>\n      <td>0</td>\n      <td>0</td>\n      <td>0</td>\n      <td>0</td>\n      <td>0</td>\n      <td>0</td>\n      <td>0</td>\n      <td>0</td>\n      <td>1</td>\n      <td>0</td>\n      <td>0</td>\n    </tr>\n    <tr>\n      <th>309765</th>\n      <td>2</td>\n      <td>3.0</td>\n      <td>2</td>\n      <td>2</td>\n      <td>7</td>\n      <td>11-20</td>\n      <td>0</td>\n      <td>0</td>\n      <td>1</td>\n      <td>0</td>\n      <td>0</td>\n      <td>0</td>\n      <td>0</td>\n      <td>0</td>\n      <td>1</td>\n      <td>0</td>\n      <td>0</td>\n      <td>0</td>\n    </tr>\n    <tr>\n      <th>279614</th>\n      <td>3</td>\n      <td>4.0</td>\n      <td>3</td>\n      <td>2</td>\n      <td>1</td>\n      <td>51-60</td>\n      <td>0</td>\n      <td>0</td>\n      <td>0</td>\n      <td>0</td>\n      <td>0</td>\n      <td>1</td>\n      <td>0</td>\n      <td>0</td>\n      <td>0</td>\n      <td>1</td>\n      <td>0</td>\n      <td>0</td>\n    </tr>\n    <tr>\n      <th>147791</th>\n      <td>3</td>\n      <td>2.0</td>\n      <td>2</td>\n      <td>2</td>\n      <td>5</td>\n      <td>51-60</td>\n      <td>1</td>\n      <td>0</td>\n      <td>0</td>\n      <td>0</td>\n      <td>0</td>\n      <td>0</td>\n      <td>0</td>\n      <td>0</td>\n      <td>0</td>\n      <td>1</td>\n      <td>0</td>\n      <td>0</td>\n    </tr>\n  </tbody>\n</table>\n</div>"
     },
     "metadata": {},
     "execution_count": 472
    }
   ],
   "source": [
    "df_train_reduced.head()"
   ]
  },
  {
   "cell_type": "code",
   "execution_count": 473,
   "metadata": {},
   "outputs": [
    {
     "output_type": "display_data",
     "data": {
      "text/plain": "<Figure size 720x360 with 2 Axes>",
      "image/svg+xml": "<?xml version=\"1.0\" encoding=\"utf-8\" standalone=\"no\"?>\r\n<!DOCTYPE svg PUBLIC \"-//W3C//DTD SVG 1.1//EN\"\r\n  \"http://www.w3.org/Graphics/SVG/1.1/DTD/svg11.dtd\">\r\n<svg height=\"537.994531pt\" version=\"1.1\" viewBox=\"0 0 773.188438 537.994531\" width=\"773.188438pt\" xmlns=\"http://www.w3.org/2000/svg\" xmlns:xlink=\"http://www.w3.org/1999/xlink\">\r\n <metadata>\r\n  <rdf:RDF xmlns:cc=\"http://creativecommons.org/ns#\" xmlns:dc=\"http://purl.org/dc/elements/1.1/\" xmlns:rdf=\"http://www.w3.org/1999/02/22-rdf-syntax-ns#\">\r\n   <cc:Work>\r\n    <dc:type rdf:resource=\"http://purl.org/dc/dcmitype/StillImage\"/>\r\n    <dc:date>2021-06-25T21:32:54.331481</dc:date>\r\n    <dc:format>image/svg+xml</dc:format>\r\n    <dc:creator>\r\n     <cc:Agent>\r\n      <dc:title>Matplotlib v3.4.1, https://matplotlib.org/</dc:title>\r\n     </cc:Agent>\r\n    </dc:creator>\r\n   </cc:Work>\r\n  </rdf:RDF>\r\n </metadata>\r\n <defs>\r\n  <style type=\"text/css\">*{stroke-linecap:butt;stroke-linejoin:round;}</style>\r\n </defs>\r\n <g id=\"figure_1\">\r\n  <g id=\"patch_1\">\r\n   <path d=\"M 0 537.994531 \r\nL 773.188438 537.994531 \r\nL 773.188438 0 \r\nL 0 0 \r\nz\r\n\" style=\"fill:none;\"/>\r\n  </g>\r\n  <g id=\"axes_1\">\r\n   <g id=\"patch_2\">\r\n    <path d=\"M 255.195313 282.799219 \r\nL 701.595313 282.799219 \r\nL 701.595313 10.999219 \r\nL 255.195313 10.999219 \r\nz\r\n\" style=\"fill:#ffffff;\"/>\r\n   </g>\r\n   <g id=\"QuadMesh_1\">\r\n    <path clip-path=\"url(#p40d76f08f2)\" d=\"M 255.195313 10.999219 \r\nL 310.995313 10.999219 \r\nL 310.995313 44.974219 \r\nL 255.195313 44.974219 \r\nL 255.195313 10.999219 \r\n\" style=\"fill:#b40426;\"/>\r\n    <path clip-path=\"url(#p40d76f08f2)\" d=\"M 310.995313 10.999219 \r\nL 366.795313 10.999219 \r\nL 366.795313 44.974219 \r\nL 310.995313 44.974219 \r\nL 310.995313 10.999219 \r\n\" style=\"fill:#8badfd;\"/>\r\n    <path clip-path=\"url(#p40d76f08f2)\" d=\"M 366.795313 10.999219 \r\nL 422.595313 10.999219 \r\nL 422.595313 44.974219 \r\nL 366.795313 44.974219 \r\nL 366.795313 10.999219 \r\n\" style=\"fill:#536edd;\"/>\r\n    <path clip-path=\"url(#p40d76f08f2)\" d=\"M 422.595313 10.999219 \r\nL 478.395313 10.999219 \r\nL 478.395313 44.974219 \r\nL 422.595313 44.974219 \r\nL 422.595313 10.999219 \r\n\" style=\"fill:#6180e9;\"/>\r\n    <path clip-path=\"url(#p40d76f08f2)\" d=\"M 478.395313 10.999219 \r\nL 534.195313 10.999219 \r\nL 534.195313 44.974219 \r\nL 478.395313 44.974219 \r\nL 478.395313 10.999219 \r\n\" style=\"fill:#6485ec;\"/>\r\n    <path clip-path=\"url(#p40d76f08f2)\" d=\"M 534.195313 10.999219 \r\nL 589.995313 10.999219 \r\nL 589.995313 44.974219 \r\nL 534.195313 44.974219 \r\nL 534.195313 10.999219 \r\n\" style=\"fill:#5e7de7;\"/>\r\n    <path clip-path=\"url(#p40d76f08f2)\" d=\"M 589.995313 10.999219 \r\nL 645.795313 10.999219 \r\nL 645.795313 44.974219 \r\nL 589.995313 44.974219 \r\nL 589.995313 10.999219 \r\n\" style=\"fill:#5b7ae5;\"/>\r\n    <path clip-path=\"url(#p40d76f08f2)\" d=\"M 645.795313 10.999219 \r\nL 701.595313 10.999219 \r\nL 701.595313 44.974219 \r\nL 645.795313 44.974219 \r\nL 645.795313 10.999219 \r\n\" style=\"fill:#7295f4;\"/>\r\n    <path clip-path=\"url(#p40d76f08f2)\" d=\"M 255.195313 44.974219 \r\nL 310.995313 44.974219 \r\nL 310.995313 78.949219 \r\nL 255.195313 78.949219 \r\nL 255.195313 44.974219 \r\n\" style=\"fill:#8badfd;\"/>\r\n    <path clip-path=\"url(#p40d76f08f2)\" d=\"M 310.995313 44.974219 \r\nL 366.795313 44.974219 \r\nL 366.795313 78.949219 \r\nL 310.995313 78.949219 \r\nL 310.995313 44.974219 \r\n\" style=\"fill:#b40426;\"/>\r\n    <path clip-path=\"url(#p40d76f08f2)\" d=\"M 366.795313 44.974219 \r\nL 422.595313 44.974219 \r\nL 422.595313 78.949219 \r\nL 366.795313 78.949219 \r\nL 366.795313 44.974219 \r\n\" style=\"fill:#5875e1;\"/>\r\n    <path clip-path=\"url(#p40d76f08f2)\" d=\"M 422.595313 44.974219 \r\nL 478.395313 44.974219 \r\nL 478.395313 78.949219 \r\nL 422.595313 78.949219 \r\nL 422.595313 44.974219 \r\n\" style=\"fill:#5673e0;\"/>\r\n    <path clip-path=\"url(#p40d76f08f2)\" d=\"M 478.395313 44.974219 \r\nL 534.195313 44.974219 \r\nL 534.195313 78.949219 \r\nL 478.395313 78.949219 \r\nL 478.395313 44.974219 \r\n\" style=\"fill:#6282ea;\"/>\r\n    <path clip-path=\"url(#p40d76f08f2)\" d=\"M 534.195313 44.974219 \r\nL 589.995313 44.974219 \r\nL 589.995313 78.949219 \r\nL 534.195313 78.949219 \r\nL 534.195313 44.974219 \r\n\" style=\"fill:#5b7ae5;\"/>\r\n    <path clip-path=\"url(#p40d76f08f2)\" d=\"M 589.995313 44.974219 \r\nL 645.795313 44.974219 \r\nL 645.795313 78.949219 \r\nL 589.995313 78.949219 \r\nL 589.995313 44.974219 \r\n\" style=\"fill:#6a8bef;\"/>\r\n    <path clip-path=\"url(#p40d76f08f2)\" d=\"M 645.795313 44.974219 \r\nL 701.595313 44.974219 \r\nL 701.595313 78.949219 \r\nL 645.795313 78.949219 \r\nL 645.795313 44.974219 \r\n\" style=\"fill:#5a78e4;\"/>\r\n    <path clip-path=\"url(#p40d76f08f2)\" d=\"M 255.195313 78.949219 \r\nL 310.995313 78.949219 \r\nL 310.995313 112.924219 \r\nL 255.195313 112.924219 \r\nL 255.195313 78.949219 \r\n\" style=\"fill:#536edd;\"/>\r\n    <path clip-path=\"url(#p40d76f08f2)\" d=\"M 310.995313 78.949219 \r\nL 366.795313 78.949219 \r\nL 366.795313 112.924219 \r\nL 310.995313 112.924219 \r\nL 310.995313 78.949219 \r\n\" style=\"fill:#5875e1;\"/>\r\n    <path clip-path=\"url(#p40d76f08f2)\" d=\"M 366.795313 78.949219 \r\nL 422.595313 78.949219 \r\nL 422.595313 112.924219 \r\nL 366.795313 112.924219 \r\nL 366.795313 78.949219 \r\n\" style=\"fill:#b40426;\"/>\r\n    <path clip-path=\"url(#p40d76f08f2)\" d=\"M 422.595313 78.949219 \r\nL 478.395313 78.949219 \r\nL 478.395313 112.924219 \r\nL 422.595313 112.924219 \r\nL 422.595313 78.949219 \r\n\" style=\"fill:#4358cb;\"/>\r\n    <path clip-path=\"url(#p40d76f08f2)\" d=\"M 478.395313 78.949219 \r\nL 534.195313 78.949219 \r\nL 534.195313 112.924219 \r\nL 478.395313 112.924219 \r\nL 478.395313 78.949219 \r\n\" style=\"fill:#6687ed;\"/>\r\n    <path clip-path=\"url(#p40d76f08f2)\" d=\"M 534.195313 78.949219 \r\nL 589.995313 78.949219 \r\nL 589.995313 112.924219 \r\nL 534.195313 112.924219 \r\nL 534.195313 78.949219 \r\n\" style=\"fill:#6180e9;\"/>\r\n    <path clip-path=\"url(#p40d76f08f2)\" d=\"M 589.995313 78.949219 \r\nL 645.795313 78.949219 \r\nL 645.795313 112.924219 \r\nL 589.995313 112.924219 \r\nL 589.995313 78.949219 \r\n\" style=\"fill:#80a3fa;\"/>\r\n    <path clip-path=\"url(#p40d76f08f2)\" d=\"M 645.795313 78.949219 \r\nL 701.595313 78.949219 \r\nL 701.595313 112.924219 \r\nL 645.795313 112.924219 \r\nL 645.795313 78.949219 \r\n\" style=\"fill:#3d50c3;\"/>\r\n    <path clip-path=\"url(#p40d76f08f2)\" d=\"M 255.195313 112.924219 \r\nL 310.995313 112.924219 \r\nL 310.995313 146.899219 \r\nL 255.195313 146.899219 \r\nL 255.195313 112.924219 \r\n\" style=\"fill:#6180e9;\"/>\r\n    <path clip-path=\"url(#p40d76f08f2)\" d=\"M 310.995313 112.924219 \r\nL 366.795313 112.924219 \r\nL 366.795313 146.899219 \r\nL 310.995313 146.899219 \r\nL 310.995313 112.924219 \r\n\" style=\"fill:#5673e0;\"/>\r\n    <path clip-path=\"url(#p40d76f08f2)\" d=\"M 366.795313 112.924219 \r\nL 422.595313 112.924219 \r\nL 422.595313 146.899219 \r\nL 366.795313 146.899219 \r\nL 366.795313 112.924219 \r\n\" style=\"fill:#4358cb;\"/>\r\n    <path clip-path=\"url(#p40d76f08f2)\" d=\"M 422.595313 112.924219 \r\nL 478.395313 112.924219 \r\nL 478.395313 146.899219 \r\nL 422.595313 146.899219 \r\nL 422.595313 112.924219 \r\n\" style=\"fill:#b40426;\"/>\r\n    <path clip-path=\"url(#p40d76f08f2)\" d=\"M 478.395313 112.924219 \r\nL 534.195313 112.924219 \r\nL 534.195313 146.899219 \r\nL 478.395313 146.899219 \r\nL 478.395313 112.924219 \r\n\" style=\"fill:#6687ed;\"/>\r\n    <path clip-path=\"url(#p40d76f08f2)\" d=\"M 534.195313 112.924219 \r\nL 589.995313 112.924219 \r\nL 589.995313 146.899219 \r\nL 534.195313 146.899219 \r\nL 534.195313 112.924219 \r\n\" style=\"fill:#6180e9;\"/>\r\n    <path clip-path=\"url(#p40d76f08f2)\" d=\"M 589.995313 112.924219 \r\nL 645.795313 112.924219 \r\nL 645.795313 146.899219 \r\nL 589.995313 146.899219 \r\nL 589.995313 112.924219 \r\n\" style=\"fill:#80a3fa;\"/>\r\n    <path clip-path=\"url(#p40d76f08f2)\" d=\"M 645.795313 112.924219 \r\nL 701.595313 112.924219 \r\nL 701.595313 146.899219 \r\nL 645.795313 146.899219 \r\nL 645.795313 112.924219 \r\n\" style=\"fill:#799cf8;\"/>\r\n    <path clip-path=\"url(#p40d76f08f2)\" d=\"M 255.195313 146.899219 \r\nL 310.995313 146.899219 \r\nL 310.995313 180.874219 \r\nL 255.195313 180.874219 \r\nL 255.195313 146.899219 \r\n\" style=\"fill:#6485ec;\"/>\r\n    <path clip-path=\"url(#p40d76f08f2)\" d=\"M 310.995313 146.899219 \r\nL 366.795313 146.899219 \r\nL 366.795313 180.874219 \r\nL 310.995313 180.874219 \r\nL 310.995313 146.899219 \r\n\" style=\"fill:#6282ea;\"/>\r\n    <path clip-path=\"url(#p40d76f08f2)\" d=\"M 366.795313 146.899219 \r\nL 422.595313 146.899219 \r\nL 422.595313 180.874219 \r\nL 366.795313 180.874219 \r\nL 366.795313 146.899219 \r\n\" style=\"fill:#6687ed;\"/>\r\n    <path clip-path=\"url(#p40d76f08f2)\" d=\"M 422.595313 146.899219 \r\nL 478.395313 146.899219 \r\nL 478.395313 180.874219 \r\nL 422.595313 180.874219 \r\nL 422.595313 146.899219 \r\n\" style=\"fill:#6687ed;\"/>\r\n    <path clip-path=\"url(#p40d76f08f2)\" d=\"M 478.395313 146.899219 \r\nL 534.195313 146.899219 \r\nL 534.195313 180.874219 \r\nL 478.395313 180.874219 \r\nL 478.395313 146.899219 \r\n\" style=\"fill:#b40426;\"/>\r\n    <path clip-path=\"url(#p40d76f08f2)\" d=\"M 534.195313 146.899219 \r\nL 589.995313 146.899219 \r\nL 589.995313 180.874219 \r\nL 534.195313 180.874219 \r\nL 534.195313 146.899219 \r\n\" style=\"fill:#6687ed;\"/>\r\n    <path clip-path=\"url(#p40d76f08f2)\" d=\"M 589.995313 146.899219 \r\nL 645.795313 146.899219 \r\nL 645.795313 180.874219 \r\nL 589.995313 180.874219 \r\nL 589.995313 146.899219 \r\n\" style=\"fill:#6687ed;\"/>\r\n    <path clip-path=\"url(#p40d76f08f2)\" d=\"M 645.795313 146.899219 \r\nL 701.595313 146.899219 \r\nL 701.595313 180.874219 \r\nL 645.795313 180.874219 \r\nL 645.795313 146.899219 \r\n\" style=\"fill:#6384eb;\"/>\r\n    <path clip-path=\"url(#p40d76f08f2)\" d=\"M 255.195313 180.874219 \r\nL 310.995313 180.874219 \r\nL 310.995313 214.849219 \r\nL 255.195313 214.849219 \r\nL 255.195313 180.874219 \r\n\" style=\"fill:#5e7de7;\"/>\r\n    <path clip-path=\"url(#p40d76f08f2)\" d=\"M 310.995313 180.874219 \r\nL 366.795313 180.874219 \r\nL 366.795313 214.849219 \r\nL 310.995313 214.849219 \r\nL 310.995313 180.874219 \r\n\" style=\"fill:#5b7ae5;\"/>\r\n    <path clip-path=\"url(#p40d76f08f2)\" d=\"M 366.795313 180.874219 \r\nL 422.595313 180.874219 \r\nL 422.595313 214.849219 \r\nL 366.795313 214.849219 \r\nL 366.795313 180.874219 \r\n\" style=\"fill:#6180e9;\"/>\r\n    <path clip-path=\"url(#p40d76f08f2)\" d=\"M 422.595313 180.874219 \r\nL 478.395313 180.874219 \r\nL 478.395313 214.849219 \r\nL 422.595313 214.849219 \r\nL 422.595313 180.874219 \r\n\" style=\"fill:#6180e9;\"/>\r\n    <path clip-path=\"url(#p40d76f08f2)\" d=\"M 478.395313 180.874219 \r\nL 534.195313 180.874219 \r\nL 534.195313 214.849219 \r\nL 478.395313 214.849219 \r\nL 478.395313 180.874219 \r\n\" style=\"fill:#6687ed;\"/>\r\n    <path clip-path=\"url(#p40d76f08f2)\" d=\"M 534.195313 180.874219 \r\nL 589.995313 180.874219 \r\nL 589.995313 214.849219 \r\nL 534.195313 214.849219 \r\nL 534.195313 180.874219 \r\n\" style=\"fill:#b40426;\"/>\r\n    <path clip-path=\"url(#p40d76f08f2)\" d=\"M 589.995313 180.874219 \r\nL 645.795313 180.874219 \r\nL 645.795313 214.849219 \r\nL 589.995313 214.849219 \r\nL 589.995313 180.874219 \r\n\" style=\"fill:#6282ea;\"/>\r\n    <path clip-path=\"url(#p40d76f08f2)\" d=\"M 645.795313 180.874219 \r\nL 701.595313 180.874219 \r\nL 701.595313 214.849219 \r\nL 645.795313 214.849219 \r\nL 645.795313 180.874219 \r\n\" style=\"fill:#6b8df0;\"/>\r\n    <path clip-path=\"url(#p40d76f08f2)\" d=\"M 255.195313 214.849219 \r\nL 310.995313 214.849219 \r\nL 310.995313 248.824219 \r\nL 255.195313 248.824219 \r\nL 255.195313 214.849219 \r\n\" style=\"fill:#5b7ae5;\"/>\r\n    <path clip-path=\"url(#p40d76f08f2)\" d=\"M 310.995313 214.849219 \r\nL 366.795313 214.849219 \r\nL 366.795313 248.824219 \r\nL 310.995313 248.824219 \r\nL 310.995313 214.849219 \r\n\" style=\"fill:#6a8bef;\"/>\r\n    <path clip-path=\"url(#p40d76f08f2)\" d=\"M 366.795313 214.849219 \r\nL 422.595313 214.849219 \r\nL 422.595313 248.824219 \r\nL 366.795313 248.824219 \r\nL 366.795313 214.849219 \r\n\" style=\"fill:#80a3fa;\"/>\r\n    <path clip-path=\"url(#p40d76f08f2)\" d=\"M 422.595313 214.849219 \r\nL 478.395313 214.849219 \r\nL 478.395313 248.824219 \r\nL 422.595313 248.824219 \r\nL 422.595313 214.849219 \r\n\" style=\"fill:#80a3fa;\"/>\r\n    <path clip-path=\"url(#p40d76f08f2)\" d=\"M 478.395313 214.849219 \r\nL 534.195313 214.849219 \r\nL 534.195313 248.824219 \r\nL 478.395313 248.824219 \r\nL 478.395313 214.849219 \r\n\" style=\"fill:#6687ed;\"/>\r\n    <path clip-path=\"url(#p40d76f08f2)\" d=\"M 534.195313 214.849219 \r\nL 589.995313 214.849219 \r\nL 589.995313 248.824219 \r\nL 534.195313 248.824219 \r\nL 534.195313 214.849219 \r\n\" style=\"fill:#6282ea;\"/>\r\n    <path clip-path=\"url(#p40d76f08f2)\" d=\"M 589.995313 214.849219 \r\nL 645.795313 214.849219 \r\nL 645.795313 248.824219 \r\nL 589.995313 248.824219 \r\nL 589.995313 214.849219 \r\n\" style=\"fill:#b40426;\"/>\r\n    <path clip-path=\"url(#p40d76f08f2)\" d=\"M 645.795313 214.849219 \r\nL 701.595313 214.849219 \r\nL 701.595313 248.824219 \r\nL 645.795313 248.824219 \r\nL 645.795313 214.849219 \r\n\" style=\"fill:#3b4cc0;\"/>\r\n    <path clip-path=\"url(#p40d76f08f2)\" d=\"M 255.195313 248.824219 \r\nL 310.995313 248.824219 \r\nL 310.995313 282.799219 \r\nL 255.195313 282.799219 \r\nL 255.195313 248.824219 \r\n\" style=\"fill:#7295f4;\"/>\r\n    <path clip-path=\"url(#p40d76f08f2)\" d=\"M 310.995313 248.824219 \r\nL 366.795313 248.824219 \r\nL 366.795313 282.799219 \r\nL 310.995313 282.799219 \r\nL 310.995313 248.824219 \r\n\" style=\"fill:#5a78e4;\"/>\r\n    <path clip-path=\"url(#p40d76f08f2)\" d=\"M 366.795313 248.824219 \r\nL 422.595313 248.824219 \r\nL 422.595313 282.799219 \r\nL 366.795313 282.799219 \r\nL 366.795313 248.824219 \r\n\" style=\"fill:#3d50c3;\"/>\r\n    <path clip-path=\"url(#p40d76f08f2)\" d=\"M 422.595313 248.824219 \r\nL 478.395313 248.824219 \r\nL 478.395313 282.799219 \r\nL 422.595313 282.799219 \r\nL 422.595313 248.824219 \r\n\" style=\"fill:#799cf8;\"/>\r\n    <path clip-path=\"url(#p40d76f08f2)\" d=\"M 478.395313 248.824219 \r\nL 534.195313 248.824219 \r\nL 534.195313 282.799219 \r\nL 478.395313 282.799219 \r\nL 478.395313 248.824219 \r\n\" style=\"fill:#6384eb;\"/>\r\n    <path clip-path=\"url(#p40d76f08f2)\" d=\"M 534.195313 248.824219 \r\nL 589.995313 248.824219 \r\nL 589.995313 282.799219 \r\nL 534.195313 282.799219 \r\nL 534.195313 248.824219 \r\n\" style=\"fill:#6b8df0;\"/>\r\n    <path clip-path=\"url(#p40d76f08f2)\" d=\"M 589.995313 248.824219 \r\nL 645.795313 248.824219 \r\nL 645.795313 282.799219 \r\nL 589.995313 282.799219 \r\nL 589.995313 248.824219 \r\n\" style=\"fill:#3b4cc0;\"/>\r\n    <path clip-path=\"url(#p40d76f08f2)\" d=\"M 645.795313 248.824219 \r\nL 701.595313 248.824219 \r\nL 701.595313 282.799219 \r\nL 645.795313 282.799219 \r\nL 645.795313 248.824219 \r\n\" style=\"fill:#b40426;\"/>\r\n   </g>\r\n   <g id=\"matplotlib.axis_1\">\r\n    <g id=\"xtick_1\">\r\n     <g id=\"line2d_1\">\r\n      <defs>\r\n       <path d=\"M 0 0 \r\nL 0 3.5 \r\n\" id=\"m2f198d8380\" style=\"stroke:#000000;stroke-width:0.8;\"/>\r\n      </defs>\r\n      <g>\r\n       <use style=\"stroke:#000000;stroke-width:0.8;\" x=\"283.095313\" xlink:href=\"#m2f198d8380\" y=\"282.799219\"/>\r\n      </g>\r\n     </g>\r\n     <g id=\"text_1\">\r\n      <!-- Unique code for the Hospital -->\r\n      <g transform=\"translate(285.854688 432.866406)rotate(-90)scale(0.1 -0.1)\">\r\n       <defs>\r\n        <path d=\"M 556 4666 \r\nL 1191 4666 \r\nL 1191 1831 \r\nQ 1191 1081 1462 751 \r\nQ 1734 422 2344 422 \r\nQ 2950 422 3222 751 \r\nQ 3494 1081 3494 1831 \r\nL 3494 4666 \r\nL 4128 4666 \r\nL 4128 1753 \r\nQ 4128 841 3676 375 \r\nQ 3225 -91 2344 -91 \r\nQ 1459 -91 1007 375 \r\nQ 556 841 556 1753 \r\nL 556 4666 \r\nz\r\n\" id=\"DejaVuSans-55\" transform=\"scale(0.015625)\"/>\r\n        <path d=\"M 3513 2113 \r\nL 3513 0 \r\nL 2938 0 \r\nL 2938 2094 \r\nQ 2938 2591 2744 2837 \r\nQ 2550 3084 2163 3084 \r\nQ 1697 3084 1428 2787 \r\nQ 1159 2491 1159 1978 \r\nL 1159 0 \r\nL 581 0 \r\nL 581 3500 \r\nL 1159 3500 \r\nL 1159 2956 \r\nQ 1366 3272 1645 3428 \r\nQ 1925 3584 2291 3584 \r\nQ 2894 3584 3203 3211 \r\nQ 3513 2838 3513 2113 \r\nz\r\n\" id=\"DejaVuSans-6e\" transform=\"scale(0.015625)\"/>\r\n        <path d=\"M 603 3500 \r\nL 1178 3500 \r\nL 1178 0 \r\nL 603 0 \r\nL 603 3500 \r\nz\r\nM 603 4863 \r\nL 1178 4863 \r\nL 1178 4134 \r\nL 603 4134 \r\nL 603 4863 \r\nz\r\n\" id=\"DejaVuSans-69\" transform=\"scale(0.015625)\"/>\r\n        <path d=\"M 947 1747 \r\nQ 947 1113 1208 752 \r\nQ 1469 391 1925 391 \r\nQ 2381 391 2643 752 \r\nQ 2906 1113 2906 1747 \r\nQ 2906 2381 2643 2742 \r\nQ 2381 3103 1925 3103 \r\nQ 1469 3103 1208 2742 \r\nQ 947 2381 947 1747 \r\nz\r\nM 2906 525 \r\nQ 2725 213 2448 61 \r\nQ 2172 -91 1784 -91 \r\nQ 1150 -91 751 415 \r\nQ 353 922 353 1747 \r\nQ 353 2572 751 3078 \r\nQ 1150 3584 1784 3584 \r\nQ 2172 3584 2448 3432 \r\nQ 2725 3281 2906 2969 \r\nL 2906 3500 \r\nL 3481 3500 \r\nL 3481 -1331 \r\nL 2906 -1331 \r\nL 2906 525 \r\nz\r\n\" id=\"DejaVuSans-71\" transform=\"scale(0.015625)\"/>\r\n        <path d=\"M 544 1381 \r\nL 544 3500 \r\nL 1119 3500 \r\nL 1119 1403 \r\nQ 1119 906 1312 657 \r\nQ 1506 409 1894 409 \r\nQ 2359 409 2629 706 \r\nQ 2900 1003 2900 1516 \r\nL 2900 3500 \r\nL 3475 3500 \r\nL 3475 0 \r\nL 2900 0 \r\nL 2900 538 \r\nQ 2691 219 2414 64 \r\nQ 2138 -91 1772 -91 \r\nQ 1169 -91 856 284 \r\nQ 544 659 544 1381 \r\nz\r\nM 1991 3584 \r\nL 1991 3584 \r\nz\r\n\" id=\"DejaVuSans-75\" transform=\"scale(0.015625)\"/>\r\n        <path d=\"M 3597 1894 \r\nL 3597 1613 \r\nL 953 1613 \r\nQ 991 1019 1311 708 \r\nQ 1631 397 2203 397 \r\nQ 2534 397 2845 478 \r\nQ 3156 559 3463 722 \r\nL 3463 178 \r\nQ 3153 47 2828 -22 \r\nQ 2503 -91 2169 -91 \r\nQ 1331 -91 842 396 \r\nQ 353 884 353 1716 \r\nQ 353 2575 817 3079 \r\nQ 1281 3584 2069 3584 \r\nQ 2775 3584 3186 3129 \r\nQ 3597 2675 3597 1894 \r\nz\r\nM 3022 2063 \r\nQ 3016 2534 2758 2815 \r\nQ 2500 3097 2075 3097 \r\nQ 1594 3097 1305 2825 \r\nQ 1016 2553 972 2059 \r\nL 3022 2063 \r\nz\r\n\" id=\"DejaVuSans-65\" transform=\"scale(0.015625)\"/>\r\n        <path id=\"DejaVuSans-20\" transform=\"scale(0.015625)\"/>\r\n        <path d=\"M 3122 3366 \r\nL 3122 2828 \r\nQ 2878 2963 2633 3030 \r\nQ 2388 3097 2138 3097 \r\nQ 1578 3097 1268 2742 \r\nQ 959 2388 959 1747 \r\nQ 959 1106 1268 751 \r\nQ 1578 397 2138 397 \r\nQ 2388 397 2633 464 \r\nQ 2878 531 3122 666 \r\nL 3122 134 \r\nQ 2881 22 2623 -34 \r\nQ 2366 -91 2075 -91 \r\nQ 1284 -91 818 406 \r\nQ 353 903 353 1747 \r\nQ 353 2603 823 3093 \r\nQ 1294 3584 2113 3584 \r\nQ 2378 3584 2631 3529 \r\nQ 2884 3475 3122 3366 \r\nz\r\n\" id=\"DejaVuSans-63\" transform=\"scale(0.015625)\"/>\r\n        <path d=\"M 1959 3097 \r\nQ 1497 3097 1228 2736 \r\nQ 959 2375 959 1747 \r\nQ 959 1119 1226 758 \r\nQ 1494 397 1959 397 \r\nQ 2419 397 2687 759 \r\nQ 2956 1122 2956 1747 \r\nQ 2956 2369 2687 2733 \r\nQ 2419 3097 1959 3097 \r\nz\r\nM 1959 3584 \r\nQ 2709 3584 3137 3096 \r\nQ 3566 2609 3566 1747 \r\nQ 3566 888 3137 398 \r\nQ 2709 -91 1959 -91 \r\nQ 1206 -91 779 398 \r\nQ 353 888 353 1747 \r\nQ 353 2609 779 3096 \r\nQ 1206 3584 1959 3584 \r\nz\r\n\" id=\"DejaVuSans-6f\" transform=\"scale(0.015625)\"/>\r\n        <path d=\"M 2906 2969 \r\nL 2906 4863 \r\nL 3481 4863 \r\nL 3481 0 \r\nL 2906 0 \r\nL 2906 525 \r\nQ 2725 213 2448 61 \r\nQ 2172 -91 1784 -91 \r\nQ 1150 -91 751 415 \r\nQ 353 922 353 1747 \r\nQ 353 2572 751 3078 \r\nQ 1150 3584 1784 3584 \r\nQ 2172 3584 2448 3432 \r\nQ 2725 3281 2906 2969 \r\nz\r\nM 947 1747 \r\nQ 947 1113 1208 752 \r\nQ 1469 391 1925 391 \r\nQ 2381 391 2643 752 \r\nQ 2906 1113 2906 1747 \r\nQ 2906 2381 2643 2742 \r\nQ 2381 3103 1925 3103 \r\nQ 1469 3103 1208 2742 \r\nQ 947 2381 947 1747 \r\nz\r\n\" id=\"DejaVuSans-64\" transform=\"scale(0.015625)\"/>\r\n        <path d=\"M 2375 4863 \r\nL 2375 4384 \r\nL 1825 4384 \r\nQ 1516 4384 1395 4259 \r\nQ 1275 4134 1275 3809 \r\nL 1275 3500 \r\nL 2222 3500 \r\nL 2222 3053 \r\nL 1275 3053 \r\nL 1275 0 \r\nL 697 0 \r\nL 697 3053 \r\nL 147 3053 \r\nL 147 3500 \r\nL 697 3500 \r\nL 697 3744 \r\nQ 697 4328 969 4595 \r\nQ 1241 4863 1831 4863 \r\nL 2375 4863 \r\nz\r\n\" id=\"DejaVuSans-66\" transform=\"scale(0.015625)\"/>\r\n        <path d=\"M 2631 2963 \r\nQ 2534 3019 2420 3045 \r\nQ 2306 3072 2169 3072 \r\nQ 1681 3072 1420 2755 \r\nQ 1159 2438 1159 1844 \r\nL 1159 0 \r\nL 581 0 \r\nL 581 3500 \r\nL 1159 3500 \r\nL 1159 2956 \r\nQ 1341 3275 1631 3429 \r\nQ 1922 3584 2338 3584 \r\nQ 2397 3584 2469 3576 \r\nQ 2541 3569 2628 3553 \r\nL 2631 2963 \r\nz\r\n\" id=\"DejaVuSans-72\" transform=\"scale(0.015625)\"/>\r\n        <path d=\"M 1172 4494 \r\nL 1172 3500 \r\nL 2356 3500 \r\nL 2356 3053 \r\nL 1172 3053 \r\nL 1172 1153 \r\nQ 1172 725 1289 603 \r\nQ 1406 481 1766 481 \r\nL 2356 481 \r\nL 2356 0 \r\nL 1766 0 \r\nQ 1100 0 847 248 \r\nQ 594 497 594 1153 \r\nL 594 3053 \r\nL 172 3053 \r\nL 172 3500 \r\nL 594 3500 \r\nL 594 4494 \r\nL 1172 4494 \r\nz\r\n\" id=\"DejaVuSans-74\" transform=\"scale(0.015625)\"/>\r\n        <path d=\"M 3513 2113 \r\nL 3513 0 \r\nL 2938 0 \r\nL 2938 2094 \r\nQ 2938 2591 2744 2837 \r\nQ 2550 3084 2163 3084 \r\nQ 1697 3084 1428 2787 \r\nQ 1159 2491 1159 1978 \r\nL 1159 0 \r\nL 581 0 \r\nL 581 4863 \r\nL 1159 4863 \r\nL 1159 2956 \r\nQ 1366 3272 1645 3428 \r\nQ 1925 3584 2291 3584 \r\nQ 2894 3584 3203 3211 \r\nQ 3513 2838 3513 2113 \r\nz\r\n\" id=\"DejaVuSans-68\" transform=\"scale(0.015625)\"/>\r\n        <path d=\"M 628 4666 \r\nL 1259 4666 \r\nL 1259 2753 \r\nL 3553 2753 \r\nL 3553 4666 \r\nL 4184 4666 \r\nL 4184 0 \r\nL 3553 0 \r\nL 3553 2222 \r\nL 1259 2222 \r\nL 1259 0 \r\nL 628 0 \r\nL 628 4666 \r\nz\r\n\" id=\"DejaVuSans-48\" transform=\"scale(0.015625)\"/>\r\n        <path d=\"M 2834 3397 \r\nL 2834 2853 \r\nQ 2591 2978 2328 3040 \r\nQ 2066 3103 1784 3103 \r\nQ 1356 3103 1142 2972 \r\nQ 928 2841 928 2578 \r\nQ 928 2378 1081 2264 \r\nQ 1234 2150 1697 2047 \r\nL 1894 2003 \r\nQ 2506 1872 2764 1633 \r\nQ 3022 1394 3022 966 \r\nQ 3022 478 2636 193 \r\nQ 2250 -91 1575 -91 \r\nQ 1294 -91 989 -36 \r\nQ 684 19 347 128 \r\nL 347 722 \r\nQ 666 556 975 473 \r\nQ 1284 391 1588 391 \r\nQ 1994 391 2212 530 \r\nQ 2431 669 2431 922 \r\nQ 2431 1156 2273 1281 \r\nQ 2116 1406 1581 1522 \r\nL 1381 1569 \r\nQ 847 1681 609 1914 \r\nQ 372 2147 372 2553 \r\nQ 372 3047 722 3315 \r\nQ 1072 3584 1716 3584 \r\nQ 2034 3584 2315 3537 \r\nQ 2597 3491 2834 3397 \r\nz\r\n\" id=\"DejaVuSans-73\" transform=\"scale(0.015625)\"/>\r\n        <path d=\"M 1159 525 \r\nL 1159 -1331 \r\nL 581 -1331 \r\nL 581 3500 \r\nL 1159 3500 \r\nL 1159 2969 \r\nQ 1341 3281 1617 3432 \r\nQ 1894 3584 2278 3584 \r\nQ 2916 3584 3314 3078 \r\nQ 3713 2572 3713 1747 \r\nQ 3713 922 3314 415 \r\nQ 2916 -91 2278 -91 \r\nQ 1894 -91 1617 61 \r\nQ 1341 213 1159 525 \r\nz\r\nM 3116 1747 \r\nQ 3116 2381 2855 2742 \r\nQ 2594 3103 2138 3103 \r\nQ 1681 3103 1420 2742 \r\nQ 1159 2381 1159 1747 \r\nQ 1159 1113 1420 752 \r\nQ 1681 391 2138 391 \r\nQ 2594 391 2855 752 \r\nQ 3116 1113 3116 1747 \r\nz\r\n\" id=\"DejaVuSans-70\" transform=\"scale(0.015625)\"/>\r\n        <path d=\"M 2194 1759 \r\nQ 1497 1759 1228 1600 \r\nQ 959 1441 959 1056 \r\nQ 959 750 1161 570 \r\nQ 1363 391 1709 391 \r\nQ 2188 391 2477 730 \r\nQ 2766 1069 2766 1631 \r\nL 2766 1759 \r\nL 2194 1759 \r\nz\r\nM 3341 1997 \r\nL 3341 0 \r\nL 2766 0 \r\nL 2766 531 \r\nQ 2569 213 2275 61 \r\nQ 1981 -91 1556 -91 \r\nQ 1019 -91 701 211 \r\nQ 384 513 384 1019 \r\nQ 384 1609 779 1909 \r\nQ 1175 2209 1959 2209 \r\nL 2766 2209 \r\nL 2766 2266 \r\nQ 2766 2663 2505 2880 \r\nQ 2244 3097 1772 3097 \r\nQ 1472 3097 1187 3025 \r\nQ 903 2953 641 2809 \r\nL 641 3341 \r\nQ 956 3463 1253 3523 \r\nQ 1550 3584 1831 3584 \r\nQ 2591 3584 2966 3190 \r\nQ 3341 2797 3341 1997 \r\nz\r\n\" id=\"DejaVuSans-61\" transform=\"scale(0.015625)\"/>\r\n        <path d=\"M 603 4863 \r\nL 1178 4863 \r\nL 1178 0 \r\nL 603 0 \r\nL 603 4863 \r\nz\r\n\" id=\"DejaVuSans-6c\" transform=\"scale(0.015625)\"/>\r\n       </defs>\r\n       <use xlink:href=\"#DejaVuSans-55\"/>\r\n       <use x=\"73.193359\" xlink:href=\"#DejaVuSans-6e\"/>\r\n       <use x=\"136.572266\" xlink:href=\"#DejaVuSans-69\"/>\r\n       <use x=\"164.355469\" xlink:href=\"#DejaVuSans-71\"/>\r\n       <use x=\"227.832031\" xlink:href=\"#DejaVuSans-75\"/>\r\n       <use x=\"291.210938\" xlink:href=\"#DejaVuSans-65\"/>\r\n       <use x=\"352.734375\" xlink:href=\"#DejaVuSans-20\"/>\r\n       <use x=\"384.521484\" xlink:href=\"#DejaVuSans-63\"/>\r\n       <use x=\"439.501953\" xlink:href=\"#DejaVuSans-6f\"/>\r\n       <use x=\"500.683594\" xlink:href=\"#DejaVuSans-64\"/>\r\n       <use x=\"564.160156\" xlink:href=\"#DejaVuSans-65\"/>\r\n       <use x=\"625.683594\" xlink:href=\"#DejaVuSans-20\"/>\r\n       <use x=\"657.470703\" xlink:href=\"#DejaVuSans-66\"/>\r\n       <use x=\"692.675781\" xlink:href=\"#DejaVuSans-6f\"/>\r\n       <use x=\"753.857422\" xlink:href=\"#DejaVuSans-72\"/>\r\n       <use x=\"794.970703\" xlink:href=\"#DejaVuSans-20\"/>\r\n       <use x=\"826.757812\" xlink:href=\"#DejaVuSans-74\"/>\r\n       <use x=\"865.966797\" xlink:href=\"#DejaVuSans-68\"/>\r\n       <use x=\"929.345703\" xlink:href=\"#DejaVuSans-65\"/>\r\n       <use x=\"990.869141\" xlink:href=\"#DejaVuSans-20\"/>\r\n       <use x=\"1022.65625\" xlink:href=\"#DejaVuSans-48\"/>\r\n       <use x=\"1097.851562\" xlink:href=\"#DejaVuSans-6f\"/>\r\n       <use x=\"1159.033203\" xlink:href=\"#DejaVuSans-73\"/>\r\n       <use x=\"1211.132812\" xlink:href=\"#DejaVuSans-70\"/>\r\n       <use x=\"1274.609375\" xlink:href=\"#DejaVuSans-69\"/>\r\n       <use x=\"1302.392578\" xlink:href=\"#DejaVuSans-74\"/>\r\n       <use x=\"1341.601562\" xlink:href=\"#DejaVuSans-61\"/>\r\n       <use x=\"1402.880859\" xlink:href=\"#DejaVuSans-6c\"/>\r\n      </g>\r\n     </g>\r\n    </g>\r\n    <g id=\"xtick_2\">\r\n     <g id=\"line2d_2\">\r\n      <g>\r\n       <use style=\"stroke:#000000;stroke-width:0.8;\" x=\"338.895313\" xlink:href=\"#m2f198d8380\" y=\"282.799219\"/>\r\n      </g>\r\n     </g>\r\n     <g id=\"text_2\">\r\n      <!-- City Code of the Hospital -->\r\n      <g transform=\"translate(341.654688 414.566406)rotate(-90)scale(0.1 -0.1)\">\r\n       <defs>\r\n        <path d=\"M 4122 4306 \r\nL 4122 3641 \r\nQ 3803 3938 3442 4084 \r\nQ 3081 4231 2675 4231 \r\nQ 1875 4231 1450 3742 \r\nQ 1025 3253 1025 2328 \r\nQ 1025 1406 1450 917 \r\nQ 1875 428 2675 428 \r\nQ 3081 428 3442 575 \r\nQ 3803 722 4122 1019 \r\nL 4122 359 \r\nQ 3791 134 3420 21 \r\nQ 3050 -91 2638 -91 \r\nQ 1578 -91 968 557 \r\nQ 359 1206 359 2328 \r\nQ 359 3453 968 4101 \r\nQ 1578 4750 2638 4750 \r\nQ 3056 4750 3426 4639 \r\nQ 3797 4528 4122 4306 \r\nz\r\n\" id=\"DejaVuSans-43\" transform=\"scale(0.015625)\"/>\r\n        <path d=\"M 2059 -325 \r\nQ 1816 -950 1584 -1140 \r\nQ 1353 -1331 966 -1331 \r\nL 506 -1331 \r\nL 506 -850 \r\nL 844 -850 \r\nQ 1081 -850 1212 -737 \r\nQ 1344 -625 1503 -206 \r\nL 1606 56 \r\nL 191 3500 \r\nL 800 3500 \r\nL 1894 763 \r\nL 2988 3500 \r\nL 3597 3500 \r\nL 2059 -325 \r\nz\r\n\" id=\"DejaVuSans-79\" transform=\"scale(0.015625)\"/>\r\n       </defs>\r\n       <use xlink:href=\"#DejaVuSans-43\"/>\r\n       <use x=\"69.824219\" xlink:href=\"#DejaVuSans-69\"/>\r\n       <use x=\"97.607422\" xlink:href=\"#DejaVuSans-74\"/>\r\n       <use x=\"136.816406\" xlink:href=\"#DejaVuSans-79\"/>\r\n       <use x=\"195.996094\" xlink:href=\"#DejaVuSans-20\"/>\r\n       <use x=\"227.783203\" xlink:href=\"#DejaVuSans-43\"/>\r\n       <use x=\"297.607422\" xlink:href=\"#DejaVuSans-6f\"/>\r\n       <use x=\"358.789062\" xlink:href=\"#DejaVuSans-64\"/>\r\n       <use x=\"422.265625\" xlink:href=\"#DejaVuSans-65\"/>\r\n       <use x=\"483.789062\" xlink:href=\"#DejaVuSans-20\"/>\r\n       <use x=\"515.576172\" xlink:href=\"#DejaVuSans-6f\"/>\r\n       <use x=\"576.757812\" xlink:href=\"#DejaVuSans-66\"/>\r\n       <use x=\"611.962891\" xlink:href=\"#DejaVuSans-20\"/>\r\n       <use x=\"643.75\" xlink:href=\"#DejaVuSans-74\"/>\r\n       <use x=\"682.958984\" xlink:href=\"#DejaVuSans-68\"/>\r\n       <use x=\"746.337891\" xlink:href=\"#DejaVuSans-65\"/>\r\n       <use x=\"807.861328\" xlink:href=\"#DejaVuSans-20\"/>\r\n       <use x=\"839.648438\" xlink:href=\"#DejaVuSans-48\"/>\r\n       <use x=\"914.84375\" xlink:href=\"#DejaVuSans-6f\"/>\r\n       <use x=\"976.025391\" xlink:href=\"#DejaVuSans-73\"/>\r\n       <use x=\"1028.125\" xlink:href=\"#DejaVuSans-70\"/>\r\n       <use x=\"1091.601562\" xlink:href=\"#DejaVuSans-69\"/>\r\n       <use x=\"1119.384766\" xlink:href=\"#DejaVuSans-74\"/>\r\n       <use x=\"1158.59375\" xlink:href=\"#DejaVuSans-61\"/>\r\n       <use x=\"1219.873047\" xlink:href=\"#DejaVuSans-6c\"/>\r\n      </g>\r\n     </g>\r\n    </g>\r\n    <g id=\"xtick_3\">\r\n     <g id=\"line2d_3\">\r\n      <g>\r\n       <use style=\"stroke:#000000;stroke-width:0.8;\" x=\"394.695313\" xlink:href=\"#m2f198d8380\" y=\"282.799219\"/>\r\n      </g>\r\n     </g>\r\n     <g id=\"text_3\">\r\n      <!-- Number of Extra rooms available in the Hospital -->\r\n      <g transform=\"translate(397.454688 530.794531)rotate(-90)scale(0.1 -0.1)\">\r\n       <defs>\r\n        <path d=\"M 628 4666 \r\nL 1478 4666 \r\nL 3547 763 \r\nL 3547 4666 \r\nL 4159 4666 \r\nL 4159 0 \r\nL 3309 0 \r\nL 1241 3903 \r\nL 1241 0 \r\nL 628 0 \r\nL 628 4666 \r\nz\r\n\" id=\"DejaVuSans-4e\" transform=\"scale(0.015625)\"/>\r\n        <path d=\"M 3328 2828 \r\nQ 3544 3216 3844 3400 \r\nQ 4144 3584 4550 3584 \r\nQ 5097 3584 5394 3201 \r\nQ 5691 2819 5691 2113 \r\nL 5691 0 \r\nL 5113 0 \r\nL 5113 2094 \r\nQ 5113 2597 4934 2840 \r\nQ 4756 3084 4391 3084 \r\nQ 3944 3084 3684 2787 \r\nQ 3425 2491 3425 1978 \r\nL 3425 0 \r\nL 2847 0 \r\nL 2847 2094 \r\nQ 2847 2600 2669 2842 \r\nQ 2491 3084 2119 3084 \r\nQ 1678 3084 1418 2786 \r\nQ 1159 2488 1159 1978 \r\nL 1159 0 \r\nL 581 0 \r\nL 581 3500 \r\nL 1159 3500 \r\nL 1159 2956 \r\nQ 1356 3278 1631 3431 \r\nQ 1906 3584 2284 3584 \r\nQ 2666 3584 2933 3390 \r\nQ 3200 3197 3328 2828 \r\nz\r\n\" id=\"DejaVuSans-6d\" transform=\"scale(0.015625)\"/>\r\n        <path d=\"M 3116 1747 \r\nQ 3116 2381 2855 2742 \r\nQ 2594 3103 2138 3103 \r\nQ 1681 3103 1420 2742 \r\nQ 1159 2381 1159 1747 \r\nQ 1159 1113 1420 752 \r\nQ 1681 391 2138 391 \r\nQ 2594 391 2855 752 \r\nQ 3116 1113 3116 1747 \r\nz\r\nM 1159 2969 \r\nQ 1341 3281 1617 3432 \r\nQ 1894 3584 2278 3584 \r\nQ 2916 3584 3314 3078 \r\nQ 3713 2572 3713 1747 \r\nQ 3713 922 3314 415 \r\nQ 2916 -91 2278 -91 \r\nQ 1894 -91 1617 61 \r\nQ 1341 213 1159 525 \r\nL 1159 0 \r\nL 581 0 \r\nL 581 4863 \r\nL 1159 4863 \r\nL 1159 2969 \r\nz\r\n\" id=\"DejaVuSans-62\" transform=\"scale(0.015625)\"/>\r\n        <path d=\"M 628 4666 \r\nL 3578 4666 \r\nL 3578 4134 \r\nL 1259 4134 \r\nL 1259 2753 \r\nL 3481 2753 \r\nL 3481 2222 \r\nL 1259 2222 \r\nL 1259 531 \r\nL 3634 531 \r\nL 3634 0 \r\nL 628 0 \r\nL 628 4666 \r\nz\r\n\" id=\"DejaVuSans-45\" transform=\"scale(0.015625)\"/>\r\n        <path d=\"M 3513 3500 \r\nL 2247 1797 \r\nL 3578 0 \r\nL 2900 0 \r\nL 1881 1375 \r\nL 863 0 \r\nL 184 0 \r\nL 1544 1831 \r\nL 300 3500 \r\nL 978 3500 \r\nL 1906 2253 \r\nL 2834 3500 \r\nL 3513 3500 \r\nz\r\n\" id=\"DejaVuSans-78\" transform=\"scale(0.015625)\"/>\r\n        <path d=\"M 191 3500 \r\nL 800 3500 \r\nL 1894 563 \r\nL 2988 3500 \r\nL 3597 3500 \r\nL 2284 0 \r\nL 1503 0 \r\nL 191 3500 \r\nz\r\n\" id=\"DejaVuSans-76\" transform=\"scale(0.015625)\"/>\r\n       </defs>\r\n       <use xlink:href=\"#DejaVuSans-4e\"/>\r\n       <use x=\"74.804688\" xlink:href=\"#DejaVuSans-75\"/>\r\n       <use x=\"138.183594\" xlink:href=\"#DejaVuSans-6d\"/>\r\n       <use x=\"235.595703\" xlink:href=\"#DejaVuSans-62\"/>\r\n       <use x=\"299.072266\" xlink:href=\"#DejaVuSans-65\"/>\r\n       <use x=\"360.595703\" xlink:href=\"#DejaVuSans-72\"/>\r\n       <use x=\"401.708984\" xlink:href=\"#DejaVuSans-20\"/>\r\n       <use x=\"433.496094\" xlink:href=\"#DejaVuSans-6f\"/>\r\n       <use x=\"494.677734\" xlink:href=\"#DejaVuSans-66\"/>\r\n       <use x=\"529.882812\" xlink:href=\"#DejaVuSans-20\"/>\r\n       <use x=\"561.669922\" xlink:href=\"#DejaVuSans-45\"/>\r\n       <use x=\"624.853516\" xlink:href=\"#DejaVuSans-78\"/>\r\n       <use x=\"684.033203\" xlink:href=\"#DejaVuSans-74\"/>\r\n       <use x=\"723.242188\" xlink:href=\"#DejaVuSans-72\"/>\r\n       <use x=\"764.355469\" xlink:href=\"#DejaVuSans-61\"/>\r\n       <use x=\"825.634766\" xlink:href=\"#DejaVuSans-20\"/>\r\n       <use x=\"857.421875\" xlink:href=\"#DejaVuSans-72\"/>\r\n       <use x=\"896.285156\" xlink:href=\"#DejaVuSans-6f\"/>\r\n       <use x=\"957.466797\" xlink:href=\"#DejaVuSans-6f\"/>\r\n       <use x=\"1018.648438\" xlink:href=\"#DejaVuSans-6d\"/>\r\n       <use x=\"1116.060547\" xlink:href=\"#DejaVuSans-73\"/>\r\n       <use x=\"1168.160156\" xlink:href=\"#DejaVuSans-20\"/>\r\n       <use x=\"1199.947266\" xlink:href=\"#DejaVuSans-61\"/>\r\n       <use x=\"1261.226562\" xlink:href=\"#DejaVuSans-76\"/>\r\n       <use x=\"1320.40625\" xlink:href=\"#DejaVuSans-61\"/>\r\n       <use x=\"1381.685547\" xlink:href=\"#DejaVuSans-69\"/>\r\n       <use x=\"1409.46875\" xlink:href=\"#DejaVuSans-6c\"/>\r\n       <use x=\"1437.251953\" xlink:href=\"#DejaVuSans-61\"/>\r\n       <use x=\"1498.53125\" xlink:href=\"#DejaVuSans-62\"/>\r\n       <use x=\"1562.007812\" xlink:href=\"#DejaVuSans-6c\"/>\r\n       <use x=\"1589.791016\" xlink:href=\"#DejaVuSans-65\"/>\r\n       <use x=\"1651.314453\" xlink:href=\"#DejaVuSans-20\"/>\r\n       <use x=\"1683.101562\" xlink:href=\"#DejaVuSans-69\"/>\r\n       <use x=\"1710.884766\" xlink:href=\"#DejaVuSans-6e\"/>\r\n       <use x=\"1774.263672\" xlink:href=\"#DejaVuSans-20\"/>\r\n       <use x=\"1806.050781\" xlink:href=\"#DejaVuSans-74\"/>\r\n       <use x=\"1845.259766\" xlink:href=\"#DejaVuSans-68\"/>\r\n       <use x=\"1908.638672\" xlink:href=\"#DejaVuSans-65\"/>\r\n       <use x=\"1970.162109\" xlink:href=\"#DejaVuSans-20\"/>\r\n       <use x=\"2001.949219\" xlink:href=\"#DejaVuSans-48\"/>\r\n       <use x=\"2077.144531\" xlink:href=\"#DejaVuSans-6f\"/>\r\n       <use x=\"2138.326172\" xlink:href=\"#DejaVuSans-73\"/>\r\n       <use x=\"2190.425781\" xlink:href=\"#DejaVuSans-70\"/>\r\n       <use x=\"2253.902344\" xlink:href=\"#DejaVuSans-69\"/>\r\n       <use x=\"2281.685547\" xlink:href=\"#DejaVuSans-74\"/>\r\n       <use x=\"2320.894531\" xlink:href=\"#DejaVuSans-61\"/>\r\n       <use x=\"2382.173828\" xlink:href=\"#DejaVuSans-6c\"/>\r\n      </g>\r\n     </g>\r\n    </g>\r\n    <g id=\"xtick_4\">\r\n     <g id=\"line2d_4\">\r\n      <g>\r\n       <use style=\"stroke:#000000;stroke-width:0.8;\" x=\"450.495313\" xlink:href=\"#m2f198d8380\" y=\"282.799219\"/>\r\n      </g>\r\n     </g>\r\n     <g id=\"text_4\">\r\n      <!-- Condition of Bed in the Ward -->\r\n      <g transform=\"translate(453.254688 433.600781)rotate(-90)scale(0.1 -0.1)\">\r\n       <defs>\r\n        <path d=\"M 1259 2228 \r\nL 1259 519 \r\nL 2272 519 \r\nQ 2781 519 3026 730 \r\nQ 3272 941 3272 1375 \r\nQ 3272 1813 3026 2020 \r\nQ 2781 2228 2272 2228 \r\nL 1259 2228 \r\nz\r\nM 1259 4147 \r\nL 1259 2741 \r\nL 2194 2741 \r\nQ 2656 2741 2882 2914 \r\nQ 3109 3088 3109 3444 \r\nQ 3109 3797 2882 3972 \r\nQ 2656 4147 2194 4147 \r\nL 1259 4147 \r\nz\r\nM 628 4666 \r\nL 2241 4666 \r\nQ 2963 4666 3353 4366 \r\nQ 3744 4066 3744 3513 \r\nQ 3744 3084 3544 2831 \r\nQ 3344 2578 2956 2516 \r\nQ 3422 2416 3680 2098 \r\nQ 3938 1781 3938 1306 \r\nQ 3938 681 3513 340 \r\nQ 3088 0 2303 0 \r\nL 628 0 \r\nL 628 4666 \r\nz\r\n\" id=\"DejaVuSans-42\" transform=\"scale(0.015625)\"/>\r\n        <path d=\"M 213 4666 \r\nL 850 4666 \r\nL 1831 722 \r\nL 2809 4666 \r\nL 3519 4666 \r\nL 4500 722 \r\nL 5478 4666 \r\nL 6119 4666 \r\nL 4947 0 \r\nL 4153 0 \r\nL 3169 4050 \r\nL 2175 0 \r\nL 1381 0 \r\nL 213 4666 \r\nz\r\n\" id=\"DejaVuSans-57\" transform=\"scale(0.015625)\"/>\r\n       </defs>\r\n       <use xlink:href=\"#DejaVuSans-43\"/>\r\n       <use x=\"69.824219\" xlink:href=\"#DejaVuSans-6f\"/>\r\n       <use x=\"131.005859\" xlink:href=\"#DejaVuSans-6e\"/>\r\n       <use x=\"194.384766\" xlink:href=\"#DejaVuSans-64\"/>\r\n       <use x=\"257.861328\" xlink:href=\"#DejaVuSans-69\"/>\r\n       <use x=\"285.644531\" xlink:href=\"#DejaVuSans-74\"/>\r\n       <use x=\"324.853516\" xlink:href=\"#DejaVuSans-69\"/>\r\n       <use x=\"352.636719\" xlink:href=\"#DejaVuSans-6f\"/>\r\n       <use x=\"413.818359\" xlink:href=\"#DejaVuSans-6e\"/>\r\n       <use x=\"477.197266\" xlink:href=\"#DejaVuSans-20\"/>\r\n       <use x=\"508.984375\" xlink:href=\"#DejaVuSans-6f\"/>\r\n       <use x=\"570.166016\" xlink:href=\"#DejaVuSans-66\"/>\r\n       <use x=\"605.371094\" xlink:href=\"#DejaVuSans-20\"/>\r\n       <use x=\"637.158203\" xlink:href=\"#DejaVuSans-42\"/>\r\n       <use x=\"705.761719\" xlink:href=\"#DejaVuSans-65\"/>\r\n       <use x=\"767.285156\" xlink:href=\"#DejaVuSans-64\"/>\r\n       <use x=\"830.761719\" xlink:href=\"#DejaVuSans-20\"/>\r\n       <use x=\"862.548828\" xlink:href=\"#DejaVuSans-69\"/>\r\n       <use x=\"890.332031\" xlink:href=\"#DejaVuSans-6e\"/>\r\n       <use x=\"953.710938\" xlink:href=\"#DejaVuSans-20\"/>\r\n       <use x=\"985.498047\" xlink:href=\"#DejaVuSans-74\"/>\r\n       <use x=\"1024.707031\" xlink:href=\"#DejaVuSans-68\"/>\r\n       <use x=\"1088.085938\" xlink:href=\"#DejaVuSans-65\"/>\r\n       <use x=\"1149.609375\" xlink:href=\"#DejaVuSans-20\"/>\r\n       <use x=\"1181.396484\" xlink:href=\"#DejaVuSans-57\"/>\r\n       <use x=\"1273.898438\" xlink:href=\"#DejaVuSans-61\"/>\r\n       <use x=\"1335.177734\" xlink:href=\"#DejaVuSans-72\"/>\r\n       <use x=\"1374.541016\" xlink:href=\"#DejaVuSans-64\"/>\r\n      </g>\r\n     </g>\r\n    </g>\r\n    <g id=\"xtick_5\">\r\n     <g id=\"line2d_5\">\r\n      <g>\r\n       <use style=\"stroke:#000000;stroke-width:0.8;\" x=\"506.295313\" xlink:href=\"#m2f198d8380\" y=\"282.799219\"/>\r\n      </g>\r\n     </g>\r\n     <g id=\"text_5\">\r\n      <!-- Unique Patient Id -->\r\n      <g transform=\"translate(509.054688 375.544531)rotate(-90)scale(0.1 -0.1)\">\r\n       <defs>\r\n        <path d=\"M 1259 4147 \r\nL 1259 2394 \r\nL 2053 2394 \r\nQ 2494 2394 2734 2622 \r\nQ 2975 2850 2975 3272 \r\nQ 2975 3691 2734 3919 \r\nQ 2494 4147 2053 4147 \r\nL 1259 4147 \r\nz\r\nM 628 4666 \r\nL 2053 4666 \r\nQ 2838 4666 3239 4311 \r\nQ 3641 3956 3641 3272 \r\nQ 3641 2581 3239 2228 \r\nQ 2838 1875 2053 1875 \r\nL 1259 1875 \r\nL 1259 0 \r\nL 628 0 \r\nL 628 4666 \r\nz\r\n\" id=\"DejaVuSans-50\" transform=\"scale(0.015625)\"/>\r\n        <path d=\"M 628 4666 \r\nL 1259 4666 \r\nL 1259 0 \r\nL 628 0 \r\nL 628 4666 \r\nz\r\n\" id=\"DejaVuSans-49\" transform=\"scale(0.015625)\"/>\r\n       </defs>\r\n       <use xlink:href=\"#DejaVuSans-55\"/>\r\n       <use x=\"73.193359\" xlink:href=\"#DejaVuSans-6e\"/>\r\n       <use x=\"136.572266\" xlink:href=\"#DejaVuSans-69\"/>\r\n       <use x=\"164.355469\" xlink:href=\"#DejaVuSans-71\"/>\r\n       <use x=\"227.832031\" xlink:href=\"#DejaVuSans-75\"/>\r\n       <use x=\"291.210938\" xlink:href=\"#DejaVuSans-65\"/>\r\n       <use x=\"352.734375\" xlink:href=\"#DejaVuSans-20\"/>\r\n       <use x=\"384.521484\" xlink:href=\"#DejaVuSans-50\"/>\r\n       <use x=\"440.324219\" xlink:href=\"#DejaVuSans-61\"/>\r\n       <use x=\"501.603516\" xlink:href=\"#DejaVuSans-74\"/>\r\n       <use x=\"540.8125\" xlink:href=\"#DejaVuSans-69\"/>\r\n       <use x=\"568.595703\" xlink:href=\"#DejaVuSans-65\"/>\r\n       <use x=\"630.119141\" xlink:href=\"#DejaVuSans-6e\"/>\r\n       <use x=\"693.498047\" xlink:href=\"#DejaVuSans-74\"/>\r\n       <use x=\"732.707031\" xlink:href=\"#DejaVuSans-20\"/>\r\n       <use x=\"764.494141\" xlink:href=\"#DejaVuSans-49\"/>\r\n       <use x=\"793.986328\" xlink:href=\"#DejaVuSans-64\"/>\r\n      </g>\r\n     </g>\r\n    </g>\r\n    <g id=\"xtick_6\">\r\n     <g id=\"line2d_6\">\r\n      <g>\r\n       <use style=\"stroke:#000000;stroke-width:0.8;\" x=\"562.095313\" xlink:href=\"#m2f198d8380\" y=\"282.799219\"/>\r\n      </g>\r\n     </g>\r\n     <g id=\"text_6\">\r\n      <!-- City Code for the patient -->\r\n      <g transform=\"translate(564.854688 413.461719)rotate(-90)scale(0.1 -0.1)\">\r\n       <use xlink:href=\"#DejaVuSans-43\"/>\r\n       <use x=\"69.824219\" xlink:href=\"#DejaVuSans-69\"/>\r\n       <use x=\"97.607422\" xlink:href=\"#DejaVuSans-74\"/>\r\n       <use x=\"136.816406\" xlink:href=\"#DejaVuSans-79\"/>\r\n       <use x=\"195.996094\" xlink:href=\"#DejaVuSans-20\"/>\r\n       <use x=\"227.783203\" xlink:href=\"#DejaVuSans-43\"/>\r\n       <use x=\"297.607422\" xlink:href=\"#DejaVuSans-6f\"/>\r\n       <use x=\"358.789062\" xlink:href=\"#DejaVuSans-64\"/>\r\n       <use x=\"422.265625\" xlink:href=\"#DejaVuSans-65\"/>\r\n       <use x=\"483.789062\" xlink:href=\"#DejaVuSans-20\"/>\r\n       <use x=\"515.576172\" xlink:href=\"#DejaVuSans-66\"/>\r\n       <use x=\"550.78125\" xlink:href=\"#DejaVuSans-6f\"/>\r\n       <use x=\"611.962891\" xlink:href=\"#DejaVuSans-72\"/>\r\n       <use x=\"653.076172\" xlink:href=\"#DejaVuSans-20\"/>\r\n       <use x=\"684.863281\" xlink:href=\"#DejaVuSans-74\"/>\r\n       <use x=\"724.072266\" xlink:href=\"#DejaVuSans-68\"/>\r\n       <use x=\"787.451172\" xlink:href=\"#DejaVuSans-65\"/>\r\n       <use x=\"848.974609\" xlink:href=\"#DejaVuSans-20\"/>\r\n       <use x=\"880.761719\" xlink:href=\"#DejaVuSans-70\"/>\r\n       <use x=\"944.238281\" xlink:href=\"#DejaVuSans-61\"/>\r\n       <use x=\"1005.517578\" xlink:href=\"#DejaVuSans-74\"/>\r\n       <use x=\"1044.726562\" xlink:href=\"#DejaVuSans-69\"/>\r\n       <use x=\"1072.509766\" xlink:href=\"#DejaVuSans-65\"/>\r\n       <use x=\"1134.033203\" xlink:href=\"#DejaVuSans-6e\"/>\r\n       <use x=\"1197.412109\" xlink:href=\"#DejaVuSans-74\"/>\r\n      </g>\r\n     </g>\r\n    </g>\r\n    <g id=\"xtick_7\">\r\n     <g id=\"line2d_7\">\r\n      <g>\r\n       <use style=\"stroke:#000000;stroke-width:0.8;\" x=\"617.895313\" xlink:href=\"#m2f198d8380\" y=\"282.799219\"/>\r\n      </g>\r\n     </g>\r\n     <g id=\"text_7\">\r\n      <!-- Number of Visitors with the patient -->\r\n      <g transform=\"translate(620.654688 465.452344)rotate(-90)scale(0.1 -0.1)\">\r\n       <defs>\r\n        <path d=\"M 1831 0 \r\nL 50 4666 \r\nL 709 4666 \r\nL 2188 738 \r\nL 3669 4666 \r\nL 4325 4666 \r\nL 2547 0 \r\nL 1831 0 \r\nz\r\n\" id=\"DejaVuSans-56\" transform=\"scale(0.015625)\"/>\r\n        <path d=\"M 269 3500 \r\nL 844 3500 \r\nL 1563 769 \r\nL 2278 3500 \r\nL 2956 3500 \r\nL 3675 769 \r\nL 4391 3500 \r\nL 4966 3500 \r\nL 4050 0 \r\nL 3372 0 \r\nL 2619 2869 \r\nL 1863 0 \r\nL 1184 0 \r\nL 269 3500 \r\nz\r\n\" id=\"DejaVuSans-77\" transform=\"scale(0.015625)\"/>\r\n       </defs>\r\n       <use xlink:href=\"#DejaVuSans-4e\"/>\r\n       <use x=\"74.804688\" xlink:href=\"#DejaVuSans-75\"/>\r\n       <use x=\"138.183594\" xlink:href=\"#DejaVuSans-6d\"/>\r\n       <use x=\"235.595703\" xlink:href=\"#DejaVuSans-62\"/>\r\n       <use x=\"299.072266\" xlink:href=\"#DejaVuSans-65\"/>\r\n       <use x=\"360.595703\" xlink:href=\"#DejaVuSans-72\"/>\r\n       <use x=\"401.708984\" xlink:href=\"#DejaVuSans-20\"/>\r\n       <use x=\"433.496094\" xlink:href=\"#DejaVuSans-6f\"/>\r\n       <use x=\"494.677734\" xlink:href=\"#DejaVuSans-66\"/>\r\n       <use x=\"529.882812\" xlink:href=\"#DejaVuSans-20\"/>\r\n       <use x=\"561.669922\" xlink:href=\"#DejaVuSans-56\"/>\r\n       <use x=\"627.828125\" xlink:href=\"#DejaVuSans-69\"/>\r\n       <use x=\"655.611328\" xlink:href=\"#DejaVuSans-73\"/>\r\n       <use x=\"707.710938\" xlink:href=\"#DejaVuSans-69\"/>\r\n       <use x=\"735.494141\" xlink:href=\"#DejaVuSans-74\"/>\r\n       <use x=\"774.703125\" xlink:href=\"#DejaVuSans-6f\"/>\r\n       <use x=\"835.884766\" xlink:href=\"#DejaVuSans-72\"/>\r\n       <use x=\"876.998047\" xlink:href=\"#DejaVuSans-73\"/>\r\n       <use x=\"929.097656\" xlink:href=\"#DejaVuSans-20\"/>\r\n       <use x=\"960.884766\" xlink:href=\"#DejaVuSans-77\"/>\r\n       <use x=\"1042.671875\" xlink:href=\"#DejaVuSans-69\"/>\r\n       <use x=\"1070.455078\" xlink:href=\"#DejaVuSans-74\"/>\r\n       <use x=\"1109.664062\" xlink:href=\"#DejaVuSans-68\"/>\r\n       <use x=\"1173.042969\" xlink:href=\"#DejaVuSans-20\"/>\r\n       <use x=\"1204.830078\" xlink:href=\"#DejaVuSans-74\"/>\r\n       <use x=\"1244.039062\" xlink:href=\"#DejaVuSans-68\"/>\r\n       <use x=\"1307.417969\" xlink:href=\"#DejaVuSans-65\"/>\r\n       <use x=\"1368.941406\" xlink:href=\"#DejaVuSans-20\"/>\r\n       <use x=\"1400.728516\" xlink:href=\"#DejaVuSans-70\"/>\r\n       <use x=\"1464.205078\" xlink:href=\"#DejaVuSans-61\"/>\r\n       <use x=\"1525.484375\" xlink:href=\"#DejaVuSans-74\"/>\r\n       <use x=\"1564.693359\" xlink:href=\"#DejaVuSans-69\"/>\r\n       <use x=\"1592.476562\" xlink:href=\"#DejaVuSans-65\"/>\r\n       <use x=\"1654\" xlink:href=\"#DejaVuSans-6e\"/>\r\n       <use x=\"1717.378906\" xlink:href=\"#DejaVuSans-74\"/>\r\n      </g>\r\n     </g>\r\n    </g>\r\n    <g id=\"xtick_8\">\r\n     <g id=\"line2d_8\">\r\n      <g>\r\n       <use style=\"stroke:#000000;stroke-width:0.8;\" x=\"673.695313\" xlink:href=\"#m2f198d8380\" y=\"282.799219\"/>\r\n      </g>\r\n     </g>\r\n     <g id=\"text_8\">\r\n      <!-- Deposit at the Admission Time -->\r\n      <g transform=\"translate(676.454688 442.852344)rotate(-90)scale(0.1 -0.1)\">\r\n       <defs>\r\n        <path d=\"M 1259 4147 \r\nL 1259 519 \r\nL 2022 519 \r\nQ 2988 519 3436 956 \r\nQ 3884 1394 3884 2338 \r\nQ 3884 3275 3436 3711 \r\nQ 2988 4147 2022 4147 \r\nL 1259 4147 \r\nz\r\nM 628 4666 \r\nL 1925 4666 \r\nQ 3281 4666 3915 4102 \r\nQ 4550 3538 4550 2338 \r\nQ 4550 1131 3912 565 \r\nQ 3275 0 1925 0 \r\nL 628 0 \r\nL 628 4666 \r\nz\r\n\" id=\"DejaVuSans-44\" transform=\"scale(0.015625)\"/>\r\n        <path d=\"M 2188 4044 \r\nL 1331 1722 \r\nL 3047 1722 \r\nL 2188 4044 \r\nz\r\nM 1831 4666 \r\nL 2547 4666 \r\nL 4325 0 \r\nL 3669 0 \r\nL 3244 1197 \r\nL 1141 1197 \r\nL 716 0 \r\nL 50 0 \r\nL 1831 4666 \r\nz\r\n\" id=\"DejaVuSans-41\" transform=\"scale(0.015625)\"/>\r\n        <path d=\"M -19 4666 \r\nL 3928 4666 \r\nL 3928 4134 \r\nL 2272 4134 \r\nL 2272 0 \r\nL 1638 0 \r\nL 1638 4134 \r\nL -19 4134 \r\nL -19 4666 \r\nz\r\n\" id=\"DejaVuSans-54\" transform=\"scale(0.015625)\"/>\r\n       </defs>\r\n       <use xlink:href=\"#DejaVuSans-44\"/>\r\n       <use x=\"77.001953\" xlink:href=\"#DejaVuSans-65\"/>\r\n       <use x=\"138.525391\" xlink:href=\"#DejaVuSans-70\"/>\r\n       <use x=\"202.001953\" xlink:href=\"#DejaVuSans-6f\"/>\r\n       <use x=\"263.183594\" xlink:href=\"#DejaVuSans-73\"/>\r\n       <use x=\"315.283203\" xlink:href=\"#DejaVuSans-69\"/>\r\n       <use x=\"343.066406\" xlink:href=\"#DejaVuSans-74\"/>\r\n       <use x=\"382.275391\" xlink:href=\"#DejaVuSans-20\"/>\r\n       <use x=\"414.0625\" xlink:href=\"#DejaVuSans-61\"/>\r\n       <use x=\"475.341797\" xlink:href=\"#DejaVuSans-74\"/>\r\n       <use x=\"514.550781\" xlink:href=\"#DejaVuSans-20\"/>\r\n       <use x=\"546.337891\" xlink:href=\"#DejaVuSans-74\"/>\r\n       <use x=\"585.546875\" xlink:href=\"#DejaVuSans-68\"/>\r\n       <use x=\"648.925781\" xlink:href=\"#DejaVuSans-65\"/>\r\n       <use x=\"710.449219\" xlink:href=\"#DejaVuSans-20\"/>\r\n       <use x=\"742.236328\" xlink:href=\"#DejaVuSans-41\"/>\r\n       <use x=\"808.894531\" xlink:href=\"#DejaVuSans-64\"/>\r\n       <use x=\"872.371094\" xlink:href=\"#DejaVuSans-6d\"/>\r\n       <use x=\"969.783203\" xlink:href=\"#DejaVuSans-69\"/>\r\n       <use x=\"997.566406\" xlink:href=\"#DejaVuSans-73\"/>\r\n       <use x=\"1049.666016\" xlink:href=\"#DejaVuSans-73\"/>\r\n       <use x=\"1101.765625\" xlink:href=\"#DejaVuSans-69\"/>\r\n       <use x=\"1129.548828\" xlink:href=\"#DejaVuSans-6f\"/>\r\n       <use x=\"1190.730469\" xlink:href=\"#DejaVuSans-6e\"/>\r\n       <use x=\"1254.109375\" xlink:href=\"#DejaVuSans-20\"/>\r\n       <use x=\"1285.896484\" xlink:href=\"#DejaVuSans-54\"/>\r\n       <use x=\"1343.855469\" xlink:href=\"#DejaVuSans-69\"/>\r\n       <use x=\"1371.638672\" xlink:href=\"#DejaVuSans-6d\"/>\r\n       <use x=\"1469.050781\" xlink:href=\"#DejaVuSans-65\"/>\r\n      </g>\r\n     </g>\r\n    </g>\r\n   </g>\r\n   <g id=\"matplotlib.axis_2\">\r\n    <g id=\"ytick_1\">\r\n     <g id=\"line2d_9\">\r\n      <defs>\r\n       <path d=\"M 0 0 \r\nL -3.5 0 \r\n\" id=\"m7ec8377322\" style=\"stroke:#000000;stroke-width:0.8;\"/>\r\n      </defs>\r\n      <g>\r\n       <use style=\"stroke:#000000;stroke-width:0.8;\" x=\"255.195313\" xlink:href=\"#m7ec8377322\" y=\"27.986719\"/>\r\n      </g>\r\n     </g>\r\n     <g id=\"text_9\">\r\n      <!-- Unique code for the Hospital -->\r\n      <g transform=\"translate(105.128125 31.785938)scale(0.1 -0.1)\">\r\n       <use xlink:href=\"#DejaVuSans-55\"/>\r\n       <use x=\"73.193359\" xlink:href=\"#DejaVuSans-6e\"/>\r\n       <use x=\"136.572266\" xlink:href=\"#DejaVuSans-69\"/>\r\n       <use x=\"164.355469\" xlink:href=\"#DejaVuSans-71\"/>\r\n       <use x=\"227.832031\" xlink:href=\"#DejaVuSans-75\"/>\r\n       <use x=\"291.210938\" xlink:href=\"#DejaVuSans-65\"/>\r\n       <use x=\"352.734375\" xlink:href=\"#DejaVuSans-20\"/>\r\n       <use x=\"384.521484\" xlink:href=\"#DejaVuSans-63\"/>\r\n       <use x=\"439.501953\" xlink:href=\"#DejaVuSans-6f\"/>\r\n       <use x=\"500.683594\" xlink:href=\"#DejaVuSans-64\"/>\r\n       <use x=\"564.160156\" xlink:href=\"#DejaVuSans-65\"/>\r\n       <use x=\"625.683594\" xlink:href=\"#DejaVuSans-20\"/>\r\n       <use x=\"657.470703\" xlink:href=\"#DejaVuSans-66\"/>\r\n       <use x=\"692.675781\" xlink:href=\"#DejaVuSans-6f\"/>\r\n       <use x=\"753.857422\" xlink:href=\"#DejaVuSans-72\"/>\r\n       <use x=\"794.970703\" xlink:href=\"#DejaVuSans-20\"/>\r\n       <use x=\"826.757812\" xlink:href=\"#DejaVuSans-74\"/>\r\n       <use x=\"865.966797\" xlink:href=\"#DejaVuSans-68\"/>\r\n       <use x=\"929.345703\" xlink:href=\"#DejaVuSans-65\"/>\r\n       <use x=\"990.869141\" xlink:href=\"#DejaVuSans-20\"/>\r\n       <use x=\"1022.65625\" xlink:href=\"#DejaVuSans-48\"/>\r\n       <use x=\"1097.851562\" xlink:href=\"#DejaVuSans-6f\"/>\r\n       <use x=\"1159.033203\" xlink:href=\"#DejaVuSans-73\"/>\r\n       <use x=\"1211.132812\" xlink:href=\"#DejaVuSans-70\"/>\r\n       <use x=\"1274.609375\" xlink:href=\"#DejaVuSans-69\"/>\r\n       <use x=\"1302.392578\" xlink:href=\"#DejaVuSans-74\"/>\r\n       <use x=\"1341.601562\" xlink:href=\"#DejaVuSans-61\"/>\r\n       <use x=\"1402.880859\" xlink:href=\"#DejaVuSans-6c\"/>\r\n      </g>\r\n     </g>\r\n    </g>\r\n    <g id=\"ytick_2\">\r\n     <g id=\"line2d_10\">\r\n      <g>\r\n       <use style=\"stroke:#000000;stroke-width:0.8;\" x=\"255.195313\" xlink:href=\"#m7ec8377322\" y=\"61.961719\"/>\r\n      </g>\r\n     </g>\r\n     <g id=\"text_10\">\r\n      <!-- City Code of the Hospital -->\r\n      <g transform=\"translate(123.428125 65.760938)scale(0.1 -0.1)\">\r\n       <use xlink:href=\"#DejaVuSans-43\"/>\r\n       <use x=\"69.824219\" xlink:href=\"#DejaVuSans-69\"/>\r\n       <use x=\"97.607422\" xlink:href=\"#DejaVuSans-74\"/>\r\n       <use x=\"136.816406\" xlink:href=\"#DejaVuSans-79\"/>\r\n       <use x=\"195.996094\" xlink:href=\"#DejaVuSans-20\"/>\r\n       <use x=\"227.783203\" xlink:href=\"#DejaVuSans-43\"/>\r\n       <use x=\"297.607422\" xlink:href=\"#DejaVuSans-6f\"/>\r\n       <use x=\"358.789062\" xlink:href=\"#DejaVuSans-64\"/>\r\n       <use x=\"422.265625\" xlink:href=\"#DejaVuSans-65\"/>\r\n       <use x=\"483.789062\" xlink:href=\"#DejaVuSans-20\"/>\r\n       <use x=\"515.576172\" xlink:href=\"#DejaVuSans-6f\"/>\r\n       <use x=\"576.757812\" xlink:href=\"#DejaVuSans-66\"/>\r\n       <use x=\"611.962891\" xlink:href=\"#DejaVuSans-20\"/>\r\n       <use x=\"643.75\" xlink:href=\"#DejaVuSans-74\"/>\r\n       <use x=\"682.958984\" xlink:href=\"#DejaVuSans-68\"/>\r\n       <use x=\"746.337891\" xlink:href=\"#DejaVuSans-65\"/>\r\n       <use x=\"807.861328\" xlink:href=\"#DejaVuSans-20\"/>\r\n       <use x=\"839.648438\" xlink:href=\"#DejaVuSans-48\"/>\r\n       <use x=\"914.84375\" xlink:href=\"#DejaVuSans-6f\"/>\r\n       <use x=\"976.025391\" xlink:href=\"#DejaVuSans-73\"/>\r\n       <use x=\"1028.125\" xlink:href=\"#DejaVuSans-70\"/>\r\n       <use x=\"1091.601562\" xlink:href=\"#DejaVuSans-69\"/>\r\n       <use x=\"1119.384766\" xlink:href=\"#DejaVuSans-74\"/>\r\n       <use x=\"1158.59375\" xlink:href=\"#DejaVuSans-61\"/>\r\n       <use x=\"1219.873047\" xlink:href=\"#DejaVuSans-6c\"/>\r\n      </g>\r\n     </g>\r\n    </g>\r\n    <g id=\"ytick_3\">\r\n     <g id=\"line2d_11\">\r\n      <g>\r\n       <use style=\"stroke:#000000;stroke-width:0.8;\" x=\"255.195313\" xlink:href=\"#m7ec8377322\" y=\"95.936719\"/>\r\n      </g>\r\n     </g>\r\n     <g id=\"text_11\">\r\n      <!-- Number of Extra rooms available in the Hospital -->\r\n      <g transform=\"translate(7.2 99.735938)scale(0.1 -0.1)\">\r\n       <use xlink:href=\"#DejaVuSans-4e\"/>\r\n       <use x=\"74.804688\" xlink:href=\"#DejaVuSans-75\"/>\r\n       <use x=\"138.183594\" xlink:href=\"#DejaVuSans-6d\"/>\r\n       <use x=\"235.595703\" xlink:href=\"#DejaVuSans-62\"/>\r\n       <use x=\"299.072266\" xlink:href=\"#DejaVuSans-65\"/>\r\n       <use x=\"360.595703\" xlink:href=\"#DejaVuSans-72\"/>\r\n       <use x=\"401.708984\" xlink:href=\"#DejaVuSans-20\"/>\r\n       <use x=\"433.496094\" xlink:href=\"#DejaVuSans-6f\"/>\r\n       <use x=\"494.677734\" xlink:href=\"#DejaVuSans-66\"/>\r\n       <use x=\"529.882812\" xlink:href=\"#DejaVuSans-20\"/>\r\n       <use x=\"561.669922\" xlink:href=\"#DejaVuSans-45\"/>\r\n       <use x=\"624.853516\" xlink:href=\"#DejaVuSans-78\"/>\r\n       <use x=\"684.033203\" xlink:href=\"#DejaVuSans-74\"/>\r\n       <use x=\"723.242188\" xlink:href=\"#DejaVuSans-72\"/>\r\n       <use x=\"764.355469\" xlink:href=\"#DejaVuSans-61\"/>\r\n       <use x=\"825.634766\" xlink:href=\"#DejaVuSans-20\"/>\r\n       <use x=\"857.421875\" xlink:href=\"#DejaVuSans-72\"/>\r\n       <use x=\"896.285156\" xlink:href=\"#DejaVuSans-6f\"/>\r\n       <use x=\"957.466797\" xlink:href=\"#DejaVuSans-6f\"/>\r\n       <use x=\"1018.648438\" xlink:href=\"#DejaVuSans-6d\"/>\r\n       <use x=\"1116.060547\" xlink:href=\"#DejaVuSans-73\"/>\r\n       <use x=\"1168.160156\" xlink:href=\"#DejaVuSans-20\"/>\r\n       <use x=\"1199.947266\" xlink:href=\"#DejaVuSans-61\"/>\r\n       <use x=\"1261.226562\" xlink:href=\"#DejaVuSans-76\"/>\r\n       <use x=\"1320.40625\" xlink:href=\"#DejaVuSans-61\"/>\r\n       <use x=\"1381.685547\" xlink:href=\"#DejaVuSans-69\"/>\r\n       <use x=\"1409.46875\" xlink:href=\"#DejaVuSans-6c\"/>\r\n       <use x=\"1437.251953\" xlink:href=\"#DejaVuSans-61\"/>\r\n       <use x=\"1498.53125\" xlink:href=\"#DejaVuSans-62\"/>\r\n       <use x=\"1562.007812\" xlink:href=\"#DejaVuSans-6c\"/>\r\n       <use x=\"1589.791016\" xlink:href=\"#DejaVuSans-65\"/>\r\n       <use x=\"1651.314453\" xlink:href=\"#DejaVuSans-20\"/>\r\n       <use x=\"1683.101562\" xlink:href=\"#DejaVuSans-69\"/>\r\n       <use x=\"1710.884766\" xlink:href=\"#DejaVuSans-6e\"/>\r\n       <use x=\"1774.263672\" xlink:href=\"#DejaVuSans-20\"/>\r\n       <use x=\"1806.050781\" xlink:href=\"#DejaVuSans-74\"/>\r\n       <use x=\"1845.259766\" xlink:href=\"#DejaVuSans-68\"/>\r\n       <use x=\"1908.638672\" xlink:href=\"#DejaVuSans-65\"/>\r\n       <use x=\"1970.162109\" xlink:href=\"#DejaVuSans-20\"/>\r\n       <use x=\"2001.949219\" xlink:href=\"#DejaVuSans-48\"/>\r\n       <use x=\"2077.144531\" xlink:href=\"#DejaVuSans-6f\"/>\r\n       <use x=\"2138.326172\" xlink:href=\"#DejaVuSans-73\"/>\r\n       <use x=\"2190.425781\" xlink:href=\"#DejaVuSans-70\"/>\r\n       <use x=\"2253.902344\" xlink:href=\"#DejaVuSans-69\"/>\r\n       <use x=\"2281.685547\" xlink:href=\"#DejaVuSans-74\"/>\r\n       <use x=\"2320.894531\" xlink:href=\"#DejaVuSans-61\"/>\r\n       <use x=\"2382.173828\" xlink:href=\"#DejaVuSans-6c\"/>\r\n      </g>\r\n     </g>\r\n    </g>\r\n    <g id=\"ytick_4\">\r\n     <g id=\"line2d_12\">\r\n      <g>\r\n       <use style=\"stroke:#000000;stroke-width:0.8;\" x=\"255.195313\" xlink:href=\"#m7ec8377322\" y=\"129.911719\"/>\r\n      </g>\r\n     </g>\r\n     <g id=\"text_12\">\r\n      <!-- Condition of Bed in the Ward -->\r\n      <g transform=\"translate(104.39375 133.710938)scale(0.1 -0.1)\">\r\n       <use xlink:href=\"#DejaVuSans-43\"/>\r\n       <use x=\"69.824219\" xlink:href=\"#DejaVuSans-6f\"/>\r\n       <use x=\"131.005859\" xlink:href=\"#DejaVuSans-6e\"/>\r\n       <use x=\"194.384766\" xlink:href=\"#DejaVuSans-64\"/>\r\n       <use x=\"257.861328\" xlink:href=\"#DejaVuSans-69\"/>\r\n       <use x=\"285.644531\" xlink:href=\"#DejaVuSans-74\"/>\r\n       <use x=\"324.853516\" xlink:href=\"#DejaVuSans-69\"/>\r\n       <use x=\"352.636719\" xlink:href=\"#DejaVuSans-6f\"/>\r\n       <use x=\"413.818359\" xlink:href=\"#DejaVuSans-6e\"/>\r\n       <use x=\"477.197266\" xlink:href=\"#DejaVuSans-20\"/>\r\n       <use x=\"508.984375\" xlink:href=\"#DejaVuSans-6f\"/>\r\n       <use x=\"570.166016\" xlink:href=\"#DejaVuSans-66\"/>\r\n       <use x=\"605.371094\" xlink:href=\"#DejaVuSans-20\"/>\r\n       <use x=\"637.158203\" xlink:href=\"#DejaVuSans-42\"/>\r\n       <use x=\"705.761719\" xlink:href=\"#DejaVuSans-65\"/>\r\n       <use x=\"767.285156\" xlink:href=\"#DejaVuSans-64\"/>\r\n       <use x=\"830.761719\" xlink:href=\"#DejaVuSans-20\"/>\r\n       <use x=\"862.548828\" xlink:href=\"#DejaVuSans-69\"/>\r\n       <use x=\"890.332031\" xlink:href=\"#DejaVuSans-6e\"/>\r\n       <use x=\"953.710938\" xlink:href=\"#DejaVuSans-20\"/>\r\n       <use x=\"985.498047\" xlink:href=\"#DejaVuSans-74\"/>\r\n       <use x=\"1024.707031\" xlink:href=\"#DejaVuSans-68\"/>\r\n       <use x=\"1088.085938\" xlink:href=\"#DejaVuSans-65\"/>\r\n       <use x=\"1149.609375\" xlink:href=\"#DejaVuSans-20\"/>\r\n       <use x=\"1181.396484\" xlink:href=\"#DejaVuSans-57\"/>\r\n       <use x=\"1273.898438\" xlink:href=\"#DejaVuSans-61\"/>\r\n       <use x=\"1335.177734\" xlink:href=\"#DejaVuSans-72\"/>\r\n       <use x=\"1374.541016\" xlink:href=\"#DejaVuSans-64\"/>\r\n      </g>\r\n     </g>\r\n    </g>\r\n    <g id=\"ytick_5\">\r\n     <g id=\"line2d_13\">\r\n      <g>\r\n       <use style=\"stroke:#000000;stroke-width:0.8;\" x=\"255.195313\" xlink:href=\"#m7ec8377322\" y=\"163.886719\"/>\r\n      </g>\r\n     </g>\r\n     <g id=\"text_13\">\r\n      <!-- Unique Patient Id -->\r\n      <g transform=\"translate(162.45 167.685938)scale(0.1 -0.1)\">\r\n       <use xlink:href=\"#DejaVuSans-55\"/>\r\n       <use x=\"73.193359\" xlink:href=\"#DejaVuSans-6e\"/>\r\n       <use x=\"136.572266\" xlink:href=\"#DejaVuSans-69\"/>\r\n       <use x=\"164.355469\" xlink:href=\"#DejaVuSans-71\"/>\r\n       <use x=\"227.832031\" xlink:href=\"#DejaVuSans-75\"/>\r\n       <use x=\"291.210938\" xlink:href=\"#DejaVuSans-65\"/>\r\n       <use x=\"352.734375\" xlink:href=\"#DejaVuSans-20\"/>\r\n       <use x=\"384.521484\" xlink:href=\"#DejaVuSans-50\"/>\r\n       <use x=\"440.324219\" xlink:href=\"#DejaVuSans-61\"/>\r\n       <use x=\"501.603516\" xlink:href=\"#DejaVuSans-74\"/>\r\n       <use x=\"540.8125\" xlink:href=\"#DejaVuSans-69\"/>\r\n       <use x=\"568.595703\" xlink:href=\"#DejaVuSans-65\"/>\r\n       <use x=\"630.119141\" xlink:href=\"#DejaVuSans-6e\"/>\r\n       <use x=\"693.498047\" xlink:href=\"#DejaVuSans-74\"/>\r\n       <use x=\"732.707031\" xlink:href=\"#DejaVuSans-20\"/>\r\n       <use x=\"764.494141\" xlink:href=\"#DejaVuSans-49\"/>\r\n       <use x=\"793.986328\" xlink:href=\"#DejaVuSans-64\"/>\r\n      </g>\r\n     </g>\r\n    </g>\r\n    <g id=\"ytick_6\">\r\n     <g id=\"line2d_14\">\r\n      <g>\r\n       <use style=\"stroke:#000000;stroke-width:0.8;\" x=\"255.195313\" xlink:href=\"#m7ec8377322\" y=\"197.861719\"/>\r\n      </g>\r\n     </g>\r\n     <g id=\"text_14\">\r\n      <!-- City Code for the patient -->\r\n      <g transform=\"translate(124.532813 201.660938)scale(0.1 -0.1)\">\r\n       <use xlink:href=\"#DejaVuSans-43\"/>\r\n       <use x=\"69.824219\" xlink:href=\"#DejaVuSans-69\"/>\r\n       <use x=\"97.607422\" xlink:href=\"#DejaVuSans-74\"/>\r\n       <use x=\"136.816406\" xlink:href=\"#DejaVuSans-79\"/>\r\n       <use x=\"195.996094\" xlink:href=\"#DejaVuSans-20\"/>\r\n       <use x=\"227.783203\" xlink:href=\"#DejaVuSans-43\"/>\r\n       <use x=\"297.607422\" xlink:href=\"#DejaVuSans-6f\"/>\r\n       <use x=\"358.789062\" xlink:href=\"#DejaVuSans-64\"/>\r\n       <use x=\"422.265625\" xlink:href=\"#DejaVuSans-65\"/>\r\n       <use x=\"483.789062\" xlink:href=\"#DejaVuSans-20\"/>\r\n       <use x=\"515.576172\" xlink:href=\"#DejaVuSans-66\"/>\r\n       <use x=\"550.78125\" xlink:href=\"#DejaVuSans-6f\"/>\r\n       <use x=\"611.962891\" xlink:href=\"#DejaVuSans-72\"/>\r\n       <use x=\"653.076172\" xlink:href=\"#DejaVuSans-20\"/>\r\n       <use x=\"684.863281\" xlink:href=\"#DejaVuSans-74\"/>\r\n       <use x=\"724.072266\" xlink:href=\"#DejaVuSans-68\"/>\r\n       <use x=\"787.451172\" xlink:href=\"#DejaVuSans-65\"/>\r\n       <use x=\"848.974609\" xlink:href=\"#DejaVuSans-20\"/>\r\n       <use x=\"880.761719\" xlink:href=\"#DejaVuSans-70\"/>\r\n       <use x=\"944.238281\" xlink:href=\"#DejaVuSans-61\"/>\r\n       <use x=\"1005.517578\" xlink:href=\"#DejaVuSans-74\"/>\r\n       <use x=\"1044.726562\" xlink:href=\"#DejaVuSans-69\"/>\r\n       <use x=\"1072.509766\" xlink:href=\"#DejaVuSans-65\"/>\r\n       <use x=\"1134.033203\" xlink:href=\"#DejaVuSans-6e\"/>\r\n       <use x=\"1197.412109\" xlink:href=\"#DejaVuSans-74\"/>\r\n      </g>\r\n     </g>\r\n    </g>\r\n    <g id=\"ytick_7\">\r\n     <g id=\"line2d_15\">\r\n      <g>\r\n       <use style=\"stroke:#000000;stroke-width:0.8;\" x=\"255.195313\" xlink:href=\"#m7ec8377322\" y=\"231.836719\"/>\r\n      </g>\r\n     </g>\r\n     <g id=\"text_15\">\r\n      <!-- Number of Visitors with the patient -->\r\n      <g transform=\"translate(72.542188 235.635938)scale(0.1 -0.1)\">\r\n       <use xlink:href=\"#DejaVuSans-4e\"/>\r\n       <use x=\"74.804688\" xlink:href=\"#DejaVuSans-75\"/>\r\n       <use x=\"138.183594\" xlink:href=\"#DejaVuSans-6d\"/>\r\n       <use x=\"235.595703\" xlink:href=\"#DejaVuSans-62\"/>\r\n       <use x=\"299.072266\" xlink:href=\"#DejaVuSans-65\"/>\r\n       <use x=\"360.595703\" xlink:href=\"#DejaVuSans-72\"/>\r\n       <use x=\"401.708984\" xlink:href=\"#DejaVuSans-20\"/>\r\n       <use x=\"433.496094\" xlink:href=\"#DejaVuSans-6f\"/>\r\n       <use x=\"494.677734\" xlink:href=\"#DejaVuSans-66\"/>\r\n       <use x=\"529.882812\" xlink:href=\"#DejaVuSans-20\"/>\r\n       <use x=\"561.669922\" xlink:href=\"#DejaVuSans-56\"/>\r\n       <use x=\"627.828125\" xlink:href=\"#DejaVuSans-69\"/>\r\n       <use x=\"655.611328\" xlink:href=\"#DejaVuSans-73\"/>\r\n       <use x=\"707.710938\" xlink:href=\"#DejaVuSans-69\"/>\r\n       <use x=\"735.494141\" xlink:href=\"#DejaVuSans-74\"/>\r\n       <use x=\"774.703125\" xlink:href=\"#DejaVuSans-6f\"/>\r\n       <use x=\"835.884766\" xlink:href=\"#DejaVuSans-72\"/>\r\n       <use x=\"876.998047\" xlink:href=\"#DejaVuSans-73\"/>\r\n       <use x=\"929.097656\" xlink:href=\"#DejaVuSans-20\"/>\r\n       <use x=\"960.884766\" xlink:href=\"#DejaVuSans-77\"/>\r\n       <use x=\"1042.671875\" xlink:href=\"#DejaVuSans-69\"/>\r\n       <use x=\"1070.455078\" xlink:href=\"#DejaVuSans-74\"/>\r\n       <use x=\"1109.664062\" xlink:href=\"#DejaVuSans-68\"/>\r\n       <use x=\"1173.042969\" xlink:href=\"#DejaVuSans-20\"/>\r\n       <use x=\"1204.830078\" xlink:href=\"#DejaVuSans-74\"/>\r\n       <use x=\"1244.039062\" xlink:href=\"#DejaVuSans-68\"/>\r\n       <use x=\"1307.417969\" xlink:href=\"#DejaVuSans-65\"/>\r\n       <use x=\"1368.941406\" xlink:href=\"#DejaVuSans-20\"/>\r\n       <use x=\"1400.728516\" xlink:href=\"#DejaVuSans-70\"/>\r\n       <use x=\"1464.205078\" xlink:href=\"#DejaVuSans-61\"/>\r\n       <use x=\"1525.484375\" xlink:href=\"#DejaVuSans-74\"/>\r\n       <use x=\"1564.693359\" xlink:href=\"#DejaVuSans-69\"/>\r\n       <use x=\"1592.476562\" xlink:href=\"#DejaVuSans-65\"/>\r\n       <use x=\"1654\" xlink:href=\"#DejaVuSans-6e\"/>\r\n       <use x=\"1717.378906\" xlink:href=\"#DejaVuSans-74\"/>\r\n      </g>\r\n     </g>\r\n    </g>\r\n    <g id=\"ytick_8\">\r\n     <g id=\"line2d_16\">\r\n      <g>\r\n       <use style=\"stroke:#000000;stroke-width:0.8;\" x=\"255.195313\" xlink:href=\"#m7ec8377322\" y=\"265.811719\"/>\r\n      </g>\r\n     </g>\r\n     <g id=\"text_16\">\r\n      <!-- Deposit at the Admission Time -->\r\n      <g transform=\"translate(95.142188 269.610938)scale(0.1 -0.1)\">\r\n       <use xlink:href=\"#DejaVuSans-44\"/>\r\n       <use x=\"77.001953\" xlink:href=\"#DejaVuSans-65\"/>\r\n       <use x=\"138.525391\" xlink:href=\"#DejaVuSans-70\"/>\r\n       <use x=\"202.001953\" xlink:href=\"#DejaVuSans-6f\"/>\r\n       <use x=\"263.183594\" xlink:href=\"#DejaVuSans-73\"/>\r\n       <use x=\"315.283203\" xlink:href=\"#DejaVuSans-69\"/>\r\n       <use x=\"343.066406\" xlink:href=\"#DejaVuSans-74\"/>\r\n       <use x=\"382.275391\" xlink:href=\"#DejaVuSans-20\"/>\r\n       <use x=\"414.0625\" xlink:href=\"#DejaVuSans-61\"/>\r\n       <use x=\"475.341797\" xlink:href=\"#DejaVuSans-74\"/>\r\n       <use x=\"514.550781\" xlink:href=\"#DejaVuSans-20\"/>\r\n       <use x=\"546.337891\" xlink:href=\"#DejaVuSans-74\"/>\r\n       <use x=\"585.546875\" xlink:href=\"#DejaVuSans-68\"/>\r\n       <use x=\"648.925781\" xlink:href=\"#DejaVuSans-65\"/>\r\n       <use x=\"710.449219\" xlink:href=\"#DejaVuSans-20\"/>\r\n       <use x=\"742.236328\" xlink:href=\"#DejaVuSans-41\"/>\r\n       <use x=\"808.894531\" xlink:href=\"#DejaVuSans-64\"/>\r\n       <use x=\"872.371094\" xlink:href=\"#DejaVuSans-6d\"/>\r\n       <use x=\"969.783203\" xlink:href=\"#DejaVuSans-69\"/>\r\n       <use x=\"997.566406\" xlink:href=\"#DejaVuSans-73\"/>\r\n       <use x=\"1049.666016\" xlink:href=\"#DejaVuSans-73\"/>\r\n       <use x=\"1101.765625\" xlink:href=\"#DejaVuSans-69\"/>\r\n       <use x=\"1129.548828\" xlink:href=\"#DejaVuSans-6f\"/>\r\n       <use x=\"1190.730469\" xlink:href=\"#DejaVuSans-6e\"/>\r\n       <use x=\"1254.109375\" xlink:href=\"#DejaVuSans-20\"/>\r\n       <use x=\"1285.896484\" xlink:href=\"#DejaVuSans-54\"/>\r\n       <use x=\"1343.855469\" xlink:href=\"#DejaVuSans-69\"/>\r\n       <use x=\"1371.638672\" xlink:href=\"#DejaVuSans-6d\"/>\r\n       <use x=\"1469.050781\" xlink:href=\"#DejaVuSans-65\"/>\r\n      </g>\r\n     </g>\r\n    </g>\r\n   </g>\r\n   <g id=\"text_17\">\r\n    <!-- 1 -->\r\n    <g style=\"fill:#ffffff;\" transform=\"translate(279.914063 30.746094)scale(0.1 -0.1)\">\r\n     <defs>\r\n      <path d=\"M 794 531 \r\nL 1825 531 \r\nL 1825 4091 \r\nL 703 3866 \r\nL 703 4441 \r\nL 1819 4666 \r\nL 2450 4666 \r\nL 2450 531 \r\nL 3481 531 \r\nL 3481 0 \r\nL 794 0 \r\nL 794 531 \r\nz\r\n\" id=\"DejaVuSans-31\" transform=\"scale(0.015625)\"/>\r\n     </defs>\r\n     <use xlink:href=\"#DejaVuSans-31\"/>\r\n    </g>\r\n   </g>\r\n   <g id=\"text_18\">\r\n    <!-- 0.13 -->\r\n    <g style=\"fill:#262626;\" transform=\"translate(327.7625 30.746094)scale(0.1 -0.1)\">\r\n     <defs>\r\n      <path d=\"M 2034 4250 \r\nQ 1547 4250 1301 3770 \r\nQ 1056 3291 1056 2328 \r\nQ 1056 1369 1301 889 \r\nQ 1547 409 2034 409 \r\nQ 2525 409 2770 889 \r\nQ 3016 1369 3016 2328 \r\nQ 3016 3291 2770 3770 \r\nQ 2525 4250 2034 4250 \r\nz\r\nM 2034 4750 \r\nQ 2819 4750 3233 4129 \r\nQ 3647 3509 3647 2328 \r\nQ 3647 1150 3233 529 \r\nQ 2819 -91 2034 -91 \r\nQ 1250 -91 836 529 \r\nQ 422 1150 422 2328 \r\nQ 422 3509 836 4129 \r\nQ 1250 4750 2034 4750 \r\nz\r\n\" id=\"DejaVuSans-30\" transform=\"scale(0.015625)\"/>\r\n      <path d=\"M 684 794 \r\nL 1344 794 \r\nL 1344 0 \r\nL 684 0 \r\nL 684 794 \r\nz\r\n\" id=\"DejaVuSans-2e\" transform=\"scale(0.015625)\"/>\r\n      <path d=\"M 2597 2516 \r\nQ 3050 2419 3304 2112 \r\nQ 3559 1806 3559 1356 \r\nQ 3559 666 3084 287 \r\nQ 2609 -91 1734 -91 \r\nQ 1441 -91 1130 -33 \r\nQ 819 25 488 141 \r\nL 488 750 \r\nQ 750 597 1062 519 \r\nQ 1375 441 1716 441 \r\nQ 2309 441 2620 675 \r\nQ 2931 909 2931 1356 \r\nQ 2931 1769 2642 2001 \r\nQ 2353 2234 1838 2234 \r\nL 1294 2234 \r\nL 1294 2753 \r\nL 1863 2753 \r\nQ 2328 2753 2575 2939 \r\nQ 2822 3125 2822 3475 \r\nQ 2822 3834 2567 4026 \r\nQ 2313 4219 1838 4219 \r\nQ 1578 4219 1281 4162 \r\nQ 984 4106 628 3988 \r\nL 628 4550 \r\nQ 988 4650 1302 4700 \r\nQ 1616 4750 1894 4750 \r\nQ 2613 4750 3031 4423 \r\nQ 3450 4097 3450 3541 \r\nQ 3450 3153 3228 2886 \r\nQ 3006 2619 2597 2516 \r\nz\r\n\" id=\"DejaVuSans-33\" transform=\"scale(0.015625)\"/>\r\n     </defs>\r\n     <use xlink:href=\"#DejaVuSans-30\"/>\r\n     <use x=\"63.623047\" xlink:href=\"#DejaVuSans-2e\"/>\r\n     <use x=\"95.410156\" xlink:href=\"#DejaVuSans-31\"/>\r\n     <use x=\"159.033203\" xlink:href=\"#DejaVuSans-33\"/>\r\n    </g>\r\n   </g>\r\n   <g id=\"text_19\">\r\n    <!-- -0.061 -->\r\n    <g style=\"fill:#ffffff;\" transform=\"translate(378.577344 30.746094)scale(0.1 -0.1)\">\r\n     <defs>\r\n      <path d=\"M 313 2009 \r\nL 1997 2009 \r\nL 1997 1497 \r\nL 313 1497 \r\nL 313 2009 \r\nz\r\n\" id=\"DejaVuSans-2d\" transform=\"scale(0.015625)\"/>\r\n      <path d=\"M 2113 2584 \r\nQ 1688 2584 1439 2293 \r\nQ 1191 2003 1191 1497 \r\nQ 1191 994 1439 701 \r\nQ 1688 409 2113 409 \r\nQ 2538 409 2786 701 \r\nQ 3034 994 3034 1497 \r\nQ 3034 2003 2786 2293 \r\nQ 2538 2584 2113 2584 \r\nz\r\nM 3366 4563 \r\nL 3366 3988 \r\nQ 3128 4100 2886 4159 \r\nQ 2644 4219 2406 4219 \r\nQ 1781 4219 1451 3797 \r\nQ 1122 3375 1075 2522 \r\nQ 1259 2794 1537 2939 \r\nQ 1816 3084 2150 3084 \r\nQ 2853 3084 3261 2657 \r\nQ 3669 2231 3669 1497 \r\nQ 3669 778 3244 343 \r\nQ 2819 -91 2113 -91 \r\nQ 1303 -91 875 529 \r\nQ 447 1150 447 2328 \r\nQ 447 3434 972 4092 \r\nQ 1497 4750 2381 4750 \r\nQ 2619 4750 2861 4703 \r\nQ 3103 4656 3366 4563 \r\nz\r\n\" id=\"DejaVuSans-36\" transform=\"scale(0.015625)\"/>\r\n     </defs>\r\n     <use xlink:href=\"#DejaVuSans-2d\"/>\r\n     <use x=\"36.083984\" xlink:href=\"#DejaVuSans-30\"/>\r\n     <use x=\"99.707031\" xlink:href=\"#DejaVuSans-2e\"/>\r\n     <use x=\"131.494141\" xlink:href=\"#DejaVuSans-30\"/>\r\n     <use x=\"195.117188\" xlink:href=\"#DejaVuSans-36\"/>\r\n     <use x=\"258.740234\" xlink:href=\"#DejaVuSans-31\"/>\r\n    </g>\r\n   </g>\r\n   <g id=\"text_20\">\r\n    <!-- -0.011 -->\r\n    <g style=\"fill:#ffffff;\" transform=\"translate(434.377344 30.746094)scale(0.1 -0.1)\">\r\n     <use xlink:href=\"#DejaVuSans-2d\"/>\r\n     <use x=\"36.083984\" xlink:href=\"#DejaVuSans-30\"/>\r\n     <use x=\"99.707031\" xlink:href=\"#DejaVuSans-2e\"/>\r\n     <use x=\"131.494141\" xlink:href=\"#DejaVuSans-30\"/>\r\n     <use x=\"195.117188\" xlink:href=\"#DejaVuSans-31\"/>\r\n     <use x=\"258.740234\" xlink:href=\"#DejaVuSans-31\"/>\r\n    </g>\r\n   </g>\r\n   <g id=\"text_21\">\r\n    <!-- 0.002 -->\r\n    <g style=\"fill:#ffffff;\" transform=\"translate(491.98125 30.746094)scale(0.1 -0.1)\">\r\n     <defs>\r\n      <path d=\"M 1228 531 \r\nL 3431 531 \r\nL 3431 0 \r\nL 469 0 \r\nL 469 531 \r\nQ 828 903 1448 1529 \r\nQ 2069 2156 2228 2338 \r\nQ 2531 2678 2651 2914 \r\nQ 2772 3150 2772 3378 \r\nQ 2772 3750 2511 3984 \r\nQ 2250 4219 1831 4219 \r\nQ 1534 4219 1204 4116 \r\nQ 875 4013 500 3803 \r\nL 500 4441 \r\nQ 881 4594 1212 4672 \r\nQ 1544 4750 1819 4750 \r\nQ 2544 4750 2975 4387 \r\nQ 3406 4025 3406 3419 \r\nQ 3406 3131 3298 2873 \r\nQ 3191 2616 2906 2266 \r\nQ 2828 2175 2409 1742 \r\nQ 1991 1309 1228 531 \r\nz\r\n\" id=\"DejaVuSans-32\" transform=\"scale(0.015625)\"/>\r\n     </defs>\r\n     <use xlink:href=\"#DejaVuSans-30\"/>\r\n     <use x=\"63.623047\" xlink:href=\"#DejaVuSans-2e\"/>\r\n     <use x=\"95.410156\" xlink:href=\"#DejaVuSans-30\"/>\r\n     <use x=\"159.033203\" xlink:href=\"#DejaVuSans-30\"/>\r\n     <use x=\"222.65625\" xlink:href=\"#DejaVuSans-32\"/>\r\n    </g>\r\n   </g>\r\n   <g id=\"text_22\">\r\n    <!-- -0.019 -->\r\n    <g style=\"fill:#ffffff;\" transform=\"translate(545.977344 30.746094)scale(0.1 -0.1)\">\r\n     <defs>\r\n      <path d=\"M 703 97 \r\nL 703 672 \r\nQ 941 559 1184 500 \r\nQ 1428 441 1663 441 \r\nQ 2288 441 2617 861 \r\nQ 2947 1281 2994 2138 \r\nQ 2813 1869 2534 1725 \r\nQ 2256 1581 1919 1581 \r\nQ 1219 1581 811 2004 \r\nQ 403 2428 403 3163 \r\nQ 403 3881 828 4315 \r\nQ 1253 4750 1959 4750 \r\nQ 2769 4750 3195 4129 \r\nQ 3622 3509 3622 2328 \r\nQ 3622 1225 3098 567 \r\nQ 2575 -91 1691 -91 \r\nQ 1453 -91 1209 -44 \r\nQ 966 3 703 97 \r\nz\r\nM 1959 2075 \r\nQ 2384 2075 2632 2365 \r\nQ 2881 2656 2881 3163 \r\nQ 2881 3666 2632 3958 \r\nQ 2384 4250 1959 4250 \r\nQ 1534 4250 1286 3958 \r\nQ 1038 3666 1038 3163 \r\nQ 1038 2656 1286 2365 \r\nQ 1534 2075 1959 2075 \r\nz\r\n\" id=\"DejaVuSans-39\" transform=\"scale(0.015625)\"/>\r\n     </defs>\r\n     <use xlink:href=\"#DejaVuSans-2d\"/>\r\n     <use x=\"36.083984\" xlink:href=\"#DejaVuSans-30\"/>\r\n     <use x=\"99.707031\" xlink:href=\"#DejaVuSans-2e\"/>\r\n     <use x=\"131.494141\" xlink:href=\"#DejaVuSans-30\"/>\r\n     <use x=\"195.117188\" xlink:href=\"#DejaVuSans-31\"/>\r\n     <use x=\"258.740234\" xlink:href=\"#DejaVuSans-39\"/>\r\n    </g>\r\n   </g>\r\n   <g id=\"text_23\">\r\n    <!-- -0.028 -->\r\n    <g style=\"fill:#ffffff;\" transform=\"translate(601.777344 30.746094)scale(0.1 -0.1)\">\r\n     <defs>\r\n      <path d=\"M 2034 2216 \r\nQ 1584 2216 1326 1975 \r\nQ 1069 1734 1069 1313 \r\nQ 1069 891 1326 650 \r\nQ 1584 409 2034 409 \r\nQ 2484 409 2743 651 \r\nQ 3003 894 3003 1313 \r\nQ 3003 1734 2745 1975 \r\nQ 2488 2216 2034 2216 \r\nz\r\nM 1403 2484 \r\nQ 997 2584 770 2862 \r\nQ 544 3141 544 3541 \r\nQ 544 4100 942 4425 \r\nQ 1341 4750 2034 4750 \r\nQ 2731 4750 3128 4425 \r\nQ 3525 4100 3525 3541 \r\nQ 3525 3141 3298 2862 \r\nQ 3072 2584 2669 2484 \r\nQ 3125 2378 3379 2068 \r\nQ 3634 1759 3634 1313 \r\nQ 3634 634 3220 271 \r\nQ 2806 -91 2034 -91 \r\nQ 1263 -91 848 271 \r\nQ 434 634 434 1313 \r\nQ 434 1759 690 2068 \r\nQ 947 2378 1403 2484 \r\nz\r\nM 1172 3481 \r\nQ 1172 3119 1398 2916 \r\nQ 1625 2713 2034 2713 \r\nQ 2441 2713 2670 2916 \r\nQ 2900 3119 2900 3481 \r\nQ 2900 3844 2670 4047 \r\nQ 2441 4250 2034 4250 \r\nQ 1625 4250 1398 4047 \r\nQ 1172 3844 1172 3481 \r\nz\r\n\" id=\"DejaVuSans-38\" transform=\"scale(0.015625)\"/>\r\n     </defs>\r\n     <use xlink:href=\"#DejaVuSans-2d\"/>\r\n     <use x=\"36.083984\" xlink:href=\"#DejaVuSans-30\"/>\r\n     <use x=\"99.707031\" xlink:href=\"#DejaVuSans-2e\"/>\r\n     <use x=\"131.494141\" xlink:href=\"#DejaVuSans-30\"/>\r\n     <use x=\"195.117188\" xlink:href=\"#DejaVuSans-32\"/>\r\n     <use x=\"258.740234\" xlink:href=\"#DejaVuSans-38\"/>\r\n    </g>\r\n   </g>\r\n   <g id=\"text_24\">\r\n    <!-- 0.049 -->\r\n    <g style=\"fill:#ffffff;\" transform=\"translate(659.38125 30.746094)scale(0.1 -0.1)\">\r\n     <defs>\r\n      <path d=\"M 2419 4116 \r\nL 825 1625 \r\nL 2419 1625 \r\nL 2419 4116 \r\nz\r\nM 2253 4666 \r\nL 3047 4666 \r\nL 3047 1625 \r\nL 3713 1625 \r\nL 3713 1100 \r\nL 3047 1100 \r\nL 3047 0 \r\nL 2419 0 \r\nL 2419 1100 \r\nL 313 1100 \r\nL 313 1709 \r\nL 2253 4666 \r\nz\r\n\" id=\"DejaVuSans-34\" transform=\"scale(0.015625)\"/>\r\n     </defs>\r\n     <use xlink:href=\"#DejaVuSans-30\"/>\r\n     <use x=\"63.623047\" xlink:href=\"#DejaVuSans-2e\"/>\r\n     <use x=\"95.410156\" xlink:href=\"#DejaVuSans-30\"/>\r\n     <use x=\"159.033203\" xlink:href=\"#DejaVuSans-34\"/>\r\n     <use x=\"222.65625\" xlink:href=\"#DejaVuSans-39\"/>\r\n    </g>\r\n   </g>\r\n   <g id=\"text_25\">\r\n    <!-- 0.13 -->\r\n    <g style=\"fill:#262626;\" transform=\"translate(271.9625 64.721094)scale(0.1 -0.1)\">\r\n     <use xlink:href=\"#DejaVuSans-30\"/>\r\n     <use x=\"63.623047\" xlink:href=\"#DejaVuSans-2e\"/>\r\n     <use x=\"95.410156\" xlink:href=\"#DejaVuSans-31\"/>\r\n     <use x=\"159.033203\" xlink:href=\"#DejaVuSans-33\"/>\r\n    </g>\r\n   </g>\r\n   <g id=\"text_26\">\r\n    <!-- 1 -->\r\n    <g style=\"fill:#ffffff;\" transform=\"translate(335.714063 64.721094)scale(0.1 -0.1)\">\r\n     <use xlink:href=\"#DejaVuSans-31\"/>\r\n    </g>\r\n   </g>\r\n   <g id=\"text_27\">\r\n    <!-- -0.044 -->\r\n    <g style=\"fill:#ffffff;\" transform=\"translate(378.577344 64.721094)scale(0.1 -0.1)\">\r\n     <use xlink:href=\"#DejaVuSans-2d\"/>\r\n     <use x=\"36.083984\" xlink:href=\"#DejaVuSans-30\"/>\r\n     <use x=\"99.707031\" xlink:href=\"#DejaVuSans-2e\"/>\r\n     <use x=\"131.494141\" xlink:href=\"#DejaVuSans-30\"/>\r\n     <use x=\"195.117188\" xlink:href=\"#DejaVuSans-34\"/>\r\n     <use x=\"258.740234\" xlink:href=\"#DejaVuSans-34\"/>\r\n    </g>\r\n   </g>\r\n   <g id=\"text_28\">\r\n    <!-- -0.049 -->\r\n    <g style=\"fill:#ffffff;\" transform=\"translate(434.377344 64.721094)scale(0.1 -0.1)\">\r\n     <use xlink:href=\"#DejaVuSans-2d\"/>\r\n     <use x=\"36.083984\" xlink:href=\"#DejaVuSans-30\"/>\r\n     <use x=\"99.707031\" xlink:href=\"#DejaVuSans-2e\"/>\r\n     <use x=\"131.494141\" xlink:href=\"#DejaVuSans-30\"/>\r\n     <use x=\"195.117188\" xlink:href=\"#DejaVuSans-34\"/>\r\n     <use x=\"258.740234\" xlink:href=\"#DejaVuSans-39\"/>\r\n    </g>\r\n   </g>\r\n   <g id=\"text_29\">\r\n    <!-- -0.0045 -->\r\n    <g style=\"fill:#ffffff;\" transform=\"translate(486.996094 64.721094)scale(0.1 -0.1)\">\r\n     <defs>\r\n      <path d=\"M 691 4666 \r\nL 3169 4666 \r\nL 3169 4134 \r\nL 1269 4134 \r\nL 1269 2991 \r\nQ 1406 3038 1543 3061 \r\nQ 1681 3084 1819 3084 \r\nQ 2600 3084 3056 2656 \r\nQ 3513 2228 3513 1497 \r\nQ 3513 744 3044 326 \r\nQ 2575 -91 1722 -91 \r\nQ 1428 -91 1123 -41 \r\nQ 819 9 494 109 \r\nL 494 744 \r\nQ 775 591 1075 516 \r\nQ 1375 441 1709 441 \r\nQ 2250 441 2565 725 \r\nQ 2881 1009 2881 1497 \r\nQ 2881 1984 2565 2268 \r\nQ 2250 2553 1709 2553 \r\nQ 1456 2553 1204 2497 \r\nQ 953 2441 691 2322 \r\nL 691 4666 \r\nz\r\n\" id=\"DejaVuSans-35\" transform=\"scale(0.015625)\"/>\r\n     </defs>\r\n     <use xlink:href=\"#DejaVuSans-2d\"/>\r\n     <use x=\"36.083984\" xlink:href=\"#DejaVuSans-30\"/>\r\n     <use x=\"99.707031\" xlink:href=\"#DejaVuSans-2e\"/>\r\n     <use x=\"131.494141\" xlink:href=\"#DejaVuSans-30\"/>\r\n     <use x=\"195.117188\" xlink:href=\"#DejaVuSans-30\"/>\r\n     <use x=\"258.740234\" xlink:href=\"#DejaVuSans-34\"/>\r\n     <use x=\"322.363281\" xlink:href=\"#DejaVuSans-35\"/>\r\n    </g>\r\n   </g>\r\n   <g id=\"text_30\">\r\n    <!-- -0.027 -->\r\n    <g style=\"fill:#ffffff;\" transform=\"translate(545.977344 64.721094)scale(0.1 -0.1)\">\r\n     <defs>\r\n      <path d=\"M 525 4666 \r\nL 3525 4666 \r\nL 3525 4397 \r\nL 1831 0 \r\nL 1172 0 \r\nL 2766 4134 \r\nL 525 4134 \r\nL 525 4666 \r\nz\r\n\" id=\"DejaVuSans-37\" transform=\"scale(0.015625)\"/>\r\n     </defs>\r\n     <use xlink:href=\"#DejaVuSans-2d\"/>\r\n     <use x=\"36.083984\" xlink:href=\"#DejaVuSans-30\"/>\r\n     <use x=\"99.707031\" xlink:href=\"#DejaVuSans-2e\"/>\r\n     <use x=\"131.494141\" xlink:href=\"#DejaVuSans-30\"/>\r\n     <use x=\"195.117188\" xlink:href=\"#DejaVuSans-32\"/>\r\n     <use x=\"258.740234\" xlink:href=\"#DejaVuSans-37\"/>\r\n    </g>\r\n   </g>\r\n   <g id=\"text_31\">\r\n    <!-- 0.021 -->\r\n    <g style=\"fill:#ffffff;\" transform=\"translate(603.58125 64.721094)scale(0.1 -0.1)\">\r\n     <use xlink:href=\"#DejaVuSans-30\"/>\r\n     <use x=\"63.623047\" xlink:href=\"#DejaVuSans-2e\"/>\r\n     <use x=\"95.410156\" xlink:href=\"#DejaVuSans-30\"/>\r\n     <use x=\"159.033203\" xlink:href=\"#DejaVuSans-32\"/>\r\n     <use x=\"222.65625\" xlink:href=\"#DejaVuSans-31\"/>\r\n    </g>\r\n   </g>\r\n   <g id=\"text_32\">\r\n    <!-- -0.034 -->\r\n    <g style=\"fill:#ffffff;\" transform=\"translate(657.577344 64.721094)scale(0.1 -0.1)\">\r\n     <use xlink:href=\"#DejaVuSans-2d\"/>\r\n     <use x=\"36.083984\" xlink:href=\"#DejaVuSans-30\"/>\r\n     <use x=\"99.707031\" xlink:href=\"#DejaVuSans-2e\"/>\r\n     <use x=\"131.494141\" xlink:href=\"#DejaVuSans-30\"/>\r\n     <use x=\"195.117188\" xlink:href=\"#DejaVuSans-33\"/>\r\n     <use x=\"258.740234\" xlink:href=\"#DejaVuSans-34\"/>\r\n    </g>\r\n   </g>\r\n   <g id=\"text_33\">\r\n    <!-- -0.061 -->\r\n    <g style=\"fill:#ffffff;\" transform=\"translate(266.977344 98.696094)scale(0.1 -0.1)\">\r\n     <use xlink:href=\"#DejaVuSans-2d\"/>\r\n     <use x=\"36.083984\" xlink:href=\"#DejaVuSans-30\"/>\r\n     <use x=\"99.707031\" xlink:href=\"#DejaVuSans-2e\"/>\r\n     <use x=\"131.494141\" xlink:href=\"#DejaVuSans-30\"/>\r\n     <use x=\"195.117188\" xlink:href=\"#DejaVuSans-36\"/>\r\n     <use x=\"258.740234\" xlink:href=\"#DejaVuSans-31\"/>\r\n    </g>\r\n   </g>\r\n   <g id=\"text_34\">\r\n    <!-- -0.044 -->\r\n    <g style=\"fill:#ffffff;\" transform=\"translate(322.777344 98.696094)scale(0.1 -0.1)\">\r\n     <use xlink:href=\"#DejaVuSans-2d\"/>\r\n     <use x=\"36.083984\" xlink:href=\"#DejaVuSans-30\"/>\r\n     <use x=\"99.707031\" xlink:href=\"#DejaVuSans-2e\"/>\r\n     <use x=\"131.494141\" xlink:href=\"#DejaVuSans-30\"/>\r\n     <use x=\"195.117188\" xlink:href=\"#DejaVuSans-34\"/>\r\n     <use x=\"258.740234\" xlink:href=\"#DejaVuSans-34\"/>\r\n    </g>\r\n   </g>\r\n   <g id=\"text_35\">\r\n    <!-- 1 -->\r\n    <g style=\"fill:#ffffff;\" transform=\"translate(391.514063 98.696094)scale(0.1 -0.1)\">\r\n     <use xlink:href=\"#DejaVuSans-31\"/>\r\n    </g>\r\n   </g>\r\n   <g id=\"text_36\">\r\n    <!-- -0.12 -->\r\n    <g style=\"fill:#ffffff;\" transform=\"translate(437.558594 98.696094)scale(0.1 -0.1)\">\r\n     <use xlink:href=\"#DejaVuSans-2d\"/>\r\n     <use x=\"36.083984\" xlink:href=\"#DejaVuSans-30\"/>\r\n     <use x=\"99.707031\" xlink:href=\"#DejaVuSans-2e\"/>\r\n     <use x=\"131.494141\" xlink:href=\"#DejaVuSans-31\"/>\r\n     <use x=\"195.117188\" xlink:href=\"#DejaVuSans-32\"/>\r\n    </g>\r\n   </g>\r\n   <g id=\"text_37\">\r\n    <!-- 0.005 -->\r\n    <g style=\"fill:#ffffff;\" transform=\"translate(491.98125 98.696094)scale(0.1 -0.1)\">\r\n     <use xlink:href=\"#DejaVuSans-30\"/>\r\n     <use x=\"63.623047\" xlink:href=\"#DejaVuSans-2e\"/>\r\n     <use x=\"95.410156\" xlink:href=\"#DejaVuSans-30\"/>\r\n     <use x=\"159.033203\" xlink:href=\"#DejaVuSans-30\"/>\r\n     <use x=\"222.65625\" xlink:href=\"#DejaVuSans-35\"/>\r\n    </g>\r\n   </g>\r\n   <g id=\"text_38\">\r\n    <!-- -0.01 -->\r\n    <g style=\"fill:#ffffff;\" transform=\"translate(549.158594 98.696094)scale(0.1 -0.1)\">\r\n     <use xlink:href=\"#DejaVuSans-2d\"/>\r\n     <use x=\"36.083984\" xlink:href=\"#DejaVuSans-30\"/>\r\n     <use x=\"99.707031\" xlink:href=\"#DejaVuSans-2e\"/>\r\n     <use x=\"131.494141\" xlink:href=\"#DejaVuSans-30\"/>\r\n     <use x=\"195.117188\" xlink:href=\"#DejaVuSans-31\"/>\r\n    </g>\r\n   </g>\r\n   <g id=\"text_39\">\r\n    <!-- 0.092 -->\r\n    <g style=\"fill:#ffffff;\" transform=\"translate(603.58125 98.696094)scale(0.1 -0.1)\">\r\n     <use xlink:href=\"#DejaVuSans-30\"/>\r\n     <use x=\"63.623047\" xlink:href=\"#DejaVuSans-2e\"/>\r\n     <use x=\"95.410156\" xlink:href=\"#DejaVuSans-30\"/>\r\n     <use x=\"159.033203\" xlink:href=\"#DejaVuSans-39\"/>\r\n     <use x=\"222.65625\" xlink:href=\"#DejaVuSans-32\"/>\r\n    </g>\r\n   </g>\r\n   <g id=\"text_40\">\r\n    <!-- -0.14 -->\r\n    <g style=\"fill:#ffffff;\" transform=\"translate(660.758594 98.696094)scale(0.1 -0.1)\">\r\n     <use xlink:href=\"#DejaVuSans-2d\"/>\r\n     <use x=\"36.083984\" xlink:href=\"#DejaVuSans-30\"/>\r\n     <use x=\"99.707031\" xlink:href=\"#DejaVuSans-2e\"/>\r\n     <use x=\"131.494141\" xlink:href=\"#DejaVuSans-31\"/>\r\n     <use x=\"195.117188\" xlink:href=\"#DejaVuSans-34\"/>\r\n    </g>\r\n   </g>\r\n   <g id=\"text_41\">\r\n    <!-- -0.011 -->\r\n    <g style=\"fill:#ffffff;\" transform=\"translate(266.977344 132.671094)scale(0.1 -0.1)\">\r\n     <use xlink:href=\"#DejaVuSans-2d\"/>\r\n     <use x=\"36.083984\" xlink:href=\"#DejaVuSans-30\"/>\r\n     <use x=\"99.707031\" xlink:href=\"#DejaVuSans-2e\"/>\r\n     <use x=\"131.494141\" xlink:href=\"#DejaVuSans-30\"/>\r\n     <use x=\"195.117188\" xlink:href=\"#DejaVuSans-31\"/>\r\n     <use x=\"258.740234\" xlink:href=\"#DejaVuSans-31\"/>\r\n    </g>\r\n   </g>\r\n   <g id=\"text_42\">\r\n    <!-- -0.049 -->\r\n    <g style=\"fill:#ffffff;\" transform=\"translate(322.777344 132.671094)scale(0.1 -0.1)\">\r\n     <use xlink:href=\"#DejaVuSans-2d\"/>\r\n     <use x=\"36.083984\" xlink:href=\"#DejaVuSans-30\"/>\r\n     <use x=\"99.707031\" xlink:href=\"#DejaVuSans-2e\"/>\r\n     <use x=\"131.494141\" xlink:href=\"#DejaVuSans-30\"/>\r\n     <use x=\"195.117188\" xlink:href=\"#DejaVuSans-34\"/>\r\n     <use x=\"258.740234\" xlink:href=\"#DejaVuSans-39\"/>\r\n    </g>\r\n   </g>\r\n   <g id=\"text_43\">\r\n    <!-- -0.12 -->\r\n    <g style=\"fill:#ffffff;\" transform=\"translate(381.758594 132.671094)scale(0.1 -0.1)\">\r\n     <use xlink:href=\"#DejaVuSans-2d\"/>\r\n     <use x=\"36.083984\" xlink:href=\"#DejaVuSans-30\"/>\r\n     <use x=\"99.707031\" xlink:href=\"#DejaVuSans-2e\"/>\r\n     <use x=\"131.494141\" xlink:href=\"#DejaVuSans-31\"/>\r\n     <use x=\"195.117188\" xlink:href=\"#DejaVuSans-32\"/>\r\n    </g>\r\n   </g>\r\n   <g id=\"text_44\">\r\n    <!-- 1 -->\r\n    <g style=\"fill:#ffffff;\" transform=\"translate(447.314063 132.671094)scale(0.1 -0.1)\">\r\n     <use xlink:href=\"#DejaVuSans-31\"/>\r\n    </g>\r\n   </g>\r\n   <g id=\"text_45\">\r\n    <!-- 0.0058 -->\r\n    <g style=\"fill:#ffffff;\" transform=\"translate(488.8 132.671094)scale(0.1 -0.1)\">\r\n     <use xlink:href=\"#DejaVuSans-30\"/>\r\n     <use x=\"63.623047\" xlink:href=\"#DejaVuSans-2e\"/>\r\n     <use x=\"95.410156\" xlink:href=\"#DejaVuSans-30\"/>\r\n     <use x=\"159.033203\" xlink:href=\"#DejaVuSans-30\"/>\r\n     <use x=\"222.65625\" xlink:href=\"#DejaVuSans-35\"/>\r\n     <use x=\"286.279297\" xlink:href=\"#DejaVuSans-38\"/>\r\n    </g>\r\n   </g>\r\n   <g id=\"text_46\">\r\n    <!-- -0.011 -->\r\n    <g style=\"fill:#ffffff;\" transform=\"translate(545.977344 132.671094)scale(0.1 -0.1)\">\r\n     <use xlink:href=\"#DejaVuSans-2d\"/>\r\n     <use x=\"36.083984\" xlink:href=\"#DejaVuSans-30\"/>\r\n     <use x=\"99.707031\" xlink:href=\"#DejaVuSans-2e\"/>\r\n     <use x=\"131.494141\" xlink:href=\"#DejaVuSans-30\"/>\r\n     <use x=\"195.117188\" xlink:href=\"#DejaVuSans-31\"/>\r\n     <use x=\"258.740234\" xlink:href=\"#DejaVuSans-31\"/>\r\n    </g>\r\n   </g>\r\n   <g id=\"text_47\">\r\n    <!-- 0.093 -->\r\n    <g style=\"fill:#ffffff;\" transform=\"translate(603.58125 132.671094)scale(0.1 -0.1)\">\r\n     <use xlink:href=\"#DejaVuSans-30\"/>\r\n     <use x=\"63.623047\" xlink:href=\"#DejaVuSans-2e\"/>\r\n     <use x=\"95.410156\" xlink:href=\"#DejaVuSans-30\"/>\r\n     <use x=\"159.033203\" xlink:href=\"#DejaVuSans-39\"/>\r\n     <use x=\"222.65625\" xlink:href=\"#DejaVuSans-33\"/>\r\n    </g>\r\n   </g>\r\n   <g id=\"text_48\">\r\n    <!-- 0.071 -->\r\n    <g style=\"fill:#ffffff;\" transform=\"translate(659.38125 132.671094)scale(0.1 -0.1)\">\r\n     <use xlink:href=\"#DejaVuSans-30\"/>\r\n     <use x=\"63.623047\" xlink:href=\"#DejaVuSans-2e\"/>\r\n     <use x=\"95.410156\" xlink:href=\"#DejaVuSans-30\"/>\r\n     <use x=\"159.033203\" xlink:href=\"#DejaVuSans-37\"/>\r\n     <use x=\"222.65625\" xlink:href=\"#DejaVuSans-31\"/>\r\n    </g>\r\n   </g>\r\n   <g id=\"text_49\">\r\n    <!-- 0.002 -->\r\n    <g style=\"fill:#ffffff;\" transform=\"translate(268.78125 166.646094)scale(0.1 -0.1)\">\r\n     <use xlink:href=\"#DejaVuSans-30\"/>\r\n     <use x=\"63.623047\" xlink:href=\"#DejaVuSans-2e\"/>\r\n     <use x=\"95.410156\" xlink:href=\"#DejaVuSans-30\"/>\r\n     <use x=\"159.033203\" xlink:href=\"#DejaVuSans-30\"/>\r\n     <use x=\"222.65625\" xlink:href=\"#DejaVuSans-32\"/>\r\n    </g>\r\n   </g>\r\n   <g id=\"text_50\">\r\n    <!-- -0.0045 -->\r\n    <g style=\"fill:#ffffff;\" transform=\"translate(319.596094 166.646094)scale(0.1 -0.1)\">\r\n     <use xlink:href=\"#DejaVuSans-2d\"/>\r\n     <use x=\"36.083984\" xlink:href=\"#DejaVuSans-30\"/>\r\n     <use x=\"99.707031\" xlink:href=\"#DejaVuSans-2e\"/>\r\n     <use x=\"131.494141\" xlink:href=\"#DejaVuSans-30\"/>\r\n     <use x=\"195.117188\" xlink:href=\"#DejaVuSans-30\"/>\r\n     <use x=\"258.740234\" xlink:href=\"#DejaVuSans-34\"/>\r\n     <use x=\"322.363281\" xlink:href=\"#DejaVuSans-35\"/>\r\n    </g>\r\n   </g>\r\n   <g id=\"text_51\">\r\n    <!-- 0.005 -->\r\n    <g style=\"fill:#ffffff;\" transform=\"translate(380.38125 166.646094)scale(0.1 -0.1)\">\r\n     <use xlink:href=\"#DejaVuSans-30\"/>\r\n     <use x=\"63.623047\" xlink:href=\"#DejaVuSans-2e\"/>\r\n     <use x=\"95.410156\" xlink:href=\"#DejaVuSans-30\"/>\r\n     <use x=\"159.033203\" xlink:href=\"#DejaVuSans-30\"/>\r\n     <use x=\"222.65625\" xlink:href=\"#DejaVuSans-35\"/>\r\n    </g>\r\n   </g>\r\n   <g id=\"text_52\">\r\n    <!-- 0.0058 -->\r\n    <g style=\"fill:#ffffff;\" transform=\"translate(433 166.646094)scale(0.1 -0.1)\">\r\n     <use xlink:href=\"#DejaVuSans-30\"/>\r\n     <use x=\"63.623047\" xlink:href=\"#DejaVuSans-2e\"/>\r\n     <use x=\"95.410156\" xlink:href=\"#DejaVuSans-30\"/>\r\n     <use x=\"159.033203\" xlink:href=\"#DejaVuSans-30\"/>\r\n     <use x=\"222.65625\" xlink:href=\"#DejaVuSans-35\"/>\r\n     <use x=\"286.279297\" xlink:href=\"#DejaVuSans-38\"/>\r\n    </g>\r\n   </g>\r\n   <g id=\"text_53\">\r\n    <!-- 1 -->\r\n    <g style=\"fill:#ffffff;\" transform=\"translate(503.114063 166.646094)scale(0.1 -0.1)\">\r\n     <use xlink:href=\"#DejaVuSans-31\"/>\r\n    </g>\r\n   </g>\r\n   <g id=\"text_54\">\r\n    <!-- 0.0068 -->\r\n    <g style=\"fill:#ffffff;\" transform=\"translate(544.6 166.646094)scale(0.1 -0.1)\">\r\n     <use xlink:href=\"#DejaVuSans-30\"/>\r\n     <use x=\"63.623047\" xlink:href=\"#DejaVuSans-2e\"/>\r\n     <use x=\"95.410156\" xlink:href=\"#DejaVuSans-30\"/>\r\n     <use x=\"159.033203\" xlink:href=\"#DejaVuSans-30\"/>\r\n     <use x=\"222.65625\" xlink:href=\"#DejaVuSans-36\"/>\r\n     <use x=\"286.279297\" xlink:href=\"#DejaVuSans-38\"/>\r\n    </g>\r\n   </g>\r\n   <g id=\"text_55\">\r\n    <!-- 0.0077 -->\r\n    <g style=\"fill:#ffffff;\" transform=\"translate(600.4 166.646094)scale(0.1 -0.1)\">\r\n     <use xlink:href=\"#DejaVuSans-30\"/>\r\n     <use x=\"63.623047\" xlink:href=\"#DejaVuSans-2e\"/>\r\n     <use x=\"95.410156\" xlink:href=\"#DejaVuSans-30\"/>\r\n     <use x=\"159.033203\" xlink:href=\"#DejaVuSans-30\"/>\r\n     <use x=\"222.65625\" xlink:href=\"#DejaVuSans-37\"/>\r\n     <use x=\"286.279297\" xlink:href=\"#DejaVuSans-37\"/>\r\n    </g>\r\n   </g>\r\n   <g id=\"text_56\">\r\n    <!-- -0.0019 -->\r\n    <g style=\"fill:#ffffff;\" transform=\"translate(654.396094 166.646094)scale(0.1 -0.1)\">\r\n     <use xlink:href=\"#DejaVuSans-2d\"/>\r\n     <use x=\"36.083984\" xlink:href=\"#DejaVuSans-30\"/>\r\n     <use x=\"99.707031\" xlink:href=\"#DejaVuSans-2e\"/>\r\n     <use x=\"131.494141\" xlink:href=\"#DejaVuSans-30\"/>\r\n     <use x=\"195.117188\" xlink:href=\"#DejaVuSans-30\"/>\r\n     <use x=\"258.740234\" xlink:href=\"#DejaVuSans-31\"/>\r\n     <use x=\"322.363281\" xlink:href=\"#DejaVuSans-39\"/>\r\n    </g>\r\n   </g>\r\n   <g id=\"text_57\">\r\n    <!-- -0.019 -->\r\n    <g style=\"fill:#ffffff;\" transform=\"translate(266.977344 200.621094)scale(0.1 -0.1)\">\r\n     <use xlink:href=\"#DejaVuSans-2d\"/>\r\n     <use x=\"36.083984\" xlink:href=\"#DejaVuSans-30\"/>\r\n     <use x=\"99.707031\" xlink:href=\"#DejaVuSans-2e\"/>\r\n     <use x=\"131.494141\" xlink:href=\"#DejaVuSans-30\"/>\r\n     <use x=\"195.117188\" xlink:href=\"#DejaVuSans-31\"/>\r\n     <use x=\"258.740234\" xlink:href=\"#DejaVuSans-39\"/>\r\n    </g>\r\n   </g>\r\n   <g id=\"text_58\">\r\n    <!-- -0.027 -->\r\n    <g style=\"fill:#ffffff;\" transform=\"translate(322.777344 200.621094)scale(0.1 -0.1)\">\r\n     <use xlink:href=\"#DejaVuSans-2d\"/>\r\n     <use x=\"36.083984\" xlink:href=\"#DejaVuSans-30\"/>\r\n     <use x=\"99.707031\" xlink:href=\"#DejaVuSans-2e\"/>\r\n     <use x=\"131.494141\" xlink:href=\"#DejaVuSans-30\"/>\r\n     <use x=\"195.117188\" xlink:href=\"#DejaVuSans-32\"/>\r\n     <use x=\"258.740234\" xlink:href=\"#DejaVuSans-37\"/>\r\n    </g>\r\n   </g>\r\n   <g id=\"text_59\">\r\n    <!-- -0.01 -->\r\n    <g style=\"fill:#ffffff;\" transform=\"translate(381.758594 200.621094)scale(0.1 -0.1)\">\r\n     <use xlink:href=\"#DejaVuSans-2d\"/>\r\n     <use x=\"36.083984\" xlink:href=\"#DejaVuSans-30\"/>\r\n     <use x=\"99.707031\" xlink:href=\"#DejaVuSans-2e\"/>\r\n     <use x=\"131.494141\" xlink:href=\"#DejaVuSans-30\"/>\r\n     <use x=\"195.117188\" xlink:href=\"#DejaVuSans-31\"/>\r\n    </g>\r\n   </g>\r\n   <g id=\"text_60\">\r\n    <!-- -0.011 -->\r\n    <g style=\"fill:#ffffff;\" transform=\"translate(434.377344 200.621094)scale(0.1 -0.1)\">\r\n     <use xlink:href=\"#DejaVuSans-2d\"/>\r\n     <use x=\"36.083984\" xlink:href=\"#DejaVuSans-30\"/>\r\n     <use x=\"99.707031\" xlink:href=\"#DejaVuSans-2e\"/>\r\n     <use x=\"131.494141\" xlink:href=\"#DejaVuSans-30\"/>\r\n     <use x=\"195.117188\" xlink:href=\"#DejaVuSans-31\"/>\r\n     <use x=\"258.740234\" xlink:href=\"#DejaVuSans-31\"/>\r\n    </g>\r\n   </g>\r\n   <g id=\"text_61\">\r\n    <!-- 0.0068 -->\r\n    <g style=\"fill:#ffffff;\" transform=\"translate(488.8 200.621094)scale(0.1 -0.1)\">\r\n     <use xlink:href=\"#DejaVuSans-30\"/>\r\n     <use x=\"63.623047\" xlink:href=\"#DejaVuSans-2e\"/>\r\n     <use x=\"95.410156\" xlink:href=\"#DejaVuSans-30\"/>\r\n     <use x=\"159.033203\" xlink:href=\"#DejaVuSans-30\"/>\r\n     <use x=\"222.65625\" xlink:href=\"#DejaVuSans-36\"/>\r\n     <use x=\"286.279297\" xlink:href=\"#DejaVuSans-38\"/>\r\n    </g>\r\n   </g>\r\n   <g id=\"text_62\">\r\n    <!-- 1 -->\r\n    <g style=\"fill:#ffffff;\" transform=\"translate(558.914063 200.621094)scale(0.1 -0.1)\">\r\n     <use xlink:href=\"#DejaVuSans-31\"/>\r\n    </g>\r\n   </g>\r\n   <g id=\"text_63\">\r\n    <!-- -0.0082 -->\r\n    <g style=\"fill:#ffffff;\" transform=\"translate(598.596094 200.621094)scale(0.1 -0.1)\">\r\n     <use xlink:href=\"#DejaVuSans-2d\"/>\r\n     <use x=\"36.083984\" xlink:href=\"#DejaVuSans-30\"/>\r\n     <use x=\"99.707031\" xlink:href=\"#DejaVuSans-2e\"/>\r\n     <use x=\"131.494141\" xlink:href=\"#DejaVuSans-30\"/>\r\n     <use x=\"195.117188\" xlink:href=\"#DejaVuSans-30\"/>\r\n     <use x=\"258.740234\" xlink:href=\"#DejaVuSans-38\"/>\r\n     <use x=\"322.363281\" xlink:href=\"#DejaVuSans-32\"/>\r\n    </g>\r\n   </g>\r\n   <g id=\"text_64\">\r\n    <!-- 0.025 -->\r\n    <g style=\"fill:#ffffff;\" transform=\"translate(659.38125 200.621094)scale(0.1 -0.1)\">\r\n     <use xlink:href=\"#DejaVuSans-30\"/>\r\n     <use x=\"63.623047\" xlink:href=\"#DejaVuSans-2e\"/>\r\n     <use x=\"95.410156\" xlink:href=\"#DejaVuSans-30\"/>\r\n     <use x=\"159.033203\" xlink:href=\"#DejaVuSans-32\"/>\r\n     <use x=\"222.65625\" xlink:href=\"#DejaVuSans-35\"/>\r\n    </g>\r\n   </g>\r\n   <g id=\"text_65\">\r\n    <!-- -0.028 -->\r\n    <g style=\"fill:#ffffff;\" transform=\"translate(266.977344 234.596094)scale(0.1 -0.1)\">\r\n     <use xlink:href=\"#DejaVuSans-2d\"/>\r\n     <use x=\"36.083984\" xlink:href=\"#DejaVuSans-30\"/>\r\n     <use x=\"99.707031\" xlink:href=\"#DejaVuSans-2e\"/>\r\n     <use x=\"131.494141\" xlink:href=\"#DejaVuSans-30\"/>\r\n     <use x=\"195.117188\" xlink:href=\"#DejaVuSans-32\"/>\r\n     <use x=\"258.740234\" xlink:href=\"#DejaVuSans-38\"/>\r\n    </g>\r\n   </g>\r\n   <g id=\"text_66\">\r\n    <!-- 0.021 -->\r\n    <g style=\"fill:#ffffff;\" transform=\"translate(324.58125 234.596094)scale(0.1 -0.1)\">\r\n     <use xlink:href=\"#DejaVuSans-30\"/>\r\n     <use x=\"63.623047\" xlink:href=\"#DejaVuSans-2e\"/>\r\n     <use x=\"95.410156\" xlink:href=\"#DejaVuSans-30\"/>\r\n     <use x=\"159.033203\" xlink:href=\"#DejaVuSans-32\"/>\r\n     <use x=\"222.65625\" xlink:href=\"#DejaVuSans-31\"/>\r\n    </g>\r\n   </g>\r\n   <g id=\"text_67\">\r\n    <!-- 0.092 -->\r\n    <g style=\"fill:#ffffff;\" transform=\"translate(380.38125 234.596094)scale(0.1 -0.1)\">\r\n     <use xlink:href=\"#DejaVuSans-30\"/>\r\n     <use x=\"63.623047\" xlink:href=\"#DejaVuSans-2e\"/>\r\n     <use x=\"95.410156\" xlink:href=\"#DejaVuSans-30\"/>\r\n     <use x=\"159.033203\" xlink:href=\"#DejaVuSans-39\"/>\r\n     <use x=\"222.65625\" xlink:href=\"#DejaVuSans-32\"/>\r\n    </g>\r\n   </g>\r\n   <g id=\"text_68\">\r\n    <!-- 0.093 -->\r\n    <g style=\"fill:#ffffff;\" transform=\"translate(436.18125 234.596094)scale(0.1 -0.1)\">\r\n     <use xlink:href=\"#DejaVuSans-30\"/>\r\n     <use x=\"63.623047\" xlink:href=\"#DejaVuSans-2e\"/>\r\n     <use x=\"95.410156\" xlink:href=\"#DejaVuSans-30\"/>\r\n     <use x=\"159.033203\" xlink:href=\"#DejaVuSans-39\"/>\r\n     <use x=\"222.65625\" xlink:href=\"#DejaVuSans-33\"/>\r\n    </g>\r\n   </g>\r\n   <g id=\"text_69\">\r\n    <!-- 0.0077 -->\r\n    <g style=\"fill:#ffffff;\" transform=\"translate(488.8 234.596094)scale(0.1 -0.1)\">\r\n     <use xlink:href=\"#DejaVuSans-30\"/>\r\n     <use x=\"63.623047\" xlink:href=\"#DejaVuSans-2e\"/>\r\n     <use x=\"95.410156\" xlink:href=\"#DejaVuSans-30\"/>\r\n     <use x=\"159.033203\" xlink:href=\"#DejaVuSans-30\"/>\r\n     <use x=\"222.65625\" xlink:href=\"#DejaVuSans-37\"/>\r\n     <use x=\"286.279297\" xlink:href=\"#DejaVuSans-37\"/>\r\n    </g>\r\n   </g>\r\n   <g id=\"text_70\">\r\n    <!-- -0.0082 -->\r\n    <g style=\"fill:#ffffff;\" transform=\"translate(542.796094 234.596094)scale(0.1 -0.1)\">\r\n     <use xlink:href=\"#DejaVuSans-2d\"/>\r\n     <use x=\"36.083984\" xlink:href=\"#DejaVuSans-30\"/>\r\n     <use x=\"99.707031\" xlink:href=\"#DejaVuSans-2e\"/>\r\n     <use x=\"131.494141\" xlink:href=\"#DejaVuSans-30\"/>\r\n     <use x=\"195.117188\" xlink:href=\"#DejaVuSans-30\"/>\r\n     <use x=\"258.740234\" xlink:href=\"#DejaVuSans-38\"/>\r\n     <use x=\"322.363281\" xlink:href=\"#DejaVuSans-32\"/>\r\n    </g>\r\n   </g>\r\n   <g id=\"text_71\">\r\n    <!-- 1 -->\r\n    <g style=\"fill:#ffffff;\" transform=\"translate(614.714063 234.596094)scale(0.1 -0.1)\">\r\n     <use xlink:href=\"#DejaVuSans-31\"/>\r\n    </g>\r\n   </g>\r\n   <g id=\"text_72\">\r\n    <!-- -0.15 -->\r\n    <g style=\"fill:#ffffff;\" transform=\"translate(660.758594 234.596094)scale(0.1 -0.1)\">\r\n     <use xlink:href=\"#DejaVuSans-2d\"/>\r\n     <use x=\"36.083984\" xlink:href=\"#DejaVuSans-30\"/>\r\n     <use x=\"99.707031\" xlink:href=\"#DejaVuSans-2e\"/>\r\n     <use x=\"131.494141\" xlink:href=\"#DejaVuSans-31\"/>\r\n     <use x=\"195.117188\" xlink:href=\"#DejaVuSans-35\"/>\r\n    </g>\r\n   </g>\r\n   <g id=\"text_73\">\r\n    <!-- 0.049 -->\r\n    <g style=\"fill:#ffffff;\" transform=\"translate(268.78125 268.571094)scale(0.1 -0.1)\">\r\n     <use xlink:href=\"#DejaVuSans-30\"/>\r\n     <use x=\"63.623047\" xlink:href=\"#DejaVuSans-2e\"/>\r\n     <use x=\"95.410156\" xlink:href=\"#DejaVuSans-30\"/>\r\n     <use x=\"159.033203\" xlink:href=\"#DejaVuSans-34\"/>\r\n     <use x=\"222.65625\" xlink:href=\"#DejaVuSans-39\"/>\r\n    </g>\r\n   </g>\r\n   <g id=\"text_74\">\r\n    <!-- -0.034 -->\r\n    <g style=\"fill:#ffffff;\" transform=\"translate(322.777344 268.571094)scale(0.1 -0.1)\">\r\n     <use xlink:href=\"#DejaVuSans-2d\"/>\r\n     <use x=\"36.083984\" xlink:href=\"#DejaVuSans-30\"/>\r\n     <use x=\"99.707031\" xlink:href=\"#DejaVuSans-2e\"/>\r\n     <use x=\"131.494141\" xlink:href=\"#DejaVuSans-30\"/>\r\n     <use x=\"195.117188\" xlink:href=\"#DejaVuSans-33\"/>\r\n     <use x=\"258.740234\" xlink:href=\"#DejaVuSans-34\"/>\r\n    </g>\r\n   </g>\r\n   <g id=\"text_75\">\r\n    <!-- -0.14 -->\r\n    <g style=\"fill:#ffffff;\" transform=\"translate(381.758594 268.571094)scale(0.1 -0.1)\">\r\n     <use xlink:href=\"#DejaVuSans-2d\"/>\r\n     <use x=\"36.083984\" xlink:href=\"#DejaVuSans-30\"/>\r\n     <use x=\"99.707031\" xlink:href=\"#DejaVuSans-2e\"/>\r\n     <use x=\"131.494141\" xlink:href=\"#DejaVuSans-31\"/>\r\n     <use x=\"195.117188\" xlink:href=\"#DejaVuSans-34\"/>\r\n    </g>\r\n   </g>\r\n   <g id=\"text_76\">\r\n    <!-- 0.071 -->\r\n    <g style=\"fill:#ffffff;\" transform=\"translate(436.18125 268.571094)scale(0.1 -0.1)\">\r\n     <use xlink:href=\"#DejaVuSans-30\"/>\r\n     <use x=\"63.623047\" xlink:href=\"#DejaVuSans-2e\"/>\r\n     <use x=\"95.410156\" xlink:href=\"#DejaVuSans-30\"/>\r\n     <use x=\"159.033203\" xlink:href=\"#DejaVuSans-37\"/>\r\n     <use x=\"222.65625\" xlink:href=\"#DejaVuSans-31\"/>\r\n    </g>\r\n   </g>\r\n   <g id=\"text_77\">\r\n    <!-- -0.0019 -->\r\n    <g style=\"fill:#ffffff;\" transform=\"translate(486.996094 268.571094)scale(0.1 -0.1)\">\r\n     <use xlink:href=\"#DejaVuSans-2d\"/>\r\n     <use x=\"36.083984\" xlink:href=\"#DejaVuSans-30\"/>\r\n     <use x=\"99.707031\" xlink:href=\"#DejaVuSans-2e\"/>\r\n     <use x=\"131.494141\" xlink:href=\"#DejaVuSans-30\"/>\r\n     <use x=\"195.117188\" xlink:href=\"#DejaVuSans-30\"/>\r\n     <use x=\"258.740234\" xlink:href=\"#DejaVuSans-31\"/>\r\n     <use x=\"322.363281\" xlink:href=\"#DejaVuSans-39\"/>\r\n    </g>\r\n   </g>\r\n   <g id=\"text_78\">\r\n    <!-- 0.025 -->\r\n    <g style=\"fill:#ffffff;\" transform=\"translate(547.78125 268.571094)scale(0.1 -0.1)\">\r\n     <use xlink:href=\"#DejaVuSans-30\"/>\r\n     <use x=\"63.623047\" xlink:href=\"#DejaVuSans-2e\"/>\r\n     <use x=\"95.410156\" xlink:href=\"#DejaVuSans-30\"/>\r\n     <use x=\"159.033203\" xlink:href=\"#DejaVuSans-32\"/>\r\n     <use x=\"222.65625\" xlink:href=\"#DejaVuSans-35\"/>\r\n    </g>\r\n   </g>\r\n   <g id=\"text_79\">\r\n    <!-- -0.15 -->\r\n    <g style=\"fill:#ffffff;\" transform=\"translate(604.958594 268.571094)scale(0.1 -0.1)\">\r\n     <use xlink:href=\"#DejaVuSans-2d\"/>\r\n     <use x=\"36.083984\" xlink:href=\"#DejaVuSans-30\"/>\r\n     <use x=\"99.707031\" xlink:href=\"#DejaVuSans-2e\"/>\r\n     <use x=\"131.494141\" xlink:href=\"#DejaVuSans-31\"/>\r\n     <use x=\"195.117188\" xlink:href=\"#DejaVuSans-35\"/>\r\n    </g>\r\n   </g>\r\n   <g id=\"text_80\">\r\n    <!-- 1 -->\r\n    <g style=\"fill:#ffffff;\" transform=\"translate(670.514063 268.571094)scale(0.1 -0.1)\">\r\n     <use xlink:href=\"#DejaVuSans-31\"/>\r\n    </g>\r\n   </g>\r\n  </g>\r\n  <g id=\"axes_2\">\r\n   <g id=\"patch_3\">\r\n    <path d=\"M 729.495313 282.799219 \r\nL 743.085313 282.799219 \r\nL 743.085313 10.999219 \r\nL 729.495313 10.999219 \r\nz\r\n\" style=\"fill:#ffffff;\"/>\r\n   </g>\r\n   <g id=\"patch_4\">\r\n    <path clip-path=\"url(#p0e1a3d2de8)\" d=\"M 729.495313 282.799219 \r\nL 729.495313 281.7375 \r\nL 729.495313 12.060938 \r\nL 729.495313 10.999219 \r\nL 743.085313 10.999219 \r\nL 743.085313 12.060938 \r\nL 743.085313 281.7375 \r\nL 743.085313 282.799219 \r\nL 743.085313 282.799219 \r\nz\r\n\" style=\"fill:#ffffff;stroke:#ffffff;stroke-linejoin:miter;stroke-width:0.01;\"/>\r\n   </g>\r\n   <image height=\"272\" id=\"image636dde2ce7\" transform=\"scale(1 -1)translate(0 -272)\" width=\"14\" x=\"729\" xlink:href=\"data:image/png;base64,\r\niVBORw0KGgoAAAANSUhEUgAAAA4AAAEQCAYAAACA40WOAAABcUlEQVR4nOWY0a0CMQwEk4iuaIGi6QsuoYexNNZy799a7+44J958vt5ngL/HXIvMjcdcEw5OWZHJjUo4KyacBgBWg8eYOhauY+rhxABQeQEwORgA/ZB1cgrPo89qzFk1IGeHww8ZCvY8jz45aK6DnEI4aK7nrNBcCTmqCHctHLLeIyaHs8rrgIM+qw0Psr8qr8NWbDhkPdWgOpLCaVgV/a8rLFXokSoWfiP75Aw5nAo5+qp6OA33GOQxZtXCC0A9dgBAB3VF2keSxyDFwiHLqzYcclCPUYMbDuJUj+7xUI//r9hxyBiAmFQrkEPFcYNUGzxSxcEVYw654NFW9MnpUNTr2HY4Ucjph3yDHrki9xi0ql7H9hX/Phz+ApycHo/fo67IPdI6ogCwezw2OYVDzqkjCPIG5PRUdcgrHvVw/C+ynqr/tcrpMWnVfcWsmlNHwxe50GMMAEke6aq+R6545QAAB/kh7y9d9UPDSVKE5OgefyfsWAriNuzrAAAAAElFTkSuQmCC\" y=\"-10\"/>\r\n   <g id=\"matplotlib.axis_3\"/>\r\n   <g id=\"matplotlib.axis_4\">\r\n    <g id=\"ytick_9\">\r\n     <g id=\"line2d_17\">\r\n      <defs>\r\n       <path d=\"M 0 0 \r\nL 3.5 0 \r\n\" id=\"m91f09caa5a\" style=\"stroke:#000000;stroke-width:0.8;\"/>\r\n      </defs>\r\n      <g>\r\n       <use style=\"stroke:#000000;stroke-width:0.8;\" x=\"743.085313\" xlink:href=\"#m91f09caa5a\" y=\"246.743078\"/>\r\n      </g>\r\n     </g>\r\n     <g id=\"text_81\">\r\n      <!-- 0.0 -->\r\n      <g transform=\"translate(750.085313 250.542297)scale(0.1 -0.1)\">\r\n       <use xlink:href=\"#DejaVuSans-30\"/>\r\n       <use x=\"63.623047\" xlink:href=\"#DejaVuSans-2e\"/>\r\n       <use x=\"95.410156\" xlink:href=\"#DejaVuSans-30\"/>\r\n      </g>\r\n     </g>\r\n    </g>\r\n    <g id=\"ytick_10\">\r\n     <g id=\"line2d_18\">\r\n      <g>\r\n       <use style=\"stroke:#000000;stroke-width:0.8;\" x=\"743.085313\" xlink:href=\"#m91f09caa5a\" y=\"199.594306\"/>\r\n      </g>\r\n     </g>\r\n     <g id=\"text_82\">\r\n      <!-- 0.2 -->\r\n      <g transform=\"translate(750.085313 203.393525)scale(0.1 -0.1)\">\r\n       <use xlink:href=\"#DejaVuSans-30\"/>\r\n       <use x=\"63.623047\" xlink:href=\"#DejaVuSans-2e\"/>\r\n       <use x=\"95.410156\" xlink:href=\"#DejaVuSans-32\"/>\r\n      </g>\r\n     </g>\r\n    </g>\r\n    <g id=\"ytick_11\">\r\n     <g id=\"line2d_19\">\r\n      <g>\r\n       <use style=\"stroke:#000000;stroke-width:0.8;\" x=\"743.085313\" xlink:href=\"#m91f09caa5a\" y=\"152.445534\"/>\r\n      </g>\r\n     </g>\r\n     <g id=\"text_83\">\r\n      <!-- 0.4 -->\r\n      <g transform=\"translate(750.085313 156.244753)scale(0.1 -0.1)\">\r\n       <use xlink:href=\"#DejaVuSans-30\"/>\r\n       <use x=\"63.623047\" xlink:href=\"#DejaVuSans-2e\"/>\r\n       <use x=\"95.410156\" xlink:href=\"#DejaVuSans-34\"/>\r\n      </g>\r\n     </g>\r\n    </g>\r\n    <g id=\"ytick_12\">\r\n     <g id=\"line2d_20\">\r\n      <g>\r\n       <use style=\"stroke:#000000;stroke-width:0.8;\" x=\"743.085313\" xlink:href=\"#m91f09caa5a\" y=\"105.296762\"/>\r\n      </g>\r\n     </g>\r\n     <g id=\"text_84\">\r\n      <!-- 0.6 -->\r\n      <g transform=\"translate(750.085313 109.095981)scale(0.1 -0.1)\">\r\n       <use xlink:href=\"#DejaVuSans-30\"/>\r\n       <use x=\"63.623047\" xlink:href=\"#DejaVuSans-2e\"/>\r\n       <use x=\"95.410156\" xlink:href=\"#DejaVuSans-36\"/>\r\n      </g>\r\n     </g>\r\n    </g>\r\n    <g id=\"ytick_13\">\r\n     <g id=\"line2d_21\">\r\n      <g>\r\n       <use style=\"stroke:#000000;stroke-width:0.8;\" x=\"743.085313\" xlink:href=\"#m91f09caa5a\" y=\"58.147991\"/>\r\n      </g>\r\n     </g>\r\n     <g id=\"text_85\">\r\n      <!-- 0.8 -->\r\n      <g transform=\"translate(750.085313 61.947209)scale(0.1 -0.1)\">\r\n       <use xlink:href=\"#DejaVuSans-30\"/>\r\n       <use x=\"63.623047\" xlink:href=\"#DejaVuSans-2e\"/>\r\n       <use x=\"95.410156\" xlink:href=\"#DejaVuSans-38\"/>\r\n      </g>\r\n     </g>\r\n    </g>\r\n    <g id=\"ytick_14\">\r\n     <g id=\"line2d_22\">\r\n      <g>\r\n       <use style=\"stroke:#000000;stroke-width:0.8;\" x=\"743.085313\" xlink:href=\"#m91f09caa5a\" y=\"10.999219\"/>\r\n      </g>\r\n     </g>\r\n     <g id=\"text_86\">\r\n      <!-- 1.0 -->\r\n      <g transform=\"translate(750.085313 14.798438)scale(0.1 -0.1)\">\r\n       <use xlink:href=\"#DejaVuSans-31\"/>\r\n       <use x=\"63.623047\" xlink:href=\"#DejaVuSans-2e\"/>\r\n       <use x=\"95.410156\" xlink:href=\"#DejaVuSans-30\"/>\r\n      </g>\r\n     </g>\r\n    </g>\r\n   </g>\r\n   <g id=\"LineCollection_1\"/>\r\n   <g id=\"patch_5\">\r\n    <path d=\"M 729.495313 282.799219 \r\nL 729.495313 281.7375 \r\nL 729.495313 12.060938 \r\nL 729.495313 10.999219 \r\nL 743.085313 10.999219 \r\nL 743.085313 12.060938 \r\nL 743.085313 281.7375 \r\nL 743.085313 282.799219 \r\nz\r\n\" style=\"fill:none;\"/>\r\n   </g>\r\n  </g>\r\n </g>\r\n <defs>\r\n  <clipPath id=\"p40d76f08f2\">\r\n   <rect height=\"271.8\" width=\"446.4\" x=\"255.195313\" y=\"10.999219\"/>\r\n  </clipPath>\r\n  <clipPath id=\"p0e1a3d2de8\">\r\n   <rect height=\"271.8\" width=\"13.59\" x=\"729.495313\" y=\"10.999219\"/>\r\n  </clipPath>\r\n </defs>\r\n</svg>\r\n",
      "image/png": "[encoded data removed]"
     },
     "metadata": {
      "needs_background": "light"
     }
    }
   ],
   "source": [
    "# Once all (assumed) relevant data has been converted to digits we can check the correlation between all columns\n",
    "\n",
    "# Correlation matrix shows there is no clear relation between values\n",
    "plt.figure(figsize = (10,5))\n",
    "sns.heatmap(df_train.corr(),annot = True , cmap = \"coolwarm\")\n",
    "plt.show()"
   ]
  },
  {
   "cell_type": "code",
   "execution_count": 474,
   "metadata": {},
   "outputs": [
    {
     "output_type": "stream",
     "name": "stdout",
     "text": [
      "<class 'pandas.core.frame.DataFrame'>\nInt64Index: 100000 entries, 161528 to 69647\nData columns (total 18 columns):\n #   Column                                                     Non-Null Count   Dtype  \n---  ------                                                     --------------   -----  \n 0   Number of Extra rooms available in the Hospital            100000 non-null  int64  \n 1   Condition of Bed in the Ward                               99967 non-null   float64\n 2   Admission Type registered by the Hospital                  100000 non-null  int64  \n 3   Severity of the illness recorded at the time of admission  100000 non-null  int64  \n 4   Age of the patient                                         100000 non-null  int32  \n 5   Stay Days by the patient                                   100000 non-null  object \n 6   Unique code for the type of Hospital_a                     100000 non-null  uint8  \n 7   Unique code for the type of Hospital_b                     100000 non-null  uint8  \n 8   Unique code for the type of Hospital_c                     100000 non-null  uint8  \n 9   Unique code for the type of Hospital_d                     100000 non-null  uint8  \n 10  Unique code for the type of Hospital_e                     100000 non-null  uint8  \n 11  Unique code for the type of Hospital_f                     100000 non-null  uint8  \n 12  Unique code for the type of Hospital_g                     100000 non-null  uint8  \n 13  Department overlooking the case_TB & Chest disease         100000 non-null  uint8  \n 14  Department overlooking the case_anesthesia                 100000 non-null  uint8  \n 15  Department overlooking the case_gynecology                 100000 non-null  uint8  \n 16  Department overlooking the case_radiotherapy               100000 non-null  uint8  \n 17  Department overlooking the case_surgery                    100000 non-null  uint8  \ndtypes: float64(1), int32(1), int64(3), object(1), uint8(12)\nmemory usage: 6.1+ MB\n"
     ]
    }
   ],
   "source": [
    "# We check if there are Nan in the dataframe\n",
    "df_train_reduced.info()"
   ]
  },
  {
   "cell_type": "code",
   "execution_count": 475,
   "metadata": {},
   "outputs": [
    {
     "output_type": "stream",
     "name": "stdout",
     "text": [
      "The column 'Condition of Bed in the Ward' has 0.033% of values as nan\n"
     ]
    }
   ],
   "source": [
    "# We check the percentage of nan values per column\n",
    "percentage = df_train_reduced[\"Condition of Bed in the Ward\"].isna().sum() * 100 / len(df_train_reduced)\n",
    "print(f\"The column 'Condition of Bed in the Ward' has {percentage}% of values as nan\")"
   ]
  },
  {
   "cell_type": "code",
   "execution_count": 476,
   "metadata": {},
   "outputs": [],
   "source": [
    "# We cannot replace the nan with other values as we would be assuming their value so we remove rows with nans\n",
    "df_train_reduced[\"Condition of Bed in the Ward\"].unique()\n",
    "df_train_reduced = df_train_reduced.fillna(0)"
   ]
  },
  {
   "cell_type": "code",
   "execution_count": 477,
   "metadata": {},
   "outputs": [
    {
     "output_type": "execute_result",
     "data": {
      "text/plain": [
       "        Number of Extra rooms available in the Hospital  \\\n",
       "0                                                         \n",
       "161528                                                2   \n",
       "159472                                                4   \n",
       "309765                                                2   \n",
       "279614                                                3   \n",
       "147791                                                3   \n",
       "\n",
       "        Condition of Bed in the Ward  \\\n",
       "0                                      \n",
       "161528                           4.0   \n",
       "159472                           2.0   \n",
       "309765                           3.0   \n",
       "279614                           4.0   \n",
       "147791                           2.0   \n",
       "\n",
       "        Admission Type registered by the Hospital  \\\n",
       "0                                                   \n",
       "161528                                          2   \n",
       "159472                                          1   \n",
       "309765                                          2   \n",
       "279614                                          3   \n",
       "147791                                          2   \n",
       "\n",
       "        Severity of the illness recorded at the time of admission  \\\n",
       "0                                                                   \n",
       "161528                                                          2   \n",
       "159472                                                          2   \n",
       "309765                                                          2   \n",
       "279614                                                          2   \n",
       "147791                                                          2   \n",
       "\n",
       "        Age of the patient Stay Days by the patient  \\\n",
       "0                                                     \n",
       "161528                   2                     0-10   \n",
       "159472                   5                    21-30   \n",
       "309765                   7                    11-20   \n",
       "279614                   1                    51-60   \n",
       "147791                   5                    51-60   \n",
       "\n",
       "        Unique code for the type of Hospital_a  \\\n",
       "0                                                \n",
       "161528                                       1   \n",
       "159472                                       1   \n",
       "309765                                       0   \n",
       "279614                                       0   \n",
       "147791                                       1   \n",
       "\n",
       "        Unique code for the type of Hospital_b  \\\n",
       "0                                                \n",
       "161528                                       0   \n",
       "159472                                       0   \n",
       "309765                                       0   \n",
       "279614                                       0   \n",
       "147791                                       0   \n",
       "\n",
       "        Unique code for the type of Hospital_c  \\\n",
       "0                                                \n",
       "161528                                       0   \n",
       "159472                                       0   \n",
       "309765                                       1   \n",
       "279614                                       0   \n",
       "147791                                       0   \n",
       "\n",
       "        Unique code for the type of Hospital_d  \\\n",
       "0                                                \n",
       "161528                                       0   \n",
       "159472                                       0   \n",
       "309765                                       0   \n",
       "279614                                       0   \n",
       "147791                                       0   \n",
       "\n",
       "        Unique code for the type of Hospital_e  \\\n",
       "0                                                \n",
       "161528                                       0   \n",
       "159472                                       0   \n",
       "309765                                       0   \n",
       "279614                                       0   \n",
       "147791                                       0   \n",
       "\n",
       "        Unique code for the type of Hospital_f  \\\n",
       "0                                                \n",
       "161528                                       0   \n",
       "159472                                       0   \n",
       "309765                                       0   \n",
       "279614                                       1   \n",
       "147791                                       0   \n",
       "\n",
       "        Unique code for the type of Hospital_g  \\\n",
       "0                                                \n",
       "161528                                       0   \n",
       "159472                                       0   \n",
       "309765                                       0   \n",
       "279614                                       0   \n",
       "147791                                       0   \n",
       "\n",
       "        Department overlooking the case_TB & Chest disease  \\\n",
       "0                                                            \n",
       "161528                                                   0   \n",
       "159472                                                   0   \n",
       "309765                                                   0   \n",
       "279614                                                   0   \n",
       "147791                                                   0   \n",
       "\n",
       "        Department overlooking the case_anesthesia  \\\n",
       "0                                                    \n",
       "161528                                           0   \n",
       "159472                                           0   \n",
       "309765                                           1   \n",
       "279614                                           0   \n",
       "147791                                           0   \n",
       "\n",
       "        Department overlooking the case_gynecology  \\\n",
       "0                                                    \n",
       "161528                                           1   \n",
       "159472                                           1   \n",
       "309765                                           0   \n",
       "279614                                           1   \n",
       "147791                                           1   \n",
       "\n",
       "        Department overlooking the case_radiotherapy  \\\n",
       "0                                                      \n",
       "161528                                             0   \n",
       "159472                                             0   \n",
       "309765                                             0   \n",
       "279614                                             0   \n",
       "147791                                             0   \n",
       "\n",
       "        Department overlooking the case_surgery  \n",
       "0                                                \n",
       "161528                                        0  \n",
       "159472                                        0  \n",
       "309765                                        0  \n",
       "279614                                        0  \n",
       "147791                                        0  "
      ],
      "text/html": "<div>\n<style scoped>\n    .dataframe tbody tr th:only-of-type {\n        vertical-align: middle;\n    }\n\n    .dataframe tbody tr th {\n        vertical-align: top;\n    }\n\n    .dataframe thead th {\n        text-align: right;\n    }\n</style>\n<table border=\"1\" class=\"dataframe\">\n  <thead>\n    <tr style=\"text-align: right;\">\n      <th></th>\n      <th>Number of Extra rooms available in the Hospital</th>\n      <th>Condition of Bed in the Ward</th>\n      <th>Admission Type registered by the Hospital</th>\n      <th>Severity of the illness recorded at the time of admission</th>\n      <th>Age of the patient</th>\n      <th>Stay Days by the patient</th>\n      <th>Unique code for the type of Hospital_a</th>\n      <th>Unique code for the type of Hospital_b</th>\n      <th>Unique code for the type of Hospital_c</th>\n      <th>Unique code for the type of Hospital_d</th>\n      <th>Unique code for the type of Hospital_e</th>\n      <th>Unique code for the type of Hospital_f</th>\n      <th>Unique code for the type of Hospital_g</th>\n      <th>Department overlooking the case_TB &amp; Chest disease</th>\n      <th>Department overlooking the case_anesthesia</th>\n      <th>Department overlooking the case_gynecology</th>\n      <th>Department overlooking the case_radiotherapy</th>\n      <th>Department overlooking the case_surgery</th>\n    </tr>\n    <tr>\n      <th>0</th>\n      <th></th>\n      <th></th>\n      <th></th>\n      <th></th>\n      <th></th>\n      <th></th>\n      <th></th>\n      <th></th>\n      <th></th>\n      <th></th>\n      <th></th>\n      <th></th>\n      <th></th>\n      <th></th>\n      <th></th>\n      <th></th>\n      <th></th>\n      <th></th>\n    </tr>\n  </thead>\n  <tbody>\n    <tr>\n      <th>161528</th>\n      <td>2</td>\n      <td>4.0</td>\n      <td>2</td>\n      <td>2</td>\n      <td>2</td>\n      <td>0-10</td>\n      <td>1</td>\n      <td>0</td>\n      <td>0</td>\n      <td>0</td>\n      <td>0</td>\n      <td>0</td>\n      <td>0</td>\n      <td>0</td>\n      <td>0</td>\n      <td>1</td>\n      <td>0</td>\n      <td>0</td>\n    </tr>\n    <tr>\n      <th>159472</th>\n      <td>4</td>\n      <td>2.0</td>\n      <td>1</td>\n      <td>2</td>\n      <td>5</td>\n      <td>21-30</td>\n      <td>1</td>\n      <td>0</td>\n      <td>0</td>\n      <td>0</td>\n      <td>0</td>\n      <td>0</td>\n      <td>0</td>\n      <td>0</td>\n      <td>0</td>\n      <td>1</td>\n      <td>0</td>\n      <td>0</td>\n    </tr>\n    <tr>\n      <th>309765</th>\n      <td>2</td>\n      <td>3.0</td>\n      <td>2</td>\n      <td>2</td>\n      <td>7</td>\n      <td>11-20</td>\n      <td>0</td>\n      <td>0</td>\n      <td>1</td>\n      <td>0</td>\n      <td>0</td>\n      <td>0</td>\n      <td>0</td>\n      <td>0</td>\n      <td>1</td>\n      <td>0</td>\n      <td>0</td>\n      <td>0</td>\n    </tr>\n    <tr>\n      <th>279614</th>\n      <td>3</td>\n      <td>4.0</td>\n      <td>3</td>\n      <td>2</td>\n      <td>1</td>\n      <td>51-60</td>\n      <td>0</td>\n      <td>0</td>\n      <td>0</td>\n      <td>0</td>\n      <td>0</td>\n      <td>1</td>\n      <td>0</td>\n      <td>0</td>\n      <td>0</td>\n      <td>1</td>\n      <td>0</td>\n      <td>0</td>\n    </tr>\n    <tr>\n      <th>147791</th>\n      <td>3</td>\n      <td>2.0</td>\n      <td>2</td>\n      <td>2</td>\n      <td>5</td>\n      <td>51-60</td>\n      <td>1</td>\n      <td>0</td>\n      <td>0</td>\n      <td>0</td>\n      <td>0</td>\n      <td>0</td>\n      <td>0</td>\n      <td>0</td>\n      <td>0</td>\n      <td>1</td>\n      <td>0</td>\n      <td>0</td>\n    </tr>\n  </tbody>\n</table>\n</div>"
     },
     "metadata": {},
     "execution_count": 477
    }
   ],
   "source": [
    "df_train_reduced.head()"
   ]
  },
  {
   "source": [
    "## 2. Defining X and y"
   ],
   "cell_type": "markdown",
   "metadata": {}
  },
  {
   "cell_type": "code",
   "execution_count": 478,
   "metadata": {},
   "outputs": [],
   "source": [
    "X = df_train_reduced.drop([\"Stay Days by the patient\"], axis=1)\n",
    "y = df_train_reduced[\"Stay Days by the patient\"]"
   ]
  },
  {
   "cell_type": "code",
   "execution_count": 389,
   "metadata": {},
   "outputs": [
    {
     "output_type": "execute_result",
     "data": {
      "text/plain": [
       "(100000, 17)"
      ]
     },
     "metadata": {},
     "execution_count": 389
    }
   ],
   "source": [
    "X.shape"
   ]
  },
  {
   "cell_type": "code",
   "execution_count": 390,
   "metadata": {},
   "outputs": [],
   "source": [
    "y = np.array(y).reshape(-1,1)"
   ]
  },
  {
   "cell_type": "code",
   "execution_count": 391,
   "metadata": {},
   "outputs": [
    {
     "output_type": "execute_result",
     "data": {
      "text/plain": [
       "(79973, 17)"
      ]
     },
     "metadata": {},
     "execution_count": 391
    }
   ],
   "source": [
    "X_train.shape"
   ]
  },
  {
   "cell_type": "code",
   "execution_count": 392,
   "metadata": {},
   "outputs": [
    {
     "output_type": "execute_result",
     "data": {
      "text/plain": [
       "(79973, 1)"
      ]
     },
     "metadata": {},
     "execution_count": 392
    }
   ],
   "source": [
    "y_train.shape"
   ]
  },
  {
   "source": [
    "## 3. Dividing X_train, X_test, y_train, y_test"
   ],
   "cell_type": "markdown",
   "metadata": {}
  },
  {
   "cell_type": "code",
   "execution_count": 393,
   "metadata": {},
   "outputs": [],
   "source": [
    "X_train, X_test, y_train, y_test = train_test_split(X, y, test_size = 0.20, random_state = 42)"
   ]
  },
  {
   "source": [
    "## 4. Model selection"
   ],
   "cell_type": "markdown",
   "metadata": {}
  },
  {
   "cell_type": "code",
   "execution_count": 394,
   "metadata": {},
   "outputs": [
    {
     "output_type": "stream",
     "name": "stderr",
     "text": [
      "C:\\Users\\Usuario\\AppData\\Local\\Programs\\Python\\Python37\\lib\\site-packages\\sklearn\\utils\\validation.py:63: DataConversionWarning: A column-vector y was passed when a 1d array was expected. Please change the shape of y to (n_samples, ), for example using ravel().\n  return f(*args, **kwargs)\n"
     ]
    },
    {
     "output_type": "execute_result",
     "data": {
      "text/plain": [
       "VotingClassifier(estimators=[('forest',\n",
       "                              RandomForestClassifier(random_state=42)),\n",
       "                             ('cat',\n",
       "                              <catboost.core.CatBoostClassifier object at 0x000001560F9898C8>)],\n",
       "                 voting='soft')"
      ]
     },
     "metadata": {},
     "execution_count": 394
    }
   ],
   "source": [
    "# Voting with RandomForest & CatBoost\n",
    "from sklearn.ensemble import VotingClassifier\n",
    "\n",
    "rnd_clf = RandomForestClassifier(n_estimators=100, random_state=42)\n",
    "cat_clf = CatBoostClassifier(random_state=42, logging_level=\"Silent\")\n",
    "\n",
    "estimators = [(\"forest\", rnd_clf), (\"cat\", cat_clf)]\n",
    "\n",
    "voting_clf = VotingClassifier(estimators, voting=\"soft\")\n",
    "voting_clf.fit(X_train, y_train)"
   ]
  },
  {
   "cell_type": "code",
   "execution_count": 395,
   "metadata": {},
   "outputs": [
    {
     "output_type": "stream",
     "name": "stderr",
     "text": [
      "C:\\Users\\Usuario\\AppData\\Local\\Programs\\Python\\Python37\\lib\\site-packages\\sklearn\\utils\\validation.py:63: DataConversionWarning: A column-vector y was passed when a 1d array was expected. Please change the shape of y to (n_samples, ), for example using ravel().\n  return f(*args, **kwargs)\n"
     ]
    },
    {
     "output_type": "execute_result",
     "data": {
      "text/plain": [
       "VotingClassifier(estimators=[('cat',\n",
       "                              <catboost.core.CatBoostClassifier object at 0x00000155C3696188>),\n",
       "                             ('grad',\n",
       "                              GradientBoostingClassifier(random_state=42))],\n",
       "                 voting='soft')"
      ]
     },
     "metadata": {},
     "execution_count": 395
    }
   ],
   "source": [
    "    rnd_clf = RandomForestClassifier(n_estimators=100, random_state=42)\n",
    "    cat_clf = CatBoostClassifier(random_state=42, logging_level=\"Silent\")\n",
    "    grad_clf = GradientBoostingClassifier(n_estimators = 100, random_state=42)\n",
    "\n",
    "    estimators = [(\"cat\", cat_clf), (\"grad\", grad_clf)]\n",
    "\n",
    "    voting_clf_1 = VotingClassifier(estimators, voting=\"soft\")\n",
    "    voting_clf_1.fit(X_train, y_train)"
   ]
  },
  {
   "cell_type": "code",
   "execution_count": 396,
   "metadata": {},
   "outputs": [],
   "source": [
    "from sklearn.ensemble import GradientBoostingClassifier\n",
    "\n",
    "# Voting with RandomForest & CatBoost & GradientBoost\n",
    "def ensemble_models(models):\n",
    "\n",
    "    rnd_clf = RandomForestClassifier(n_estimators=100, random_state=42)\n",
    "    cat_clf = CatBoostClassifier(random_state=42, logging_level=\"Silent\")\n",
    "    grad_clf = GradientBoostingClassifier(n_estimators = 100, random_state=42)\n",
    "\n",
    "    estimators = models\n",
    "\n",
    "    voting_clf_1 = VotingClassifier(estimators, voting=\"soft\")\n",
    "    voting_clf_1.fit(X_train, y_train)"
   ]
  },
  {
   "cell_type": "code",
   "execution_count": 397,
   "metadata": {},
   "outputs": [
    {
     "output_type": "stream",
     "name": "stderr",
     "text": [
      "C:\\Users\\Usuario\\AppData\\Local\\Programs\\Python\\Python37\\lib\\site-packages\\sklearn\\utils\\validation.py:63: DataConversionWarning: A column-vector y was passed when a 1d array was expected. Please change the shape of y to (n_samples, ), for example using ravel().\n  return f(*args, **kwargs)\n"
     ]
    }
   ],
   "source": [
    "ensemble_models([(\"forest\", rnd_clf), (\"grad\", grad_clf)])"
   ]
  },
  {
   "cell_type": "code",
   "execution_count": 398,
   "metadata": {},
   "outputs": [],
   "source": [
    "from sklearn.metrics import accuracy_score\n",
    "\n",
    "def voting_prediction(models):\n",
    "    \n",
    "    for clf in (models):\n",
    "        clf.fit(X_train, y_train)\n",
    "        y_pred = clf.predict(X_test)\n",
    "        print (clf.__class__.__name__, metrics.accuracy_score(y_test, y_pred.ravel()))\n",
    "        "
   ]
  },
  {
   "cell_type": "code",
   "execution_count": 399,
   "metadata": {},
   "outputs": [
    {
     "output_type": "stream",
     "name": "stderr",
     "text": [
      "ipykernel_launcher:6: DataConversionWarning: A column-vector y was passed when a 1d array was expected. Please change the shape of y to (n_samples,), for example using ravel().\n",
      "RandomForestClassifier 0.27895\n",
      "C:\\Users\\Usuario\\AppData\\Local\\Programs\\Python\\Python37\\lib\\site-packages\\sklearn\\utils\\validation.py:63: DataConversionWarning: A column-vector y was passed when a 1d array was expected. Please change the shape of y to (n_samples, ), for example using ravel().\n",
      "  return f(*args, **kwargs)\n",
      "GradientBoostingClassifier 0.31625\n",
      "C:\\Users\\Usuario\\AppData\\Local\\Programs\\Python\\Python37\\lib\\site-packages\\sklearn\\utils\\validation.py:63: DataConversionWarning: A column-vector y was passed when a 1d array was expected. Please change the shape of y to (n_samples, ), for example using ravel().\n",
      "  return f(*args, **kwargs)\n",
      "VotingClassifier 0.29365\n"
     ]
    }
   ],
   "source": [
    "voting_prediction(models=(rnd_clf, grad_clf, voting_clf))"
   ]
  },
  {
   "cell_type": "code",
   "execution_count": 400,
   "metadata": {},
   "outputs": [
    {
     "output_type": "execute_result",
     "data": {
      "text/plain": [
       "17128"
      ]
     },
     "metadata": {},
     "execution_count": 400
    }
   ],
   "source": [
    "# Function to remove unnecesary elements\n",
    "import gc\n",
    "gc.collect()"
   ]
  },
  {
   "source": [
    "## H2O"
   ],
   "cell_type": "markdown",
   "metadata": {}
  },
  {
   "cell_type": "code",
   "execution_count": 422,
   "metadata": {},
   "outputs": [
    {
     "output_type": "stream",
     "name": "stdout",
     "text": [
      "Checking whether there is an H2O instance running at http://localhost:54321 . connected.\n"
     ]
    },
    {
     "output_type": "display_data",
     "data": {
      "text/plain": "--------------------------  ---------------------------------------------------------\nH2O_cluster_uptime:         40 mins 59 secs\nH2O_cluster_timezone:       Europe/Paris\nH2O_data_parsing_timezone:  UTC\nH2O_cluster_version:        3.32.1.3\nH2O_cluster_version_age:    1 month and 6 days\nH2O_cluster_name:           H2O_from_python_Usuario_21z13p\nH2O_cluster_total_nodes:    1\nH2O_cluster_free_memory:    3.838 Gb\nH2O_cluster_total_cores:    16\nH2O_cluster_allowed_cores:  16\nH2O_cluster_status:         locked, healthy\nH2O_connection_url:         http://localhost:54321\nH2O_connection_proxy:       {\"http\": null, \"https\": null}\nH2O_internal_security:      False\nH2O_API_Extensions:         Amazon S3, Algos, AutoML, Core V3, TargetEncoder, Core V4\nPython_version:             3.7.4 final\n--------------------------  ---------------------------------------------------------",
      "text/html": "<div style=\"overflow:auto\"><table style=\"width:50%\"><tr><td>H2O_cluster_uptime:</td>\n<td>40 mins 59 secs</td></tr>\n<tr><td>H2O_cluster_timezone:</td>\n<td>Europe/Paris</td></tr>\n<tr><td>H2O_data_parsing_timezone:</td>\n<td>UTC</td></tr>\n<tr><td>H2O_cluster_version:</td>\n<td>3.32.1.3</td></tr>\n<tr><td>H2O_cluster_version_age:</td>\n<td>1 month and 6 days </td></tr>\n<tr><td>H2O_cluster_name:</td>\n<td>H2O_from_python_Usuario_21z13p</td></tr>\n<tr><td>H2O_cluster_total_nodes:</td>\n<td>1</td></tr>\n<tr><td>H2O_cluster_free_memory:</td>\n<td>3.838 Gb</td></tr>\n<tr><td>H2O_cluster_total_cores:</td>\n<td>16</td></tr>\n<tr><td>H2O_cluster_allowed_cores:</td>\n<td>16</td></tr>\n<tr><td>H2O_cluster_status:</td>\n<td>locked, healthy</td></tr>\n<tr><td>H2O_connection_url:</td>\n<td>http://localhost:54321</td></tr>\n<tr><td>H2O_connection_proxy:</td>\n<td>{\"http\": null, \"https\": null}</td></tr>\n<tr><td>H2O_internal_security:</td>\n<td>False</td></tr>\n<tr><td>H2O_API_Extensions:</td>\n<td>Amazon S3, Algos, AutoML, Core V3, TargetEncoder, Core V4</td></tr>\n<tr><td>Python_version:</td>\n<td>3.7.4 final</td></tr></table></div>"
     },
     "metadata": {}
    },
    {
     "output_type": "stream",
     "name": "stdout",
     "text": [
      "Parse progress: |█████████████████████████████████████████████████████████| 100%\n"
     ]
    }
   ],
   "source": [
    "h2o.init()\n",
    "h2train = h2o.H2OFrame(df_train_reduced)"
   ]
  },
  {
   "cell_type": "code",
   "execution_count": 424,
   "metadata": {},
   "outputs": [],
   "source": [
    "columns = [a for a in h2train.columns if a != \"Stay Days by the patient\"][1:]\n",
    "x = columns"
   ]
  },
  {
   "cell_type": "code",
   "execution_count": 425,
   "metadata": {},
   "outputs": [
    {
     "output_type": "stream",
     "name": "stdout",
     "text": [
      "AutoML progress: |█\n",
      "21:08:44.670: AutoML: XGBoost is not available; skipping it.\n",
      "\n",
      "███████████████████████████████████████████Failed polling AutoML progress log: [WinError 32] El proceso no tiene acceso al archivo porque está siendo utilizado por otro proceso: 'C:\\\\Users\\\\Usuario\\\\AppData\\\\Local\\\\Temp\\\\tmp4hc3t655.csv'\n",
      "████████████| 100%\n"
     ]
    }
   ],
   "source": [
    "automl = H2OAutoML(max_models=50, seed=42, max_runtime_secs=300, sort_metric=\"mean_per_class_error\")\n",
    "automl.train(x=x, y=\"Stay Days by the patient\", training_frame=h2train)"
   ]
  },
  {
   "cell_type": "code",
   "execution_count": 426,
   "metadata": {},
   "outputs": [
    {
     "output_type": "stream",
     "name": "stdout",
     "text": [
      "[INFO] Models leader board:\n"
     ]
    },
    {
     "output_type": "display_data",
     "data": {
      "text/html": "<table>\n<thead>\n<tr><th>model_id                                           </th><th style=\"text-align: right;\">  mean_per_class_error</th><th style=\"text-align: right;\">  logloss</th><th style=\"text-align: right;\">    rmse</th><th style=\"text-align: right;\">     mse</th><th style=\"text-align: right;\">  auc</th><th style=\"text-align: right;\">  aucpr</th></tr>\n</thead>\n<tbody>\n<tr><td>GBM_grid__1_AutoML_20210625_210844_model_2         </td><td style=\"text-align: right;\">              0.814106</td><td style=\"text-align: right;\">  1.68142</td><td style=\"text-align: right;\">0.769568</td><td style=\"text-align: right;\">0.592235</td><td style=\"text-align: right;\">  nan</td><td style=\"text-align: right;\">    nan</td></tr>\n<tr><td>StackedEnsemble_AllModels_AutoML_20210625_210844   </td><td style=\"text-align: right;\">              0.814661</td><td style=\"text-align: right;\">  1.66258</td><td style=\"text-align: right;\">0.766989</td><td style=\"text-align: right;\">0.588272</td><td style=\"text-align: right;\">  nan</td><td style=\"text-align: right;\">    nan</td></tr>\n<tr><td>StackedEnsemble_BestOfFamily_AutoML_20210625_210844</td><td style=\"text-align: right;\">              0.814895</td><td style=\"text-align: right;\">  1.66694</td><td style=\"text-align: right;\">0.768142</td><td style=\"text-align: right;\">0.590042</td><td style=\"text-align: right;\">  nan</td><td style=\"text-align: right;\">    nan</td></tr>\n<tr><td>GBM_4_AutoML_20210625_210844                       </td><td style=\"text-align: right;\">              0.817354</td><td style=\"text-align: right;\">  1.81825</td><td style=\"text-align: right;\">0.818629</td><td style=\"text-align: right;\">0.670154</td><td style=\"text-align: right;\">  nan</td><td style=\"text-align: right;\">    nan</td></tr>\n<tr><td>GBM_grid__1_AutoML_20210625_210844_model_4         </td><td style=\"text-align: right;\">              0.817482</td><td style=\"text-align: right;\">  2.03501</td><td style=\"text-align: right;\">0.862149</td><td style=\"text-align: right;\">0.743301</td><td style=\"text-align: right;\">  nan</td><td style=\"text-align: right;\">    nan</td></tr>\n<tr><td>GBM_grid__1_AutoML_20210625_210844_model_1         </td><td style=\"text-align: right;\">              0.817918</td><td style=\"text-align: right;\">  1.67042</td><td style=\"text-align: right;\">0.771605</td><td style=\"text-align: right;\">0.595374</td><td style=\"text-align: right;\">  nan</td><td style=\"text-align: right;\">    nan</td></tr>\n<tr><td>GBM_2_AutoML_20210625_210844                       </td><td style=\"text-align: right;\">              0.817932</td><td style=\"text-align: right;\">  1.74903</td><td style=\"text-align: right;\">0.800702</td><td style=\"text-align: right;\">0.641124</td><td style=\"text-align: right;\">  nan</td><td style=\"text-align: right;\">    nan</td></tr>\n<tr><td>GBM_1_AutoML_20210625_210844                       </td><td style=\"text-align: right;\">              0.819065</td><td style=\"text-align: right;\">  1.75502</td><td style=\"text-align: right;\">0.802476</td><td style=\"text-align: right;\">0.643968</td><td style=\"text-align: right;\">  nan</td><td style=\"text-align: right;\">    nan</td></tr>\n<tr><td>GBM_5_AutoML_20210625_210844                       </td><td style=\"text-align: right;\">              0.823243</td><td style=\"text-align: right;\">  1.88283</td><td style=\"text-align: right;\">0.834648</td><td style=\"text-align: right;\">0.696637</td><td style=\"text-align: right;\">  nan</td><td style=\"text-align: right;\">    nan</td></tr>\n<tr><td>DRF_1_AutoML_20210625_210844                       </td><td style=\"text-align: right;\">              0.823351</td><td style=\"text-align: right;\">  5.75227</td><td style=\"text-align: right;\">0.776752</td><td style=\"text-align: right;\">0.603344</td><td style=\"text-align: right;\">  nan</td><td style=\"text-align: right;\">    nan</td></tr>\n</tbody>\n</table>"
     },
     "metadata": {}
    },
    {
     "output_type": "execute_result",
     "data": {
      "text/plain": []
     },
     "metadata": {},
     "execution_count": 426
    }
   ],
   "source": [
    "print(\"[INFO] Models leader board:\")\n",
    "leader_board = automl.leaderboard\n",
    "leader_board.head()"
   ]
  },
  {
   "cell_type": "code",
   "execution_count": 444,
   "metadata": {},
   "outputs": [
    {
     "output_type": "stream",
     "name": "stdout",
     "text": [
      "Parse progress: |█████████████████████████████████████████████████████████| 100%\n"
     ]
    }
   ],
   "source": [
    "h2test = h2o.H2OFrame(X_pred_reduced)"
   ]
  },
  {
   "cell_type": "code",
   "execution_count": 445,
   "metadata": {},
   "outputs": [
    {
     "output_type": "stream",
     "name": "stdout",
     "text": [
      "gbm prediction progress: |████████████████████████████████████████████████| 100%\n",
      "C:\\Users\\Usuario\\AppData\\Local\\Programs\\Python\\Python37\\lib\\site-packages\\h2o\\job.py:72: UserWarning: Test/Validation dataset is missing column 'Number of Visitors with the patient': substituting in a column of NaN\n",
      "  warnings.warn(w)\n"
     ]
    }
   ],
   "source": [
    "predictions = automl.leader.predict(h2test)"
   ]
  },
  {
   "source": [
    "## 7. Train the model with all available data"
   ],
   "cell_type": "markdown",
   "metadata": {}
  },
  {
   "cell_type": "code",
   "execution_count": 428,
   "metadata": {},
   "outputs": [
    {
     "output_type": "execute_result",
     "data": {
      "text/plain": [
       "         1  2  3  4  5                   6  7  8    9      10    11  \\\n",
       "0                                                                     \n",
       "314114  19  a  7  Y  4          gynecology  S  C  2.0   59278   8.0   \n",
       "208989  15  c  5  Z  3          gynecology  S  F  2.0  102253  15.0   \n",
       "305872  17  e  1  X  4          gynecology  R  E  4.0    5828   4.0   \n",
       "266099   3  c  3  Z  4  TB & Chest disease  R  A  2.0   56642   9.0   \n",
       "13228    6  a  6  X  4          gynecology  R  F  1.0  116266   8.0   \n",
       "\n",
       "               12        13  14     15      16  \n",
       "0                                               \n",
       "314114  Emergency     Minor   2  41-50  4778.0  \n",
       "208989     Trauma  Moderate   3  31-40  5734.0  \n",
       "305872  Emergency     Minor   3  71-80  5064.0  \n",
       "266099     Urgent   Extreme   4  31-40  3254.0  \n",
       "13228   Emergency     Minor   3  21-30  4639.0  "
      ],
      "text/html": "<div>\n<style scoped>\n    .dataframe tbody tr th:only-of-type {\n        vertical-align: middle;\n    }\n\n    .dataframe tbody tr th {\n        vertical-align: top;\n    }\n\n    .dataframe thead th {\n        text-align: right;\n    }\n</style>\n<table border=\"1\" class=\"dataframe\">\n  <thead>\n    <tr style=\"text-align: right;\">\n      <th></th>\n      <th>1</th>\n      <th>2</th>\n      <th>3</th>\n      <th>4</th>\n      <th>5</th>\n      <th>6</th>\n      <th>7</th>\n      <th>8</th>\n      <th>9</th>\n      <th>10</th>\n      <th>11</th>\n      <th>12</th>\n      <th>13</th>\n      <th>14</th>\n      <th>15</th>\n      <th>16</th>\n    </tr>\n    <tr>\n      <th>0</th>\n      <th></th>\n      <th></th>\n      <th></th>\n      <th></th>\n      <th></th>\n      <th></th>\n      <th></th>\n      <th></th>\n      <th></th>\n      <th></th>\n      <th></th>\n      <th></th>\n      <th></th>\n      <th></th>\n      <th></th>\n      <th></th>\n    </tr>\n  </thead>\n  <tbody>\n    <tr>\n      <th>314114</th>\n      <td>19</td>\n      <td>a</td>\n      <td>7</td>\n      <td>Y</td>\n      <td>4</td>\n      <td>gynecology</td>\n      <td>S</td>\n      <td>C</td>\n      <td>2.0</td>\n      <td>59278</td>\n      <td>8.0</td>\n      <td>Emergency</td>\n      <td>Minor</td>\n      <td>2</td>\n      <td>41-50</td>\n      <td>4778.0</td>\n    </tr>\n    <tr>\n      <th>208989</th>\n      <td>15</td>\n      <td>c</td>\n      <td>5</td>\n      <td>Z</td>\n      <td>3</td>\n      <td>gynecology</td>\n      <td>S</td>\n      <td>F</td>\n      <td>2.0</td>\n      <td>102253</td>\n      <td>15.0</td>\n      <td>Trauma</td>\n      <td>Moderate</td>\n      <td>3</td>\n      <td>31-40</td>\n      <td>5734.0</td>\n    </tr>\n    <tr>\n      <th>305872</th>\n      <td>17</td>\n      <td>e</td>\n      <td>1</td>\n      <td>X</td>\n      <td>4</td>\n      <td>gynecology</td>\n      <td>R</td>\n      <td>E</td>\n      <td>4.0</td>\n      <td>5828</td>\n      <td>4.0</td>\n      <td>Emergency</td>\n      <td>Minor</td>\n      <td>3</td>\n      <td>71-80</td>\n      <td>5064.0</td>\n    </tr>\n    <tr>\n      <th>266099</th>\n      <td>3</td>\n      <td>c</td>\n      <td>3</td>\n      <td>Z</td>\n      <td>4</td>\n      <td>TB &amp; Chest disease</td>\n      <td>R</td>\n      <td>A</td>\n      <td>2.0</td>\n      <td>56642</td>\n      <td>9.0</td>\n      <td>Urgent</td>\n      <td>Extreme</td>\n      <td>4</td>\n      <td>31-40</td>\n      <td>3254.0</td>\n    </tr>\n    <tr>\n      <th>13228</th>\n      <td>6</td>\n      <td>a</td>\n      <td>6</td>\n      <td>X</td>\n      <td>4</td>\n      <td>gynecology</td>\n      <td>R</td>\n      <td>F</td>\n      <td>1.0</td>\n      <td>116266</td>\n      <td>8.0</td>\n      <td>Emergency</td>\n      <td>Minor</td>\n      <td>3</td>\n      <td>21-30</td>\n      <td>4639.0</td>\n    </tr>\n  </tbody>\n</table>\n</div>"
     },
     "metadata": {},
     "execution_count": 428
    }
   ],
   "source": [
    "X_pred = pd.read_csv(\"hospital_test.csv\", index_col=0)\n",
    "X_pred.head()"
   ]
  },
  {
   "cell_type": "code",
   "execution_count": 429,
   "metadata": {},
   "outputs": [],
   "source": [
    "# Same transformations than before to X_pred are carried out\n",
    "X_pred.rename(columns=dict(zip(X_pred.columns, flat_list[1:])), inplace=True)\n",
    "\n",
    "X_pred_reduced = X_pred.drop([\"Unique code for the Hospital\", \"Region Code of the Hospital\", \"City Code of the Hospital\", \"Unique Patient Id\", \"Deposit at the Admission Time\", \"Number of Visitors with the patient\"], axis =1)\n",
    "\n",
    "features_pred = X_pred_reduced[[\"Unique code for the type of Hospital\", \"Department overlooking the case\"]]\n",
    "features_pred = pd.get_dummies(features_pred)"
   ]
  },
  {
   "cell_type": "code",
   "execution_count": 431,
   "metadata": {},
   "outputs": [],
   "source": [
    "X_pred_reduced.drop(columns=[\"Unique code for the type of Hospital\", \"Department overlooking the case\", \"Code for the Ward type\", \"Code for the Ward Facility\", \"City Code for the patient\"], axis=1, inplace=True)\n",
    "\n",
    "X_pred_reduced = pd.concat([X_pred_reduced, features_pred], axis=1)"
   ]
  },
  {
   "cell_type": "code",
   "execution_count": 430,
   "metadata": {},
   "outputs": [],
   "source": [
    "X_pred_reduced[\"Admission Type registered by the Hospital\"] = X_pred_reduced[\"Admission Type registered by the Hospital\"].replace({'Urgent': 2, 'Trauma': 1, 'Emergency': 3})\n",
    "\n",
    "X_pred_reduced[\"Severity of the illness recorded at the time of admission\"] = X_pred_reduced[\"Severity of the illness recorded at the time of admission\"].replace({'Moderate': 2, 'Extreme': 3, 'Minor': 1})\n",
    "\n",
    "le = preprocessing.LabelEncoder()\n",
    "data_pred = X_pred_reduced[\"Age of the patient\"].values\n",
    "X_pred_reduced[\"Age of the patient\"] = le.fit_transform(data_pred)\n",
    "\n",
    "X_pred_reduced = X_pred_reduced.fillna(0)"
   ]
  },
  {
   "cell_type": "code",
   "execution_count": 443,
   "metadata": {},
   "outputs": [
    {
     "output_type": "execute_result",
     "data": {
      "text/plain": [
       "        Number of Extra rooms available in the Hospital  \\\n",
       "0                                                         \n",
       "314114                                                4   \n",
       "208989                                                3   \n",
       "305872                                                4   \n",
       "266099                                                4   \n",
       "13228                                                 4   \n",
       "...                                                 ...   \n",
       "318155                                                6   \n",
       "144850                                                2   \n",
       "180676                                                3   \n",
       "39933                                                 4   \n",
       "116673                                                4   \n",
       "\n",
       "        Condition of Bed in the Ward  \\\n",
       "0                                      \n",
       "314114                           2.0   \n",
       "208989                           2.0   \n",
       "305872                           4.0   \n",
       "266099                           2.0   \n",
       "13228                            1.0   \n",
       "...                              ...   \n",
       "318155                           3.0   \n",
       "144850                           2.0   \n",
       "180676                           3.0   \n",
       "39933                            2.0   \n",
       "116673                           2.0   \n",
       "\n",
       "        Admission Type registered by the Hospital  \\\n",
       "0                                                   \n",
       "314114                                          3   \n",
       "208989                                          1   \n",
       "305872                                          3   \n",
       "266099                                          2   \n",
       "13228                                           3   \n",
       "...                                           ...   \n",
       "318155                                          2   \n",
       "144850                                          3   \n",
       "180676                                          1   \n",
       "39933                                           1   \n",
       "116673                                          1   \n",
       "\n",
       "        Severity of the illness recorded at the time of admission  \\\n",
       "0                                                                   \n",
       "314114                                                          1   \n",
       "208989                                                          2   \n",
       "305872                                                          1   \n",
       "266099                                                          3   \n",
       "13228                                                           1   \n",
       "...                                                           ...   \n",
       "318155                                                          1   \n",
       "144850                                                          2   \n",
       "180676                                                          1   \n",
       "39933                                                           3   \n",
       "116673                                                          2   \n",
       "\n",
       "        Age of the patient  Unique code for the type of Hospital_a  \\\n",
       "0                                                                    \n",
       "314114                   4                                       1   \n",
       "208989                   3                                       0   \n",
       "305872                   7                                       0   \n",
       "266099                   3                                       0   \n",
       "13228                    2                                       1   \n",
       "...                    ...                                     ...   \n",
       "318155                   5                                       0   \n",
       "144850                   6                                       1   \n",
       "180676                   3                                       0   \n",
       "39933                    3                                       0   \n",
       "116673                   5                                       1   \n",
       "\n",
       "        Unique code for the type of Hospital_b  \\\n",
       "0                                                \n",
       "314114                                       0   \n",
       "208989                                       0   \n",
       "305872                                       0   \n",
       "266099                                       0   \n",
       "13228                                        0   \n",
       "...                                        ...   \n",
       "318155                                       0   \n",
       "144850                                       0   \n",
       "180676                                       0   \n",
       "39933                                        1   \n",
       "116673                                       0   \n",
       "\n",
       "        Unique code for the type of Hospital_c  \\\n",
       "0                                                \n",
       "314114                                       0   \n",
       "208989                                       1   \n",
       "305872                                       0   \n",
       "266099                                       1   \n",
       "13228                                        0   \n",
       "...                                        ...   \n",
       "318155                                       0   \n",
       "144850                                       0   \n",
       "180676                                       1   \n",
       "39933                                        0   \n",
       "116673                                       0   \n",
       "\n",
       "        Unique code for the type of Hospital_d  \\\n",
       "0                                                \n",
       "314114                                       0   \n",
       "208989                                       0   \n",
       "305872                                       0   \n",
       "266099                                       0   \n",
       "13228                                        0   \n",
       "...                                        ...   \n",
       "318155                                       1   \n",
       "144850                                       0   \n",
       "180676                                       0   \n",
       "39933                                        0   \n",
       "116673                                       0   \n",
       "\n",
       "        Unique code for the type of Hospital_e  \\\n",
       "0                                                \n",
       "314114                                       0   \n",
       "208989                                       0   \n",
       "305872                                       1   \n",
       "266099                                       0   \n",
       "13228                                        0   \n",
       "...                                        ...   \n",
       "318155                                       0   \n",
       "144850                                       0   \n",
       "180676                                       0   \n",
       "39933                                        0   \n",
       "116673                                       0   \n",
       "\n",
       "        Unique code for the type of Hospital_f  \\\n",
       "0                                                \n",
       "314114                                       0   \n",
       "208989                                       0   \n",
       "305872                                       0   \n",
       "266099                                       0   \n",
       "13228                                        0   \n",
       "...                                        ...   \n",
       "318155                                       0   \n",
       "144850                                       0   \n",
       "180676                                       0   \n",
       "39933                                        0   \n",
       "116673                                       0   \n",
       "\n",
       "        Unique code for the type of Hospital_g  \\\n",
       "0                                                \n",
       "314114                                       0   \n",
       "208989                                       0   \n",
       "305872                                       0   \n",
       "266099                                       0   \n",
       "13228                                        0   \n",
       "...                                        ...   \n",
       "318155                                       0   \n",
       "144850                                       0   \n",
       "180676                                       0   \n",
       "39933                                        0   \n",
       "116673                                       0   \n",
       "\n",
       "        Department overlooking the case_TB & Chest disease  \\\n",
       "0                                                            \n",
       "314114                                                   0   \n",
       "208989                                                   0   \n",
       "305872                                                   0   \n",
       "266099                                                   1   \n",
       "13228                                                    0   \n",
       "...                                                    ...   \n",
       "318155                                                   0   \n",
       "144850                                                   0   \n",
       "180676                                                   0   \n",
       "39933                                                    0   \n",
       "116673                                                   1   \n",
       "\n",
       "        Department overlooking the case_anesthesia  \\\n",
       "0                                                    \n",
       "314114                                           0   \n",
       "208989                                           0   \n",
       "305872                                           0   \n",
       "266099                                           0   \n",
       "13228                                            0   \n",
       "...                                            ...   \n",
       "318155                                           1   \n",
       "144850                                           0   \n",
       "180676                                           0   \n",
       "39933                                            0   \n",
       "116673                                           0   \n",
       "\n",
       "        Department overlooking the case_gynecology  \\\n",
       "0                                                    \n",
       "314114                                           1   \n",
       "208989                                           1   \n",
       "305872                                           1   \n",
       "266099                                           0   \n",
       "13228                                            1   \n",
       "...                                            ...   \n",
       "318155                                           0   \n",
       "144850                                           1   \n",
       "180676                                           1   \n",
       "39933                                            1   \n",
       "116673                                           0   \n",
       "\n",
       "        Department overlooking the case_radiotherapy  \\\n",
       "0                                                      \n",
       "314114                                             0   \n",
       "208989                                             0   \n",
       "305872                                             0   \n",
       "266099                                             0   \n",
       "13228                                              0   \n",
       "...                                              ...   \n",
       "318155                                             0   \n",
       "144850                                             0   \n",
       "180676                                             0   \n",
       "39933                                              0   \n",
       "116673                                             0   \n",
       "\n",
       "        Department overlooking the case_surgery  \n",
       "0                                                \n",
       "314114                                        0  \n",
       "208989                                        0  \n",
       "305872                                        0  \n",
       "266099                                        0  \n",
       "13228                                         0  \n",
       "...                                         ...  \n",
       "318155                                        0  \n",
       "144850                                        0  \n",
       "180676                                        0  \n",
       "39933                                         0  \n",
       "116673                                        0  \n",
       "\n",
       "[133744 rows x 17 columns]"
      ],
      "text/html": "<div>\n<style scoped>\n    .dataframe tbody tr th:only-of-type {\n        vertical-align: middle;\n    }\n\n    .dataframe tbody tr th {\n        vertical-align: top;\n    }\n\n    .dataframe thead th {\n        text-align: right;\n    }\n</style>\n<table border=\"1\" class=\"dataframe\">\n  <thead>\n    <tr style=\"text-align: right;\">\n      <th></th>\n      <th>Number of Extra rooms available in the Hospital</th>\n      <th>Condition of Bed in the Ward</th>\n      <th>Admission Type registered by the Hospital</th>\n      <th>Severity of the illness recorded at the time of admission</th>\n      <th>Age of the patient</th>\n      <th>Unique code for the type of Hospital_a</th>\n      <th>Unique code for the type of Hospital_b</th>\n      <th>Unique code for the type of Hospital_c</th>\n      <th>Unique code for the type of Hospital_d</th>\n      <th>Unique code for the type of Hospital_e</th>\n      <th>Unique code for the type of Hospital_f</th>\n      <th>Unique code for the type of Hospital_g</th>\n      <th>Department overlooking the case_TB &amp; Chest disease</th>\n      <th>Department overlooking the case_anesthesia</th>\n      <th>Department overlooking the case_gynecology</th>\n      <th>Department overlooking the case_radiotherapy</th>\n      <th>Department overlooking the case_surgery</th>\n    </tr>\n    <tr>\n      <th>0</th>\n      <th></th>\n      <th></th>\n      <th></th>\n      <th></th>\n      <th></th>\n      <th></th>\n      <th></th>\n      <th></th>\n      <th></th>\n      <th></th>\n      <th></th>\n      <th></th>\n      <th></th>\n      <th></th>\n      <th></th>\n      <th></th>\n      <th></th>\n    </tr>\n  </thead>\n  <tbody>\n    <tr>\n      <th>314114</th>\n      <td>4</td>\n      <td>2.0</td>\n      <td>3</td>\n      <td>1</td>\n      <td>4</td>\n      <td>1</td>\n      <td>0</td>\n      <td>0</td>\n      <td>0</td>\n      <td>0</td>\n      <td>0</td>\n      <td>0</td>\n      <td>0</td>\n      <td>0</td>\n      <td>1</td>\n      <td>0</td>\n      <td>0</td>\n    </tr>\n    <tr>\n      <th>208989</th>\n      <td>3</td>\n      <td>2.0</td>\n      <td>1</td>\n      <td>2</td>\n      <td>3</td>\n      <td>0</td>\n      <td>0</td>\n      <td>1</td>\n      <td>0</td>\n      <td>0</td>\n      <td>0</td>\n      <td>0</td>\n      <td>0</td>\n      <td>0</td>\n      <td>1</td>\n      <td>0</td>\n      <td>0</td>\n    </tr>\n    <tr>\n      <th>305872</th>\n      <td>4</td>\n      <td>4.0</td>\n      <td>3</td>\n      <td>1</td>\n      <td>7</td>\n      <td>0</td>\n      <td>0</td>\n      <td>0</td>\n      <td>0</td>\n      <td>1</td>\n      <td>0</td>\n      <td>0</td>\n      <td>0</td>\n      <td>0</td>\n      <td>1</td>\n      <td>0</td>\n      <td>0</td>\n    </tr>\n    <tr>\n      <th>266099</th>\n      <td>4</td>\n      <td>2.0</td>\n      <td>2</td>\n      <td>3</td>\n      <td>3</td>\n      <td>0</td>\n      <td>0</td>\n      <td>1</td>\n      <td>0</td>\n      <td>0</td>\n      <td>0</td>\n      <td>0</td>\n      <td>1</td>\n      <td>0</td>\n      <td>0</td>\n      <td>0</td>\n      <td>0</td>\n    </tr>\n    <tr>\n      <th>13228</th>\n      <td>4</td>\n      <td>1.0</td>\n      <td>3</td>\n      <td>1</td>\n      <td>2</td>\n      <td>1</td>\n      <td>0</td>\n      <td>0</td>\n      <td>0</td>\n      <td>0</td>\n      <td>0</td>\n      <td>0</td>\n      <td>0</td>\n      <td>0</td>\n      <td>1</td>\n      <td>0</td>\n      <td>0</td>\n    </tr>\n    <tr>\n      <th>...</th>\n      <td>...</td>\n      <td>...</td>\n      <td>...</td>\n      <td>...</td>\n      <td>...</td>\n      <td>...</td>\n      <td>...</td>\n      <td>...</td>\n      <td>...</td>\n      <td>...</td>\n      <td>...</td>\n      <td>...</td>\n      <td>...</td>\n      <td>...</td>\n      <td>...</td>\n      <td>...</td>\n      <td>...</td>\n    </tr>\n    <tr>\n      <th>318155</th>\n      <td>6</td>\n      <td>3.0</td>\n      <td>2</td>\n      <td>1</td>\n      <td>5</td>\n      <td>0</td>\n      <td>0</td>\n      <td>0</td>\n      <td>1</td>\n      <td>0</td>\n      <td>0</td>\n      <td>0</td>\n      <td>0</td>\n      <td>1</td>\n      <td>0</td>\n      <td>0</td>\n      <td>0</td>\n    </tr>\n    <tr>\n      <th>144850</th>\n      <td>2</td>\n      <td>2.0</td>\n      <td>3</td>\n      <td>2</td>\n      <td>6</td>\n      <td>1</td>\n      <td>0</td>\n      <td>0</td>\n      <td>0</td>\n      <td>0</td>\n      <td>0</td>\n      <td>0</td>\n      <td>0</td>\n      <td>0</td>\n      <td>1</td>\n      <td>0</td>\n      <td>0</td>\n    </tr>\n    <tr>\n      <th>180676</th>\n      <td>3</td>\n      <td>3.0</td>\n      <td>1</td>\n      <td>1</td>\n      <td>3</td>\n      <td>0</td>\n      <td>0</td>\n      <td>1</td>\n      <td>0</td>\n      <td>0</td>\n      <td>0</td>\n      <td>0</td>\n      <td>0</td>\n      <td>0</td>\n      <td>1</td>\n      <td>0</td>\n      <td>0</td>\n    </tr>\n    <tr>\n      <th>39933</th>\n      <td>4</td>\n      <td>2.0</td>\n      <td>1</td>\n      <td>3</td>\n      <td>3</td>\n      <td>0</td>\n      <td>1</td>\n      <td>0</td>\n      <td>0</td>\n      <td>0</td>\n      <td>0</td>\n      <td>0</td>\n      <td>0</td>\n      <td>0</td>\n      <td>1</td>\n      <td>0</td>\n      <td>0</td>\n    </tr>\n    <tr>\n      <th>116673</th>\n      <td>4</td>\n      <td>2.0</td>\n      <td>1</td>\n      <td>2</td>\n      <td>5</td>\n      <td>1</td>\n      <td>0</td>\n      <td>0</td>\n      <td>0</td>\n      <td>0</td>\n      <td>0</td>\n      <td>0</td>\n      <td>1</td>\n      <td>0</td>\n      <td>0</td>\n      <td>0</td>\n      <td>0</td>\n    </tr>\n  </tbody>\n</table>\n<p>133744 rows × 17 columns</p>\n</div>"
     },
     "metadata": {},
     "execution_count": 443
    }
   ],
   "source": [
    "X_pred_reduced"
   ]
  },
  {
   "source": [
    "## 8. Prediction with all data"
   ],
   "cell_type": "markdown",
   "metadata": {}
  },
  {
   "cell_type": "code",
   "execution_count": 433,
   "metadata": {},
   "outputs": [
    {
     "output_type": "stream",
     "name": "stderr",
     "text": [
      "C:\\Users\\Usuario\\AppData\\Local\\Programs\\Python\\Python37\\lib\\site-packages\\sklearn\\utils\\validation.py:63: DataConversionWarning: A column-vector y was passed when a 1d array was expected. Please change the shape of y to (n_samples, ), for example using ravel().\n  return f(*args, **kwargs)\n"
     ]
    },
    {
     "output_type": "execute_result",
     "data": {
      "text/plain": [
       "VotingClassifier(estimators=[('forest',\n",
       "                              RandomForestClassifier(random_state=42)),\n",
       "                             ('cat',\n",
       "                              <catboost.core.CatBoostClassifier object at 0x000001560F9898C8>)],\n",
       "                 voting='soft')"
      ]
     },
     "metadata": {},
     "execution_count": 433
    }
   ],
   "source": [
    "voting_clf.fit(X, y)"
   ]
  },
  {
   "cell_type": "code",
   "execution_count": 434,
   "metadata": {},
   "outputs": [
    {
     "output_type": "execute_result",
     "data": {
      "text/plain": [
       "array(['11-20', '21-30', '21-30', ..., '11-20', '21-30', '21-30'],\n",
       "      dtype=object)"
      ]
     },
     "metadata": {},
     "execution_count": 434
    }
   ],
   "source": [
    "predictions_submit = voting_clf.predict(X_pred_reduced)\n",
    "predictions_submit"
   ]
  },
  {
   "source": [
    "## **Submission to Kaggle**\n"
   ],
   "cell_type": "markdown",
   "metadata": {}
  },
  {
   "cell_type": "code",
   "execution_count": 435,
   "metadata": {},
   "outputs": [],
   "source": [
    "sample = pd.read_csv(\"sample_submission.csv\")"
   ]
  },
  {
   "cell_type": "code",
   "execution_count": 436,
   "metadata": {},
   "outputs": [
    {
     "output_type": "execute_result",
     "data": {
      "text/plain": [
       "       id   days\n",
       "0  314114  11-20\n",
       "1  208989  31-40\n",
       "2  305872  81-90\n",
       "3  266099  21-30\n",
       "4   13228  31-40"
      ],
      "text/html": "<div>\n<style scoped>\n    .dataframe tbody tr th:only-of-type {\n        vertical-align: middle;\n    }\n\n    .dataframe tbody tr th {\n        vertical-align: top;\n    }\n\n    .dataframe thead th {\n        text-align: right;\n    }\n</style>\n<table border=\"1\" class=\"dataframe\">\n  <thead>\n    <tr style=\"text-align: right;\">\n      <th></th>\n      <th>id</th>\n      <th>days</th>\n    </tr>\n  </thead>\n  <tbody>\n    <tr>\n      <th>0</th>\n      <td>314114</td>\n      <td>11-20</td>\n    </tr>\n    <tr>\n      <th>1</th>\n      <td>208989</td>\n      <td>31-40</td>\n    </tr>\n    <tr>\n      <th>2</th>\n      <td>305872</td>\n      <td>81-90</td>\n    </tr>\n    <tr>\n      <th>3</th>\n      <td>266099</td>\n      <td>21-30</td>\n    </tr>\n    <tr>\n      <th>4</th>\n      <td>13228</td>\n      <td>31-40</td>\n    </tr>\n  </tbody>\n</table>\n</div>"
     },
     "metadata": {},
     "execution_count": 436
    }
   ],
   "source": [
    "sample.head()"
   ]
  },
  {
   "cell_type": "code",
   "execution_count": 437,
   "metadata": {},
   "outputs": [
    {
     "output_type": "execute_result",
     "data": {
      "text/plain": [
       "array(['11-20', '21-30', '21-30', ..., '11-20', '21-30', '21-30'],\n",
       "      dtype=object)"
      ]
     },
     "metadata": {},
     "execution_count": 437
    }
   ],
   "source": [
    "predictions_submit"
   ]
  },
  {
   "cell_type": "code",
   "execution_count": 438,
   "metadata": {},
   "outputs": [
    {
     "output_type": "execute_result",
     "data": {
      "text/plain": [
       "            id   days\n",
       "0       314114  11-20\n",
       "1       208989  21-30\n",
       "2       305872  21-30\n",
       "3       266099  51-60\n",
       "4        13228   0-10\n",
       "...        ...    ...\n",
       "133739  318155  11-20\n",
       "133740  144850  11-20\n",
       "133741  180676  11-20\n",
       "133742   39933  21-30\n",
       "133743  116673  21-30\n",
       "\n",
       "[133744 rows x 2 columns]"
      ],
      "text/html": "<div>\n<style scoped>\n    .dataframe tbody tr th:only-of-type {\n        vertical-align: middle;\n    }\n\n    .dataframe tbody tr th {\n        vertical-align: top;\n    }\n\n    .dataframe thead th {\n        text-align: right;\n    }\n</style>\n<table border=\"1\" class=\"dataframe\">\n  <thead>\n    <tr style=\"text-align: right;\">\n      <th></th>\n      <th>id</th>\n      <th>days</th>\n    </tr>\n  </thead>\n  <tbody>\n    <tr>\n      <th>0</th>\n      <td>314114</td>\n      <td>11-20</td>\n    </tr>\n    <tr>\n      <th>1</th>\n      <td>208989</td>\n      <td>21-30</td>\n    </tr>\n    <tr>\n      <th>2</th>\n      <td>305872</td>\n      <td>21-30</td>\n    </tr>\n    <tr>\n      <th>3</th>\n      <td>266099</td>\n      <td>51-60</td>\n    </tr>\n    <tr>\n      <th>4</th>\n      <td>13228</td>\n      <td>0-10</td>\n    </tr>\n    <tr>\n      <th>...</th>\n      <td>...</td>\n      <td>...</td>\n    </tr>\n    <tr>\n      <th>133739</th>\n      <td>318155</td>\n      <td>11-20</td>\n    </tr>\n    <tr>\n      <th>133740</th>\n      <td>144850</td>\n      <td>11-20</td>\n    </tr>\n    <tr>\n      <th>133741</th>\n      <td>180676</td>\n      <td>11-20</td>\n    </tr>\n    <tr>\n      <th>133742</th>\n      <td>39933</td>\n      <td>21-30</td>\n    </tr>\n    <tr>\n      <th>133743</th>\n      <td>116673</td>\n      <td>21-30</td>\n    </tr>\n  </tbody>\n</table>\n<p>133744 rows × 2 columns</p>\n</div>"
     },
     "metadata": {},
     "execution_count": 438
    }
   ],
   "source": [
    "submission = pd.DataFrame({\"id\": sample[\"id\"], \"days\": predictions_submit})\n",
    "submission"
   ]
  },
  {
   "source": [
    "## 5. Pásale el CHEQUEATOR para comprobar que efectivamente está listo para subir a Kaggle.\n"
   ],
   "cell_type": "markdown",
   "metadata": {}
  },
  {
   "cell_type": "code",
   "execution_count": 439,
   "metadata": {},
   "outputs": [],
   "source": [
    "def chequeator(df_to_submit):\n",
    "    \"\"\"\n",
    "    Esta función se asegura de que tu submission tenga la forma requerida por Kaggle.\n",
    "    \n",
    "    Si es así, se guardará el dataframe en un `csv` y estará listo para subir a Kaggle.\n",
    "    \n",
    "    Si no, LEE EL MENSAJE Y HAZLE CASO.\n",
    "    \n",
    "    Si aún no:\n",
    "    - apaga tu ordenador, \n",
    "    - date una vuelta, \n",
    "    - enciendelo otra vez, \n",
    "    - abre este notebook y \n",
    "    - leelo todo de nuevo. \n",
    "    Todos nos merecemos una segunda oportunidad. También tú.\n",
    "    \"\"\"\n",
    "    if df_to_submit.shape == sample.shape:\n",
    "        if df_to_submit.columns.all() == sample.columns.all():\n",
    "            if df_to_submit.id.all() == sample.id.all():\n",
    "                print(\"You're ready to submit!\")\n",
    "                submission.to_csv(\"submission.csv\", index = False) #muy importante el index = False\n",
    "                urllib.request.urlretrieve(\"https://i.kym-cdn.com/photos/images/facebook/000/747/556/27a.jpg\", \"gfg.png\")     \n",
    "                img = Image.open(\"gfg.png\")\n",
    "                img.show()   \n",
    "            else:\n",
    "                print(\"Check the ids and try again\")\n",
    "        else:\n",
    "            print(\"Check the names of the columns and try again\")\n",
    "    else:\n",
    "        print(\"Check the number of rows and/or columns and try again\")\n",
    "        print(\"\\nMensaje secreto de Clara: No me puedo creer que después de todo este notebook hayas hecho algún cambio en las filas de `diamonds_test.csv`. Lloro.\")"
   ]
  },
  {
   "cell_type": "code",
   "execution_count": 440,
   "metadata": {},
   "outputs": [
    {
     "output_type": "stream",
     "name": "stdout",
     "text": [
      "You're ready to submit!\n"
     ]
    }
   ],
   "source": [
    "chequeator(submission)"
   ]
  },
  {
   "cell_type": "code",
   "execution_count": null,
   "metadata": {},
   "outputs": [],
   "source": []
  }
 ]
}