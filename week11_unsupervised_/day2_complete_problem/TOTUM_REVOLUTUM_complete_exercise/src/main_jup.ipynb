{
 "metadata": {
  "language_info": {
   "codemirror_mode": {
    "name": "ipython",
    "version": 3
   },
   "file_extension": ".py",
   "mimetype": "text/x-python",
   "name": "python",
   "nbconvert_exporter": "python",
   "pygments_lexer": "ipython3",
   "version": "3.7.4"
  },
  "orig_nbformat": 2,
  "kernelspec": {
   "name": "python3",
   "display_name": "Python 3.7.4 64-bit"
  },
  "interpreter": {
   "hash": "2d8a740277f67c33143a8e5c8e55f738530a350d8def4a85d8635b690074994c"
  }
 },
 "nbformat": 4,
 "nbformat_minor": 2,
 "cells": [
  {
   "cell_type": "code",
   "execution_count": null,
   "metadata": {},
   "outputs": [],
   "source": [
    "\"\"\" Siempre que veas 'pass' es un TO-DO (por hacer)\"\"\"\n",
    "\"\"\"1\"\"\"\n",
    "# Llama a la función 'mi_funcion' que está en /flask/api.py. No puede dar error."
   ]
  },
  {
   "cell_type": "code",
   "execution_count": 50,
   "metadata": {},
   "outputs": [
    {
     "output_type": "execute_result",
     "data": {
      "text/plain": [
       "'Soy función flask'"
      ]
     },
     "metadata": {},
     "execution_count": 50
    }
   ],
   "source": [
    "import sys \n",
    "import os \n",
    "\n",
    "path = os.getcwd() + os.sep + \"flask\"\n",
    "sys.path.append(path)\n",
    "\n",
    "import api\n",
    "\n",
    "api.mi_funcion()"
   ]
  },
  {
   "cell_type": "code",
   "execution_count": null,
   "metadata": {},
   "outputs": [],
   "source": []
  }
 ]
}