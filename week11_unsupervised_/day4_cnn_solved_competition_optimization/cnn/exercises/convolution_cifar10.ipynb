{
 "cells": [
  {
   "cell_type": "markdown",
   "metadata": {},
   "source": [
    "### 1.\n",
    "\n",
    "A partir del dataset mnist (tf.keras.datasets.cifar10.load_data()), realiza una clasificación usando:\n",
    "\n",
    "** Las imágenes son a color, es decir, tienen 3 dimensiones (rgb). Para este problema, antes de empezar, transforma las imágenes a blanco y negro para que tengan 1 sola dimensión de profundidad **. \n",
    "\n",
    "1. Una CNN con:\n",
    "    - 1 capa convolutiva con 8 neuronas\n",
    "    - 1 MaxPool quedando las dimensiones de la imagen a la mitad\n",
    "    - 1 dropout 0.25\n",
    "    - 1 Flatten\n",
    "    - 1 dense con 32 neuronas\n",
    "    - 1 dense con 10 (salida)\n",
    "\n",
    "2. Una CNN con:\n",
    "    - 1 capa convolutiva con 8 neuronas\n",
    "    - 1 MaxPool quedando las dimensiones de la imagen a la mitad\n",
    "    - 1 dropout 0.25\n",
    "    - 1 Flatten\n",
    "    - 1 dense con 16 neuronas\n",
    "    - 1 dense con 32 neuronas\n",
    "    - 1 dense con 10 (salida)\n",
    "\n",
    "¿ Cuál ha dado mejor resultado?\n",
    "\n",
    "Para compilar el modelo, usa:"
   ]
  },
  {
   "cell_type": "code",
   "execution_count": 127,
   "metadata": {},
   "outputs": [
    {
     "name": "stdout",
     "output_type": "stream",
     "text": [
      "2.5.0\n"
     ]
    }
   ],
   "source": [
    "# TensorFlow y tf.keras\r\n",
    "import tensorflow as tf\r\n",
    "from tensorflow import keras\r\n",
    "from keras.layers import Dropout\r\n",
    "\r\n",
    "# Librerias de ayuda\r\n",
    "import numpy as np\r\n",
    "import matplotlib.pyplot as plt\r\n",
    "\r\n",
    "print(tf.__version__)"
   ]
  },
  {
   "cell_type": "code",
   "execution_count": 128,
   "metadata": {},
   "outputs": [],
   "source": [
    "#model.compile(optimizer='adam',\r\n",
    " #             loss='sparse_categorical_crossentropy',\r\n",
    "  #            metrics=['accuracy'])"
   ]
  },
  {
   "cell_type": "code",
   "execution_count": 129,
   "metadata": {},
   "outputs": [],
   "source": [
    "data = keras.datasets.cifar10\r\n",
    "#print(keras.datasets.cifar10.load_data())\r\n",
    "(train_images, train_labels), (test_images, test_labels) = data.load_data()"
   ]
  },
  {
   "cell_type": "code",
   "execution_count": 130,
   "metadata": {},
   "outputs": [
    {
     "name": "stdout",
     "output_type": "stream",
     "text": [
      "train images shape: (50000, 32, 32, 3)\n",
      "train labes shape: (50000, 1)\n",
      "test images shape: (10000, 32, 32, 3)\n",
      "test labes shape: (10000, 1)\n"
     ]
    }
   ],
   "source": [
    "# data analysis\r\n",
    "print(f\"train images shape: {train_images.shape}\")\r\n",
    "print(f\"train labes shape: {train_labels.shape}\")\r\n",
    "\r\n",
    "print(f\"test images shape: {test_images.shape}\")\r\n",
    "print(f\"test labes shape: {test_labels.shape}\")"
   ]
  },
  {
   "cell_type": "code",
   "execution_count": 131,
   "metadata": {},
   "outputs": [
    {
     "data": {
      "text/plain": [
       "(50000, 32, 32)"
      ]
     },
     "execution_count": 131,
     "metadata": {},
     "output_type": "execute_result"
    }
   ],
   "source": [
    "from skimage.color import rgb2gray\r\n",
    "\r\n",
    "# transform 3D images to 2D\r\n",
    "train_images = rgb2gray(train_images)\r\n",
    "train_images.shape"
   ]
  },
  {
   "cell_type": "code",
   "execution_count": 132,
   "metadata": {},
   "outputs": [
    {
     "data": {
      "image/png": "[encoded data removed]",
      "text/plain": [
       "<Figure size 432x288 with 2 Axes>"
      ]
     },
     "metadata": {
      "needs_background": "light"
     },
     "output_type": "display_data"
    }
   ],
   "source": [
    "plt.figure()\r\n",
    "plt.imshow(train_images[0], cmap=plt.cm.gray)\r\n",
    "plt.colorbar()\r\n",
    "plt.grid(False)\r\n",
    "\r\n",
    "plt.show()"
   ]
  },
  {
   "cell_type": "markdown",
   "metadata": {},
   "source": [
    "1. Una CNN con:\r\n",
    "    - 1 capa convolutiva con 8 neuronas\r\n",
    "    - 1 MaxPool quedando las dimensiones de la imagen a la mitad\r\n",
    "    - 1 dropout 0.25\r\n",
    "    - 1 Flatten\r\n",
    "    - 1 dense con 32 neuronas\r\n",
    "    - 1 dense con 10 (salida)"
   ]
  },
  {
   "cell_type": "code",
   "execution_count": 133,
   "metadata": {},
   "outputs": [
    {
     "name": "stdout",
     "output_type": "stream",
     "text": [
      "Model: \"sequential_9\"\n",
      "_________________________________________________________________\n",
      "Layer (type)                 Output Shape              Param #   \n",
      "=================================================================\n",
      "conv2d_9 (Conv2D)            (None, 30, 30, 8)         80        \n",
      "_________________________________________________________________\n",
      "max_pooling2d_9 (MaxPooling2 (None, 15, 15, 8)         0         \n",
      "_________________________________________________________________\n",
      "dropout_9 (Dropout)          (None, 15, 15, 8)         0         \n",
      "_________________________________________________________________\n",
      "flatten_9 (Flatten)          (None, 1800)              0         \n",
      "_________________________________________________________________\n",
      "dense_19 (Dense)             (None, 32)                57632     \n",
      "_________________________________________________________________\n",
      "dense_20 (Dense)             (None, 10)                330       \n",
      "=================================================================\n",
      "Total params: 58,042\n",
      "Trainable params: 58,042\n",
      "Non-trainable params: 0\n",
      "_________________________________________________________________\n"
     ]
    }
   ],
   "source": [
    "# model 1\r\n",
    "model = keras.Sequential([\r\n",
    "    keras.layers.Conv2D(filters=8, \r\n",
    "                        kernel_size=(3, 3), \r\n",
    "                        input_shape=(32, 32, 1), \r\n",
    "                        padding=\"valid\"),\r\n",
    "    keras.layers.MaxPooling2D(2, 2),\r\n",
    "    keras.layers.Dropout(0.25),\r\n",
    "    keras.layers.Flatten(),\r\n",
    "    keras.layers.Dense(32, activation=\"relu\"),\r\n",
    "    keras.layers.Dense(10, activation=\"softmax\")\r\n",
    "])\r\n",
    "\r\n",
    "model.compile(optimizer='adam',\r\n",
    "              loss='sparse_categorical_crossentropy',\r\n",
    "              metrics=['accuracy'])\r\n",
    "              \r\n",
    "model.summary()"
   ]
  },
  {
   "cell_type": "code",
   "execution_count": 134,
   "metadata": {},
   "outputs": [
    {
     "name": "stdout",
     "output_type": "stream",
     "text": [
      "(50000, 32, 32, 1)\n"
     ]
    }
   ],
   "source": [
    "train_images = np.expand_dims(train_images, axis=-1) \r\n",
    "print(train_images.shape)"
   ]
  },
  {
   "cell_type": "code",
   "execution_count": 112,
   "metadata": {},
   "outputs": [
    {
     "name": "stdout",
     "output_type": "stream",
     "text": [
      "Epoch 1/10\n",
      "1563/1563 [==============================] - 4s 3ms/step - loss: 1.8314 - accuracy: 0.3469\n",
      "Epoch 2/10\n",
      "1563/1563 [==============================] - 4s 3ms/step - loss: 1.5429 - accuracy: 0.4619\n",
      "Epoch 3/10\n",
      "1563/1563 [==============================] - 4s 3ms/step - loss: 1.4434 - accuracy: 0.4989\n",
      "Epoch 4/10\n",
      "1563/1563 [==============================] - 4s 3ms/step - loss: 1.3818 - accuracy: 0.5193\n",
      "Epoch 5/10\n",
      "1563/1563 [==============================] - 4s 3ms/step - loss: 1.3384 - accuracy: 0.5336\n",
      "Epoch 6/10\n",
      "1563/1563 [==============================] - 4s 3ms/step - loss: 1.3060 - accuracy: 0.5476\n",
      "Epoch 7/10\n",
      "1563/1563 [==============================] - 4s 3ms/step - loss: 1.2784 - accuracy: 0.5560\n",
      "Epoch 8/10\n",
      "1563/1563 [==============================] - 4s 3ms/step - loss: 1.2510 - accuracy: 0.5647\n",
      "Epoch 9/10\n",
      "1563/1563 [==============================] - 4s 3ms/step - loss: 1.2328 - accuracy: 0.5705\n",
      "Epoch 10/10\n",
      "1563/1563 [==============================] - 4s 3ms/step - loss: 1.2120 - accuracy: 0.5787\n"
     ]
    },
    {
     "data": {
      "text/plain": [
       "<tensorflow.python.keras.callbacks.History at 0x227b8d5da48>"
      ]
     },
     "execution_count": 112,
     "metadata": {},
     "output_type": "execute_result"
    }
   ],
   "source": [
    "# training the model\r\n",
    "model.fit(train_images, train_labels, epochs=10)"
   ]
  },
  {
   "cell_type": "code",
   "execution_count": 135,
   "metadata": {},
   "outputs": [],
   "source": [
    "test_images = rgb2gray(test_images) \r\n",
    "test_images = np.expand_dims(test_images, axis=-1) \r\n",
    "\r\n",
    "test_images.shape"
   ]
  },
  {
   "cell_type": "code",
   "execution_count": 138,
   "metadata": {},
   "outputs": [
    {
     "name": "stdout",
     "output_type": "stream",
     "text": [
      "313/313 - 0s - loss: 2.3411 - accuracy: 0.0985\n",
      "\n",
      "Test accuracy: 0.09849999845027924\n"
     ]
    }
   ],
   "source": [
    "# Accuracy \r\n",
    "test_loss, test_acc = model.evaluate(test_images, test_labels, verbose=2)\r\n",
    "\r\n",
    "print('\\nTest accuracy:', test_acc)"
   ]
  },
  {
   "cell_type": "code",
   "execution_count": null,
   "metadata": {},
   "outputs": [],
   "source": []
  },
  {
   "cell_type": "markdown",
   "metadata": {},
   "source": [
    "2. Una CNN con:\r\n",
    "    - 1 capa convolutiva con 8 neuronas\r\n",
    "    - 1 MaxPool quedando las dimensiones de la imagen a la mitad\r\n",
    "    - 1 dropout 0.25\r\n",
    "    - 1 Flatten\r\n",
    "    - 1 dense con 16 neuronas\r\n",
    "    - 1 dense con 32 neuronas\r\n",
    "    - 1 dense con 10 (salida)"
   ]
  },
  {
   "cell_type": "code",
   "execution_count": 101,
   "metadata": {},
   "outputs": [
    {
     "name": "stdout",
     "output_type": "stream",
     "text": [
      "Model: \"sequential_6\"\n",
      "_________________________________________________________________\n",
      "Layer (type)                 Output Shape              Param #   \n",
      "=================================================================\n",
      "conv2d_6 (Conv2D)            (None, 30, 30, 8)         80        \n",
      "_________________________________________________________________\n",
      "max_pooling2d_6 (MaxPooling2 (None, 15, 15, 8)         0         \n",
      "_________________________________________________________________\n",
      "dropout_6 (Dropout)          (None, 15, 15, 8)         0         \n",
      "_________________________________________________________________\n",
      "flatten_6 (Flatten)          (None, 1800)              0         \n",
      "_________________________________________________________________\n",
      "dense_12 (Dense)             (None, 16)                28816     \n",
      "_________________________________________________________________\n",
      "dense_13 (Dense)             (None, 32)                544       \n",
      "_________________________________________________________________\n",
      "dense_14 (Dense)             (None, 10)                330       \n",
      "=================================================================\n",
      "Total params: 29,770\n",
      "Trainable params: 29,770\n",
      "Non-trainable params: 0\n",
      "_________________________________________________________________\n"
     ]
    }
   ],
   "source": [
    "# model 2\r\n",
    "model_2 = keras.Sequential([\r\n",
    "    keras.layers.Conv2D(filters=8, \r\n",
    "                        kernel_size=(3, 3), \r\n",
    "                        input_shape=(32, 32, 1), \r\n",
    "                        padding=\"valid\"),\r\n",
    "    keras.layers.MaxPooling2D(2, 2),\r\n",
    "    keras.layers.Dropout(0.25),\r\n",
    "    keras.layers.Flatten(),\r\n",
    "    keras.layers.Dense(16, activation=\"relu\"),\r\n",
    "    keras.layers.Dense(32, activation=\"relu\"),\r\n",
    "    keras.layers.Dense(10, activation=\"softmax\")\r\n",
    "])\r\n",
    "\r\n",
    "model_2.compile(optimizer='adam',\r\n",
    "              loss='sparse_categorical_crossentropy',\r\n",
    "              metrics=['accuracy'])\r\n",
    "              \r\n",
    "model_2.summary()"
   ]
  },
  {
   "cell_type": "code",
   "execution_count": 139,
   "metadata": {},
   "outputs": [
    {
     "name": "stdout",
     "output_type": "stream",
     "text": [
      "Epoch 1/10\n",
      "1563/1563 [==============================] - 4s 3ms/step - loss: 1.8666 - accuracy: 0.3231\n",
      "Epoch 2/10\n",
      "1563/1563 [==============================] - 4s 3ms/step - loss: 1.6120 - accuracy: 0.4261\n",
      "Epoch 3/10\n",
      "1563/1563 [==============================] - 4s 3ms/step - loss: 1.5085 - accuracy: 0.4656\n",
      "Epoch 4/10\n",
      "1563/1563 [==============================] - 5s 3ms/step - loss: 1.4548 - accuracy: 0.4871\n",
      "Epoch 5/10\n",
      "1563/1563 [==============================] - 5s 3ms/step - loss: 1.4152 - accuracy: 0.5005\n",
      "Epoch 6/10\n",
      "1563/1563 [==============================] - 4s 3ms/step - loss: 1.3891 - accuracy: 0.5123\n",
      "Epoch 7/10\n",
      "1563/1563 [==============================] - 4s 3ms/step - loss: 1.3630 - accuracy: 0.5207\n",
      "Epoch 8/10\n",
      "1563/1563 [==============================] - 4s 3ms/step - loss: 1.3501 - accuracy: 0.5275\n",
      "Epoch 9/10\n",
      "1563/1563 [==============================] - 5s 3ms/step - loss: 1.3295 - accuracy: 0.5363\n",
      "Epoch 10/10\n",
      "1563/1563 [==============================] - 5s 3ms/step - loss: 1.3171 - accuracy: 0.5399\n"
     ]
    },
    {
     "data": {
      "text/plain": [
       "<tensorflow.python.keras.callbacks.History at 0x227b90770c8>"
      ]
     },
     "execution_count": 139,
     "metadata": {},
     "output_type": "execute_result"
    }
   ],
   "source": [
    "model_2.fit(train_images, train_labels, epochs=10)"
   ]
  },
  {
   "cell_type": "code",
   "execution_count": 140,
   "metadata": {},
   "outputs": [
    {
     "name": "stdout",
     "output_type": "stream",
     "text": [
      "313/313 - 0s - loss: 1.3425 - accuracy: 0.5336\n",
      "\n",
      "Test accuracy: 0.5335999727249146\n"
     ]
    }
   ],
   "source": [
    "# Accuracy \r\n",
    "test_loss_2, test_acc_2 = model_2.evaluate(test_images, test_labels, verbose=2)\r\n",
    "\r\n",
    "print('\\nTest accuracy:', test_acc_2)"
   ]
  },
  {
   "cell_type": "code",
   "execution_count": 141,
   "metadata": {},
   "outputs": [
    {
     "name": "stdout",
     "output_type": "stream",
     "text": [
      "The first model gives a lost of 2.3411097526550293 and the second 1.3425198793411255. The first model gives an accuracy of 0.09849999845027924 and the second 0.5335999727249146. The first model is more accurate, so an extra dense layer is not required.\n"
     ]
    }
   ],
   "source": [
    "print(f\"The first model gives a lost of {test_loss} and the second {test_loss_2}. The first model gives an accuracy of {test_acc} and the second {test_acc_2}. The first model is more accurate, so an extra dense layer is not required.\")"
   ]
  },
  {
   "cell_type": "markdown",
   "metadata": {},
   "source": [
    "### 2.\n",
    "\n",
    "Entrena la red neuronal 1 pero esta vez con las imágenes a color."
   ]
  },
  {
   "cell_type": "code",
   "execution_count": 160,
   "metadata": {},
   "outputs": [],
   "source": [
    "(train_images_3, train_labels_3), (test_images_3, test_labels_3) = data.load_data()"
   ]
  },
  {
   "cell_type": "code",
   "execution_count": 161,
   "metadata": {},
   "outputs": [
    {
     "data": {
      "text/plain": [
       "(50000, 32, 32, 3)"
      ]
     },
     "execution_count": 161,
     "metadata": {},
     "output_type": "execute_result"
    }
   ],
   "source": [
    "train_images_3.shape"
   ]
  },
  {
   "cell_type": "code",
   "execution_count": 162,
   "metadata": {},
   "outputs": [],
   "source": [
    "# Normalization\r\n",
    "train_images_3 = train_images_3 / 255.0\r\n",
    "test_images_3 = test_images_3 / 255.0"
   ]
  },
  {
   "cell_type": "code",
   "execution_count": 163,
   "metadata": {},
   "outputs": [
    {
     "name": "stdout",
     "output_type": "stream",
     "text": [
      "Model: \"sequential_14\"\n",
      "_________________________________________________________________\n",
      "Layer (type)                 Output Shape              Param #   \n",
      "=================================================================\n",
      "conv2d_14 (Conv2D)           (None, 30, 30, 8)         224       \n",
      "_________________________________________________________________\n",
      "max_pooling2d_14 (MaxPooling (None, 15, 15, 8)         0         \n",
      "_________________________________________________________________\n",
      "dropout_14 (Dropout)         (None, 15, 15, 8)         0         \n",
      "_________________________________________________________________\n",
      "flatten_14 (Flatten)         (None, 1800)              0         \n",
      "_________________________________________________________________\n",
      "dense_29 (Dense)             (None, 32)                57632     \n",
      "_________________________________________________________________\n",
      "dense_30 (Dense)             (None, 10)                330       \n",
      "=================================================================\n",
      "Total params: 58,186\n",
      "Trainable params: 58,186\n",
      "Non-trainable params: 0\n",
      "_________________________________________________________________\n"
     ]
    }
   ],
   "source": [
    "# model 3\r\n",
    "model_3 = keras.Sequential([\r\n",
    "    keras.layers.Conv2D(filters=8, \r\n",
    "                        kernel_size=(3, 3), \r\n",
    "                        input_shape=(32, 32, 3), \r\n",
    "                        padding=\"valid\"),\r\n",
    "    keras.layers.MaxPooling2D(2, 2),\r\n",
    "    keras.layers.Dropout(0.25),\r\n",
    "    keras.layers.Flatten(),\r\n",
    "    keras.layers.Dense(32, activation=\"relu\"),\r\n",
    "    keras.layers.Dense(10, activation=\"softmax\")\r\n",
    "])\r\n",
    "\r\n",
    "model_3.compile(optimizer='adam',\r\n",
    "              loss='sparse_categorical_crossentropy',\r\n",
    "              metrics=['accuracy'])\r\n",
    "              \r\n",
    "model_3.summary()"
   ]
  },
  {
   "cell_type": "code",
   "execution_count": 164,
   "metadata": {},
   "outputs": [
    {
     "name": "stdout",
     "output_type": "stream",
     "text": [
      "Epoch 1/10\n",
      "1563/1563 [==============================] - 7s 4ms/step - loss: 1.6263 - accuracy: 0.4261\n",
      "Epoch 2/10\n",
      "1563/1563 [==============================] - 7s 4ms/step - loss: 1.4040 - accuracy: 0.5073\n",
      "Epoch 3/10\n",
      "1563/1563 [==============================] - 7s 4ms/step - loss: 1.2973 - accuracy: 0.5458\n",
      "Epoch 4/10\n",
      "1563/1563 [==============================] - 7s 4ms/step - loss: 1.2333 - accuracy: 0.5669\n",
      "Epoch 5/10\n",
      "1563/1563 [==============================] - 6s 4ms/step - loss: 1.1848 - accuracy: 0.5848\n",
      "Epoch 6/10\n",
      "1563/1563 [==============================] - 6s 4ms/step - loss: 1.1519 - accuracy: 0.5976\n",
      "Epoch 7/10\n",
      "1563/1563 [==============================] - 7s 4ms/step - loss: 1.1219 - accuracy: 0.6037\n",
      "Epoch 8/10\n",
      "1563/1563 [==============================] - 7s 4ms/step - loss: 1.0990 - accuracy: 0.6161\n",
      "Epoch 9/10\n",
      "1563/1563 [==============================] - 7s 4ms/step - loss: 1.0798 - accuracy: 0.6217\n",
      "Epoch 10/10\n",
      "1563/1563 [==============================] - 7s 4ms/step - loss: 1.0626 - accuracy: 0.6266\n"
     ]
    },
    {
     "data": {
      "text/plain": [
       "<tensorflow.python.keras.callbacks.History at 0x227b92f3e88>"
      ]
     },
     "execution_count": 164,
     "metadata": {},
     "output_type": "execute_result"
    }
   ],
   "source": [
    "model_3.fit(train_images_3, train_labels_3, epochs=10)"
   ]
  },
  {
   "cell_type": "code",
   "execution_count": 166,
   "metadata": {},
   "outputs": [
    {
     "name": "stdout",
     "output_type": "stream",
     "text": [
      "313/313 - 1s - loss: 1.1572 - accuracy: 0.5914\n",
      "\n",
      "Test accuracy: 0.5914000272750854\n"
     ]
    }
   ],
   "source": [
    "# Accuracy \r\n",
    "test_loss_3, test_acc_3 = model_3.evaluate(test_images_3, test_labels_3, verbose=2)\r\n",
    "\r\n",
    "print('\\nTest accuracy:', test_acc_3)"
   ]
  },
  {
   "cell_type": "code",
   "execution_count": null,
   "metadata": {},
   "outputs": [],
   "source": []
  }
 ],
 "metadata": {
  "interpreter": {
   "hash": "2d8a740277f67c33143a8e5c8e55f738530a350d8def4a85d8635b690074994c"
  },
  "kernelspec": {
   "display_name": "Python 3.7.4 64-bit",
   "name": "python3"
  },
  "language_info": {
   "codemirror_mode": {
    "name": "ipython",
    "version": 3
   },
   "file_extension": ".py",
   "mimetype": "text/x-python",
   "name": "python",
   "nbconvert_exporter": "python",
   "pygments_lexer": "ipython3",
   "version": "3.7.4"
  },
  "orig_nbformat": 2
 },
 "nbformat": 4,
 "nbformat_minor": 2
}