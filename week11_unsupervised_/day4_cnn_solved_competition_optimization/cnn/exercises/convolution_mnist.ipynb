{
 "cells": [
  {
   "cell_type": "markdown",
   "metadata": {},
   "source": [
    "A partir del dataset mnist (tf.keras.datasets.mnist.load_data()), realiza una clasificación usando:\n",
    "\n",
    "1. Una CNN con:\n",
    "    - 1 capa convolutiva con 8 neuronas\n",
    "    - 1 MaxPool quedando las dimensiones de la imagen a la mitad\n",
    "    - 1 dropout 0.25\n",
    "    - 1 Flatten\n",
    "    - 1 dense con 32 neuronas\n",
    "    - 1 dense con 10 (salida)\n",
    "\n",
    "2. Una CNN con:\n",
    "    - 1 capa convolutiva con 8 neuronas\n",
    "    - 1 MaxPool quedando las dimensiones de la imagen a la mitad\n",
    "    - 1 dropout 0.25\n",
    "    - 1 Flatten\n",
    "    - 1 dense con 16 neuronas\n",
    "    - 1 dense con 32 neuronas\n",
    "    - 1 dense con 10 (salida)\n",
    "\n",
    "¿ Cuál ha dado mejor resultado?\n",
    "\n",
    "Para compilar el modelo, usa:"
   ]
  },
  {
   "cell_type": "code",
   "execution_count": 24,
   "metadata": {},
   "outputs": [],
   "source": [
    "#model.compile(optimizer='adam',\r\n",
    " #             loss='sparse_categorical_crossentropy',\r\n",
    "  #            metrics=['accuracy'])"
   ]
  },
  {
   "cell_type": "code",
   "execution_count": 25,
   "metadata": {},
   "outputs": [
    {
     "name": "stdout",
     "output_type": "stream",
     "text": [
      "2.5.0\n"
     ]
    }
   ],
   "source": [
    "# TensorFlow y tf.keras\r\n",
    "import tensorflow as tf\r\n",
    "from tensorflow import keras\r\n",
    "from keras.layers import Dropout\r\n",
    "\r\n",
    "# Librerias de ayuda\r\n",
    "import numpy as np\r\n",
    "import matplotlib.pyplot as plt\r\n",
    "\r\n",
    "print(tf.__version__)"
   ]
  },
  {
   "cell_type": "code",
   "execution_count": 26,
   "metadata": {},
   "outputs": [],
   "source": [
    "data = keras.datasets.mnist\n",
    "#print(keras.datasets.mnist.load_data())\n",
    "(train_images, train_labels), (test_images, test_labels) = data.load_data()"
   ]
  },
  {
   "cell_type": "code",
   "execution_count": 27,
   "metadata": {},
   "outputs": [
    {
     "name": "stdout",
     "output_type": "stream",
     "text": [
      "train images shape: (60000, 28, 28)\n",
      "train labes shape: (60000,)\n",
      "test images shape: (10000, 28, 28)\n",
      "test labes shape: (10000,)\n"
     ]
    }
   ],
   "source": [
    "# data analysis\n",
    "print(f\"train images shape: {train_images.shape}\")\n",
    "print(f\"train labes shape: {train_labels.shape}\")\n",
    "\n",
    "print(f\"test images shape: {test_images.shape}\")\n",
    "print(f\"test labes shape: {test_labels.shape}\")"
   ]
  },
  {
   "cell_type": "code",
   "execution_count": 28,
   "metadata": {},
   "outputs": [
    {
     "data": {
      "text/plain": [
       "array([0, 0, 0, 0, 0, 0, 0, 0, 0, 0, 0, 0, 0, 0, 0, 0, 0, 0, 0, 0, 0, 0,\n",
       "       0, 0, 0, 0, 0, 0], dtype=uint8)"
      ]
     },
     "execution_count": 28,
     "metadata": {},
     "output_type": "execute_result"
    }
   ],
   "source": [
    "train_images[0][0]"
   ]
  },
  {
   "cell_type": "code",
   "execution_count": 29,
   "metadata": {},
   "outputs": [
    {
     "data": {
      "text/plain": [
       "array([5, 0, 4, ..., 5, 6, 8], dtype=uint8)"
      ]
     },
     "execution_count": 29,
     "metadata": {},
     "output_type": "execute_result"
    }
   ],
   "source": [
    "train_labels"
   ]
  },
  {
   "cell_type": "code",
   "execution_count": 30,
   "metadata": {},
   "outputs": [
    {
     "data": {
      "image/png": "[encoded data removed]",
      "text/plain": [
       "<Figure size 432x288 with 2 Axes>"
      ]
     },
     "metadata": {
      "needs_background": "light"
     },
     "output_type": "display_data"
    }
   ],
   "source": [
    "# Visualization. Pixeles go from 0 to 255\n",
    "plt.figure()\n",
    "plt.imshow(train_images[0], cmap=plt.cm.gray)\n",
    "plt.colorbar()\n",
    "plt.grid(False)\n",
    "\n",
    "plt.show()"
   ]
  },
  {
   "cell_type": "code",
   "execution_count": 31,
   "metadata": {},
   "outputs": [],
   "source": [
    "# Standarization to keep all values between 0 to 1 (rather than 0 to 255)\n",
    "train_images = train_images / 255.0\n",
    "test_images = test_images / 255.0"
   ]
  },
  {
   "cell_type": "markdown",
   "metadata": {},
   "source": [
    "1. Una CNN con:\n",
    "\n",
    "1 capa convolutiva con 8 neuronas\n",
    "\n",
    "1 MaxPool quedando las dimensiones de la imagen a la mitad\n",
    "\n",
    "1 dropout 0.25\n",
    "\n",
    "1 Flatten\n",
    "\n",
    "1 dense con 32 neuronas\n",
    "\n",
    "1 dense con 10 (salida)"
   ]
  },
  {
   "cell_type": "code",
   "execution_count": 32,
   "metadata": {},
   "outputs": [
    {
     "data": {
      "text/plain": [
       "(60000, 28, 28)"
      ]
     },
     "execution_count": 32,
     "metadata": {},
     "output_type": "execute_result"
    }
   ],
   "source": [
    "train_images.shape"
   ]
  },
  {
   "cell_type": "code",
   "execution_count": 33,
   "metadata": {},
   "outputs": [
    {
     "name": "stdout",
     "output_type": "stream",
     "text": [
      "Model: \"sequential_5\"\n",
      "_________________________________________________________________\n",
      "Layer (type)                 Output Shape              Param #   \n",
      "=================================================================\n",
      "conv2d_5 (Conv2D)            (None, 26, 26, 8)         80        \n",
      "_________________________________________________________________\n",
      "max_pooling2d_5 (MaxPooling2 (None, 13, 13, 8)         0         \n",
      "_________________________________________________________________\n",
      "dropout_5 (Dropout)          (None, 13, 13, 8)         0         \n",
      "_________________________________________________________________\n",
      "flatten_5 (Flatten)          (None, 1352)              0         \n",
      "_________________________________________________________________\n",
      "dense_14 (Dense)             (None, 32)                43296     \n",
      "_________________________________________________________________\n",
      "dense_15 (Dense)             (None, 10)                330       \n",
      "=================================================================\n",
      "Total params: 43,706\n",
      "Trainable params: 43,706\n",
      "Non-trainable params: 0\n",
      "_________________________________________________________________\n"
     ]
    }
   ],
   "source": [
    "# model\r\n",
    "model = keras.Sequential([\r\n",
    "    keras.layers.Conv2D(filters=8, \r\n",
    "                        kernel_size=(3, 3), \r\n",
    "                        input_shape=(28, 28, 1), \r\n",
    "                        padding=\"valid\"),\r\n",
    "    keras.layers.MaxPooling2D(2, 2),\r\n",
    "    keras.layers.Dropout(0.25),\r\n",
    "    keras.layers.Flatten(),\r\n",
    "    keras.layers.Dense(32, activation=\"relu\"),\r\n",
    "    keras.layers.Dense(10, activation=\"softmax\")\r\n",
    "])\r\n",
    "model.summary()\r\n"
   ]
  },
  {
   "cell_type": "code",
   "execution_count": 34,
   "metadata": {},
   "outputs": [],
   "source": [
    "model.compile(optimizer='adam',\n",
    "              loss='sparse_categorical_crossentropy',\n",
    "              metrics=['accuracy'])"
   ]
  },
  {
   "cell_type": "code",
   "execution_count": 35,
   "metadata": {},
   "outputs": [
    {
     "name": "stdout",
     "output_type": "stream",
     "text": [
      "(60000, 28, 28, 1)\n"
     ]
    }
   ],
   "source": [
    "train_images = np.expand_dims(train_images, axis=-1) \r\n",
    "print(train_images.shape)\r\n"
   ]
  },
  {
   "cell_type": "code",
   "execution_count": 36,
   "metadata": {},
   "outputs": [
    {
     "name": "stdout",
     "output_type": "stream",
     "text": [
      "Epoch 1/10\n",
      "1875/1875 [==============================] - 5s 3ms/step - loss: 0.3083 - accuracy: 0.9102\n",
      "Epoch 2/10\n",
      "1875/1875 [==============================] - 5s 3ms/step - loss: 0.1545 - accuracy: 0.9530\n",
      "Epoch 3/10\n",
      "1875/1875 [==============================] - 5s 3ms/step - loss: 0.1181 - accuracy: 0.9635\n",
      "Epoch 4/10\n",
      "1875/1875 [==============================] - 5s 3ms/step - loss: 0.1022 - accuracy: 0.9683\n",
      "Epoch 5/10\n",
      "1875/1875 [==============================] - 5s 3ms/step - loss: 0.0886 - accuracy: 0.9727\n",
      "Epoch 6/10\n",
      "1875/1875 [==============================] - 5s 3ms/step - loss: 0.0802 - accuracy: 0.9741\n",
      "Epoch 7/10\n",
      "1875/1875 [==============================] - 5s 3ms/step - loss: 0.0735 - accuracy: 0.9766\n",
      "Epoch 8/10\n",
      "1875/1875 [==============================] - 5s 3ms/step - loss: 0.0656 - accuracy: 0.9791\n",
      "Epoch 9/10\n",
      "1875/1875 [==============================] - 5s 3ms/step - loss: 0.0613 - accuracy: 0.9802\n",
      "Epoch 10/10\n",
      "1875/1875 [==============================] - 6s 3ms/step - loss: 0.0572 - accuracy: 0.9815\n"
     ]
    },
    {
     "data": {
      "text/plain": [
       "<tensorflow.python.keras.callbacks.History at 0x225e8553288>"
      ]
     },
     "execution_count": 36,
     "metadata": {},
     "output_type": "execute_result"
    }
   ],
   "source": [
    "# training the model\n",
    "model.fit(train_images, train_labels, epochs=10)"
   ]
  },
  {
   "cell_type": "code",
   "execution_count": 37,
   "metadata": {},
   "outputs": [
    {
     "name": "stdout",
     "output_type": "stream",
     "text": [
      "313/313 - 0s - loss: 0.0578 - accuracy: 0.9825\n",
      "\n",
      "Test accuracy: 0.9825000166893005\n"
     ]
    }
   ],
   "source": [
    "# Accuracy \r\n",
    "test_images = np.expand_dims(test_images, axis=-1) \r\n",
    "test_loss, test_acc = model.evaluate(test_images,  test_labels, verbose=2)\r\n",
    "\r\n",
    "print('\\nTest accuracy:', test_acc)"
   ]
  },
  {
   "cell_type": "code",
   "execution_count": null,
   "metadata": {},
   "outputs": [],
   "source": []
  },
  {
   "cell_type": "markdown",
   "metadata": {},
   "source": [
    "2. Una CNN con:\n",
    "\n",
    "1 capa convolutiva con 8 neuronas\n",
    "\n",
    "1 MaxPool quedando las dimensiones de la imagen a la mitad\n",
    "\n",
    "1 dropout 0.25\n",
    "\n",
    "1 Flatten\n",
    "\n",
    "1 dense con 16 neuronas\n",
    "\n",
    "1 dense con 32 neuronas\n",
    "\n",
    "1 dense con 10 (salida)"
   ]
  },
  {
   "cell_type": "code",
   "execution_count": 38,
   "metadata": {},
   "outputs": [
    {
     "name": "stdout",
     "output_type": "stream",
     "text": [
      "Model: \"sequential_6\"\n",
      "_________________________________________________________________\n",
      "Layer (type)                 Output Shape              Param #   \n",
      "=================================================================\n",
      "conv2d_6 (Conv2D)            (None, 26, 26, 8)         80        \n",
      "_________________________________________________________________\n",
      "max_pooling2d_6 (MaxPooling2 (None, 13, 13, 8)         0         \n",
      "_________________________________________________________________\n",
      "dropout_6 (Dropout)          (None, 13, 13, 8)         0         \n",
      "_________________________________________________________________\n",
      "flatten_6 (Flatten)          (None, 1352)              0         \n",
      "_________________________________________________________________\n",
      "dense_16 (Dense)             (None, 16)                21648     \n",
      "_________________________________________________________________\n",
      "dense_17 (Dense)             (None, 32)                544       \n",
      "_________________________________________________________________\n",
      "dense_18 (Dense)             (None, 10)                330       \n",
      "=================================================================\n",
      "Total params: 22,602\n",
      "Trainable params: 22,602\n",
      "Non-trainable params: 0\n",
      "_________________________________________________________________\n",
      "None\n"
     ]
    }
   ],
   "source": [
    "# model\r\n",
    "model_1 = keras.Sequential([\r\n",
    "    keras.layers.Conv2D(filters=8, \r\n",
    "                        kernel_size=(3, 3), \r\n",
    "                        input_shape=(28, 28, 1), \r\n",
    "                        padding=\"valid\"),\r\n",
    "    keras.layers.MaxPooling2D(2, 2),\r\n",
    "    keras.layers.Dropout(0.25),\r\n",
    "    keras.layers.Flatten(),\r\n",
    "    keras.layers.Dense(16, activation=\"relu\"),\r\n",
    "    keras.layers.Dense(32, activation=\"relu\"),\r\n",
    "    keras.layers.Dense(10, activation=\"softmax\")\r\n",
    "])\r\n",
    "print(model_1.summary())\r\n",
    "\r\n",
    "model_1.compile(optimizer='adam',\r\n",
    "              loss='sparse_categorical_crossentropy',\r\n",
    "              metrics=['accuracy'])\r\n"
   ]
  },
  {
   "cell_type": "code",
   "execution_count": 39,
   "metadata": {},
   "outputs": [
    {
     "name": "stdout",
     "output_type": "stream",
     "text": [
      "Epoch 1/10\n",
      "1875/1875 [==============================] - 5s 3ms/step - loss: 0.3830 - accuracy: 0.8818\n",
      "Epoch 2/10\n",
      "1875/1875 [==============================] - 5s 3ms/step - loss: 0.1946 - accuracy: 0.9405\n",
      "Epoch 3/10\n",
      "1875/1875 [==============================] - 5s 3ms/step - loss: 0.1607 - accuracy: 0.9506\n",
      "Epoch 4/10\n",
      "1875/1875 [==============================] - 5s 3ms/step - loss: 0.1384 - accuracy: 0.9574\n",
      "Epoch 5/10\n",
      "1875/1875 [==============================] - 5s 3ms/step - loss: 0.1218 - accuracy: 0.9631\n",
      "Epoch 6/10\n",
      "1875/1875 [==============================] - 5s 3ms/step - loss: 0.1094 - accuracy: 0.9657\n",
      "Epoch 7/10\n",
      "1875/1875 [==============================] - 5s 3ms/step - loss: 0.0999 - accuracy: 0.9694\n",
      "Epoch 8/10\n",
      "1875/1875 [==============================] - 5s 3ms/step - loss: 0.0907 - accuracy: 0.9715\n",
      "Epoch 9/10\n",
      "1875/1875 [==============================] - 5s 3ms/step - loss: 0.0868 - accuracy: 0.9730\n",
      "Epoch 10/10\n",
      "1875/1875 [==============================] - 5s 3ms/step - loss: 0.0818 - accuracy: 0.9737\n"
     ]
    },
    {
     "data": {
      "text/plain": [
       "<tensorflow.python.keras.callbacks.History at 0x225e7f015c8>"
      ]
     },
     "execution_count": 39,
     "metadata": {},
     "output_type": "execute_result"
    }
   ],
   "source": [
    "model_1.fit(train_images, train_labels, epochs=10)"
   ]
  },
  {
   "cell_type": "code",
   "execution_count": 40,
   "metadata": {},
   "outputs": [
    {
     "name": "stdout",
     "output_type": "stream",
     "text": [
      "313/313 - 0s - loss: 0.0649 - accuracy: 0.9797\n",
      "\n",
      "Test accuracy: 0.9797000288963318\n"
     ]
    }
   ],
   "source": [
    "# Accuracy \r\n",
    "test_loss_1, test_acc_1 = model_1.evaluate(test_images, test_labels, verbose=2)\r\n",
    "\r\n",
    "print('\\nTest accuracy:', test_acc_1)"
   ]
  },
  {
   "cell_type": "code",
   "execution_count": 42,
   "metadata": {},
   "outputs": [
    {
     "name": "stdout",
     "output_type": "stream",
     "text": [
      "The first model gives a lost of 0.05776936560869217 and the second 0.06487603485584259. The first model gives an accuracy of 0.9825000166893005 and the second 0.9797000288963318. The first model is more accurate, so an extra dense layer is not required.\n"
     ]
    }
   ],
   "source": [
    "print(f\"The first model gives a lost of {test_loss} and the second {test_loss_1}. The first model gives an accuracy of {test_acc} and the second {test_acc_1}. The first model is more accurate, so an extra dense layer is not required.\")"
   ]
  },
  {
   "cell_type": "code",
   "execution_count": null,
   "metadata": {},
   "outputs": [],
   "source": []
  },
  {
   "cell_type": "code",
   "execution_count": null,
   "metadata": {},
   "outputs": [],
   "source": []
  },
  {
   "cell_type": "code",
   "execution_count": null,
   "metadata": {},
   "outputs": [],
   "source": []
  },
  {
   "cell_type": "code",
   "execution_count": null,
   "metadata": {},
   "outputs": [],
   "source": []
  },
  {
   "cell_type": "code",
   "execution_count": null,
   "metadata": {},
   "outputs": [],
   "source": []
  },
  {
   "cell_type": "code",
   "execution_count": null,
   "metadata": {},
   "outputs": [],
   "source": []
  }
 ],
 "metadata": {
  "interpreter": {
   "hash": "2d8a740277f67c33143a8e5c8e55f738530a350d8def4a85d8635b690074994c"
  },
  "kernelspec": {
   "display_name": "Python 3.7.4 64-bit",
   "name": "python3"
  },
  "language_info": {
   "codemirror_mode": {
    "name": "ipython",
    "version": 3
   },
   "file_extension": ".py",
   "mimetype": "text/x-python",
   "name": "python",
   "nbconvert_exporter": "python",
   "pygments_lexer": "ipython3",
   "version": "3.7.4"
  },
  "orig_nbformat": 2
 },
 "nbformat": 4,
 "nbformat_minor": 2
}